{
 "cells": [
  {
   "cell_type": "markdown",
   "metadata": {},
   "source": [
    "# Tidy messy table\n",
    "\n",
    "Tides messy table with states regions and divisions"
   ]
  },
  {
   "cell_type": "code",
   "execution_count": 99,
   "metadata": {},
   "outputs": [],
   "source": [
    "import pandas as pd"
   ]
  },
  {
   "cell_type": "code",
   "execution_count": 100,
   "metadata": {},
   "outputs": [
    {
     "name": "stdout",
     "output_type": "stream",
     "text": [
      "state_abb.csv                        us_regions_divisions.csv\r\n",
      "tidy_messytable_state_reg_div.ipynb\r\n"
     ]
    }
   ],
   "source": [
    "%ls"
   ]
  },
  {
   "cell_type": "code",
   "execution_count": 101,
   "metadata": {},
   "outputs": [],
   "source": [
    "# load data\n",
    "f = pd.read_csv('us_regions_divisions.csv', sep=';', header=None, names=['state'])[:-1]"
   ]
  },
  {
   "cell_type": "code",
   "execution_count": 102,
   "metadata": {},
   "outputs": [
    {
     "data": {
      "text/html": [
       "<div>\n",
       "<style scoped>\n",
       "    .dataframe tbody tr th:only-of-type {\n",
       "        vertical-align: middle;\n",
       "    }\n",
       "\n",
       "    .dataframe tbody tr th {\n",
       "        vertical-align: top;\n",
       "    }\n",
       "\n",
       "    .dataframe thead th {\n",
       "        text-align: right;\n",
       "    }\n",
       "</style>\n",
       "<table border=\"1\" class=\"dataframe\">\n",
       "  <thead>\n",
       "    <tr style=\"text-align: right;\">\n",
       "      <th></th>\n",
       "      <th>state</th>\n",
       "    </tr>\n",
       "  </thead>\n",
       "  <tbody>\n",
       "    <tr>\n",
       "      <th>0</th>\n",
       "      <td>Region I: Northeast</td>\n",
       "    </tr>\n",
       "    <tr>\n",
       "      <th>1</th>\n",
       "      <td>Division I: New England</td>\n",
       "    </tr>\n",
       "    <tr>\n",
       "      <th>2</th>\n",
       "      <td>Connecticut (09) Maine (23) Massachusetts (25)...</td>\n",
       "    </tr>\n",
       "  </tbody>\n",
       "</table>\n",
       "</div>"
      ],
      "text/plain": [
       "                                               state\n",
       "0                               Region I: Northeast \n",
       "1                           Division I: New England \n",
       "2  Connecticut (09) Maine (23) Massachusetts (25)..."
      ]
     },
     "execution_count": 102,
     "metadata": {},
     "output_type": "execute_result"
    }
   ],
   "source": [
    "f.head(3)"
   ]
  },
  {
   "cell_type": "code",
   "execution_count": 103,
   "metadata": {
    "scrolled": true
   },
   "outputs": [],
   "source": [
    "# new columns for region and division\n",
    "f['region'] = f.state.str.extract('Region (.*)') # extract string inside (). \".*\" means all\n",
    "f['division'] = f.state.str.extract('Division (.*)')"
   ]
  },
  {
   "cell_type": "code",
   "execution_count": 104,
   "metadata": {},
   "outputs": [
    {
     "data": {
      "text/html": [
       "<div>\n",
       "<style scoped>\n",
       "    .dataframe tbody tr th:only-of-type {\n",
       "        vertical-align: middle;\n",
       "    }\n",
       "\n",
       "    .dataframe tbody tr th {\n",
       "        vertical-align: top;\n",
       "    }\n",
       "\n",
       "    .dataframe thead th {\n",
       "        text-align: right;\n",
       "    }\n",
       "</style>\n",
       "<table border=\"1\" class=\"dataframe\">\n",
       "  <thead>\n",
       "    <tr style=\"text-align: right;\">\n",
       "      <th></th>\n",
       "      <th>state</th>\n",
       "      <th>region</th>\n",
       "      <th>division</th>\n",
       "    </tr>\n",
       "  </thead>\n",
       "  <tbody>\n",
       "    <tr>\n",
       "      <th>0</th>\n",
       "      <td>Region I: Northeast</td>\n",
       "      <td>I: Northeast</td>\n",
       "      <td>NaN</td>\n",
       "    </tr>\n",
       "    <tr>\n",
       "      <th>1</th>\n",
       "      <td>Division I: New England</td>\n",
       "      <td>NaN</td>\n",
       "      <td>I: New England</td>\n",
       "    </tr>\n",
       "    <tr>\n",
       "      <th>2</th>\n",
       "      <td>Connecticut (09) Maine (23) Massachusetts (25)...</td>\n",
       "      <td>NaN</td>\n",
       "      <td>NaN</td>\n",
       "    </tr>\n",
       "  </tbody>\n",
       "</table>\n",
       "</div>"
      ],
      "text/plain": [
       "                                               state         region  \\\n",
       "0                               Region I: Northeast   I: Northeast    \n",
       "1                           Division I: New England             NaN   \n",
       "2  Connecticut (09) Maine (23) Massachusetts (25)...            NaN   \n",
       "\n",
       "          division  \n",
       "0              NaN  \n",
       "1  I: New England   \n",
       "2              NaN  "
      ]
     },
     "execution_count": 104,
     "metadata": {},
     "output_type": "execute_result"
    }
   ],
   "source": [
    "f.head(3)"
   ]
  },
  {
   "cell_type": "code",
   "execution_count": 105,
   "metadata": {
    "scrolled": false
   },
   "outputs": [
    {
     "data": {
      "text/html": [
       "<div>\n",
       "<style scoped>\n",
       "    .dataframe tbody tr th:only-of-type {\n",
       "        vertical-align: middle;\n",
       "    }\n",
       "\n",
       "    .dataframe tbody tr th {\n",
       "        vertical-align: top;\n",
       "    }\n",
       "\n",
       "    .dataframe thead th {\n",
       "        text-align: right;\n",
       "    }\n",
       "</style>\n",
       "<table border=\"1\" class=\"dataframe\">\n",
       "  <thead>\n",
       "    <tr style=\"text-align: right;\">\n",
       "      <th></th>\n",
       "      <th>state</th>\n",
       "      <th>region</th>\n",
       "      <th>division</th>\n",
       "    </tr>\n",
       "  </thead>\n",
       "  <tbody>\n",
       "    <tr>\n",
       "      <th>0</th>\n",
       "      <td>Region I: Northeast</td>\n",
       "      <td>I: Northeast</td>\n",
       "      <td>NaN</td>\n",
       "    </tr>\n",
       "    <tr>\n",
       "      <th>1</th>\n",
       "      <td>Division I: New England</td>\n",
       "      <td>I: Northeast</td>\n",
       "      <td>I: New England</td>\n",
       "    </tr>\n",
       "    <tr>\n",
       "      <th>2</th>\n",
       "      <td>Connecticut (09) Maine (23) Massachusetts (25)...</td>\n",
       "      <td>I: Northeast</td>\n",
       "      <td>I: New England</td>\n",
       "    </tr>\n",
       "    <tr>\n",
       "      <th>3</th>\n",
       "      <td>Division 2: Middle Atlantic</td>\n",
       "      <td>I: Northeast</td>\n",
       "      <td>2: Middle Atlantic</td>\n",
       "    </tr>\n",
       "    <tr>\n",
       "      <th>4</th>\n",
       "      <td>New Jersey (34) NewYork(36) Pennsylvania (42)</td>\n",
       "      <td>I: Northeast</td>\n",
       "      <td>2: Middle Atlantic</td>\n",
       "    </tr>\n",
       "  </tbody>\n",
       "</table>\n",
       "</div>"
      ],
      "text/plain": [
       "                                               state         region  \\\n",
       "0                               Region I: Northeast   I: Northeast    \n",
       "1                           Division I: New England   I: Northeast    \n",
       "2  Connecticut (09) Maine (23) Massachusetts (25)...  I: Northeast    \n",
       "3                       Division 2: Middle Atlantic   I: Northeast    \n",
       "4     New Jersey (34) NewYork(36) Pennsylvania (42)   I: Northeast    \n",
       "\n",
       "              division  \n",
       "0                  NaN  \n",
       "1      I: New England   \n",
       "2      I: New England   \n",
       "3  2: Middle Atlantic   \n",
       "4  2: Middle Atlantic   "
      ]
     },
     "execution_count": 105,
     "metadata": {},
     "output_type": "execute_result"
    }
   ],
   "source": [
    "# fill forward empty cells\n",
    "f.fillna(method='ffill', inplace=True)\n",
    "f.head()"
   ]
  },
  {
   "cell_type": "code",
   "execution_count": 106,
   "metadata": {
    "scrolled": false
   },
   "outputs": [
    {
     "data": {
      "text/html": [
       "<div>\n",
       "<style scoped>\n",
       "    .dataframe tbody tr th:only-of-type {\n",
       "        vertical-align: middle;\n",
       "    }\n",
       "\n",
       "    .dataframe tbody tr th {\n",
       "        vertical-align: top;\n",
       "    }\n",
       "\n",
       "    .dataframe thead th {\n",
       "        text-align: right;\n",
       "    }\n",
       "</style>\n",
       "<table border=\"1\" class=\"dataframe\">\n",
       "  <thead>\n",
       "    <tr style=\"text-align: right;\">\n",
       "      <th></th>\n",
       "      <th>state</th>\n",
       "      <th>region</th>\n",
       "      <th>division</th>\n",
       "      <th>Region</th>\n",
       "      <th>Division</th>\n",
       "      <th>State</th>\n",
       "    </tr>\n",
       "  </thead>\n",
       "  <tbody>\n",
       "    <tr>\n",
       "      <th>2</th>\n",
       "      <td>Connecticut (09) Maine (23) Massachusetts (25)...</td>\n",
       "      <td>I: Northeast</td>\n",
       "      <td>I: New England</td>\n",
       "      <td>Northeast</td>\n",
       "      <td>New England</td>\n",
       "      <td>[Connecticut,  Maine,  Massachusetts,  New Ham...</td>\n",
       "    </tr>\n",
       "    <tr>\n",
       "      <th>4</th>\n",
       "      <td>New Jersey (34) NewYork(36) Pennsylvania (42)</td>\n",
       "      <td>I: Northeast</td>\n",
       "      <td>2: Middle Atlantic</td>\n",
       "      <td>Northeast</td>\n",
       "      <td>Middle Atlantic</td>\n",
       "      <td>[New Jersey,  NewYork,  Pennsylvania,  ]</td>\n",
       "    </tr>\n",
       "    <tr>\n",
       "      <th>7</th>\n",
       "      <td>Indiana (18) Illinois (17) Michigan (26) Ohio ...</td>\n",
       "      <td>2: Midwest*</td>\n",
       "      <td>3: East North Central</td>\n",
       "      <td>Midwest*</td>\n",
       "      <td>East North Central</td>\n",
       "      <td>[Indiana,  Illinois,  Michigan,  Ohio,  Wiscon...</td>\n",
       "    </tr>\n",
       "  </tbody>\n",
       "</table>\n",
       "</div>"
      ],
      "text/plain": [
       "                                               state         region  \\\n",
       "2  Connecticut (09) Maine (23) Massachusetts (25)...  I: Northeast    \n",
       "4     New Jersey (34) NewYork(36) Pennsylvania (42)   I: Northeast    \n",
       "7  Indiana (18) Illinois (17) Michigan (26) Ohio ...   2: Midwest*    \n",
       "\n",
       "                 division       Region              Division  \\\n",
       "2         I: New England    Northeast           New England    \n",
       "4     2: Middle Atlantic    Northeast       Middle Atlantic    \n",
       "7  3: East North Central     Midwest*    East North Central    \n",
       "\n",
       "                                               State  \n",
       "2  [Connecticut,  Maine,  Massachusetts,  New Ham...  \n",
       "4           [New Jersey,  NewYork,  Pennsylvania,  ]  \n",
       "7  [Indiana,  Illinois,  Michigan,  Ohio,  Wiscon...  "
      ]
     },
     "execution_count": 106,
     "metadata": {},
     "output_type": "execute_result"
    }
   ],
   "source": [
    "#### copy keep if it works\n",
    "\n",
    "# extract text after colon (the names we want)\n",
    "f['Region'] = f.region.str.extract(r'.*:(.*)')\n",
    "f['Division'] = f.division.str.extract(r'.*:(.*)')\n",
    "\n",
    "# extract state fips codes - will be added later, when rows are unique for each state\n",
    "fips = f.state.str.extractall('\\(([0-9]+)\\)')\n",
    "fips.reset_index(inplace=True, drop=True)\n",
    "\n",
    "# for each state row, split states on numbers\n",
    "f['State'] = f.state.str.split(r' ?\\([0-9]+\\)')\n",
    "\n",
    "# drop rows originally for Region and Division\n",
    "f = f[~(f.state.str.match('Region') |f.state.str.match('Division'))]\n",
    "\n",
    "\n",
    "f.head(3)"
   ]
  },
  {
   "cell_type": "code",
   "execution_count": 107,
   "metadata": {
    "scrolled": true
   },
   "outputs": [],
   "source": [
    "# get rid of auxiliary columns and reset index\n",
    "f.drop(['region', 'division', 'state'],1, inplace= True)\n",
    "f.reset_index(drop=True, inplace=True)"
   ]
  },
  {
   "cell_type": "code",
   "execution_count": 108,
   "metadata": {},
   "outputs": [],
   "source": [
    "# make lists to concatenate each group of state and repeat reg/division accordingly\n",
    "s=[]\n",
    "d=[]\n",
    "r=[]\n",
    "for _ in range(len(f)):\n",
    "    s +=  (f.State.iloc[_])[:-1]\n",
    "    d += ([f.Division.iloc[_]] * (len(f.State.iloc[_])-1))\n",
    "    r += ([f.Region.iloc[_]] * (len(f.State.iloc[_])-1))"
   ]
  },
  {
   "cell_type": "code",
   "execution_count": 109,
   "metadata": {},
   "outputs": [],
   "source": [
    "# make dataframe and final clean\n",
    "df = pd.DataFrame([s,d,r]).T.head(60)\n",
    "df.columns = ['state', 'division', 'region']\n",
    "df.region=df.region.str.replace('\\*', '') # Midwest* (had an asterisk)\n",
    "df.state = df.state.str.replace(r\"(\\S)([A-Z])\", r\"\\1 \\2\") # NewYork and RhodeIsland (missed space btw words)\n",
    "df = df.applymap(lambda x: x.strip() if isinstance(x, str) else x)"
   ]
  },
  {
   "cell_type": "code",
   "execution_count": 111,
   "metadata": {},
   "outputs": [],
   "source": [
    "df['StateCodeFIPS'] = fips"
   ]
  },
  {
   "cell_type": "code",
   "execution_count": 113,
   "metadata": {
    "scrolled": true
   },
   "outputs": [],
   "source": [
    "df.to_csv('../output/state_reg_div.csv', index=False)"
   ]
  },
  {
   "cell_type": "code",
   "execution_count": null,
   "metadata": {},
   "outputs": [],
   "source": []
  }
 ],
 "metadata": {
  "kernelspec": {
   "display_name": "Python 3",
   "language": "python",
   "name": "python3"
  },
  "language_info": {
   "codemirror_mode": {
    "name": "ipython",
    "version": 3
   },
   "file_extension": ".py",
   "mimetype": "text/x-python",
   "name": "python",
   "nbconvert_exporter": "python",
   "pygments_lexer": "ipython3",
   "version": "3.8.2"
  }
 },
 "nbformat": 4,
 "nbformat_minor": 4
}
