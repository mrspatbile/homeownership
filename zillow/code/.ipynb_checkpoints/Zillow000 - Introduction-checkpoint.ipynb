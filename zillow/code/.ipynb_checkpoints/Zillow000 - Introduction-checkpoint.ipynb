{
 "cells": [
  {
   "cell_type": "markdown",
   "metadata": {},
   "source": [
    "# Zillow000 - Introduction\n",
    "\n",
    "________\n",
    "\n",
    "\n"
   ]
  },
  {
   "cell_type": "code",
   "execution_count": 87,
   "metadata": {},
   "outputs": [],
   "source": [
    "import pandas as pd\n",
    "import numpy as np\n",
    "import datetime as dt\n",
    "import warnings\n",
    "warnings.filterwarnings('ignore')"
   ]
  },
  {
   "cell_type": "code",
   "execution_count": 91,
   "metadata": {
    "scrolled": false
   },
   "outputs": [],
   "source": [
    "# load file with custon plotly functions for timeseries, \n",
    "# color scheeme and pandas read to concat series into tables\n",
    "%run functions/nice_plot_pandas_getdata.ipynb"
   ]
  },
  {
   "cell_type": "markdown",
   "metadata": {},
   "source": [
    "### Background\n",
    "Homeownership rates have increased almost steadly for 10 years, from 1994 to 2004. Since then, on the following 12 years, homeownership rates had gone down also almost steadly and reached in April 2016 62.9 %, same levels as in Jan, 1965. Then a reversal started and, in the next 4 years, homeownership rates increased in 2.4 percentage points, reaching levels above before pre-crisis.\n",
    "\n",
    "The obvious explanation for homeownership is housing affordability. Lower mortgage rates, cheaper houses and higher income should lead to higher homeownership rates, as these translate into housing being more affordable.  However, determing what is the causal effect of each of these variables over homeownership rates is a difficult exercise as these variables are deeply interconnected. Both income and mortgage rates will will play a role on house prices, via higher demand. Mortgages rates and income are highly correlated as well, as mortgage rates will respond to a large extent to fiscal policy. As fiscal policy is an instrument used as an stimulus to economic activity, income and mortgage rates will also be affected by endogeneity. \n",
    "\n",
    "In order to circumvent the endogeneity problem, we explore a natural experiment to isolate the causal effect of house prices on homeownership."
   ]
  },
  {
   "cell_type": "code",
   "execution_count": 53,
   "metadata": {
    "scrolled": false
   },
   "outputs": [
    {
     "data": {
      "application/vnd.plotly.v1+json": {
       "config": {
        "plotlyServerURL": "https://plot.ly"
       },
       "data": [
        {
         "connectgaps": true,
         "line": {
          "color": "rgb(41, 58, 143)",
          "width": 1.5
         },
         "mode": "lines",
         "name": "Homeownership Rate ",
         "type": "scatter",
         "x": [
          "1965-01-01T00:00:00",
          "1965-04-01T00:00:00",
          "1965-07-01T00:00:00",
          "1965-10-01T00:00:00",
          "1966-01-01T00:00:00",
          "1966-04-01T00:00:00",
          "1966-07-01T00:00:00",
          "1966-10-01T00:00:00",
          "1967-01-01T00:00:00",
          "1967-04-01T00:00:00",
          "1967-07-01T00:00:00",
          "1967-10-01T00:00:00",
          "1968-01-01T00:00:00",
          "1968-04-01T00:00:00",
          "1968-07-01T00:00:00",
          "1968-10-01T00:00:00",
          "1969-01-01T00:00:00",
          "1969-04-01T00:00:00",
          "1969-07-01T00:00:00",
          "1969-10-01T00:00:00",
          "1970-01-01T00:00:00",
          "1970-04-01T00:00:00",
          "1970-07-01T00:00:00",
          "1970-10-01T00:00:00",
          "1971-01-01T00:00:00",
          "1971-04-01T00:00:00",
          "1971-07-01T00:00:00",
          "1971-10-01T00:00:00",
          "1972-01-01T00:00:00",
          "1972-04-01T00:00:00",
          "1972-07-01T00:00:00",
          "1972-10-01T00:00:00",
          "1973-01-01T00:00:00",
          "1973-04-01T00:00:00",
          "1973-07-01T00:00:00",
          "1973-10-01T00:00:00",
          "1974-01-01T00:00:00",
          "1974-04-01T00:00:00",
          "1974-07-01T00:00:00",
          "1974-10-01T00:00:00",
          "1975-01-01T00:00:00",
          "1975-04-01T00:00:00",
          "1975-07-01T00:00:00",
          "1975-10-01T00:00:00",
          "1976-01-01T00:00:00",
          "1976-04-01T00:00:00",
          "1976-07-01T00:00:00",
          "1976-10-01T00:00:00",
          "1977-01-01T00:00:00",
          "1977-04-01T00:00:00",
          "1977-07-01T00:00:00",
          "1977-10-01T00:00:00",
          "1978-01-01T00:00:00",
          "1978-04-01T00:00:00",
          "1978-07-01T00:00:00",
          "1978-10-01T00:00:00",
          "1979-01-01T00:00:00",
          "1979-04-01T00:00:00",
          "1979-07-01T00:00:00",
          "1979-10-01T00:00:00",
          "1980-01-01T00:00:00",
          "1980-04-01T00:00:00",
          "1980-07-01T00:00:00",
          "1980-10-01T00:00:00",
          "1981-01-01T00:00:00",
          "1981-04-01T00:00:00",
          "1981-07-01T00:00:00",
          "1981-10-01T00:00:00",
          "1982-01-01T00:00:00",
          "1982-04-01T00:00:00",
          "1982-07-01T00:00:00",
          "1982-10-01T00:00:00",
          "1983-01-01T00:00:00",
          "1983-04-01T00:00:00",
          "1983-07-01T00:00:00",
          "1983-10-01T00:00:00",
          "1984-01-01T00:00:00",
          "1984-04-01T00:00:00",
          "1984-07-01T00:00:00",
          "1984-10-01T00:00:00",
          "1985-01-01T00:00:00",
          "1985-04-01T00:00:00",
          "1985-07-01T00:00:00",
          "1985-10-01T00:00:00",
          "1986-01-01T00:00:00",
          "1986-04-01T00:00:00",
          "1986-07-01T00:00:00",
          "1986-10-01T00:00:00",
          "1987-01-01T00:00:00",
          "1987-04-01T00:00:00",
          "1987-07-01T00:00:00",
          "1987-10-01T00:00:00",
          "1988-01-01T00:00:00",
          "1988-04-01T00:00:00",
          "1988-07-01T00:00:00",
          "1988-10-01T00:00:00",
          "1989-01-01T00:00:00",
          "1989-04-01T00:00:00",
          "1989-07-01T00:00:00",
          "1989-10-01T00:00:00",
          "1990-01-01T00:00:00",
          "1990-04-01T00:00:00",
          "1990-07-01T00:00:00",
          "1990-10-01T00:00:00",
          "1991-01-01T00:00:00",
          "1991-04-01T00:00:00",
          "1991-07-01T00:00:00",
          "1991-10-01T00:00:00",
          "1992-01-01T00:00:00",
          "1992-04-01T00:00:00",
          "1992-07-01T00:00:00",
          "1992-10-01T00:00:00",
          "1993-01-01T00:00:00",
          "1993-04-01T00:00:00",
          "1993-07-01T00:00:00",
          "1993-10-01T00:00:00",
          "1994-01-01T00:00:00",
          "1994-04-01T00:00:00",
          "1994-07-01T00:00:00",
          "1994-10-01T00:00:00",
          "1995-01-01T00:00:00",
          "1995-04-01T00:00:00",
          "1995-07-01T00:00:00",
          "1995-10-01T00:00:00",
          "1996-01-01T00:00:00",
          "1996-04-01T00:00:00",
          "1996-07-01T00:00:00",
          "1996-10-01T00:00:00",
          "1997-01-01T00:00:00",
          "1997-04-01T00:00:00",
          "1997-07-01T00:00:00",
          "1997-10-01T00:00:00",
          "1998-01-01T00:00:00",
          "1998-04-01T00:00:00",
          "1998-07-01T00:00:00",
          "1998-10-01T00:00:00",
          "1999-01-01T00:00:00",
          "1999-04-01T00:00:00",
          "1999-07-01T00:00:00",
          "1999-10-01T00:00:00",
          "2000-01-01T00:00:00",
          "2000-04-01T00:00:00",
          "2000-07-01T00:00:00",
          "2000-10-01T00:00:00",
          "2001-01-01T00:00:00",
          "2001-04-01T00:00:00",
          "2001-07-01T00:00:00",
          "2001-10-01T00:00:00",
          "2002-01-01T00:00:00",
          "2002-04-01T00:00:00",
          "2002-07-01T00:00:00",
          "2002-10-01T00:00:00",
          "2003-01-01T00:00:00",
          "2003-04-01T00:00:00",
          "2003-07-01T00:00:00",
          "2003-10-01T00:00:00",
          "2004-01-01T00:00:00",
          "2004-04-01T00:00:00",
          "2004-07-01T00:00:00",
          "2004-10-01T00:00:00",
          "2005-01-01T00:00:00",
          "2005-04-01T00:00:00",
          "2005-07-01T00:00:00",
          "2005-10-01T00:00:00",
          "2006-01-01T00:00:00",
          "2006-04-01T00:00:00",
          "2006-07-01T00:00:00",
          "2006-10-01T00:00:00",
          "2007-01-01T00:00:00",
          "2007-04-01T00:00:00",
          "2007-07-01T00:00:00",
          "2007-10-01T00:00:00",
          "2008-01-01T00:00:00",
          "2008-04-01T00:00:00",
          "2008-07-01T00:00:00",
          "2008-10-01T00:00:00",
          "2009-01-01T00:00:00",
          "2009-04-01T00:00:00",
          "2009-07-01T00:00:00",
          "2009-10-01T00:00:00",
          "2010-01-01T00:00:00",
          "2010-04-01T00:00:00",
          "2010-07-01T00:00:00",
          "2010-10-01T00:00:00",
          "2011-01-01T00:00:00",
          "2011-04-01T00:00:00",
          "2011-07-01T00:00:00",
          "2011-10-01T00:00:00",
          "2012-01-01T00:00:00",
          "2012-04-01T00:00:00",
          "2012-07-01T00:00:00",
          "2012-10-01T00:00:00",
          "2013-01-01T00:00:00",
          "2013-04-01T00:00:00",
          "2013-07-01T00:00:00",
          "2013-10-01T00:00:00",
          "2014-01-01T00:00:00",
          "2014-04-01T00:00:00",
          "2014-07-01T00:00:00",
          "2014-10-01T00:00:00",
          "2015-01-01T00:00:00",
          "2015-04-01T00:00:00",
          "2015-07-01T00:00:00",
          "2015-10-01T00:00:00",
          "2016-01-01T00:00:00",
          "2016-04-01T00:00:00",
          "2016-07-01T00:00:00",
          "2016-10-01T00:00:00",
          "2017-01-01T00:00:00",
          "2017-04-01T00:00:00",
          "2017-07-01T00:00:00",
          "2017-10-01T00:00:00",
          "2018-01-01T00:00:00",
          "2018-04-01T00:00:00",
          "2018-07-01T00:00:00",
          "2018-10-01T00:00:00",
          "2019-01-01T00:00:00",
          "2019-04-01T00:00:00",
          "2019-07-01T00:00:00",
          "2019-10-01T00:00:00",
          "2020-01-01T00:00:00"
         ],
         "y": [
          62.9,
          62.9,
          62.9,
          63.4,
          63.5,
          63.2,
          63.3,
          63.8,
          63.3,
          63.9,
          63.8,
          63.5,
          63.6,
          64.1,
          64.1,
          63.6,
          64.1,
          64.4,
          64.4,
          64.4,
          64.3,
          64,
          64.4,
          64,
          64,
          64.1,
          64.4,
          64.5,
          64.3,
          64.5,
          64.3,
          64.4,
          64.9,
          64.4,
          64.4,
          64.4,
          64.8,
          64.8,
          64.6,
          64.4,
          64.4,
          64.9,
          64.6,
          64.5,
          64.6,
          64.6,
          64.9,
          64.8,
          64.8,
          64.5,
          65,
          64.9,
          64.8,
          64.4,
          65.2,
          65.4,
          64.8,
          64.9,
          65.8,
          65.4,
          65.5,
          65.5,
          65.8,
          65.5,
          65.6,
          65.3,
          65.6,
          65.2,
          64.8,
          64.9,
          64.9,
          64.5,
          64.7,
          64.7,
          64.8,
          64.4,
          64.6,
          64.6,
          64.6,
          64.1,
          64.1,
          64.1,
          63.9,
          63.5,
          63.6,
          63.8,
          63.8,
          63.9,
          63.8,
          63.8,
          64.2,
          64.1,
          63.7,
          63.7,
          64,
          63.8,
          63.9,
          63.8,
          64.1,
          63.8,
          64,
          63.7,
          64,
          64.1,
          63.9,
          63.9,
          64.2,
          64.2,
          64,
          63.9,
          64.3,
          64.4,
          64.2,
          64.4,
          64.7,
          64.6,
          63.8,
          63.8,
          64.1,
          64.2,
          64.2,
          64.7,
          65,
          65.1,
          65.1,
          65.4,
          65.6,
          65.4,
          65.4,
          65.7,
          66,
          65.7,
          65.9,
          66,
          66.8,
          66.4,
          66.7,
          66.6,
          67,
          66.9,
          67.1,
          67.2,
          67.7,
          67.5,
          67.5,
          67.7,
          68.1,
          68,
          67.8,
          67.6,
          68,
          68.3,
          68,
          68,
          68.4,
          68.6,
          68.6,
          69.2,
          69,
          69.2,
          69.1,
          68.6,
          68.8,
          69,
          68.5,
          68.7,
          69,
          68.9,
          68.4,
          68.2,
          68.2,
          67.8,
          67.8,
          68.1,
          67.9,
          67.5,
          67.3,
          67.4,
          67.6,
          67.2,
          67.1,
          66.9,
          66.9,
          66.5,
          66.4,
          65.9,
          66.3,
          66,
          65.4,
          65.5,
          65.5,
          65.4,
          65,
          65,
          65.3,
          65.2,
          64.8,
          64.7,
          64.4,
          64,
          63.7,
          63.4,
          63.7,
          63.8,
          63.5,
          62.9,
          63.5,
          63.7,
          63.6,
          63.7,
          63.9,
          64.2,
          64.2,
          64.3,
          64.4,
          64.8,
          64.2,
          64.1,
          64.8,
          65.1,
          65.3
         ]
        },
        {
         "marker": {
          "color": "rgb(41, 58, 143)",
          "size": 1
         },
         "mode": "markers",
         "type": "scatter",
         "x": [
          "1965-01-01T00:00:00",
          "2020-01-01T00:00:00"
         ],
         "y": [
          62.9,
          65.3
         ]
        }
       ],
       "layout": {
        "annotations": [
         {
          "font": {
           "family": "Arial",
           "size": 12
          },
          "showarrow": false,
          "text": "63",
          "x": 0.05,
          "xanchor": "right",
          "xref": "paper",
          "y": 62.9,
          "yanchor": "top"
         },
         {
          "font": {
           "family": "Arial",
           "size": 12
          },
          "showarrow": false,
          "text": "65",
          "x": 0.95,
          "xanchor": "left",
          "xref": "paper",
          "y": 65.3,
          "yanchor": "top"
         },
         {
          "font": {
           "color": "rgb(37,37,37)",
           "family": "Arial",
           "size": 22
          },
          "showarrow": false,
          "text": "Homeownership Rate",
          "x": 0,
          "xanchor": "left",
          "xref": "paper",
          "y": 1.05,
          "yanchor": "bottom",
          "yref": "paper"
         },
         {
          "font": {
           "color": "rgb(150,150,150)",
           "family": "Arial",
           "size": 12
          },
          "showarrow": false,
          "text": "Source: U.S. Census Bureau",
          "x": 0,
          "xanchor": "left",
          "xref": "paper",
          "y": -0.1,
          "yanchor": "top",
          "yref": "paper"
         },
         {
          "font": {
           "color": "black",
           "family": "Arial",
           "size": 12
          },
          "showarrow": false,
          "text": "%",
          "x": 0,
          "xref": "paper",
          "y": 1.06,
          "yref": "paper"
         }
        ],
        "autosize": false,
        "height": 600,
        "margin": {
         "autoexpand": false,
         "l": 120,
         "r": 120,
         "t": 110
        },
        "plot_bgcolor": "white",
        "showlegend": false,
        "template": {
         "data": {
          "bar": [
           {
            "error_x": {
             "color": "#2a3f5f"
            },
            "error_y": {
             "color": "#2a3f5f"
            },
            "marker": {
             "line": {
              "color": "#E5ECF6",
              "width": 0.5
             }
            },
            "type": "bar"
           }
          ],
          "barpolar": [
           {
            "marker": {
             "line": {
              "color": "#E5ECF6",
              "width": 0.5
             }
            },
            "type": "barpolar"
           }
          ],
          "carpet": [
           {
            "aaxis": {
             "endlinecolor": "#2a3f5f",
             "gridcolor": "white",
             "linecolor": "white",
             "minorgridcolor": "white",
             "startlinecolor": "#2a3f5f"
            },
            "baxis": {
             "endlinecolor": "#2a3f5f",
             "gridcolor": "white",
             "linecolor": "white",
             "minorgridcolor": "white",
             "startlinecolor": "#2a3f5f"
            },
            "type": "carpet"
           }
          ],
          "choropleth": [
           {
            "colorbar": {
             "outlinewidth": 0,
             "ticks": ""
            },
            "type": "choropleth"
           }
          ],
          "contour": [
           {
            "colorbar": {
             "outlinewidth": 0,
             "ticks": ""
            },
            "colorscale": [
             [
              0,
              "#0d0887"
             ],
             [
              0.1111111111111111,
              "#46039f"
             ],
             [
              0.2222222222222222,
              "#7201a8"
             ],
             [
              0.3333333333333333,
              "#9c179e"
             ],
             [
              0.4444444444444444,
              "#bd3786"
             ],
             [
              0.5555555555555556,
              "#d8576b"
             ],
             [
              0.6666666666666666,
              "#ed7953"
             ],
             [
              0.7777777777777778,
              "#fb9f3a"
             ],
             [
              0.8888888888888888,
              "#fdca26"
             ],
             [
              1,
              "#f0f921"
             ]
            ],
            "type": "contour"
           }
          ],
          "contourcarpet": [
           {
            "colorbar": {
             "outlinewidth": 0,
             "ticks": ""
            },
            "type": "contourcarpet"
           }
          ],
          "heatmap": [
           {
            "colorbar": {
             "outlinewidth": 0,
             "ticks": ""
            },
            "colorscale": [
             [
              0,
              "#0d0887"
             ],
             [
              0.1111111111111111,
              "#46039f"
             ],
             [
              0.2222222222222222,
              "#7201a8"
             ],
             [
              0.3333333333333333,
              "#9c179e"
             ],
             [
              0.4444444444444444,
              "#bd3786"
             ],
             [
              0.5555555555555556,
              "#d8576b"
             ],
             [
              0.6666666666666666,
              "#ed7953"
             ],
             [
              0.7777777777777778,
              "#fb9f3a"
             ],
             [
              0.8888888888888888,
              "#fdca26"
             ],
             [
              1,
              "#f0f921"
             ]
            ],
            "type": "heatmap"
           }
          ],
          "heatmapgl": [
           {
            "colorbar": {
             "outlinewidth": 0,
             "ticks": ""
            },
            "colorscale": [
             [
              0,
              "#0d0887"
             ],
             [
              0.1111111111111111,
              "#46039f"
             ],
             [
              0.2222222222222222,
              "#7201a8"
             ],
             [
              0.3333333333333333,
              "#9c179e"
             ],
             [
              0.4444444444444444,
              "#bd3786"
             ],
             [
              0.5555555555555556,
              "#d8576b"
             ],
             [
              0.6666666666666666,
              "#ed7953"
             ],
             [
              0.7777777777777778,
              "#fb9f3a"
             ],
             [
              0.8888888888888888,
              "#fdca26"
             ],
             [
              1,
              "#f0f921"
             ]
            ],
            "type": "heatmapgl"
           }
          ],
          "histogram": [
           {
            "marker": {
             "colorbar": {
              "outlinewidth": 0,
              "ticks": ""
             }
            },
            "type": "histogram"
           }
          ],
          "histogram2d": [
           {
            "colorbar": {
             "outlinewidth": 0,
             "ticks": ""
            },
            "colorscale": [
             [
              0,
              "#0d0887"
             ],
             [
              0.1111111111111111,
              "#46039f"
             ],
             [
              0.2222222222222222,
              "#7201a8"
             ],
             [
              0.3333333333333333,
              "#9c179e"
             ],
             [
              0.4444444444444444,
              "#bd3786"
             ],
             [
              0.5555555555555556,
              "#d8576b"
             ],
             [
              0.6666666666666666,
              "#ed7953"
             ],
             [
              0.7777777777777778,
              "#fb9f3a"
             ],
             [
              0.8888888888888888,
              "#fdca26"
             ],
             [
              1,
              "#f0f921"
             ]
            ],
            "type": "histogram2d"
           }
          ],
          "histogram2dcontour": [
           {
            "colorbar": {
             "outlinewidth": 0,
             "ticks": ""
            },
            "colorscale": [
             [
              0,
              "#0d0887"
             ],
             [
              0.1111111111111111,
              "#46039f"
             ],
             [
              0.2222222222222222,
              "#7201a8"
             ],
             [
              0.3333333333333333,
              "#9c179e"
             ],
             [
              0.4444444444444444,
              "#bd3786"
             ],
             [
              0.5555555555555556,
              "#d8576b"
             ],
             [
              0.6666666666666666,
              "#ed7953"
             ],
             [
              0.7777777777777778,
              "#fb9f3a"
             ],
             [
              0.8888888888888888,
              "#fdca26"
             ],
             [
              1,
              "#f0f921"
             ]
            ],
            "type": "histogram2dcontour"
           }
          ],
          "mesh3d": [
           {
            "colorbar": {
             "outlinewidth": 0,
             "ticks": ""
            },
            "type": "mesh3d"
           }
          ],
          "parcoords": [
           {
            "line": {
             "colorbar": {
              "outlinewidth": 0,
              "ticks": ""
             }
            },
            "type": "parcoords"
           }
          ],
          "pie": [
           {
            "automargin": true,
            "type": "pie"
           }
          ],
          "scatter": [
           {
            "marker": {
             "colorbar": {
              "outlinewidth": 0,
              "ticks": ""
             }
            },
            "type": "scatter"
           }
          ],
          "scatter3d": [
           {
            "line": {
             "colorbar": {
              "outlinewidth": 0,
              "ticks": ""
             }
            },
            "marker": {
             "colorbar": {
              "outlinewidth": 0,
              "ticks": ""
             }
            },
            "type": "scatter3d"
           }
          ],
          "scattercarpet": [
           {
            "marker": {
             "colorbar": {
              "outlinewidth": 0,
              "ticks": ""
             }
            },
            "type": "scattercarpet"
           }
          ],
          "scattergeo": [
           {
            "marker": {
             "colorbar": {
              "outlinewidth": 0,
              "ticks": ""
             }
            },
            "type": "scattergeo"
           }
          ],
          "scattergl": [
           {
            "marker": {
             "colorbar": {
              "outlinewidth": 0,
              "ticks": ""
             }
            },
            "type": "scattergl"
           }
          ],
          "scattermapbox": [
           {
            "marker": {
             "colorbar": {
              "outlinewidth": 0,
              "ticks": ""
             }
            },
            "type": "scattermapbox"
           }
          ],
          "scatterpolar": [
           {
            "marker": {
             "colorbar": {
              "outlinewidth": 0,
              "ticks": ""
             }
            },
            "type": "scatterpolar"
           }
          ],
          "scatterpolargl": [
           {
            "marker": {
             "colorbar": {
              "outlinewidth": 0,
              "ticks": ""
             }
            },
            "type": "scatterpolargl"
           }
          ],
          "scatterternary": [
           {
            "marker": {
             "colorbar": {
              "outlinewidth": 0,
              "ticks": ""
             }
            },
            "type": "scatterternary"
           }
          ],
          "surface": [
           {
            "colorbar": {
             "outlinewidth": 0,
             "ticks": ""
            },
            "colorscale": [
             [
              0,
              "#0d0887"
             ],
             [
              0.1111111111111111,
              "#46039f"
             ],
             [
              0.2222222222222222,
              "#7201a8"
             ],
             [
              0.3333333333333333,
              "#9c179e"
             ],
             [
              0.4444444444444444,
              "#bd3786"
             ],
             [
              0.5555555555555556,
              "#d8576b"
             ],
             [
              0.6666666666666666,
              "#ed7953"
             ],
             [
              0.7777777777777778,
              "#fb9f3a"
             ],
             [
              0.8888888888888888,
              "#fdca26"
             ],
             [
              1,
              "#f0f921"
             ]
            ],
            "type": "surface"
           }
          ],
          "table": [
           {
            "cells": {
             "fill": {
              "color": "#EBF0F8"
             },
             "line": {
              "color": "white"
             }
            },
            "header": {
             "fill": {
              "color": "#C8D4E3"
             },
             "line": {
              "color": "white"
             }
            },
            "type": "table"
           }
          ]
         },
         "layout": {
          "annotationdefaults": {
           "arrowcolor": "#2a3f5f",
           "arrowhead": 0,
           "arrowwidth": 1
          },
          "coloraxis": {
           "colorbar": {
            "outlinewidth": 0,
            "ticks": ""
           }
          },
          "colorscale": {
           "diverging": [
            [
             0,
             "#8e0152"
            ],
            [
             0.1,
             "#c51b7d"
            ],
            [
             0.2,
             "#de77ae"
            ],
            [
             0.3,
             "#f1b6da"
            ],
            [
             0.4,
             "#fde0ef"
            ],
            [
             0.5,
             "#f7f7f7"
            ],
            [
             0.6,
             "#e6f5d0"
            ],
            [
             0.7,
             "#b8e186"
            ],
            [
             0.8,
             "#7fbc41"
            ],
            [
             0.9,
             "#4d9221"
            ],
            [
             1,
             "#276419"
            ]
           ],
           "sequential": [
            [
             0,
             "#0d0887"
            ],
            [
             0.1111111111111111,
             "#46039f"
            ],
            [
             0.2222222222222222,
             "#7201a8"
            ],
            [
             0.3333333333333333,
             "#9c179e"
            ],
            [
             0.4444444444444444,
             "#bd3786"
            ],
            [
             0.5555555555555556,
             "#d8576b"
            ],
            [
             0.6666666666666666,
             "#ed7953"
            ],
            [
             0.7777777777777778,
             "#fb9f3a"
            ],
            [
             0.8888888888888888,
             "#fdca26"
            ],
            [
             1,
             "#f0f921"
            ]
           ],
           "sequentialminus": [
            [
             0,
             "#0d0887"
            ],
            [
             0.1111111111111111,
             "#46039f"
            ],
            [
             0.2222222222222222,
             "#7201a8"
            ],
            [
             0.3333333333333333,
             "#9c179e"
            ],
            [
             0.4444444444444444,
             "#bd3786"
            ],
            [
             0.5555555555555556,
             "#d8576b"
            ],
            [
             0.6666666666666666,
             "#ed7953"
            ],
            [
             0.7777777777777778,
             "#fb9f3a"
            ],
            [
             0.8888888888888888,
             "#fdca26"
            ],
            [
             1,
             "#f0f921"
            ]
           ]
          },
          "colorway": [
           "#636efa",
           "#EF553B",
           "#00cc96",
           "#ab63fa",
           "#FFA15A",
           "#19d3f3",
           "#FF6692",
           "#B6E880",
           "#FF97FF",
           "#FECB52"
          ],
          "font": {
           "color": "#2a3f5f"
          },
          "geo": {
           "bgcolor": "white",
           "lakecolor": "white",
           "landcolor": "#E5ECF6",
           "showlakes": true,
           "showland": true,
           "subunitcolor": "white"
          },
          "hoverlabel": {
           "align": "left"
          },
          "hovermode": "closest",
          "mapbox": {
           "style": "light"
          },
          "paper_bgcolor": "white",
          "plot_bgcolor": "#E5ECF6",
          "polar": {
           "angularaxis": {
            "gridcolor": "white",
            "linecolor": "white",
            "ticks": ""
           },
           "bgcolor": "#E5ECF6",
           "radialaxis": {
            "gridcolor": "white",
            "linecolor": "white",
            "ticks": ""
           }
          },
          "scene": {
           "xaxis": {
            "backgroundcolor": "#E5ECF6",
            "gridcolor": "white",
            "gridwidth": 2,
            "linecolor": "white",
            "showbackground": true,
            "ticks": "",
            "zerolinecolor": "white"
           },
           "yaxis": {
            "backgroundcolor": "#E5ECF6",
            "gridcolor": "white",
            "gridwidth": 2,
            "linecolor": "white",
            "showbackground": true,
            "ticks": "",
            "zerolinecolor": "white"
           },
           "zaxis": {
            "backgroundcolor": "#E5ECF6",
            "gridcolor": "white",
            "gridwidth": 2,
            "linecolor": "white",
            "showbackground": true,
            "ticks": "",
            "zerolinecolor": "white"
           }
          },
          "shapedefaults": {
           "line": {
            "color": "#2a3f5f"
           }
          },
          "ternary": {
           "aaxis": {
            "gridcolor": "white",
            "linecolor": "white",
            "ticks": ""
           },
           "baxis": {
            "gridcolor": "white",
            "linecolor": "white",
            "ticks": ""
           },
           "bgcolor": "#E5ECF6",
           "caxis": {
            "gridcolor": "white",
            "linecolor": "white",
            "ticks": ""
           }
          },
          "title": {
           "x": 0.05
          },
          "xaxis": {
           "automargin": true,
           "gridcolor": "white",
           "linecolor": "white",
           "ticks": "",
           "title": {
            "standoff": 15
           },
           "zerolinecolor": "white",
           "zerolinewidth": 2
          },
          "yaxis": {
           "automargin": true,
           "gridcolor": "white",
           "linecolor": "white",
           "ticks": "",
           "title": {
            "standoff": 15
           },
           "zerolinecolor": "white",
           "zerolinewidth": 2
          }
         }
        },
        "updatemenus": [
         {
          "active": 0,
          "buttons": [
           {
            "args": [
             "shapes",
             []
            ],
            "label": "-",
            "method": "relayout"
           },
           {
            "args": [
             "shapes",
             [
              {
               "fillcolor": "lightgray",
               "layer": "below",
               "line": {
                "color": "white",
                "width": 0.1
               },
               "line_width": 0,
               "type": "rect",
               "x0": "1969-10-01T00:00:00",
               "x1": "1970-10-01T00:00:00",
               "xref": "x",
               "y0": 0,
               "y1": 0.97,
               "yref": "paper"
              },
              {
               "fillcolor": "lightgray",
               "layer": "below",
               "line": {
                "color": "white",
                "width": 0.1
               },
               "line_width": 0,
               "type": "rect",
               "x0": "1973-10-01T00:00:00",
               "x1": "1975-01-01T00:00:00",
               "xref": "x",
               "y0": 0,
               "y1": 0.97,
               "yref": "paper"
              },
              {
               "fillcolor": "lightgray",
               "layer": "below",
               "line": {
                "color": "white",
                "width": 0.1
               },
               "line_width": 0,
               "type": "rect",
               "x0": "1980-01-01T00:00:00",
               "x1": "1980-07-01T00:00:00",
               "xref": "x",
               "y0": 0,
               "y1": 0.97,
               "yref": "paper"
              },
              {
               "fillcolor": "lightgray",
               "layer": "below",
               "line": {
                "color": "white",
                "width": 0.1
               },
               "line_width": 0,
               "type": "rect",
               "x0": "1981-07-01T00:00:00",
               "x1": "1982-10-01T00:00:00",
               "xref": "x",
               "y0": 0,
               "y1": 0.97,
               "yref": "paper"
              },
              {
               "fillcolor": "lightgray",
               "layer": "below",
               "line": {
                "color": "white",
                "width": 0.1
               },
               "line_width": 0,
               "type": "rect",
               "x0": "1990-07-01T00:00:00",
               "x1": "1991-01-01T00:00:00",
               "xref": "x",
               "y0": 0,
               "y1": 0.97,
               "yref": "paper"
              },
              {
               "fillcolor": "lightgray",
               "layer": "below",
               "line": {
                "color": "white",
                "width": 0.1
               },
               "line_width": 0,
               "type": "rect",
               "x0": "2001-01-01T00:00:00",
               "x1": "2001-10-01T00:00:00",
               "xref": "x",
               "y0": 0,
               "y1": 0.97,
               "yref": "paper"
              },
              {
               "fillcolor": "lightgray",
               "layer": "below",
               "line": {
                "color": "white",
                "width": 0.1
               },
               "line_width": 0,
               "type": "rect",
               "x0": "2007-10-01T00:00:00",
               "x1": "2009-04-01T00:00:00",
               "xref": "x",
               "y0": 0,
               "y1": 0.97,
               "yref": "paper"
              }
             ]
            ],
            "label": "+",
            "method": "relayout"
           }
          ],
          "direction": "right",
          "type": "buttons",
          "x": 1,
          "y": 1.2
         }
        ],
        "width": 1020,
        "xaxis": {
         "linecolor": "rgb(204, 204, 204)",
         "linewidth": 2,
         "showgrid": true,
         "showline": true,
         "showticklabels": true,
         "tickfont": {
          "color": "rgb(82, 82, 82)",
          "family": "Arial",
          "size": 12
         },
         "ticks": "outside"
        },
        "yaxis": {
         "gridcolor": "rgb(204, 204, 204)",
         "showgrid": true,
         "showline": true,
         "showticklabels": true,
         "zeroline": false
        }
       }
      },
      "text/html": [
       "<div>\n",
       "        \n",
       "        \n",
       "            <div id=\"b3dd65d1-fa12-4acc-b5f4-5e025e137db2\" class=\"plotly-graph-div\" style=\"height:600px; width:1020px;\"></div>\n",
       "            <script type=\"text/javascript\">\n",
       "                require([\"plotly\"], function(Plotly) {\n",
       "                    window.PLOTLYENV=window.PLOTLYENV || {};\n",
       "                    \n",
       "                if (document.getElementById(\"b3dd65d1-fa12-4acc-b5f4-5e025e137db2\")) {\n",
       "                    Plotly.newPlot(\n",
       "                        'b3dd65d1-fa12-4acc-b5f4-5e025e137db2',\n",
       "                        [{\"connectgaps\": true, \"line\": {\"color\": \"rgb(41, 58, 143)\", \"width\": 1.5}, \"mode\": \"lines\", \"name\": \"Homeownership Rate \", \"type\": \"scatter\", \"x\": [\"1965-01-01T00:00:00\", \"1965-04-01T00:00:00\", \"1965-07-01T00:00:00\", \"1965-10-01T00:00:00\", \"1966-01-01T00:00:00\", \"1966-04-01T00:00:00\", \"1966-07-01T00:00:00\", \"1966-10-01T00:00:00\", \"1967-01-01T00:00:00\", \"1967-04-01T00:00:00\", \"1967-07-01T00:00:00\", \"1967-10-01T00:00:00\", \"1968-01-01T00:00:00\", \"1968-04-01T00:00:00\", \"1968-07-01T00:00:00\", \"1968-10-01T00:00:00\", \"1969-01-01T00:00:00\", \"1969-04-01T00:00:00\", \"1969-07-01T00:00:00\", \"1969-10-01T00:00:00\", \"1970-01-01T00:00:00\", \"1970-04-01T00:00:00\", \"1970-07-01T00:00:00\", \"1970-10-01T00:00:00\", \"1971-01-01T00:00:00\", \"1971-04-01T00:00:00\", \"1971-07-01T00:00:00\", \"1971-10-01T00:00:00\", \"1972-01-01T00:00:00\", \"1972-04-01T00:00:00\", \"1972-07-01T00:00:00\", \"1972-10-01T00:00:00\", \"1973-01-01T00:00:00\", \"1973-04-01T00:00:00\", \"1973-07-01T00:00:00\", \"1973-10-01T00:00:00\", \"1974-01-01T00:00:00\", \"1974-04-01T00:00:00\", \"1974-07-01T00:00:00\", \"1974-10-01T00:00:00\", \"1975-01-01T00:00:00\", \"1975-04-01T00:00:00\", \"1975-07-01T00:00:00\", \"1975-10-01T00:00:00\", \"1976-01-01T00:00:00\", \"1976-04-01T00:00:00\", \"1976-07-01T00:00:00\", \"1976-10-01T00:00:00\", \"1977-01-01T00:00:00\", \"1977-04-01T00:00:00\", \"1977-07-01T00:00:00\", \"1977-10-01T00:00:00\", \"1978-01-01T00:00:00\", \"1978-04-01T00:00:00\", \"1978-07-01T00:00:00\", \"1978-10-01T00:00:00\", \"1979-01-01T00:00:00\", \"1979-04-01T00:00:00\", \"1979-07-01T00:00:00\", \"1979-10-01T00:00:00\", \"1980-01-01T00:00:00\", \"1980-04-01T00:00:00\", \"1980-07-01T00:00:00\", \"1980-10-01T00:00:00\", \"1981-01-01T00:00:00\", \"1981-04-01T00:00:00\", \"1981-07-01T00:00:00\", \"1981-10-01T00:00:00\", \"1982-01-01T00:00:00\", \"1982-04-01T00:00:00\", \"1982-07-01T00:00:00\", \"1982-10-01T00:00:00\", \"1983-01-01T00:00:00\", \"1983-04-01T00:00:00\", \"1983-07-01T00:00:00\", \"1983-10-01T00:00:00\", \"1984-01-01T00:00:00\", \"1984-04-01T00:00:00\", \"1984-07-01T00:00:00\", \"1984-10-01T00:00:00\", \"1985-01-01T00:00:00\", \"1985-04-01T00:00:00\", \"1985-07-01T00:00:00\", \"1985-10-01T00:00:00\", \"1986-01-01T00:00:00\", \"1986-04-01T00:00:00\", \"1986-07-01T00:00:00\", \"1986-10-01T00:00:00\", \"1987-01-01T00:00:00\", \"1987-04-01T00:00:00\", \"1987-07-01T00:00:00\", \"1987-10-01T00:00:00\", \"1988-01-01T00:00:00\", \"1988-04-01T00:00:00\", \"1988-07-01T00:00:00\", \"1988-10-01T00:00:00\", \"1989-01-01T00:00:00\", \"1989-04-01T00:00:00\", \"1989-07-01T00:00:00\", \"1989-10-01T00:00:00\", \"1990-01-01T00:00:00\", \"1990-04-01T00:00:00\", \"1990-07-01T00:00:00\", \"1990-10-01T00:00:00\", \"1991-01-01T00:00:00\", \"1991-04-01T00:00:00\", \"1991-07-01T00:00:00\", \"1991-10-01T00:00:00\", \"1992-01-01T00:00:00\", \"1992-04-01T00:00:00\", \"1992-07-01T00:00:00\", \"1992-10-01T00:00:00\", \"1993-01-01T00:00:00\", \"1993-04-01T00:00:00\", \"1993-07-01T00:00:00\", \"1993-10-01T00:00:00\", \"1994-01-01T00:00:00\", \"1994-04-01T00:00:00\", \"1994-07-01T00:00:00\", \"1994-10-01T00:00:00\", \"1995-01-01T00:00:00\", \"1995-04-01T00:00:00\", \"1995-07-01T00:00:00\", \"1995-10-01T00:00:00\", \"1996-01-01T00:00:00\", \"1996-04-01T00:00:00\", \"1996-07-01T00:00:00\", \"1996-10-01T00:00:00\", \"1997-01-01T00:00:00\", \"1997-04-01T00:00:00\", \"1997-07-01T00:00:00\", \"1997-10-01T00:00:00\", \"1998-01-01T00:00:00\", \"1998-04-01T00:00:00\", \"1998-07-01T00:00:00\", \"1998-10-01T00:00:00\", \"1999-01-01T00:00:00\", \"1999-04-01T00:00:00\", \"1999-07-01T00:00:00\", \"1999-10-01T00:00:00\", \"2000-01-01T00:00:00\", \"2000-04-01T00:00:00\", \"2000-07-01T00:00:00\", \"2000-10-01T00:00:00\", \"2001-01-01T00:00:00\", \"2001-04-01T00:00:00\", \"2001-07-01T00:00:00\", \"2001-10-01T00:00:00\", \"2002-01-01T00:00:00\", \"2002-04-01T00:00:00\", \"2002-07-01T00:00:00\", \"2002-10-01T00:00:00\", \"2003-01-01T00:00:00\", \"2003-04-01T00:00:00\", \"2003-07-01T00:00:00\", \"2003-10-01T00:00:00\", \"2004-01-01T00:00:00\", \"2004-04-01T00:00:00\", \"2004-07-01T00:00:00\", \"2004-10-01T00:00:00\", \"2005-01-01T00:00:00\", \"2005-04-01T00:00:00\", \"2005-07-01T00:00:00\", \"2005-10-01T00:00:00\", \"2006-01-01T00:00:00\", \"2006-04-01T00:00:00\", \"2006-07-01T00:00:00\", \"2006-10-01T00:00:00\", \"2007-01-01T00:00:00\", \"2007-04-01T00:00:00\", \"2007-07-01T00:00:00\", \"2007-10-01T00:00:00\", \"2008-01-01T00:00:00\", \"2008-04-01T00:00:00\", \"2008-07-01T00:00:00\", \"2008-10-01T00:00:00\", \"2009-01-01T00:00:00\", \"2009-04-01T00:00:00\", \"2009-07-01T00:00:00\", \"2009-10-01T00:00:00\", \"2010-01-01T00:00:00\", \"2010-04-01T00:00:00\", \"2010-07-01T00:00:00\", \"2010-10-01T00:00:00\", \"2011-01-01T00:00:00\", \"2011-04-01T00:00:00\", \"2011-07-01T00:00:00\", \"2011-10-01T00:00:00\", \"2012-01-01T00:00:00\", \"2012-04-01T00:00:00\", \"2012-07-01T00:00:00\", \"2012-10-01T00:00:00\", \"2013-01-01T00:00:00\", \"2013-04-01T00:00:00\", \"2013-07-01T00:00:00\", \"2013-10-01T00:00:00\", \"2014-01-01T00:00:00\", \"2014-04-01T00:00:00\", \"2014-07-01T00:00:00\", \"2014-10-01T00:00:00\", \"2015-01-01T00:00:00\", \"2015-04-01T00:00:00\", \"2015-07-01T00:00:00\", \"2015-10-01T00:00:00\", \"2016-01-01T00:00:00\", \"2016-04-01T00:00:00\", \"2016-07-01T00:00:00\", \"2016-10-01T00:00:00\", \"2017-01-01T00:00:00\", \"2017-04-01T00:00:00\", \"2017-07-01T00:00:00\", \"2017-10-01T00:00:00\", \"2018-01-01T00:00:00\", \"2018-04-01T00:00:00\", \"2018-07-01T00:00:00\", \"2018-10-01T00:00:00\", \"2019-01-01T00:00:00\", \"2019-04-01T00:00:00\", \"2019-07-01T00:00:00\", \"2019-10-01T00:00:00\", \"2020-01-01T00:00:00\"], \"y\": [62.9, 62.9, 62.9, 63.4, 63.5, 63.2, 63.3, 63.8, 63.3, 63.9, 63.8, 63.5, 63.6, 64.1, 64.1, 63.6, 64.1, 64.4, 64.4, 64.4, 64.3, 64.0, 64.4, 64.0, 64.0, 64.1, 64.4, 64.5, 64.3, 64.5, 64.3, 64.4, 64.9, 64.4, 64.4, 64.4, 64.8, 64.8, 64.6, 64.4, 64.4, 64.9, 64.6, 64.5, 64.6, 64.6, 64.9, 64.8, 64.8, 64.5, 65.0, 64.9, 64.8, 64.4, 65.2, 65.4, 64.8, 64.9, 65.8, 65.4, 65.5, 65.5, 65.8, 65.5, 65.6, 65.3, 65.6, 65.2, 64.8, 64.9, 64.9, 64.5, 64.7, 64.7, 64.8, 64.4, 64.6, 64.6, 64.6, 64.1, 64.1, 64.1, 63.9, 63.5, 63.6, 63.8, 63.8, 63.9, 63.8, 63.8, 64.2, 64.1, 63.7, 63.7, 64.0, 63.8, 63.9, 63.8, 64.1, 63.8, 64.0, 63.7, 64.0, 64.1, 63.9, 63.9, 64.2, 64.2, 64.0, 63.9, 64.3, 64.4, 64.2, 64.4, 64.7, 64.6, 63.8, 63.8, 64.1, 64.2, 64.2, 64.7, 65.0, 65.1, 65.1, 65.4, 65.6, 65.4, 65.4, 65.7, 66.0, 65.7, 65.9, 66.0, 66.8, 66.4, 66.7, 66.6, 67.0, 66.9, 67.1, 67.2, 67.7, 67.5, 67.5, 67.7, 68.1, 68.0, 67.8, 67.6, 68.0, 68.3, 68.0, 68.0, 68.4, 68.6, 68.6, 69.2, 69.0, 69.2, 69.1, 68.6, 68.8, 69.0, 68.5, 68.7, 69.0, 68.9, 68.4, 68.2, 68.2, 67.8, 67.8, 68.1, 67.9, 67.5, 67.3, 67.4, 67.6, 67.2, 67.1, 66.9, 66.9, 66.5, 66.4, 65.9, 66.3, 66.0, 65.4, 65.5, 65.5, 65.4, 65.0, 65.0, 65.3, 65.2, 64.8, 64.7, 64.4, 64.0, 63.7, 63.4, 63.7, 63.8, 63.5, 62.9, 63.5, 63.7, 63.6, 63.7, 63.9, 64.2, 64.2, 64.3, 64.4, 64.8, 64.2, 64.1, 64.8, 65.1, 65.3]}, {\"marker\": {\"color\": \"rgb(41, 58, 143)\", \"size\": 1}, \"mode\": \"markers\", \"type\": \"scatter\", \"x\": [\"1965-01-01T00:00:00\", \"2020-01-01T00:00:00\"], \"y\": [62.9, 65.3]}],\n",
       "                        {\"annotations\": [{\"font\": {\"family\": \"Arial\", \"size\": 12}, \"showarrow\": false, \"text\": \"63\", \"x\": 0.05, \"xanchor\": \"right\", \"xref\": \"paper\", \"y\": 62.9, \"yanchor\": \"top\"}, {\"font\": {\"family\": \"Arial\", \"size\": 12}, \"showarrow\": false, \"text\": \"65\", \"x\": 0.95, \"xanchor\": \"left\", \"xref\": \"paper\", \"y\": 65.3, \"yanchor\": \"top\"}, {\"font\": {\"color\": \"rgb(37,37,37)\", \"family\": \"Arial\", \"size\": 22}, \"showarrow\": false, \"text\": \"Homeownership Rate\", \"x\": 0.0, \"xanchor\": \"left\", \"xref\": \"paper\", \"y\": 1.05, \"yanchor\": \"bottom\", \"yref\": \"paper\"}, {\"font\": {\"color\": \"rgb(150,150,150)\", \"family\": \"Arial\", \"size\": 12}, \"showarrow\": false, \"text\": \"Source: U.S. Census Bureau\", \"x\": 0, \"xanchor\": \"left\", \"xref\": \"paper\", \"y\": -0.1, \"yanchor\": \"top\", \"yref\": \"paper\"}, {\"font\": {\"color\": \"black\", \"family\": \"Arial\", \"size\": 12}, \"showarrow\": false, \"text\": \"%\", \"x\": 0.0, \"xref\": \"paper\", \"y\": 1.06, \"yref\": \"paper\"}], \"autosize\": false, \"height\": 600, \"margin\": {\"autoexpand\": false, \"l\": 120, \"r\": 120, \"t\": 110}, \"plot_bgcolor\": \"white\", \"showlegend\": false, \"template\": {\"data\": {\"bar\": [{\"error_x\": {\"color\": \"#2a3f5f\"}, \"error_y\": {\"color\": \"#2a3f5f\"}, \"marker\": {\"line\": {\"color\": \"#E5ECF6\", \"width\": 0.5}}, \"type\": \"bar\"}], \"barpolar\": [{\"marker\": {\"line\": {\"color\": \"#E5ECF6\", \"width\": 0.5}}, \"type\": \"barpolar\"}], \"carpet\": [{\"aaxis\": {\"endlinecolor\": \"#2a3f5f\", \"gridcolor\": \"white\", \"linecolor\": \"white\", \"minorgridcolor\": \"white\", \"startlinecolor\": \"#2a3f5f\"}, \"baxis\": {\"endlinecolor\": \"#2a3f5f\", \"gridcolor\": \"white\", \"linecolor\": \"white\", \"minorgridcolor\": \"white\", \"startlinecolor\": \"#2a3f5f\"}, \"type\": \"carpet\"}], \"choropleth\": [{\"colorbar\": {\"outlinewidth\": 0, \"ticks\": \"\"}, \"type\": \"choropleth\"}], \"contour\": [{\"colorbar\": {\"outlinewidth\": 0, \"ticks\": \"\"}, \"colorscale\": [[0.0, \"#0d0887\"], [0.1111111111111111, \"#46039f\"], [0.2222222222222222, \"#7201a8\"], [0.3333333333333333, \"#9c179e\"], [0.4444444444444444, \"#bd3786\"], [0.5555555555555556, \"#d8576b\"], [0.6666666666666666, \"#ed7953\"], [0.7777777777777778, \"#fb9f3a\"], [0.8888888888888888, \"#fdca26\"], [1.0, \"#f0f921\"]], \"type\": \"contour\"}], \"contourcarpet\": [{\"colorbar\": {\"outlinewidth\": 0, \"ticks\": \"\"}, \"type\": \"contourcarpet\"}], \"heatmap\": [{\"colorbar\": {\"outlinewidth\": 0, \"ticks\": \"\"}, \"colorscale\": [[0.0, \"#0d0887\"], [0.1111111111111111, \"#46039f\"], [0.2222222222222222, \"#7201a8\"], [0.3333333333333333, \"#9c179e\"], [0.4444444444444444, \"#bd3786\"], [0.5555555555555556, \"#d8576b\"], [0.6666666666666666, \"#ed7953\"], [0.7777777777777778, \"#fb9f3a\"], [0.8888888888888888, \"#fdca26\"], [1.0, \"#f0f921\"]], \"type\": \"heatmap\"}], \"heatmapgl\": [{\"colorbar\": {\"outlinewidth\": 0, \"ticks\": \"\"}, \"colorscale\": [[0.0, \"#0d0887\"], [0.1111111111111111, \"#46039f\"], [0.2222222222222222, \"#7201a8\"], [0.3333333333333333, \"#9c179e\"], [0.4444444444444444, \"#bd3786\"], [0.5555555555555556, \"#d8576b\"], [0.6666666666666666, \"#ed7953\"], [0.7777777777777778, \"#fb9f3a\"], [0.8888888888888888, \"#fdca26\"], [1.0, \"#f0f921\"]], \"type\": \"heatmapgl\"}], \"histogram\": [{\"marker\": {\"colorbar\": {\"outlinewidth\": 0, \"ticks\": \"\"}}, \"type\": \"histogram\"}], \"histogram2d\": [{\"colorbar\": {\"outlinewidth\": 0, \"ticks\": \"\"}, \"colorscale\": [[0.0, \"#0d0887\"], [0.1111111111111111, \"#46039f\"], [0.2222222222222222, \"#7201a8\"], [0.3333333333333333, \"#9c179e\"], [0.4444444444444444, \"#bd3786\"], [0.5555555555555556, \"#d8576b\"], [0.6666666666666666, \"#ed7953\"], [0.7777777777777778, \"#fb9f3a\"], [0.8888888888888888, \"#fdca26\"], [1.0, \"#f0f921\"]], \"type\": \"histogram2d\"}], \"histogram2dcontour\": [{\"colorbar\": {\"outlinewidth\": 0, \"ticks\": \"\"}, \"colorscale\": [[0.0, \"#0d0887\"], [0.1111111111111111, \"#46039f\"], [0.2222222222222222, \"#7201a8\"], [0.3333333333333333, \"#9c179e\"], [0.4444444444444444, \"#bd3786\"], [0.5555555555555556, \"#d8576b\"], [0.6666666666666666, \"#ed7953\"], [0.7777777777777778, \"#fb9f3a\"], [0.8888888888888888, \"#fdca26\"], [1.0, \"#f0f921\"]], \"type\": \"histogram2dcontour\"}], \"mesh3d\": [{\"colorbar\": {\"outlinewidth\": 0, \"ticks\": \"\"}, \"type\": \"mesh3d\"}], \"parcoords\": [{\"line\": {\"colorbar\": {\"outlinewidth\": 0, \"ticks\": \"\"}}, \"type\": \"parcoords\"}], \"pie\": [{\"automargin\": true, \"type\": \"pie\"}], \"scatter\": [{\"marker\": {\"colorbar\": {\"outlinewidth\": 0, \"ticks\": \"\"}}, \"type\": \"scatter\"}], \"scatter3d\": [{\"line\": {\"colorbar\": {\"outlinewidth\": 0, \"ticks\": \"\"}}, \"marker\": {\"colorbar\": {\"outlinewidth\": 0, \"ticks\": \"\"}}, \"type\": \"scatter3d\"}], \"scattercarpet\": [{\"marker\": {\"colorbar\": {\"outlinewidth\": 0, \"ticks\": \"\"}}, \"type\": \"scattercarpet\"}], \"scattergeo\": [{\"marker\": {\"colorbar\": {\"outlinewidth\": 0, \"ticks\": \"\"}}, \"type\": \"scattergeo\"}], \"scattergl\": [{\"marker\": {\"colorbar\": {\"outlinewidth\": 0, \"ticks\": \"\"}}, \"type\": \"scattergl\"}], \"scattermapbox\": [{\"marker\": {\"colorbar\": {\"outlinewidth\": 0, \"ticks\": \"\"}}, \"type\": \"scattermapbox\"}], \"scatterpolar\": [{\"marker\": {\"colorbar\": {\"outlinewidth\": 0, \"ticks\": \"\"}}, \"type\": \"scatterpolar\"}], \"scatterpolargl\": [{\"marker\": {\"colorbar\": {\"outlinewidth\": 0, \"ticks\": \"\"}}, \"type\": \"scatterpolargl\"}], \"scatterternary\": [{\"marker\": {\"colorbar\": {\"outlinewidth\": 0, \"ticks\": \"\"}}, \"type\": \"scatterternary\"}], \"surface\": [{\"colorbar\": {\"outlinewidth\": 0, \"ticks\": \"\"}, \"colorscale\": [[0.0, \"#0d0887\"], [0.1111111111111111, \"#46039f\"], [0.2222222222222222, \"#7201a8\"], [0.3333333333333333, \"#9c179e\"], [0.4444444444444444, \"#bd3786\"], [0.5555555555555556, \"#d8576b\"], [0.6666666666666666, \"#ed7953\"], [0.7777777777777778, \"#fb9f3a\"], [0.8888888888888888, \"#fdca26\"], [1.0, \"#f0f921\"]], \"type\": \"surface\"}], \"table\": [{\"cells\": {\"fill\": {\"color\": \"#EBF0F8\"}, \"line\": {\"color\": \"white\"}}, \"header\": {\"fill\": {\"color\": \"#C8D4E3\"}, \"line\": {\"color\": \"white\"}}, \"type\": \"table\"}]}, \"layout\": {\"annotationdefaults\": {\"arrowcolor\": \"#2a3f5f\", \"arrowhead\": 0, \"arrowwidth\": 1}, \"coloraxis\": {\"colorbar\": {\"outlinewidth\": 0, \"ticks\": \"\"}}, \"colorscale\": {\"diverging\": [[0, \"#8e0152\"], [0.1, \"#c51b7d\"], [0.2, \"#de77ae\"], [0.3, \"#f1b6da\"], [0.4, \"#fde0ef\"], [0.5, \"#f7f7f7\"], [0.6, \"#e6f5d0\"], [0.7, \"#b8e186\"], [0.8, \"#7fbc41\"], [0.9, \"#4d9221\"], [1, \"#276419\"]], \"sequential\": [[0.0, \"#0d0887\"], [0.1111111111111111, \"#46039f\"], [0.2222222222222222, \"#7201a8\"], [0.3333333333333333, \"#9c179e\"], [0.4444444444444444, \"#bd3786\"], [0.5555555555555556, \"#d8576b\"], [0.6666666666666666, \"#ed7953\"], [0.7777777777777778, \"#fb9f3a\"], [0.8888888888888888, \"#fdca26\"], [1.0, \"#f0f921\"]], \"sequentialminus\": [[0.0, \"#0d0887\"], [0.1111111111111111, \"#46039f\"], [0.2222222222222222, \"#7201a8\"], [0.3333333333333333, \"#9c179e\"], [0.4444444444444444, \"#bd3786\"], [0.5555555555555556, \"#d8576b\"], [0.6666666666666666, \"#ed7953\"], [0.7777777777777778, \"#fb9f3a\"], [0.8888888888888888, \"#fdca26\"], [1.0, \"#f0f921\"]]}, \"colorway\": [\"#636efa\", \"#EF553B\", \"#00cc96\", \"#ab63fa\", \"#FFA15A\", \"#19d3f3\", \"#FF6692\", \"#B6E880\", \"#FF97FF\", \"#FECB52\"], \"font\": {\"color\": \"#2a3f5f\"}, \"geo\": {\"bgcolor\": \"white\", \"lakecolor\": \"white\", \"landcolor\": \"#E5ECF6\", \"showlakes\": true, \"showland\": true, \"subunitcolor\": \"white\"}, \"hoverlabel\": {\"align\": \"left\"}, \"hovermode\": \"closest\", \"mapbox\": {\"style\": \"light\"}, \"paper_bgcolor\": \"white\", \"plot_bgcolor\": \"#E5ECF6\", \"polar\": {\"angularaxis\": {\"gridcolor\": \"white\", \"linecolor\": \"white\", \"ticks\": \"\"}, \"bgcolor\": \"#E5ECF6\", \"radialaxis\": {\"gridcolor\": \"white\", \"linecolor\": \"white\", \"ticks\": \"\"}}, \"scene\": {\"xaxis\": {\"backgroundcolor\": \"#E5ECF6\", \"gridcolor\": \"white\", \"gridwidth\": 2, \"linecolor\": \"white\", \"showbackground\": true, \"ticks\": \"\", \"zerolinecolor\": \"white\"}, \"yaxis\": {\"backgroundcolor\": \"#E5ECF6\", \"gridcolor\": \"white\", \"gridwidth\": 2, \"linecolor\": \"white\", \"showbackground\": true, \"ticks\": \"\", \"zerolinecolor\": \"white\"}, \"zaxis\": {\"backgroundcolor\": \"#E5ECF6\", \"gridcolor\": \"white\", \"gridwidth\": 2, \"linecolor\": \"white\", \"showbackground\": true, \"ticks\": \"\", \"zerolinecolor\": \"white\"}}, \"shapedefaults\": {\"line\": {\"color\": \"#2a3f5f\"}}, \"ternary\": {\"aaxis\": {\"gridcolor\": \"white\", \"linecolor\": \"white\", \"ticks\": \"\"}, \"baxis\": {\"gridcolor\": \"white\", \"linecolor\": \"white\", \"ticks\": \"\"}, \"bgcolor\": \"#E5ECF6\", \"caxis\": {\"gridcolor\": \"white\", \"linecolor\": \"white\", \"ticks\": \"\"}}, \"title\": {\"x\": 0.05}, \"xaxis\": {\"automargin\": true, \"gridcolor\": \"white\", \"linecolor\": \"white\", \"ticks\": \"\", \"title\": {\"standoff\": 15}, \"zerolinecolor\": \"white\", \"zerolinewidth\": 2}, \"yaxis\": {\"automargin\": true, \"gridcolor\": \"white\", \"linecolor\": \"white\", \"ticks\": \"\", \"title\": {\"standoff\": 15}, \"zerolinecolor\": \"white\", \"zerolinewidth\": 2}}}, \"updatemenus\": [{\"active\": 0, \"buttons\": [{\"args\": [\"shapes\", []], \"label\": \"-\", \"method\": \"relayout\"}, {\"args\": [\"shapes\", [{\"fillcolor\": \"lightgray\", \"layer\": \"below\", \"line\": {\"color\": \"white\", \"width\": 0.1}, \"line_width\": 0, \"type\": \"rect\", \"x0\": \"1969-10-01T00:00:00\", \"x1\": \"1970-10-01T00:00:00\", \"xref\": \"x\", \"y0\": 0, \"y1\": 0.97, \"yref\": \"paper\"}, {\"fillcolor\": \"lightgray\", \"layer\": \"below\", \"line\": {\"color\": \"white\", \"width\": 0.1}, \"line_width\": 0, \"type\": \"rect\", \"x0\": \"1973-10-01T00:00:00\", \"x1\": \"1975-01-01T00:00:00\", \"xref\": \"x\", \"y0\": 0, \"y1\": 0.97, \"yref\": \"paper\"}, {\"fillcolor\": \"lightgray\", \"layer\": \"below\", \"line\": {\"color\": \"white\", \"width\": 0.1}, \"line_width\": 0, \"type\": \"rect\", \"x0\": \"1980-01-01T00:00:00\", \"x1\": \"1980-07-01T00:00:00\", \"xref\": \"x\", \"y0\": 0, \"y1\": 0.97, \"yref\": \"paper\"}, {\"fillcolor\": \"lightgray\", \"layer\": \"below\", \"line\": {\"color\": \"white\", \"width\": 0.1}, \"line_width\": 0, \"type\": \"rect\", \"x0\": \"1981-07-01T00:00:00\", \"x1\": \"1982-10-01T00:00:00\", \"xref\": \"x\", \"y0\": 0, \"y1\": 0.97, \"yref\": \"paper\"}, {\"fillcolor\": \"lightgray\", \"layer\": \"below\", \"line\": {\"color\": \"white\", \"width\": 0.1}, \"line_width\": 0, \"type\": \"rect\", \"x0\": \"1990-07-01T00:00:00\", \"x1\": \"1991-01-01T00:00:00\", \"xref\": \"x\", \"y0\": 0, \"y1\": 0.97, \"yref\": \"paper\"}, {\"fillcolor\": \"lightgray\", \"layer\": \"below\", \"line\": {\"color\": \"white\", \"width\": 0.1}, \"line_width\": 0, \"type\": \"rect\", \"x0\": \"2001-01-01T00:00:00\", \"x1\": \"2001-10-01T00:00:00\", \"xref\": \"x\", \"y0\": 0, \"y1\": 0.97, \"yref\": \"paper\"}, {\"fillcolor\": \"lightgray\", \"layer\": \"below\", \"line\": {\"color\": \"white\", \"width\": 0.1}, \"line_width\": 0, \"type\": \"rect\", \"x0\": \"2007-10-01T00:00:00\", \"x1\": \"2009-04-01T00:00:00\", \"xref\": \"x\", \"y0\": 0, \"y1\": 0.97, \"yref\": \"paper\"}]], \"label\": \"+\", \"method\": \"relayout\"}], \"direction\": \"right\", \"type\": \"buttons\", \"x\": 1, \"y\": 1.2}], \"width\": 1020, \"xaxis\": {\"linecolor\": \"rgb(204, 204, 204)\", \"linewidth\": 2, \"showgrid\": true, \"showline\": true, \"showticklabels\": true, \"tickfont\": {\"color\": \"rgb(82, 82, 82)\", \"family\": \"Arial\", \"size\": 12}, \"ticks\": \"outside\"}, \"yaxis\": {\"gridcolor\": \"rgb(204, 204, 204)\", \"showgrid\": true, \"showline\": true, \"showticklabels\": true, \"zeroline\": false}},\n",
       "                        {\"responsive\": true}\n",
       "                    ).then(function(){\n",
       "                            \n",
       "var gd = document.getElementById('b3dd65d1-fa12-4acc-b5f4-5e025e137db2');\n",
       "var x = new MutationObserver(function (mutations, observer) {{\n",
       "        var display = window.getComputedStyle(gd).display;\n",
       "        if (!display || display === 'none') {{\n",
       "            console.log([gd, 'removed!']);\n",
       "            Plotly.purge(gd);\n",
       "            observer.disconnect();\n",
       "        }}\n",
       "}});\n",
       "\n",
       "// Listen for the removal of the full notebook cells\n",
       "var notebookContainer = gd.closest('#notebook-container');\n",
       "if (notebookContainer) {{\n",
       "    x.observe(notebookContainer, {childList: true});\n",
       "}}\n",
       "\n",
       "// Listen for the clearing of the current output cell\n",
       "var outputEl = gd.closest('.output');\n",
       "if (outputEl) {{\n",
       "    x.observe(outputEl, {childList: true});\n",
       "}}\n",
       "\n",
       "                        })\n",
       "                };\n",
       "                });\n",
       "            </script>\n",
       "        </div>"
      ]
     },
     "metadata": {},
     "output_type": "display_data"
    }
   ],
   "source": [
    "s = ['Homeownership Rate for the United States [RHORUSQ156N]']\n",
    "dic = dict_from_FRED_description(s)\n",
    "df = make_hrizontal_tbl(dic, start=start)\n",
    "fig_homeownership = plot_nice(title='Homeownership Rate', dic=dic, df=df, \n",
    "          margin=dict(autoexpand=False,l=120,r=120,t=110,), \n",
    "          show_series_label=False,\n",
    "          recessions=True,\n",
    "          y_units='%')"
   ]
  },
  {
   "cell_type": "code",
   "execution_count": 52,
   "metadata": {},
   "outputs": [],
   "source": [
    "fig_homeownership.write_html(\"../images/jm01_homeownership.html\")"
   ]
  },
  {
   "cell_type": "markdown",
   "metadata": {},
   "source": [
    "# Affordability\n",
    "\n",
    "** to be discussed -  median hh income seems nice, but series are annual...trade-off to use median income - monthly or quaterly data**\n",
    "\n",
    "** adjusted TS of all times data to match middle of the time unit **\n",
    "\n",
    "** 1/Jan significa 1st quarter. -> add 45 days = 15fev **\n",
    "\n",
    "### load data"
   ]
  },
  {
   "cell_type": "markdown",
   "metadata": {},
   "source": [
    "One way that affordability is usually measured is an ratio that shows median burden: median income*30% / mortgage rate * median house prices. I will not make any adjustments to the amount financed, as there are offsetting items (transaction costs, insurance x lower amount financed as hh have to make a down payment). This will not guarantee how much the median hh is burdened by mortgage, but we will have a interesting variation on the TS.\n",
    "\n",
    "On this section, I adjust differences of the series, so I can have coherent dates and frequencies.\n",
    "* Homeownership rates and median sales prices of houses sold are given quaterly.\n",
    "* Median income is annual. \n",
    "* mortgage rates are weekly\n",
    "* Annual and quarterly dates, when imported, comes as 1st day of period"
   ]
  },
  {
   "cell_type": "code",
   "execution_count": 7,
   "metadata": {},
   "outputs": [],
   "source": [
    "s = ['Homeownership [RHORUSQ156N]',\n",
    "    'Median house prices [MSPUS]',\n",
    "    'Mortgage rates [MORTGAGE30US]',\n",
    "    'Median income [MEHOINUSA646N]']\n",
    "dic = dict_from_FRED_description(s)\n",
    "df1 = make_hrizontal_tbl(dic, start=start)\n",
    "df = df1.copy()"
   ]
  },
  {
   "cell_type": "code",
   "execution_count": 8,
   "metadata": {},
   "outputs": [
    {
     "data": {
      "text/html": [
       "<div>\n",
       "<style scoped>\n",
       "    .dataframe tbody tr th:only-of-type {\n",
       "        vertical-align: middle;\n",
       "    }\n",
       "\n",
       "    .dataframe tbody tr th {\n",
       "        vertical-align: top;\n",
       "    }\n",
       "\n",
       "    .dataframe thead th {\n",
       "        text-align: right;\n",
       "    }\n",
       "</style>\n",
       "<table border=\"1\" class=\"dataframe\">\n",
       "  <thead>\n",
       "    <tr style=\"text-align: right;\">\n",
       "      <th></th>\n",
       "      <th>RHORUSQ156N</th>\n",
       "      <th>MSPUS</th>\n",
       "      <th>MORTGAGE30US</th>\n",
       "      <th>MEHOINUSA646N</th>\n",
       "    </tr>\n",
       "  </thead>\n",
       "  <tbody>\n",
       "    <tr>\n",
       "      <th>count</th>\n",
       "      <td>221.000000</td>\n",
       "      <td>229.000000</td>\n",
       "      <td>2565.000000</td>\n",
       "      <td>35.000000</td>\n",
       "    </tr>\n",
       "    <tr>\n",
       "      <th>mean</th>\n",
       "      <td>65.229412</td>\n",
       "      <td>135742.794760</td>\n",
       "      <td>7.961836</td>\n",
       "      <td>41430.400000</td>\n",
       "    </tr>\n",
       "    <tr>\n",
       "      <th>std</th>\n",
       "      <td>1.607226</td>\n",
       "      <td>94874.086932</td>\n",
       "      <td>3.219494</td>\n",
       "      <td>11454.184204</td>\n",
       "    </tr>\n",
       "    <tr>\n",
       "      <th>min</th>\n",
       "      <td>62.900000</td>\n",
       "      <td>17800.000000</td>\n",
       "      <td>3.230000</td>\n",
       "      <td>22415.000000</td>\n",
       "    </tr>\n",
       "    <tr>\n",
       "      <th>25%</th>\n",
       "      <td>64.100000</td>\n",
       "      <td>48800.000000</td>\n",
       "      <td>5.690000</td>\n",
       "      <td>30938.500000</td>\n",
       "    </tr>\n",
       "    <tr>\n",
       "      <th>50%</th>\n",
       "      <td>64.700000</td>\n",
       "      <td>120000.000000</td>\n",
       "      <td>7.540000</td>\n",
       "      <td>42228.000000</td>\n",
       "    </tr>\n",
       "    <tr>\n",
       "      <th>75%</th>\n",
       "      <td>65.900000</td>\n",
       "      <td>220900.000000</td>\n",
       "      <td>9.720000</td>\n",
       "      <td>50143.500000</td>\n",
       "    </tr>\n",
       "    <tr>\n",
       "      <th>max</th>\n",
       "      <td>69.200000</td>\n",
       "      <td>337900.000000</td>\n",
       "      <td>18.630000</td>\n",
       "      <td>63179.000000</td>\n",
       "    </tr>\n",
       "  </tbody>\n",
       "</table>\n",
       "</div>"
      ],
      "text/plain": [
       "       RHORUSQ156N          MSPUS  MORTGAGE30US  MEHOINUSA646N\n",
       "count   221.000000     229.000000   2565.000000      35.000000\n",
       "mean     65.229412  135742.794760      7.961836   41430.400000\n",
       "std       1.607226   94874.086932      3.219494   11454.184204\n",
       "min      62.900000   17800.000000      3.230000   22415.000000\n",
       "25%      64.100000   48800.000000      5.690000   30938.500000\n",
       "50%      64.700000  120000.000000      7.540000   42228.000000\n",
       "75%      65.900000  220900.000000      9.720000   50143.500000\n",
       "max      69.200000  337900.000000     18.630000   63179.000000"
      ]
     },
     "execution_count": 8,
     "metadata": {},
     "output_type": "execute_result"
    }
   ],
   "source": [
    "df1.describe()"
   ]
  },
  {
   "cell_type": "markdown",
   "metadata": {},
   "source": [
    "### set time span\n",
    "As seen bellow, median HH income series begin on 1984, so I will start series at that date."
   ]
  },
  {
   "cell_type": "code",
   "execution_count": 9,
   "metadata": {
    "scrolled": false
   },
   "outputs": [
    {
     "name": "stdout",
     "output_type": "stream",
     "text": [
      "1965-01-01 00:00:00 RHORUSQ156N\n",
      "1963-01-01 00:00:00 MSPUS\n",
      "1971-04-02 00:00:00 MORTGAGE30US\n",
      "1984-01-01 00:00:00 MEHOINUSA646N\n"
     ]
    },
    {
     "data": {
      "text/plain": [
       "[None, None, None, None]"
      ]
     },
     "execution_count": 9,
     "metadata": {},
     "output_type": "execute_result"
    }
   ],
   "source": [
    "[print(df.index[df[key].notna()][0], key) for key in dic.keys()]"
   ]
  },
  {
   "cell_type": "markdown",
   "metadata": {},
   "source": [
    "Before cutting the series, I will impute empty values for mortgage rates. \n",
    "* mortgage rates are reported on last day of the week \n",
    "* homeownership is quarterly and when imported gets day one of next month (ex; Q1 = 1-1-YYYY)\n",
    "* income is annual, and when imported date is set to first day of year\n",
    "\n",
    "**temporary adjustment - to be corrected later**: by making imputation before, I dont lose 1st value for mortgage on 1984.\n",
    "\n",
    "* impute last observed mortgage rate on NA's cells (later make mean mortgage rate)\n",
    "* drop dates in between\n",
    "* shift annual income to middle of the year - in many steps:\n",
    "    - send to middle of year, but actually to match other quarterly data.\n",
    "    - then change index of all quarterly data\n",
    "    - finally impute for each quarter\n"
   ]
  },
  {
   "cell_type": "markdown",
   "metadata": {},
   "source": [
    "#### 1. shift income cells\n",
    "A easy way to shift, given number of cells in between is not the same is to extract the dates and income column, add 3 months to the dates - to match the other quartely data - , and merge back."
   ]
  },
  {
   "cell_type": "code",
   "execution_count": 10,
   "metadata": {},
   "outputs": [
    {
     "data": {
      "text/html": [
       "<div>\n",
       "<style scoped>\n",
       "    .dataframe tbody tr th:only-of-type {\n",
       "        vertical-align: middle;\n",
       "    }\n",
       "\n",
       "    .dataframe tbody tr th {\n",
       "        vertical-align: top;\n",
       "    }\n",
       "\n",
       "    .dataframe thead th {\n",
       "        text-align: right;\n",
       "    }\n",
       "</style>\n",
       "<table border=\"1\" class=\"dataframe\">\n",
       "  <thead>\n",
       "    <tr style=\"text-align: right;\">\n",
       "      <th></th>\n",
       "      <th>DATE</th>\n",
       "      <th>MEHOINUSA646N</th>\n",
       "    </tr>\n",
       "  </thead>\n",
       "  <tbody>\n",
       "    <tr>\n",
       "      <th>0</th>\n",
       "      <td>1984-01-01</td>\n",
       "      <td>22415.0</td>\n",
       "    </tr>\n",
       "    <tr>\n",
       "      <th>1</th>\n",
       "      <td>1985-01-01</td>\n",
       "      <td>23618.0</td>\n",
       "    </tr>\n",
       "    <tr>\n",
       "      <th>2</th>\n",
       "      <td>1986-01-01</td>\n",
       "      <td>24897.0</td>\n",
       "    </tr>\n",
       "  </tbody>\n",
       "</table>\n",
       "</div>"
      ],
      "text/plain": [
       "        DATE  MEHOINUSA646N\n",
       "0 1984-01-01        22415.0\n",
       "1 1985-01-01        23618.0\n",
       "2 1986-01-01        24897.0"
      ]
     },
     "execution_count": 10,
     "metadata": {},
     "output_type": "execute_result"
    }
   ],
   "source": [
    "# extract dates and income\n",
    "tbl = df.MEHOINUSA646N[df.MEHOINUSA646N.notna()].reset_index()\n",
    "tbl.head(3)"
   ]
  },
  {
   "cell_type": "code",
   "execution_count": 11,
   "metadata": {},
   "outputs": [
    {
     "data": {
      "text/html": [
       "<div>\n",
       "<style scoped>\n",
       "    .dataframe tbody tr th:only-of-type {\n",
       "        vertical-align: middle;\n",
       "    }\n",
       "\n",
       "    .dataframe tbody tr th {\n",
       "        vertical-align: top;\n",
       "    }\n",
       "\n",
       "    .dataframe thead th {\n",
       "        text-align: right;\n",
       "    }\n",
       "</style>\n",
       "<table border=\"1\" class=\"dataframe\">\n",
       "  <thead>\n",
       "    <tr style=\"text-align: right;\">\n",
       "      <th></th>\n",
       "      <th>MEHOINUSA646N</th>\n",
       "    </tr>\n",
       "    <tr>\n",
       "      <th>DATE</th>\n",
       "      <th></th>\n",
       "    </tr>\n",
       "  </thead>\n",
       "  <tbody>\n",
       "    <tr>\n",
       "      <th>1984-04-01</th>\n",
       "      <td>22415.0</td>\n",
       "    </tr>\n",
       "    <tr>\n",
       "      <th>1985-04-01</th>\n",
       "      <td>23618.0</td>\n",
       "    </tr>\n",
       "    <tr>\n",
       "      <th>1986-04-01</th>\n",
       "      <td>24897.0</td>\n",
       "    </tr>\n",
       "  </tbody>\n",
       "</table>\n",
       "</div>"
      ],
      "text/plain": [
       "            MEHOINUSA646N\n",
       "DATE                     \n",
       "1984-04-01        22415.0\n",
       "1985-04-01        23618.0\n",
       "1986-04-01        24897.0"
      ]
     },
     "execution_count": 11,
     "metadata": {},
     "output_type": "execute_result"
    }
   ],
   "source": [
    "tbl.DATE  = tbl.DATE + pd.offsets.MonthOffset(3) #to match second quarter on April\n",
    "tbl.set_index('DATE', inplace = True)\n",
    "tbl.head(3)"
   ]
  },
  {
   "cell_type": "code",
   "execution_count": 12,
   "metadata": {},
   "outputs": [
    {
     "data": {
      "text/html": [
       "<div>\n",
       "<style scoped>\n",
       "    .dataframe tbody tr th:only-of-type {\n",
       "        vertical-align: middle;\n",
       "    }\n",
       "\n",
       "    .dataframe tbody tr th {\n",
       "        vertical-align: top;\n",
       "    }\n",
       "\n",
       "    .dataframe thead th {\n",
       "        text-align: right;\n",
       "    }\n",
       "</style>\n",
       "<table border=\"1\" class=\"dataframe\">\n",
       "  <thead>\n",
       "    <tr style=\"text-align: right;\">\n",
       "      <th></th>\n",
       "      <th>RHORUSQ156N</th>\n",
       "      <th>MSPUS</th>\n",
       "      <th>MORTGAGE30US</th>\n",
       "      <th>MEHOINUSA646N</th>\n",
       "    </tr>\n",
       "    <tr>\n",
       "      <th>DATE</th>\n",
       "      <th></th>\n",
       "      <th></th>\n",
       "      <th></th>\n",
       "      <th></th>\n",
       "    </tr>\n",
       "  </thead>\n",
       "  <tbody>\n",
       "    <tr>\n",
       "      <th>1984-04-01</th>\n",
       "      <td>64.6</td>\n",
       "      <td>80700.0</td>\n",
       "      <td>NaN</td>\n",
       "      <td>22415.0</td>\n",
       "    </tr>\n",
       "    <tr>\n",
       "      <th>1984-04-06</th>\n",
       "      <td>NaN</td>\n",
       "      <td>NaN</td>\n",
       "      <td>13.63</td>\n",
       "      <td>NaN</td>\n",
       "    </tr>\n",
       "    <tr>\n",
       "      <th>1984-04-13</th>\n",
       "      <td>NaN</td>\n",
       "      <td>NaN</td>\n",
       "      <td>13.58</td>\n",
       "      <td>NaN</td>\n",
       "    </tr>\n",
       "  </tbody>\n",
       "</table>\n",
       "</div>"
      ],
      "text/plain": [
       "            RHORUSQ156N    MSPUS  MORTGAGE30US  MEHOINUSA646N\n",
       "DATE                                                         \n",
       "1984-04-01         64.6  80700.0           NaN        22415.0\n",
       "1984-04-06          NaN      NaN         13.63            NaN\n",
       "1984-04-13          NaN      NaN         13.58            NaN"
      ]
     },
     "execution_count": 12,
     "metadata": {},
     "output_type": "execute_result"
    }
   ],
   "source": [
    "df = df.drop('MEHOINUSA646N',1) \n",
    "df = df.join(tbl)\n",
    "df[df.index>='1984-04-01'].head(3)"
   ]
  },
  {
   "cell_type": "markdown",
   "metadata": {},
   "source": [
    "#### 2. shift all quartely data\n",
    "Similar procedure adopted for income only, now for all quarterly data, so dates are the middle of the quarter."
   ]
  },
  {
   "cell_type": "code",
   "execution_count": 13,
   "metadata": {},
   "outputs": [],
   "source": [
    "# make a copy to use later for robustness check with zillow data.\n",
    "df_full=df.copy()"
   ]
  },
  {
   "cell_type": "code",
   "execution_count": 14,
   "metadata": {},
   "outputs": [],
   "source": [
    "# Move all data originally quaterly by 2 months  ---------- mb better 45 days ???\n",
    "originally_quart = df.drop('MORTGAGE30US', 1)\n",
    "originally_week = df['MORTGAGE30US'].to_frame().dropna()"
   ]
  },
  {
   "cell_type": "code",
   "execution_count": 15,
   "metadata": {},
   "outputs": [
    {
     "data": {
      "text/html": [
       "<div>\n",
       "<style scoped>\n",
       "    .dataframe tbody tr th:only-of-type {\n",
       "        vertical-align: middle;\n",
       "    }\n",
       "\n",
       "    .dataframe tbody tr th {\n",
       "        vertical-align: top;\n",
       "    }\n",
       "\n",
       "    .dataframe thead th {\n",
       "        text-align: right;\n",
       "    }\n",
       "</style>\n",
       "<table border=\"1\" class=\"dataframe\">\n",
       "  <thead>\n",
       "    <tr style=\"text-align: right;\">\n",
       "      <th></th>\n",
       "      <th>RHORUSQ156N</th>\n",
       "      <th>MSPUS</th>\n",
       "      <th>MORTGAGE30US</th>\n",
       "      <th>MEHOINUSA646N</th>\n",
       "    </tr>\n",
       "    <tr>\n",
       "      <th>DATE</th>\n",
       "      <th></th>\n",
       "      <th></th>\n",
       "      <th></th>\n",
       "      <th></th>\n",
       "    </tr>\n",
       "  </thead>\n",
       "  <tbody>\n",
       "    <tr>\n",
       "      <th>1984-04-01</th>\n",
       "      <td>64.6</td>\n",
       "      <td>80700.0</td>\n",
       "      <td>NaN</td>\n",
       "      <td>22415.0</td>\n",
       "    </tr>\n",
       "    <tr>\n",
       "      <th>1984-04-06</th>\n",
       "      <td>NaN</td>\n",
       "      <td>NaN</td>\n",
       "      <td>13.63</td>\n",
       "      <td>NaN</td>\n",
       "    </tr>\n",
       "    <tr>\n",
       "      <th>1984-04-13</th>\n",
       "      <td>NaN</td>\n",
       "      <td>NaN</td>\n",
       "      <td>13.58</td>\n",
       "      <td>NaN</td>\n",
       "    </tr>\n",
       "  </tbody>\n",
       "</table>\n",
       "</div>"
      ],
      "text/plain": [
       "            RHORUSQ156N    MSPUS  MORTGAGE30US  MEHOINUSA646N\n",
       "DATE                                                         \n",
       "1984-04-01         64.6  80700.0           NaN        22415.0\n",
       "1984-04-06          NaN      NaN         13.63            NaN\n",
       "1984-04-13          NaN      NaN         13.58            NaN"
      ]
     },
     "execution_count": 15,
     "metadata": {},
     "output_type": "execute_result"
    }
   ],
   "source": [
    "df[df.index>='1984-04-01'].head(3)"
   ]
  },
  {
   "cell_type": "code",
   "execution_count": 16,
   "metadata": {
    "scrolled": true
   },
   "outputs": [
    {
     "data": {
      "text/html": [
       "<div>\n",
       "<style scoped>\n",
       "    .dataframe tbody tr th:only-of-type {\n",
       "        vertical-align: middle;\n",
       "    }\n",
       "\n",
       "    .dataframe tbody tr th {\n",
       "        vertical-align: top;\n",
       "    }\n",
       "\n",
       "    .dataframe thead th {\n",
       "        text-align: right;\n",
       "    }\n",
       "</style>\n",
       "<table border=\"1\" class=\"dataframe\">\n",
       "  <thead>\n",
       "    <tr style=\"text-align: right;\">\n",
       "      <th></th>\n",
       "      <th>MORTGAGE30US</th>\n",
       "    </tr>\n",
       "    <tr>\n",
       "      <th>DATE</th>\n",
       "      <th></th>\n",
       "    </tr>\n",
       "  </thead>\n",
       "  <tbody>\n",
       "    <tr>\n",
       "      <th>1984-04-06</th>\n",
       "      <td>13.63</td>\n",
       "    </tr>\n",
       "    <tr>\n",
       "      <th>1984-04-13</th>\n",
       "      <td>13.58</td>\n",
       "    </tr>\n",
       "    <tr>\n",
       "      <th>1984-04-20</th>\n",
       "      <td>13.67</td>\n",
       "    </tr>\n",
       "  </tbody>\n",
       "</table>\n",
       "</div>"
      ],
      "text/plain": [
       "            MORTGAGE30US\n",
       "DATE                    \n",
       "1984-04-06         13.63\n",
       "1984-04-13         13.58\n",
       "1984-04-20         13.67"
      ]
     },
     "execution_count": 16,
     "metadata": {},
     "output_type": "execute_result"
    }
   ],
   "source": [
    "originally_week [originally_week.index>='1984-04-01'].head(3)"
   ]
  },
  {
   "cell_type": "code",
   "execution_count": 17,
   "metadata": {},
   "outputs": [
    {
     "data": {
      "text/html": [
       "<div>\n",
       "<style scoped>\n",
       "    .dataframe tbody tr th:only-of-type {\n",
       "        vertical-align: middle;\n",
       "    }\n",
       "\n",
       "    .dataframe tbody tr th {\n",
       "        vertical-align: top;\n",
       "    }\n",
       "\n",
       "    .dataframe thead th {\n",
       "        text-align: right;\n",
       "    }\n",
       "</style>\n",
       "<table border=\"1\" class=\"dataframe\">\n",
       "  <thead>\n",
       "    <tr style=\"text-align: right;\">\n",
       "      <th></th>\n",
       "      <th>RHORUSQ156N</th>\n",
       "      <th>MSPUS</th>\n",
       "      <th>MEHOINUSA646N</th>\n",
       "    </tr>\n",
       "    <tr>\n",
       "      <th>DATE</th>\n",
       "      <th></th>\n",
       "      <th></th>\n",
       "      <th></th>\n",
       "    </tr>\n",
       "  </thead>\n",
       "  <tbody>\n",
       "    <tr>\n",
       "      <th>1984-04-01</th>\n",
       "      <td>64.6</td>\n",
       "      <td>80700.0</td>\n",
       "      <td>22415.0</td>\n",
       "    </tr>\n",
       "    <tr>\n",
       "      <th>1984-04-06</th>\n",
       "      <td>NaN</td>\n",
       "      <td>NaN</td>\n",
       "      <td>NaN</td>\n",
       "    </tr>\n",
       "    <tr>\n",
       "      <th>1984-04-13</th>\n",
       "      <td>NaN</td>\n",
       "      <td>NaN</td>\n",
       "      <td>NaN</td>\n",
       "    </tr>\n",
       "  </tbody>\n",
       "</table>\n",
       "</div>"
      ],
      "text/plain": [
       "            RHORUSQ156N    MSPUS  MEHOINUSA646N\n",
       "DATE                                           \n",
       "1984-04-01         64.6  80700.0        22415.0\n",
       "1984-04-06          NaN      NaN            NaN\n",
       "1984-04-13          NaN      NaN            NaN"
      ]
     },
     "execution_count": 17,
     "metadata": {},
     "output_type": "execute_result"
    }
   ],
   "source": [
    "originally_quart[originally_quart.index>='1984-04-01'].head(3)"
   ]
  },
  {
   "cell_type": "code",
   "execution_count": 18,
   "metadata": {},
   "outputs": [],
   "source": [
    "# originally_quart.index = originally_quart.index + dt.timedelta(days=45)\n",
    "originally_quart.index = originally_quart.index + pd.offsets.MonthOffset(2) #to match second quarter on April"
   ]
  },
  {
   "cell_type": "code",
   "execution_count": 19,
   "metadata": {
    "scrolled": true
   },
   "outputs": [
    {
     "data": {
      "text/html": [
       "<div>\n",
       "<style scoped>\n",
       "    .dataframe tbody tr th:only-of-type {\n",
       "        vertical-align: middle;\n",
       "    }\n",
       "\n",
       "    .dataframe tbody tr th {\n",
       "        vertical-align: top;\n",
       "    }\n",
       "\n",
       "    .dataframe thead th {\n",
       "        text-align: right;\n",
       "    }\n",
       "</style>\n",
       "<table border=\"1\" class=\"dataframe\">\n",
       "  <thead>\n",
       "    <tr style=\"text-align: right;\">\n",
       "      <th></th>\n",
       "      <th>RHORUSQ156N</th>\n",
       "      <th>MSPUS</th>\n",
       "      <th>MEHOINUSA646N</th>\n",
       "      <th>MORTGAGE30US</th>\n",
       "    </tr>\n",
       "    <tr>\n",
       "      <th>DATE</th>\n",
       "      <th></th>\n",
       "      <th></th>\n",
       "      <th></th>\n",
       "      <th></th>\n",
       "    </tr>\n",
       "  </thead>\n",
       "  <tbody>\n",
       "    <tr>\n",
       "      <th>1984-04-03</th>\n",
       "      <td>NaN</td>\n",
       "      <td>NaN</td>\n",
       "      <td>NaN</td>\n",
       "      <td>NaN</td>\n",
       "    </tr>\n",
       "    <tr>\n",
       "      <th>1984-04-06</th>\n",
       "      <td>NaN</td>\n",
       "      <td>NaN</td>\n",
       "      <td>NaN</td>\n",
       "      <td>13.63</td>\n",
       "    </tr>\n",
       "    <tr>\n",
       "      <th>1984-04-10</th>\n",
       "      <td>NaN</td>\n",
       "      <td>NaN</td>\n",
       "      <td>NaN</td>\n",
       "      <td>NaN</td>\n",
       "    </tr>\n",
       "  </tbody>\n",
       "</table>\n",
       "</div>"
      ],
      "text/plain": [
       "            RHORUSQ156N  MSPUS  MEHOINUSA646N  MORTGAGE30US\n",
       "DATE                                                       \n",
       "1984-04-03          NaN    NaN            NaN           NaN\n",
       "1984-04-06          NaN    NaN            NaN         13.63\n",
       "1984-04-10          NaN    NaN            NaN           NaN"
      ]
     },
     "execution_count": 19,
     "metadata": {},
     "output_type": "execute_result"
    }
   ],
   "source": [
    "D = originally_quart.merge(originally_week, left_index=True, right_index=True, how='outer')\n",
    "D[D.index>='1984-04-01'].head(3)"
   ]
  },
  {
   "cell_type": "markdown",
   "metadata": {},
   "source": [
    "#### 3. impute mortgage rate"
   ]
  },
  {
   "cell_type": "code",
   "execution_count": 20,
   "metadata": {},
   "outputs": [],
   "source": [
    "# see mortgage rates NAs \n",
    "#D[D.index >=max([D.index[D[key].notna()][0] for key in dic.keys()])].head(30)"
   ]
  },
  {
   "cell_type": "code",
   "execution_count": 21,
   "metadata": {},
   "outputs": [
    {
     "data": {
      "text/html": [
       "<div>\n",
       "<style scoped>\n",
       "    .dataframe tbody tr th:only-of-type {\n",
       "        vertical-align: middle;\n",
       "    }\n",
       "\n",
       "    .dataframe tbody tr th {\n",
       "        vertical-align: top;\n",
       "    }\n",
       "\n",
       "    .dataframe thead th {\n",
       "        text-align: right;\n",
       "    }\n",
       "</style>\n",
       "<table border=\"1\" class=\"dataframe\">\n",
       "  <thead>\n",
       "    <tr style=\"text-align: right;\">\n",
       "      <th></th>\n",
       "      <th>RHORUSQ156N</th>\n",
       "      <th>MSPUS</th>\n",
       "      <th>MEHOINUSA646N</th>\n",
       "      <th>MORTGAGE30US</th>\n",
       "    </tr>\n",
       "    <tr>\n",
       "      <th>DATE</th>\n",
       "      <th></th>\n",
       "      <th></th>\n",
       "      <th></th>\n",
       "      <th></th>\n",
       "    </tr>\n",
       "  </thead>\n",
       "  <tbody>\n",
       "    <tr>\n",
       "      <th>1984-06-01</th>\n",
       "      <td>64.6</td>\n",
       "      <td>80700.0</td>\n",
       "      <td>22415.0</td>\n",
       "      <td>14.29</td>\n",
       "    </tr>\n",
       "    <tr>\n",
       "      <th>1984-06-06</th>\n",
       "      <td>NaN</td>\n",
       "      <td>NaN</td>\n",
       "      <td>NaN</td>\n",
       "      <td>14.29</td>\n",
       "    </tr>\n",
       "    <tr>\n",
       "      <th>1984-06-08</th>\n",
       "      <td>NaN</td>\n",
       "      <td>NaN</td>\n",
       "      <td>NaN</td>\n",
       "      <td>14.33</td>\n",
       "    </tr>\n",
       "    <tr>\n",
       "      <th>1984-06-13</th>\n",
       "      <td>NaN</td>\n",
       "      <td>NaN</td>\n",
       "      <td>NaN</td>\n",
       "      <td>14.33</td>\n",
       "    </tr>\n",
       "    <tr>\n",
       "      <th>1984-06-15</th>\n",
       "      <td>NaN</td>\n",
       "      <td>NaN</td>\n",
       "      <td>NaN</td>\n",
       "      <td>14.47</td>\n",
       "    </tr>\n",
       "    <tr>\n",
       "      <th>1984-06-20</th>\n",
       "      <td>NaN</td>\n",
       "      <td>NaN</td>\n",
       "      <td>NaN</td>\n",
       "      <td>14.47</td>\n",
       "    </tr>\n",
       "    <tr>\n",
       "      <th>1984-06-22</th>\n",
       "      <td>NaN</td>\n",
       "      <td>NaN</td>\n",
       "      <td>NaN</td>\n",
       "      <td>14.49</td>\n",
       "    </tr>\n",
       "    <tr>\n",
       "      <th>1984-06-27</th>\n",
       "      <td>NaN</td>\n",
       "      <td>NaN</td>\n",
       "      <td>NaN</td>\n",
       "      <td>14.49</td>\n",
       "    </tr>\n",
       "    <tr>\n",
       "      <th>1984-06-29</th>\n",
       "      <td>NaN</td>\n",
       "      <td>NaN</td>\n",
       "      <td>NaN</td>\n",
       "      <td>14.50</td>\n",
       "    </tr>\n",
       "    <tr>\n",
       "      <th>1984-07-04</th>\n",
       "      <td>NaN</td>\n",
       "      <td>NaN</td>\n",
       "      <td>NaN</td>\n",
       "      <td>14.50</td>\n",
       "    </tr>\n",
       "    <tr>\n",
       "      <th>1984-07-06</th>\n",
       "      <td>NaN</td>\n",
       "      <td>NaN</td>\n",
       "      <td>NaN</td>\n",
       "      <td>14.66</td>\n",
       "    </tr>\n",
       "    <tr>\n",
       "      <th>1984-07-11</th>\n",
       "      <td>NaN</td>\n",
       "      <td>NaN</td>\n",
       "      <td>NaN</td>\n",
       "      <td>14.66</td>\n",
       "    </tr>\n",
       "    <tr>\n",
       "      <th>1984-07-13</th>\n",
       "      <td>NaN</td>\n",
       "      <td>NaN</td>\n",
       "      <td>NaN</td>\n",
       "      <td>14.68</td>\n",
       "    </tr>\n",
       "    <tr>\n",
       "      <th>1984-07-18</th>\n",
       "      <td>NaN</td>\n",
       "      <td>NaN</td>\n",
       "      <td>NaN</td>\n",
       "      <td>14.68</td>\n",
       "    </tr>\n",
       "    <tr>\n",
       "      <th>1984-07-20</th>\n",
       "      <td>NaN</td>\n",
       "      <td>NaN</td>\n",
       "      <td>NaN</td>\n",
       "      <td>14.66</td>\n",
       "    </tr>\n",
       "    <tr>\n",
       "      <th>1984-07-25</th>\n",
       "      <td>NaN</td>\n",
       "      <td>NaN</td>\n",
       "      <td>NaN</td>\n",
       "      <td>14.66</td>\n",
       "    </tr>\n",
       "    <tr>\n",
       "      <th>1984-07-27</th>\n",
       "      <td>NaN</td>\n",
       "      <td>NaN</td>\n",
       "      <td>NaN</td>\n",
       "      <td>14.67</td>\n",
       "    </tr>\n",
       "    <tr>\n",
       "      <th>1984-08-01</th>\n",
       "      <td>NaN</td>\n",
       "      <td>NaN</td>\n",
       "      <td>NaN</td>\n",
       "      <td>14.67</td>\n",
       "    </tr>\n",
       "    <tr>\n",
       "      <th>1984-08-03</th>\n",
       "      <td>NaN</td>\n",
       "      <td>NaN</td>\n",
       "      <td>NaN</td>\n",
       "      <td>14.68</td>\n",
       "    </tr>\n",
       "    <tr>\n",
       "      <th>1984-08-08</th>\n",
       "      <td>NaN</td>\n",
       "      <td>NaN</td>\n",
       "      <td>NaN</td>\n",
       "      <td>14.68</td>\n",
       "    </tr>\n",
       "    <tr>\n",
       "      <th>1984-08-10</th>\n",
       "      <td>NaN</td>\n",
       "      <td>NaN</td>\n",
       "      <td>NaN</td>\n",
       "      <td>14.54</td>\n",
       "    </tr>\n",
       "    <tr>\n",
       "      <th>1984-08-15</th>\n",
       "      <td>NaN</td>\n",
       "      <td>NaN</td>\n",
       "      <td>NaN</td>\n",
       "      <td>14.54</td>\n",
       "    </tr>\n",
       "    <tr>\n",
       "      <th>1984-08-17</th>\n",
       "      <td>NaN</td>\n",
       "      <td>NaN</td>\n",
       "      <td>NaN</td>\n",
       "      <td>14.39</td>\n",
       "    </tr>\n",
       "    <tr>\n",
       "      <th>1984-08-22</th>\n",
       "      <td>NaN</td>\n",
       "      <td>NaN</td>\n",
       "      <td>NaN</td>\n",
       "      <td>14.39</td>\n",
       "    </tr>\n",
       "    <tr>\n",
       "      <th>1984-08-24</th>\n",
       "      <td>NaN</td>\n",
       "      <td>NaN</td>\n",
       "      <td>NaN</td>\n",
       "      <td>14.36</td>\n",
       "    </tr>\n",
       "    <tr>\n",
       "      <th>1984-08-29</th>\n",
       "      <td>NaN</td>\n",
       "      <td>NaN</td>\n",
       "      <td>NaN</td>\n",
       "      <td>14.36</td>\n",
       "    </tr>\n",
       "    <tr>\n",
       "      <th>1984-08-31</th>\n",
       "      <td>NaN</td>\n",
       "      <td>NaN</td>\n",
       "      <td>NaN</td>\n",
       "      <td>14.38</td>\n",
       "    </tr>\n",
       "    <tr>\n",
       "      <th>1984-09-01</th>\n",
       "      <td>64.6</td>\n",
       "      <td>81000.0</td>\n",
       "      <td>NaN</td>\n",
       "      <td>14.38</td>\n",
       "    </tr>\n",
       "    <tr>\n",
       "      <th>1984-09-06</th>\n",
       "      <td>NaN</td>\n",
       "      <td>NaN</td>\n",
       "      <td>NaN</td>\n",
       "      <td>14.38</td>\n",
       "    </tr>\n",
       "    <tr>\n",
       "      <th>1984-09-07</th>\n",
       "      <td>NaN</td>\n",
       "      <td>NaN</td>\n",
       "      <td>NaN</td>\n",
       "      <td>14.42</td>\n",
       "    </tr>\n",
       "  </tbody>\n",
       "</table>\n",
       "</div>"
      ],
      "text/plain": [
       "            RHORUSQ156N    MSPUS  MEHOINUSA646N  MORTGAGE30US\n",
       "DATE                                                         \n",
       "1984-06-01         64.6  80700.0        22415.0         14.29\n",
       "1984-06-06          NaN      NaN            NaN         14.29\n",
       "1984-06-08          NaN      NaN            NaN         14.33\n",
       "1984-06-13          NaN      NaN            NaN         14.33\n",
       "1984-06-15          NaN      NaN            NaN         14.47\n",
       "1984-06-20          NaN      NaN            NaN         14.47\n",
       "1984-06-22          NaN      NaN            NaN         14.49\n",
       "1984-06-27          NaN      NaN            NaN         14.49\n",
       "1984-06-29          NaN      NaN            NaN         14.50\n",
       "1984-07-04          NaN      NaN            NaN         14.50\n",
       "1984-07-06          NaN      NaN            NaN         14.66\n",
       "1984-07-11          NaN      NaN            NaN         14.66\n",
       "1984-07-13          NaN      NaN            NaN         14.68\n",
       "1984-07-18          NaN      NaN            NaN         14.68\n",
       "1984-07-20          NaN      NaN            NaN         14.66\n",
       "1984-07-25          NaN      NaN            NaN         14.66\n",
       "1984-07-27          NaN      NaN            NaN         14.67\n",
       "1984-08-01          NaN      NaN            NaN         14.67\n",
       "1984-08-03          NaN      NaN            NaN         14.68\n",
       "1984-08-08          NaN      NaN            NaN         14.68\n",
       "1984-08-10          NaN      NaN            NaN         14.54\n",
       "1984-08-15          NaN      NaN            NaN         14.54\n",
       "1984-08-17          NaN      NaN            NaN         14.39\n",
       "1984-08-22          NaN      NaN            NaN         14.39\n",
       "1984-08-24          NaN      NaN            NaN         14.36\n",
       "1984-08-29          NaN      NaN            NaN         14.36\n",
       "1984-08-31          NaN      NaN            NaN         14.38\n",
       "1984-09-01         64.6  81000.0            NaN         14.38\n",
       "1984-09-06          NaN      NaN            NaN         14.38\n",
       "1984-09-07          NaN      NaN            NaN         14.42"
      ]
     },
     "execution_count": 21,
     "metadata": {},
     "output_type": "execute_result"
    }
   ],
   "source": [
    "# make imputations and check results\n",
    "D.MORTGAGE30US.fillna(method='ffill', inplace=True)     \n",
    "\n",
    "# show it works!\n",
    "D[D.index >=max([D.index[D[key].notna()][0] for key in dic.keys()])].head(30)"
   ]
  },
  {
   "cell_type": "code",
   "execution_count": 22,
   "metadata": {
    "scrolled": true
   },
   "outputs": [
    {
     "data": {
      "text/html": [
       "<div>\n",
       "<style scoped>\n",
       "    .dataframe tbody tr th:only-of-type {\n",
       "        vertical-align: middle;\n",
       "    }\n",
       "\n",
       "    .dataframe tbody tr th {\n",
       "        vertical-align: top;\n",
       "    }\n",
       "\n",
       "    .dataframe thead th {\n",
       "        text-align: right;\n",
       "    }\n",
       "</style>\n",
       "<table border=\"1\" class=\"dataframe\">\n",
       "  <thead>\n",
       "    <tr style=\"text-align: right;\">\n",
       "      <th></th>\n",
       "      <th>RHORUSQ156N</th>\n",
       "      <th>MSPUS</th>\n",
       "      <th>MEHOINUSA646N</th>\n",
       "      <th>MORTGAGE30US</th>\n",
       "    </tr>\n",
       "    <tr>\n",
       "      <th>DATE</th>\n",
       "      <th></th>\n",
       "      <th></th>\n",
       "      <th></th>\n",
       "      <th></th>\n",
       "    </tr>\n",
       "  </thead>\n",
       "  <tbody>\n",
       "    <tr>\n",
       "      <th>1984-06-01</th>\n",
       "      <td>64.6</td>\n",
       "      <td>80700.0</td>\n",
       "      <td>22415.0</td>\n",
       "      <td>14.29</td>\n",
       "    </tr>\n",
       "    <tr>\n",
       "      <th>1985-06-01</th>\n",
       "      <td>64.1</td>\n",
       "      <td>84300.0</td>\n",
       "      <td>23618.0</td>\n",
       "      <td>12.71</td>\n",
       "    </tr>\n",
       "    <tr>\n",
       "      <th>1986-06-01</th>\n",
       "      <td>63.8</td>\n",
       "      <td>92100.0</td>\n",
       "      <td>24897.0</td>\n",
       "      <td>10.38</td>\n",
       "    </tr>\n",
       "  </tbody>\n",
       "</table>\n",
       "</div>"
      ],
      "text/plain": [
       "            RHORUSQ156N    MSPUS  MEHOINUSA646N  MORTGAGE30US\n",
       "DATE                                                         \n",
       "1984-06-01         64.6  80700.0        22415.0         14.29\n",
       "1985-06-01         64.1  84300.0        23618.0         12.71\n",
       "1986-06-01         63.8  92100.0        24897.0         10.38"
      ]
     },
     "execution_count": 22,
     "metadata": {},
     "output_type": "execute_result"
    }
   ],
   "source": [
    "# dates for income on June, every year\n",
    "D[D.MEHOINUSA646N.notna()].head(3)"
   ]
  },
  {
   "cell_type": "code",
   "execution_count": 23,
   "metadata": {},
   "outputs": [
    {
     "data": {
      "text/html": [
       "<div>\n",
       "<style scoped>\n",
       "    .dataframe tbody tr th:only-of-type {\n",
       "        vertical-align: middle;\n",
       "    }\n",
       "\n",
       "    .dataframe tbody tr th {\n",
       "        vertical-align: top;\n",
       "    }\n",
       "\n",
       "    .dataframe thead th {\n",
       "        text-align: right;\n",
       "    }\n",
       "</style>\n",
       "<table border=\"1\" class=\"dataframe\">\n",
       "  <thead>\n",
       "    <tr style=\"text-align: right;\">\n",
       "      <th></th>\n",
       "      <th>RHORUSQ156N</th>\n",
       "      <th>MSPUS</th>\n",
       "      <th>MEHOINUSA646N</th>\n",
       "      <th>MORTGAGE30US</th>\n",
       "    </tr>\n",
       "    <tr>\n",
       "      <th>DATE</th>\n",
       "      <th></th>\n",
       "      <th></th>\n",
       "      <th></th>\n",
       "      <th></th>\n",
       "    </tr>\n",
       "  </thead>\n",
       "  <tbody>\n",
       "    <tr>\n",
       "      <th>1984-04-03</th>\n",
       "      <td>NaN</td>\n",
       "      <td>NaN</td>\n",
       "      <td>NaN</td>\n",
       "      <td>13.55</td>\n",
       "    </tr>\n",
       "    <tr>\n",
       "      <th>1984-04-06</th>\n",
       "      <td>NaN</td>\n",
       "      <td>NaN</td>\n",
       "      <td>NaN</td>\n",
       "      <td>13.63</td>\n",
       "    </tr>\n",
       "    <tr>\n",
       "      <th>1984-04-10</th>\n",
       "      <td>NaN</td>\n",
       "      <td>NaN</td>\n",
       "      <td>NaN</td>\n",
       "      <td>13.63</td>\n",
       "    </tr>\n",
       "  </tbody>\n",
       "</table>\n",
       "</div>"
      ],
      "text/plain": [
       "            RHORUSQ156N  MSPUS  MEHOINUSA646N  MORTGAGE30US\n",
       "DATE                                                       \n",
       "1984-04-03          NaN    NaN            NaN         13.55\n",
       "1984-04-06          NaN    NaN            NaN         13.63\n",
       "1984-04-10          NaN    NaN            NaN         13.63"
      ]
     },
     "execution_count": 23,
     "metadata": {},
     "output_type": "execute_result"
    }
   ],
   "source": [
    "D[D.index>='1984-04-01'].head(3)"
   ]
  },
  {
   "cell_type": "code",
   "execution_count": 24,
   "metadata": {
    "scrolled": true
   },
   "outputs": [
    {
     "data": {
      "text/html": [
       "<div>\n",
       "<style scoped>\n",
       "    .dataframe tbody tr th:only-of-type {\n",
       "        vertical-align: middle;\n",
       "    }\n",
       "\n",
       "    .dataframe tbody tr th {\n",
       "        vertical-align: top;\n",
       "    }\n",
       "\n",
       "    .dataframe thead th {\n",
       "        text-align: right;\n",
       "    }\n",
       "</style>\n",
       "<table border=\"1\" class=\"dataframe\">\n",
       "  <thead>\n",
       "    <tr style=\"text-align: right;\">\n",
       "      <th></th>\n",
       "      <th>RHORUSQ156N</th>\n",
       "      <th>MSPUS</th>\n",
       "      <th>MEHOINUSA646N</th>\n",
       "      <th>MORTGAGE30US</th>\n",
       "    </tr>\n",
       "    <tr>\n",
       "      <th>DATE</th>\n",
       "      <th></th>\n",
       "      <th></th>\n",
       "      <th></th>\n",
       "      <th></th>\n",
       "    </tr>\n",
       "  </thead>\n",
       "  <tbody>\n",
       "    <tr>\n",
       "      <th>1984-03-01</th>\n",
       "      <td>64.6</td>\n",
       "      <td>78200.0</td>\n",
       "      <td>NaN</td>\n",
       "      <td>13.25</td>\n",
       "    </tr>\n",
       "    <tr>\n",
       "      <th>1984-06-01</th>\n",
       "      <td>64.6</td>\n",
       "      <td>80700.0</td>\n",
       "      <td>22415.0</td>\n",
       "      <td>14.29</td>\n",
       "    </tr>\n",
       "    <tr>\n",
       "      <th>1984-09-01</th>\n",
       "      <td>64.6</td>\n",
       "      <td>81000.0</td>\n",
       "      <td>NaN</td>\n",
       "      <td>14.38</td>\n",
       "    </tr>\n",
       "    <tr>\n",
       "      <th>1984-12-01</th>\n",
       "      <td>64.1</td>\n",
       "      <td>79900.0</td>\n",
       "      <td>NaN</td>\n",
       "      <td>13.42</td>\n",
       "    </tr>\n",
       "    <tr>\n",
       "      <th>1985-03-01</th>\n",
       "      <td>64.1</td>\n",
       "      <td>82800.0</td>\n",
       "      <td>NaN</td>\n",
       "      <td>13.02</td>\n",
       "    </tr>\n",
       "    <tr>\n",
       "      <th>1985-06-01</th>\n",
       "      <td>64.1</td>\n",
       "      <td>84300.0</td>\n",
       "      <td>23618.0</td>\n",
       "      <td>12.71</td>\n",
       "    </tr>\n",
       "    <tr>\n",
       "      <th>1985-09-01</th>\n",
       "      <td>63.9</td>\n",
       "      <td>83200.0</td>\n",
       "      <td>NaN</td>\n",
       "      <td>12.11</td>\n",
       "    </tr>\n",
       "    <tr>\n",
       "      <th>1985-12-01</th>\n",
       "      <td>63.5</td>\n",
       "      <td>86800.0</td>\n",
       "      <td>NaN</td>\n",
       "      <td>11.58</td>\n",
       "    </tr>\n",
       "    <tr>\n",
       "      <th>1986-03-01</th>\n",
       "      <td>63.6</td>\n",
       "      <td>88000.0</td>\n",
       "      <td>NaN</td>\n",
       "      <td>10.51</td>\n",
       "    </tr>\n",
       "    <tr>\n",
       "      <th>1986-06-01</th>\n",
       "      <td>63.8</td>\n",
       "      <td>92100.0</td>\n",
       "      <td>24897.0</td>\n",
       "      <td>10.38</td>\n",
       "    </tr>\n",
       "    <tr>\n",
       "      <th>1986-09-01</th>\n",
       "      <td>63.8</td>\n",
       "      <td>93000.0</td>\n",
       "      <td>NaN</td>\n",
       "      <td>9.93</td>\n",
       "    </tr>\n",
       "    <tr>\n",
       "      <th>1986-12-01</th>\n",
       "      <td>63.9</td>\n",
       "      <td>95000.0</td>\n",
       "      <td>NaN</td>\n",
       "      <td>9.50</td>\n",
       "    </tr>\n",
       "    <tr>\n",
       "      <th>1987-03-01</th>\n",
       "      <td>63.8</td>\n",
       "      <td>97900.0</td>\n",
       "      <td>NaN</td>\n",
       "      <td>9.07</td>\n",
       "    </tr>\n",
       "    <tr>\n",
       "      <th>1987-06-01</th>\n",
       "      <td>63.8</td>\n",
       "      <td>103400.0</td>\n",
       "      <td>26061.0</td>\n",
       "      <td>10.70</td>\n",
       "    </tr>\n",
       "    <tr>\n",
       "      <th>1987-09-01</th>\n",
       "      <td>64.2</td>\n",
       "      <td>106000.0</td>\n",
       "      <td>NaN</td>\n",
       "      <td>10.33</td>\n",
       "    </tr>\n",
       "  </tbody>\n",
       "</table>\n",
       "</div>"
      ],
      "text/plain": [
       "            RHORUSQ156N     MSPUS  MEHOINUSA646N  MORTGAGE30US\n",
       "DATE                                                          \n",
       "1984-03-01         64.6   78200.0            NaN         13.25\n",
       "1984-06-01         64.6   80700.0        22415.0         14.29\n",
       "1984-09-01         64.6   81000.0            NaN         14.38\n",
       "1984-12-01         64.1   79900.0            NaN         13.42\n",
       "1985-03-01         64.1   82800.0            NaN         13.02\n",
       "1985-06-01         64.1   84300.0        23618.0         12.71\n",
       "1985-09-01         63.9   83200.0            NaN         12.11\n",
       "1985-12-01         63.5   86800.0            NaN         11.58\n",
       "1986-03-01         63.6   88000.0            NaN         10.51\n",
       "1986-06-01         63.8   92100.0        24897.0         10.38\n",
       "1986-09-01         63.8   93000.0            NaN          9.93\n",
       "1986-12-01         63.9   95000.0            NaN          9.50\n",
       "1987-03-01         63.8   97900.0            NaN          9.07\n",
       "1987-06-01         63.8  103400.0        26061.0         10.70\n",
       "1987-09-01         64.2  106000.0            NaN         10.33"
      ]
     },
     "execution_count": 24,
     "metadata": {},
     "output_type": "execute_result"
    }
   ],
   "source": [
    "# drop dates that are not quarters\n",
    "D = D[D.RHORUSQ156N.notna()]\n",
    "D[D.index>='1984-03-01'].head(15)"
   ]
  },
  {
   "cell_type": "markdown",
   "metadata": {},
   "source": [
    "#### Shorten series"
   ]
  },
  {
   "cell_type": "code",
   "execution_count": 25,
   "metadata": {
    "scrolled": true
   },
   "outputs": [
    {
     "data": {
      "text/plain": [
       "[Timestamp('2020-03-01 00:00:00'),\n",
       " Timestamp('2020-03-01 00:00:00'),\n",
       " Timestamp('2020-03-01 00:00:00'),\n",
       " Timestamp('2018-06-01 00:00:00')]"
      ]
     },
     "execution_count": 25,
     "metadata": {},
     "output_type": "execute_result"
    }
   ],
   "source": [
    "[D.index[D[key].notna()][-1] for key in dic.keys()]"
   ]
  },
  {
   "cell_type": "code",
   "execution_count": 26,
   "metadata": {
    "scrolled": false
   },
   "outputs": [
    {
     "data": {
      "text/html": [
       "<div>\n",
       "<style scoped>\n",
       "    .dataframe tbody tr th:only-of-type {\n",
       "        vertical-align: middle;\n",
       "    }\n",
       "\n",
       "    .dataframe tbody tr th {\n",
       "        vertical-align: top;\n",
       "    }\n",
       "\n",
       "    .dataframe thead th {\n",
       "        text-align: right;\n",
       "    }\n",
       "</style>\n",
       "<table border=\"1\" class=\"dataframe\">\n",
       "  <thead>\n",
       "    <tr style=\"text-align: right;\">\n",
       "      <th></th>\n",
       "      <th>RHORUSQ156N</th>\n",
       "      <th>MSPUS</th>\n",
       "      <th>MEHOINUSA646N</th>\n",
       "      <th>MORTGAGE30US</th>\n",
       "    </tr>\n",
       "    <tr>\n",
       "      <th>DATE</th>\n",
       "      <th></th>\n",
       "      <th></th>\n",
       "      <th></th>\n",
       "      <th></th>\n",
       "    </tr>\n",
       "  </thead>\n",
       "  <tbody>\n",
       "    <tr>\n",
       "      <th>1984-06-01</th>\n",
       "      <td>64.6</td>\n",
       "      <td>80700.0</td>\n",
       "      <td>22415.0</td>\n",
       "      <td>14.29</td>\n",
       "    </tr>\n",
       "    <tr>\n",
       "      <th>1984-09-01</th>\n",
       "      <td>64.6</td>\n",
       "      <td>81000.0</td>\n",
       "      <td>NaN</td>\n",
       "      <td>14.38</td>\n",
       "    </tr>\n",
       "    <tr>\n",
       "      <th>1984-12-01</th>\n",
       "      <td>64.1</td>\n",
       "      <td>79900.0</td>\n",
       "      <td>NaN</td>\n",
       "      <td>13.42</td>\n",
       "    </tr>\n",
       "    <tr>\n",
       "      <th>1985-03-01</th>\n",
       "      <td>64.1</td>\n",
       "      <td>82800.0</td>\n",
       "      <td>NaN</td>\n",
       "      <td>13.02</td>\n",
       "    </tr>\n",
       "    <tr>\n",
       "      <th>1985-06-01</th>\n",
       "      <td>64.1</td>\n",
       "      <td>84300.0</td>\n",
       "      <td>23618.0</td>\n",
       "      <td>12.71</td>\n",
       "    </tr>\n",
       "    <tr>\n",
       "      <th>...</th>\n",
       "      <td>...</td>\n",
       "      <td>...</td>\n",
       "      <td>...</td>\n",
       "      <td>...</td>\n",
       "    </tr>\n",
       "    <tr>\n",
       "      <th>2017-06-01</th>\n",
       "      <td>63.7</td>\n",
       "      <td>318200.0</td>\n",
       "      <td>61136.0</td>\n",
       "      <td>3.94</td>\n",
       "    </tr>\n",
       "    <tr>\n",
       "      <th>2017-09-01</th>\n",
       "      <td>63.9</td>\n",
       "      <td>320500.0</td>\n",
       "      <td>NaN</td>\n",
       "      <td>3.82</td>\n",
       "    </tr>\n",
       "    <tr>\n",
       "      <th>2017-12-01</th>\n",
       "      <td>64.2</td>\n",
       "      <td>337900.0</td>\n",
       "      <td>NaN</td>\n",
       "      <td>3.90</td>\n",
       "    </tr>\n",
       "    <tr>\n",
       "      <th>2018-03-01</th>\n",
       "      <td>64.2</td>\n",
       "      <td>331800.0</td>\n",
       "      <td>NaN</td>\n",
       "      <td>4.43</td>\n",
       "    </tr>\n",
       "    <tr>\n",
       "      <th>2018-06-01</th>\n",
       "      <td>64.3</td>\n",
       "      <td>315600.0</td>\n",
       "      <td>63179.0</td>\n",
       "      <td>4.56</td>\n",
       "    </tr>\n",
       "  </tbody>\n",
       "</table>\n",
       "<p>137 rows × 4 columns</p>\n",
       "</div>"
      ],
      "text/plain": [
       "            RHORUSQ156N     MSPUS  MEHOINUSA646N  MORTGAGE30US\n",
       "DATE                                                          \n",
       "1984-06-01         64.6   80700.0        22415.0         14.29\n",
       "1984-09-01         64.6   81000.0            NaN         14.38\n",
       "1984-12-01         64.1   79900.0            NaN         13.42\n",
       "1985-03-01         64.1   82800.0            NaN         13.02\n",
       "1985-06-01         64.1   84300.0        23618.0         12.71\n",
       "...                 ...       ...            ...           ...\n",
       "2017-06-01         63.7  318200.0        61136.0          3.94\n",
       "2017-09-01         63.9  320500.0            NaN          3.82\n",
       "2017-12-01         64.2  337900.0            NaN          3.90\n",
       "2018-03-01         64.2  331800.0            NaN          4.43\n",
       "2018-06-01         64.3  315600.0        63179.0          4.56\n",
       "\n",
       "[137 rows x 4 columns]"
      ]
     },
     "execution_count": 26,
     "metadata": {},
     "output_type": "execute_result"
    }
   ],
   "source": [
    "# shorten series for the 1st and last date available\n",
    "\n",
    "# drop dates before max date of first non-empty dates of each column\n",
    "D = D[D.index >=max([D.index[D[key].notna()][0] for key in dic.keys()])]\n",
    "\n",
    "# drop dates after min date of first non-empty dates of each column\n",
    "D = D[D.index <=min([D.index[D[key].notna()][-1] for key in dic.keys()])]\n",
    "D"
   ]
  },
  {
   "cell_type": "markdown",
   "metadata": {},
   "source": [
    "### Interpolate missing data"
   ]
  },
  {
   "cell_type": "code",
   "execution_count": 27,
   "metadata": {
    "scrolled": true
   },
   "outputs": [
    {
     "data": {
      "text/html": [
       "<div>\n",
       "<style scoped>\n",
       "    .dataframe tbody tr th:only-of-type {\n",
       "        vertical-align: middle;\n",
       "    }\n",
       "\n",
       "    .dataframe tbody tr th {\n",
       "        vertical-align: top;\n",
       "    }\n",
       "\n",
       "    .dataframe thead th {\n",
       "        text-align: right;\n",
       "    }\n",
       "</style>\n",
       "<table border=\"1\" class=\"dataframe\">\n",
       "  <thead>\n",
       "    <tr style=\"text-align: right;\">\n",
       "      <th></th>\n",
       "      <th>RHORUSQ156N</th>\n",
       "      <th>MSPUS</th>\n",
       "      <th>MEHOINUSA646N</th>\n",
       "      <th>MORTGAGE30US</th>\n",
       "    </tr>\n",
       "    <tr>\n",
       "      <th>DATE</th>\n",
       "      <th></th>\n",
       "      <th></th>\n",
       "      <th></th>\n",
       "      <th></th>\n",
       "    </tr>\n",
       "  </thead>\n",
       "  <tbody>\n",
       "    <tr>\n",
       "      <th>1984-06-01</th>\n",
       "      <td>64.6</td>\n",
       "      <td>80700.0</td>\n",
       "      <td>22415.00</td>\n",
       "      <td>14.29</td>\n",
       "    </tr>\n",
       "    <tr>\n",
       "      <th>1984-09-01</th>\n",
       "      <td>64.6</td>\n",
       "      <td>81000.0</td>\n",
       "      <td>22715.75</td>\n",
       "      <td>14.38</td>\n",
       "    </tr>\n",
       "    <tr>\n",
       "      <th>1984-12-01</th>\n",
       "      <td>64.1</td>\n",
       "      <td>79900.0</td>\n",
       "      <td>23016.50</td>\n",
       "      <td>13.42</td>\n",
       "    </tr>\n",
       "    <tr>\n",
       "      <th>1985-03-01</th>\n",
       "      <td>64.1</td>\n",
       "      <td>82800.0</td>\n",
       "      <td>23317.25</td>\n",
       "      <td>13.02</td>\n",
       "    </tr>\n",
       "    <tr>\n",
       "      <th>1985-06-01</th>\n",
       "      <td>64.1</td>\n",
       "      <td>84300.0</td>\n",
       "      <td>23618.00</td>\n",
       "      <td>12.71</td>\n",
       "    </tr>\n",
       "    <tr>\n",
       "      <th>...</th>\n",
       "      <td>...</td>\n",
       "      <td>...</td>\n",
       "      <td>...</td>\n",
       "      <td>...</td>\n",
       "    </tr>\n",
       "    <tr>\n",
       "      <th>2017-06-01</th>\n",
       "      <td>63.7</td>\n",
       "      <td>318200.0</td>\n",
       "      <td>61136.00</td>\n",
       "      <td>3.94</td>\n",
       "    </tr>\n",
       "    <tr>\n",
       "      <th>2017-09-01</th>\n",
       "      <td>63.9</td>\n",
       "      <td>320500.0</td>\n",
       "      <td>61646.75</td>\n",
       "      <td>3.82</td>\n",
       "    </tr>\n",
       "    <tr>\n",
       "      <th>2017-12-01</th>\n",
       "      <td>64.2</td>\n",
       "      <td>337900.0</td>\n",
       "      <td>62157.50</td>\n",
       "      <td>3.90</td>\n",
       "    </tr>\n",
       "    <tr>\n",
       "      <th>2018-03-01</th>\n",
       "      <td>64.2</td>\n",
       "      <td>331800.0</td>\n",
       "      <td>62668.25</td>\n",
       "      <td>4.43</td>\n",
       "    </tr>\n",
       "    <tr>\n",
       "      <th>2018-06-01</th>\n",
       "      <td>64.3</td>\n",
       "      <td>315600.0</td>\n",
       "      <td>63179.00</td>\n",
       "      <td>4.56</td>\n",
       "    </tr>\n",
       "  </tbody>\n",
       "</table>\n",
       "<p>137 rows × 4 columns</p>\n",
       "</div>"
      ],
      "text/plain": [
       "            RHORUSQ156N     MSPUS  MEHOINUSA646N  MORTGAGE30US\n",
       "DATE                                                          \n",
       "1984-06-01         64.6   80700.0       22415.00         14.29\n",
       "1984-09-01         64.6   81000.0       22715.75         14.38\n",
       "1984-12-01         64.1   79900.0       23016.50         13.42\n",
       "1985-03-01         64.1   82800.0       23317.25         13.02\n",
       "1985-06-01         64.1   84300.0       23618.00         12.71\n",
       "...                 ...       ...            ...           ...\n",
       "2017-06-01         63.7  318200.0       61136.00          3.94\n",
       "2017-09-01         63.9  320500.0       61646.75          3.82\n",
       "2017-12-01         64.2  337900.0       62157.50          3.90\n",
       "2018-03-01         64.2  331800.0       62668.25          4.43\n",
       "2018-06-01         64.3  315600.0       63179.00          4.56\n",
       "\n",
       "[137 rows x 4 columns]"
      ]
     },
     "execution_count": 27,
     "metadata": {},
     "output_type": "execute_result"
    }
   ],
   "source": [
    "D = D.interpolate(method='linear', limit_direction='forward', axis=0)\n",
    "D # Now I have a complete quaterly data!!!!"
   ]
  },
  {
   "cell_type": "markdown",
   "metadata": {},
   "source": [
    "*** Future change: Dates represent months. Change format of dates (exclude days) *** "
   ]
  },
  {
   "cell_type": "markdown",
   "metadata": {},
   "source": [
    "### Add zillow data"
   ]
  },
  {
   "cell_type": "code",
   "execution_count": 28,
   "metadata": {},
   "outputs": [
    {
     "data": {
      "text/html": [
       "<div>\n",
       "<style scoped>\n",
       "    .dataframe tbody tr th:only-of-type {\n",
       "        vertical-align: middle;\n",
       "    }\n",
       "\n",
       "    .dataframe tbody tr th {\n",
       "        vertical-align: top;\n",
       "    }\n",
       "\n",
       "    .dataframe thead th {\n",
       "        text-align: right;\n",
       "    }\n",
       "</style>\n",
       "<table border=\"1\" class=\"dataframe\">\n",
       "  <thead>\n",
       "    <tr style=\"text-align: right;\">\n",
       "      <th></th>\n",
       "      <th>DATE</th>\n",
       "      <th>price</th>\n",
       "    </tr>\n",
       "  </thead>\n",
       "  <tbody>\n",
       "    <tr>\n",
       "      <th>0</th>\n",
       "      <td>1996-01-31</td>\n",
       "      <td>106884.0</td>\n",
       "    </tr>\n",
       "    <tr>\n",
       "      <th>1</th>\n",
       "      <td>1996-02-29</td>\n",
       "      <td>106911.0</td>\n",
       "    </tr>\n",
       "    <tr>\n",
       "      <th>2</th>\n",
       "      <td>1996-03-31</td>\n",
       "      <td>106962.0</td>\n",
       "    </tr>\n",
       "  </tbody>\n",
       "</table>\n",
       "</div>"
      ],
      "text/plain": [
       "         DATE     price\n",
       "0  1996-01-31  106884.0\n",
       "1  1996-02-29  106911.0\n",
       "2  1996-03-31  106962.0"
      ]
     },
     "execution_count": 28,
     "metadata": {},
     "output_type": "execute_result"
    }
   ],
   "source": [
    "# import zillow data\n",
    "zillow_p = pd.read_csv('../output/zillow_US_prices.csv', dtype={'DATE':object})\n",
    "zillow_r = pd.read_csv('../output/zillow_US_rentals.csv', dtype={'DATE':object})\n",
    "\n",
    "zillow_p.head(3)"
   ]
  },
  {
   "cell_type": "code",
   "execution_count": 29,
   "metadata": {},
   "outputs": [],
   "source": [
    "zillow_p.DATE = zillow_p.DATE.str.extract('(\\d+-\\d+)')+ '-01'\n",
    "zillow_p.set_index('DATE',inplace=True)\n",
    "zillow_r.DATE = zillow_r.DATE.str.extract('(\\d+-\\d+)')+ '-01'\n",
    "zillow_r.set_index('DATE',inplace=True)"
   ]
  },
  {
   "cell_type": "code",
   "execution_count": 30,
   "metadata": {
    "scrolled": true
   },
   "outputs": [],
   "source": [
    "D = D.merge(zillow_r, left_index=True, right_index=True, how='left')\n",
    "D = D.merge(zillow_p, left_index=True, right_index=True, how='left')"
   ]
  },
  {
   "cell_type": "code",
   "execution_count": 31,
   "metadata": {},
   "outputs": [
    {
     "data": {
      "text/html": [
       "<div>\n",
       "<style scoped>\n",
       "    .dataframe tbody tr th:only-of-type {\n",
       "        vertical-align: middle;\n",
       "    }\n",
       "\n",
       "    .dataframe tbody tr th {\n",
       "        vertical-align: top;\n",
       "    }\n",
       "\n",
       "    .dataframe thead th {\n",
       "        text-align: right;\n",
       "    }\n",
       "</style>\n",
       "<table border=\"1\" class=\"dataframe\">\n",
       "  <thead>\n",
       "    <tr style=\"text-align: right;\">\n",
       "      <th></th>\n",
       "      <th>RHORUSQ156N</th>\n",
       "      <th>MSPUS</th>\n",
       "      <th>MEHOINUSA646N</th>\n",
       "      <th>MORTGAGE30US</th>\n",
       "      <th>rentals</th>\n",
       "      <th>price</th>\n",
       "    </tr>\n",
       "    <tr>\n",
       "      <th>DATE</th>\n",
       "      <th></th>\n",
       "      <th></th>\n",
       "      <th></th>\n",
       "      <th></th>\n",
       "      <th></th>\n",
       "      <th></th>\n",
       "    </tr>\n",
       "  </thead>\n",
       "  <tbody>\n",
       "    <tr>\n",
       "      <th>1984-06-01</th>\n",
       "      <td>64.6</td>\n",
       "      <td>80700.0</td>\n",
       "      <td>22415.00</td>\n",
       "      <td>14.29</td>\n",
       "      <td>NaN</td>\n",
       "      <td>NaN</td>\n",
       "    </tr>\n",
       "    <tr>\n",
       "      <th>1984-09-01</th>\n",
       "      <td>64.6</td>\n",
       "      <td>81000.0</td>\n",
       "      <td>22715.75</td>\n",
       "      <td>14.38</td>\n",
       "      <td>NaN</td>\n",
       "      <td>NaN</td>\n",
       "    </tr>\n",
       "    <tr>\n",
       "      <th>1984-12-01</th>\n",
       "      <td>64.1</td>\n",
       "      <td>79900.0</td>\n",
       "      <td>23016.50</td>\n",
       "      <td>13.42</td>\n",
       "      <td>NaN</td>\n",
       "      <td>NaN</td>\n",
       "    </tr>\n",
       "    <tr>\n",
       "      <th>1985-03-01</th>\n",
       "      <td>64.1</td>\n",
       "      <td>82800.0</td>\n",
       "      <td>23317.25</td>\n",
       "      <td>13.02</td>\n",
       "      <td>NaN</td>\n",
       "      <td>NaN</td>\n",
       "    </tr>\n",
       "    <tr>\n",
       "      <th>1985-06-01</th>\n",
       "      <td>64.1</td>\n",
       "      <td>84300.0</td>\n",
       "      <td>23618.00</td>\n",
       "      <td>12.71</td>\n",
       "      <td>NaN</td>\n",
       "      <td>NaN</td>\n",
       "    </tr>\n",
       "    <tr>\n",
       "      <th>...</th>\n",
       "      <td>...</td>\n",
       "      <td>...</td>\n",
       "      <td>...</td>\n",
       "      <td>...</td>\n",
       "      <td>...</td>\n",
       "      <td>...</td>\n",
       "    </tr>\n",
       "    <tr>\n",
       "      <th>2017-06-01</th>\n",
       "      <td>63.7</td>\n",
       "      <td>318200.0</td>\n",
       "      <td>61136.00</td>\n",
       "      <td>3.94</td>\n",
       "      <td>1465.0</td>\n",
       "      <td>217122.0</td>\n",
       "    </tr>\n",
       "    <tr>\n",
       "      <th>2017-09-01</th>\n",
       "      <td>63.9</td>\n",
       "      <td>320500.0</td>\n",
       "      <td>61646.75</td>\n",
       "      <td>3.82</td>\n",
       "      <td>1464.0</td>\n",
       "      <td>220551.0</td>\n",
       "    </tr>\n",
       "    <tr>\n",
       "      <th>2017-12-01</th>\n",
       "      <td>64.2</td>\n",
       "      <td>337900.0</td>\n",
       "      <td>62157.50</td>\n",
       "      <td>3.90</td>\n",
       "      <td>1465.0</td>\n",
       "      <td>224343.0</td>\n",
       "    </tr>\n",
       "    <tr>\n",
       "      <th>2018-03-01</th>\n",
       "      <td>64.2</td>\n",
       "      <td>331800.0</td>\n",
       "      <td>62668.25</td>\n",
       "      <td>4.43</td>\n",
       "      <td>1484.0</td>\n",
       "      <td>228020.0</td>\n",
       "    </tr>\n",
       "    <tr>\n",
       "      <th>2018-06-01</th>\n",
       "      <td>64.3</td>\n",
       "      <td>315600.0</td>\n",
       "      <td>63179.00</td>\n",
       "      <td>4.56</td>\n",
       "      <td>1514.0</td>\n",
       "      <td>231582.0</td>\n",
       "    </tr>\n",
       "  </tbody>\n",
       "</table>\n",
       "<p>137 rows × 6 columns</p>\n",
       "</div>"
      ],
      "text/plain": [
       "            RHORUSQ156N     MSPUS  MEHOINUSA646N  MORTGAGE30US  rentals  \\\n",
       "DATE                                                                      \n",
       "1984-06-01         64.6   80700.0       22415.00         14.29      NaN   \n",
       "1984-09-01         64.6   81000.0       22715.75         14.38      NaN   \n",
       "1984-12-01         64.1   79900.0       23016.50         13.42      NaN   \n",
       "1985-03-01         64.1   82800.0       23317.25         13.02      NaN   \n",
       "1985-06-01         64.1   84300.0       23618.00         12.71      NaN   \n",
       "...                 ...       ...            ...           ...      ...   \n",
       "2017-06-01         63.7  318200.0       61136.00          3.94   1465.0   \n",
       "2017-09-01         63.9  320500.0       61646.75          3.82   1464.0   \n",
       "2017-12-01         64.2  337900.0       62157.50          3.90   1465.0   \n",
       "2018-03-01         64.2  331800.0       62668.25          4.43   1484.0   \n",
       "2018-06-01         64.3  315600.0       63179.00          4.56   1514.0   \n",
       "\n",
       "               price  \n",
       "DATE                  \n",
       "1984-06-01       NaN  \n",
       "1984-09-01       NaN  \n",
       "1984-12-01       NaN  \n",
       "1985-03-01       NaN  \n",
       "1985-06-01       NaN  \n",
       "...              ...  \n",
       "2017-06-01  217122.0  \n",
       "2017-09-01  220551.0  \n",
       "2017-12-01  224343.0  \n",
       "2018-03-01  228020.0  \n",
       "2018-06-01  231582.0  \n",
       "\n",
       "[137 rows x 6 columns]"
      ]
     },
     "execution_count": 31,
     "metadata": {},
     "output_type": "execute_result"
    }
   ],
   "source": [
    "D"
   ]
  },
  {
   "cell_type": "code",
   "execution_count": null,
   "metadata": {},
   "outputs": [],
   "source": []
  },
  {
   "cell_type": "code",
   "execution_count": 41,
   "metadata": {
    "scrolled": true
   },
   "outputs": [],
   "source": [
    "# make affordability index\n",
    "D['aff_Census'] = (100 * 0.3 *D.MEHOINUSA646N / np.pmt(D.MORTGAGE30US/100, 30, -D.MSPUS)).to_frame()\n",
    "D['aff_Zillow'] = (100 * 0.3 *D.MEHOINUSA646N / np.pmt(D.MORTGAGE30US/100, 30, -D.price)).to_frame()"
   ]
  },
  {
   "cell_type": "code",
   "execution_count": 42,
   "metadata": {},
   "outputs": [],
   "source": [
    "D['aff_rental'] = (100* 0.3 *D.MEHOINUSA646N / (12* D.rentals)).to_frame()"
   ]
  },
  {
   "cell_type": "code",
   "execution_count": 43,
   "metadata": {
    "scrolled": true
   },
   "outputs": [
    {
     "data": {
      "text/html": [
       "<div>\n",
       "<style scoped>\n",
       "    .dataframe tbody tr th:only-of-type {\n",
       "        vertical-align: middle;\n",
       "    }\n",
       "\n",
       "    .dataframe tbody tr th {\n",
       "        vertical-align: top;\n",
       "    }\n",
       "\n",
       "    .dataframe thead th {\n",
       "        text-align: right;\n",
       "    }\n",
       "</style>\n",
       "<table border=\"1\" class=\"dataframe\">\n",
       "  <thead>\n",
       "    <tr style=\"text-align: right;\">\n",
       "      <th></th>\n",
       "      <th>RHORUSQ156N</th>\n",
       "      <th>MSPUS</th>\n",
       "      <th>MEHOINUSA646N</th>\n",
       "      <th>MORTGAGE30US</th>\n",
       "      <th>rentals</th>\n",
       "      <th>price</th>\n",
       "      <th>aff_Census</th>\n",
       "      <th>aff_Zillow</th>\n",
       "      <th>aff_rental</th>\n",
       "    </tr>\n",
       "    <tr>\n",
       "      <th>DATE</th>\n",
       "      <th></th>\n",
       "      <th></th>\n",
       "      <th></th>\n",
       "      <th></th>\n",
       "      <th></th>\n",
       "      <th></th>\n",
       "      <th></th>\n",
       "      <th></th>\n",
       "      <th></th>\n",
       "    </tr>\n",
       "  </thead>\n",
       "  <tbody>\n",
       "    <tr>\n",
       "      <th>1984-06-01</th>\n",
       "      <td>64.6</td>\n",
       "      <td>80700.0</td>\n",
       "      <td>22415.00</td>\n",
       "      <td>14.29</td>\n",
       "      <td>NaN</td>\n",
       "      <td>NaN</td>\n",
       "      <td>57.251011</td>\n",
       "      <td>NaN</td>\n",
       "      <td>NaN</td>\n",
       "    </tr>\n",
       "    <tr>\n",
       "      <th>1984-09-01</th>\n",
       "      <td>64.6</td>\n",
       "      <td>81000.0</td>\n",
       "      <td>22715.75</td>\n",
       "      <td>14.38</td>\n",
       "      <td>NaN</td>\n",
       "      <td>NaN</td>\n",
       "      <td>57.467336</td>\n",
       "      <td>NaN</td>\n",
       "      <td>NaN</td>\n",
       "    </tr>\n",
       "    <tr>\n",
       "      <th>1984-12-01</th>\n",
       "      <td>64.1</td>\n",
       "      <td>79900.0</td>\n",
       "      <td>23016.50</td>\n",
       "      <td>13.42</td>\n",
       "      <td>NaN</td>\n",
       "      <td>NaN</td>\n",
       "      <td>62.923453</td>\n",
       "      <td>NaN</td>\n",
       "      <td>NaN</td>\n",
       "    </tr>\n",
       "    <tr>\n",
       "      <th>1985-03-01</th>\n",
       "      <td>64.1</td>\n",
       "      <td>82800.0</td>\n",
       "      <td>23317.25</td>\n",
       "      <td>13.02</td>\n",
       "      <td>NaN</td>\n",
       "      <td>NaN</td>\n",
       "      <td>63.236881</td>\n",
       "      <td>NaN</td>\n",
       "      <td>NaN</td>\n",
       "    </tr>\n",
       "    <tr>\n",
       "      <th>1985-06-01</th>\n",
       "      <td>64.1</td>\n",
       "      <td>84300.0</td>\n",
       "      <td>23618.00</td>\n",
       "      <td>12.71</td>\n",
       "      <td>NaN</td>\n",
       "      <td>NaN</td>\n",
       "      <td>64.302821</td>\n",
       "      <td>NaN</td>\n",
       "      <td>NaN</td>\n",
       "    </tr>\n",
       "    <tr>\n",
       "      <th>...</th>\n",
       "      <td>...</td>\n",
       "      <td>...</td>\n",
       "      <td>...</td>\n",
       "      <td>...</td>\n",
       "      <td>...</td>\n",
       "      <td>...</td>\n",
       "      <td>...</td>\n",
       "      <td>...</td>\n",
       "      <td>...</td>\n",
       "    </tr>\n",
       "    <tr>\n",
       "      <th>2017-06-01</th>\n",
       "      <td>63.7</td>\n",
       "      <td>318200.0</td>\n",
       "      <td>61136.00</td>\n",
       "      <td>3.94</td>\n",
       "      <td>1465.0</td>\n",
       "      <td>217122.0</td>\n",
       "      <td>100.400066</td>\n",
       "      <td>147.139862</td>\n",
       "      <td>104.327645</td>\n",
       "    </tr>\n",
       "    <tr>\n",
       "      <th>2017-09-01</th>\n",
       "      <td>63.9</td>\n",
       "      <td>320500.0</td>\n",
       "      <td>61646.75</td>\n",
       "      <td>3.82</td>\n",
       "      <td>1464.0</td>\n",
       "      <td>220551.0</td>\n",
       "      <td>101.998778</td>\n",
       "      <td>148.222444</td>\n",
       "      <td>105.271089</td>\n",
       "    </tr>\n",
       "    <tr>\n",
       "      <th>2017-12-01</th>\n",
       "      <td>64.2</td>\n",
       "      <td>337900.0</td>\n",
       "      <td>62157.50</td>\n",
       "      <td>3.90</td>\n",
       "      <td>1465.0</td>\n",
       "      <td>224343.0</td>\n",
       "      <td>96.596720</td>\n",
       "      <td>145.491643</td>\n",
       "      <td>106.070819</td>\n",
       "    </tr>\n",
       "    <tr>\n",
       "      <th>2018-03-01</th>\n",
       "      <td>64.2</td>\n",
       "      <td>331800.0</td>\n",
       "      <td>62668.25</td>\n",
       "      <td>4.43</td>\n",
       "      <td>1484.0</td>\n",
       "      <td>228020.0</td>\n",
       "      <td>93.061161</td>\n",
       "      <td>135.416600</td>\n",
       "      <td>105.573197</td>\n",
       "    </tr>\n",
       "    <tr>\n",
       "      <th>2018-06-01</th>\n",
       "      <td>64.3</td>\n",
       "      <td>315600.0</td>\n",
       "      <td>63179.00</td>\n",
       "      <td>4.56</td>\n",
       "      <td>1514.0</td>\n",
       "      <td>231582.0</td>\n",
       "      <td>97.137864</td>\n",
       "      <td>132.379502</td>\n",
       "      <td>104.324637</td>\n",
       "    </tr>\n",
       "  </tbody>\n",
       "</table>\n",
       "<p>137 rows × 9 columns</p>\n",
       "</div>"
      ],
      "text/plain": [
       "            RHORUSQ156N     MSPUS  MEHOINUSA646N  MORTGAGE30US  rentals  \\\n",
       "DATE                                                                      \n",
       "1984-06-01         64.6   80700.0       22415.00         14.29      NaN   \n",
       "1984-09-01         64.6   81000.0       22715.75         14.38      NaN   \n",
       "1984-12-01         64.1   79900.0       23016.50         13.42      NaN   \n",
       "1985-03-01         64.1   82800.0       23317.25         13.02      NaN   \n",
       "1985-06-01         64.1   84300.0       23618.00         12.71      NaN   \n",
       "...                 ...       ...            ...           ...      ...   \n",
       "2017-06-01         63.7  318200.0       61136.00          3.94   1465.0   \n",
       "2017-09-01         63.9  320500.0       61646.75          3.82   1464.0   \n",
       "2017-12-01         64.2  337900.0       62157.50          3.90   1465.0   \n",
       "2018-03-01         64.2  331800.0       62668.25          4.43   1484.0   \n",
       "2018-06-01         64.3  315600.0       63179.00          4.56   1514.0   \n",
       "\n",
       "               price  aff_Census  aff_Zillow  aff_rental  \n",
       "DATE                                                      \n",
       "1984-06-01       NaN   57.251011         NaN         NaN  \n",
       "1984-09-01       NaN   57.467336         NaN         NaN  \n",
       "1984-12-01       NaN   62.923453         NaN         NaN  \n",
       "1985-03-01       NaN   63.236881         NaN         NaN  \n",
       "1985-06-01       NaN   64.302821         NaN         NaN  \n",
       "...              ...         ...         ...         ...  \n",
       "2017-06-01  217122.0  100.400066  147.139862  104.327645  \n",
       "2017-09-01  220551.0  101.998778  148.222444  105.271089  \n",
       "2017-12-01  224343.0   96.596720  145.491643  106.070819  \n",
       "2018-03-01  228020.0   93.061161  135.416600  105.573197  \n",
       "2018-06-01  231582.0   97.137864  132.379502  104.324637  \n",
       "\n",
       "[137 rows x 9 columns]"
      ]
     },
     "execution_count": 43,
     "metadata": {},
     "output_type": "execute_result"
    }
   ],
   "source": [
    "D"
   ]
  },
  {
   "cell_type": "code",
   "execution_count": 122,
   "metadata": {
    "scrolled": true
   },
   "outputs": [
    {
     "data": {
      "text/plain": [
       "{'aff_Census': 'mrtg (Census)',\n",
       " 'aff_Zillow': 'mrtg (Zillow)',\n",
       " 'aff_rental': 'rental (Zillow)'}"
      ]
     },
     "execution_count": 122,
     "metadata": {},
     "output_type": "execute_result"
    }
   ],
   "source": [
    "dic= {'aff_Census':'mrtg (Census)', \n",
    "      'aff_Zillow':'mrtg (Zillow)',\n",
    "      'aff_rental':'rental (Zillow)',\n",
    "     }\n",
    "dic"
   ]
  },
  {
   "cell_type": "code",
   "execution_count": 48,
   "metadata": {},
   "outputs": [],
   "source": [
    "# Not being used here as it is not rendering on HTML\n",
    "function= r\"$\\frac{30\\% \\text{median income}_{HH}}{\\text{housing payments}}$\""
   ]
  },
  {
   "cell_type": "code",
   "execution_count": 49,
   "metadata": {
    "scrolled": true
   },
   "outputs": [
    {
     "data": {
      "application/vnd.plotly.v1+json": {
       "config": {
        "plotlyServerURL": "https://plot.ly"
       },
       "data": [
        {
         "connectgaps": true,
         "line": {
          "color": "rgb(41, 58, 143)",
          "width": 1.5
         },
         "mode": "lines",
         "name": "mrtg (Census)",
         "type": "scatter",
         "x": [
          "1984-06-01T00:00:00",
          "1984-09-01T00:00:00",
          "1984-12-01T00:00:00",
          "1985-03-01T00:00:00",
          "1985-06-01T00:00:00",
          "1985-09-01T00:00:00",
          "1985-12-01T00:00:00",
          "1986-03-01T00:00:00",
          "1986-06-01T00:00:00",
          "1986-09-01T00:00:00",
          "1986-12-01T00:00:00",
          "1987-03-01T00:00:00",
          "1987-06-01T00:00:00",
          "1987-09-01T00:00:00",
          "1987-12-01T00:00:00",
          "1988-03-01T00:00:00",
          "1988-06-01T00:00:00",
          "1988-09-01T00:00:00",
          "1988-12-01T00:00:00",
          "1989-03-01T00:00:00",
          "1989-06-01T00:00:00",
          "1989-09-01T00:00:00",
          "1989-12-01T00:00:00",
          "1990-03-01T00:00:00",
          "1990-06-01T00:00:00",
          "1990-09-01T00:00:00",
          "1990-12-01T00:00:00",
          "1991-03-01T00:00:00",
          "1991-06-01T00:00:00",
          "1991-09-01T00:00:00",
          "1991-12-01T00:00:00",
          "1992-03-01T00:00:00",
          "1992-06-01T00:00:00",
          "1992-09-01T00:00:00",
          "1992-12-01T00:00:00",
          "1993-03-01T00:00:00",
          "1993-06-01T00:00:00",
          "1993-09-01T00:00:00",
          "1993-12-01T00:00:00",
          "1994-03-01T00:00:00",
          "1994-06-01T00:00:00",
          "1994-09-01T00:00:00",
          "1994-12-01T00:00:00",
          "1995-03-01T00:00:00",
          "1995-06-01T00:00:00",
          "1995-09-01T00:00:00",
          "1995-12-01T00:00:00",
          "1996-03-01T00:00:00",
          "1996-06-01T00:00:00",
          "1996-09-01T00:00:00",
          "1996-12-01T00:00:00",
          "1997-03-01T00:00:00",
          "1997-06-01T00:00:00",
          "1997-09-01T00:00:00",
          "1997-12-01T00:00:00",
          "1998-03-01T00:00:00",
          "1998-06-01T00:00:00",
          "1998-09-01T00:00:00",
          "1998-12-01T00:00:00",
          "1999-03-01T00:00:00",
          "1999-06-01T00:00:00",
          "1999-09-01T00:00:00",
          "1999-12-01T00:00:00",
          "2000-03-01T00:00:00",
          "2000-06-01T00:00:00",
          "2000-09-01T00:00:00",
          "2000-12-01T00:00:00",
          "2001-03-01T00:00:00",
          "2001-06-01T00:00:00",
          "2001-09-01T00:00:00",
          "2001-12-01T00:00:00",
          "2002-03-01T00:00:00",
          "2002-06-01T00:00:00",
          "2002-09-01T00:00:00",
          "2002-12-01T00:00:00",
          "2003-03-01T00:00:00",
          "2003-06-01T00:00:00",
          "2003-09-01T00:00:00",
          "2003-12-01T00:00:00",
          "2004-03-01T00:00:00",
          "2004-06-01T00:00:00",
          "2004-09-01T00:00:00",
          "2004-12-01T00:00:00",
          "2005-03-01T00:00:00",
          "2005-06-01T00:00:00",
          "2005-09-01T00:00:00",
          "2005-12-01T00:00:00",
          "2006-03-01T00:00:00",
          "2006-06-01T00:00:00",
          "2006-09-01T00:00:00",
          "2006-12-01T00:00:00",
          "2007-03-01T00:00:00",
          "2007-06-01T00:00:00",
          "2007-09-01T00:00:00",
          "2007-12-01T00:00:00",
          "2008-03-01T00:00:00",
          "2008-06-01T00:00:00",
          "2008-09-01T00:00:00",
          "2008-12-01T00:00:00",
          "2009-03-01T00:00:00",
          "2009-06-01T00:00:00",
          "2009-09-01T00:00:00",
          "2009-12-01T00:00:00",
          "2010-03-01T00:00:00",
          "2010-06-01T00:00:00",
          "2010-09-01T00:00:00",
          "2010-12-01T00:00:00",
          "2011-03-01T00:00:00",
          "2011-06-01T00:00:00",
          "2011-09-01T00:00:00",
          "2011-12-01T00:00:00",
          "2012-03-01T00:00:00",
          "2012-06-01T00:00:00",
          "2012-09-01T00:00:00",
          "2012-12-01T00:00:00",
          "2013-03-01T00:00:00",
          "2013-06-01T00:00:00",
          "2013-09-01T00:00:00",
          "2013-12-01T00:00:00",
          "2014-03-01T00:00:00",
          "2014-06-01T00:00:00",
          "2014-09-01T00:00:00",
          "2014-12-01T00:00:00",
          "2015-03-01T00:00:00",
          "2015-06-01T00:00:00",
          "2015-09-01T00:00:00",
          "2015-12-01T00:00:00",
          "2016-03-01T00:00:00",
          "2016-06-01T00:00:00",
          "2016-09-01T00:00:00",
          "2016-12-01T00:00:00",
          "2017-03-01T00:00:00",
          "2017-06-01T00:00:00",
          "2017-09-01T00:00:00",
          "2017-12-01T00:00:00",
          "2018-03-01T00:00:00",
          "2018-06-01T00:00:00"
         ],
         "y": [
          57.251011182685396,
          57.46733596410034,
          62.92345307498773,
          63.23688130916263,
          64.30282086240142,
          68.96501030084934,
          69.69519218031729,
          75.74365164818583,
          74.09144480580431,
          77.04473570610736,
          79.13015098441345,
          80.62837763227688,
          67.31764082527133,
          68.41659133628873,
          64.59520455256292,
          70.00472609392223,
          66.74469104770328,
          64.36118209154436,
          67.48010744271453,
          64.06662386768808,
          65.98621151951941,
          67.49284055076289,
          68.15214539675608,
          66.04073331648365,
          65.20066918706802,
          71.06097707957642,
          70.4967092877407,
          74.59842411870504,
          74.45189637971946,
          76.68147228276577,
          80.15451487202313,
          79.88780792290984,
          81.56301487139164,
          86.56735891534507,
          80.709891012573,
          87.86692805932607,
          87.15786078497277,
          92.60438492872616,
          90.2485736666958,
          88.78855930024801,
          79.79699729269976,
          80.88293528172152,
          75.76411125139032,
          81.66283162308952,
          87.18009644639376,
          90.12502258808122,
          90.80534722963885,
          91.67640126101156,
          85.43951792266505,
          85.80311640157237,
          88.95418748328325,
          88.20716205820386,
          86.20652816338273,
          90.86262335208227,
          96.31007432200542,
          93.11729121767823,
          96.15086980368788,
          96.48871815506547,
          98.99476252112764,
          96.24173358602599,
          93.29799911214903,
          88.74436380794734,
          86.50226979243904,
          82.70045252855832,
          82.05011022409221,
          84.45076650826354,
          85.04590408018434,
          91.34702876185897,
          85.74625205391627,
          91.96762903303897,
          91.88989278494196,
          85.28302279238201,
          86.40954523299635,
          96.57273680475639,
          91.82930078555572,
          97.85592962523118,
          100.57425199135932,
          90.63659916018489,
          92.11644438093018,
          89.56646836251183,
          81.32968821271797,
          88.40866939227338,
          84.32366719369804,
          84.16821411908077,
          85.01670985189386,
          84.34174957474958,
          77.93943212039694,
          77.40954982721931,
          75.33534379469192,
          81.5006230415962,
          81.59350526528766,
          78.26023725921458,
          81.93066145737887,
          81.83880497684262,
          86.14798569437698,
          86.54381236226257,
          87.52978527101891,
          87.6851379698387,
          93.16973575649811,
          109.56791952394312,
          104.99427538375639,
          105.16628161824299,
          106.96096867262766,
          101.62974874589972,
          106.17755645888347,
          109.67361690166949,
          109.48624140216435,
          101.9194366169614,
          105.98216538722909,
          113.68197013052213,
          118.57008804148307,
          111.84366919895588,
          114.31855035358255,
          113.28269379143472,
          117.2810026450123,
          112.9076502183897,
          106.11889405400409,
          98.80365981344752,
          98.18223464870685,
          96.7196337302653,
          95.25709540654714,
          99.16941917425089,
          95.95552934377719,
          102.57127331772868,
          103.03238901177701,
          102.19749024834961,
          99.68765607814956,
          105.89826554938054,
          104.61270439805233,
          108.7229246069392,
          99.2939651466337,
          98.50231975798744,
          100.40006631887655,
          101.99877770731942,
          96.59672016256637,
          93.0611610110271,
          97.1378636966977
         ]
        },
        {
         "marker": {
          "color": "rgb(41, 58, 143)",
          "size": 1
         },
         "mode": "markers",
         "type": "scatter",
         "x": [
          "1984-06-01T00:00:00",
          "2018-06-01T00:00:00"
         ],
         "y": [
          57.251011182685396,
          97.1378636966977
         ]
        },
        {
         "connectgaps": true,
         "line": {
          "color": "rgb(11, 102, 189)",
          "width": 1.5
         },
         "mode": "lines",
         "name": "mrtg (Zillow)",
         "type": "scatter",
         "x": [
          "1984-06-01T00:00:00",
          "1984-09-01T00:00:00",
          "1984-12-01T00:00:00",
          "1985-03-01T00:00:00",
          "1985-06-01T00:00:00",
          "1985-09-01T00:00:00",
          "1985-12-01T00:00:00",
          "1986-03-01T00:00:00",
          "1986-06-01T00:00:00",
          "1986-09-01T00:00:00",
          "1986-12-01T00:00:00",
          "1987-03-01T00:00:00",
          "1987-06-01T00:00:00",
          "1987-09-01T00:00:00",
          "1987-12-01T00:00:00",
          "1988-03-01T00:00:00",
          "1988-06-01T00:00:00",
          "1988-09-01T00:00:00",
          "1988-12-01T00:00:00",
          "1989-03-01T00:00:00",
          "1989-06-01T00:00:00",
          "1989-09-01T00:00:00",
          "1989-12-01T00:00:00",
          "1990-03-01T00:00:00",
          "1990-06-01T00:00:00",
          "1990-09-01T00:00:00",
          "1990-12-01T00:00:00",
          "1991-03-01T00:00:00",
          "1991-06-01T00:00:00",
          "1991-09-01T00:00:00",
          "1991-12-01T00:00:00",
          "1992-03-01T00:00:00",
          "1992-06-01T00:00:00",
          "1992-09-01T00:00:00",
          "1992-12-01T00:00:00",
          "1993-03-01T00:00:00",
          "1993-06-01T00:00:00",
          "1993-09-01T00:00:00",
          "1993-12-01T00:00:00",
          "1994-03-01T00:00:00",
          "1994-06-01T00:00:00",
          "1994-09-01T00:00:00",
          "1994-12-01T00:00:00",
          "1995-03-01T00:00:00",
          "1995-06-01T00:00:00",
          "1995-09-01T00:00:00",
          "1995-12-01T00:00:00",
          "1996-03-01T00:00:00",
          "1996-06-01T00:00:00",
          "1996-09-01T00:00:00",
          "1996-12-01T00:00:00",
          "1997-03-01T00:00:00",
          "1997-06-01T00:00:00",
          "1997-09-01T00:00:00",
          "1997-12-01T00:00:00",
          "1998-03-01T00:00:00",
          "1998-06-01T00:00:00",
          "1998-09-01T00:00:00",
          "1998-12-01T00:00:00",
          "1999-03-01T00:00:00",
          "1999-06-01T00:00:00",
          "1999-09-01T00:00:00",
          "1999-12-01T00:00:00",
          "2000-03-01T00:00:00",
          "2000-06-01T00:00:00",
          "2000-09-01T00:00:00",
          "2000-12-01T00:00:00",
          "2001-03-01T00:00:00",
          "2001-06-01T00:00:00",
          "2001-09-01T00:00:00",
          "2001-12-01T00:00:00",
          "2002-03-01T00:00:00",
          "2002-06-01T00:00:00",
          "2002-09-01T00:00:00",
          "2002-12-01T00:00:00",
          "2003-03-01T00:00:00",
          "2003-06-01T00:00:00",
          "2003-09-01T00:00:00",
          "2003-12-01T00:00:00",
          "2004-03-01T00:00:00",
          "2004-06-01T00:00:00",
          "2004-09-01T00:00:00",
          "2004-12-01T00:00:00",
          "2005-03-01T00:00:00",
          "2005-06-01T00:00:00",
          "2005-09-01T00:00:00",
          "2005-12-01T00:00:00",
          "2006-03-01T00:00:00",
          "2006-06-01T00:00:00",
          "2006-09-01T00:00:00",
          "2006-12-01T00:00:00",
          "2007-03-01T00:00:00",
          "2007-06-01T00:00:00",
          "2007-09-01T00:00:00",
          "2007-12-01T00:00:00",
          "2008-03-01T00:00:00",
          "2008-06-01T00:00:00",
          "2008-09-01T00:00:00",
          "2008-12-01T00:00:00",
          "2009-03-01T00:00:00",
          "2009-06-01T00:00:00",
          "2009-09-01T00:00:00",
          "2009-12-01T00:00:00",
          "2010-03-01T00:00:00",
          "2010-06-01T00:00:00",
          "2010-09-01T00:00:00",
          "2010-12-01T00:00:00",
          "2011-03-01T00:00:00",
          "2011-06-01T00:00:00",
          "2011-09-01T00:00:00",
          "2011-12-01T00:00:00",
          "2012-03-01T00:00:00",
          "2012-06-01T00:00:00",
          "2012-09-01T00:00:00",
          "2012-12-01T00:00:00",
          "2013-03-01T00:00:00",
          "2013-06-01T00:00:00",
          "2013-09-01T00:00:00",
          "2013-12-01T00:00:00",
          "2014-03-01T00:00:00",
          "2014-06-01T00:00:00",
          "2014-09-01T00:00:00",
          "2014-12-01T00:00:00",
          "2015-03-01T00:00:00",
          "2015-06-01T00:00:00",
          "2015-09-01T00:00:00",
          "2015-12-01T00:00:00",
          "2016-03-01T00:00:00",
          "2016-06-01T00:00:00",
          "2016-09-01T00:00:00",
          "2016-12-01T00:00:00",
          "2017-03-01T00:00:00",
          "2017-06-01T00:00:00",
          "2017-09-01T00:00:00",
          "2017-12-01T00:00:00",
          "2018-03-01T00:00:00",
          "2018-06-01T00:00:00"
         ],
         "y": [
          null,
          null,
          null,
          null,
          null,
          null,
          null,
          null,
          null,
          null,
          null,
          null,
          null,
          null,
          null,
          null,
          null,
          null,
          null,
          null,
          null,
          null,
          null,
          null,
          null,
          null,
          null,
          null,
          null,
          null,
          null,
          null,
          null,
          null,
          null,
          null,
          null,
          null,
          null,
          null,
          null,
          null,
          null,
          null,
          null,
          null,
          null,
          117.42176635401903,
          111.29619320081231,
          111.23553162967404,
          117.8499045338805,
          116.87124554254557,
          113.84780759432616,
          118.32770859724754,
          123.60082873268466,
          124.34702104260256,
          124.91683570995225,
          126.75064074082832,
          128.42182672465492,
          126.9650065914618,
          122.16092256937108,
          114.7186580908246,
          114.39334701384972,
          107.50623080529644,
          103.52525774721946,
          108.3129911147531,
          109.66340372641548,
          113.63834864873876,
          110.54310944889706,
          112.40676242577423,
          109.63301226215627,
          110.44779488094166,
          109.20195282199798,
          114.05195069743783,
          113.60338191986504,
          116.28155468572832,
          121.05821000804987,
          107.12582610980081,
          110.46949510730956,
          112.28207757873429,
          101.65860640768027,
          105.48250782516327,
          104.95332597452013,
          103.54190692278861,
          102.16799212409033,
          99.58439684875735,
          92.46375758895802,
          91.63761161628085,
          87.36414099022838,
          89.75789192805019,
          93.40022199983018,
          93.94644705544128,
          92.93732650001482,
          93.51945445583648,
          98.36006431740977,
          98.96016050379716,
          103.3021280320942,
          102.35249971742441,
          109.96146998414427,
          124.34694811219101,
          129.18575552414464,
          127.2371470797195,
          132.878305807672,
          128.8032465982149,
          132.81497656516194,
          142.05047651549592,
          144.38524235826478,
          138.2807539548216,
          147.14906884839218,
          155.9820757822561,
          161.94017065077836,
          164.97463672662806,
          167.76100903977124,
          171.60804812078104,
          177.18970921643944,
          171.89465978761254,
          164.03546736860656,
          147.482280726503,
          148.61940049066212,
          145.17018195912237,
          148.2184182843428,
          149.26353706045455,
          151.95449870120478,
          155.25078502262082,
          153.79635919424572,
          154.0689238394474,
          151.75259021030237,
          157.5879562189984,
          156.73926743737093,
          159.35517166050633,
          146.66850580150142,
          144.34381232320777,
          147.13986193322884,
          148.22244403877505,
          145.49164334492798,
          135.41660040109986,
          132.3795017863124
         ]
        },
        {
         "marker": {
          "color": "rgb(11, 102, 189)",
          "size": 1
         },
         "mode": "markers",
         "type": "scatter",
         "x": [
          "1984-06-01T00:00:00",
          "2018-06-01T00:00:00"
         ],
         "y": [
          null,
          132.3795017863124
         ]
        },
        {
         "connectgaps": true,
         "line": {
          "color": "rgb(69, 144, 256)",
          "width": 1.5
         },
         "mode": "lines",
         "name": "rental (Zillow)",
         "type": "scatter",
         "x": [
          "1984-06-01T00:00:00",
          "1984-09-01T00:00:00",
          "1984-12-01T00:00:00",
          "1985-03-01T00:00:00",
          "1985-06-01T00:00:00",
          "1985-09-01T00:00:00",
          "1985-12-01T00:00:00",
          "1986-03-01T00:00:00",
          "1986-06-01T00:00:00",
          "1986-09-01T00:00:00",
          "1986-12-01T00:00:00",
          "1987-03-01T00:00:00",
          "1987-06-01T00:00:00",
          "1987-09-01T00:00:00",
          "1987-12-01T00:00:00",
          "1988-03-01T00:00:00",
          "1988-06-01T00:00:00",
          "1988-09-01T00:00:00",
          "1988-12-01T00:00:00",
          "1989-03-01T00:00:00",
          "1989-06-01T00:00:00",
          "1989-09-01T00:00:00",
          "1989-12-01T00:00:00",
          "1990-03-01T00:00:00",
          "1990-06-01T00:00:00",
          "1990-09-01T00:00:00",
          "1990-12-01T00:00:00",
          "1991-03-01T00:00:00",
          "1991-06-01T00:00:00",
          "1991-09-01T00:00:00",
          "1991-12-01T00:00:00",
          "1992-03-01T00:00:00",
          "1992-06-01T00:00:00",
          "1992-09-01T00:00:00",
          "1992-12-01T00:00:00",
          "1993-03-01T00:00:00",
          "1993-06-01T00:00:00",
          "1993-09-01T00:00:00",
          "1993-12-01T00:00:00",
          "1994-03-01T00:00:00",
          "1994-06-01T00:00:00",
          "1994-09-01T00:00:00",
          "1994-12-01T00:00:00",
          "1995-03-01T00:00:00",
          "1995-06-01T00:00:00",
          "1995-09-01T00:00:00",
          "1995-12-01T00:00:00",
          "1996-03-01T00:00:00",
          "1996-06-01T00:00:00",
          "1996-09-01T00:00:00",
          "1996-12-01T00:00:00",
          "1997-03-01T00:00:00",
          "1997-06-01T00:00:00",
          "1997-09-01T00:00:00",
          "1997-12-01T00:00:00",
          "1998-03-01T00:00:00",
          "1998-06-01T00:00:00",
          "1998-09-01T00:00:00",
          "1998-12-01T00:00:00",
          "1999-03-01T00:00:00",
          "1999-06-01T00:00:00",
          "1999-09-01T00:00:00",
          "1999-12-01T00:00:00",
          "2000-03-01T00:00:00",
          "2000-06-01T00:00:00",
          "2000-09-01T00:00:00",
          "2000-12-01T00:00:00",
          "2001-03-01T00:00:00",
          "2001-06-01T00:00:00",
          "2001-09-01T00:00:00",
          "2001-12-01T00:00:00",
          "2002-03-01T00:00:00",
          "2002-06-01T00:00:00",
          "2002-09-01T00:00:00",
          "2002-12-01T00:00:00",
          "2003-03-01T00:00:00",
          "2003-06-01T00:00:00",
          "2003-09-01T00:00:00",
          "2003-12-01T00:00:00",
          "2004-03-01T00:00:00",
          "2004-06-01T00:00:00",
          "2004-09-01T00:00:00",
          "2004-12-01T00:00:00",
          "2005-03-01T00:00:00",
          "2005-06-01T00:00:00",
          "2005-09-01T00:00:00",
          "2005-12-01T00:00:00",
          "2006-03-01T00:00:00",
          "2006-06-01T00:00:00",
          "2006-09-01T00:00:00",
          "2006-12-01T00:00:00",
          "2007-03-01T00:00:00",
          "2007-06-01T00:00:00",
          "2007-09-01T00:00:00",
          "2007-12-01T00:00:00",
          "2008-03-01T00:00:00",
          "2008-06-01T00:00:00",
          "2008-09-01T00:00:00",
          "2008-12-01T00:00:00",
          "2009-03-01T00:00:00",
          "2009-06-01T00:00:00",
          "2009-09-01T00:00:00",
          "2009-12-01T00:00:00",
          "2010-03-01T00:00:00",
          "2010-06-01T00:00:00",
          "2010-09-01T00:00:00",
          "2010-12-01T00:00:00",
          "2011-03-01T00:00:00",
          "2011-06-01T00:00:00",
          "2011-09-01T00:00:00",
          "2011-12-01T00:00:00",
          "2012-03-01T00:00:00",
          "2012-06-01T00:00:00",
          "2012-09-01T00:00:00",
          "2012-12-01T00:00:00",
          "2013-03-01T00:00:00",
          "2013-06-01T00:00:00",
          "2013-09-01T00:00:00",
          "2013-12-01T00:00:00",
          "2014-03-01T00:00:00",
          "2014-06-01T00:00:00",
          "2014-09-01T00:00:00",
          "2014-12-01T00:00:00",
          "2015-03-01T00:00:00",
          "2015-06-01T00:00:00",
          "2015-09-01T00:00:00",
          "2015-12-01T00:00:00",
          "2016-03-01T00:00:00",
          "2016-06-01T00:00:00",
          "2016-09-01T00:00:00",
          "2016-12-01T00:00:00",
          "2017-03-01T00:00:00",
          "2017-06-01T00:00:00",
          "2017-09-01T00:00:00",
          "2017-12-01T00:00:00",
          "2018-03-01T00:00:00",
          "2018-06-01T00:00:00"
         ],
         "y": [
          null,
          null,
          null,
          null,
          null,
          null,
          null,
          null,
          null,
          null,
          null,
          null,
          null,
          null,
          null,
          null,
          null,
          null,
          null,
          null,
          null,
          null,
          null,
          null,
          null,
          null,
          null,
          null,
          null,
          null,
          null,
          null,
          null,
          null,
          null,
          null,
          null,
          null,
          null,
          null,
          null,
          null,
          null,
          null,
          null,
          null,
          null,
          null,
          null,
          null,
          null,
          null,
          null,
          null,
          null,
          null,
          null,
          null,
          null,
          null,
          null,
          null,
          null,
          null,
          null,
          null,
          null,
          null,
          null,
          null,
          null,
          null,
          null,
          null,
          null,
          null,
          null,
          null,
          null,
          null,
          null,
          null,
          null,
          null,
          null,
          null,
          null,
          null,
          null,
          null,
          null,
          null,
          null,
          null,
          null,
          null,
          null,
          null,
          null,
          null,
          null,
          null,
          null,
          null,
          null,
          null,
          null,
          null,
          null,
          null,
          null,
          null,
          null,
          null,
          null,
          null,
          null,
          null,
          null,
          106.00592885375494,
          102.87001533742331,
          103.21137053910402,
          104.72718631178707,
          104.49672284644194,
          103.43338213762812,
          103.75226942628903,
          105.05,
          104.59930157593124,
          103.6499297752809,
          104.27739845938375,
          105.4906952247191,
          105.22873263888889,
          104.32764505119454,
          105.27108948087432,
          106.07081911262799,
          105.5731974393531,
          104.32463672391017
         ]
        },
        {
         "marker": {
          "color": "rgb(69, 144, 256)",
          "size": 1
         },
         "mode": "markers",
         "type": "scatter",
         "x": [
          "1984-06-01T00:00:00",
          "2018-06-01T00:00:00"
         ],
         "y": [
          null,
          104.32463672391017
         ]
        }
       ],
       "layout": {
        "annotations": [
         {
          "font": {
           "color": "rgb(41, 58, 143)",
           "family": "Arial",
           "size": 15
          },
          "showarrow": false,
          "text": "mrtg (Census)",
          "x": 0.95,
          "xanchor": "left",
          "xref": "paper",
          "y": 97.1378636966977,
          "yanchor": "middle"
         },
         {
          "font": {
           "family": "Arial",
           "size": 12
          },
          "showarrow": false,
          "text": "",
          "x": 0.05,
          "xanchor": "right",
          "xref": "paper",
          "y": 57.251011182685396,
          "yanchor": "top"
         },
         {
          "font": {
           "family": "Arial",
           "size": 12
          },
          "showarrow": false,
          "text": "",
          "x": 0.95,
          "xanchor": "left",
          "xref": "paper",
          "y": 97.1378636966977,
          "yanchor": "top"
         },
         {
          "font": {
           "color": "rgb(11, 102, 189)",
           "family": "Arial",
           "size": 15
          },
          "showarrow": false,
          "text": "mrtg (Zillow)",
          "x": 0.95,
          "xanchor": "left",
          "xref": "paper",
          "y": 132.3795017863124,
          "yanchor": "middle"
         },
         {
          "font": {
           "family": "Arial",
           "size": 12
          },
          "showarrow": false,
          "text": "",
          "x": 0.05,
          "xanchor": "right",
          "xref": "paper",
          "y": null,
          "yanchor": "top"
         },
         {
          "font": {
           "family": "Arial",
           "size": 12
          },
          "showarrow": false,
          "text": "",
          "x": 0.95,
          "xanchor": "left",
          "xref": "paper",
          "y": 132.3795017863124,
          "yanchor": "top"
         },
         {
          "font": {
           "color": "rgb(69, 144, 256)",
           "family": "Arial",
           "size": 15
          },
          "showarrow": false,
          "text": "rental (Zillow)",
          "x": 0.95,
          "xanchor": "left",
          "xref": "paper",
          "y": 104.32463672391017,
          "yanchor": "middle"
         },
         {
          "font": {
           "family": "Arial",
           "size": 12
          },
          "showarrow": false,
          "text": "",
          "x": 0.05,
          "xanchor": "right",
          "xref": "paper",
          "y": null,
          "yanchor": "top"
         },
         {
          "font": {
           "family": "Arial",
           "size": 12
          },
          "showarrow": false,
          "text": "",
          "x": 0.95,
          "xanchor": "left",
          "xref": "paper",
          "y": 104.32463672391017,
          "yanchor": "top"
         },
         {
          "font": {
           "color": "rgb(37,37,37)",
           "family": "Arial",
           "size": 22
          },
          "showarrow": false,
          "text": "Housing affordability (HHs)",
          "x": 0,
          "xanchor": "left",
          "xref": "paper",
          "y": 1.05,
          "yanchor": "bottom",
          "yref": "paper"
         },
         {
          "font": {
           "color": "rgb(150,150,150)",
           "family": "Arial",
           "size": 12
          },
          "showarrow": false,
          "text": "Source: U.S. Census Bureau, FreddieMac, Zillow, own calculations.",
          "x": 0,
          "xanchor": "left",
          "xref": "paper",
          "y": -0.1,
          "yanchor": "top",
          "yref": "paper"
         },
         {
          "font": {
           "color": "black",
           "family": "Arial",
           "size": 12
          },
          "showarrow": false,
          "text": "",
          "x": 0,
          "xref": "paper",
          "y": 1.06,
          "yref": "paper"
         }
        ],
        "autosize": false,
        "height": 600,
        "margin": {
         "autoexpand": false,
         "l": 120,
         "r": 130,
         "t": 110
        },
        "plot_bgcolor": "white",
        "showlegend": false,
        "template": {
         "data": {
          "bar": [
           {
            "error_x": {
             "color": "#2a3f5f"
            },
            "error_y": {
             "color": "#2a3f5f"
            },
            "marker": {
             "line": {
              "color": "#E5ECF6",
              "width": 0.5
             }
            },
            "type": "bar"
           }
          ],
          "barpolar": [
           {
            "marker": {
             "line": {
              "color": "#E5ECF6",
              "width": 0.5
             }
            },
            "type": "barpolar"
           }
          ],
          "carpet": [
           {
            "aaxis": {
             "endlinecolor": "#2a3f5f",
             "gridcolor": "white",
             "linecolor": "white",
             "minorgridcolor": "white",
             "startlinecolor": "#2a3f5f"
            },
            "baxis": {
             "endlinecolor": "#2a3f5f",
             "gridcolor": "white",
             "linecolor": "white",
             "minorgridcolor": "white",
             "startlinecolor": "#2a3f5f"
            },
            "type": "carpet"
           }
          ],
          "choropleth": [
           {
            "colorbar": {
             "outlinewidth": 0,
             "ticks": ""
            },
            "type": "choropleth"
           }
          ],
          "contour": [
           {
            "colorbar": {
             "outlinewidth": 0,
             "ticks": ""
            },
            "colorscale": [
             [
              0,
              "#0d0887"
             ],
             [
              0.1111111111111111,
              "#46039f"
             ],
             [
              0.2222222222222222,
              "#7201a8"
             ],
             [
              0.3333333333333333,
              "#9c179e"
             ],
             [
              0.4444444444444444,
              "#bd3786"
             ],
             [
              0.5555555555555556,
              "#d8576b"
             ],
             [
              0.6666666666666666,
              "#ed7953"
             ],
             [
              0.7777777777777778,
              "#fb9f3a"
             ],
             [
              0.8888888888888888,
              "#fdca26"
             ],
             [
              1,
              "#f0f921"
             ]
            ],
            "type": "contour"
           }
          ],
          "contourcarpet": [
           {
            "colorbar": {
             "outlinewidth": 0,
             "ticks": ""
            },
            "type": "contourcarpet"
           }
          ],
          "heatmap": [
           {
            "colorbar": {
             "outlinewidth": 0,
             "ticks": ""
            },
            "colorscale": [
             [
              0,
              "#0d0887"
             ],
             [
              0.1111111111111111,
              "#46039f"
             ],
             [
              0.2222222222222222,
              "#7201a8"
             ],
             [
              0.3333333333333333,
              "#9c179e"
             ],
             [
              0.4444444444444444,
              "#bd3786"
             ],
             [
              0.5555555555555556,
              "#d8576b"
             ],
             [
              0.6666666666666666,
              "#ed7953"
             ],
             [
              0.7777777777777778,
              "#fb9f3a"
             ],
             [
              0.8888888888888888,
              "#fdca26"
             ],
             [
              1,
              "#f0f921"
             ]
            ],
            "type": "heatmap"
           }
          ],
          "heatmapgl": [
           {
            "colorbar": {
             "outlinewidth": 0,
             "ticks": ""
            },
            "colorscale": [
             [
              0,
              "#0d0887"
             ],
             [
              0.1111111111111111,
              "#46039f"
             ],
             [
              0.2222222222222222,
              "#7201a8"
             ],
             [
              0.3333333333333333,
              "#9c179e"
             ],
             [
              0.4444444444444444,
              "#bd3786"
             ],
             [
              0.5555555555555556,
              "#d8576b"
             ],
             [
              0.6666666666666666,
              "#ed7953"
             ],
             [
              0.7777777777777778,
              "#fb9f3a"
             ],
             [
              0.8888888888888888,
              "#fdca26"
             ],
             [
              1,
              "#f0f921"
             ]
            ],
            "type": "heatmapgl"
           }
          ],
          "histogram": [
           {
            "marker": {
             "colorbar": {
              "outlinewidth": 0,
              "ticks": ""
             }
            },
            "type": "histogram"
           }
          ],
          "histogram2d": [
           {
            "colorbar": {
             "outlinewidth": 0,
             "ticks": ""
            },
            "colorscale": [
             [
              0,
              "#0d0887"
             ],
             [
              0.1111111111111111,
              "#46039f"
             ],
             [
              0.2222222222222222,
              "#7201a8"
             ],
             [
              0.3333333333333333,
              "#9c179e"
             ],
             [
              0.4444444444444444,
              "#bd3786"
             ],
             [
              0.5555555555555556,
              "#d8576b"
             ],
             [
              0.6666666666666666,
              "#ed7953"
             ],
             [
              0.7777777777777778,
              "#fb9f3a"
             ],
             [
              0.8888888888888888,
              "#fdca26"
             ],
             [
              1,
              "#f0f921"
             ]
            ],
            "type": "histogram2d"
           }
          ],
          "histogram2dcontour": [
           {
            "colorbar": {
             "outlinewidth": 0,
             "ticks": ""
            },
            "colorscale": [
             [
              0,
              "#0d0887"
             ],
             [
              0.1111111111111111,
              "#46039f"
             ],
             [
              0.2222222222222222,
              "#7201a8"
             ],
             [
              0.3333333333333333,
              "#9c179e"
             ],
             [
              0.4444444444444444,
              "#bd3786"
             ],
             [
              0.5555555555555556,
              "#d8576b"
             ],
             [
              0.6666666666666666,
              "#ed7953"
             ],
             [
              0.7777777777777778,
              "#fb9f3a"
             ],
             [
              0.8888888888888888,
              "#fdca26"
             ],
             [
              1,
              "#f0f921"
             ]
            ],
            "type": "histogram2dcontour"
           }
          ],
          "mesh3d": [
           {
            "colorbar": {
             "outlinewidth": 0,
             "ticks": ""
            },
            "type": "mesh3d"
           }
          ],
          "parcoords": [
           {
            "line": {
             "colorbar": {
              "outlinewidth": 0,
              "ticks": ""
             }
            },
            "type": "parcoords"
           }
          ],
          "pie": [
           {
            "automargin": true,
            "type": "pie"
           }
          ],
          "scatter": [
           {
            "marker": {
             "colorbar": {
              "outlinewidth": 0,
              "ticks": ""
             }
            },
            "type": "scatter"
           }
          ],
          "scatter3d": [
           {
            "line": {
             "colorbar": {
              "outlinewidth": 0,
              "ticks": ""
             }
            },
            "marker": {
             "colorbar": {
              "outlinewidth": 0,
              "ticks": ""
             }
            },
            "type": "scatter3d"
           }
          ],
          "scattercarpet": [
           {
            "marker": {
             "colorbar": {
              "outlinewidth": 0,
              "ticks": ""
             }
            },
            "type": "scattercarpet"
           }
          ],
          "scattergeo": [
           {
            "marker": {
             "colorbar": {
              "outlinewidth": 0,
              "ticks": ""
             }
            },
            "type": "scattergeo"
           }
          ],
          "scattergl": [
           {
            "marker": {
             "colorbar": {
              "outlinewidth": 0,
              "ticks": ""
             }
            },
            "type": "scattergl"
           }
          ],
          "scattermapbox": [
           {
            "marker": {
             "colorbar": {
              "outlinewidth": 0,
              "ticks": ""
             }
            },
            "type": "scattermapbox"
           }
          ],
          "scatterpolar": [
           {
            "marker": {
             "colorbar": {
              "outlinewidth": 0,
              "ticks": ""
             }
            },
            "type": "scatterpolar"
           }
          ],
          "scatterpolargl": [
           {
            "marker": {
             "colorbar": {
              "outlinewidth": 0,
              "ticks": ""
             }
            },
            "type": "scatterpolargl"
           }
          ],
          "scatterternary": [
           {
            "marker": {
             "colorbar": {
              "outlinewidth": 0,
              "ticks": ""
             }
            },
            "type": "scatterternary"
           }
          ],
          "surface": [
           {
            "colorbar": {
             "outlinewidth": 0,
             "ticks": ""
            },
            "colorscale": [
             [
              0,
              "#0d0887"
             ],
             [
              0.1111111111111111,
              "#46039f"
             ],
             [
              0.2222222222222222,
              "#7201a8"
             ],
             [
              0.3333333333333333,
              "#9c179e"
             ],
             [
              0.4444444444444444,
              "#bd3786"
             ],
             [
              0.5555555555555556,
              "#d8576b"
             ],
             [
              0.6666666666666666,
              "#ed7953"
             ],
             [
              0.7777777777777778,
              "#fb9f3a"
             ],
             [
              0.8888888888888888,
              "#fdca26"
             ],
             [
              1,
              "#f0f921"
             ]
            ],
            "type": "surface"
           }
          ],
          "table": [
           {
            "cells": {
             "fill": {
              "color": "#EBF0F8"
             },
             "line": {
              "color": "white"
             }
            },
            "header": {
             "fill": {
              "color": "#C8D4E3"
             },
             "line": {
              "color": "white"
             }
            },
            "type": "table"
           }
          ]
         },
         "layout": {
          "annotationdefaults": {
           "arrowcolor": "#2a3f5f",
           "arrowhead": 0,
           "arrowwidth": 1
          },
          "coloraxis": {
           "colorbar": {
            "outlinewidth": 0,
            "ticks": ""
           }
          },
          "colorscale": {
           "diverging": [
            [
             0,
             "#8e0152"
            ],
            [
             0.1,
             "#c51b7d"
            ],
            [
             0.2,
             "#de77ae"
            ],
            [
             0.3,
             "#f1b6da"
            ],
            [
             0.4,
             "#fde0ef"
            ],
            [
             0.5,
             "#f7f7f7"
            ],
            [
             0.6,
             "#e6f5d0"
            ],
            [
             0.7,
             "#b8e186"
            ],
            [
             0.8,
             "#7fbc41"
            ],
            [
             0.9,
             "#4d9221"
            ],
            [
             1,
             "#276419"
            ]
           ],
           "sequential": [
            [
             0,
             "#0d0887"
            ],
            [
             0.1111111111111111,
             "#46039f"
            ],
            [
             0.2222222222222222,
             "#7201a8"
            ],
            [
             0.3333333333333333,
             "#9c179e"
            ],
            [
             0.4444444444444444,
             "#bd3786"
            ],
            [
             0.5555555555555556,
             "#d8576b"
            ],
            [
             0.6666666666666666,
             "#ed7953"
            ],
            [
             0.7777777777777778,
             "#fb9f3a"
            ],
            [
             0.8888888888888888,
             "#fdca26"
            ],
            [
             1,
             "#f0f921"
            ]
           ],
           "sequentialminus": [
            [
             0,
             "#0d0887"
            ],
            [
             0.1111111111111111,
             "#46039f"
            ],
            [
             0.2222222222222222,
             "#7201a8"
            ],
            [
             0.3333333333333333,
             "#9c179e"
            ],
            [
             0.4444444444444444,
             "#bd3786"
            ],
            [
             0.5555555555555556,
             "#d8576b"
            ],
            [
             0.6666666666666666,
             "#ed7953"
            ],
            [
             0.7777777777777778,
             "#fb9f3a"
            ],
            [
             0.8888888888888888,
             "#fdca26"
            ],
            [
             1,
             "#f0f921"
            ]
           ]
          },
          "colorway": [
           "#636efa",
           "#EF553B",
           "#00cc96",
           "#ab63fa",
           "#FFA15A",
           "#19d3f3",
           "#FF6692",
           "#B6E880",
           "#FF97FF",
           "#FECB52"
          ],
          "font": {
           "color": "#2a3f5f"
          },
          "geo": {
           "bgcolor": "white",
           "lakecolor": "white",
           "landcolor": "#E5ECF6",
           "showlakes": true,
           "showland": true,
           "subunitcolor": "white"
          },
          "hoverlabel": {
           "align": "left"
          },
          "hovermode": "closest",
          "mapbox": {
           "style": "light"
          },
          "paper_bgcolor": "white",
          "plot_bgcolor": "#E5ECF6",
          "polar": {
           "angularaxis": {
            "gridcolor": "white",
            "linecolor": "white",
            "ticks": ""
           },
           "bgcolor": "#E5ECF6",
           "radialaxis": {
            "gridcolor": "white",
            "linecolor": "white",
            "ticks": ""
           }
          },
          "scene": {
           "xaxis": {
            "backgroundcolor": "#E5ECF6",
            "gridcolor": "white",
            "gridwidth": 2,
            "linecolor": "white",
            "showbackground": true,
            "ticks": "",
            "zerolinecolor": "white"
           },
           "yaxis": {
            "backgroundcolor": "#E5ECF6",
            "gridcolor": "white",
            "gridwidth": 2,
            "linecolor": "white",
            "showbackground": true,
            "ticks": "",
            "zerolinecolor": "white"
           },
           "zaxis": {
            "backgroundcolor": "#E5ECF6",
            "gridcolor": "white",
            "gridwidth": 2,
            "linecolor": "white",
            "showbackground": true,
            "ticks": "",
            "zerolinecolor": "white"
           }
          },
          "shapedefaults": {
           "line": {
            "color": "#2a3f5f"
           }
          },
          "ternary": {
           "aaxis": {
            "gridcolor": "white",
            "linecolor": "white",
            "ticks": ""
           },
           "baxis": {
            "gridcolor": "white",
            "linecolor": "white",
            "ticks": ""
           },
           "bgcolor": "#E5ECF6",
           "caxis": {
            "gridcolor": "white",
            "linecolor": "white",
            "ticks": ""
           }
          },
          "title": {
           "x": 0.05
          },
          "xaxis": {
           "automargin": true,
           "gridcolor": "white",
           "linecolor": "white",
           "ticks": "",
           "title": {
            "standoff": 15
           },
           "zerolinecolor": "white",
           "zerolinewidth": 2
          },
          "yaxis": {
           "automargin": true,
           "gridcolor": "white",
           "linecolor": "white",
           "ticks": "",
           "title": {
            "standoff": 15
           },
           "zerolinecolor": "white",
           "zerolinewidth": 2
          }
         }
        },
        "updatemenus": [
         {
          "active": 0,
          "buttons": [
           {
            "args": [
             "shapes",
             []
            ],
            "label": "-",
            "method": "relayout"
           },
           {
            "args": [
             "shapes",
             [
              {
               "fillcolor": "lightgray",
               "layer": "below",
               "line": {
                "color": "white",
                "width": 0.1
               },
               "line_width": 0,
               "type": "rect",
               "x0": "1990-07-01T00:00:00",
               "x1": "1991-01-01T00:00:00",
               "xref": "x",
               "y0": 0,
               "y1": 0.97,
               "yref": "paper"
              },
              {
               "fillcolor": "lightgray",
               "layer": "below",
               "line": {
                "color": "white",
                "width": 0.1
               },
               "line_width": 0,
               "type": "rect",
               "x0": "2001-01-01T00:00:00",
               "x1": "2001-10-01T00:00:00",
               "xref": "x",
               "y0": 0,
               "y1": 0.97,
               "yref": "paper"
              },
              {
               "fillcolor": "lightgray",
               "layer": "below",
               "line": {
                "color": "white",
                "width": 0.1
               },
               "line_width": 0,
               "type": "rect",
               "x0": "2007-10-01T00:00:00",
               "x1": "2009-04-01T00:00:00",
               "xref": "x",
               "y0": 0,
               "y1": 0.97,
               "yref": "paper"
              }
             ]
            ],
            "label": "+",
            "method": "relayout"
           }
          ],
          "direction": "right",
          "type": "buttons",
          "x": 1,
          "y": 1.2
         }
        ],
        "width": 1020,
        "xaxis": {
         "linecolor": "rgb(204, 204, 204)",
         "linewidth": 2,
         "showgrid": true,
         "showline": true,
         "showticklabels": true,
         "tickfont": {
          "color": "rgb(82, 82, 82)",
          "family": "Arial",
          "size": 12
         },
         "ticks": "outside"
        },
        "yaxis": {
         "gridcolor": "rgb(204, 204, 204)",
         "showgrid": true,
         "showline": true,
         "showticklabels": true,
         "zeroline": false
        }
       }
      },
      "text/html": [
       "<div>\n",
       "        \n",
       "        \n",
       "            <div id=\"95b0fb7c-9476-45d2-aa6a-aa7dd7c7f3fb\" class=\"plotly-graph-div\" style=\"height:600px; width:1020px;\"></div>\n",
       "            <script type=\"text/javascript\">\n",
       "                require([\"plotly\"], function(Plotly) {\n",
       "                    window.PLOTLYENV=window.PLOTLYENV || {};\n",
       "                    \n",
       "                if (document.getElementById(\"95b0fb7c-9476-45d2-aa6a-aa7dd7c7f3fb\")) {\n",
       "                    Plotly.newPlot(\n",
       "                        '95b0fb7c-9476-45d2-aa6a-aa7dd7c7f3fb',\n",
       "                        [{\"connectgaps\": true, \"line\": {\"color\": \"rgb(41, 58, 143)\", \"width\": 1.5}, \"mode\": \"lines\", \"name\": \"mrtg (Census)\", \"type\": \"scatter\", \"x\": [\"1984-06-01T00:00:00\", \"1984-09-01T00:00:00\", \"1984-12-01T00:00:00\", \"1985-03-01T00:00:00\", \"1985-06-01T00:00:00\", \"1985-09-01T00:00:00\", \"1985-12-01T00:00:00\", \"1986-03-01T00:00:00\", \"1986-06-01T00:00:00\", \"1986-09-01T00:00:00\", \"1986-12-01T00:00:00\", \"1987-03-01T00:00:00\", \"1987-06-01T00:00:00\", \"1987-09-01T00:00:00\", \"1987-12-01T00:00:00\", \"1988-03-01T00:00:00\", \"1988-06-01T00:00:00\", \"1988-09-01T00:00:00\", \"1988-12-01T00:00:00\", \"1989-03-01T00:00:00\", \"1989-06-01T00:00:00\", \"1989-09-01T00:00:00\", \"1989-12-01T00:00:00\", \"1990-03-01T00:00:00\", \"1990-06-01T00:00:00\", \"1990-09-01T00:00:00\", \"1990-12-01T00:00:00\", \"1991-03-01T00:00:00\", \"1991-06-01T00:00:00\", \"1991-09-01T00:00:00\", \"1991-12-01T00:00:00\", \"1992-03-01T00:00:00\", \"1992-06-01T00:00:00\", \"1992-09-01T00:00:00\", \"1992-12-01T00:00:00\", \"1993-03-01T00:00:00\", \"1993-06-01T00:00:00\", \"1993-09-01T00:00:00\", \"1993-12-01T00:00:00\", \"1994-03-01T00:00:00\", \"1994-06-01T00:00:00\", \"1994-09-01T00:00:00\", \"1994-12-01T00:00:00\", \"1995-03-01T00:00:00\", \"1995-06-01T00:00:00\", \"1995-09-01T00:00:00\", \"1995-12-01T00:00:00\", \"1996-03-01T00:00:00\", \"1996-06-01T00:00:00\", \"1996-09-01T00:00:00\", \"1996-12-01T00:00:00\", \"1997-03-01T00:00:00\", \"1997-06-01T00:00:00\", \"1997-09-01T00:00:00\", \"1997-12-01T00:00:00\", \"1998-03-01T00:00:00\", \"1998-06-01T00:00:00\", \"1998-09-01T00:00:00\", \"1998-12-01T00:00:00\", \"1999-03-01T00:00:00\", \"1999-06-01T00:00:00\", \"1999-09-01T00:00:00\", \"1999-12-01T00:00:00\", \"2000-03-01T00:00:00\", \"2000-06-01T00:00:00\", \"2000-09-01T00:00:00\", \"2000-12-01T00:00:00\", \"2001-03-01T00:00:00\", \"2001-06-01T00:00:00\", \"2001-09-01T00:00:00\", \"2001-12-01T00:00:00\", \"2002-03-01T00:00:00\", \"2002-06-01T00:00:00\", \"2002-09-01T00:00:00\", \"2002-12-01T00:00:00\", \"2003-03-01T00:00:00\", \"2003-06-01T00:00:00\", \"2003-09-01T00:00:00\", \"2003-12-01T00:00:00\", \"2004-03-01T00:00:00\", \"2004-06-01T00:00:00\", \"2004-09-01T00:00:00\", \"2004-12-01T00:00:00\", \"2005-03-01T00:00:00\", \"2005-06-01T00:00:00\", \"2005-09-01T00:00:00\", \"2005-12-01T00:00:00\", \"2006-03-01T00:00:00\", \"2006-06-01T00:00:00\", \"2006-09-01T00:00:00\", \"2006-12-01T00:00:00\", \"2007-03-01T00:00:00\", \"2007-06-01T00:00:00\", \"2007-09-01T00:00:00\", \"2007-12-01T00:00:00\", \"2008-03-01T00:00:00\", \"2008-06-01T00:00:00\", \"2008-09-01T00:00:00\", \"2008-12-01T00:00:00\", \"2009-03-01T00:00:00\", \"2009-06-01T00:00:00\", \"2009-09-01T00:00:00\", \"2009-12-01T00:00:00\", \"2010-03-01T00:00:00\", \"2010-06-01T00:00:00\", \"2010-09-01T00:00:00\", \"2010-12-01T00:00:00\", \"2011-03-01T00:00:00\", \"2011-06-01T00:00:00\", \"2011-09-01T00:00:00\", \"2011-12-01T00:00:00\", \"2012-03-01T00:00:00\", \"2012-06-01T00:00:00\", \"2012-09-01T00:00:00\", \"2012-12-01T00:00:00\", \"2013-03-01T00:00:00\", \"2013-06-01T00:00:00\", \"2013-09-01T00:00:00\", \"2013-12-01T00:00:00\", \"2014-03-01T00:00:00\", \"2014-06-01T00:00:00\", \"2014-09-01T00:00:00\", \"2014-12-01T00:00:00\", \"2015-03-01T00:00:00\", \"2015-06-01T00:00:00\", \"2015-09-01T00:00:00\", \"2015-12-01T00:00:00\", \"2016-03-01T00:00:00\", \"2016-06-01T00:00:00\", \"2016-09-01T00:00:00\", \"2016-12-01T00:00:00\", \"2017-03-01T00:00:00\", \"2017-06-01T00:00:00\", \"2017-09-01T00:00:00\", \"2017-12-01T00:00:00\", \"2018-03-01T00:00:00\", \"2018-06-01T00:00:00\"], \"y\": [57.251011182685396, 57.46733596410034, 62.92345307498773, 63.23688130916263, 64.30282086240142, 68.96501030084934, 69.69519218031729, 75.74365164818583, 74.09144480580431, 77.04473570610736, 79.13015098441345, 80.62837763227688, 67.31764082527133, 68.41659133628873, 64.59520455256292, 70.00472609392223, 66.74469104770328, 64.36118209154436, 67.48010744271453, 64.06662386768808, 65.98621151951941, 67.49284055076289, 68.15214539675608, 66.04073331648365, 65.20066918706802, 71.06097707957642, 70.4967092877407, 74.59842411870504, 74.45189637971946, 76.68147228276577, 80.15451487202313, 79.88780792290984, 81.56301487139164, 86.56735891534507, 80.709891012573, 87.86692805932607, 87.15786078497277, 92.60438492872616, 90.2485736666958, 88.78855930024801, 79.79699729269976, 80.88293528172152, 75.76411125139032, 81.66283162308952, 87.18009644639376, 90.12502258808122, 90.80534722963885, 91.67640126101156, 85.43951792266505, 85.80311640157237, 88.95418748328325, 88.20716205820386, 86.20652816338273, 90.86262335208227, 96.31007432200542, 93.11729121767823, 96.15086980368788, 96.48871815506547, 98.99476252112764, 96.24173358602599, 93.29799911214903, 88.74436380794734, 86.50226979243904, 82.70045252855832, 82.05011022409221, 84.45076650826354, 85.04590408018434, 91.34702876185897, 85.74625205391627, 91.96762903303897, 91.88989278494196, 85.28302279238201, 86.40954523299635, 96.57273680475639, 91.82930078555572, 97.85592962523118, 100.57425199135932, 90.63659916018489, 92.11644438093018, 89.56646836251183, 81.32968821271797, 88.40866939227338, 84.32366719369804, 84.16821411908077, 85.01670985189386, 84.34174957474958, 77.93943212039694, 77.40954982721931, 75.33534379469192, 81.5006230415962, 81.59350526528766, 78.26023725921458, 81.93066145737887, 81.83880497684262, 86.14798569437698, 86.54381236226257, 87.52978527101891, 87.6851379698387, 93.16973575649811, 109.56791952394312, 104.99427538375639, 105.16628161824299, 106.96096867262766, 101.62974874589972, 106.17755645888347, 109.67361690166949, 109.48624140216435, 101.9194366169614, 105.98216538722909, 113.68197013052213, 118.57008804148307, 111.84366919895588, 114.31855035358255, 113.28269379143472, 117.2810026450123, 112.9076502183897, 106.11889405400409, 98.80365981344752, 98.18223464870685, 96.7196337302653, 95.25709540654714, 99.16941917425089, 95.95552934377719, 102.57127331772868, 103.03238901177701, 102.19749024834961, 99.68765607814956, 105.89826554938054, 104.61270439805233, 108.7229246069392, 99.2939651466337, 98.50231975798744, 100.40006631887655, 101.99877770731942, 96.59672016256637, 93.0611610110271, 97.1378636966977]}, {\"marker\": {\"color\": \"rgb(41, 58, 143)\", \"size\": 1}, \"mode\": \"markers\", \"type\": \"scatter\", \"x\": [\"1984-06-01T00:00:00\", \"2018-06-01T00:00:00\"], \"y\": [57.251011182685396, 97.1378636966977]}, {\"connectgaps\": true, \"line\": {\"color\": \"rgb(11, 102, 189)\", \"width\": 1.5}, \"mode\": \"lines\", \"name\": \"mrtg (Zillow)\", \"type\": \"scatter\", \"x\": [\"1984-06-01T00:00:00\", \"1984-09-01T00:00:00\", \"1984-12-01T00:00:00\", \"1985-03-01T00:00:00\", \"1985-06-01T00:00:00\", \"1985-09-01T00:00:00\", \"1985-12-01T00:00:00\", \"1986-03-01T00:00:00\", \"1986-06-01T00:00:00\", \"1986-09-01T00:00:00\", \"1986-12-01T00:00:00\", \"1987-03-01T00:00:00\", \"1987-06-01T00:00:00\", \"1987-09-01T00:00:00\", \"1987-12-01T00:00:00\", \"1988-03-01T00:00:00\", \"1988-06-01T00:00:00\", \"1988-09-01T00:00:00\", \"1988-12-01T00:00:00\", \"1989-03-01T00:00:00\", \"1989-06-01T00:00:00\", \"1989-09-01T00:00:00\", \"1989-12-01T00:00:00\", \"1990-03-01T00:00:00\", \"1990-06-01T00:00:00\", \"1990-09-01T00:00:00\", \"1990-12-01T00:00:00\", \"1991-03-01T00:00:00\", \"1991-06-01T00:00:00\", \"1991-09-01T00:00:00\", \"1991-12-01T00:00:00\", \"1992-03-01T00:00:00\", \"1992-06-01T00:00:00\", \"1992-09-01T00:00:00\", \"1992-12-01T00:00:00\", \"1993-03-01T00:00:00\", \"1993-06-01T00:00:00\", \"1993-09-01T00:00:00\", \"1993-12-01T00:00:00\", \"1994-03-01T00:00:00\", \"1994-06-01T00:00:00\", \"1994-09-01T00:00:00\", \"1994-12-01T00:00:00\", \"1995-03-01T00:00:00\", \"1995-06-01T00:00:00\", \"1995-09-01T00:00:00\", \"1995-12-01T00:00:00\", \"1996-03-01T00:00:00\", \"1996-06-01T00:00:00\", \"1996-09-01T00:00:00\", \"1996-12-01T00:00:00\", \"1997-03-01T00:00:00\", \"1997-06-01T00:00:00\", \"1997-09-01T00:00:00\", \"1997-12-01T00:00:00\", \"1998-03-01T00:00:00\", \"1998-06-01T00:00:00\", \"1998-09-01T00:00:00\", \"1998-12-01T00:00:00\", \"1999-03-01T00:00:00\", \"1999-06-01T00:00:00\", \"1999-09-01T00:00:00\", \"1999-12-01T00:00:00\", \"2000-03-01T00:00:00\", \"2000-06-01T00:00:00\", \"2000-09-01T00:00:00\", \"2000-12-01T00:00:00\", \"2001-03-01T00:00:00\", \"2001-06-01T00:00:00\", \"2001-09-01T00:00:00\", \"2001-12-01T00:00:00\", \"2002-03-01T00:00:00\", \"2002-06-01T00:00:00\", \"2002-09-01T00:00:00\", \"2002-12-01T00:00:00\", \"2003-03-01T00:00:00\", \"2003-06-01T00:00:00\", \"2003-09-01T00:00:00\", \"2003-12-01T00:00:00\", \"2004-03-01T00:00:00\", \"2004-06-01T00:00:00\", \"2004-09-01T00:00:00\", \"2004-12-01T00:00:00\", \"2005-03-01T00:00:00\", \"2005-06-01T00:00:00\", \"2005-09-01T00:00:00\", \"2005-12-01T00:00:00\", \"2006-03-01T00:00:00\", \"2006-06-01T00:00:00\", \"2006-09-01T00:00:00\", \"2006-12-01T00:00:00\", \"2007-03-01T00:00:00\", \"2007-06-01T00:00:00\", \"2007-09-01T00:00:00\", \"2007-12-01T00:00:00\", \"2008-03-01T00:00:00\", \"2008-06-01T00:00:00\", \"2008-09-01T00:00:00\", \"2008-12-01T00:00:00\", \"2009-03-01T00:00:00\", \"2009-06-01T00:00:00\", \"2009-09-01T00:00:00\", \"2009-12-01T00:00:00\", \"2010-03-01T00:00:00\", \"2010-06-01T00:00:00\", \"2010-09-01T00:00:00\", \"2010-12-01T00:00:00\", \"2011-03-01T00:00:00\", \"2011-06-01T00:00:00\", \"2011-09-01T00:00:00\", \"2011-12-01T00:00:00\", \"2012-03-01T00:00:00\", \"2012-06-01T00:00:00\", \"2012-09-01T00:00:00\", \"2012-12-01T00:00:00\", \"2013-03-01T00:00:00\", \"2013-06-01T00:00:00\", \"2013-09-01T00:00:00\", \"2013-12-01T00:00:00\", \"2014-03-01T00:00:00\", \"2014-06-01T00:00:00\", \"2014-09-01T00:00:00\", \"2014-12-01T00:00:00\", \"2015-03-01T00:00:00\", \"2015-06-01T00:00:00\", \"2015-09-01T00:00:00\", \"2015-12-01T00:00:00\", \"2016-03-01T00:00:00\", \"2016-06-01T00:00:00\", \"2016-09-01T00:00:00\", \"2016-12-01T00:00:00\", \"2017-03-01T00:00:00\", \"2017-06-01T00:00:00\", \"2017-09-01T00:00:00\", \"2017-12-01T00:00:00\", \"2018-03-01T00:00:00\", \"2018-06-01T00:00:00\"], \"y\": [null, null, null, null, null, null, null, null, null, null, null, null, null, null, null, null, null, null, null, null, null, null, null, null, null, null, null, null, null, null, null, null, null, null, null, null, null, null, null, null, null, null, null, null, null, null, null, 117.42176635401903, 111.29619320081231, 111.23553162967404, 117.8499045338805, 116.87124554254557, 113.84780759432616, 118.32770859724754, 123.60082873268466, 124.34702104260256, 124.91683570995225, 126.75064074082832, 128.42182672465492, 126.9650065914618, 122.16092256937108, 114.7186580908246, 114.39334701384972, 107.50623080529644, 103.52525774721946, 108.3129911147531, 109.66340372641548, 113.63834864873876, 110.54310944889706, 112.40676242577423, 109.63301226215627, 110.44779488094166, 109.20195282199798, 114.05195069743783, 113.60338191986504, 116.28155468572832, 121.05821000804987, 107.12582610980081, 110.46949510730956, 112.28207757873429, 101.65860640768027, 105.48250782516327, 104.95332597452013, 103.54190692278861, 102.16799212409033, 99.58439684875735, 92.46375758895802, 91.63761161628085, 87.36414099022838, 89.75789192805019, 93.40022199983018, 93.94644705544128, 92.93732650001482, 93.51945445583648, 98.36006431740977, 98.96016050379716, 103.3021280320942, 102.35249971742441, 109.96146998414427, 124.34694811219101, 129.18575552414464, 127.2371470797195, 132.878305807672, 128.8032465982149, 132.81497656516194, 142.05047651549592, 144.38524235826478, 138.2807539548216, 147.14906884839218, 155.9820757822561, 161.94017065077836, 164.97463672662806, 167.76100903977124, 171.60804812078104, 177.18970921643944, 171.89465978761254, 164.03546736860656, 147.482280726503, 148.61940049066212, 145.17018195912237, 148.2184182843428, 149.26353706045455, 151.95449870120478, 155.25078502262082, 153.79635919424572, 154.0689238394474, 151.75259021030237, 157.5879562189984, 156.73926743737093, 159.35517166050633, 146.66850580150142, 144.34381232320777, 147.13986193322884, 148.22244403877505, 145.49164334492798, 135.41660040109986, 132.3795017863124]}, {\"marker\": {\"color\": \"rgb(11, 102, 189)\", \"size\": 1}, \"mode\": \"markers\", \"type\": \"scatter\", \"x\": [\"1984-06-01T00:00:00\", \"2018-06-01T00:00:00\"], \"y\": [null, 132.3795017863124]}, {\"connectgaps\": true, \"line\": {\"color\": \"rgb(69, 144, 256)\", \"width\": 1.5}, \"mode\": \"lines\", \"name\": \"rental (Zillow)\", \"type\": \"scatter\", \"x\": [\"1984-06-01T00:00:00\", \"1984-09-01T00:00:00\", \"1984-12-01T00:00:00\", \"1985-03-01T00:00:00\", \"1985-06-01T00:00:00\", \"1985-09-01T00:00:00\", \"1985-12-01T00:00:00\", \"1986-03-01T00:00:00\", \"1986-06-01T00:00:00\", \"1986-09-01T00:00:00\", \"1986-12-01T00:00:00\", \"1987-03-01T00:00:00\", \"1987-06-01T00:00:00\", \"1987-09-01T00:00:00\", \"1987-12-01T00:00:00\", \"1988-03-01T00:00:00\", \"1988-06-01T00:00:00\", \"1988-09-01T00:00:00\", \"1988-12-01T00:00:00\", \"1989-03-01T00:00:00\", \"1989-06-01T00:00:00\", \"1989-09-01T00:00:00\", \"1989-12-01T00:00:00\", \"1990-03-01T00:00:00\", \"1990-06-01T00:00:00\", \"1990-09-01T00:00:00\", \"1990-12-01T00:00:00\", \"1991-03-01T00:00:00\", \"1991-06-01T00:00:00\", \"1991-09-01T00:00:00\", \"1991-12-01T00:00:00\", \"1992-03-01T00:00:00\", \"1992-06-01T00:00:00\", \"1992-09-01T00:00:00\", \"1992-12-01T00:00:00\", \"1993-03-01T00:00:00\", \"1993-06-01T00:00:00\", \"1993-09-01T00:00:00\", \"1993-12-01T00:00:00\", \"1994-03-01T00:00:00\", \"1994-06-01T00:00:00\", \"1994-09-01T00:00:00\", \"1994-12-01T00:00:00\", \"1995-03-01T00:00:00\", \"1995-06-01T00:00:00\", \"1995-09-01T00:00:00\", \"1995-12-01T00:00:00\", \"1996-03-01T00:00:00\", \"1996-06-01T00:00:00\", \"1996-09-01T00:00:00\", \"1996-12-01T00:00:00\", \"1997-03-01T00:00:00\", \"1997-06-01T00:00:00\", \"1997-09-01T00:00:00\", \"1997-12-01T00:00:00\", \"1998-03-01T00:00:00\", \"1998-06-01T00:00:00\", \"1998-09-01T00:00:00\", \"1998-12-01T00:00:00\", \"1999-03-01T00:00:00\", \"1999-06-01T00:00:00\", \"1999-09-01T00:00:00\", \"1999-12-01T00:00:00\", \"2000-03-01T00:00:00\", \"2000-06-01T00:00:00\", \"2000-09-01T00:00:00\", \"2000-12-01T00:00:00\", \"2001-03-01T00:00:00\", \"2001-06-01T00:00:00\", \"2001-09-01T00:00:00\", \"2001-12-01T00:00:00\", \"2002-03-01T00:00:00\", \"2002-06-01T00:00:00\", \"2002-09-01T00:00:00\", \"2002-12-01T00:00:00\", \"2003-03-01T00:00:00\", \"2003-06-01T00:00:00\", \"2003-09-01T00:00:00\", \"2003-12-01T00:00:00\", \"2004-03-01T00:00:00\", \"2004-06-01T00:00:00\", \"2004-09-01T00:00:00\", \"2004-12-01T00:00:00\", \"2005-03-01T00:00:00\", \"2005-06-01T00:00:00\", \"2005-09-01T00:00:00\", \"2005-12-01T00:00:00\", \"2006-03-01T00:00:00\", \"2006-06-01T00:00:00\", \"2006-09-01T00:00:00\", \"2006-12-01T00:00:00\", \"2007-03-01T00:00:00\", \"2007-06-01T00:00:00\", \"2007-09-01T00:00:00\", \"2007-12-01T00:00:00\", \"2008-03-01T00:00:00\", \"2008-06-01T00:00:00\", \"2008-09-01T00:00:00\", \"2008-12-01T00:00:00\", \"2009-03-01T00:00:00\", \"2009-06-01T00:00:00\", \"2009-09-01T00:00:00\", \"2009-12-01T00:00:00\", \"2010-03-01T00:00:00\", \"2010-06-01T00:00:00\", \"2010-09-01T00:00:00\", \"2010-12-01T00:00:00\", \"2011-03-01T00:00:00\", \"2011-06-01T00:00:00\", \"2011-09-01T00:00:00\", \"2011-12-01T00:00:00\", \"2012-03-01T00:00:00\", \"2012-06-01T00:00:00\", \"2012-09-01T00:00:00\", \"2012-12-01T00:00:00\", \"2013-03-01T00:00:00\", \"2013-06-01T00:00:00\", \"2013-09-01T00:00:00\", \"2013-12-01T00:00:00\", \"2014-03-01T00:00:00\", \"2014-06-01T00:00:00\", \"2014-09-01T00:00:00\", \"2014-12-01T00:00:00\", \"2015-03-01T00:00:00\", \"2015-06-01T00:00:00\", \"2015-09-01T00:00:00\", \"2015-12-01T00:00:00\", \"2016-03-01T00:00:00\", \"2016-06-01T00:00:00\", \"2016-09-01T00:00:00\", \"2016-12-01T00:00:00\", \"2017-03-01T00:00:00\", \"2017-06-01T00:00:00\", \"2017-09-01T00:00:00\", \"2017-12-01T00:00:00\", \"2018-03-01T00:00:00\", \"2018-06-01T00:00:00\"], \"y\": [null, null, null, null, null, null, null, null, null, null, null, null, null, null, null, null, null, null, null, null, null, null, null, null, null, null, null, null, null, null, null, null, null, null, null, null, null, null, null, null, null, null, null, null, null, null, null, null, null, null, null, null, null, null, null, null, null, null, null, null, null, null, null, null, null, null, null, null, null, null, null, null, null, null, null, null, null, null, null, null, null, null, null, null, null, null, null, null, null, null, null, null, null, null, null, null, null, null, null, null, null, null, null, null, null, null, null, null, null, null, null, null, null, null, null, null, null, null, null, 106.00592885375494, 102.87001533742331, 103.21137053910402, 104.72718631178707, 104.49672284644194, 103.43338213762812, 103.75226942628903, 105.05, 104.59930157593124, 103.6499297752809, 104.27739845938375, 105.4906952247191, 105.22873263888889, 104.32764505119454, 105.27108948087432, 106.07081911262799, 105.5731974393531, 104.32463672391017]}, {\"marker\": {\"color\": \"rgb(69, 144, 256)\", \"size\": 1}, \"mode\": \"markers\", \"type\": \"scatter\", \"x\": [\"1984-06-01T00:00:00\", \"2018-06-01T00:00:00\"], \"y\": [null, 104.32463672391017]}],\n",
       "                        {\"annotations\": [{\"font\": {\"color\": \"rgb(41, 58, 143)\", \"family\": \"Arial\", \"size\": 15}, \"showarrow\": false, \"text\": \"mrtg (Census)\", \"x\": 0.95, \"xanchor\": \"left\", \"xref\": \"paper\", \"y\": 97.1378636966977, \"yanchor\": \"middle\"}, {\"font\": {\"family\": \"Arial\", \"size\": 12}, \"showarrow\": false, \"text\": \"\", \"x\": 0.05, \"xanchor\": \"right\", \"xref\": \"paper\", \"y\": 57.251011182685396, \"yanchor\": \"top\"}, {\"font\": {\"family\": \"Arial\", \"size\": 12}, \"showarrow\": false, \"text\": \"\", \"x\": 0.95, \"xanchor\": \"left\", \"xref\": \"paper\", \"y\": 97.1378636966977, \"yanchor\": \"top\"}, {\"font\": {\"color\": \"rgb(11, 102, 189)\", \"family\": \"Arial\", \"size\": 15}, \"showarrow\": false, \"text\": \"mrtg (Zillow)\", \"x\": 0.95, \"xanchor\": \"left\", \"xref\": \"paper\", \"y\": 132.3795017863124, \"yanchor\": \"middle\"}, {\"font\": {\"family\": \"Arial\", \"size\": 12}, \"showarrow\": false, \"text\": \"\", \"x\": 0.05, \"xanchor\": \"right\", \"xref\": \"paper\", \"y\": null, \"yanchor\": \"top\"}, {\"font\": {\"family\": \"Arial\", \"size\": 12}, \"showarrow\": false, \"text\": \"\", \"x\": 0.95, \"xanchor\": \"left\", \"xref\": \"paper\", \"y\": 132.3795017863124, \"yanchor\": \"top\"}, {\"font\": {\"color\": \"rgb(69, 144, 256)\", \"family\": \"Arial\", \"size\": 15}, \"showarrow\": false, \"text\": \"rental (Zillow)\", \"x\": 0.95, \"xanchor\": \"left\", \"xref\": \"paper\", \"y\": 104.32463672391017, \"yanchor\": \"middle\"}, {\"font\": {\"family\": \"Arial\", \"size\": 12}, \"showarrow\": false, \"text\": \"\", \"x\": 0.05, \"xanchor\": \"right\", \"xref\": \"paper\", \"y\": null, \"yanchor\": \"top\"}, {\"font\": {\"family\": \"Arial\", \"size\": 12}, \"showarrow\": false, \"text\": \"\", \"x\": 0.95, \"xanchor\": \"left\", \"xref\": \"paper\", \"y\": 104.32463672391017, \"yanchor\": \"top\"}, {\"font\": {\"color\": \"rgb(37,37,37)\", \"family\": \"Arial\", \"size\": 22}, \"showarrow\": false, \"text\": \"Housing affordability (HHs)\", \"x\": 0.0, \"xanchor\": \"left\", \"xref\": \"paper\", \"y\": 1.05, \"yanchor\": \"bottom\", \"yref\": \"paper\"}, {\"font\": {\"color\": \"rgb(150,150,150)\", \"family\": \"Arial\", \"size\": 12}, \"showarrow\": false, \"text\": \"Source: U.S. Census Bureau, FreddieMac, Zillow, own calculations.\", \"x\": 0, \"xanchor\": \"left\", \"xref\": \"paper\", \"y\": -0.1, \"yanchor\": \"top\", \"yref\": \"paper\"}, {\"font\": {\"color\": \"black\", \"family\": \"Arial\", \"size\": 12}, \"showarrow\": false, \"text\": \"\", \"x\": 0.0, \"xref\": \"paper\", \"y\": 1.06, \"yref\": \"paper\"}], \"autosize\": false, \"height\": 600, \"margin\": {\"autoexpand\": false, \"l\": 120, \"r\": 130, \"t\": 110}, \"plot_bgcolor\": \"white\", \"showlegend\": false, \"template\": {\"data\": {\"bar\": [{\"error_x\": {\"color\": \"#2a3f5f\"}, \"error_y\": {\"color\": \"#2a3f5f\"}, \"marker\": {\"line\": {\"color\": \"#E5ECF6\", \"width\": 0.5}}, \"type\": \"bar\"}], \"barpolar\": [{\"marker\": {\"line\": {\"color\": \"#E5ECF6\", \"width\": 0.5}}, \"type\": \"barpolar\"}], \"carpet\": [{\"aaxis\": {\"endlinecolor\": \"#2a3f5f\", \"gridcolor\": \"white\", \"linecolor\": \"white\", \"minorgridcolor\": \"white\", \"startlinecolor\": \"#2a3f5f\"}, \"baxis\": {\"endlinecolor\": \"#2a3f5f\", \"gridcolor\": \"white\", \"linecolor\": \"white\", \"minorgridcolor\": \"white\", \"startlinecolor\": \"#2a3f5f\"}, \"type\": \"carpet\"}], \"choropleth\": [{\"colorbar\": {\"outlinewidth\": 0, \"ticks\": \"\"}, \"type\": \"choropleth\"}], \"contour\": [{\"colorbar\": {\"outlinewidth\": 0, \"ticks\": \"\"}, \"colorscale\": [[0.0, \"#0d0887\"], [0.1111111111111111, \"#46039f\"], [0.2222222222222222, \"#7201a8\"], [0.3333333333333333, \"#9c179e\"], [0.4444444444444444, \"#bd3786\"], [0.5555555555555556, \"#d8576b\"], [0.6666666666666666, \"#ed7953\"], [0.7777777777777778, \"#fb9f3a\"], [0.8888888888888888, \"#fdca26\"], [1.0, \"#f0f921\"]], \"type\": \"contour\"}], \"contourcarpet\": [{\"colorbar\": {\"outlinewidth\": 0, \"ticks\": \"\"}, \"type\": \"contourcarpet\"}], \"heatmap\": [{\"colorbar\": {\"outlinewidth\": 0, \"ticks\": \"\"}, \"colorscale\": [[0.0, \"#0d0887\"], [0.1111111111111111, \"#46039f\"], [0.2222222222222222, \"#7201a8\"], [0.3333333333333333, \"#9c179e\"], [0.4444444444444444, \"#bd3786\"], [0.5555555555555556, \"#d8576b\"], [0.6666666666666666, \"#ed7953\"], [0.7777777777777778, \"#fb9f3a\"], [0.8888888888888888, \"#fdca26\"], [1.0, \"#f0f921\"]], \"type\": \"heatmap\"}], \"heatmapgl\": [{\"colorbar\": {\"outlinewidth\": 0, \"ticks\": \"\"}, \"colorscale\": [[0.0, \"#0d0887\"], [0.1111111111111111, \"#46039f\"], [0.2222222222222222, \"#7201a8\"], [0.3333333333333333, \"#9c179e\"], [0.4444444444444444, \"#bd3786\"], [0.5555555555555556, \"#d8576b\"], [0.6666666666666666, \"#ed7953\"], [0.7777777777777778, \"#fb9f3a\"], [0.8888888888888888, \"#fdca26\"], [1.0, \"#f0f921\"]], \"type\": \"heatmapgl\"}], \"histogram\": [{\"marker\": {\"colorbar\": {\"outlinewidth\": 0, \"ticks\": \"\"}}, \"type\": \"histogram\"}], \"histogram2d\": [{\"colorbar\": {\"outlinewidth\": 0, \"ticks\": \"\"}, \"colorscale\": [[0.0, \"#0d0887\"], [0.1111111111111111, \"#46039f\"], [0.2222222222222222, \"#7201a8\"], [0.3333333333333333, \"#9c179e\"], [0.4444444444444444, \"#bd3786\"], [0.5555555555555556, \"#d8576b\"], [0.6666666666666666, \"#ed7953\"], [0.7777777777777778, \"#fb9f3a\"], [0.8888888888888888, \"#fdca26\"], [1.0, \"#f0f921\"]], \"type\": \"histogram2d\"}], \"histogram2dcontour\": [{\"colorbar\": {\"outlinewidth\": 0, \"ticks\": \"\"}, \"colorscale\": [[0.0, \"#0d0887\"], [0.1111111111111111, \"#46039f\"], [0.2222222222222222, \"#7201a8\"], [0.3333333333333333, \"#9c179e\"], [0.4444444444444444, \"#bd3786\"], [0.5555555555555556, \"#d8576b\"], [0.6666666666666666, \"#ed7953\"], [0.7777777777777778, \"#fb9f3a\"], [0.8888888888888888, \"#fdca26\"], [1.0, \"#f0f921\"]], \"type\": \"histogram2dcontour\"}], \"mesh3d\": [{\"colorbar\": {\"outlinewidth\": 0, \"ticks\": \"\"}, \"type\": \"mesh3d\"}], \"parcoords\": [{\"line\": {\"colorbar\": {\"outlinewidth\": 0, \"ticks\": \"\"}}, \"type\": \"parcoords\"}], \"pie\": [{\"automargin\": true, \"type\": \"pie\"}], \"scatter\": [{\"marker\": {\"colorbar\": {\"outlinewidth\": 0, \"ticks\": \"\"}}, \"type\": \"scatter\"}], \"scatter3d\": [{\"line\": {\"colorbar\": {\"outlinewidth\": 0, \"ticks\": \"\"}}, \"marker\": {\"colorbar\": {\"outlinewidth\": 0, \"ticks\": \"\"}}, \"type\": \"scatter3d\"}], \"scattercarpet\": [{\"marker\": {\"colorbar\": {\"outlinewidth\": 0, \"ticks\": \"\"}}, \"type\": \"scattercarpet\"}], \"scattergeo\": [{\"marker\": {\"colorbar\": {\"outlinewidth\": 0, \"ticks\": \"\"}}, \"type\": \"scattergeo\"}], \"scattergl\": [{\"marker\": {\"colorbar\": {\"outlinewidth\": 0, \"ticks\": \"\"}}, \"type\": \"scattergl\"}], \"scattermapbox\": [{\"marker\": {\"colorbar\": {\"outlinewidth\": 0, \"ticks\": \"\"}}, \"type\": \"scattermapbox\"}], \"scatterpolar\": [{\"marker\": {\"colorbar\": {\"outlinewidth\": 0, \"ticks\": \"\"}}, \"type\": \"scatterpolar\"}], \"scatterpolargl\": [{\"marker\": {\"colorbar\": {\"outlinewidth\": 0, \"ticks\": \"\"}}, \"type\": \"scatterpolargl\"}], \"scatterternary\": [{\"marker\": {\"colorbar\": {\"outlinewidth\": 0, \"ticks\": \"\"}}, \"type\": \"scatterternary\"}], \"surface\": [{\"colorbar\": {\"outlinewidth\": 0, \"ticks\": \"\"}, \"colorscale\": [[0.0, \"#0d0887\"], [0.1111111111111111, \"#46039f\"], [0.2222222222222222, \"#7201a8\"], [0.3333333333333333, \"#9c179e\"], [0.4444444444444444, \"#bd3786\"], [0.5555555555555556, \"#d8576b\"], [0.6666666666666666, \"#ed7953\"], [0.7777777777777778, \"#fb9f3a\"], [0.8888888888888888, \"#fdca26\"], [1.0, \"#f0f921\"]], \"type\": \"surface\"}], \"table\": [{\"cells\": {\"fill\": {\"color\": \"#EBF0F8\"}, \"line\": {\"color\": \"white\"}}, \"header\": {\"fill\": {\"color\": \"#C8D4E3\"}, \"line\": {\"color\": \"white\"}}, \"type\": \"table\"}]}, \"layout\": {\"annotationdefaults\": {\"arrowcolor\": \"#2a3f5f\", \"arrowhead\": 0, \"arrowwidth\": 1}, \"coloraxis\": {\"colorbar\": {\"outlinewidth\": 0, \"ticks\": \"\"}}, \"colorscale\": {\"diverging\": [[0, \"#8e0152\"], [0.1, \"#c51b7d\"], [0.2, \"#de77ae\"], [0.3, \"#f1b6da\"], [0.4, \"#fde0ef\"], [0.5, \"#f7f7f7\"], [0.6, \"#e6f5d0\"], [0.7, \"#b8e186\"], [0.8, \"#7fbc41\"], [0.9, \"#4d9221\"], [1, \"#276419\"]], \"sequential\": [[0.0, \"#0d0887\"], [0.1111111111111111, \"#46039f\"], [0.2222222222222222, \"#7201a8\"], [0.3333333333333333, \"#9c179e\"], [0.4444444444444444, \"#bd3786\"], [0.5555555555555556, \"#d8576b\"], [0.6666666666666666, \"#ed7953\"], [0.7777777777777778, \"#fb9f3a\"], [0.8888888888888888, \"#fdca26\"], [1.0, \"#f0f921\"]], \"sequentialminus\": [[0.0, \"#0d0887\"], [0.1111111111111111, \"#46039f\"], [0.2222222222222222, \"#7201a8\"], [0.3333333333333333, \"#9c179e\"], [0.4444444444444444, \"#bd3786\"], [0.5555555555555556, \"#d8576b\"], [0.6666666666666666, \"#ed7953\"], [0.7777777777777778, \"#fb9f3a\"], [0.8888888888888888, \"#fdca26\"], [1.0, \"#f0f921\"]]}, \"colorway\": [\"#636efa\", \"#EF553B\", \"#00cc96\", \"#ab63fa\", \"#FFA15A\", \"#19d3f3\", \"#FF6692\", \"#B6E880\", \"#FF97FF\", \"#FECB52\"], \"font\": {\"color\": \"#2a3f5f\"}, \"geo\": {\"bgcolor\": \"white\", \"lakecolor\": \"white\", \"landcolor\": \"#E5ECF6\", \"showlakes\": true, \"showland\": true, \"subunitcolor\": \"white\"}, \"hoverlabel\": {\"align\": \"left\"}, \"hovermode\": \"closest\", \"mapbox\": {\"style\": \"light\"}, \"paper_bgcolor\": \"white\", \"plot_bgcolor\": \"#E5ECF6\", \"polar\": {\"angularaxis\": {\"gridcolor\": \"white\", \"linecolor\": \"white\", \"ticks\": \"\"}, \"bgcolor\": \"#E5ECF6\", \"radialaxis\": {\"gridcolor\": \"white\", \"linecolor\": \"white\", \"ticks\": \"\"}}, \"scene\": {\"xaxis\": {\"backgroundcolor\": \"#E5ECF6\", \"gridcolor\": \"white\", \"gridwidth\": 2, \"linecolor\": \"white\", \"showbackground\": true, \"ticks\": \"\", \"zerolinecolor\": \"white\"}, \"yaxis\": {\"backgroundcolor\": \"#E5ECF6\", \"gridcolor\": \"white\", \"gridwidth\": 2, \"linecolor\": \"white\", \"showbackground\": true, \"ticks\": \"\", \"zerolinecolor\": \"white\"}, \"zaxis\": {\"backgroundcolor\": \"#E5ECF6\", \"gridcolor\": \"white\", \"gridwidth\": 2, \"linecolor\": \"white\", \"showbackground\": true, \"ticks\": \"\", \"zerolinecolor\": \"white\"}}, \"shapedefaults\": {\"line\": {\"color\": \"#2a3f5f\"}}, \"ternary\": {\"aaxis\": {\"gridcolor\": \"white\", \"linecolor\": \"white\", \"ticks\": \"\"}, \"baxis\": {\"gridcolor\": \"white\", \"linecolor\": \"white\", \"ticks\": \"\"}, \"bgcolor\": \"#E5ECF6\", \"caxis\": {\"gridcolor\": \"white\", \"linecolor\": \"white\", \"ticks\": \"\"}}, \"title\": {\"x\": 0.05}, \"xaxis\": {\"automargin\": true, \"gridcolor\": \"white\", \"linecolor\": \"white\", \"ticks\": \"\", \"title\": {\"standoff\": 15}, \"zerolinecolor\": \"white\", \"zerolinewidth\": 2}, \"yaxis\": {\"automargin\": true, \"gridcolor\": \"white\", \"linecolor\": \"white\", \"ticks\": \"\", \"title\": {\"standoff\": 15}, \"zerolinecolor\": \"white\", \"zerolinewidth\": 2}}}, \"updatemenus\": [{\"active\": 0, \"buttons\": [{\"args\": [\"shapes\", []], \"label\": \"-\", \"method\": \"relayout\"}, {\"args\": [\"shapes\", [{\"fillcolor\": \"lightgray\", \"layer\": \"below\", \"line\": {\"color\": \"white\", \"width\": 0.1}, \"line_width\": 0, \"type\": \"rect\", \"x0\": \"1990-07-01T00:00:00\", \"x1\": \"1991-01-01T00:00:00\", \"xref\": \"x\", \"y0\": 0, \"y1\": 0.97, \"yref\": \"paper\"}, {\"fillcolor\": \"lightgray\", \"layer\": \"below\", \"line\": {\"color\": \"white\", \"width\": 0.1}, \"line_width\": 0, \"type\": \"rect\", \"x0\": \"2001-01-01T00:00:00\", \"x1\": \"2001-10-01T00:00:00\", \"xref\": \"x\", \"y0\": 0, \"y1\": 0.97, \"yref\": \"paper\"}, {\"fillcolor\": \"lightgray\", \"layer\": \"below\", \"line\": {\"color\": \"white\", \"width\": 0.1}, \"line_width\": 0, \"type\": \"rect\", \"x0\": \"2007-10-01T00:00:00\", \"x1\": \"2009-04-01T00:00:00\", \"xref\": \"x\", \"y0\": 0, \"y1\": 0.97, \"yref\": \"paper\"}]], \"label\": \"+\", \"method\": \"relayout\"}], \"direction\": \"right\", \"type\": \"buttons\", \"x\": 1, \"y\": 1.2}], \"width\": 1020, \"xaxis\": {\"linecolor\": \"rgb(204, 204, 204)\", \"linewidth\": 2, \"showgrid\": true, \"showline\": true, \"showticklabels\": true, \"tickfont\": {\"color\": \"rgb(82, 82, 82)\", \"family\": \"Arial\", \"size\": 12}, \"ticks\": \"outside\"}, \"yaxis\": {\"gridcolor\": \"rgb(204, 204, 204)\", \"showgrid\": true, \"showline\": true, \"showticklabels\": true, \"zeroline\": false}},\n",
       "                        {\"responsive\": true}\n",
       "                    ).then(function(){\n",
       "                            \n",
       "var gd = document.getElementById('95b0fb7c-9476-45d2-aa6a-aa7dd7c7f3fb');\n",
       "var x = new MutationObserver(function (mutations, observer) {{\n",
       "        var display = window.getComputedStyle(gd).display;\n",
       "        if (!display || display === 'none') {{\n",
       "            console.log([gd, 'removed!']);\n",
       "            Plotly.purge(gd);\n",
       "            observer.disconnect();\n",
       "        }}\n",
       "}});\n",
       "\n",
       "// Listen for the removal of the full notebook cells\n",
       "var notebookContainer = gd.closest('#notebook-container');\n",
       "if (notebookContainer) {{\n",
       "    x.observe(notebookContainer, {childList: true});\n",
       "}}\n",
       "\n",
       "// Listen for the clearing of the current output cell\n",
       "var outputEl = gd.closest('.output');\n",
       "if (outputEl) {{\n",
       "    x.observe(outputEl, {childList: true});\n",
       "}}\n",
       "\n",
       "                        })\n",
       "                };\n",
       "                });\n",
       "            </script>\n",
       "        </div>"
      ]
     },
     "metadata": {},
     "output_type": "display_data"
    }
   ],
   "source": [
    "fig = plot_nice(title=\"Housing affordability (HHs)\", dic=dic, df=D[D.aff_Census.notna()], \n",
    "          margin=dict(autoexpand=False,l=120,r=130,t=110,), \n",
    "          show_series_label=True,\n",
    "          #function = function, fsize= 20, fx= .550, fy = 1.13, \n",
    "          recessions=True,\n",
    "          vertical_label_gutter=0, source = 'U.S. Census Bureau, FreddieMac, Zillow, own calculations.',\n",
    "          show_endpoints=False,colors=['rgb(41, 58, 143)', 'rgb(11, 102, 189)', 'rgb(69, 144, 256)'])"
   ]
  },
  {
   "cell_type": "code",
   "execution_count": 50,
   "metadata": {},
   "outputs": [],
   "source": [
    "fig.write_html(\"../images/jm15_affordability.html\")"
   ]
  },
  {
   "cell_type": "markdown",
   "metadata": {},
   "source": [
    "# #### main  fundamentals ####"
   ]
  },
  {
   "cell_type": "markdown",
   "metadata": {},
   "source": [
    "# CPI - urban consumers"
   ]
  },
  {
   "cell_type": "code",
   "execution_count": 395,
   "metadata": {},
   "outputs": [],
   "source": [
    "s = ['CPI all items quaterly [CPALTT01USQ661S]']\n",
    "dic = dict_from_FRED_description(s)\n",
    "CPIq = make_hrizontal_tbl(dic, start=start)\n",
    "s = ['CPI all items monthly [CPALTT01USM661S]']\n",
    "dic = dict_from_FRED_description(s)\n",
    "CPIm = make_hrizontal_tbl(dic, start=start)\n",
    "s = ['CPI all items annual [CPALTT01USA661S]']\n",
    "dic = dict_from_FRED_description(s)\n",
    "CPIa = make_hrizontal_tbl(dic, start=start)\n"
   ]
  },
  {
   "cell_type": "markdown",
   "metadata": {},
   "source": [
    "# Unemployment"
   ]
  },
  {
   "cell_type": "code",
   "execution_count": 404,
   "metadata": {},
   "outputs": [
    {
     "data": {
      "application/vnd.plotly.v1+json": {
       "config": {
        "plotlyServerURL": "https://plot.ly"
       },
       "data": [
        {
         "connectgaps": true,
         "line": {
          "color": "rgb(41, 58, 143)",
          "width": 1.5
         },
         "mode": "lines",
         "name": "unemployment",
         "type": "scatter",
         "x": [
          "1984-01-01T00:00:00",
          "1984-02-01T00:00:00",
          "1984-03-01T00:00:00",
          "1984-04-01T00:00:00",
          "1984-05-01T00:00:00",
          "1984-06-01T00:00:00",
          "1984-07-01T00:00:00",
          "1984-08-01T00:00:00",
          "1984-09-01T00:00:00",
          "1984-10-01T00:00:00",
          "1984-11-01T00:00:00",
          "1984-12-01T00:00:00",
          "1985-01-01T00:00:00",
          "1985-02-01T00:00:00",
          "1985-03-01T00:00:00",
          "1985-04-01T00:00:00",
          "1985-05-01T00:00:00",
          "1985-06-01T00:00:00",
          "1985-07-01T00:00:00",
          "1985-08-01T00:00:00",
          "1985-09-01T00:00:00",
          "1985-10-01T00:00:00",
          "1985-11-01T00:00:00",
          "1985-12-01T00:00:00",
          "1986-01-01T00:00:00",
          "1986-02-01T00:00:00",
          "1986-03-01T00:00:00",
          "1986-04-01T00:00:00",
          "1986-05-01T00:00:00",
          "1986-06-01T00:00:00",
          "1986-07-01T00:00:00",
          "1986-08-01T00:00:00",
          "1986-09-01T00:00:00",
          "1986-10-01T00:00:00",
          "1986-11-01T00:00:00",
          "1986-12-01T00:00:00",
          "1987-01-01T00:00:00",
          "1987-02-01T00:00:00",
          "1987-03-01T00:00:00",
          "1987-04-01T00:00:00",
          "1987-05-01T00:00:00",
          "1987-06-01T00:00:00",
          "1987-07-01T00:00:00",
          "1987-08-01T00:00:00",
          "1987-09-01T00:00:00",
          "1987-10-01T00:00:00",
          "1987-11-01T00:00:00",
          "1987-12-01T00:00:00",
          "1988-01-01T00:00:00",
          "1988-02-01T00:00:00",
          "1988-03-01T00:00:00",
          "1988-04-01T00:00:00",
          "1988-05-01T00:00:00",
          "1988-06-01T00:00:00",
          "1988-07-01T00:00:00",
          "1988-08-01T00:00:00",
          "1988-09-01T00:00:00",
          "1988-10-01T00:00:00",
          "1988-11-01T00:00:00",
          "1988-12-01T00:00:00",
          "1989-01-01T00:00:00",
          "1989-02-01T00:00:00",
          "1989-03-01T00:00:00",
          "1989-04-01T00:00:00",
          "1989-05-01T00:00:00",
          "1989-06-01T00:00:00",
          "1989-07-01T00:00:00",
          "1989-08-01T00:00:00",
          "1989-09-01T00:00:00",
          "1989-10-01T00:00:00",
          "1989-11-01T00:00:00",
          "1989-12-01T00:00:00",
          "1990-01-01T00:00:00",
          "1990-02-01T00:00:00",
          "1990-03-01T00:00:00",
          "1990-04-01T00:00:00",
          "1990-05-01T00:00:00",
          "1990-06-01T00:00:00",
          "1990-07-01T00:00:00",
          "1990-08-01T00:00:00",
          "1990-09-01T00:00:00",
          "1990-10-01T00:00:00",
          "1990-11-01T00:00:00",
          "1990-12-01T00:00:00",
          "1991-01-01T00:00:00",
          "1991-02-01T00:00:00",
          "1991-03-01T00:00:00",
          "1991-04-01T00:00:00",
          "1991-05-01T00:00:00",
          "1991-06-01T00:00:00",
          "1991-07-01T00:00:00",
          "1991-08-01T00:00:00",
          "1991-09-01T00:00:00",
          "1991-10-01T00:00:00",
          "1991-11-01T00:00:00",
          "1991-12-01T00:00:00",
          "1992-01-01T00:00:00",
          "1992-02-01T00:00:00",
          "1992-03-01T00:00:00",
          "1992-04-01T00:00:00",
          "1992-05-01T00:00:00",
          "1992-06-01T00:00:00",
          "1992-07-01T00:00:00",
          "1992-08-01T00:00:00",
          "1992-09-01T00:00:00",
          "1992-10-01T00:00:00",
          "1992-11-01T00:00:00",
          "1992-12-01T00:00:00",
          "1993-01-01T00:00:00",
          "1993-02-01T00:00:00",
          "1993-03-01T00:00:00",
          "1993-04-01T00:00:00",
          "1993-05-01T00:00:00",
          "1993-06-01T00:00:00",
          "1993-07-01T00:00:00",
          "1993-08-01T00:00:00",
          "1993-09-01T00:00:00",
          "1993-10-01T00:00:00",
          "1993-11-01T00:00:00",
          "1993-12-01T00:00:00",
          "1994-01-01T00:00:00",
          "1994-02-01T00:00:00",
          "1994-03-01T00:00:00",
          "1994-04-01T00:00:00",
          "1994-05-01T00:00:00",
          "1994-06-01T00:00:00",
          "1994-07-01T00:00:00",
          "1994-08-01T00:00:00",
          "1994-09-01T00:00:00",
          "1994-10-01T00:00:00",
          "1994-11-01T00:00:00",
          "1994-12-01T00:00:00",
          "1995-01-01T00:00:00",
          "1995-02-01T00:00:00",
          "1995-03-01T00:00:00",
          "1995-04-01T00:00:00",
          "1995-05-01T00:00:00",
          "1995-06-01T00:00:00",
          "1995-07-01T00:00:00",
          "1995-08-01T00:00:00",
          "1995-09-01T00:00:00",
          "1995-10-01T00:00:00",
          "1995-11-01T00:00:00",
          "1995-12-01T00:00:00",
          "1996-01-01T00:00:00",
          "1996-02-01T00:00:00",
          "1996-03-01T00:00:00",
          "1996-04-01T00:00:00",
          "1996-05-01T00:00:00",
          "1996-06-01T00:00:00",
          "1996-07-01T00:00:00",
          "1996-08-01T00:00:00",
          "1996-09-01T00:00:00",
          "1996-10-01T00:00:00",
          "1996-11-01T00:00:00",
          "1996-12-01T00:00:00",
          "1997-01-01T00:00:00",
          "1997-02-01T00:00:00",
          "1997-03-01T00:00:00",
          "1997-04-01T00:00:00",
          "1997-05-01T00:00:00",
          "1997-06-01T00:00:00",
          "1997-07-01T00:00:00",
          "1997-08-01T00:00:00",
          "1997-09-01T00:00:00",
          "1997-10-01T00:00:00",
          "1997-11-01T00:00:00",
          "1997-12-01T00:00:00",
          "1998-01-01T00:00:00",
          "1998-02-01T00:00:00",
          "1998-03-01T00:00:00",
          "1998-04-01T00:00:00",
          "1998-05-01T00:00:00",
          "1998-06-01T00:00:00",
          "1998-07-01T00:00:00",
          "1998-08-01T00:00:00",
          "1998-09-01T00:00:00",
          "1998-10-01T00:00:00",
          "1998-11-01T00:00:00",
          "1998-12-01T00:00:00",
          "1999-01-01T00:00:00",
          "1999-02-01T00:00:00",
          "1999-03-01T00:00:00",
          "1999-04-01T00:00:00",
          "1999-05-01T00:00:00",
          "1999-06-01T00:00:00",
          "1999-07-01T00:00:00",
          "1999-08-01T00:00:00",
          "1999-09-01T00:00:00",
          "1999-10-01T00:00:00",
          "1999-11-01T00:00:00",
          "1999-12-01T00:00:00",
          "2000-01-01T00:00:00",
          "2000-02-01T00:00:00",
          "2000-03-01T00:00:00",
          "2000-04-01T00:00:00",
          "2000-05-01T00:00:00",
          "2000-06-01T00:00:00",
          "2000-07-01T00:00:00",
          "2000-08-01T00:00:00",
          "2000-09-01T00:00:00",
          "2000-10-01T00:00:00",
          "2000-11-01T00:00:00",
          "2000-12-01T00:00:00",
          "2001-01-01T00:00:00",
          "2001-02-01T00:00:00",
          "2001-03-01T00:00:00",
          "2001-04-01T00:00:00",
          "2001-05-01T00:00:00",
          "2001-06-01T00:00:00",
          "2001-07-01T00:00:00",
          "2001-08-01T00:00:00",
          "2001-09-01T00:00:00",
          "2001-10-01T00:00:00",
          "2001-11-01T00:00:00",
          "2001-12-01T00:00:00",
          "2002-01-01T00:00:00",
          "2002-02-01T00:00:00",
          "2002-03-01T00:00:00",
          "2002-04-01T00:00:00",
          "2002-05-01T00:00:00",
          "2002-06-01T00:00:00",
          "2002-07-01T00:00:00",
          "2002-08-01T00:00:00",
          "2002-09-01T00:00:00",
          "2002-10-01T00:00:00",
          "2002-11-01T00:00:00",
          "2002-12-01T00:00:00",
          "2003-01-01T00:00:00",
          "2003-02-01T00:00:00",
          "2003-03-01T00:00:00",
          "2003-04-01T00:00:00",
          "2003-05-01T00:00:00",
          "2003-06-01T00:00:00",
          "2003-07-01T00:00:00",
          "2003-08-01T00:00:00",
          "2003-09-01T00:00:00",
          "2003-10-01T00:00:00",
          "2003-11-01T00:00:00",
          "2003-12-01T00:00:00",
          "2004-01-01T00:00:00",
          "2004-02-01T00:00:00",
          "2004-03-01T00:00:00",
          "2004-04-01T00:00:00",
          "2004-05-01T00:00:00",
          "2004-06-01T00:00:00",
          "2004-07-01T00:00:00",
          "2004-08-01T00:00:00",
          "2004-09-01T00:00:00",
          "2004-10-01T00:00:00",
          "2004-11-01T00:00:00",
          "2004-12-01T00:00:00",
          "2005-01-01T00:00:00",
          "2005-02-01T00:00:00",
          "2005-03-01T00:00:00",
          "2005-04-01T00:00:00",
          "2005-05-01T00:00:00",
          "2005-06-01T00:00:00",
          "2005-07-01T00:00:00",
          "2005-08-01T00:00:00",
          "2005-09-01T00:00:00",
          "2005-10-01T00:00:00",
          "2005-11-01T00:00:00",
          "2005-12-01T00:00:00",
          "2006-01-01T00:00:00",
          "2006-02-01T00:00:00",
          "2006-03-01T00:00:00",
          "2006-04-01T00:00:00",
          "2006-05-01T00:00:00",
          "2006-06-01T00:00:00",
          "2006-07-01T00:00:00",
          "2006-08-01T00:00:00",
          "2006-09-01T00:00:00",
          "2006-10-01T00:00:00",
          "2006-11-01T00:00:00",
          "2006-12-01T00:00:00",
          "2007-01-01T00:00:00",
          "2007-02-01T00:00:00",
          "2007-03-01T00:00:00",
          "2007-04-01T00:00:00",
          "2007-05-01T00:00:00",
          "2007-06-01T00:00:00",
          "2007-07-01T00:00:00",
          "2007-08-01T00:00:00",
          "2007-09-01T00:00:00",
          "2007-10-01T00:00:00",
          "2007-11-01T00:00:00",
          "2007-12-01T00:00:00",
          "2008-01-01T00:00:00",
          "2008-02-01T00:00:00",
          "2008-03-01T00:00:00",
          "2008-04-01T00:00:00",
          "2008-05-01T00:00:00",
          "2008-06-01T00:00:00",
          "2008-07-01T00:00:00",
          "2008-08-01T00:00:00",
          "2008-09-01T00:00:00",
          "2008-10-01T00:00:00",
          "2008-11-01T00:00:00",
          "2008-12-01T00:00:00",
          "2009-01-01T00:00:00",
          "2009-02-01T00:00:00",
          "2009-03-01T00:00:00",
          "2009-04-01T00:00:00",
          "2009-05-01T00:00:00",
          "2009-06-01T00:00:00",
          "2009-07-01T00:00:00",
          "2009-08-01T00:00:00",
          "2009-09-01T00:00:00",
          "2009-10-01T00:00:00",
          "2009-11-01T00:00:00",
          "2009-12-01T00:00:00",
          "2010-01-01T00:00:00",
          "2010-02-01T00:00:00",
          "2010-03-01T00:00:00",
          "2010-04-01T00:00:00",
          "2010-05-01T00:00:00",
          "2010-06-01T00:00:00",
          "2010-07-01T00:00:00",
          "2010-08-01T00:00:00",
          "2010-09-01T00:00:00",
          "2010-10-01T00:00:00",
          "2010-11-01T00:00:00",
          "2010-12-01T00:00:00",
          "2011-01-01T00:00:00",
          "2011-02-01T00:00:00",
          "2011-03-01T00:00:00",
          "2011-04-01T00:00:00",
          "2011-05-01T00:00:00",
          "2011-06-01T00:00:00",
          "2011-07-01T00:00:00",
          "2011-08-01T00:00:00",
          "2011-09-01T00:00:00",
          "2011-10-01T00:00:00",
          "2011-11-01T00:00:00",
          "2011-12-01T00:00:00",
          "2012-01-01T00:00:00",
          "2012-02-01T00:00:00",
          "2012-03-01T00:00:00",
          "2012-04-01T00:00:00",
          "2012-05-01T00:00:00",
          "2012-06-01T00:00:00",
          "2012-07-01T00:00:00",
          "2012-08-01T00:00:00",
          "2012-09-01T00:00:00",
          "2012-10-01T00:00:00",
          "2012-11-01T00:00:00",
          "2012-12-01T00:00:00",
          "2013-01-01T00:00:00",
          "2013-02-01T00:00:00",
          "2013-03-01T00:00:00",
          "2013-04-01T00:00:00",
          "2013-05-01T00:00:00",
          "2013-06-01T00:00:00",
          "2013-07-01T00:00:00",
          "2013-08-01T00:00:00",
          "2013-09-01T00:00:00",
          "2013-10-01T00:00:00",
          "2013-11-01T00:00:00",
          "2013-12-01T00:00:00",
          "2014-01-01T00:00:00",
          "2014-02-01T00:00:00",
          "2014-03-01T00:00:00",
          "2014-04-01T00:00:00",
          "2014-05-01T00:00:00",
          "2014-06-01T00:00:00",
          "2014-07-01T00:00:00",
          "2014-08-01T00:00:00",
          "2014-09-01T00:00:00",
          "2014-10-01T00:00:00",
          "2014-11-01T00:00:00",
          "2014-12-01T00:00:00",
          "2015-01-01T00:00:00",
          "2015-02-01T00:00:00",
          "2015-03-01T00:00:00",
          "2015-04-01T00:00:00",
          "2015-05-01T00:00:00",
          "2015-06-01T00:00:00",
          "2015-07-01T00:00:00",
          "2015-08-01T00:00:00",
          "2015-09-01T00:00:00",
          "2015-10-01T00:00:00",
          "2015-11-01T00:00:00",
          "2015-12-01T00:00:00",
          "2016-01-01T00:00:00",
          "2016-02-01T00:00:00",
          "2016-03-01T00:00:00",
          "2016-04-01T00:00:00",
          "2016-05-01T00:00:00",
          "2016-06-01T00:00:00",
          "2016-07-01T00:00:00",
          "2016-08-01T00:00:00",
          "2016-09-01T00:00:00",
          "2016-10-01T00:00:00",
          "2016-11-01T00:00:00",
          "2016-12-01T00:00:00",
          "2017-01-01T00:00:00",
          "2017-02-01T00:00:00",
          "2017-03-01T00:00:00",
          "2017-04-01T00:00:00",
          "2017-05-01T00:00:00",
          "2017-06-01T00:00:00",
          "2017-07-01T00:00:00",
          "2017-08-01T00:00:00",
          "2017-09-01T00:00:00",
          "2017-10-01T00:00:00",
          "2017-11-01T00:00:00",
          "2017-12-01T00:00:00",
          "2018-01-01T00:00:00",
          "2018-02-01T00:00:00",
          "2018-03-01T00:00:00",
          "2018-04-01T00:00:00",
          "2018-05-01T00:00:00",
          "2018-06-01T00:00:00",
          "2018-07-01T00:00:00",
          "2018-08-01T00:00:00",
          "2018-09-01T00:00:00",
          "2018-10-01T00:00:00",
          "2018-11-01T00:00:00",
          "2018-12-01T00:00:00",
          "2019-01-01T00:00:00",
          "2019-02-01T00:00:00",
          "2019-03-01T00:00:00",
          "2019-04-01T00:00:00",
          "2019-05-01T00:00:00",
          "2019-06-01T00:00:00",
          "2019-07-01T00:00:00",
          "2019-08-01T00:00:00",
          "2019-09-01T00:00:00",
          "2019-10-01T00:00:00",
          "2019-11-01T00:00:00",
          "2019-12-01T00:00:00",
          "2020-01-01T00:00:00",
          "2020-02-01T00:00:00",
          "2020-03-01T00:00:00",
          "2020-04-01T00:00:00"
         ],
         "y": [
          8,
          7.8,
          7.8,
          7.7,
          7.4,
          7.2,
          7.5,
          7.5,
          7.3,
          7.4,
          7.2,
          7.3,
          7.3,
          7.2,
          7.2,
          7.3,
          7.2,
          7.4,
          7.4,
          7.1,
          7.1,
          7.1,
          7,
          7,
          6.7,
          7.2,
          7.2,
          7.1,
          7.2,
          7.2,
          7,
          6.9,
          7,
          7,
          6.9,
          6.6,
          6.6,
          6.6,
          6.6,
          6.3,
          6.3,
          6.2,
          6.1,
          6,
          5.9,
          6,
          5.8,
          5.7,
          5.7,
          5.7,
          5.7,
          5.4,
          5.6,
          5.4,
          5.4,
          5.6,
          5.4,
          5.4,
          5.3,
          5.3,
          5.4,
          5.2,
          5,
          5.2,
          5.2,
          5.3,
          5.2,
          5.2,
          5.3,
          5.3,
          5.4,
          5.4,
          5.4,
          5.3,
          5.2,
          5.4,
          5.4,
          5.2,
          5.5,
          5.7,
          5.9,
          5.9,
          6.2,
          6.3,
          6.4,
          6.6,
          6.8,
          6.7,
          6.9,
          6.9,
          6.8,
          6.9,
          6.9,
          7,
          7,
          7.3,
          7.3,
          7.4,
          7.4,
          7.4,
          7.6,
          7.8,
          7.7,
          7.6,
          7.6,
          7.3,
          7.4,
          7.4,
          7.3,
          7.1,
          7,
          7.1,
          7.1,
          7,
          6.9,
          6.8,
          6.7,
          6.8,
          6.6,
          6.5,
          6.6,
          6.6,
          6.5,
          6.4,
          6.1,
          6.1,
          6.1,
          6,
          5.9,
          5.8,
          5.6,
          5.5,
          5.6,
          5.4,
          5.4,
          5.8,
          5.6,
          5.6,
          5.7,
          5.7,
          5.6,
          5.5,
          5.6,
          5.6,
          5.6,
          5.5,
          5.5,
          5.6,
          5.6,
          5.3,
          5.5,
          5.1,
          5.2,
          5.2,
          5.4,
          5.4,
          5.3,
          5.2,
          5.2,
          5.1,
          4.9,
          5,
          4.9,
          4.8,
          4.9,
          4.7,
          4.6,
          4.7,
          4.6,
          4.6,
          4.7,
          4.3,
          4.4,
          4.5,
          4.5,
          4.5,
          4.6,
          4.5,
          4.4,
          4.4,
          4.3,
          4.4,
          4.2,
          4.3,
          4.2,
          4.3,
          4.3,
          4.2,
          4.2,
          4.1,
          4.1,
          4,
          4,
          4.1,
          4,
          3.8,
          4,
          4,
          4,
          4.1,
          3.9,
          3.9,
          3.9,
          3.9,
          4.2,
          4.2,
          4.3,
          4.4,
          4.3,
          4.5,
          4.6,
          4.9,
          5,
          5.3,
          5.5,
          5.7,
          5.7,
          5.7,
          5.7,
          5.9,
          5.8,
          5.8,
          5.8,
          5.7,
          5.7,
          5.7,
          5.9,
          6,
          5.8,
          5.9,
          5.9,
          6,
          6.1,
          6.3,
          6.2,
          6.1,
          6.1,
          6,
          5.8,
          5.7,
          5.7,
          5.6,
          5.8,
          5.6,
          5.6,
          5.6,
          5.5,
          5.4,
          5.4,
          5.5,
          5.4,
          5.4,
          5.3,
          5.4,
          5.2,
          5.2,
          5.1,
          5,
          5,
          4.9,
          5,
          5,
          5,
          4.9,
          4.7,
          4.8,
          4.7,
          4.7,
          4.6,
          4.6,
          4.7,
          4.7,
          4.5,
          4.4,
          4.5,
          4.4,
          4.6,
          4.5,
          4.4,
          4.5,
          4.4,
          4.6,
          4.7,
          4.6,
          4.7,
          4.7,
          4.7,
          5,
          5,
          4.9,
          5.1,
          5,
          5.4,
          5.6,
          5.8,
          6.1,
          6.1,
          6.5,
          6.8,
          7.3,
          7.8,
          8.3,
          8.7,
          9,
          9.4,
          9.5,
          9.5,
          9.6,
          9.8,
          10,
          9.9,
          9.9,
          9.8,
          9.8,
          9.9,
          9.9,
          9.6,
          9.4,
          9.4,
          9.5,
          9.5,
          9.4,
          9.8,
          9.3,
          9.1,
          9,
          9,
          9.1,
          9,
          9.1,
          9,
          9,
          9,
          8.8,
          8.6,
          8.5,
          8.3,
          8.3,
          8.2,
          8.2,
          8.2,
          8.2,
          8.2,
          8.1,
          7.8,
          7.8,
          7.7,
          7.9,
          8,
          7.7,
          7.5,
          7.6,
          7.5,
          7.5,
          7.3,
          7.2,
          7.2,
          7.2,
          6.9,
          6.7,
          6.6,
          6.7,
          6.7,
          6.2,
          6.3,
          6.1,
          6.2,
          6.1,
          5.9,
          5.7,
          5.8,
          5.6,
          5.7,
          5.5,
          5.4,
          5.4,
          5.6,
          5.3,
          5.2,
          5.1,
          5,
          5,
          5.1,
          5,
          4.9,
          4.9,
          5,
          5,
          4.8,
          4.9,
          4.8,
          4.9,
          5,
          4.9,
          4.7,
          4.7,
          4.7,
          4.6,
          4.4,
          4.4,
          4.4,
          4.3,
          4.3,
          4.4,
          4.2,
          4.1,
          4.2,
          4.1,
          4.1,
          4.1,
          4,
          4,
          3.8,
          4,
          3.8,
          3.8,
          3.7,
          3.8,
          3.7,
          3.9,
          4,
          3.8,
          3.8,
          3.6,
          3.6,
          3.7,
          3.7,
          3.7,
          3.5,
          3.6,
          3.5,
          3.5,
          3.6,
          3.5,
          4.4,
          14.7
         ]
        },
        {
         "marker": {
          "color": "rgb(41, 58, 143)",
          "size": 1
         },
         "mode": "markers",
         "type": "scatter",
         "x": [
          "1984-01-01T00:00:00",
          "2020-04-01T00:00:00"
         ],
         "y": [
          8,
          14.7
         ]
        }
       ],
       "layout": {
        "annotations": [
         {
          "font": {
           "family": "Arial",
           "size": 12
          },
          "showarrow": false,
          "text": "8",
          "x": 0.05,
          "xanchor": "right",
          "xref": "paper",
          "y": 8,
          "yanchor": "top"
         },
         {
          "font": {
           "family": "Arial",
           "size": 12
          },
          "showarrow": false,
          "text": "15",
          "x": 0.95,
          "xanchor": "left",
          "xref": "paper",
          "y": 14.7,
          "yanchor": "top"
         },
         {
          "font": {
           "color": "rgb(37,37,37)",
           "family": "Arial",
           "size": 22
          },
          "showarrow": false,
          "text": "Unemployment",
          "x": 0,
          "xanchor": "left",
          "xref": "paper",
          "y": 1.05,
          "yanchor": "bottom",
          "yref": "paper"
         },
         {
          "font": {
           "color": "rgb(150,150,150)",
           "family": "Arial",
           "size": 12
          },
          "showarrow": false,
          "text": "Source: U.S. Census Bureau",
          "x": 0,
          "xanchor": "left",
          "xref": "paper",
          "y": -0.2,
          "yanchor": "top",
          "yref": "paper"
         },
         {
          "font": {
           "color": "black",
           "family": "Arial",
           "size": 12
          },
          "showarrow": false,
          "text": "%",
          "x": 0,
          "xref": "paper",
          "y": 1.06,
          "yref": "paper"
         }
        ],
        "autosize": false,
        "height": 170,
        "margin": {
         "autoexpand": false,
         "b": 0,
         "l": 120,
         "r": 120,
         "t": 38
        },
        "plot_bgcolor": "white",
        "showlegend": false,
        "template": {
         "data": {
          "bar": [
           {
            "error_x": {
             "color": "#2a3f5f"
            },
            "error_y": {
             "color": "#2a3f5f"
            },
            "marker": {
             "line": {
              "color": "#E5ECF6",
              "width": 0.5
             }
            },
            "type": "bar"
           }
          ],
          "barpolar": [
           {
            "marker": {
             "line": {
              "color": "#E5ECF6",
              "width": 0.5
             }
            },
            "type": "barpolar"
           }
          ],
          "carpet": [
           {
            "aaxis": {
             "endlinecolor": "#2a3f5f",
             "gridcolor": "white",
             "linecolor": "white",
             "minorgridcolor": "white",
             "startlinecolor": "#2a3f5f"
            },
            "baxis": {
             "endlinecolor": "#2a3f5f",
             "gridcolor": "white",
             "linecolor": "white",
             "minorgridcolor": "white",
             "startlinecolor": "#2a3f5f"
            },
            "type": "carpet"
           }
          ],
          "choropleth": [
           {
            "colorbar": {
             "outlinewidth": 0,
             "ticks": ""
            },
            "type": "choropleth"
           }
          ],
          "contour": [
           {
            "colorbar": {
             "outlinewidth": 0,
             "ticks": ""
            },
            "colorscale": [
             [
              0,
              "#0d0887"
             ],
             [
              0.1111111111111111,
              "#46039f"
             ],
             [
              0.2222222222222222,
              "#7201a8"
             ],
             [
              0.3333333333333333,
              "#9c179e"
             ],
             [
              0.4444444444444444,
              "#bd3786"
             ],
             [
              0.5555555555555556,
              "#d8576b"
             ],
             [
              0.6666666666666666,
              "#ed7953"
             ],
             [
              0.7777777777777778,
              "#fb9f3a"
             ],
             [
              0.8888888888888888,
              "#fdca26"
             ],
             [
              1,
              "#f0f921"
             ]
            ],
            "type": "contour"
           }
          ],
          "contourcarpet": [
           {
            "colorbar": {
             "outlinewidth": 0,
             "ticks": ""
            },
            "type": "contourcarpet"
           }
          ],
          "heatmap": [
           {
            "colorbar": {
             "outlinewidth": 0,
             "ticks": ""
            },
            "colorscale": [
             [
              0,
              "#0d0887"
             ],
             [
              0.1111111111111111,
              "#46039f"
             ],
             [
              0.2222222222222222,
              "#7201a8"
             ],
             [
              0.3333333333333333,
              "#9c179e"
             ],
             [
              0.4444444444444444,
              "#bd3786"
             ],
             [
              0.5555555555555556,
              "#d8576b"
             ],
             [
              0.6666666666666666,
              "#ed7953"
             ],
             [
              0.7777777777777778,
              "#fb9f3a"
             ],
             [
              0.8888888888888888,
              "#fdca26"
             ],
             [
              1,
              "#f0f921"
             ]
            ],
            "type": "heatmap"
           }
          ],
          "heatmapgl": [
           {
            "colorbar": {
             "outlinewidth": 0,
             "ticks": ""
            },
            "colorscale": [
             [
              0,
              "#0d0887"
             ],
             [
              0.1111111111111111,
              "#46039f"
             ],
             [
              0.2222222222222222,
              "#7201a8"
             ],
             [
              0.3333333333333333,
              "#9c179e"
             ],
             [
              0.4444444444444444,
              "#bd3786"
             ],
             [
              0.5555555555555556,
              "#d8576b"
             ],
             [
              0.6666666666666666,
              "#ed7953"
             ],
             [
              0.7777777777777778,
              "#fb9f3a"
             ],
             [
              0.8888888888888888,
              "#fdca26"
             ],
             [
              1,
              "#f0f921"
             ]
            ],
            "type": "heatmapgl"
           }
          ],
          "histogram": [
           {
            "marker": {
             "colorbar": {
              "outlinewidth": 0,
              "ticks": ""
             }
            },
            "type": "histogram"
           }
          ],
          "histogram2d": [
           {
            "colorbar": {
             "outlinewidth": 0,
             "ticks": ""
            },
            "colorscale": [
             [
              0,
              "#0d0887"
             ],
             [
              0.1111111111111111,
              "#46039f"
             ],
             [
              0.2222222222222222,
              "#7201a8"
             ],
             [
              0.3333333333333333,
              "#9c179e"
             ],
             [
              0.4444444444444444,
              "#bd3786"
             ],
             [
              0.5555555555555556,
              "#d8576b"
             ],
             [
              0.6666666666666666,
              "#ed7953"
             ],
             [
              0.7777777777777778,
              "#fb9f3a"
             ],
             [
              0.8888888888888888,
              "#fdca26"
             ],
             [
              1,
              "#f0f921"
             ]
            ],
            "type": "histogram2d"
           }
          ],
          "histogram2dcontour": [
           {
            "colorbar": {
             "outlinewidth": 0,
             "ticks": ""
            },
            "colorscale": [
             [
              0,
              "#0d0887"
             ],
             [
              0.1111111111111111,
              "#46039f"
             ],
             [
              0.2222222222222222,
              "#7201a8"
             ],
             [
              0.3333333333333333,
              "#9c179e"
             ],
             [
              0.4444444444444444,
              "#bd3786"
             ],
             [
              0.5555555555555556,
              "#d8576b"
             ],
             [
              0.6666666666666666,
              "#ed7953"
             ],
             [
              0.7777777777777778,
              "#fb9f3a"
             ],
             [
              0.8888888888888888,
              "#fdca26"
             ],
             [
              1,
              "#f0f921"
             ]
            ],
            "type": "histogram2dcontour"
           }
          ],
          "mesh3d": [
           {
            "colorbar": {
             "outlinewidth": 0,
             "ticks": ""
            },
            "type": "mesh3d"
           }
          ],
          "parcoords": [
           {
            "line": {
             "colorbar": {
              "outlinewidth": 0,
              "ticks": ""
             }
            },
            "type": "parcoords"
           }
          ],
          "pie": [
           {
            "automargin": true,
            "type": "pie"
           }
          ],
          "scatter": [
           {
            "marker": {
             "colorbar": {
              "outlinewidth": 0,
              "ticks": ""
             }
            },
            "type": "scatter"
           }
          ],
          "scatter3d": [
           {
            "line": {
             "colorbar": {
              "outlinewidth": 0,
              "ticks": ""
             }
            },
            "marker": {
             "colorbar": {
              "outlinewidth": 0,
              "ticks": ""
             }
            },
            "type": "scatter3d"
           }
          ],
          "scattercarpet": [
           {
            "marker": {
             "colorbar": {
              "outlinewidth": 0,
              "ticks": ""
             }
            },
            "type": "scattercarpet"
           }
          ],
          "scattergeo": [
           {
            "marker": {
             "colorbar": {
              "outlinewidth": 0,
              "ticks": ""
             }
            },
            "type": "scattergeo"
           }
          ],
          "scattergl": [
           {
            "marker": {
             "colorbar": {
              "outlinewidth": 0,
              "ticks": ""
             }
            },
            "type": "scattergl"
           }
          ],
          "scattermapbox": [
           {
            "marker": {
             "colorbar": {
              "outlinewidth": 0,
              "ticks": ""
             }
            },
            "type": "scattermapbox"
           }
          ],
          "scatterpolar": [
           {
            "marker": {
             "colorbar": {
              "outlinewidth": 0,
              "ticks": ""
             }
            },
            "type": "scatterpolar"
           }
          ],
          "scatterpolargl": [
           {
            "marker": {
             "colorbar": {
              "outlinewidth": 0,
              "ticks": ""
             }
            },
            "type": "scatterpolargl"
           }
          ],
          "scatterternary": [
           {
            "marker": {
             "colorbar": {
              "outlinewidth": 0,
              "ticks": ""
             }
            },
            "type": "scatterternary"
           }
          ],
          "surface": [
           {
            "colorbar": {
             "outlinewidth": 0,
             "ticks": ""
            },
            "colorscale": [
             [
              0,
              "#0d0887"
             ],
             [
              0.1111111111111111,
              "#46039f"
             ],
             [
              0.2222222222222222,
              "#7201a8"
             ],
             [
              0.3333333333333333,
              "#9c179e"
             ],
             [
              0.4444444444444444,
              "#bd3786"
             ],
             [
              0.5555555555555556,
              "#d8576b"
             ],
             [
              0.6666666666666666,
              "#ed7953"
             ],
             [
              0.7777777777777778,
              "#fb9f3a"
             ],
             [
              0.8888888888888888,
              "#fdca26"
             ],
             [
              1,
              "#f0f921"
             ]
            ],
            "type": "surface"
           }
          ],
          "table": [
           {
            "cells": {
             "fill": {
              "color": "#EBF0F8"
             },
             "line": {
              "color": "white"
             }
            },
            "header": {
             "fill": {
              "color": "#C8D4E3"
             },
             "line": {
              "color": "white"
             }
            },
            "type": "table"
           }
          ]
         },
         "layout": {
          "annotationdefaults": {
           "arrowcolor": "#2a3f5f",
           "arrowhead": 0,
           "arrowwidth": 1
          },
          "coloraxis": {
           "colorbar": {
            "outlinewidth": 0,
            "ticks": ""
           }
          },
          "colorscale": {
           "diverging": [
            [
             0,
             "#8e0152"
            ],
            [
             0.1,
             "#c51b7d"
            ],
            [
             0.2,
             "#de77ae"
            ],
            [
             0.3,
             "#f1b6da"
            ],
            [
             0.4,
             "#fde0ef"
            ],
            [
             0.5,
             "#f7f7f7"
            ],
            [
             0.6,
             "#e6f5d0"
            ],
            [
             0.7,
             "#b8e186"
            ],
            [
             0.8,
             "#7fbc41"
            ],
            [
             0.9,
             "#4d9221"
            ],
            [
             1,
             "#276419"
            ]
           ],
           "sequential": [
            [
             0,
             "#0d0887"
            ],
            [
             0.1111111111111111,
             "#46039f"
            ],
            [
             0.2222222222222222,
             "#7201a8"
            ],
            [
             0.3333333333333333,
             "#9c179e"
            ],
            [
             0.4444444444444444,
             "#bd3786"
            ],
            [
             0.5555555555555556,
             "#d8576b"
            ],
            [
             0.6666666666666666,
             "#ed7953"
            ],
            [
             0.7777777777777778,
             "#fb9f3a"
            ],
            [
             0.8888888888888888,
             "#fdca26"
            ],
            [
             1,
             "#f0f921"
            ]
           ],
           "sequentialminus": [
            [
             0,
             "#0d0887"
            ],
            [
             0.1111111111111111,
             "#46039f"
            ],
            [
             0.2222222222222222,
             "#7201a8"
            ],
            [
             0.3333333333333333,
             "#9c179e"
            ],
            [
             0.4444444444444444,
             "#bd3786"
            ],
            [
             0.5555555555555556,
             "#d8576b"
            ],
            [
             0.6666666666666666,
             "#ed7953"
            ],
            [
             0.7777777777777778,
             "#fb9f3a"
            ],
            [
             0.8888888888888888,
             "#fdca26"
            ],
            [
             1,
             "#f0f921"
            ]
           ]
          },
          "colorway": [
           "#636efa",
           "#EF553B",
           "#00cc96",
           "#ab63fa",
           "#FFA15A",
           "#19d3f3",
           "#FF6692",
           "#B6E880",
           "#FF97FF",
           "#FECB52"
          ],
          "font": {
           "color": "#2a3f5f"
          },
          "geo": {
           "bgcolor": "white",
           "lakecolor": "white",
           "landcolor": "#E5ECF6",
           "showlakes": true,
           "showland": true,
           "subunitcolor": "white"
          },
          "hoverlabel": {
           "align": "left"
          },
          "hovermode": "closest",
          "mapbox": {
           "style": "light"
          },
          "paper_bgcolor": "white",
          "plot_bgcolor": "#E5ECF6",
          "polar": {
           "angularaxis": {
            "gridcolor": "white",
            "linecolor": "white",
            "ticks": ""
           },
           "bgcolor": "#E5ECF6",
           "radialaxis": {
            "gridcolor": "white",
            "linecolor": "white",
            "ticks": ""
           }
          },
          "scene": {
           "xaxis": {
            "backgroundcolor": "#E5ECF6",
            "gridcolor": "white",
            "gridwidth": 2,
            "linecolor": "white",
            "showbackground": true,
            "ticks": "",
            "zerolinecolor": "white"
           },
           "yaxis": {
            "backgroundcolor": "#E5ECF6",
            "gridcolor": "white",
            "gridwidth": 2,
            "linecolor": "white",
            "showbackground": true,
            "ticks": "",
            "zerolinecolor": "white"
           },
           "zaxis": {
            "backgroundcolor": "#E5ECF6",
            "gridcolor": "white",
            "gridwidth": 2,
            "linecolor": "white",
            "showbackground": true,
            "ticks": "",
            "zerolinecolor": "white"
           }
          },
          "shapedefaults": {
           "line": {
            "color": "#2a3f5f"
           }
          },
          "ternary": {
           "aaxis": {
            "gridcolor": "white",
            "linecolor": "white",
            "ticks": ""
           },
           "baxis": {
            "gridcolor": "white",
            "linecolor": "white",
            "ticks": ""
           },
           "bgcolor": "#E5ECF6",
           "caxis": {
            "gridcolor": "white",
            "linecolor": "white",
            "ticks": ""
           }
          },
          "title": {
           "x": 0.05
          },
          "xaxis": {
           "automargin": true,
           "gridcolor": "white",
           "linecolor": "white",
           "ticks": "",
           "title": {
            "standoff": 15
           },
           "zerolinecolor": "white",
           "zerolinewidth": 2
          },
          "yaxis": {
           "automargin": true,
           "gridcolor": "white",
           "linecolor": "white",
           "ticks": "",
           "title": {
            "standoff": 15
           },
           "zerolinecolor": "white",
           "zerolinewidth": 2
          }
         }
        },
        "updatemenus": [
         {
          "active": 0,
          "buttons": [
           {
            "args": [
             "shapes",
             []
            ],
            "label": "-",
            "method": "relayout"
           },
           {
            "args": [
             "shapes",
             [
              {
               "fillcolor": "lightgray",
               "layer": "below",
               "line": {
                "color": "white",
                "width": 0.1
               },
               "line_width": 0,
               "type": "rect",
               "x0": "1990-07-01T00:00:00",
               "x1": "1991-01-01T00:00:00",
               "xref": "x",
               "y0": 0,
               "y1": 0.97,
               "yref": "paper"
              },
              {
               "fillcolor": "lightgray",
               "layer": "below",
               "line": {
                "color": "white",
                "width": 0.1
               },
               "line_width": 0,
               "type": "rect",
               "x0": "2001-01-01T00:00:00",
               "x1": "2001-10-01T00:00:00",
               "xref": "x",
               "y0": 0,
               "y1": 0.97,
               "yref": "paper"
              },
              {
               "fillcolor": "lightgray",
               "layer": "below",
               "line": {
                "color": "white",
                "width": 0.1
               },
               "line_width": 0,
               "type": "rect",
               "x0": "2007-10-01T00:00:00",
               "x1": "2009-04-01T00:00:00",
               "xref": "x",
               "y0": 0,
               "y1": 0.97,
               "yref": "paper"
              }
             ]
            ],
            "label": "+",
            "method": "relayout"
           }
          ],
          "direction": "right",
          "type": "buttons",
          "x": 1.1,
          "y": 1.2
         }
        ],
        "width": 1020,
        "xaxis": {
         "linecolor": "rgb(204, 204, 204)",
         "linewidth": 2,
         "showgrid": true,
         "showline": true,
         "showticklabels": true,
         "tickfont": {
          "color": "rgb(82, 82, 82)",
          "family": "Arial",
          "size": 12
         },
         "ticks": "outside"
        },
        "yaxis": {
         "gridcolor": "rgb(204, 204, 204)",
         "showgrid": true,
         "showline": true,
         "showticklabels": true,
         "zeroline": false
        }
       }
      },
      "text/html": [
       "<div>\n",
       "        \n",
       "        \n",
       "            <div id=\"77f8f01e-51cd-437b-9557-04cbef7309f8\" class=\"plotly-graph-div\" style=\"height:170px; width:1020px;\"></div>\n",
       "            <script type=\"text/javascript\">\n",
       "                require([\"plotly\"], function(Plotly) {\n",
       "                    window.PLOTLYENV=window.PLOTLYENV || {};\n",
       "                    \n",
       "                if (document.getElementById(\"77f8f01e-51cd-437b-9557-04cbef7309f8\")) {\n",
       "                    Plotly.newPlot(\n",
       "                        '77f8f01e-51cd-437b-9557-04cbef7309f8',\n",
       "                        [{\"connectgaps\": true, \"line\": {\"color\": \"rgb(41, 58, 143)\", \"width\": 1.5}, \"mode\": \"lines\", \"name\": \"unemployment\", \"type\": \"scatter\", \"x\": [\"1984-01-01T00:00:00\", \"1984-02-01T00:00:00\", \"1984-03-01T00:00:00\", \"1984-04-01T00:00:00\", \"1984-05-01T00:00:00\", \"1984-06-01T00:00:00\", \"1984-07-01T00:00:00\", \"1984-08-01T00:00:00\", \"1984-09-01T00:00:00\", \"1984-10-01T00:00:00\", \"1984-11-01T00:00:00\", \"1984-12-01T00:00:00\", \"1985-01-01T00:00:00\", \"1985-02-01T00:00:00\", \"1985-03-01T00:00:00\", \"1985-04-01T00:00:00\", \"1985-05-01T00:00:00\", \"1985-06-01T00:00:00\", \"1985-07-01T00:00:00\", \"1985-08-01T00:00:00\", \"1985-09-01T00:00:00\", \"1985-10-01T00:00:00\", \"1985-11-01T00:00:00\", \"1985-12-01T00:00:00\", \"1986-01-01T00:00:00\", \"1986-02-01T00:00:00\", \"1986-03-01T00:00:00\", \"1986-04-01T00:00:00\", \"1986-05-01T00:00:00\", \"1986-06-01T00:00:00\", \"1986-07-01T00:00:00\", \"1986-08-01T00:00:00\", \"1986-09-01T00:00:00\", \"1986-10-01T00:00:00\", \"1986-11-01T00:00:00\", \"1986-12-01T00:00:00\", \"1987-01-01T00:00:00\", \"1987-02-01T00:00:00\", \"1987-03-01T00:00:00\", \"1987-04-01T00:00:00\", \"1987-05-01T00:00:00\", \"1987-06-01T00:00:00\", \"1987-07-01T00:00:00\", \"1987-08-01T00:00:00\", \"1987-09-01T00:00:00\", \"1987-10-01T00:00:00\", \"1987-11-01T00:00:00\", \"1987-12-01T00:00:00\", \"1988-01-01T00:00:00\", \"1988-02-01T00:00:00\", \"1988-03-01T00:00:00\", \"1988-04-01T00:00:00\", \"1988-05-01T00:00:00\", \"1988-06-01T00:00:00\", \"1988-07-01T00:00:00\", \"1988-08-01T00:00:00\", \"1988-09-01T00:00:00\", \"1988-10-01T00:00:00\", \"1988-11-01T00:00:00\", \"1988-12-01T00:00:00\", \"1989-01-01T00:00:00\", \"1989-02-01T00:00:00\", \"1989-03-01T00:00:00\", \"1989-04-01T00:00:00\", \"1989-05-01T00:00:00\", \"1989-06-01T00:00:00\", \"1989-07-01T00:00:00\", \"1989-08-01T00:00:00\", \"1989-09-01T00:00:00\", \"1989-10-01T00:00:00\", \"1989-11-01T00:00:00\", \"1989-12-01T00:00:00\", \"1990-01-01T00:00:00\", \"1990-02-01T00:00:00\", \"1990-03-01T00:00:00\", \"1990-04-01T00:00:00\", \"1990-05-01T00:00:00\", \"1990-06-01T00:00:00\", \"1990-07-01T00:00:00\", \"1990-08-01T00:00:00\", \"1990-09-01T00:00:00\", \"1990-10-01T00:00:00\", \"1990-11-01T00:00:00\", \"1990-12-01T00:00:00\", \"1991-01-01T00:00:00\", \"1991-02-01T00:00:00\", \"1991-03-01T00:00:00\", \"1991-04-01T00:00:00\", \"1991-05-01T00:00:00\", \"1991-06-01T00:00:00\", \"1991-07-01T00:00:00\", \"1991-08-01T00:00:00\", \"1991-09-01T00:00:00\", \"1991-10-01T00:00:00\", \"1991-11-01T00:00:00\", \"1991-12-01T00:00:00\", \"1992-01-01T00:00:00\", \"1992-02-01T00:00:00\", \"1992-03-01T00:00:00\", \"1992-04-01T00:00:00\", \"1992-05-01T00:00:00\", \"1992-06-01T00:00:00\", \"1992-07-01T00:00:00\", \"1992-08-01T00:00:00\", \"1992-09-01T00:00:00\", \"1992-10-01T00:00:00\", \"1992-11-01T00:00:00\", \"1992-12-01T00:00:00\", \"1993-01-01T00:00:00\", \"1993-02-01T00:00:00\", \"1993-03-01T00:00:00\", \"1993-04-01T00:00:00\", \"1993-05-01T00:00:00\", \"1993-06-01T00:00:00\", \"1993-07-01T00:00:00\", \"1993-08-01T00:00:00\", \"1993-09-01T00:00:00\", \"1993-10-01T00:00:00\", \"1993-11-01T00:00:00\", \"1993-12-01T00:00:00\", \"1994-01-01T00:00:00\", \"1994-02-01T00:00:00\", \"1994-03-01T00:00:00\", \"1994-04-01T00:00:00\", \"1994-05-01T00:00:00\", \"1994-06-01T00:00:00\", \"1994-07-01T00:00:00\", \"1994-08-01T00:00:00\", \"1994-09-01T00:00:00\", \"1994-10-01T00:00:00\", \"1994-11-01T00:00:00\", \"1994-12-01T00:00:00\", \"1995-01-01T00:00:00\", \"1995-02-01T00:00:00\", \"1995-03-01T00:00:00\", \"1995-04-01T00:00:00\", \"1995-05-01T00:00:00\", \"1995-06-01T00:00:00\", \"1995-07-01T00:00:00\", \"1995-08-01T00:00:00\", \"1995-09-01T00:00:00\", \"1995-10-01T00:00:00\", \"1995-11-01T00:00:00\", \"1995-12-01T00:00:00\", \"1996-01-01T00:00:00\", \"1996-02-01T00:00:00\", \"1996-03-01T00:00:00\", \"1996-04-01T00:00:00\", \"1996-05-01T00:00:00\", \"1996-06-01T00:00:00\", \"1996-07-01T00:00:00\", \"1996-08-01T00:00:00\", \"1996-09-01T00:00:00\", \"1996-10-01T00:00:00\", \"1996-11-01T00:00:00\", \"1996-12-01T00:00:00\", \"1997-01-01T00:00:00\", \"1997-02-01T00:00:00\", \"1997-03-01T00:00:00\", \"1997-04-01T00:00:00\", \"1997-05-01T00:00:00\", \"1997-06-01T00:00:00\", \"1997-07-01T00:00:00\", \"1997-08-01T00:00:00\", \"1997-09-01T00:00:00\", \"1997-10-01T00:00:00\", \"1997-11-01T00:00:00\", \"1997-12-01T00:00:00\", \"1998-01-01T00:00:00\", \"1998-02-01T00:00:00\", \"1998-03-01T00:00:00\", \"1998-04-01T00:00:00\", \"1998-05-01T00:00:00\", \"1998-06-01T00:00:00\", \"1998-07-01T00:00:00\", \"1998-08-01T00:00:00\", \"1998-09-01T00:00:00\", \"1998-10-01T00:00:00\", \"1998-11-01T00:00:00\", \"1998-12-01T00:00:00\", \"1999-01-01T00:00:00\", \"1999-02-01T00:00:00\", \"1999-03-01T00:00:00\", \"1999-04-01T00:00:00\", \"1999-05-01T00:00:00\", \"1999-06-01T00:00:00\", \"1999-07-01T00:00:00\", \"1999-08-01T00:00:00\", \"1999-09-01T00:00:00\", \"1999-10-01T00:00:00\", \"1999-11-01T00:00:00\", \"1999-12-01T00:00:00\", \"2000-01-01T00:00:00\", \"2000-02-01T00:00:00\", \"2000-03-01T00:00:00\", \"2000-04-01T00:00:00\", \"2000-05-01T00:00:00\", \"2000-06-01T00:00:00\", \"2000-07-01T00:00:00\", \"2000-08-01T00:00:00\", \"2000-09-01T00:00:00\", \"2000-10-01T00:00:00\", \"2000-11-01T00:00:00\", \"2000-12-01T00:00:00\", \"2001-01-01T00:00:00\", \"2001-02-01T00:00:00\", \"2001-03-01T00:00:00\", \"2001-04-01T00:00:00\", \"2001-05-01T00:00:00\", \"2001-06-01T00:00:00\", \"2001-07-01T00:00:00\", \"2001-08-01T00:00:00\", \"2001-09-01T00:00:00\", \"2001-10-01T00:00:00\", \"2001-11-01T00:00:00\", \"2001-12-01T00:00:00\", \"2002-01-01T00:00:00\", \"2002-02-01T00:00:00\", \"2002-03-01T00:00:00\", \"2002-04-01T00:00:00\", \"2002-05-01T00:00:00\", \"2002-06-01T00:00:00\", \"2002-07-01T00:00:00\", \"2002-08-01T00:00:00\", \"2002-09-01T00:00:00\", \"2002-10-01T00:00:00\", \"2002-11-01T00:00:00\", \"2002-12-01T00:00:00\", \"2003-01-01T00:00:00\", \"2003-02-01T00:00:00\", \"2003-03-01T00:00:00\", \"2003-04-01T00:00:00\", \"2003-05-01T00:00:00\", \"2003-06-01T00:00:00\", \"2003-07-01T00:00:00\", \"2003-08-01T00:00:00\", \"2003-09-01T00:00:00\", \"2003-10-01T00:00:00\", \"2003-11-01T00:00:00\", \"2003-12-01T00:00:00\", \"2004-01-01T00:00:00\", \"2004-02-01T00:00:00\", \"2004-03-01T00:00:00\", \"2004-04-01T00:00:00\", \"2004-05-01T00:00:00\", \"2004-06-01T00:00:00\", \"2004-07-01T00:00:00\", \"2004-08-01T00:00:00\", \"2004-09-01T00:00:00\", \"2004-10-01T00:00:00\", \"2004-11-01T00:00:00\", \"2004-12-01T00:00:00\", \"2005-01-01T00:00:00\", \"2005-02-01T00:00:00\", \"2005-03-01T00:00:00\", \"2005-04-01T00:00:00\", \"2005-05-01T00:00:00\", \"2005-06-01T00:00:00\", \"2005-07-01T00:00:00\", \"2005-08-01T00:00:00\", \"2005-09-01T00:00:00\", \"2005-10-01T00:00:00\", \"2005-11-01T00:00:00\", \"2005-12-01T00:00:00\", \"2006-01-01T00:00:00\", \"2006-02-01T00:00:00\", \"2006-03-01T00:00:00\", \"2006-04-01T00:00:00\", \"2006-05-01T00:00:00\", \"2006-06-01T00:00:00\", \"2006-07-01T00:00:00\", \"2006-08-01T00:00:00\", \"2006-09-01T00:00:00\", \"2006-10-01T00:00:00\", \"2006-11-01T00:00:00\", \"2006-12-01T00:00:00\", \"2007-01-01T00:00:00\", \"2007-02-01T00:00:00\", \"2007-03-01T00:00:00\", \"2007-04-01T00:00:00\", \"2007-05-01T00:00:00\", \"2007-06-01T00:00:00\", \"2007-07-01T00:00:00\", \"2007-08-01T00:00:00\", \"2007-09-01T00:00:00\", \"2007-10-01T00:00:00\", \"2007-11-01T00:00:00\", \"2007-12-01T00:00:00\", \"2008-01-01T00:00:00\", \"2008-02-01T00:00:00\", \"2008-03-01T00:00:00\", \"2008-04-01T00:00:00\", \"2008-05-01T00:00:00\", \"2008-06-01T00:00:00\", \"2008-07-01T00:00:00\", \"2008-08-01T00:00:00\", \"2008-09-01T00:00:00\", \"2008-10-01T00:00:00\", \"2008-11-01T00:00:00\", \"2008-12-01T00:00:00\", \"2009-01-01T00:00:00\", \"2009-02-01T00:00:00\", \"2009-03-01T00:00:00\", \"2009-04-01T00:00:00\", \"2009-05-01T00:00:00\", \"2009-06-01T00:00:00\", \"2009-07-01T00:00:00\", \"2009-08-01T00:00:00\", \"2009-09-01T00:00:00\", \"2009-10-01T00:00:00\", \"2009-11-01T00:00:00\", \"2009-12-01T00:00:00\", \"2010-01-01T00:00:00\", \"2010-02-01T00:00:00\", \"2010-03-01T00:00:00\", \"2010-04-01T00:00:00\", \"2010-05-01T00:00:00\", \"2010-06-01T00:00:00\", \"2010-07-01T00:00:00\", \"2010-08-01T00:00:00\", \"2010-09-01T00:00:00\", \"2010-10-01T00:00:00\", \"2010-11-01T00:00:00\", \"2010-12-01T00:00:00\", \"2011-01-01T00:00:00\", \"2011-02-01T00:00:00\", \"2011-03-01T00:00:00\", \"2011-04-01T00:00:00\", \"2011-05-01T00:00:00\", \"2011-06-01T00:00:00\", \"2011-07-01T00:00:00\", \"2011-08-01T00:00:00\", \"2011-09-01T00:00:00\", \"2011-10-01T00:00:00\", \"2011-11-01T00:00:00\", \"2011-12-01T00:00:00\", \"2012-01-01T00:00:00\", \"2012-02-01T00:00:00\", \"2012-03-01T00:00:00\", \"2012-04-01T00:00:00\", \"2012-05-01T00:00:00\", \"2012-06-01T00:00:00\", \"2012-07-01T00:00:00\", \"2012-08-01T00:00:00\", \"2012-09-01T00:00:00\", \"2012-10-01T00:00:00\", \"2012-11-01T00:00:00\", \"2012-12-01T00:00:00\", \"2013-01-01T00:00:00\", \"2013-02-01T00:00:00\", \"2013-03-01T00:00:00\", \"2013-04-01T00:00:00\", \"2013-05-01T00:00:00\", \"2013-06-01T00:00:00\", \"2013-07-01T00:00:00\", \"2013-08-01T00:00:00\", \"2013-09-01T00:00:00\", \"2013-10-01T00:00:00\", \"2013-11-01T00:00:00\", \"2013-12-01T00:00:00\", \"2014-01-01T00:00:00\", \"2014-02-01T00:00:00\", \"2014-03-01T00:00:00\", \"2014-04-01T00:00:00\", \"2014-05-01T00:00:00\", \"2014-06-01T00:00:00\", \"2014-07-01T00:00:00\", \"2014-08-01T00:00:00\", \"2014-09-01T00:00:00\", \"2014-10-01T00:00:00\", \"2014-11-01T00:00:00\", \"2014-12-01T00:00:00\", \"2015-01-01T00:00:00\", \"2015-02-01T00:00:00\", \"2015-03-01T00:00:00\", \"2015-04-01T00:00:00\", \"2015-05-01T00:00:00\", \"2015-06-01T00:00:00\", \"2015-07-01T00:00:00\", \"2015-08-01T00:00:00\", \"2015-09-01T00:00:00\", \"2015-10-01T00:00:00\", \"2015-11-01T00:00:00\", \"2015-12-01T00:00:00\", \"2016-01-01T00:00:00\", \"2016-02-01T00:00:00\", \"2016-03-01T00:00:00\", \"2016-04-01T00:00:00\", \"2016-05-01T00:00:00\", \"2016-06-01T00:00:00\", \"2016-07-01T00:00:00\", \"2016-08-01T00:00:00\", \"2016-09-01T00:00:00\", \"2016-10-01T00:00:00\", \"2016-11-01T00:00:00\", \"2016-12-01T00:00:00\", \"2017-01-01T00:00:00\", \"2017-02-01T00:00:00\", \"2017-03-01T00:00:00\", \"2017-04-01T00:00:00\", \"2017-05-01T00:00:00\", \"2017-06-01T00:00:00\", \"2017-07-01T00:00:00\", \"2017-08-01T00:00:00\", \"2017-09-01T00:00:00\", \"2017-10-01T00:00:00\", \"2017-11-01T00:00:00\", \"2017-12-01T00:00:00\", \"2018-01-01T00:00:00\", \"2018-02-01T00:00:00\", \"2018-03-01T00:00:00\", \"2018-04-01T00:00:00\", \"2018-05-01T00:00:00\", \"2018-06-01T00:00:00\", \"2018-07-01T00:00:00\", \"2018-08-01T00:00:00\", \"2018-09-01T00:00:00\", \"2018-10-01T00:00:00\", \"2018-11-01T00:00:00\", \"2018-12-01T00:00:00\", \"2019-01-01T00:00:00\", \"2019-02-01T00:00:00\", \"2019-03-01T00:00:00\", \"2019-04-01T00:00:00\", \"2019-05-01T00:00:00\", \"2019-06-01T00:00:00\", \"2019-07-01T00:00:00\", \"2019-08-01T00:00:00\", \"2019-09-01T00:00:00\", \"2019-10-01T00:00:00\", \"2019-11-01T00:00:00\", \"2019-12-01T00:00:00\", \"2020-01-01T00:00:00\", \"2020-02-01T00:00:00\", \"2020-03-01T00:00:00\", \"2020-04-01T00:00:00\"], \"y\": [8.0, 7.8, 7.8, 7.7, 7.4, 7.2, 7.5, 7.5, 7.3, 7.4, 7.2, 7.3, 7.3, 7.2, 7.2, 7.3, 7.2, 7.4, 7.4, 7.1, 7.1, 7.1, 7.0, 7.0, 6.7, 7.2, 7.2, 7.1, 7.2, 7.2, 7.0, 6.9, 7.0, 7.0, 6.9, 6.6, 6.6, 6.6, 6.6, 6.3, 6.3, 6.2, 6.1, 6.0, 5.9, 6.0, 5.8, 5.7, 5.7, 5.7, 5.7, 5.4, 5.6, 5.4, 5.4, 5.6, 5.4, 5.4, 5.3, 5.3, 5.4, 5.2, 5.0, 5.2, 5.2, 5.3, 5.2, 5.2, 5.3, 5.3, 5.4, 5.4, 5.4, 5.3, 5.2, 5.4, 5.4, 5.2, 5.5, 5.7, 5.9, 5.9, 6.2, 6.3, 6.4, 6.6, 6.8, 6.7, 6.9, 6.9, 6.8, 6.9, 6.9, 7.0, 7.0, 7.3, 7.3, 7.4, 7.4, 7.4, 7.6, 7.8, 7.7, 7.6, 7.6, 7.3, 7.4, 7.4, 7.3, 7.1, 7.0, 7.1, 7.1, 7.0, 6.9, 6.8, 6.7, 6.8, 6.6, 6.5, 6.6, 6.6, 6.5, 6.4, 6.1, 6.1, 6.1, 6.0, 5.9, 5.8, 5.6, 5.5, 5.6, 5.4, 5.4, 5.8, 5.6, 5.6, 5.7, 5.7, 5.6, 5.5, 5.6, 5.6, 5.6, 5.5, 5.5, 5.6, 5.6, 5.3, 5.5, 5.1, 5.2, 5.2, 5.4, 5.4, 5.3, 5.2, 5.2, 5.1, 4.9, 5.0, 4.9, 4.8, 4.9, 4.7, 4.6, 4.7, 4.6, 4.6, 4.7, 4.3, 4.4, 4.5, 4.5, 4.5, 4.6, 4.5, 4.4, 4.4, 4.3, 4.4, 4.2, 4.3, 4.2, 4.3, 4.3, 4.2, 4.2, 4.1, 4.1, 4.0, 4.0, 4.1, 4.0, 3.8, 4.0, 4.0, 4.0, 4.1, 3.9, 3.9, 3.9, 3.9, 4.2, 4.2, 4.3, 4.4, 4.3, 4.5, 4.6, 4.9, 5.0, 5.3, 5.5, 5.7, 5.7, 5.7, 5.7, 5.9, 5.8, 5.8, 5.8, 5.7, 5.7, 5.7, 5.9, 6.0, 5.8, 5.9, 5.9, 6.0, 6.1, 6.3, 6.2, 6.1, 6.1, 6.0, 5.8, 5.7, 5.7, 5.6, 5.8, 5.6, 5.6, 5.6, 5.5, 5.4, 5.4, 5.5, 5.4, 5.4, 5.3, 5.4, 5.2, 5.2, 5.1, 5.0, 5.0, 4.9, 5.0, 5.0, 5.0, 4.9, 4.7, 4.8, 4.7, 4.7, 4.6, 4.6, 4.7, 4.7, 4.5, 4.4, 4.5, 4.4, 4.6, 4.5, 4.4, 4.5, 4.4, 4.6, 4.7, 4.6, 4.7, 4.7, 4.7, 5.0, 5.0, 4.9, 5.1, 5.0, 5.4, 5.6, 5.8, 6.1, 6.1, 6.5, 6.8, 7.3, 7.8, 8.3, 8.7, 9.0, 9.4, 9.5, 9.5, 9.6, 9.8, 10.0, 9.9, 9.9, 9.8, 9.8, 9.9, 9.9, 9.6, 9.4, 9.4, 9.5, 9.5, 9.4, 9.8, 9.3, 9.1, 9.0, 9.0, 9.1, 9.0, 9.1, 9.0, 9.0, 9.0, 8.8, 8.6, 8.5, 8.3, 8.3, 8.2, 8.2, 8.2, 8.2, 8.2, 8.1, 7.8, 7.8, 7.7, 7.9, 8.0, 7.7, 7.5, 7.6, 7.5, 7.5, 7.3, 7.2, 7.2, 7.2, 6.9, 6.7, 6.6, 6.7, 6.7, 6.2, 6.3, 6.1, 6.2, 6.1, 5.9, 5.7, 5.8, 5.6, 5.7, 5.5, 5.4, 5.4, 5.6, 5.3, 5.2, 5.1, 5.0, 5.0, 5.1, 5.0, 4.9, 4.9, 5.0, 5.0, 4.8, 4.9, 4.8, 4.9, 5.0, 4.9, 4.7, 4.7, 4.7, 4.6, 4.4, 4.4, 4.4, 4.3, 4.3, 4.4, 4.2, 4.1, 4.2, 4.1, 4.1, 4.1, 4.0, 4.0, 3.8, 4.0, 3.8, 3.8, 3.7, 3.8, 3.7, 3.9, 4.0, 3.8, 3.8, 3.6, 3.6, 3.7, 3.7, 3.7, 3.5, 3.6, 3.5, 3.5, 3.6, 3.5, 4.4, 14.7]}, {\"marker\": {\"color\": \"rgb(41, 58, 143)\", \"size\": 1}, \"mode\": \"markers\", \"type\": \"scatter\", \"x\": [\"1984-01-01T00:00:00\", \"2020-04-01T00:00:00\"], \"y\": [8.0, 14.7]}],\n",
       "                        {\"annotations\": [{\"font\": {\"family\": \"Arial\", \"size\": 12}, \"showarrow\": false, \"text\": \"8\", \"x\": 0.05, \"xanchor\": \"right\", \"xref\": \"paper\", \"y\": 8.0, \"yanchor\": \"top\"}, {\"font\": {\"family\": \"Arial\", \"size\": 12}, \"showarrow\": false, \"text\": \"15\", \"x\": 0.95, \"xanchor\": \"left\", \"xref\": \"paper\", \"y\": 14.7, \"yanchor\": \"top\"}, {\"font\": {\"color\": \"rgb(37,37,37)\", \"family\": \"Arial\", \"size\": 22}, \"showarrow\": false, \"text\": \"Unemployment\", \"x\": 0.0, \"xanchor\": \"left\", \"xref\": \"paper\", \"y\": 1.05, \"yanchor\": \"bottom\", \"yref\": \"paper\"}, {\"font\": {\"color\": \"rgb(150,150,150)\", \"family\": \"Arial\", \"size\": 12}, \"showarrow\": false, \"text\": \"Source: U.S. Census Bureau\", \"x\": 0, \"xanchor\": \"left\", \"xref\": \"paper\", \"y\": -0.2, \"yanchor\": \"top\", \"yref\": \"paper\"}, {\"font\": {\"color\": \"black\", \"family\": \"Arial\", \"size\": 12}, \"showarrow\": false, \"text\": \"%\", \"x\": 0.0, \"xref\": \"paper\", \"y\": 1.06, \"yref\": \"paper\"}], \"autosize\": false, \"height\": 170, \"margin\": {\"autoexpand\": false, \"b\": 0, \"l\": 120, \"r\": 120, \"t\": 38}, \"plot_bgcolor\": \"white\", \"showlegend\": false, \"template\": {\"data\": {\"bar\": [{\"error_x\": {\"color\": \"#2a3f5f\"}, \"error_y\": {\"color\": \"#2a3f5f\"}, \"marker\": {\"line\": {\"color\": \"#E5ECF6\", \"width\": 0.5}}, \"type\": \"bar\"}], \"barpolar\": [{\"marker\": {\"line\": {\"color\": \"#E5ECF6\", \"width\": 0.5}}, \"type\": \"barpolar\"}], \"carpet\": [{\"aaxis\": {\"endlinecolor\": \"#2a3f5f\", \"gridcolor\": \"white\", \"linecolor\": \"white\", \"minorgridcolor\": \"white\", \"startlinecolor\": \"#2a3f5f\"}, \"baxis\": {\"endlinecolor\": \"#2a3f5f\", \"gridcolor\": \"white\", \"linecolor\": \"white\", \"minorgridcolor\": \"white\", \"startlinecolor\": \"#2a3f5f\"}, \"type\": \"carpet\"}], \"choropleth\": [{\"colorbar\": {\"outlinewidth\": 0, \"ticks\": \"\"}, \"type\": \"choropleth\"}], \"contour\": [{\"colorbar\": {\"outlinewidth\": 0, \"ticks\": \"\"}, \"colorscale\": [[0.0, \"#0d0887\"], [0.1111111111111111, \"#46039f\"], [0.2222222222222222, \"#7201a8\"], [0.3333333333333333, \"#9c179e\"], [0.4444444444444444, \"#bd3786\"], [0.5555555555555556, \"#d8576b\"], [0.6666666666666666, \"#ed7953\"], [0.7777777777777778, \"#fb9f3a\"], [0.8888888888888888, \"#fdca26\"], [1.0, \"#f0f921\"]], \"type\": \"contour\"}], \"contourcarpet\": [{\"colorbar\": {\"outlinewidth\": 0, \"ticks\": \"\"}, \"type\": \"contourcarpet\"}], \"heatmap\": [{\"colorbar\": {\"outlinewidth\": 0, \"ticks\": \"\"}, \"colorscale\": [[0.0, \"#0d0887\"], [0.1111111111111111, \"#46039f\"], [0.2222222222222222, \"#7201a8\"], [0.3333333333333333, \"#9c179e\"], [0.4444444444444444, \"#bd3786\"], [0.5555555555555556, \"#d8576b\"], [0.6666666666666666, \"#ed7953\"], [0.7777777777777778, \"#fb9f3a\"], [0.8888888888888888, \"#fdca26\"], [1.0, \"#f0f921\"]], \"type\": \"heatmap\"}], \"heatmapgl\": [{\"colorbar\": {\"outlinewidth\": 0, \"ticks\": \"\"}, \"colorscale\": [[0.0, \"#0d0887\"], [0.1111111111111111, \"#46039f\"], [0.2222222222222222, \"#7201a8\"], [0.3333333333333333, \"#9c179e\"], [0.4444444444444444, \"#bd3786\"], [0.5555555555555556, \"#d8576b\"], [0.6666666666666666, \"#ed7953\"], [0.7777777777777778, \"#fb9f3a\"], [0.8888888888888888, \"#fdca26\"], [1.0, \"#f0f921\"]], \"type\": \"heatmapgl\"}], \"histogram\": [{\"marker\": {\"colorbar\": {\"outlinewidth\": 0, \"ticks\": \"\"}}, \"type\": \"histogram\"}], \"histogram2d\": [{\"colorbar\": {\"outlinewidth\": 0, \"ticks\": \"\"}, \"colorscale\": [[0.0, \"#0d0887\"], [0.1111111111111111, \"#46039f\"], [0.2222222222222222, \"#7201a8\"], [0.3333333333333333, \"#9c179e\"], [0.4444444444444444, \"#bd3786\"], [0.5555555555555556, \"#d8576b\"], [0.6666666666666666, \"#ed7953\"], [0.7777777777777778, \"#fb9f3a\"], [0.8888888888888888, \"#fdca26\"], [1.0, \"#f0f921\"]], \"type\": \"histogram2d\"}], \"histogram2dcontour\": [{\"colorbar\": {\"outlinewidth\": 0, \"ticks\": \"\"}, \"colorscale\": [[0.0, \"#0d0887\"], [0.1111111111111111, \"#46039f\"], [0.2222222222222222, \"#7201a8\"], [0.3333333333333333, \"#9c179e\"], [0.4444444444444444, \"#bd3786\"], [0.5555555555555556, \"#d8576b\"], [0.6666666666666666, \"#ed7953\"], [0.7777777777777778, \"#fb9f3a\"], [0.8888888888888888, \"#fdca26\"], [1.0, \"#f0f921\"]], \"type\": \"histogram2dcontour\"}], \"mesh3d\": [{\"colorbar\": {\"outlinewidth\": 0, \"ticks\": \"\"}, \"type\": \"mesh3d\"}], \"parcoords\": [{\"line\": {\"colorbar\": {\"outlinewidth\": 0, \"ticks\": \"\"}}, \"type\": \"parcoords\"}], \"pie\": [{\"automargin\": true, \"type\": \"pie\"}], \"scatter\": [{\"marker\": {\"colorbar\": {\"outlinewidth\": 0, \"ticks\": \"\"}}, \"type\": \"scatter\"}], \"scatter3d\": [{\"line\": {\"colorbar\": {\"outlinewidth\": 0, \"ticks\": \"\"}}, \"marker\": {\"colorbar\": {\"outlinewidth\": 0, \"ticks\": \"\"}}, \"type\": \"scatter3d\"}], \"scattercarpet\": [{\"marker\": {\"colorbar\": {\"outlinewidth\": 0, \"ticks\": \"\"}}, \"type\": \"scattercarpet\"}], \"scattergeo\": [{\"marker\": {\"colorbar\": {\"outlinewidth\": 0, \"ticks\": \"\"}}, \"type\": \"scattergeo\"}], \"scattergl\": [{\"marker\": {\"colorbar\": {\"outlinewidth\": 0, \"ticks\": \"\"}}, \"type\": \"scattergl\"}], \"scattermapbox\": [{\"marker\": {\"colorbar\": {\"outlinewidth\": 0, \"ticks\": \"\"}}, \"type\": \"scattermapbox\"}], \"scatterpolar\": [{\"marker\": {\"colorbar\": {\"outlinewidth\": 0, \"ticks\": \"\"}}, \"type\": \"scatterpolar\"}], \"scatterpolargl\": [{\"marker\": {\"colorbar\": {\"outlinewidth\": 0, \"ticks\": \"\"}}, \"type\": \"scatterpolargl\"}], \"scatterternary\": [{\"marker\": {\"colorbar\": {\"outlinewidth\": 0, \"ticks\": \"\"}}, \"type\": \"scatterternary\"}], \"surface\": [{\"colorbar\": {\"outlinewidth\": 0, \"ticks\": \"\"}, \"colorscale\": [[0.0, \"#0d0887\"], [0.1111111111111111, \"#46039f\"], [0.2222222222222222, \"#7201a8\"], [0.3333333333333333, \"#9c179e\"], [0.4444444444444444, \"#bd3786\"], [0.5555555555555556, \"#d8576b\"], [0.6666666666666666, \"#ed7953\"], [0.7777777777777778, \"#fb9f3a\"], [0.8888888888888888, \"#fdca26\"], [1.0, \"#f0f921\"]], \"type\": \"surface\"}], \"table\": [{\"cells\": {\"fill\": {\"color\": \"#EBF0F8\"}, \"line\": {\"color\": \"white\"}}, \"header\": {\"fill\": {\"color\": \"#C8D4E3\"}, \"line\": {\"color\": \"white\"}}, \"type\": \"table\"}]}, \"layout\": {\"annotationdefaults\": {\"arrowcolor\": \"#2a3f5f\", \"arrowhead\": 0, \"arrowwidth\": 1}, \"coloraxis\": {\"colorbar\": {\"outlinewidth\": 0, \"ticks\": \"\"}}, \"colorscale\": {\"diverging\": [[0, \"#8e0152\"], [0.1, \"#c51b7d\"], [0.2, \"#de77ae\"], [0.3, \"#f1b6da\"], [0.4, \"#fde0ef\"], [0.5, \"#f7f7f7\"], [0.6, \"#e6f5d0\"], [0.7, \"#b8e186\"], [0.8, \"#7fbc41\"], [0.9, \"#4d9221\"], [1, \"#276419\"]], \"sequential\": [[0.0, \"#0d0887\"], [0.1111111111111111, \"#46039f\"], [0.2222222222222222, \"#7201a8\"], [0.3333333333333333, \"#9c179e\"], [0.4444444444444444, \"#bd3786\"], [0.5555555555555556, \"#d8576b\"], [0.6666666666666666, \"#ed7953\"], [0.7777777777777778, \"#fb9f3a\"], [0.8888888888888888, \"#fdca26\"], [1.0, \"#f0f921\"]], \"sequentialminus\": [[0.0, \"#0d0887\"], [0.1111111111111111, \"#46039f\"], [0.2222222222222222, \"#7201a8\"], [0.3333333333333333, \"#9c179e\"], [0.4444444444444444, \"#bd3786\"], [0.5555555555555556, \"#d8576b\"], [0.6666666666666666, \"#ed7953\"], [0.7777777777777778, \"#fb9f3a\"], [0.8888888888888888, \"#fdca26\"], [1.0, \"#f0f921\"]]}, \"colorway\": [\"#636efa\", \"#EF553B\", \"#00cc96\", \"#ab63fa\", \"#FFA15A\", \"#19d3f3\", \"#FF6692\", \"#B6E880\", \"#FF97FF\", \"#FECB52\"], \"font\": {\"color\": \"#2a3f5f\"}, \"geo\": {\"bgcolor\": \"white\", \"lakecolor\": \"white\", \"landcolor\": \"#E5ECF6\", \"showlakes\": true, \"showland\": true, \"subunitcolor\": \"white\"}, \"hoverlabel\": {\"align\": \"left\"}, \"hovermode\": \"closest\", \"mapbox\": {\"style\": \"light\"}, \"paper_bgcolor\": \"white\", \"plot_bgcolor\": \"#E5ECF6\", \"polar\": {\"angularaxis\": {\"gridcolor\": \"white\", \"linecolor\": \"white\", \"ticks\": \"\"}, \"bgcolor\": \"#E5ECF6\", \"radialaxis\": {\"gridcolor\": \"white\", \"linecolor\": \"white\", \"ticks\": \"\"}}, \"scene\": {\"xaxis\": {\"backgroundcolor\": \"#E5ECF6\", \"gridcolor\": \"white\", \"gridwidth\": 2, \"linecolor\": \"white\", \"showbackground\": true, \"ticks\": \"\", \"zerolinecolor\": \"white\"}, \"yaxis\": {\"backgroundcolor\": \"#E5ECF6\", \"gridcolor\": \"white\", \"gridwidth\": 2, \"linecolor\": \"white\", \"showbackground\": true, \"ticks\": \"\", \"zerolinecolor\": \"white\"}, \"zaxis\": {\"backgroundcolor\": \"#E5ECF6\", \"gridcolor\": \"white\", \"gridwidth\": 2, \"linecolor\": \"white\", \"showbackground\": true, \"ticks\": \"\", \"zerolinecolor\": \"white\"}}, \"shapedefaults\": {\"line\": {\"color\": \"#2a3f5f\"}}, \"ternary\": {\"aaxis\": {\"gridcolor\": \"white\", \"linecolor\": \"white\", \"ticks\": \"\"}, \"baxis\": {\"gridcolor\": \"white\", \"linecolor\": \"white\", \"ticks\": \"\"}, \"bgcolor\": \"#E5ECF6\", \"caxis\": {\"gridcolor\": \"white\", \"linecolor\": \"white\", \"ticks\": \"\"}}, \"title\": {\"x\": 0.05}, \"xaxis\": {\"automargin\": true, \"gridcolor\": \"white\", \"linecolor\": \"white\", \"ticks\": \"\", \"title\": {\"standoff\": 15}, \"zerolinecolor\": \"white\", \"zerolinewidth\": 2}, \"yaxis\": {\"automargin\": true, \"gridcolor\": \"white\", \"linecolor\": \"white\", \"ticks\": \"\", \"title\": {\"standoff\": 15}, \"zerolinecolor\": \"white\", \"zerolinewidth\": 2}}}, \"updatemenus\": [{\"active\": 0, \"buttons\": [{\"args\": [\"shapes\", []], \"label\": \"-\", \"method\": \"relayout\"}, {\"args\": [\"shapes\", [{\"fillcolor\": \"lightgray\", \"layer\": \"below\", \"line\": {\"color\": \"white\", \"width\": 0.1}, \"line_width\": 0, \"type\": \"rect\", \"x0\": \"1990-07-01T00:00:00\", \"x1\": \"1991-01-01T00:00:00\", \"xref\": \"x\", \"y0\": 0, \"y1\": 0.97, \"yref\": \"paper\"}, {\"fillcolor\": \"lightgray\", \"layer\": \"below\", \"line\": {\"color\": \"white\", \"width\": 0.1}, \"line_width\": 0, \"type\": \"rect\", \"x0\": \"2001-01-01T00:00:00\", \"x1\": \"2001-10-01T00:00:00\", \"xref\": \"x\", \"y0\": 0, \"y1\": 0.97, \"yref\": \"paper\"}, {\"fillcolor\": \"lightgray\", \"layer\": \"below\", \"line\": {\"color\": \"white\", \"width\": 0.1}, \"line_width\": 0, \"type\": \"rect\", \"x0\": \"2007-10-01T00:00:00\", \"x1\": \"2009-04-01T00:00:00\", \"xref\": \"x\", \"y0\": 0, \"y1\": 0.97, \"yref\": \"paper\"}]], \"label\": \"+\", \"method\": \"relayout\"}], \"direction\": \"right\", \"type\": \"buttons\", \"x\": 1.1, \"y\": 1.2}], \"width\": 1020, \"xaxis\": {\"linecolor\": \"rgb(204, 204, 204)\", \"linewidth\": 2, \"showgrid\": true, \"showline\": true, \"showticklabels\": true, \"tickfont\": {\"color\": \"rgb(82, 82, 82)\", \"family\": \"Arial\", \"size\": 12}, \"ticks\": \"outside\"}, \"yaxis\": {\"gridcolor\": \"rgb(204, 204, 204)\", \"showgrid\": true, \"showline\": true, \"showticklabels\": true, \"zeroline\": false}},\n",
       "                        {\"responsive\": true}\n",
       "                    ).then(function(){\n",
       "                            \n",
       "var gd = document.getElementById('77f8f01e-51cd-437b-9557-04cbef7309f8');\n",
       "var x = new MutationObserver(function (mutations, observer) {{\n",
       "        var display = window.getComputedStyle(gd).display;\n",
       "        if (!display || display === 'none') {{\n",
       "            console.log([gd, 'removed!']);\n",
       "            Plotly.purge(gd);\n",
       "            observer.disconnect();\n",
       "        }}\n",
       "}});\n",
       "\n",
       "// Listen for the removal of the full notebook cells\n",
       "var notebookContainer = gd.closest('#notebook-container');\n",
       "if (notebookContainer) {{\n",
       "    x.observe(notebookContainer, {childList: true});\n",
       "}}\n",
       "\n",
       "// Listen for the clearing of the current output cell\n",
       "var outputEl = gd.closest('.output');\n",
       "if (outputEl) {{\n",
       "    x.observe(outputEl, {childList: true});\n",
       "}}\n",
       "\n",
       "                        })\n",
       "                };\n",
       "                });\n",
       "            </script>\n",
       "        </div>"
      ]
     },
     "metadata": {},
     "output_type": "display_data"
    }
   ],
   "source": [
    "s = ['unemployment [UNRATE]']\n",
    "dic = dict_from_FRED_description(s)\n",
    "df = make_hrizontal_tbl(dic, start=start)\n",
    "df = df[((df.index>='1984-01-01') & (df.index<='2020-04-01'))]\n",
    "fig = plot_nice(title='Unemployment', dic=dic, df=df, \n",
    "          margin=dict(autoexpand=False,l=120,r=120,t=38,b=0), \n",
    "          show_series_label=False,height=170,\n",
    "          recessions=True,\n",
    "          y_units='%')"
   ]
  },
  {
   "cell_type": "code",
   "execution_count": 397,
   "metadata": {},
   "outputs": [],
   "source": [
    "fig.write_html(\"../images/jm_f1.html\")"
   ]
  },
  {
   "cell_type": "markdown",
   "metadata": {},
   "source": [
    "# Mortgage rates"
   ]
  },
  {
   "cell_type": "code",
   "execution_count": 398,
   "metadata": {},
   "outputs": [
    {
     "data": {
      "application/vnd.plotly.v1+json": {
       "config": {
        "plotlyServerURL": "https://plot.ly"
       },
       "data": [
        {
         "connectgaps": true,
         "line": {
          "color": "rgb(41, 58, 143)",
          "width": 1.5
         },
         "mode": "lines",
         "name": "mortgage rates",
         "type": "scatter",
         "x": [
          "1984-01-06T00:00:00",
          "1984-01-13T00:00:00",
          "1984-01-20T00:00:00",
          "1984-01-27T00:00:00",
          "1984-02-03T00:00:00",
          "1984-02-10T00:00:00",
          "1984-02-17T00:00:00",
          "1984-02-24T00:00:00",
          "1984-03-02T00:00:00",
          "1984-03-09T00:00:00",
          "1984-03-16T00:00:00",
          "1984-03-23T00:00:00",
          "1984-03-30T00:00:00",
          "1984-04-06T00:00:00",
          "1984-04-13T00:00:00",
          "1984-04-20T00:00:00",
          "1984-04-27T00:00:00",
          "1984-05-04T00:00:00",
          "1984-05-11T00:00:00",
          "1984-05-18T00:00:00",
          "1984-05-25T00:00:00",
          "1984-06-01T00:00:00",
          "1984-06-08T00:00:00",
          "1984-06-15T00:00:00",
          "1984-06-22T00:00:00",
          "1984-06-29T00:00:00",
          "1984-07-06T00:00:00",
          "1984-07-13T00:00:00",
          "1984-07-20T00:00:00",
          "1984-07-27T00:00:00",
          "1984-08-03T00:00:00",
          "1984-08-10T00:00:00",
          "1984-08-17T00:00:00",
          "1984-08-24T00:00:00",
          "1984-08-31T00:00:00",
          "1984-09-07T00:00:00",
          "1984-09-14T00:00:00",
          "1984-09-21T00:00:00",
          "1984-09-28T00:00:00",
          "1984-10-05T00:00:00",
          "1984-10-12T00:00:00",
          "1984-10-19T00:00:00",
          "1984-10-26T00:00:00",
          "1984-11-02T00:00:00",
          "1984-11-09T00:00:00",
          "1984-11-16T00:00:00",
          "1984-11-23T00:00:00",
          "1984-11-30T00:00:00",
          "1984-12-07T00:00:00",
          "1984-12-14T00:00:00",
          "1984-12-21T00:00:00",
          "1984-12-28T00:00:00",
          "1985-01-04T00:00:00",
          "1985-01-11T00:00:00",
          "1985-01-18T00:00:00",
          "1985-01-25T00:00:00",
          "1985-02-01T00:00:00",
          "1985-02-08T00:00:00",
          "1985-02-15T00:00:00",
          "1985-02-22T00:00:00",
          "1985-03-01T00:00:00",
          "1985-03-08T00:00:00",
          "1985-03-15T00:00:00",
          "1985-03-22T00:00:00",
          "1985-03-29T00:00:00",
          "1985-04-05T00:00:00",
          "1985-04-12T00:00:00",
          "1985-04-19T00:00:00",
          "1985-04-26T00:00:00",
          "1985-05-03T00:00:00",
          "1985-05-10T00:00:00",
          "1985-05-17T00:00:00",
          "1985-05-24T00:00:00",
          "1985-05-31T00:00:00",
          "1985-06-07T00:00:00",
          "1985-06-14T00:00:00",
          "1985-06-21T00:00:00",
          "1985-06-28T00:00:00",
          "1985-07-05T00:00:00",
          "1985-07-12T00:00:00",
          "1985-07-19T00:00:00",
          "1985-07-26T00:00:00",
          "1985-08-02T00:00:00",
          "1985-08-09T00:00:00",
          "1985-08-16T00:00:00",
          "1985-08-23T00:00:00",
          "1985-08-30T00:00:00",
          "1985-09-06T00:00:00",
          "1985-09-13T00:00:00",
          "1985-09-20T00:00:00",
          "1985-09-27T00:00:00",
          "1985-10-04T00:00:00",
          "1985-10-11T00:00:00",
          "1985-10-18T00:00:00",
          "1985-10-25T00:00:00",
          "1985-11-01T00:00:00",
          "1985-11-08T00:00:00",
          "1985-11-15T00:00:00",
          "1985-11-22T00:00:00",
          "1985-11-29T00:00:00",
          "1985-12-06T00:00:00",
          "1985-12-13T00:00:00",
          "1985-12-20T00:00:00",
          "1985-12-27T00:00:00",
          "1986-01-03T00:00:00",
          "1986-01-10T00:00:00",
          "1986-01-17T00:00:00",
          "1986-01-24T00:00:00",
          "1986-01-31T00:00:00",
          "1986-02-07T00:00:00",
          "1986-02-14T00:00:00",
          "1986-02-21T00:00:00",
          "1986-02-28T00:00:00",
          "1986-03-07T00:00:00",
          "1986-03-14T00:00:00",
          "1986-03-21T00:00:00",
          "1986-03-28T00:00:00",
          "1986-04-04T00:00:00",
          "1986-04-11T00:00:00",
          "1986-04-18T00:00:00",
          "1986-04-25T00:00:00",
          "1986-05-02T00:00:00",
          "1986-05-09T00:00:00",
          "1986-05-16T00:00:00",
          "1986-05-23T00:00:00",
          "1986-05-30T00:00:00",
          "1986-06-06T00:00:00",
          "1986-06-13T00:00:00",
          "1986-06-20T00:00:00",
          "1986-06-27T00:00:00",
          "1986-07-04T00:00:00",
          "1986-07-11T00:00:00",
          "1986-07-18T00:00:00",
          "1986-07-25T00:00:00",
          "1986-08-01T00:00:00",
          "1986-08-08T00:00:00",
          "1986-08-15T00:00:00",
          "1986-08-22T00:00:00",
          "1986-08-29T00:00:00",
          "1986-09-05T00:00:00",
          "1986-09-12T00:00:00",
          "1986-09-19T00:00:00",
          "1986-09-26T00:00:00",
          "1986-10-03T00:00:00",
          "1986-10-10T00:00:00",
          "1986-10-17T00:00:00",
          "1986-10-24T00:00:00",
          "1986-10-31T00:00:00",
          "1986-11-07T00:00:00",
          "1986-11-14T00:00:00",
          "1986-11-21T00:00:00",
          "1986-11-28T00:00:00",
          "1986-12-05T00:00:00",
          "1986-12-12T00:00:00",
          "1986-12-19T00:00:00",
          "1986-12-26T00:00:00",
          "1987-01-02T00:00:00",
          "1987-01-09T00:00:00",
          "1987-01-16T00:00:00",
          "1987-01-23T00:00:00",
          "1987-01-30T00:00:00",
          "1987-02-06T00:00:00",
          "1987-02-13T00:00:00",
          "1987-02-20T00:00:00",
          "1987-02-27T00:00:00",
          "1987-03-06T00:00:00",
          "1987-03-13T00:00:00",
          "1987-03-20T00:00:00",
          "1987-03-27T00:00:00",
          "1987-04-03T00:00:00",
          "1987-04-10T00:00:00",
          "1987-04-17T00:00:00",
          "1987-04-24T00:00:00",
          "1987-05-01T00:00:00",
          "1987-05-08T00:00:00",
          "1987-05-15T00:00:00",
          "1987-05-22T00:00:00",
          "1987-05-29T00:00:00",
          "1987-06-05T00:00:00",
          "1987-06-12T00:00:00",
          "1987-06-19T00:00:00",
          "1987-06-26T00:00:00",
          "1987-07-03T00:00:00",
          "1987-07-10T00:00:00",
          "1987-07-17T00:00:00",
          "1987-07-24T00:00:00",
          "1987-07-31T00:00:00",
          "1987-08-07T00:00:00",
          "1987-08-14T00:00:00",
          "1987-08-21T00:00:00",
          "1987-08-28T00:00:00",
          "1987-09-04T00:00:00",
          "1987-09-11T00:00:00",
          "1987-09-18T00:00:00",
          "1987-09-25T00:00:00",
          "1987-10-02T00:00:00",
          "1987-10-09T00:00:00",
          "1987-10-16T00:00:00",
          "1987-10-23T00:00:00",
          "1987-10-30T00:00:00",
          "1987-11-06T00:00:00",
          "1987-11-13T00:00:00",
          "1987-11-20T00:00:00",
          "1987-11-27T00:00:00",
          "1987-12-04T00:00:00",
          "1987-12-11T00:00:00",
          "1987-12-18T00:00:00",
          "1987-12-25T00:00:00",
          "1987-12-31T00:00:00",
          "1988-01-08T00:00:00",
          "1988-01-15T00:00:00",
          "1988-01-22T00:00:00",
          "1988-01-29T00:00:00",
          "1988-02-05T00:00:00",
          "1988-02-12T00:00:00",
          "1988-02-19T00:00:00",
          "1988-02-26T00:00:00",
          "1988-03-04T00:00:00",
          "1988-03-11T00:00:00",
          "1988-03-18T00:00:00",
          "1988-03-25T00:00:00",
          "1988-04-01T00:00:00",
          "1988-04-08T00:00:00",
          "1988-04-15T00:00:00",
          "1988-04-22T00:00:00",
          "1988-04-29T00:00:00",
          "1988-05-06T00:00:00",
          "1988-05-13T00:00:00",
          "1988-05-20T00:00:00",
          "1988-05-27T00:00:00",
          "1988-06-03T00:00:00",
          "1988-06-10T00:00:00",
          "1988-06-17T00:00:00",
          "1988-06-24T00:00:00",
          "1988-07-01T00:00:00",
          "1988-07-08T00:00:00",
          "1988-07-15T00:00:00",
          "1988-07-22T00:00:00",
          "1988-07-29T00:00:00",
          "1988-08-05T00:00:00",
          "1988-08-12T00:00:00",
          "1988-08-19T00:00:00",
          "1988-08-26T00:00:00",
          "1988-09-02T00:00:00",
          "1988-09-09T00:00:00",
          "1988-09-16T00:00:00",
          "1988-09-23T00:00:00",
          "1988-09-30T00:00:00",
          "1988-10-07T00:00:00",
          "1988-10-14T00:00:00",
          "1988-10-21T00:00:00",
          "1988-10-28T00:00:00",
          "1988-11-04T00:00:00",
          "1988-11-11T00:00:00",
          "1988-11-18T00:00:00",
          "1988-11-25T00:00:00",
          "1988-12-02T00:00:00",
          "1988-12-09T00:00:00",
          "1988-12-16T00:00:00",
          "1988-12-23T00:00:00",
          "1988-12-30T00:00:00",
          "1989-01-06T00:00:00",
          "1989-01-13T00:00:00",
          "1989-01-20T00:00:00",
          "1989-01-27T00:00:00",
          "1989-02-03T00:00:00",
          "1989-02-10T00:00:00",
          "1989-02-17T00:00:00",
          "1989-02-24T00:00:00",
          "1989-03-03T00:00:00",
          "1989-03-10T00:00:00",
          "1989-03-17T00:00:00",
          "1989-03-24T00:00:00",
          "1989-03-31T00:00:00",
          "1989-04-07T00:00:00",
          "1989-04-14T00:00:00",
          "1989-04-21T00:00:00",
          "1989-04-28T00:00:00",
          "1989-05-05T00:00:00",
          "1989-05-12T00:00:00",
          "1989-05-19T00:00:00",
          "1989-05-26T00:00:00",
          "1989-06-02T00:00:00",
          "1989-06-09T00:00:00",
          "1989-06-16T00:00:00",
          "1989-06-23T00:00:00",
          "1989-06-30T00:00:00",
          "1989-07-07T00:00:00",
          "1989-07-14T00:00:00",
          "1989-07-21T00:00:00",
          "1989-07-28T00:00:00",
          "1989-08-04T00:00:00",
          "1989-08-11T00:00:00",
          "1989-08-18T00:00:00",
          "1989-08-25T00:00:00",
          "1989-09-01T00:00:00",
          "1989-09-08T00:00:00",
          "1989-09-15T00:00:00",
          "1989-09-22T00:00:00",
          "1989-09-29T00:00:00",
          "1989-10-06T00:00:00",
          "1989-10-13T00:00:00",
          "1989-10-20T00:00:00",
          "1989-10-27T00:00:00",
          "1989-11-03T00:00:00",
          "1989-11-10T00:00:00",
          "1989-11-17T00:00:00",
          "1989-11-24T00:00:00",
          "1989-12-01T00:00:00",
          "1989-12-08T00:00:00",
          "1989-12-15T00:00:00",
          "1989-12-22T00:00:00",
          "1989-12-29T00:00:00",
          "1990-01-05T00:00:00",
          "1990-01-12T00:00:00",
          "1990-01-19T00:00:00",
          "1990-01-26T00:00:00",
          "1990-02-02T00:00:00",
          "1990-02-09T00:00:00",
          "1990-02-16T00:00:00",
          "1990-02-23T00:00:00",
          "1990-03-02T00:00:00",
          "1990-03-09T00:00:00",
          "1990-03-16T00:00:00",
          "1990-03-23T00:00:00",
          "1990-03-30T00:00:00",
          "1990-04-06T00:00:00",
          "1990-04-13T00:00:00",
          "1990-04-20T00:00:00",
          "1990-04-27T00:00:00",
          "1990-05-04T00:00:00",
          "1990-05-11T00:00:00",
          "1990-05-18T00:00:00",
          "1990-05-25T00:00:00",
          "1990-06-01T00:00:00",
          "1990-06-08T00:00:00",
          "1990-06-15T00:00:00",
          "1990-06-22T00:00:00",
          "1990-06-29T00:00:00",
          "1990-07-06T00:00:00",
          "1990-07-13T00:00:00",
          "1990-07-20T00:00:00",
          "1990-07-27T00:00:00",
          "1990-08-03T00:00:00",
          "1990-08-10T00:00:00",
          "1990-08-17T00:00:00",
          "1990-08-24T00:00:00",
          "1990-08-31T00:00:00",
          "1990-09-07T00:00:00",
          "1990-09-14T00:00:00",
          "1990-09-21T00:00:00",
          "1990-09-28T00:00:00",
          "1990-10-05T00:00:00",
          "1990-10-12T00:00:00",
          "1990-10-19T00:00:00",
          "1990-10-26T00:00:00",
          "1990-11-02T00:00:00",
          "1990-11-09T00:00:00",
          "1990-11-16T00:00:00",
          "1990-11-23T00:00:00",
          "1990-11-30T00:00:00",
          "1990-12-07T00:00:00",
          "1990-12-14T00:00:00",
          "1990-12-21T00:00:00",
          "1990-12-28T00:00:00",
          "1991-01-04T00:00:00",
          "1991-01-11T00:00:00",
          "1991-01-18T00:00:00",
          "1991-01-25T00:00:00",
          "1991-02-01T00:00:00",
          "1991-02-08T00:00:00",
          "1991-02-15T00:00:00",
          "1991-02-22T00:00:00",
          "1991-03-01T00:00:00",
          "1991-03-08T00:00:00",
          "1991-03-15T00:00:00",
          "1991-03-22T00:00:00",
          "1991-03-29T00:00:00",
          "1991-04-05T00:00:00",
          "1991-04-12T00:00:00",
          "1991-04-19T00:00:00",
          "1991-04-26T00:00:00",
          "1991-05-03T00:00:00",
          "1991-05-10T00:00:00",
          "1991-05-17T00:00:00",
          "1991-05-24T00:00:00",
          "1991-05-31T00:00:00",
          "1991-06-07T00:00:00",
          "1991-06-14T00:00:00",
          "1991-06-21T00:00:00",
          "1991-06-28T00:00:00",
          "1991-07-05T00:00:00",
          "1991-07-12T00:00:00",
          "1991-07-19T00:00:00",
          "1991-07-26T00:00:00",
          "1991-08-02T00:00:00",
          "1991-08-09T00:00:00",
          "1991-08-16T00:00:00",
          "1991-08-23T00:00:00",
          "1991-08-30T00:00:00",
          "1991-09-06T00:00:00",
          "1991-09-13T00:00:00",
          "1991-09-20T00:00:00",
          "1991-09-27T00:00:00",
          "1991-10-04T00:00:00",
          "1991-10-11T00:00:00",
          "1991-10-18T00:00:00",
          "1991-10-25T00:00:00",
          "1991-11-01T00:00:00",
          "1991-11-08T00:00:00",
          "1991-11-15T00:00:00",
          "1991-11-22T00:00:00",
          "1991-11-29T00:00:00",
          "1991-12-06T00:00:00",
          "1991-12-13T00:00:00",
          "1991-12-20T00:00:00",
          "1991-12-27T00:00:00",
          "1992-01-03T00:00:00",
          "1992-01-10T00:00:00",
          "1992-01-17T00:00:00",
          "1992-01-24T00:00:00",
          "1992-01-31T00:00:00",
          "1992-02-07T00:00:00",
          "1992-02-14T00:00:00",
          "1992-02-21T00:00:00",
          "1992-02-28T00:00:00",
          "1992-03-06T00:00:00",
          "1992-03-13T00:00:00",
          "1992-03-20T00:00:00",
          "1992-03-27T00:00:00",
          "1992-04-03T00:00:00",
          "1992-04-10T00:00:00",
          "1992-04-17T00:00:00",
          "1992-04-24T00:00:00",
          "1992-05-01T00:00:00",
          "1992-05-08T00:00:00",
          "1992-05-15T00:00:00",
          "1992-05-22T00:00:00",
          "1992-05-29T00:00:00",
          "1992-06-05T00:00:00",
          "1992-06-12T00:00:00",
          "1992-06-19T00:00:00",
          "1992-06-26T00:00:00",
          "1992-07-03T00:00:00",
          "1992-07-10T00:00:00",
          "1992-07-17T00:00:00",
          "1992-07-24T00:00:00",
          "1992-07-31T00:00:00",
          "1992-08-07T00:00:00",
          "1992-08-14T00:00:00",
          "1992-08-21T00:00:00",
          "1992-08-28T00:00:00",
          "1992-09-04T00:00:00",
          "1992-09-11T00:00:00",
          "1992-09-18T00:00:00",
          "1992-09-24T00:00:00",
          "1992-10-02T00:00:00",
          "1992-10-09T00:00:00",
          "1992-10-16T00:00:00",
          "1992-10-23T00:00:00",
          "1992-10-30T00:00:00",
          "1992-11-06T00:00:00",
          "1992-11-13T00:00:00",
          "1992-11-20T00:00:00",
          "1992-11-27T00:00:00",
          "1992-12-04T00:00:00",
          "1992-12-11T00:00:00",
          "1992-12-18T00:00:00",
          "1992-12-25T00:00:00",
          "1992-12-31T00:00:00",
          "1993-01-08T00:00:00",
          "1993-01-15T00:00:00",
          "1993-01-22T00:00:00",
          "1993-01-29T00:00:00",
          "1993-02-05T00:00:00",
          "1993-02-12T00:00:00",
          "1993-02-19T00:00:00",
          "1993-02-26T00:00:00",
          "1993-03-05T00:00:00",
          "1993-03-12T00:00:00",
          "1993-03-19T00:00:00",
          "1993-03-26T00:00:00",
          "1993-04-02T00:00:00",
          "1993-04-09T00:00:00",
          "1993-04-16T00:00:00",
          "1993-04-23T00:00:00",
          "1993-04-30T00:00:00",
          "1993-05-07T00:00:00",
          "1993-05-14T00:00:00",
          "1993-05-21T00:00:00",
          "1993-05-28T00:00:00",
          "1993-06-04T00:00:00",
          "1993-06-11T00:00:00",
          "1993-06-18T00:00:00",
          "1993-06-25T00:00:00",
          "1993-07-02T00:00:00",
          "1993-07-09T00:00:00",
          "1993-07-16T00:00:00",
          "1993-07-23T00:00:00",
          "1993-07-30T00:00:00",
          "1993-08-06T00:00:00",
          "1993-08-13T00:00:00",
          "1993-08-20T00:00:00",
          "1993-08-27T00:00:00",
          "1993-09-03T00:00:00",
          "1993-09-10T00:00:00",
          "1993-09-17T00:00:00",
          "1993-09-24T00:00:00",
          "1993-10-01T00:00:00",
          "1993-10-08T00:00:00",
          "1993-10-15T00:00:00",
          "1993-10-22T00:00:00",
          "1993-10-29T00:00:00",
          "1993-11-05T00:00:00",
          "1993-11-12T00:00:00",
          "1993-11-19T00:00:00",
          "1993-11-26T00:00:00",
          "1993-12-04T00:00:00",
          "1993-12-10T00:00:00",
          "1993-12-17T00:00:00",
          "1993-12-24T00:00:00",
          "1993-12-31T00:00:00",
          "1994-01-07T00:00:00",
          "1994-01-14T00:00:00",
          "1994-01-21T00:00:00",
          "1994-01-28T00:00:00",
          "1994-02-04T00:00:00",
          "1994-02-11T00:00:00",
          "1994-02-18T00:00:00",
          "1994-02-25T00:00:00",
          "1994-03-04T00:00:00",
          "1994-03-11T00:00:00",
          "1994-03-18T00:00:00",
          "1994-03-25T00:00:00",
          "1994-04-01T00:00:00",
          "1994-04-08T00:00:00",
          "1994-04-15T00:00:00",
          "1994-04-22T00:00:00",
          "1994-04-29T00:00:00",
          "1994-05-06T00:00:00",
          "1994-05-13T00:00:00",
          "1994-05-20T00:00:00",
          "1994-05-27T00:00:00",
          "1994-06-03T00:00:00",
          "1994-06-10T00:00:00",
          "1994-06-17T00:00:00",
          "1994-06-24T00:00:00",
          "1994-07-01T00:00:00",
          "1994-07-08T00:00:00",
          "1994-07-15T00:00:00",
          "1994-07-22T00:00:00",
          "1994-07-29T00:00:00",
          "1994-08-05T00:00:00",
          "1994-08-12T00:00:00",
          "1994-08-19T00:00:00",
          "1994-08-26T00:00:00",
          "1994-09-02T00:00:00",
          "1994-09-09T00:00:00",
          "1994-09-16T00:00:00",
          "1994-09-23T00:00:00",
          "1994-09-30T00:00:00",
          "1994-10-07T00:00:00",
          "1994-10-14T00:00:00",
          "1994-10-21T00:00:00",
          "1994-10-28T00:00:00",
          "1994-11-04T00:00:00",
          "1994-11-11T00:00:00",
          "1994-11-18T00:00:00",
          "1994-11-25T00:00:00",
          "1994-12-02T00:00:00",
          "1994-12-09T00:00:00",
          "1994-12-16T00:00:00",
          "1994-12-23T00:00:00",
          "1994-12-30T00:00:00",
          "1995-01-06T00:00:00",
          "1995-01-13T00:00:00",
          "1995-01-20T00:00:00",
          "1995-01-27T00:00:00",
          "1995-02-03T00:00:00",
          "1995-02-10T00:00:00",
          "1995-02-17T00:00:00",
          "1995-02-24T00:00:00",
          "1995-03-03T00:00:00",
          "1995-03-10T00:00:00",
          "1995-03-17T00:00:00",
          "1995-03-24T00:00:00",
          "1995-03-31T00:00:00",
          "1995-04-07T00:00:00",
          "1995-04-14T00:00:00",
          "1995-04-21T00:00:00",
          "1995-04-28T00:00:00",
          "1995-05-05T00:00:00",
          "1995-05-12T00:00:00",
          "1995-05-19T00:00:00",
          "1995-05-26T00:00:00",
          "1995-06-02T00:00:00",
          "1995-06-09T00:00:00",
          "1995-06-16T00:00:00",
          "1995-06-23T00:00:00",
          "1995-06-30T00:00:00",
          "1995-07-07T00:00:00",
          "1995-07-14T00:00:00",
          "1995-07-21T00:00:00",
          "1995-07-28T00:00:00",
          "1995-08-04T00:00:00",
          "1995-08-11T00:00:00",
          "1995-08-18T00:00:00",
          "1995-08-25T00:00:00",
          "1995-09-01T00:00:00",
          "1995-09-08T00:00:00",
          "1995-09-15T00:00:00",
          "1995-09-22T00:00:00",
          "1995-09-29T00:00:00",
          "1995-10-06T00:00:00",
          "1995-10-13T00:00:00",
          "1995-10-20T00:00:00",
          "1995-10-27T00:00:00",
          "1995-11-03T00:00:00",
          "1995-11-09T00:00:00",
          "1995-11-17T00:00:00",
          "1995-11-24T00:00:00",
          "1995-12-01T00:00:00",
          "1995-12-08T00:00:00",
          "1995-12-15T00:00:00",
          "1995-12-22T00:00:00",
          "1995-12-29T00:00:00",
          "1996-01-05T00:00:00",
          "1996-01-12T00:00:00",
          "1996-01-19T00:00:00",
          "1996-01-26T00:00:00",
          "1996-02-02T00:00:00",
          "1996-02-09T00:00:00",
          "1996-02-16T00:00:00",
          "1996-02-23T00:00:00",
          "1996-03-01T00:00:00",
          "1996-03-08T00:00:00",
          "1996-03-15T00:00:00",
          "1996-03-22T00:00:00",
          "1996-03-29T00:00:00",
          "1996-04-05T00:00:00",
          "1996-04-12T00:00:00",
          "1996-04-19T00:00:00",
          "1996-04-26T00:00:00",
          "1996-05-03T00:00:00",
          "1996-05-10T00:00:00",
          "1996-05-17T00:00:00",
          "1996-05-24T00:00:00",
          "1996-05-31T00:00:00",
          "1996-06-07T00:00:00",
          "1996-06-14T00:00:00",
          "1996-06-21T00:00:00",
          "1996-06-28T00:00:00",
          "1996-07-05T00:00:00",
          "1996-07-12T00:00:00",
          "1996-07-19T00:00:00",
          "1996-07-26T00:00:00",
          "1996-08-02T00:00:00",
          "1996-08-09T00:00:00",
          "1996-08-16T00:00:00",
          "1996-08-23T00:00:00",
          "1996-08-30T00:00:00",
          "1996-09-06T00:00:00",
          "1996-09-13T00:00:00",
          "1996-09-20T00:00:00",
          "1996-09-27T00:00:00",
          "1996-10-04T00:00:00",
          "1996-10-11T00:00:00",
          "1996-10-18T00:00:00",
          "1996-10-25T00:00:00",
          "1996-11-01T00:00:00",
          "1996-11-08T00:00:00",
          "1996-11-15T00:00:00",
          "1996-11-22T00:00:00",
          "1996-11-29T00:00:00",
          "1996-12-06T00:00:00",
          "1996-12-13T00:00:00",
          "1996-12-20T00:00:00",
          "1996-12-27T00:00:00",
          "1997-01-03T00:00:00",
          "1997-01-10T00:00:00",
          "1997-01-17T00:00:00",
          "1997-01-24T00:00:00",
          "1997-01-31T00:00:00",
          "1997-02-07T00:00:00",
          "1997-02-14T00:00:00",
          "1997-02-21T00:00:00",
          "1997-02-28T00:00:00",
          "1997-03-07T00:00:00",
          "1997-03-14T00:00:00",
          "1997-03-21T00:00:00",
          "1997-03-28T00:00:00",
          "1997-04-04T00:00:00",
          "1997-04-11T00:00:00",
          "1997-04-18T00:00:00",
          "1997-04-25T00:00:00",
          "1997-05-02T00:00:00",
          "1997-05-09T00:00:00",
          "1997-05-16T00:00:00",
          "1997-05-23T00:00:00",
          "1997-05-30T00:00:00",
          "1997-06-06T00:00:00",
          "1997-06-13T00:00:00",
          "1997-06-20T00:00:00",
          "1997-06-27T00:00:00",
          "1997-07-04T00:00:00",
          "1997-07-11T00:00:00",
          "1997-07-18T00:00:00",
          "1997-07-25T00:00:00",
          "1997-08-01T00:00:00",
          "1997-08-08T00:00:00",
          "1997-08-15T00:00:00",
          "1997-08-22T00:00:00",
          "1997-08-29T00:00:00",
          "1997-09-05T00:00:00",
          "1997-09-12T00:00:00",
          "1997-09-19T00:00:00",
          "1997-09-26T00:00:00",
          "1997-10-03T00:00:00",
          "1997-10-10T00:00:00",
          "1997-10-17T00:00:00",
          "1997-10-24T00:00:00",
          "1997-10-31T00:00:00",
          "1997-11-07T00:00:00",
          "1997-11-14T00:00:00",
          "1997-11-21T00:00:00",
          "1997-11-28T00:00:00",
          "1997-12-05T00:00:00",
          "1997-12-12T00:00:00",
          "1997-12-19T00:00:00",
          "1997-12-26T00:00:00",
          "1998-01-02T00:00:00",
          "1998-01-09T00:00:00",
          "1998-01-16T00:00:00",
          "1998-01-23T00:00:00",
          "1998-01-30T00:00:00",
          "1998-02-06T00:00:00",
          "1998-02-13T00:00:00",
          "1998-02-20T00:00:00",
          "1998-02-28T00:00:00",
          "1998-03-06T00:00:00",
          "1998-03-13T00:00:00",
          "1998-03-20T00:00:00",
          "1998-03-27T00:00:00",
          "1998-04-03T00:00:00",
          "1998-04-10T00:00:00",
          "1998-04-17T00:00:00",
          "1998-04-24T00:00:00",
          "1998-05-01T00:00:00",
          "1998-05-08T00:00:00",
          "1998-05-15T00:00:00",
          "1998-05-22T00:00:00",
          "1998-05-29T00:00:00",
          "1998-06-05T00:00:00",
          "1998-06-12T00:00:00",
          "1998-06-19T00:00:00",
          "1998-06-26T00:00:00",
          "1998-07-03T00:00:00",
          "1998-07-10T00:00:00",
          "1998-07-17T00:00:00",
          "1998-07-24T00:00:00",
          "1998-07-31T00:00:00",
          "1998-08-07T00:00:00",
          "1998-08-14T00:00:00",
          "1998-08-21T00:00:00",
          "1998-08-28T00:00:00",
          "1998-09-04T00:00:00",
          "1998-09-11T00:00:00",
          "1998-09-18T00:00:00",
          "1998-09-25T00:00:00",
          "1998-10-02T00:00:00",
          "1998-10-09T00:00:00",
          "1998-10-16T00:00:00",
          "1998-10-23T00:00:00",
          "1998-10-30T00:00:00",
          "1998-11-06T00:00:00",
          "1998-11-13T00:00:00",
          "1998-11-20T00:00:00",
          "1998-11-27T00:00:00",
          "1998-12-04T00:00:00",
          "1998-12-11T00:00:00",
          "1998-12-18T00:00:00",
          "1998-12-25T00:00:00",
          "1998-12-31T00:00:00",
          "1999-01-08T00:00:00",
          "1999-01-15T00:00:00",
          "1999-01-22T00:00:00",
          "1999-01-29T00:00:00",
          "1999-02-05T00:00:00",
          "1999-02-12T00:00:00",
          "1999-02-19T00:00:00",
          "1999-02-26T00:00:00",
          "1999-03-05T00:00:00",
          "1999-03-12T00:00:00",
          "1999-03-19T00:00:00",
          "1999-03-26T00:00:00",
          "1999-04-02T00:00:00",
          "1999-04-09T00:00:00",
          "1999-04-16T00:00:00",
          "1999-04-23T00:00:00",
          "1999-04-30T00:00:00",
          "1999-05-07T00:00:00",
          "1999-05-14T00:00:00",
          "1999-05-21T00:00:00",
          "1999-05-28T00:00:00",
          "1999-06-04T00:00:00",
          "1999-06-11T00:00:00",
          "1999-06-18T00:00:00",
          "1999-06-25T00:00:00",
          "1999-07-02T00:00:00",
          "1999-07-09T00:00:00",
          "1999-07-16T00:00:00",
          "1999-07-23T00:00:00",
          "1999-07-30T00:00:00",
          "1999-08-06T00:00:00",
          "1999-08-13T00:00:00",
          "1999-08-20T00:00:00",
          "1999-08-27T00:00:00",
          "1999-09-03T00:00:00",
          "1999-09-10T00:00:00",
          "1999-09-17T00:00:00",
          "1999-09-24T00:00:00",
          "1999-10-01T00:00:00",
          "1999-10-08T00:00:00",
          "1999-10-15T00:00:00",
          "1999-10-22T00:00:00",
          "1999-10-29T00:00:00",
          "1999-11-05T00:00:00",
          "1999-11-12T00:00:00",
          "1999-11-19T00:00:00",
          "1999-11-26T00:00:00",
          "1999-12-03T00:00:00",
          "1999-12-10T00:00:00",
          "1999-12-17T00:00:00",
          "1999-12-24T00:00:00",
          "1999-12-31T00:00:00",
          "2000-01-07T00:00:00",
          "2000-01-14T00:00:00",
          "2000-01-21T00:00:00",
          "2000-01-28T00:00:00",
          "2000-02-04T00:00:00",
          "2000-02-11T00:00:00",
          "2000-02-18T00:00:00",
          "2000-02-25T00:00:00",
          "2000-03-03T00:00:00",
          "2000-03-10T00:00:00",
          "2000-03-17T00:00:00",
          "2000-03-24T00:00:00",
          "2000-03-31T00:00:00",
          "2000-04-07T00:00:00",
          "2000-04-14T00:00:00",
          "2000-04-21T00:00:00",
          "2000-04-28T00:00:00",
          "2000-05-05T00:00:00",
          "2000-05-12T00:00:00",
          "2000-05-19T00:00:00",
          "2000-05-26T00:00:00",
          "2000-06-02T00:00:00",
          "2000-06-09T00:00:00",
          "2000-06-16T00:00:00",
          "2000-06-23T00:00:00",
          "2000-06-30T00:00:00",
          "2000-07-07T00:00:00",
          "2000-07-14T00:00:00",
          "2000-07-21T00:00:00",
          "2000-07-28T00:00:00",
          "2000-08-04T00:00:00",
          "2000-08-11T00:00:00",
          "2000-08-18T00:00:00",
          "2000-08-25T00:00:00",
          "2000-09-01T00:00:00",
          "2000-09-08T00:00:00",
          "2000-09-15T00:00:00",
          "2000-09-22T00:00:00",
          "2000-09-29T00:00:00",
          "2000-10-06T00:00:00",
          "2000-10-13T00:00:00",
          "2000-10-20T00:00:00",
          "2000-10-27T00:00:00",
          "2000-11-03T00:00:00",
          "2000-11-10T00:00:00",
          "2000-11-17T00:00:00",
          "2000-11-24T00:00:00",
          "2000-12-01T00:00:00",
          "2000-12-08T00:00:00",
          "2000-12-15T00:00:00",
          "2000-12-22T00:00:00",
          "2000-12-29T00:00:00",
          "2001-01-05T00:00:00",
          "2001-01-12T00:00:00",
          "2001-01-19T00:00:00",
          "2001-01-26T00:00:00",
          "2001-02-02T00:00:00",
          "2001-02-09T00:00:00",
          "2001-02-16T00:00:00",
          "2001-02-23T00:00:00",
          "2001-03-02T00:00:00",
          "2001-03-09T00:00:00",
          "2001-03-16T00:00:00",
          "2001-03-23T00:00:00",
          "2001-03-30T00:00:00",
          "2001-04-06T00:00:00",
          "2001-04-13T00:00:00",
          "2001-04-20T00:00:00",
          "2001-04-27T00:00:00",
          "2001-05-04T00:00:00",
          "2001-05-11T00:00:00",
          "2001-05-18T00:00:00",
          "2001-05-25T00:00:00",
          "2001-06-01T00:00:00",
          "2001-06-08T00:00:00",
          "2001-06-15T00:00:00",
          "2001-06-22T00:00:00",
          "2001-06-29T00:00:00",
          "2001-07-06T00:00:00",
          "2001-07-13T00:00:00",
          "2001-07-20T00:00:00",
          "2001-07-27T00:00:00",
          "2001-08-03T00:00:00",
          "2001-08-10T00:00:00",
          "2001-08-17T00:00:00",
          "2001-08-24T00:00:00",
          "2001-08-31T00:00:00",
          "2001-09-07T00:00:00",
          "2001-09-14T00:00:00",
          "2001-09-21T00:00:00",
          "2001-09-28T00:00:00",
          "2001-10-05T00:00:00",
          "2001-10-12T00:00:00",
          "2001-10-19T00:00:00",
          "2001-10-26T00:00:00",
          "2001-11-02T00:00:00",
          "2001-11-09T00:00:00",
          "2001-11-16T00:00:00",
          "2001-11-23T00:00:00",
          "2001-11-30T00:00:00",
          "2001-12-07T00:00:00",
          "2001-12-14T00:00:00",
          "2001-12-21T00:00:00",
          "2001-12-28T00:00:00",
          "2002-01-04T00:00:00",
          "2002-01-11T00:00:00",
          "2002-01-18T00:00:00",
          "2002-01-25T00:00:00",
          "2002-02-01T00:00:00",
          "2002-02-08T00:00:00",
          "2002-02-15T00:00:00",
          "2002-02-22T00:00:00",
          "2002-03-01T00:00:00",
          "2002-03-08T00:00:00",
          "2002-03-15T00:00:00",
          "2002-03-22T00:00:00",
          "2002-03-29T00:00:00",
          "2002-04-05T00:00:00",
          "2002-04-12T00:00:00",
          "2002-04-19T00:00:00",
          "2002-04-26T00:00:00",
          "2002-05-03T00:00:00",
          "2002-05-10T00:00:00",
          "2002-05-17T00:00:00",
          "2002-05-24T00:00:00",
          "2002-05-31T00:00:00",
          "2002-06-07T00:00:00",
          "2002-06-14T00:00:00",
          "2002-06-21T00:00:00",
          "2002-06-28T00:00:00",
          "2002-07-05T00:00:00",
          "2002-07-12T00:00:00",
          "2002-07-19T00:00:00",
          "2002-07-26T00:00:00",
          "2002-08-02T00:00:00",
          "2002-08-09T00:00:00",
          "2002-08-16T00:00:00",
          "2002-08-23T00:00:00",
          "2002-08-30T00:00:00",
          "2002-09-06T00:00:00",
          "2002-09-13T00:00:00",
          "2002-09-20T00:00:00",
          "2002-09-27T00:00:00",
          "2002-10-04T00:00:00",
          "2002-10-11T00:00:00",
          "2002-10-18T00:00:00",
          "2002-10-25T00:00:00",
          "2002-11-01T00:00:00",
          "2002-11-08T00:00:00",
          "2002-11-15T00:00:00",
          "2002-11-22T00:00:00",
          "2002-11-29T00:00:00",
          "2002-12-06T00:00:00",
          "2002-12-13T00:00:00",
          "2002-12-20T00:00:00",
          "2002-12-27T00:00:00",
          "2003-01-03T00:00:00",
          "2003-01-10T00:00:00",
          "2003-01-17T00:00:00",
          "2003-01-24T00:00:00",
          "2003-01-31T00:00:00",
          "2003-02-07T00:00:00",
          "2003-02-14T00:00:00",
          "2003-02-21T00:00:00",
          "2003-02-28T00:00:00",
          "2003-03-07T00:00:00",
          "2003-03-14T00:00:00",
          "2003-03-21T00:00:00",
          "2003-03-28T00:00:00",
          "2003-04-04T00:00:00",
          "2003-04-11T00:00:00",
          "2003-04-18T00:00:00",
          "2003-04-25T00:00:00",
          "2003-05-02T00:00:00",
          "2003-05-09T00:00:00",
          "2003-05-16T00:00:00",
          "2003-05-23T00:00:00",
          "2003-05-30T00:00:00",
          "2003-06-06T00:00:00",
          "2003-06-13T00:00:00",
          "2003-06-20T00:00:00",
          "2003-06-27T00:00:00",
          "2003-07-04T00:00:00",
          "2003-07-11T00:00:00",
          "2003-07-18T00:00:00",
          "2003-07-25T00:00:00",
          "2003-08-01T00:00:00",
          "2003-08-08T00:00:00",
          "2003-08-15T00:00:00",
          "2003-08-22T00:00:00",
          "2003-08-29T00:00:00",
          "2003-09-05T00:00:00",
          "2003-09-12T00:00:00",
          "2003-09-19T00:00:00",
          "2003-09-26T00:00:00",
          "2003-10-03T00:00:00",
          "2003-10-10T00:00:00",
          "2003-10-17T00:00:00",
          "2003-10-24T00:00:00",
          "2003-10-31T00:00:00",
          "2003-11-07T00:00:00",
          "2003-11-14T00:00:00",
          "2003-11-21T00:00:00",
          "2003-11-28T00:00:00",
          "2003-12-05T00:00:00",
          "2003-12-12T00:00:00",
          "2003-12-19T00:00:00",
          "2003-12-26T00:00:00",
          "2003-12-31T00:00:00",
          "2004-01-08T00:00:00",
          "2004-01-15T00:00:00",
          "2004-01-22T00:00:00",
          "2004-01-29T00:00:00",
          "2004-02-05T00:00:00",
          "2004-02-12T00:00:00",
          "2004-02-19T00:00:00",
          "2004-02-26T00:00:00",
          "2004-03-04T00:00:00",
          "2004-03-11T00:00:00",
          "2004-03-18T00:00:00",
          "2004-03-25T00:00:00",
          "2004-04-01T00:00:00",
          "2004-04-08T00:00:00",
          "2004-04-15T00:00:00",
          "2004-04-22T00:00:00",
          "2004-04-29T00:00:00",
          "2004-05-06T00:00:00",
          "2004-05-13T00:00:00",
          "2004-05-20T00:00:00",
          "2004-05-27T00:00:00",
          "2004-06-03T00:00:00",
          "2004-06-10T00:00:00",
          "2004-06-17T00:00:00",
          "2004-06-24T00:00:00",
          "2004-07-01T00:00:00",
          "2004-07-08T00:00:00",
          "2004-07-15T00:00:00",
          "2004-07-22T00:00:00",
          "2004-07-29T00:00:00",
          "2004-08-05T00:00:00",
          "2004-08-12T00:00:00",
          "2004-08-19T00:00:00",
          "2004-08-26T00:00:00",
          "2004-09-02T00:00:00",
          "2004-09-09T00:00:00",
          "2004-09-16T00:00:00",
          "2004-09-23T00:00:00",
          "2004-09-30T00:00:00",
          "2004-10-07T00:00:00",
          "2004-10-14T00:00:00",
          "2004-10-21T00:00:00",
          "2004-10-28T00:00:00",
          "2004-11-04T00:00:00",
          "2004-11-11T00:00:00",
          "2004-11-18T00:00:00",
          "2004-11-24T00:00:00",
          "2004-12-02T00:00:00",
          "2004-12-09T00:00:00",
          "2004-12-16T00:00:00",
          "2004-12-22T00:00:00",
          "2004-12-29T00:00:00",
          "2005-01-06T00:00:00",
          "2005-01-13T00:00:00",
          "2005-01-20T00:00:00",
          "2005-01-27T00:00:00",
          "2005-02-03T00:00:00",
          "2005-02-10T00:00:00",
          "2005-02-17T00:00:00",
          "2005-02-24T00:00:00",
          "2005-03-03T00:00:00",
          "2005-03-10T00:00:00",
          "2005-03-17T00:00:00",
          "2005-03-24T00:00:00",
          "2005-03-31T00:00:00",
          "2005-04-07T00:00:00",
          "2005-04-14T00:00:00",
          "2005-04-21T00:00:00",
          "2005-04-28T00:00:00",
          "2005-05-05T00:00:00",
          "2005-05-12T00:00:00",
          "2005-05-19T00:00:00",
          "2005-05-26T00:00:00",
          "2005-06-02T00:00:00",
          "2005-06-09T00:00:00",
          "2005-06-16T00:00:00",
          "2005-06-23T00:00:00",
          "2005-06-30T00:00:00",
          "2005-07-07T00:00:00",
          "2005-07-14T00:00:00",
          "2005-07-21T00:00:00",
          "2005-07-28T00:00:00",
          "2005-08-04T00:00:00",
          "2005-08-11T00:00:00",
          "2005-08-18T00:00:00",
          "2005-08-25T00:00:00",
          "2005-09-01T00:00:00",
          "2005-09-08T00:00:00",
          "2005-09-15T00:00:00",
          "2005-09-22T00:00:00",
          "2005-09-29T00:00:00",
          "2005-10-06T00:00:00",
          "2005-10-13T00:00:00",
          "2005-10-20T00:00:00",
          "2005-10-27T00:00:00",
          "2005-11-03T00:00:00",
          "2005-11-10T00:00:00",
          "2005-11-17T00:00:00",
          "2005-11-23T00:00:00",
          "2005-12-01T00:00:00",
          "2005-12-08T00:00:00",
          "2005-12-15T00:00:00",
          "2005-12-22T00:00:00",
          "2005-12-29T00:00:00",
          "2006-01-05T00:00:00",
          "2006-01-12T00:00:00",
          "2006-01-19T00:00:00",
          "2006-01-26T00:00:00",
          "2006-02-02T00:00:00",
          "2006-02-09T00:00:00",
          "2006-02-16T00:00:00",
          "2006-02-23T00:00:00",
          "2006-03-02T00:00:00",
          "2006-03-09T00:00:00",
          "2006-03-16T00:00:00",
          "2006-03-23T00:00:00",
          "2006-03-30T00:00:00",
          "2006-04-06T00:00:00",
          "2006-04-13T00:00:00",
          "2006-04-20T00:00:00",
          "2006-04-27T00:00:00",
          "2006-05-04T00:00:00",
          "2006-05-11T00:00:00",
          "2006-05-18T00:00:00",
          "2006-05-25T00:00:00",
          "2006-06-01T00:00:00",
          "2006-06-08T00:00:00",
          "2006-06-15T00:00:00",
          "2006-06-22T00:00:00",
          "2006-06-29T00:00:00",
          "2006-07-06T00:00:00",
          "2006-07-13T00:00:00",
          "2006-07-20T00:00:00",
          "2006-07-27T00:00:00",
          "2006-08-03T00:00:00",
          "2006-08-10T00:00:00",
          "2006-08-17T00:00:00",
          "2006-08-24T00:00:00",
          "2006-08-31T00:00:00",
          "2006-09-07T00:00:00",
          "2006-09-14T00:00:00",
          "2006-09-21T00:00:00",
          "2006-09-28T00:00:00",
          "2006-10-05T00:00:00",
          "2006-10-12T00:00:00",
          "2006-10-19T00:00:00",
          "2006-10-26T00:00:00",
          "2006-11-02T00:00:00",
          "2006-11-09T00:00:00",
          "2006-11-16T00:00:00",
          "2006-11-22T00:00:00",
          "2006-11-30T00:00:00",
          "2006-12-07T00:00:00",
          "2006-12-14T00:00:00",
          "2006-12-21T00:00:00",
          "2006-12-28T00:00:00",
          "2007-01-04T00:00:00",
          "2007-01-11T00:00:00",
          "2007-01-18T00:00:00",
          "2007-01-25T00:00:00",
          "2007-02-01T00:00:00",
          "2007-02-08T00:00:00",
          "2007-02-15T00:00:00",
          "2007-02-22T00:00:00",
          "2007-03-01T00:00:00",
          "2007-03-08T00:00:00",
          "2007-03-15T00:00:00",
          "2007-03-22T00:00:00",
          "2007-03-29T00:00:00",
          "2007-04-05T00:00:00",
          "2007-04-12T00:00:00",
          "2007-04-19T00:00:00",
          "2007-04-26T00:00:00",
          "2007-05-03T00:00:00",
          "2007-05-10T00:00:00",
          "2007-05-17T00:00:00",
          "2007-05-24T00:00:00",
          "2007-05-31T00:00:00",
          "2007-06-07T00:00:00",
          "2007-06-14T00:00:00",
          "2007-06-21T00:00:00",
          "2007-06-28T00:00:00",
          "2007-07-05T00:00:00",
          "2007-07-12T00:00:00",
          "2007-07-19T00:00:00",
          "2007-07-26T00:00:00",
          "2007-08-02T00:00:00",
          "2007-08-09T00:00:00",
          "2007-08-16T00:00:00",
          "2007-08-23T00:00:00",
          "2007-08-30T00:00:00",
          "2007-09-06T00:00:00",
          "2007-09-13T00:00:00",
          "2007-09-20T00:00:00",
          "2007-09-27T00:00:00",
          "2007-10-04T00:00:00",
          "2007-10-11T00:00:00",
          "2007-10-18T00:00:00",
          "2007-10-25T00:00:00",
          "2007-11-01T00:00:00",
          "2007-11-08T00:00:00",
          "2007-11-15T00:00:00",
          "2007-11-21T00:00:00",
          "2007-11-29T00:00:00",
          "2007-12-06T00:00:00",
          "2007-12-13T00:00:00",
          "2007-12-20T00:00:00",
          "2007-12-27T00:00:00",
          "2008-01-03T00:00:00",
          "2008-01-10T00:00:00",
          "2008-01-17T00:00:00",
          "2008-01-24T00:00:00",
          "2008-01-31T00:00:00",
          "2008-02-07T00:00:00",
          "2008-02-14T00:00:00",
          "2008-02-21T00:00:00",
          "2008-02-28T00:00:00",
          "2008-03-06T00:00:00",
          "2008-03-13T00:00:00",
          "2008-03-20T00:00:00",
          "2008-03-27T00:00:00",
          "2008-04-03T00:00:00",
          "2008-04-10T00:00:00",
          "2008-04-17T00:00:00",
          "2008-04-24T00:00:00",
          "2008-05-01T00:00:00",
          "2008-05-08T00:00:00",
          "2008-05-15T00:00:00",
          "2008-05-22T00:00:00",
          "2008-05-29T00:00:00",
          "2008-06-05T00:00:00",
          "2008-06-12T00:00:00",
          "2008-06-19T00:00:00",
          "2008-06-26T00:00:00",
          "2008-07-03T00:00:00",
          "2008-07-10T00:00:00",
          "2008-07-17T00:00:00",
          "2008-07-24T00:00:00",
          "2008-07-31T00:00:00",
          "2008-08-07T00:00:00",
          "2008-08-14T00:00:00",
          "2008-08-21T00:00:00",
          "2008-08-28T00:00:00",
          "2008-09-04T00:00:00",
          "2008-09-11T00:00:00",
          "2008-09-18T00:00:00",
          "2008-09-25T00:00:00",
          "2008-10-02T00:00:00",
          "2008-10-09T00:00:00",
          "2008-10-16T00:00:00",
          "2008-10-23T00:00:00",
          "2008-10-30T00:00:00",
          "2008-11-06T00:00:00",
          "2008-11-13T00:00:00",
          "2008-11-20T00:00:00",
          "2008-11-26T00:00:00",
          "2008-12-04T00:00:00",
          "2008-12-11T00:00:00",
          "2008-12-18T00:00:00",
          "2008-12-24T00:00:00",
          "2008-12-31T00:00:00",
          "2009-01-08T00:00:00",
          "2009-01-15T00:00:00",
          "2009-01-22T00:00:00",
          "2009-01-29T00:00:00",
          "2009-02-05T00:00:00",
          "2009-02-12T00:00:00",
          "2009-02-19T00:00:00",
          "2009-02-26T00:00:00",
          "2009-03-05T00:00:00",
          "2009-03-12T00:00:00",
          "2009-03-19T00:00:00",
          "2009-03-26T00:00:00",
          "2009-04-02T00:00:00",
          "2009-04-09T00:00:00",
          "2009-04-16T00:00:00",
          "2009-04-23T00:00:00",
          "2009-04-30T00:00:00",
          "2009-05-07T00:00:00",
          "2009-05-14T00:00:00",
          "2009-05-21T00:00:00",
          "2009-05-28T00:00:00",
          "2009-06-04T00:00:00",
          "2009-06-11T00:00:00",
          "2009-06-18T00:00:00",
          "2009-06-25T00:00:00",
          "2009-07-02T00:00:00",
          "2009-07-09T00:00:00",
          "2009-07-16T00:00:00",
          "2009-07-23T00:00:00",
          "2009-07-30T00:00:00",
          "2009-08-06T00:00:00",
          "2009-08-13T00:00:00",
          "2009-08-20T00:00:00",
          "2009-08-27T00:00:00",
          "2009-09-03T00:00:00",
          "2009-09-10T00:00:00",
          "2009-09-17T00:00:00",
          "2009-09-24T00:00:00",
          "2009-10-01T00:00:00",
          "2009-10-08T00:00:00",
          "2009-10-15T00:00:00",
          "2009-10-22T00:00:00",
          "2009-10-29T00:00:00",
          "2009-11-05T00:00:00",
          "2009-11-12T00:00:00",
          "2009-11-19T00:00:00",
          "2009-11-25T00:00:00",
          "2009-12-03T00:00:00",
          "2009-12-10T00:00:00",
          "2009-12-17T00:00:00",
          "2009-12-24T00:00:00",
          "2009-12-31T00:00:00",
          "2010-01-07T00:00:00",
          "2010-01-14T00:00:00",
          "2010-01-21T00:00:00",
          "2010-01-28T00:00:00",
          "2010-02-04T00:00:00",
          "2010-02-11T00:00:00",
          "2010-02-18T00:00:00",
          "2010-02-25T00:00:00",
          "2010-03-04T00:00:00",
          "2010-03-11T00:00:00",
          "2010-03-18T00:00:00",
          "2010-03-25T00:00:00",
          "2010-04-01T00:00:00",
          "2010-04-08T00:00:00",
          "2010-04-15T00:00:00",
          "2010-04-22T00:00:00",
          "2010-04-29T00:00:00",
          "2010-05-06T00:00:00",
          "2010-05-13T00:00:00",
          "2010-05-20T00:00:00",
          "2010-05-27T00:00:00",
          "2010-06-03T00:00:00",
          "2010-06-10T00:00:00",
          "2010-06-17T00:00:00",
          "2010-06-24T00:00:00",
          "2010-07-01T00:00:00",
          "2010-07-08T00:00:00",
          "2010-07-15T00:00:00",
          "2010-07-22T00:00:00",
          "2010-07-29T00:00:00",
          "2010-08-05T00:00:00",
          "2010-08-12T00:00:00",
          "2010-08-19T00:00:00",
          "2010-08-26T00:00:00",
          "2010-09-02T00:00:00",
          "2010-09-09T00:00:00",
          "2010-09-16T00:00:00",
          "2010-09-23T00:00:00",
          "2010-09-30T00:00:00",
          "2010-10-07T00:00:00",
          "2010-10-14T00:00:00",
          "2010-10-21T00:00:00",
          "2010-10-28T00:00:00",
          "2010-11-04T00:00:00",
          "2010-11-11T00:00:00",
          "2010-11-18T00:00:00",
          "2010-11-24T00:00:00",
          "2010-12-02T00:00:00",
          "2010-12-09T00:00:00",
          "2010-12-16T00:00:00",
          "2010-12-23T00:00:00",
          "2010-12-30T00:00:00",
          "2011-01-06T00:00:00",
          "2011-01-13T00:00:00",
          "2011-01-20T00:00:00",
          "2011-01-27T00:00:00",
          "2011-02-03T00:00:00",
          "2011-02-10T00:00:00",
          "2011-02-17T00:00:00",
          "2011-02-24T00:00:00",
          "2011-03-03T00:00:00",
          "2011-03-10T00:00:00",
          "2011-03-17T00:00:00",
          "2011-03-24T00:00:00",
          "2011-03-31T00:00:00",
          "2011-04-07T00:00:00",
          "2011-04-14T00:00:00",
          "2011-04-21T00:00:00",
          "2011-04-28T00:00:00",
          "2011-05-05T00:00:00",
          "2011-05-12T00:00:00",
          "2011-05-19T00:00:00",
          "2011-05-26T00:00:00",
          "2011-06-02T00:00:00",
          "2011-06-09T00:00:00",
          "2011-06-16T00:00:00",
          "2011-06-23T00:00:00",
          "2011-06-30T00:00:00",
          "2011-07-07T00:00:00",
          "2011-07-14T00:00:00",
          "2011-07-21T00:00:00",
          "2011-07-28T00:00:00",
          "2011-08-04T00:00:00",
          "2011-08-11T00:00:00",
          "2011-08-18T00:00:00",
          "2011-08-25T00:00:00",
          "2011-09-01T00:00:00",
          "2011-09-08T00:00:00",
          "2011-09-15T00:00:00",
          "2011-09-22T00:00:00",
          "2011-09-29T00:00:00",
          "2011-10-06T00:00:00",
          "2011-10-13T00:00:00",
          "2011-10-20T00:00:00",
          "2011-10-27T00:00:00",
          "2011-11-03T00:00:00",
          "2011-11-10T00:00:00",
          "2011-11-17T00:00:00",
          "2011-11-23T00:00:00",
          "2011-12-01T00:00:00",
          "2011-12-08T00:00:00",
          "2011-12-15T00:00:00",
          "2011-12-22T00:00:00",
          "2011-12-29T00:00:00",
          "2012-01-05T00:00:00",
          "2012-01-12T00:00:00",
          "2012-01-19T00:00:00",
          "2012-01-26T00:00:00",
          "2012-02-02T00:00:00",
          "2012-02-09T00:00:00",
          "2012-02-16T00:00:00",
          "2012-02-23T00:00:00",
          "2012-03-01T00:00:00",
          "2012-03-08T00:00:00",
          "2012-03-15T00:00:00",
          "2012-03-22T00:00:00",
          "2012-03-29T00:00:00",
          "2012-04-05T00:00:00",
          "2012-04-12T00:00:00",
          "2012-04-19T00:00:00",
          "2012-04-26T00:00:00",
          "2012-05-03T00:00:00",
          "2012-05-10T00:00:00",
          "2012-05-17T00:00:00",
          "2012-05-24T00:00:00",
          "2012-05-31T00:00:00",
          "2012-06-07T00:00:00",
          "2012-06-14T00:00:00",
          "2012-06-21T00:00:00",
          "2012-06-28T00:00:00",
          "2012-07-05T00:00:00",
          "2012-07-12T00:00:00",
          "2012-07-19T00:00:00",
          "2012-07-26T00:00:00",
          "2012-08-02T00:00:00",
          "2012-08-09T00:00:00",
          "2012-08-16T00:00:00",
          "2012-08-23T00:00:00",
          "2012-08-30T00:00:00",
          "2012-09-06T00:00:00",
          "2012-09-13T00:00:00",
          "2012-09-20T00:00:00",
          "2012-09-27T00:00:00",
          "2012-10-04T00:00:00",
          "2012-10-11T00:00:00",
          "2012-10-18T00:00:00",
          "2012-10-25T00:00:00",
          "2012-11-01T00:00:00",
          "2012-11-08T00:00:00",
          "2012-11-15T00:00:00",
          "2012-11-21T00:00:00",
          "2012-11-29T00:00:00",
          "2012-12-06T00:00:00",
          "2012-12-13T00:00:00",
          "2012-12-20T00:00:00",
          "2012-12-27T00:00:00",
          "2013-01-03T00:00:00",
          "2013-01-10T00:00:00",
          "2013-01-17T00:00:00",
          "2013-01-24T00:00:00",
          "2013-01-31T00:00:00",
          "2013-02-07T00:00:00",
          "2013-02-14T00:00:00",
          "2013-02-21T00:00:00",
          "2013-02-28T00:00:00",
          "2013-03-07T00:00:00",
          "2013-03-14T00:00:00",
          "2013-03-21T00:00:00",
          "2013-03-28T00:00:00",
          "2013-04-04T00:00:00",
          "2013-04-11T00:00:00",
          "2013-04-18T00:00:00",
          "2013-04-25T00:00:00",
          "2013-05-02T00:00:00",
          "2013-05-09T00:00:00",
          "2013-05-16T00:00:00",
          "2013-05-23T00:00:00",
          "2013-05-30T00:00:00",
          "2013-06-06T00:00:00",
          "2013-06-13T00:00:00",
          "2013-06-20T00:00:00",
          "2013-06-27T00:00:00",
          "2013-07-03T00:00:00",
          "2013-07-11T00:00:00",
          "2013-07-18T00:00:00",
          "2013-07-25T00:00:00",
          "2013-08-01T00:00:00",
          "2013-08-08T00:00:00",
          "2013-08-15T00:00:00",
          "2013-08-22T00:00:00",
          "2013-08-29T00:00:00",
          "2013-09-05T00:00:00",
          "2013-09-12T00:00:00",
          "2013-09-19T00:00:00",
          "2013-09-26T00:00:00",
          "2013-10-03T00:00:00",
          "2013-10-10T00:00:00",
          "2013-10-17T00:00:00",
          "2013-10-24T00:00:00",
          "2013-10-31T00:00:00",
          "2013-11-07T00:00:00",
          "2013-11-14T00:00:00",
          "2013-11-21T00:00:00",
          "2013-11-27T00:00:00",
          "2013-12-05T00:00:00",
          "2013-12-12T00:00:00",
          "2013-12-19T00:00:00",
          "2013-12-26T00:00:00",
          "2014-01-02T00:00:00",
          "2014-01-09T00:00:00",
          "2014-01-16T00:00:00",
          "2014-01-23T00:00:00",
          "2014-01-30T00:00:00",
          "2014-02-06T00:00:00",
          "2014-02-13T00:00:00",
          "2014-02-20T00:00:00",
          "2014-02-27T00:00:00",
          "2014-03-06T00:00:00",
          "2014-03-13T00:00:00",
          "2014-03-20T00:00:00",
          "2014-03-27T00:00:00",
          "2014-04-03T00:00:00",
          "2014-04-10T00:00:00",
          "2014-04-17T00:00:00",
          "2014-04-24T00:00:00",
          "2014-05-01T00:00:00",
          "2014-05-08T00:00:00",
          "2014-05-15T00:00:00",
          "2014-05-22T00:00:00",
          "2014-05-29T00:00:00",
          "2014-06-05T00:00:00",
          "2014-06-12T00:00:00",
          "2014-06-19T00:00:00",
          "2014-06-26T00:00:00",
          "2014-07-03T00:00:00",
          "2014-07-10T00:00:00",
          "2014-07-17T00:00:00",
          "2014-07-24T00:00:00",
          "2014-07-31T00:00:00",
          "2014-08-07T00:00:00",
          "2014-08-14T00:00:00",
          "2014-08-21T00:00:00",
          "2014-08-28T00:00:00",
          "2014-09-04T00:00:00",
          "2014-09-11T00:00:00",
          "2014-09-18T00:00:00",
          "2014-09-25T00:00:00",
          "2014-10-02T00:00:00",
          "2014-10-09T00:00:00",
          "2014-10-16T00:00:00",
          "2014-10-23T00:00:00",
          "2014-10-30T00:00:00",
          "2014-11-06T00:00:00",
          "2014-11-13T00:00:00",
          "2014-11-20T00:00:00",
          "2014-11-26T00:00:00",
          "2014-12-04T00:00:00",
          "2014-12-11T00:00:00",
          "2014-12-18T00:00:00",
          "2014-12-24T00:00:00",
          "2014-12-31T00:00:00",
          "2015-01-08T00:00:00",
          "2015-01-15T00:00:00",
          "2015-01-22T00:00:00",
          "2015-01-29T00:00:00",
          "2015-02-05T00:00:00",
          "2015-02-12T00:00:00",
          "2015-02-19T00:00:00",
          "2015-02-26T00:00:00",
          "2015-03-05T00:00:00",
          "2015-03-12T00:00:00",
          "2015-03-19T00:00:00",
          "2015-03-26T00:00:00",
          "2015-04-02T00:00:00",
          "2015-04-09T00:00:00",
          "2015-04-16T00:00:00",
          "2015-04-23T00:00:00",
          "2015-04-30T00:00:00",
          "2015-05-07T00:00:00",
          "2015-05-14T00:00:00",
          "2015-05-21T00:00:00",
          "2015-05-28T00:00:00",
          "2015-06-04T00:00:00",
          "2015-06-11T00:00:00",
          "2015-06-18T00:00:00",
          "2015-06-25T00:00:00",
          "2015-07-02T00:00:00",
          "2015-07-09T00:00:00",
          "2015-07-16T00:00:00",
          "2015-07-23T00:00:00",
          "2015-07-30T00:00:00",
          "2015-08-06T00:00:00",
          "2015-08-13T00:00:00",
          "2015-08-20T00:00:00",
          "2015-08-27T00:00:00",
          "2015-09-03T00:00:00",
          "2015-09-10T00:00:00",
          "2015-09-17T00:00:00",
          "2015-09-24T00:00:00",
          "2015-10-01T00:00:00",
          "2015-10-08T00:00:00",
          "2015-10-15T00:00:00",
          "2015-10-22T00:00:00",
          "2015-10-29T00:00:00",
          "2015-11-05T00:00:00",
          "2015-11-12T00:00:00",
          "2015-11-19T00:00:00",
          "2015-11-25T00:00:00",
          "2015-12-03T00:00:00",
          "2015-12-10T00:00:00",
          "2015-12-17T00:00:00",
          "2015-12-24T00:00:00",
          "2015-12-31T00:00:00",
          "2016-01-07T00:00:00",
          "2016-01-14T00:00:00",
          "2016-01-21T00:00:00",
          "2016-01-28T00:00:00",
          "2016-02-04T00:00:00",
          "2016-02-11T00:00:00",
          "2016-02-18T00:00:00",
          "2016-02-25T00:00:00",
          "2016-03-03T00:00:00",
          "2016-03-10T00:00:00",
          "2016-03-17T00:00:00",
          "2016-03-24T00:00:00",
          "2016-03-31T00:00:00",
          "2016-04-07T00:00:00",
          "2016-04-14T00:00:00",
          "2016-04-21T00:00:00",
          "2016-04-28T00:00:00",
          "2016-05-05T00:00:00",
          "2016-05-12T00:00:00",
          "2016-05-19T00:00:00",
          "2016-05-26T00:00:00",
          "2016-06-02T00:00:00",
          "2016-06-09T00:00:00",
          "2016-06-16T00:00:00",
          "2016-06-23T00:00:00",
          "2016-06-30T00:00:00",
          "2016-07-07T00:00:00",
          "2016-07-14T00:00:00",
          "2016-07-21T00:00:00",
          "2016-07-28T00:00:00",
          "2016-08-04T00:00:00",
          "2016-08-11T00:00:00",
          "2016-08-18T00:00:00",
          "2016-08-25T00:00:00",
          "2016-09-01T00:00:00",
          "2016-09-08T00:00:00",
          "2016-09-15T00:00:00",
          "2016-09-22T00:00:00",
          "2016-09-29T00:00:00",
          "2016-10-06T00:00:00",
          "2016-10-13T00:00:00",
          "2016-10-20T00:00:00",
          "2016-10-27T00:00:00",
          "2016-11-03T00:00:00",
          "2016-11-10T00:00:00",
          "2016-11-17T00:00:00",
          "2016-11-23T00:00:00",
          "2016-12-01T00:00:00",
          "2016-12-08T00:00:00",
          "2016-12-15T00:00:00",
          "2016-12-22T00:00:00",
          "2016-12-29T00:00:00",
          "2017-01-05T00:00:00",
          "2017-01-12T00:00:00",
          "2017-01-19T00:00:00",
          "2017-01-26T00:00:00",
          "2017-02-02T00:00:00",
          "2017-02-09T00:00:00",
          "2017-02-16T00:00:00",
          "2017-02-23T00:00:00",
          "2017-03-02T00:00:00",
          "2017-03-09T00:00:00",
          "2017-03-16T00:00:00",
          "2017-03-23T00:00:00",
          "2017-03-30T00:00:00",
          "2017-04-06T00:00:00",
          "2017-04-13T00:00:00",
          "2017-04-20T00:00:00",
          "2017-04-27T00:00:00",
          "2017-05-04T00:00:00",
          "2017-05-11T00:00:00",
          "2017-05-18T00:00:00",
          "2017-05-25T00:00:00",
          "2017-06-01T00:00:00",
          "2017-06-08T00:00:00",
          "2017-06-15T00:00:00",
          "2017-06-22T00:00:00",
          "2017-06-29T00:00:00",
          "2017-07-06T00:00:00",
          "2017-07-13T00:00:00",
          "2017-07-20T00:00:00",
          "2017-07-27T00:00:00",
          "2017-08-03T00:00:00",
          "2017-08-10T00:00:00",
          "2017-08-17T00:00:00",
          "2017-08-24T00:00:00",
          "2017-08-31T00:00:00",
          "2017-09-07T00:00:00",
          "2017-09-14T00:00:00",
          "2017-09-21T00:00:00",
          "2017-09-28T00:00:00",
          "2017-10-05T00:00:00",
          "2017-10-12T00:00:00",
          "2017-10-19T00:00:00",
          "2017-10-26T00:00:00",
          "2017-11-02T00:00:00",
          "2017-11-09T00:00:00",
          "2017-11-16T00:00:00",
          "2017-11-22T00:00:00",
          "2017-11-30T00:00:00",
          "2017-12-07T00:00:00",
          "2017-12-14T00:00:00",
          "2017-12-21T00:00:00",
          "2017-12-28T00:00:00",
          "2018-01-04T00:00:00",
          "2018-01-11T00:00:00",
          "2018-01-18T00:00:00",
          "2018-01-25T00:00:00",
          "2018-02-01T00:00:00",
          "2018-02-08T00:00:00",
          "2018-02-15T00:00:00",
          "2018-02-22T00:00:00",
          "2018-03-01T00:00:00",
          "2018-03-08T00:00:00",
          "2018-03-15T00:00:00",
          "2018-03-22T00:00:00",
          "2018-03-29T00:00:00",
          "2018-04-05T00:00:00",
          "2018-04-12T00:00:00",
          "2018-04-19T00:00:00",
          "2018-04-26T00:00:00",
          "2018-05-03T00:00:00",
          "2018-05-10T00:00:00",
          "2018-05-17T00:00:00",
          "2018-05-24T00:00:00",
          "2018-05-31T00:00:00",
          "2018-06-07T00:00:00",
          "2018-06-14T00:00:00",
          "2018-06-21T00:00:00",
          "2018-06-28T00:00:00",
          "2018-07-05T00:00:00",
          "2018-07-12T00:00:00",
          "2018-07-19T00:00:00",
          "2018-07-26T00:00:00",
          "2018-08-02T00:00:00",
          "2018-08-09T00:00:00",
          "2018-08-16T00:00:00",
          "2018-08-23T00:00:00",
          "2018-08-30T00:00:00",
          "2018-09-06T00:00:00",
          "2018-09-13T00:00:00",
          "2018-09-20T00:00:00",
          "2018-09-27T00:00:00",
          "2018-10-04T00:00:00",
          "2018-10-11T00:00:00",
          "2018-10-18T00:00:00",
          "2018-10-25T00:00:00",
          "2018-11-01T00:00:00",
          "2018-11-08T00:00:00",
          "2018-11-15T00:00:00",
          "2018-11-21T00:00:00",
          "2018-11-29T00:00:00",
          "2018-12-06T00:00:00",
          "2018-12-13T00:00:00",
          "2018-12-20T00:00:00",
          "2018-12-27T00:00:00",
          "2019-01-03T00:00:00",
          "2019-01-10T00:00:00",
          "2019-01-17T00:00:00",
          "2019-01-24T00:00:00",
          "2019-01-31T00:00:00",
          "2019-02-07T00:00:00",
          "2019-02-14T00:00:00",
          "2019-02-21T00:00:00",
          "2019-02-28T00:00:00",
          "2019-03-07T00:00:00",
          "2019-03-14T00:00:00",
          "2019-03-21T00:00:00",
          "2019-03-28T00:00:00",
          "2019-04-04T00:00:00",
          "2019-04-11T00:00:00",
          "2019-04-18T00:00:00",
          "2019-04-25T00:00:00",
          "2019-05-02T00:00:00",
          "2019-05-09T00:00:00",
          "2019-05-16T00:00:00",
          "2019-05-23T00:00:00",
          "2019-05-30T00:00:00",
          "2019-06-06T00:00:00",
          "2019-06-13T00:00:00",
          "2019-06-20T00:00:00",
          "2019-06-27T00:00:00",
          "2019-07-03T00:00:00",
          "2019-07-11T00:00:00",
          "2019-07-18T00:00:00",
          "2019-07-25T00:00:00",
          "2019-08-01T00:00:00",
          "2019-08-08T00:00:00",
          "2019-08-15T00:00:00",
          "2019-08-22T00:00:00",
          "2019-08-29T00:00:00",
          "2019-09-05T00:00:00",
          "2019-09-12T00:00:00",
          "2019-09-19T00:00:00",
          "2019-09-26T00:00:00",
          "2019-10-03T00:00:00",
          "2019-10-10T00:00:00",
          "2019-10-17T00:00:00",
          "2019-10-24T00:00:00",
          "2019-10-31T00:00:00",
          "2019-11-07T00:00:00",
          "2019-11-14T00:00:00",
          "2019-11-21T00:00:00",
          "2019-11-27T00:00:00",
          "2019-12-05T00:00:00",
          "2019-12-12T00:00:00",
          "2019-12-19T00:00:00",
          "2019-12-26T00:00:00",
          "2020-01-02T00:00:00",
          "2020-01-09T00:00:00",
          "2020-01-16T00:00:00",
          "2020-01-23T00:00:00",
          "2020-01-30T00:00:00",
          "2020-02-06T00:00:00",
          "2020-02-13T00:00:00",
          "2020-02-20T00:00:00",
          "2020-02-27T00:00:00",
          "2020-03-05T00:00:00",
          "2020-03-12T00:00:00",
          "2020-03-19T00:00:00",
          "2020-03-26T00:00:00"
         ],
         "y": [
          13.43,
          13.4,
          13.35,
          13.29,
          13.26,
          13.23,
          13.19,
          13.25,
          13.23,
          13.3,
          13.37,
          13.48,
          13.55,
          13.63,
          13.58,
          13.67,
          13.73,
          13.78,
          13.87,
          14.04,
          14.08,
          14.29,
          14.33,
          14.47,
          14.49,
          14.5,
          14.66,
          14.68,
          14.66,
          14.67,
          14.68,
          14.54,
          14.39,
          14.36,
          14.38,
          14.42,
          14.43,
          14.29,
          14.26,
          14.18,
          14.19,
          14.1,
          14.05,
          13.85,
          13.74,
          13.63,
          13.55,
          13.42,
          13.2,
          13.2,
          13.18,
          13.14,
          13.1,
          13.12,
          13.12,
          12.96,
          12.93,
          12.91,
          12.9,
          12.94,
          13.02,
          13.1,
          13.2,
          13.24,
          13.29,
          13.27,
          13.23,
          13.16,
          13.12,
          13.07,
          13.02,
          12.94,
          12.83,
          12.71,
          12.39,
          12.27,
          12.05,
          12.15,
          12.13,
          12.03,
          11.94,
          12.03,
          12.17,
          12.23,
          12.24,
          12.18,
          12.11,
          12.15,
          12.24,
          12.21,
          12.17,
          12.17,
          12.17,
          12.13,
          12.07,
          12.01,
          11.9,
          11.79,
          11.64,
          11.58,
          11.5,
          11.31,
          11.14,
          11.09,
          10.81,
          10.77,
          10.99,
          10.97,
          10.89,
          10.85,
          10.8,
          10.68,
          10.51,
          10.2,
          10.01,
          10.01,
          10.1,
          9.99,
          9.98,
          9.92,
          9.86,
          9.9,
          10,
          10.08,
          10.36,
          10.38,
          10.74,
          10.76,
          10.61,
          10.62,
          10.61,
          10.59,
          10.43,
          10.4,
          10.4,
          10.4,
          10.23,
          10.04,
          9.93,
          9.9,
          9.96,
          10.07,
          10.1,
          10.08,
          9.99,
          9.96,
          9.95,
          9.89,
          9.83,
          9.81,
          9.64,
          9.5,
          9.3,
          9.35,
          9.3,
          9.29,
          9.37,
          9.32,
          9.21,
          9.04,
          9.08,
          9.06,
          9.09,
          9.11,
          9.07,
          9.03,
          9.05,
          9.03,
          9.03,
          9.26,
          9.43,
          10.27,
          10.37,
          10.47,
          10.52,
          10.48,
          10.81,
          10.7,
          10.7,
          10.66,
          10.44,
          10.35,
          10.36,
          10.3,
          10.23,
          10.23,
          10.27,
          10.35,
          10.34,
          10.3,
          10.33,
          10.63,
          10.91,
          10.99,
          11.02,
          11.18,
          11.21,
          11.58,
          11.36,
          10.97,
          10.79,
          10.66,
          10.6,
          10.55,
          10.6,
          10.66,
          10.69,
          10.64,
          10.61,
          10.5,
          10.53,
          10.34,
          10.16,
          9.94,
          9.84,
          9.92,
          9.87,
          9.85,
          9.96,
          9.92,
          9.99,
          10.05,
          10.19,
          10.19,
          10.3,
          10.28,
          10.32,
          10.4,
          10.52,
          10.58,
          10.58,
          10.51,
          10.35,
          10.4,
          10.39,
          10.38,
          10.44,
          10.46,
          10.49,
          10.44,
          10.57,
          10.71,
          10.67,
          10.65,
          10.53,
          10.4,
          10.4,
          10.42,
          10.38,
          10.33,
          10.28,
          10.22,
          10.12,
          10.24,
          10.31,
          10.39,
          10.44,
          10.46,
          10.71,
          10.68,
          10.77,
          10.8,
          10.81,
          10.71,
          10.6,
          10.55,
          10.56,
          10.69,
          10.78,
          10.91,
          10.86,
          10.98,
          11.22,
          11.19,
          11.07,
          11.11,
          10.99,
          11.03,
          10.97,
          10.93,
          10.69,
          10.5,
          10.48,
          10.2,
          10.04,
          10.19,
          10.07,
          10.03,
          9.82,
          9.87,
          9.81,
          9.68,
          9.96,
          10.09,
          10.21,
          10.22,
          10.17,
          10.05,
          10.03,
          10.16,
          10.1,
          9.95,
          9.92,
          9.82,
          9.82,
          9.79,
          9.72,
          9.74,
          9.74,
          9.76,
          9.75,
          9.69,
          9.78,
          9.83,
          9.8,
          9.9,
          10.05,
          10.17,
          10.21,
          10.1,
          10.31,
          10.23,
          10.29,
          10.34,
          10.26,
          10.22,
          10.26,
          10.25,
          10.41,
          10.56,
          10.67,
          10.54,
          10.37,
          10.33,
          10.29,
          10.1,
          10.12,
          10.16,
          10.15,
          10.06,
          10.11,
          9.99,
          9.98,
          9.84,
          10.08,
          10.05,
          10.29,
          10.24,
          10.19,
          10.13,
          10.16,
          10.22,
          10.08,
          10.22,
          10.24,
          10.17,
          10.13,
          10.09,
          10.02,
          9.93,
          9.9,
          9.81,
          9.56,
          9.64,
          9.68,
          9.56,
          9.63,
          9.75,
          9.61,
          9.56,
          9.36,
          9.25,
          9.29,
          9.4,
          9.49,
          9.5,
          9.59,
          9.52,
          9.49,
          9.48,
          9.47,
          9.53,
          9.47,
          9.47,
          9.5,
          9.47,
          9.45,
          9.48,
          9.66,
          9.65,
          9.67,
          9.62,
          9.64,
          9.54,
          9.5,
          9.44,
          9.27,
          9.19,
          9.17,
          9.15,
          9.14,
          9.02,
          8.95,
          8.92,
          8.87,
          8.82,
          8.82,
          8.91,
          8.78,
          8.76,
          8.69,
          8.63,
          8.7,
          8.62,
          8.53,
          8.49,
          8.35,
          8.24,
          8.23,
          8.45,
          8.56,
          8.68,
          8.67,
          8.73,
          8.82,
          8.83,
          8.85,
          8.88,
          9.03,
          8.98,
          8.96,
          8.84,
          8.76,
          8.85,
          8.84,
          8.75,
          8.64,
          8.53,
          8.6,
          8.59,
          8.54,
          8.48,
          8.43,
          8.29,
          8.13,
          8.09,
          8.08,
          8.05,
          8.06,
          7.96,
          7.87,
          8.01,
          7.94,
          7.84,
          7.89,
          8.02,
          7.93,
          8.01,
          8.06,
          8.23,
          8.21,
          8.29,
          8.32,
          8.32,
          8.29,
          8.34,
          8.23,
          8.19,
          8.13,
          8.14,
          8.07,
          8.04,
          8,
          7.86,
          7.8,
          7.75,
          7.65,
          7.53,
          7.44,
          7.47,
          7.57,
          7.5,
          7.53,
          7.57,
          7.45,
          7.38,
          7.43,
          7.42,
          7.42,
          7.52,
          7.5,
          7.47,
          7.48,
          7.38,
          7.34,
          7.23,
          7.19,
          7.16,
          7.2,
          7.25,
          7.21,
          7.17,
          7.1,
          6.97,
          6.93,
          6.82,
          6.96,
          6.95,
          6.89,
          6.87,
          6.81,
          6.74,
          6.86,
          7.11,
          7.12,
          7.08,
          7.31,
          7.25,
          7.14,
          7.17,
          7.17,
          7.13,
          7.23,
          6.99,
          7.05,
          6.97,
          6.97,
          7.21,
          7.11,
          7.32,
          7.51,
          7.63,
          7.76,
          7.8,
          8.04,
          8.47,
          8.26,
          8.49,
          8.32,
          8.53,
          8.77,
          8.56,
          8.53,
          8.55,
          8.25,
          8.33,
          8.46,
          8.57,
          8.68,
          8.72,
          8.53,
          8.57,
          8.38,
          8.57,
          8.54,
          8.56,
          8.48,
          8.51,
          8.66,
          8.73,
          8.82,
          8.89,
          8.93,
          8.85,
          9.03,
          9.05,
          9.19,
          9.19,
          9.25,
          9.23,
          9.15,
          9.25,
          9.18,
          9.18,
          9.22,
          9.19,
          9.05,
          9.13,
          8.94,
          8.8,
          8.84,
          8.73,
          8.53,
          8.62,
          8.38,
          8.4,
          8.38,
          8.41,
          8.37,
          8.24,
          8.26,
          8.27,
          7.87,
          7.83,
          7.85,
          7.71,
          7.51,
          7.55,
          7.53,
          7.53,
          7.63,
          7.41,
          7.6,
          7.79,
          7.82,
          7.8,
          7.94,
          7.88,
          7.76,
          7.63,
          7.6,
          7.57,
          7.62,
          7.57,
          7.5,
          7.38,
          7.45,
          7.44,
          7.37,
          7.35,
          7.35,
          7.33,
          7.18,
          7.15,
          7.23,
          7.11,
          7.02,
          7.08,
          7.02,
          7,
          7.02,
          7.02,
          6.94,
          7.32,
          7.41,
          7.38,
          7.83,
          7.81,
          7.69,
          7.78,
          8.05,
          7.95,
          7.92,
          7.99,
          8.24,
          8.08,
          8.01,
          8.03,
          8.3,
          8.39,
          8.3,
          8.29,
          8.14,
          8.42,
          8.23,
          8.19,
          8.23,
          7.88,
          7.88,
          7.93,
          8.09,
          8.34,
          8.28,
          8.14,
          8.16,
          8.06,
          7.86,
          7.88,
          7.86,
          7.78,
          7.67,
          7.59,
          7.53,
          7.52,
          7.44,
          7.57,
          7.74,
          7.64,
          7.67,
          7.85,
          7.87,
          7.85,
          7.88,
          7.74,
          7.65,
          7.56,
          7.65,
          7.84,
          7.84,
          7.94,
          7.97,
          8.18,
          8.15,
          8.16,
          8.08,
          8.01,
          7.94,
          7.91,
          7.92,
          7.94,
          7.85,
          7.72,
          7.61,
          7.58,
          7.62,
          7.47,
          7.47,
          7.43,
          7.36,
          7.46,
          7.54,
          7.46,
          7.58,
          7.53,
          7.53,
          7.38,
          7.28,
          7.31,
          7.26,
          7.34,
          7.35,
          7.21,
          7.24,
          7.23,
          7.18,
          7.17,
          7.15,
          7.17,
          7.07,
          6.99,
          7.03,
          6.94,
          6.89,
          6.99,
          7.12,
          7.03,
          7.06,
          6.99,
          7.09,
          7.19,
          7.16,
          7.08,
          7.08,
          7.15,
          7.09,
          7.17,
          7.15,
          7.22,
          7.14,
          7.19,
          7.1,
          7.07,
          7.05,
          7.04,
          6.94,
          6.96,
          6.98,
          6.91,
          6.94,
          6.96,
          6.97,
          6.94,
          6.91,
          6.92,
          6.92,
          6.82,
          6.77,
          6.66,
          6.64,
          6.6,
          6.49,
          6.9,
          6.73,
          6.83,
          6.89,
          6.93,
          6.86,
          6.78,
          6.71,
          6.69,
          6.69,
          6.77,
          6.83,
          6.79,
          6.83,
          6.78,
          6.74,
          6.75,
          6.77,
          6.82,
          6.89,
          7.06,
          7.11,
          7.01,
          6.98,
          6.98,
          6.92,
          6.87,
          6.88,
          6.93,
          7.02,
          7.1,
          7.23,
          7.23,
          7.41,
          7.51,
          7.65,
          7.63,
          7.71,
          7.65,
          7.58,
          7.52,
          7.7,
          7.89,
          8.15,
          7.93,
          7.8,
          7.83,
          7.88,
          7.82,
          7.76,
          7.7,
          7.82,
          7.85,
          7.93,
          7.96,
          7.84,
          7.67,
          7.69,
          7.75,
          7.84,
          7.84,
          7.86,
          7.96,
          8.06,
          8.15,
          8.18,
          8.26,
          8.25,
          8.25,
          8.36,
          8.38,
          8.31,
          8.27,
          8.23,
          8.24,
          8.23,
          8.23,
          8.2,
          8.12,
          8.16,
          8.13,
          8.28,
          8.52,
          8.64,
          8.62,
          8.54,
          8.32,
          8.22,
          8.14,
          8.22,
          8.16,
          8.09,
          8.21,
          8.13,
          8.12,
          8.04,
          7.96,
          7.99,
          7.96,
          7.94,
          7.88,
          7.9,
          7.88,
          7.83,
          7.84,
          7.83,
          7.68,
          7.73,
          7.79,
          7.73,
          7.73,
          7.65,
          7.54,
          7.42,
          7.17,
          7.13,
          7.07,
          6.89,
          7.02,
          7.15,
          7.09,
          6.98,
          7.01,
          7.12,
          7.03,
          6.97,
          6.96,
          6.89,
          6.91,
          7.01,
          7.04,
          7.14,
          7.12,
          7.14,
          7.1,
          7.14,
          7.2,
          7.24,
          7.2,
          7.14,
          7.11,
          7.11,
          7.19,
          7.21,
          7.08,
          7.03,
          7,
          7,
          6.92,
          6.91,
          6.92,
          6.89,
          6.86,
          6.8,
          6.72,
          6.64,
          6.58,
          6.61,
          6.64,
          6.56,
          6.45,
          6.51,
          6.75,
          7.02,
          6.84,
          7.09,
          7.17,
          7.16,
          7.14,
          7.06,
          6.83,
          6.96,
          7.02,
          6.88,
          6.86,
          6.81,
          6.8,
          6.87,
          7.08,
          7.14,
          7.18,
          7.13,
          6.99,
          6.94,
          6.88,
          6.78,
          6.79,
          6.89,
          6.81,
          6.76,
          6.71,
          6.71,
          6.63,
          6.55,
          6.57,
          6.54,
          6.49,
          6.34,
          6.43,
          6.31,
          6.22,
          6.27,
          6.22,
          6.15,
          6.18,
          6.05,
          5.99,
          6.01,
          5.98,
          6.15,
          6.31,
          6.13,
          6.11,
          5.94,
          6.03,
          6.13,
          6.19,
          6.04,
          6.03,
          5.93,
          5.85,
          5.95,
          5.97,
          5.91,
          5.9,
          5.88,
          5.86,
          5.84,
          5.79,
          5.67,
          5.61,
          5.79,
          5.91,
          5.79,
          5.85,
          5.82,
          5.79,
          5.7,
          5.62,
          5.45,
          5.34,
          5.31,
          5.26,
          5.21,
          5.21,
          5.24,
          5.4,
          5.52,
          5.67,
          5.94,
          6.14,
          6.34,
          6.24,
          6.28,
          6.32,
          6.44,
          6.16,
          6.01,
          5.98,
          5.77,
          5.95,
          6.05,
          6.05,
          5.94,
          5.98,
          6.03,
          5.83,
          5.89,
          6.02,
          5.88,
          5.82,
          5.81,
          5.85,
          5.87,
          5.66,
          5.64,
          5.68,
          5.72,
          5.66,
          5.58,
          5.58,
          5.59,
          5.41,
          5.38,
          5.4,
          5.52,
          5.79,
          5.89,
          5.94,
          6.01,
          6.12,
          6.34,
          6.3,
          6.32,
          6.28,
          6.3,
          6.32,
          6.25,
          6.21,
          6.01,
          6,
          5.98,
          6.08,
          5.99,
          5.85,
          5.81,
          5.82,
          5.77,
          5.83,
          5.75,
          5.7,
          5.72,
          5.82,
          5.74,
          5.69,
          5.64,
          5.7,
          5.76,
          5.74,
          5.72,
          5.81,
          5.71,
          5.68,
          5.75,
          5.81,
          5.77,
          5.74,
          5.67,
          5.66,
          5.63,
          5.57,
          5.62,
          5.69,
          5.79,
          5.85,
          5.95,
          6.01,
          6.04,
          5.93,
          5.91,
          5.8,
          5.78,
          5.75,
          5.77,
          5.71,
          5.65,
          5.62,
          5.56,
          5.63,
          5.57,
          5.53,
          5.62,
          5.66,
          5.73,
          5.77,
          5.82,
          5.89,
          5.8,
          5.77,
          5.71,
          5.71,
          5.74,
          5.8,
          5.91,
          5.98,
          6.03,
          6.1,
          6.15,
          6.31,
          6.36,
          6.37,
          6.28,
          6.26,
          6.32,
          6.3,
          6.26,
          6.22,
          6.21,
          6.15,
          6.1,
          6.12,
          6.23,
          6.24,
          6.28,
          6.26,
          6.24,
          6.37,
          6.34,
          6.32,
          6.35,
          6.43,
          6.49,
          6.53,
          6.58,
          6.59,
          6.58,
          6.6,
          6.62,
          6.67,
          6.62,
          6.63,
          6.71,
          6.78,
          6.79,
          6.74,
          6.8,
          6.72,
          6.63,
          6.55,
          6.52,
          6.48,
          6.44,
          6.47,
          6.43,
          6.4,
          6.31,
          6.3,
          6.37,
          6.36,
          6.4,
          6.31,
          6.33,
          6.24,
          6.18,
          6.14,
          6.11,
          6.12,
          6.13,
          6.18,
          6.18,
          6.21,
          6.23,
          6.25,
          6.34,
          6.28,
          6.3,
          6.22,
          6.18,
          6.14,
          6.14,
          6.16,
          6.16,
          6.17,
          6.22,
          6.17,
          6.16,
          6.16,
          6.15,
          6.21,
          6.37,
          6.42,
          6.53,
          6.74,
          6.69,
          6.67,
          6.63,
          6.73,
          6.73,
          6.69,
          6.68,
          6.59,
          6.62,
          6.52,
          6.45,
          6.46,
          6.31,
          6.34,
          6.42,
          6.37,
          6.4,
          6.4,
          6.33,
          6.26,
          6.24,
          6.24,
          6.2,
          6.1,
          5.96,
          6.11,
          6.14,
          6.17,
          6.07,
          5.87,
          5.69,
          5.48,
          5.68,
          5.67,
          5.72,
          6.04,
          6.24,
          6.03,
          6.13,
          5.87,
          5.85,
          5.88,
          5.88,
          5.88,
          6.03,
          6.06,
          6.05,
          6.01,
          5.98,
          6.08,
          6.09,
          6.32,
          6.42,
          6.45,
          6.35,
          6.37,
          6.26,
          6.63,
          6.52,
          6.52,
          6.52,
          6.47,
          6.4,
          6.35,
          5.93,
          5.78,
          6.09,
          6.1,
          5.94,
          6.46,
          6.04,
          6.46,
          6.2,
          6.14,
          6.04,
          5.97,
          5.53,
          5.47,
          5.19,
          5.14,
          5.1,
          5.01,
          4.96,
          5.12,
          5.1,
          5.25,
          5.16,
          5.04,
          5.07,
          5.15,
          5.03,
          4.98,
          4.85,
          4.78,
          4.87,
          4.82,
          4.8,
          4.78,
          4.84,
          4.86,
          4.82,
          4.91,
          5.29,
          5.59,
          5.38,
          5.42,
          5.32,
          5.2,
          5.14,
          5.2,
          5.25,
          5.22,
          5.29,
          5.12,
          5.14,
          5.08,
          5.07,
          5.04,
          5.04,
          4.94,
          4.87,
          4.92,
          5,
          5.03,
          4.98,
          4.91,
          4.83,
          4.78,
          4.71,
          4.81,
          4.94,
          5.05,
          5.14,
          5.09,
          5.06,
          4.99,
          4.98,
          5.01,
          4.97,
          4.93,
          5.05,
          4.97,
          4.95,
          4.96,
          4.99,
          5.08,
          5.21,
          5.07,
          5.07,
          5.06,
          5,
          4.93,
          4.84,
          4.78,
          4.79,
          4.72,
          4.75,
          4.69,
          4.58,
          4.57,
          4.57,
          4.56,
          4.54,
          4.49,
          4.44,
          4.42,
          4.36,
          4.32,
          4.35,
          4.37,
          4.37,
          4.32,
          4.27,
          4.19,
          4.21,
          4.23,
          4.24,
          4.17,
          4.39,
          4.4,
          4.46,
          4.61,
          4.83,
          4.81,
          4.86,
          4.77,
          4.71,
          4.74,
          4.8,
          4.81,
          5.05,
          5,
          4.95,
          4.87,
          4.88,
          4.76,
          4.81,
          4.86,
          4.87,
          4.91,
          4.8,
          4.78,
          4.71,
          4.63,
          4.61,
          4.6,
          4.55,
          4.49,
          4.5,
          4.5,
          4.51,
          4.6,
          4.51,
          4.52,
          4.55,
          4.39,
          4.32,
          4.15,
          4.22,
          4.22,
          4.12,
          4.09,
          4.09,
          4.01,
          3.94,
          4.12,
          4.11,
          4.1,
          4,
          3.99,
          4,
          3.98,
          4,
          3.99,
          3.94,
          3.91,
          3.95,
          3.91,
          3.89,
          3.88,
          3.98,
          3.87,
          3.87,
          3.87,
          3.95,
          3.9,
          3.88,
          3.92,
          4.08,
          3.99,
          3.98,
          3.88,
          3.9,
          3.88,
          3.84,
          3.83,
          3.79,
          3.78,
          3.75,
          3.67,
          3.71,
          3.66,
          3.66,
          3.62,
          3.56,
          3.53,
          3.49,
          3.55,
          3.59,
          3.62,
          3.66,
          3.59,
          3.55,
          3.55,
          3.49,
          3.4,
          3.36,
          3.39,
          3.37,
          3.41,
          3.39,
          3.4,
          3.34,
          3.31,
          3.32,
          3.34,
          3.32,
          3.37,
          3.35,
          3.34,
          3.4,
          3.38,
          3.42,
          3.53,
          3.53,
          3.53,
          3.56,
          3.51,
          3.52,
          3.63,
          3.54,
          3.57,
          3.54,
          3.43,
          3.41,
          3.4,
          3.35,
          3.42,
          3.51,
          3.59,
          3.81,
          3.91,
          3.98,
          3.93,
          4.46,
          4.29,
          4.51,
          4.37,
          4.31,
          4.39,
          4.4,
          4.4,
          4.58,
          4.51,
          4.57,
          4.57,
          4.5,
          4.32,
          4.22,
          4.23,
          4.28,
          4.13,
          4.1,
          4.16,
          4.35,
          4.22,
          4.29,
          4.46,
          4.42,
          4.47,
          4.48,
          4.53,
          4.51,
          4.41,
          4.39,
          4.32,
          4.23,
          4.28,
          4.33,
          4.37,
          4.28,
          4.37,
          4.32,
          4.4,
          4.41,
          4.34,
          4.27,
          4.33,
          4.29,
          4.21,
          4.2,
          4.14,
          4.12,
          4.14,
          4.2,
          4.17,
          4.14,
          4.12,
          4.15,
          4.13,
          4.13,
          4.12,
          4.14,
          4.12,
          4.1,
          4.1,
          4.1,
          4.12,
          4.23,
          4.2,
          4.19,
          4.12,
          3.97,
          3.92,
          3.98,
          4.02,
          4.01,
          3.99,
          3.97,
          3.89,
          3.93,
          3.8,
          3.83,
          3.87,
          3.73,
          3.66,
          3.63,
          3.66,
          3.59,
          3.69,
          3.76,
          3.8,
          3.75,
          3.86,
          3.78,
          3.69,
          3.7,
          3.66,
          3.67,
          3.65,
          3.68,
          3.8,
          3.85,
          3.84,
          3.87,
          3.87,
          4.04,
          4,
          4.02,
          4.08,
          4.04,
          4.09,
          4.04,
          3.98,
          3.91,
          3.94,
          3.93,
          3.84,
          3.89,
          3.9,
          3.91,
          3.86,
          3.85,
          3.76,
          3.82,
          3.79,
          3.76,
          3.87,
          3.98,
          3.97,
          3.95,
          3.93,
          3.95,
          3.97,
          3.96,
          4.01,
          3.97,
          3.92,
          3.81,
          3.79,
          3.72,
          3.65,
          3.65,
          3.62,
          3.64,
          3.68,
          3.73,
          3.71,
          3.71,
          3.59,
          3.58,
          3.59,
          3.66,
          3.61,
          3.57,
          3.58,
          3.64,
          3.66,
          3.6,
          3.54,
          3.56,
          3.48,
          3.41,
          3.42,
          3.45,
          3.48,
          3.43,
          3.45,
          3.43,
          3.43,
          3.46,
          3.44,
          3.5,
          3.48,
          3.42,
          3.42,
          3.47,
          3.52,
          3.47,
          3.54,
          3.57,
          3.94,
          4.03,
          4.08,
          4.13,
          4.16,
          4.3,
          4.32,
          4.2,
          4.12,
          4.09,
          4.19,
          4.19,
          4.17,
          4.15,
          4.16,
          4.1,
          4.21,
          4.3,
          4.23,
          4.14,
          4.1,
          4.08,
          3.97,
          4.03,
          4.02,
          4.05,
          4.02,
          3.95,
          3.94,
          3.89,
          3.91,
          3.9,
          3.88,
          3.96,
          4.03,
          3.96,
          3.92,
          3.93,
          3.9,
          3.89,
          3.86,
          3.82,
          3.78,
          3.78,
          3.83,
          3.83,
          3.85,
          3.91,
          3.88,
          3.94,
          3.94,
          3.9,
          3.95,
          3.92,
          3.9,
          3.94,
          3.93,
          3.94,
          3.99,
          3.95,
          3.99,
          4.04,
          4.15,
          4.22,
          4.32,
          4.38,
          4.4,
          4.43,
          4.46,
          4.44,
          4.45,
          4.44,
          4.4,
          4.42,
          4.47,
          4.58,
          4.55,
          4.55,
          4.61,
          4.66,
          4.56,
          4.54,
          4.62,
          4.57,
          4.55,
          4.52,
          4.53,
          4.52,
          4.54,
          4.6,
          4.59,
          4.53,
          4.51,
          4.52,
          4.54,
          4.6,
          4.65,
          4.72,
          4.71,
          4.9,
          4.85,
          4.86,
          4.83,
          4.94,
          4.94,
          4.81,
          4.81,
          4.75,
          4.63,
          4.62,
          4.55,
          4.51,
          4.45,
          4.45,
          4.45,
          4.46,
          4.41,
          4.37,
          4.35,
          4.35,
          4.41,
          4.31,
          4.28,
          4.06,
          4.08,
          4.12,
          4.17,
          4.2,
          4.14,
          4.1,
          4.07,
          4.06,
          3.99,
          3.82,
          3.82,
          3.84,
          3.73,
          3.75,
          3.75,
          3.81,
          3.75,
          3.75,
          3.6,
          3.6,
          3.55,
          3.58,
          3.49,
          3.56,
          3.73,
          3.64,
          3.65,
          3.57,
          3.69,
          3.75,
          3.78,
          3.69,
          3.75,
          3.66,
          3.68,
          3.68,
          3.73,
          3.73,
          3.74,
          3.72,
          3.64,
          3.65,
          3.6,
          3.51,
          3.45,
          3.47,
          3.49,
          3.45,
          3.29,
          3.36,
          3.65,
          3.5
         ]
        },
        {
         "marker": {
          "color": "rgb(41, 58, 143)",
          "size": 1
         },
         "mode": "markers",
         "type": "scatter",
         "x": [
          "1984-01-06T00:00:00",
          "2020-03-26T00:00:00"
         ],
         "y": [
          13.43,
          3.5
         ]
        }
       ],
       "layout": {
        "annotations": [
         {
          "font": {
           "family": "Arial",
           "size": 12
          },
          "showarrow": false,
          "text": "13",
          "x": 0.05,
          "xanchor": "right",
          "xref": "paper",
          "y": 13.43,
          "yanchor": "top"
         },
         {
          "font": {
           "family": "Arial",
           "size": 12
          },
          "showarrow": false,
          "text": "4",
          "x": 0.95,
          "xanchor": "left",
          "xref": "paper",
          "y": 3.5,
          "yanchor": "top"
         },
         {
          "font": {
           "color": "rgb(37,37,37)",
           "family": "Arial",
           "size": 22
          },
          "showarrow": false,
          "text": "Mortgage rates",
          "x": 0,
          "xanchor": "left",
          "xref": "paper",
          "y": 1.05,
          "yanchor": "bottom",
          "yref": "paper"
         },
         {
          "font": {
           "color": "rgb(150,150,150)",
           "family": "Arial",
           "size": 12
          },
          "showarrow": false,
          "text": "Source: U.S. Census Bureau",
          "x": 0,
          "xanchor": "left",
          "xref": "paper",
          "y": -0.2,
          "yanchor": "top",
          "yref": "paper"
         },
         {
          "font": {
           "color": "black",
           "family": "Arial",
           "size": 12
          },
          "showarrow": false,
          "text": "%",
          "x": 0,
          "xref": "paper",
          "y": 1.06,
          "yref": "paper"
         }
        ],
        "autosize": false,
        "height": 170,
        "margin": {
         "autoexpand": false,
         "b": 0,
         "l": 120,
         "r": 120,
         "t": 38
        },
        "plot_bgcolor": "white",
        "showlegend": false,
        "template": {
         "data": {
          "bar": [
           {
            "error_x": {
             "color": "#2a3f5f"
            },
            "error_y": {
             "color": "#2a3f5f"
            },
            "marker": {
             "line": {
              "color": "#E5ECF6",
              "width": 0.5
             }
            },
            "type": "bar"
           }
          ],
          "barpolar": [
           {
            "marker": {
             "line": {
              "color": "#E5ECF6",
              "width": 0.5
             }
            },
            "type": "barpolar"
           }
          ],
          "carpet": [
           {
            "aaxis": {
             "endlinecolor": "#2a3f5f",
             "gridcolor": "white",
             "linecolor": "white",
             "minorgridcolor": "white",
             "startlinecolor": "#2a3f5f"
            },
            "baxis": {
             "endlinecolor": "#2a3f5f",
             "gridcolor": "white",
             "linecolor": "white",
             "minorgridcolor": "white",
             "startlinecolor": "#2a3f5f"
            },
            "type": "carpet"
           }
          ],
          "choropleth": [
           {
            "colorbar": {
             "outlinewidth": 0,
             "ticks": ""
            },
            "type": "choropleth"
           }
          ],
          "contour": [
           {
            "colorbar": {
             "outlinewidth": 0,
             "ticks": ""
            },
            "colorscale": [
             [
              0,
              "#0d0887"
             ],
             [
              0.1111111111111111,
              "#46039f"
             ],
             [
              0.2222222222222222,
              "#7201a8"
             ],
             [
              0.3333333333333333,
              "#9c179e"
             ],
             [
              0.4444444444444444,
              "#bd3786"
             ],
             [
              0.5555555555555556,
              "#d8576b"
             ],
             [
              0.6666666666666666,
              "#ed7953"
             ],
             [
              0.7777777777777778,
              "#fb9f3a"
             ],
             [
              0.8888888888888888,
              "#fdca26"
             ],
             [
              1,
              "#f0f921"
             ]
            ],
            "type": "contour"
           }
          ],
          "contourcarpet": [
           {
            "colorbar": {
             "outlinewidth": 0,
             "ticks": ""
            },
            "type": "contourcarpet"
           }
          ],
          "heatmap": [
           {
            "colorbar": {
             "outlinewidth": 0,
             "ticks": ""
            },
            "colorscale": [
             [
              0,
              "#0d0887"
             ],
             [
              0.1111111111111111,
              "#46039f"
             ],
             [
              0.2222222222222222,
              "#7201a8"
             ],
             [
              0.3333333333333333,
              "#9c179e"
             ],
             [
              0.4444444444444444,
              "#bd3786"
             ],
             [
              0.5555555555555556,
              "#d8576b"
             ],
             [
              0.6666666666666666,
              "#ed7953"
             ],
             [
              0.7777777777777778,
              "#fb9f3a"
             ],
             [
              0.8888888888888888,
              "#fdca26"
             ],
             [
              1,
              "#f0f921"
             ]
            ],
            "type": "heatmap"
           }
          ],
          "heatmapgl": [
           {
            "colorbar": {
             "outlinewidth": 0,
             "ticks": ""
            },
            "colorscale": [
             [
              0,
              "#0d0887"
             ],
             [
              0.1111111111111111,
              "#46039f"
             ],
             [
              0.2222222222222222,
              "#7201a8"
             ],
             [
              0.3333333333333333,
              "#9c179e"
             ],
             [
              0.4444444444444444,
              "#bd3786"
             ],
             [
              0.5555555555555556,
              "#d8576b"
             ],
             [
              0.6666666666666666,
              "#ed7953"
             ],
             [
              0.7777777777777778,
              "#fb9f3a"
             ],
             [
              0.8888888888888888,
              "#fdca26"
             ],
             [
              1,
              "#f0f921"
             ]
            ],
            "type": "heatmapgl"
           }
          ],
          "histogram": [
           {
            "marker": {
             "colorbar": {
              "outlinewidth": 0,
              "ticks": ""
             }
            },
            "type": "histogram"
           }
          ],
          "histogram2d": [
           {
            "colorbar": {
             "outlinewidth": 0,
             "ticks": ""
            },
            "colorscale": [
             [
              0,
              "#0d0887"
             ],
             [
              0.1111111111111111,
              "#46039f"
             ],
             [
              0.2222222222222222,
              "#7201a8"
             ],
             [
              0.3333333333333333,
              "#9c179e"
             ],
             [
              0.4444444444444444,
              "#bd3786"
             ],
             [
              0.5555555555555556,
              "#d8576b"
             ],
             [
              0.6666666666666666,
              "#ed7953"
             ],
             [
              0.7777777777777778,
              "#fb9f3a"
             ],
             [
              0.8888888888888888,
              "#fdca26"
             ],
             [
              1,
              "#f0f921"
             ]
            ],
            "type": "histogram2d"
           }
          ],
          "histogram2dcontour": [
           {
            "colorbar": {
             "outlinewidth": 0,
             "ticks": ""
            },
            "colorscale": [
             [
              0,
              "#0d0887"
             ],
             [
              0.1111111111111111,
              "#46039f"
             ],
             [
              0.2222222222222222,
              "#7201a8"
             ],
             [
              0.3333333333333333,
              "#9c179e"
             ],
             [
              0.4444444444444444,
              "#bd3786"
             ],
             [
              0.5555555555555556,
              "#d8576b"
             ],
             [
              0.6666666666666666,
              "#ed7953"
             ],
             [
              0.7777777777777778,
              "#fb9f3a"
             ],
             [
              0.8888888888888888,
              "#fdca26"
             ],
             [
              1,
              "#f0f921"
             ]
            ],
            "type": "histogram2dcontour"
           }
          ],
          "mesh3d": [
           {
            "colorbar": {
             "outlinewidth": 0,
             "ticks": ""
            },
            "type": "mesh3d"
           }
          ],
          "parcoords": [
           {
            "line": {
             "colorbar": {
              "outlinewidth": 0,
              "ticks": ""
             }
            },
            "type": "parcoords"
           }
          ],
          "pie": [
           {
            "automargin": true,
            "type": "pie"
           }
          ],
          "scatter": [
           {
            "marker": {
             "colorbar": {
              "outlinewidth": 0,
              "ticks": ""
             }
            },
            "type": "scatter"
           }
          ],
          "scatter3d": [
           {
            "line": {
             "colorbar": {
              "outlinewidth": 0,
              "ticks": ""
             }
            },
            "marker": {
             "colorbar": {
              "outlinewidth": 0,
              "ticks": ""
             }
            },
            "type": "scatter3d"
           }
          ],
          "scattercarpet": [
           {
            "marker": {
             "colorbar": {
              "outlinewidth": 0,
              "ticks": ""
             }
            },
            "type": "scattercarpet"
           }
          ],
          "scattergeo": [
           {
            "marker": {
             "colorbar": {
              "outlinewidth": 0,
              "ticks": ""
             }
            },
            "type": "scattergeo"
           }
          ],
          "scattergl": [
           {
            "marker": {
             "colorbar": {
              "outlinewidth": 0,
              "ticks": ""
             }
            },
            "type": "scattergl"
           }
          ],
          "scattermapbox": [
           {
            "marker": {
             "colorbar": {
              "outlinewidth": 0,
              "ticks": ""
             }
            },
            "type": "scattermapbox"
           }
          ],
          "scatterpolar": [
           {
            "marker": {
             "colorbar": {
              "outlinewidth": 0,
              "ticks": ""
             }
            },
            "type": "scatterpolar"
           }
          ],
          "scatterpolargl": [
           {
            "marker": {
             "colorbar": {
              "outlinewidth": 0,
              "ticks": ""
             }
            },
            "type": "scatterpolargl"
           }
          ],
          "scatterternary": [
           {
            "marker": {
             "colorbar": {
              "outlinewidth": 0,
              "ticks": ""
             }
            },
            "type": "scatterternary"
           }
          ],
          "surface": [
           {
            "colorbar": {
             "outlinewidth": 0,
             "ticks": ""
            },
            "colorscale": [
             [
              0,
              "#0d0887"
             ],
             [
              0.1111111111111111,
              "#46039f"
             ],
             [
              0.2222222222222222,
              "#7201a8"
             ],
             [
              0.3333333333333333,
              "#9c179e"
             ],
             [
              0.4444444444444444,
              "#bd3786"
             ],
             [
              0.5555555555555556,
              "#d8576b"
             ],
             [
              0.6666666666666666,
              "#ed7953"
             ],
             [
              0.7777777777777778,
              "#fb9f3a"
             ],
             [
              0.8888888888888888,
              "#fdca26"
             ],
             [
              1,
              "#f0f921"
             ]
            ],
            "type": "surface"
           }
          ],
          "table": [
           {
            "cells": {
             "fill": {
              "color": "#EBF0F8"
             },
             "line": {
              "color": "white"
             }
            },
            "header": {
             "fill": {
              "color": "#C8D4E3"
             },
             "line": {
              "color": "white"
             }
            },
            "type": "table"
           }
          ]
         },
         "layout": {
          "annotationdefaults": {
           "arrowcolor": "#2a3f5f",
           "arrowhead": 0,
           "arrowwidth": 1
          },
          "coloraxis": {
           "colorbar": {
            "outlinewidth": 0,
            "ticks": ""
           }
          },
          "colorscale": {
           "diverging": [
            [
             0,
             "#8e0152"
            ],
            [
             0.1,
             "#c51b7d"
            ],
            [
             0.2,
             "#de77ae"
            ],
            [
             0.3,
             "#f1b6da"
            ],
            [
             0.4,
             "#fde0ef"
            ],
            [
             0.5,
             "#f7f7f7"
            ],
            [
             0.6,
             "#e6f5d0"
            ],
            [
             0.7,
             "#b8e186"
            ],
            [
             0.8,
             "#7fbc41"
            ],
            [
             0.9,
             "#4d9221"
            ],
            [
             1,
             "#276419"
            ]
           ],
           "sequential": [
            [
             0,
             "#0d0887"
            ],
            [
             0.1111111111111111,
             "#46039f"
            ],
            [
             0.2222222222222222,
             "#7201a8"
            ],
            [
             0.3333333333333333,
             "#9c179e"
            ],
            [
             0.4444444444444444,
             "#bd3786"
            ],
            [
             0.5555555555555556,
             "#d8576b"
            ],
            [
             0.6666666666666666,
             "#ed7953"
            ],
            [
             0.7777777777777778,
             "#fb9f3a"
            ],
            [
             0.8888888888888888,
             "#fdca26"
            ],
            [
             1,
             "#f0f921"
            ]
           ],
           "sequentialminus": [
            [
             0,
             "#0d0887"
            ],
            [
             0.1111111111111111,
             "#46039f"
            ],
            [
             0.2222222222222222,
             "#7201a8"
            ],
            [
             0.3333333333333333,
             "#9c179e"
            ],
            [
             0.4444444444444444,
             "#bd3786"
            ],
            [
             0.5555555555555556,
             "#d8576b"
            ],
            [
             0.6666666666666666,
             "#ed7953"
            ],
            [
             0.7777777777777778,
             "#fb9f3a"
            ],
            [
             0.8888888888888888,
             "#fdca26"
            ],
            [
             1,
             "#f0f921"
            ]
           ]
          },
          "colorway": [
           "#636efa",
           "#EF553B",
           "#00cc96",
           "#ab63fa",
           "#FFA15A",
           "#19d3f3",
           "#FF6692",
           "#B6E880",
           "#FF97FF",
           "#FECB52"
          ],
          "font": {
           "color": "#2a3f5f"
          },
          "geo": {
           "bgcolor": "white",
           "lakecolor": "white",
           "landcolor": "#E5ECF6",
           "showlakes": true,
           "showland": true,
           "subunitcolor": "white"
          },
          "hoverlabel": {
           "align": "left"
          },
          "hovermode": "closest",
          "mapbox": {
           "style": "light"
          },
          "paper_bgcolor": "white",
          "plot_bgcolor": "#E5ECF6",
          "polar": {
           "angularaxis": {
            "gridcolor": "white",
            "linecolor": "white",
            "ticks": ""
           },
           "bgcolor": "#E5ECF6",
           "radialaxis": {
            "gridcolor": "white",
            "linecolor": "white",
            "ticks": ""
           }
          },
          "scene": {
           "xaxis": {
            "backgroundcolor": "#E5ECF6",
            "gridcolor": "white",
            "gridwidth": 2,
            "linecolor": "white",
            "showbackground": true,
            "ticks": "",
            "zerolinecolor": "white"
           },
           "yaxis": {
            "backgroundcolor": "#E5ECF6",
            "gridcolor": "white",
            "gridwidth": 2,
            "linecolor": "white",
            "showbackground": true,
            "ticks": "",
            "zerolinecolor": "white"
           },
           "zaxis": {
            "backgroundcolor": "#E5ECF6",
            "gridcolor": "white",
            "gridwidth": 2,
            "linecolor": "white",
            "showbackground": true,
            "ticks": "",
            "zerolinecolor": "white"
           }
          },
          "shapedefaults": {
           "line": {
            "color": "#2a3f5f"
           }
          },
          "ternary": {
           "aaxis": {
            "gridcolor": "white",
            "linecolor": "white",
            "ticks": ""
           },
           "baxis": {
            "gridcolor": "white",
            "linecolor": "white",
            "ticks": ""
           },
           "bgcolor": "#E5ECF6",
           "caxis": {
            "gridcolor": "white",
            "linecolor": "white",
            "ticks": ""
           }
          },
          "title": {
           "x": 0.05
          },
          "xaxis": {
           "automargin": true,
           "gridcolor": "white",
           "linecolor": "white",
           "ticks": "",
           "title": {
            "standoff": 15
           },
           "zerolinecolor": "white",
           "zerolinewidth": 2
          },
          "yaxis": {
           "automargin": true,
           "gridcolor": "white",
           "linecolor": "white",
           "ticks": "",
           "title": {
            "standoff": 15
           },
           "zerolinecolor": "white",
           "zerolinewidth": 2
          }
         }
        },
        "updatemenus": [
         {
          "active": 0,
          "buttons": [
           {
            "args": [
             "shapes",
             []
            ],
            "label": "-",
            "method": "relayout"
           },
           {
            "args": [
             "shapes",
             [
              {
               "fillcolor": "lightgray",
               "layer": "below",
               "line": {
                "color": "white",
                "width": 0.1
               },
               "line_width": 0,
               "type": "rect",
               "x0": "1990-07-01T00:00:00",
               "x1": "1991-01-01T00:00:00",
               "xref": "x",
               "y0": 0,
               "y1": 0.97,
               "yref": "paper"
              },
              {
               "fillcolor": "lightgray",
               "layer": "below",
               "line": {
                "color": "white",
                "width": 0.1
               },
               "line_width": 0,
               "type": "rect",
               "x0": "2001-01-01T00:00:00",
               "x1": "2001-10-01T00:00:00",
               "xref": "x",
               "y0": 0,
               "y1": 0.97,
               "yref": "paper"
              },
              {
               "fillcolor": "lightgray",
               "layer": "below",
               "line": {
                "color": "white",
                "width": 0.1
               },
               "line_width": 0,
               "type": "rect",
               "x0": "2007-10-01T00:00:00",
               "x1": "2009-04-01T00:00:00",
               "xref": "x",
               "y0": 0,
               "y1": 0.97,
               "yref": "paper"
              }
             ]
            ],
            "label": "+",
            "method": "relayout"
           }
          ],
          "direction": "right",
          "type": "buttons",
          "x": 1.1,
          "y": 1.2
         }
        ],
        "width": 1020,
        "xaxis": {
         "linecolor": "rgb(204, 204, 204)",
         "linewidth": 2,
         "showgrid": true,
         "showline": true,
         "showticklabels": true,
         "tickfont": {
          "color": "rgb(82, 82, 82)",
          "family": "Arial",
          "size": 12
         },
         "ticks": "outside"
        },
        "yaxis": {
         "gridcolor": "rgb(204, 204, 204)",
         "showgrid": true,
         "showline": true,
         "showticklabels": true,
         "zeroline": false
        }
       }
      },
      "text/html": [
       "<div>\n",
       "        \n",
       "        \n",
       "            <div id=\"085833f8-3294-45a4-888e-beddc4a10b64\" class=\"plotly-graph-div\" style=\"height:170px; width:1020px;\"></div>\n",
       "            <script type=\"text/javascript\">\n",
       "                require([\"plotly\"], function(Plotly) {\n",
       "                    window.PLOTLYENV=window.PLOTLYENV || {};\n",
       "                    \n",
       "                if (document.getElementById(\"085833f8-3294-45a4-888e-beddc4a10b64\")) {\n",
       "                    Plotly.newPlot(\n",
       "                        '085833f8-3294-45a4-888e-beddc4a10b64',\n",
       "                        [{\"connectgaps\": true, \"line\": {\"color\": \"rgb(41, 58, 143)\", \"width\": 1.5}, \"mode\": \"lines\", \"name\": \"mortgage rates\", \"type\": \"scatter\", \"x\": [\"1984-01-06T00:00:00\", \"1984-01-13T00:00:00\", \"1984-01-20T00:00:00\", \"1984-01-27T00:00:00\", \"1984-02-03T00:00:00\", \"1984-02-10T00:00:00\", \"1984-02-17T00:00:00\", \"1984-02-24T00:00:00\", \"1984-03-02T00:00:00\", \"1984-03-09T00:00:00\", \"1984-03-16T00:00:00\", \"1984-03-23T00:00:00\", \"1984-03-30T00:00:00\", \"1984-04-06T00:00:00\", \"1984-04-13T00:00:00\", \"1984-04-20T00:00:00\", \"1984-04-27T00:00:00\", \"1984-05-04T00:00:00\", \"1984-05-11T00:00:00\", \"1984-05-18T00:00:00\", \"1984-05-25T00:00:00\", \"1984-06-01T00:00:00\", \"1984-06-08T00:00:00\", \"1984-06-15T00:00:00\", \"1984-06-22T00:00:00\", \"1984-06-29T00:00:00\", \"1984-07-06T00:00:00\", \"1984-07-13T00:00:00\", \"1984-07-20T00:00:00\", \"1984-07-27T00:00:00\", \"1984-08-03T00:00:00\", \"1984-08-10T00:00:00\", \"1984-08-17T00:00:00\", \"1984-08-24T00:00:00\", \"1984-08-31T00:00:00\", \"1984-09-07T00:00:00\", \"1984-09-14T00:00:00\", \"1984-09-21T00:00:00\", \"1984-09-28T00:00:00\", \"1984-10-05T00:00:00\", \"1984-10-12T00:00:00\", \"1984-10-19T00:00:00\", \"1984-10-26T00:00:00\", \"1984-11-02T00:00:00\", \"1984-11-09T00:00:00\", \"1984-11-16T00:00:00\", \"1984-11-23T00:00:00\", \"1984-11-30T00:00:00\", \"1984-12-07T00:00:00\", \"1984-12-14T00:00:00\", \"1984-12-21T00:00:00\", \"1984-12-28T00:00:00\", \"1985-01-04T00:00:00\", \"1985-01-11T00:00:00\", \"1985-01-18T00:00:00\", \"1985-01-25T00:00:00\", \"1985-02-01T00:00:00\", \"1985-02-08T00:00:00\", \"1985-02-15T00:00:00\", \"1985-02-22T00:00:00\", \"1985-03-01T00:00:00\", \"1985-03-08T00:00:00\", \"1985-03-15T00:00:00\", \"1985-03-22T00:00:00\", \"1985-03-29T00:00:00\", \"1985-04-05T00:00:00\", \"1985-04-12T00:00:00\", \"1985-04-19T00:00:00\", \"1985-04-26T00:00:00\", \"1985-05-03T00:00:00\", \"1985-05-10T00:00:00\", \"1985-05-17T00:00:00\", \"1985-05-24T00:00:00\", \"1985-05-31T00:00:00\", \"1985-06-07T00:00:00\", \"1985-06-14T00:00:00\", \"1985-06-21T00:00:00\", \"1985-06-28T00:00:00\", \"1985-07-05T00:00:00\", \"1985-07-12T00:00:00\", \"1985-07-19T00:00:00\", \"1985-07-26T00:00:00\", \"1985-08-02T00:00:00\", \"1985-08-09T00:00:00\", \"1985-08-16T00:00:00\", \"1985-08-23T00:00:00\", \"1985-08-30T00:00:00\", \"1985-09-06T00:00:00\", \"1985-09-13T00:00:00\", \"1985-09-20T00:00:00\", \"1985-09-27T00:00:00\", \"1985-10-04T00:00:00\", \"1985-10-11T00:00:00\", \"1985-10-18T00:00:00\", \"1985-10-25T00:00:00\", \"1985-11-01T00:00:00\", \"1985-11-08T00:00:00\", \"1985-11-15T00:00:00\", \"1985-11-22T00:00:00\", \"1985-11-29T00:00:00\", \"1985-12-06T00:00:00\", \"1985-12-13T00:00:00\", \"1985-12-20T00:00:00\", \"1985-12-27T00:00:00\", \"1986-01-03T00:00:00\", \"1986-01-10T00:00:00\", \"1986-01-17T00:00:00\", \"1986-01-24T00:00:00\", \"1986-01-31T00:00:00\", \"1986-02-07T00:00:00\", \"1986-02-14T00:00:00\", \"1986-02-21T00:00:00\", \"1986-02-28T00:00:00\", \"1986-03-07T00:00:00\", \"1986-03-14T00:00:00\", \"1986-03-21T00:00:00\", \"1986-03-28T00:00:00\", \"1986-04-04T00:00:00\", \"1986-04-11T00:00:00\", \"1986-04-18T00:00:00\", \"1986-04-25T00:00:00\", \"1986-05-02T00:00:00\", \"1986-05-09T00:00:00\", \"1986-05-16T00:00:00\", \"1986-05-23T00:00:00\", \"1986-05-30T00:00:00\", \"1986-06-06T00:00:00\", \"1986-06-13T00:00:00\", \"1986-06-20T00:00:00\", \"1986-06-27T00:00:00\", \"1986-07-04T00:00:00\", \"1986-07-11T00:00:00\", \"1986-07-18T00:00:00\", \"1986-07-25T00:00:00\", \"1986-08-01T00:00:00\", \"1986-08-08T00:00:00\", \"1986-08-15T00:00:00\", \"1986-08-22T00:00:00\", \"1986-08-29T00:00:00\", \"1986-09-05T00:00:00\", \"1986-09-12T00:00:00\", \"1986-09-19T00:00:00\", \"1986-09-26T00:00:00\", \"1986-10-03T00:00:00\", \"1986-10-10T00:00:00\", \"1986-10-17T00:00:00\", \"1986-10-24T00:00:00\", \"1986-10-31T00:00:00\", \"1986-11-07T00:00:00\", \"1986-11-14T00:00:00\", \"1986-11-21T00:00:00\", \"1986-11-28T00:00:00\", \"1986-12-05T00:00:00\", \"1986-12-12T00:00:00\", \"1986-12-19T00:00:00\", \"1986-12-26T00:00:00\", \"1987-01-02T00:00:00\", \"1987-01-09T00:00:00\", \"1987-01-16T00:00:00\", \"1987-01-23T00:00:00\", \"1987-01-30T00:00:00\", \"1987-02-06T00:00:00\", \"1987-02-13T00:00:00\", \"1987-02-20T00:00:00\", \"1987-02-27T00:00:00\", \"1987-03-06T00:00:00\", \"1987-03-13T00:00:00\", \"1987-03-20T00:00:00\", \"1987-03-27T00:00:00\", \"1987-04-03T00:00:00\", \"1987-04-10T00:00:00\", \"1987-04-17T00:00:00\", \"1987-04-24T00:00:00\", \"1987-05-01T00:00:00\", \"1987-05-08T00:00:00\", \"1987-05-15T00:00:00\", \"1987-05-22T00:00:00\", \"1987-05-29T00:00:00\", \"1987-06-05T00:00:00\", \"1987-06-12T00:00:00\", \"1987-06-19T00:00:00\", \"1987-06-26T00:00:00\", \"1987-07-03T00:00:00\", \"1987-07-10T00:00:00\", \"1987-07-17T00:00:00\", \"1987-07-24T00:00:00\", \"1987-07-31T00:00:00\", \"1987-08-07T00:00:00\", \"1987-08-14T00:00:00\", \"1987-08-21T00:00:00\", \"1987-08-28T00:00:00\", \"1987-09-04T00:00:00\", \"1987-09-11T00:00:00\", \"1987-09-18T00:00:00\", \"1987-09-25T00:00:00\", \"1987-10-02T00:00:00\", \"1987-10-09T00:00:00\", \"1987-10-16T00:00:00\", \"1987-10-23T00:00:00\", \"1987-10-30T00:00:00\", \"1987-11-06T00:00:00\", \"1987-11-13T00:00:00\", \"1987-11-20T00:00:00\", \"1987-11-27T00:00:00\", \"1987-12-04T00:00:00\", \"1987-12-11T00:00:00\", \"1987-12-18T00:00:00\", \"1987-12-25T00:00:00\", \"1987-12-31T00:00:00\", \"1988-01-08T00:00:00\", \"1988-01-15T00:00:00\", \"1988-01-22T00:00:00\", \"1988-01-29T00:00:00\", \"1988-02-05T00:00:00\", \"1988-02-12T00:00:00\", \"1988-02-19T00:00:00\", \"1988-02-26T00:00:00\", \"1988-03-04T00:00:00\", \"1988-03-11T00:00:00\", \"1988-03-18T00:00:00\", \"1988-03-25T00:00:00\", \"1988-04-01T00:00:00\", \"1988-04-08T00:00:00\", \"1988-04-15T00:00:00\", \"1988-04-22T00:00:00\", \"1988-04-29T00:00:00\", \"1988-05-06T00:00:00\", \"1988-05-13T00:00:00\", \"1988-05-20T00:00:00\", \"1988-05-27T00:00:00\", \"1988-06-03T00:00:00\", \"1988-06-10T00:00:00\", \"1988-06-17T00:00:00\", \"1988-06-24T00:00:00\", \"1988-07-01T00:00:00\", \"1988-07-08T00:00:00\", \"1988-07-15T00:00:00\", \"1988-07-22T00:00:00\", \"1988-07-29T00:00:00\", \"1988-08-05T00:00:00\", \"1988-08-12T00:00:00\", \"1988-08-19T00:00:00\", \"1988-08-26T00:00:00\", \"1988-09-02T00:00:00\", \"1988-09-09T00:00:00\", \"1988-09-16T00:00:00\", \"1988-09-23T00:00:00\", \"1988-09-30T00:00:00\", \"1988-10-07T00:00:00\", \"1988-10-14T00:00:00\", \"1988-10-21T00:00:00\", \"1988-10-28T00:00:00\", \"1988-11-04T00:00:00\", \"1988-11-11T00:00:00\", \"1988-11-18T00:00:00\", \"1988-11-25T00:00:00\", \"1988-12-02T00:00:00\", \"1988-12-09T00:00:00\", \"1988-12-16T00:00:00\", \"1988-12-23T00:00:00\", \"1988-12-30T00:00:00\", \"1989-01-06T00:00:00\", \"1989-01-13T00:00:00\", \"1989-01-20T00:00:00\", \"1989-01-27T00:00:00\", \"1989-02-03T00:00:00\", \"1989-02-10T00:00:00\", \"1989-02-17T00:00:00\", \"1989-02-24T00:00:00\", \"1989-03-03T00:00:00\", \"1989-03-10T00:00:00\", \"1989-03-17T00:00:00\", \"1989-03-24T00:00:00\", \"1989-03-31T00:00:00\", \"1989-04-07T00:00:00\", \"1989-04-14T00:00:00\", \"1989-04-21T00:00:00\", \"1989-04-28T00:00:00\", \"1989-05-05T00:00:00\", \"1989-05-12T00:00:00\", \"1989-05-19T00:00:00\", \"1989-05-26T00:00:00\", \"1989-06-02T00:00:00\", \"1989-06-09T00:00:00\", \"1989-06-16T00:00:00\", \"1989-06-23T00:00:00\", \"1989-06-30T00:00:00\", \"1989-07-07T00:00:00\", \"1989-07-14T00:00:00\", \"1989-07-21T00:00:00\", \"1989-07-28T00:00:00\", \"1989-08-04T00:00:00\", \"1989-08-11T00:00:00\", \"1989-08-18T00:00:00\", \"1989-08-25T00:00:00\", \"1989-09-01T00:00:00\", \"1989-09-08T00:00:00\", \"1989-09-15T00:00:00\", \"1989-09-22T00:00:00\", \"1989-09-29T00:00:00\", \"1989-10-06T00:00:00\", \"1989-10-13T00:00:00\", \"1989-10-20T00:00:00\", \"1989-10-27T00:00:00\", \"1989-11-03T00:00:00\", \"1989-11-10T00:00:00\", \"1989-11-17T00:00:00\", \"1989-11-24T00:00:00\", \"1989-12-01T00:00:00\", \"1989-12-08T00:00:00\", \"1989-12-15T00:00:00\", \"1989-12-22T00:00:00\", \"1989-12-29T00:00:00\", \"1990-01-05T00:00:00\", \"1990-01-12T00:00:00\", \"1990-01-19T00:00:00\", \"1990-01-26T00:00:00\", \"1990-02-02T00:00:00\", \"1990-02-09T00:00:00\", \"1990-02-16T00:00:00\", \"1990-02-23T00:00:00\", \"1990-03-02T00:00:00\", \"1990-03-09T00:00:00\", \"1990-03-16T00:00:00\", \"1990-03-23T00:00:00\", \"1990-03-30T00:00:00\", \"1990-04-06T00:00:00\", \"1990-04-13T00:00:00\", \"1990-04-20T00:00:00\", \"1990-04-27T00:00:00\", \"1990-05-04T00:00:00\", \"1990-05-11T00:00:00\", \"1990-05-18T00:00:00\", \"1990-05-25T00:00:00\", \"1990-06-01T00:00:00\", \"1990-06-08T00:00:00\", \"1990-06-15T00:00:00\", \"1990-06-22T00:00:00\", \"1990-06-29T00:00:00\", \"1990-07-06T00:00:00\", \"1990-07-13T00:00:00\", \"1990-07-20T00:00:00\", \"1990-07-27T00:00:00\", \"1990-08-03T00:00:00\", \"1990-08-10T00:00:00\", \"1990-08-17T00:00:00\", \"1990-08-24T00:00:00\", \"1990-08-31T00:00:00\", \"1990-09-07T00:00:00\", \"1990-09-14T00:00:00\", \"1990-09-21T00:00:00\", \"1990-09-28T00:00:00\", \"1990-10-05T00:00:00\", \"1990-10-12T00:00:00\", \"1990-10-19T00:00:00\", \"1990-10-26T00:00:00\", \"1990-11-02T00:00:00\", \"1990-11-09T00:00:00\", \"1990-11-16T00:00:00\", \"1990-11-23T00:00:00\", \"1990-11-30T00:00:00\", \"1990-12-07T00:00:00\", \"1990-12-14T00:00:00\", \"1990-12-21T00:00:00\", \"1990-12-28T00:00:00\", \"1991-01-04T00:00:00\", \"1991-01-11T00:00:00\", \"1991-01-18T00:00:00\", \"1991-01-25T00:00:00\", \"1991-02-01T00:00:00\", \"1991-02-08T00:00:00\", \"1991-02-15T00:00:00\", \"1991-02-22T00:00:00\", \"1991-03-01T00:00:00\", \"1991-03-08T00:00:00\", \"1991-03-15T00:00:00\", \"1991-03-22T00:00:00\", \"1991-03-29T00:00:00\", \"1991-04-05T00:00:00\", \"1991-04-12T00:00:00\", \"1991-04-19T00:00:00\", \"1991-04-26T00:00:00\", \"1991-05-03T00:00:00\", \"1991-05-10T00:00:00\", \"1991-05-17T00:00:00\", \"1991-05-24T00:00:00\", \"1991-05-31T00:00:00\", \"1991-06-07T00:00:00\", \"1991-06-14T00:00:00\", \"1991-06-21T00:00:00\", \"1991-06-28T00:00:00\", \"1991-07-05T00:00:00\", \"1991-07-12T00:00:00\", \"1991-07-19T00:00:00\", \"1991-07-26T00:00:00\", \"1991-08-02T00:00:00\", \"1991-08-09T00:00:00\", \"1991-08-16T00:00:00\", \"1991-08-23T00:00:00\", \"1991-08-30T00:00:00\", \"1991-09-06T00:00:00\", \"1991-09-13T00:00:00\", \"1991-09-20T00:00:00\", \"1991-09-27T00:00:00\", \"1991-10-04T00:00:00\", \"1991-10-11T00:00:00\", \"1991-10-18T00:00:00\", \"1991-10-25T00:00:00\", \"1991-11-01T00:00:00\", \"1991-11-08T00:00:00\", \"1991-11-15T00:00:00\", \"1991-11-22T00:00:00\", \"1991-11-29T00:00:00\", \"1991-12-06T00:00:00\", \"1991-12-13T00:00:00\", \"1991-12-20T00:00:00\", \"1991-12-27T00:00:00\", \"1992-01-03T00:00:00\", \"1992-01-10T00:00:00\", \"1992-01-17T00:00:00\", \"1992-01-24T00:00:00\", \"1992-01-31T00:00:00\", \"1992-02-07T00:00:00\", \"1992-02-14T00:00:00\", \"1992-02-21T00:00:00\", \"1992-02-28T00:00:00\", \"1992-03-06T00:00:00\", \"1992-03-13T00:00:00\", \"1992-03-20T00:00:00\", \"1992-03-27T00:00:00\", \"1992-04-03T00:00:00\", \"1992-04-10T00:00:00\", \"1992-04-17T00:00:00\", \"1992-04-24T00:00:00\", \"1992-05-01T00:00:00\", \"1992-05-08T00:00:00\", \"1992-05-15T00:00:00\", \"1992-05-22T00:00:00\", \"1992-05-29T00:00:00\", \"1992-06-05T00:00:00\", \"1992-06-12T00:00:00\", \"1992-06-19T00:00:00\", \"1992-06-26T00:00:00\", \"1992-07-03T00:00:00\", \"1992-07-10T00:00:00\", \"1992-07-17T00:00:00\", \"1992-07-24T00:00:00\", \"1992-07-31T00:00:00\", \"1992-08-07T00:00:00\", \"1992-08-14T00:00:00\", \"1992-08-21T00:00:00\", \"1992-08-28T00:00:00\", \"1992-09-04T00:00:00\", \"1992-09-11T00:00:00\", \"1992-09-18T00:00:00\", \"1992-09-24T00:00:00\", \"1992-10-02T00:00:00\", \"1992-10-09T00:00:00\", \"1992-10-16T00:00:00\", \"1992-10-23T00:00:00\", \"1992-10-30T00:00:00\", \"1992-11-06T00:00:00\", \"1992-11-13T00:00:00\", \"1992-11-20T00:00:00\", \"1992-11-27T00:00:00\", \"1992-12-04T00:00:00\", \"1992-12-11T00:00:00\", \"1992-12-18T00:00:00\", \"1992-12-25T00:00:00\", \"1992-12-31T00:00:00\", \"1993-01-08T00:00:00\", \"1993-01-15T00:00:00\", \"1993-01-22T00:00:00\", \"1993-01-29T00:00:00\", \"1993-02-05T00:00:00\", \"1993-02-12T00:00:00\", \"1993-02-19T00:00:00\", \"1993-02-26T00:00:00\", \"1993-03-05T00:00:00\", \"1993-03-12T00:00:00\", \"1993-03-19T00:00:00\", \"1993-03-26T00:00:00\", \"1993-04-02T00:00:00\", \"1993-04-09T00:00:00\", \"1993-04-16T00:00:00\", \"1993-04-23T00:00:00\", \"1993-04-30T00:00:00\", \"1993-05-07T00:00:00\", \"1993-05-14T00:00:00\", \"1993-05-21T00:00:00\", \"1993-05-28T00:00:00\", \"1993-06-04T00:00:00\", \"1993-06-11T00:00:00\", \"1993-06-18T00:00:00\", \"1993-06-25T00:00:00\", \"1993-07-02T00:00:00\", \"1993-07-09T00:00:00\", \"1993-07-16T00:00:00\", \"1993-07-23T00:00:00\", \"1993-07-30T00:00:00\", \"1993-08-06T00:00:00\", \"1993-08-13T00:00:00\", \"1993-08-20T00:00:00\", \"1993-08-27T00:00:00\", \"1993-09-03T00:00:00\", \"1993-09-10T00:00:00\", \"1993-09-17T00:00:00\", \"1993-09-24T00:00:00\", \"1993-10-01T00:00:00\", \"1993-10-08T00:00:00\", \"1993-10-15T00:00:00\", \"1993-10-22T00:00:00\", \"1993-10-29T00:00:00\", \"1993-11-05T00:00:00\", \"1993-11-12T00:00:00\", \"1993-11-19T00:00:00\", \"1993-11-26T00:00:00\", \"1993-12-04T00:00:00\", \"1993-12-10T00:00:00\", \"1993-12-17T00:00:00\", \"1993-12-24T00:00:00\", \"1993-12-31T00:00:00\", \"1994-01-07T00:00:00\", \"1994-01-14T00:00:00\", \"1994-01-21T00:00:00\", \"1994-01-28T00:00:00\", \"1994-02-04T00:00:00\", \"1994-02-11T00:00:00\", \"1994-02-18T00:00:00\", \"1994-02-25T00:00:00\", \"1994-03-04T00:00:00\", \"1994-03-11T00:00:00\", \"1994-03-18T00:00:00\", \"1994-03-25T00:00:00\", \"1994-04-01T00:00:00\", \"1994-04-08T00:00:00\", \"1994-04-15T00:00:00\", \"1994-04-22T00:00:00\", \"1994-04-29T00:00:00\", \"1994-05-06T00:00:00\", \"1994-05-13T00:00:00\", \"1994-05-20T00:00:00\", \"1994-05-27T00:00:00\", \"1994-06-03T00:00:00\", \"1994-06-10T00:00:00\", \"1994-06-17T00:00:00\", \"1994-06-24T00:00:00\", \"1994-07-01T00:00:00\", \"1994-07-08T00:00:00\", \"1994-07-15T00:00:00\", \"1994-07-22T00:00:00\", \"1994-07-29T00:00:00\", \"1994-08-05T00:00:00\", \"1994-08-12T00:00:00\", \"1994-08-19T00:00:00\", \"1994-08-26T00:00:00\", \"1994-09-02T00:00:00\", \"1994-09-09T00:00:00\", \"1994-09-16T00:00:00\", \"1994-09-23T00:00:00\", \"1994-09-30T00:00:00\", \"1994-10-07T00:00:00\", \"1994-10-14T00:00:00\", \"1994-10-21T00:00:00\", \"1994-10-28T00:00:00\", \"1994-11-04T00:00:00\", \"1994-11-11T00:00:00\", \"1994-11-18T00:00:00\", \"1994-11-25T00:00:00\", \"1994-12-02T00:00:00\", \"1994-12-09T00:00:00\", \"1994-12-16T00:00:00\", \"1994-12-23T00:00:00\", \"1994-12-30T00:00:00\", \"1995-01-06T00:00:00\", \"1995-01-13T00:00:00\", \"1995-01-20T00:00:00\", \"1995-01-27T00:00:00\", \"1995-02-03T00:00:00\", \"1995-02-10T00:00:00\", \"1995-02-17T00:00:00\", \"1995-02-24T00:00:00\", \"1995-03-03T00:00:00\", \"1995-03-10T00:00:00\", \"1995-03-17T00:00:00\", \"1995-03-24T00:00:00\", \"1995-03-31T00:00:00\", \"1995-04-07T00:00:00\", \"1995-04-14T00:00:00\", \"1995-04-21T00:00:00\", \"1995-04-28T00:00:00\", \"1995-05-05T00:00:00\", \"1995-05-12T00:00:00\", \"1995-05-19T00:00:00\", \"1995-05-26T00:00:00\", \"1995-06-02T00:00:00\", \"1995-06-09T00:00:00\", \"1995-06-16T00:00:00\", \"1995-06-23T00:00:00\", \"1995-06-30T00:00:00\", \"1995-07-07T00:00:00\", \"1995-07-14T00:00:00\", \"1995-07-21T00:00:00\", \"1995-07-28T00:00:00\", \"1995-08-04T00:00:00\", \"1995-08-11T00:00:00\", \"1995-08-18T00:00:00\", \"1995-08-25T00:00:00\", \"1995-09-01T00:00:00\", \"1995-09-08T00:00:00\", \"1995-09-15T00:00:00\", \"1995-09-22T00:00:00\", \"1995-09-29T00:00:00\", \"1995-10-06T00:00:00\", \"1995-10-13T00:00:00\", \"1995-10-20T00:00:00\", \"1995-10-27T00:00:00\", \"1995-11-03T00:00:00\", \"1995-11-09T00:00:00\", \"1995-11-17T00:00:00\", \"1995-11-24T00:00:00\", \"1995-12-01T00:00:00\", \"1995-12-08T00:00:00\", \"1995-12-15T00:00:00\", \"1995-12-22T00:00:00\", \"1995-12-29T00:00:00\", \"1996-01-05T00:00:00\", \"1996-01-12T00:00:00\", \"1996-01-19T00:00:00\", \"1996-01-26T00:00:00\", \"1996-02-02T00:00:00\", \"1996-02-09T00:00:00\", \"1996-02-16T00:00:00\", \"1996-02-23T00:00:00\", \"1996-03-01T00:00:00\", \"1996-03-08T00:00:00\", \"1996-03-15T00:00:00\", \"1996-03-22T00:00:00\", \"1996-03-29T00:00:00\", \"1996-04-05T00:00:00\", \"1996-04-12T00:00:00\", \"1996-04-19T00:00:00\", \"1996-04-26T00:00:00\", \"1996-05-03T00:00:00\", \"1996-05-10T00:00:00\", \"1996-05-17T00:00:00\", \"1996-05-24T00:00:00\", \"1996-05-31T00:00:00\", \"1996-06-07T00:00:00\", \"1996-06-14T00:00:00\", \"1996-06-21T00:00:00\", \"1996-06-28T00:00:00\", \"1996-07-05T00:00:00\", \"1996-07-12T00:00:00\", \"1996-07-19T00:00:00\", \"1996-07-26T00:00:00\", \"1996-08-02T00:00:00\", \"1996-08-09T00:00:00\", \"1996-08-16T00:00:00\", \"1996-08-23T00:00:00\", \"1996-08-30T00:00:00\", \"1996-09-06T00:00:00\", \"1996-09-13T00:00:00\", \"1996-09-20T00:00:00\", \"1996-09-27T00:00:00\", \"1996-10-04T00:00:00\", \"1996-10-11T00:00:00\", \"1996-10-18T00:00:00\", \"1996-10-25T00:00:00\", \"1996-11-01T00:00:00\", \"1996-11-08T00:00:00\", \"1996-11-15T00:00:00\", \"1996-11-22T00:00:00\", \"1996-11-29T00:00:00\", \"1996-12-06T00:00:00\", \"1996-12-13T00:00:00\", \"1996-12-20T00:00:00\", \"1996-12-27T00:00:00\", \"1997-01-03T00:00:00\", \"1997-01-10T00:00:00\", \"1997-01-17T00:00:00\", \"1997-01-24T00:00:00\", \"1997-01-31T00:00:00\", \"1997-02-07T00:00:00\", \"1997-02-14T00:00:00\", \"1997-02-21T00:00:00\", \"1997-02-28T00:00:00\", \"1997-03-07T00:00:00\", \"1997-03-14T00:00:00\", \"1997-03-21T00:00:00\", \"1997-03-28T00:00:00\", \"1997-04-04T00:00:00\", \"1997-04-11T00:00:00\", \"1997-04-18T00:00:00\", \"1997-04-25T00:00:00\", \"1997-05-02T00:00:00\", \"1997-05-09T00:00:00\", \"1997-05-16T00:00:00\", \"1997-05-23T00:00:00\", \"1997-05-30T00:00:00\", \"1997-06-06T00:00:00\", \"1997-06-13T00:00:00\", \"1997-06-20T00:00:00\", \"1997-06-27T00:00:00\", \"1997-07-04T00:00:00\", \"1997-07-11T00:00:00\", \"1997-07-18T00:00:00\", \"1997-07-25T00:00:00\", \"1997-08-01T00:00:00\", \"1997-08-08T00:00:00\", \"1997-08-15T00:00:00\", \"1997-08-22T00:00:00\", \"1997-08-29T00:00:00\", \"1997-09-05T00:00:00\", \"1997-09-12T00:00:00\", \"1997-09-19T00:00:00\", \"1997-09-26T00:00:00\", \"1997-10-03T00:00:00\", \"1997-10-10T00:00:00\", \"1997-10-17T00:00:00\", \"1997-10-24T00:00:00\", \"1997-10-31T00:00:00\", \"1997-11-07T00:00:00\", \"1997-11-14T00:00:00\", \"1997-11-21T00:00:00\", \"1997-11-28T00:00:00\", \"1997-12-05T00:00:00\", \"1997-12-12T00:00:00\", \"1997-12-19T00:00:00\", \"1997-12-26T00:00:00\", \"1998-01-02T00:00:00\", \"1998-01-09T00:00:00\", \"1998-01-16T00:00:00\", \"1998-01-23T00:00:00\", \"1998-01-30T00:00:00\", \"1998-02-06T00:00:00\", \"1998-02-13T00:00:00\", \"1998-02-20T00:00:00\", \"1998-02-28T00:00:00\", \"1998-03-06T00:00:00\", \"1998-03-13T00:00:00\", \"1998-03-20T00:00:00\", \"1998-03-27T00:00:00\", \"1998-04-03T00:00:00\", \"1998-04-10T00:00:00\", \"1998-04-17T00:00:00\", \"1998-04-24T00:00:00\", \"1998-05-01T00:00:00\", \"1998-05-08T00:00:00\", \"1998-05-15T00:00:00\", \"1998-05-22T00:00:00\", \"1998-05-29T00:00:00\", \"1998-06-05T00:00:00\", \"1998-06-12T00:00:00\", \"1998-06-19T00:00:00\", \"1998-06-26T00:00:00\", \"1998-07-03T00:00:00\", \"1998-07-10T00:00:00\", \"1998-07-17T00:00:00\", \"1998-07-24T00:00:00\", \"1998-07-31T00:00:00\", \"1998-08-07T00:00:00\", \"1998-08-14T00:00:00\", \"1998-08-21T00:00:00\", \"1998-08-28T00:00:00\", \"1998-09-04T00:00:00\", \"1998-09-11T00:00:00\", \"1998-09-18T00:00:00\", \"1998-09-25T00:00:00\", \"1998-10-02T00:00:00\", \"1998-10-09T00:00:00\", \"1998-10-16T00:00:00\", \"1998-10-23T00:00:00\", \"1998-10-30T00:00:00\", \"1998-11-06T00:00:00\", \"1998-11-13T00:00:00\", \"1998-11-20T00:00:00\", \"1998-11-27T00:00:00\", \"1998-12-04T00:00:00\", \"1998-12-11T00:00:00\", \"1998-12-18T00:00:00\", \"1998-12-25T00:00:00\", \"1998-12-31T00:00:00\", \"1999-01-08T00:00:00\", \"1999-01-15T00:00:00\", \"1999-01-22T00:00:00\", \"1999-01-29T00:00:00\", \"1999-02-05T00:00:00\", \"1999-02-12T00:00:00\", \"1999-02-19T00:00:00\", \"1999-02-26T00:00:00\", \"1999-03-05T00:00:00\", \"1999-03-12T00:00:00\", \"1999-03-19T00:00:00\", \"1999-03-26T00:00:00\", \"1999-04-02T00:00:00\", \"1999-04-09T00:00:00\", \"1999-04-16T00:00:00\", \"1999-04-23T00:00:00\", \"1999-04-30T00:00:00\", \"1999-05-07T00:00:00\", \"1999-05-14T00:00:00\", \"1999-05-21T00:00:00\", \"1999-05-28T00:00:00\", \"1999-06-04T00:00:00\", \"1999-06-11T00:00:00\", \"1999-06-18T00:00:00\", \"1999-06-25T00:00:00\", \"1999-07-02T00:00:00\", \"1999-07-09T00:00:00\", \"1999-07-16T00:00:00\", \"1999-07-23T00:00:00\", \"1999-07-30T00:00:00\", \"1999-08-06T00:00:00\", \"1999-08-13T00:00:00\", \"1999-08-20T00:00:00\", \"1999-08-27T00:00:00\", \"1999-09-03T00:00:00\", \"1999-09-10T00:00:00\", \"1999-09-17T00:00:00\", \"1999-09-24T00:00:00\", \"1999-10-01T00:00:00\", \"1999-10-08T00:00:00\", \"1999-10-15T00:00:00\", \"1999-10-22T00:00:00\", \"1999-10-29T00:00:00\", \"1999-11-05T00:00:00\", \"1999-11-12T00:00:00\", \"1999-11-19T00:00:00\", \"1999-11-26T00:00:00\", \"1999-12-03T00:00:00\", \"1999-12-10T00:00:00\", \"1999-12-17T00:00:00\", \"1999-12-24T00:00:00\", \"1999-12-31T00:00:00\", \"2000-01-07T00:00:00\", \"2000-01-14T00:00:00\", \"2000-01-21T00:00:00\", \"2000-01-28T00:00:00\", \"2000-02-04T00:00:00\", \"2000-02-11T00:00:00\", \"2000-02-18T00:00:00\", \"2000-02-25T00:00:00\", \"2000-03-03T00:00:00\", \"2000-03-10T00:00:00\", \"2000-03-17T00:00:00\", \"2000-03-24T00:00:00\", \"2000-03-31T00:00:00\", \"2000-04-07T00:00:00\", \"2000-04-14T00:00:00\", \"2000-04-21T00:00:00\", \"2000-04-28T00:00:00\", \"2000-05-05T00:00:00\", \"2000-05-12T00:00:00\", \"2000-05-19T00:00:00\", \"2000-05-26T00:00:00\", \"2000-06-02T00:00:00\", \"2000-06-09T00:00:00\", \"2000-06-16T00:00:00\", \"2000-06-23T00:00:00\", \"2000-06-30T00:00:00\", \"2000-07-07T00:00:00\", \"2000-07-14T00:00:00\", \"2000-07-21T00:00:00\", \"2000-07-28T00:00:00\", \"2000-08-04T00:00:00\", \"2000-08-11T00:00:00\", \"2000-08-18T00:00:00\", \"2000-08-25T00:00:00\", \"2000-09-01T00:00:00\", \"2000-09-08T00:00:00\", \"2000-09-15T00:00:00\", \"2000-09-22T00:00:00\", \"2000-09-29T00:00:00\", \"2000-10-06T00:00:00\", \"2000-10-13T00:00:00\", \"2000-10-20T00:00:00\", \"2000-10-27T00:00:00\", \"2000-11-03T00:00:00\", \"2000-11-10T00:00:00\", \"2000-11-17T00:00:00\", \"2000-11-24T00:00:00\", \"2000-12-01T00:00:00\", \"2000-12-08T00:00:00\", \"2000-12-15T00:00:00\", \"2000-12-22T00:00:00\", \"2000-12-29T00:00:00\", \"2001-01-05T00:00:00\", \"2001-01-12T00:00:00\", \"2001-01-19T00:00:00\", \"2001-01-26T00:00:00\", \"2001-02-02T00:00:00\", \"2001-02-09T00:00:00\", \"2001-02-16T00:00:00\", \"2001-02-23T00:00:00\", \"2001-03-02T00:00:00\", \"2001-03-09T00:00:00\", \"2001-03-16T00:00:00\", \"2001-03-23T00:00:00\", \"2001-03-30T00:00:00\", \"2001-04-06T00:00:00\", \"2001-04-13T00:00:00\", \"2001-04-20T00:00:00\", \"2001-04-27T00:00:00\", \"2001-05-04T00:00:00\", \"2001-05-11T00:00:00\", \"2001-05-18T00:00:00\", \"2001-05-25T00:00:00\", \"2001-06-01T00:00:00\", \"2001-06-08T00:00:00\", \"2001-06-15T00:00:00\", \"2001-06-22T00:00:00\", \"2001-06-29T00:00:00\", \"2001-07-06T00:00:00\", \"2001-07-13T00:00:00\", \"2001-07-20T00:00:00\", \"2001-07-27T00:00:00\", \"2001-08-03T00:00:00\", \"2001-08-10T00:00:00\", \"2001-08-17T00:00:00\", \"2001-08-24T00:00:00\", \"2001-08-31T00:00:00\", \"2001-09-07T00:00:00\", \"2001-09-14T00:00:00\", \"2001-09-21T00:00:00\", \"2001-09-28T00:00:00\", \"2001-10-05T00:00:00\", \"2001-10-12T00:00:00\", \"2001-10-19T00:00:00\", \"2001-10-26T00:00:00\", \"2001-11-02T00:00:00\", \"2001-11-09T00:00:00\", \"2001-11-16T00:00:00\", \"2001-11-23T00:00:00\", \"2001-11-30T00:00:00\", \"2001-12-07T00:00:00\", \"2001-12-14T00:00:00\", \"2001-12-21T00:00:00\", \"2001-12-28T00:00:00\", \"2002-01-04T00:00:00\", \"2002-01-11T00:00:00\", \"2002-01-18T00:00:00\", \"2002-01-25T00:00:00\", \"2002-02-01T00:00:00\", \"2002-02-08T00:00:00\", \"2002-02-15T00:00:00\", \"2002-02-22T00:00:00\", \"2002-03-01T00:00:00\", \"2002-03-08T00:00:00\", \"2002-03-15T00:00:00\", \"2002-03-22T00:00:00\", \"2002-03-29T00:00:00\", \"2002-04-05T00:00:00\", \"2002-04-12T00:00:00\", \"2002-04-19T00:00:00\", \"2002-04-26T00:00:00\", \"2002-05-03T00:00:00\", \"2002-05-10T00:00:00\", \"2002-05-17T00:00:00\", \"2002-05-24T00:00:00\", \"2002-05-31T00:00:00\", \"2002-06-07T00:00:00\", \"2002-06-14T00:00:00\", \"2002-06-21T00:00:00\", \"2002-06-28T00:00:00\", \"2002-07-05T00:00:00\", \"2002-07-12T00:00:00\", \"2002-07-19T00:00:00\", \"2002-07-26T00:00:00\", \"2002-08-02T00:00:00\", \"2002-08-09T00:00:00\", \"2002-08-16T00:00:00\", \"2002-08-23T00:00:00\", \"2002-08-30T00:00:00\", \"2002-09-06T00:00:00\", \"2002-09-13T00:00:00\", \"2002-09-20T00:00:00\", \"2002-09-27T00:00:00\", \"2002-10-04T00:00:00\", \"2002-10-11T00:00:00\", \"2002-10-18T00:00:00\", \"2002-10-25T00:00:00\", \"2002-11-01T00:00:00\", \"2002-11-08T00:00:00\", \"2002-11-15T00:00:00\", \"2002-11-22T00:00:00\", \"2002-11-29T00:00:00\", \"2002-12-06T00:00:00\", \"2002-12-13T00:00:00\", \"2002-12-20T00:00:00\", \"2002-12-27T00:00:00\", \"2003-01-03T00:00:00\", \"2003-01-10T00:00:00\", \"2003-01-17T00:00:00\", \"2003-01-24T00:00:00\", \"2003-01-31T00:00:00\", \"2003-02-07T00:00:00\", \"2003-02-14T00:00:00\", \"2003-02-21T00:00:00\", \"2003-02-28T00:00:00\", \"2003-03-07T00:00:00\", \"2003-03-14T00:00:00\", \"2003-03-21T00:00:00\", \"2003-03-28T00:00:00\", \"2003-04-04T00:00:00\", \"2003-04-11T00:00:00\", \"2003-04-18T00:00:00\", \"2003-04-25T00:00:00\", \"2003-05-02T00:00:00\", \"2003-05-09T00:00:00\", \"2003-05-16T00:00:00\", \"2003-05-23T00:00:00\", \"2003-05-30T00:00:00\", \"2003-06-06T00:00:00\", \"2003-06-13T00:00:00\", \"2003-06-20T00:00:00\", \"2003-06-27T00:00:00\", \"2003-07-04T00:00:00\", \"2003-07-11T00:00:00\", \"2003-07-18T00:00:00\", \"2003-07-25T00:00:00\", \"2003-08-01T00:00:00\", \"2003-08-08T00:00:00\", \"2003-08-15T00:00:00\", \"2003-08-22T00:00:00\", \"2003-08-29T00:00:00\", \"2003-09-05T00:00:00\", \"2003-09-12T00:00:00\", \"2003-09-19T00:00:00\", \"2003-09-26T00:00:00\", \"2003-10-03T00:00:00\", \"2003-10-10T00:00:00\", \"2003-10-17T00:00:00\", \"2003-10-24T00:00:00\", \"2003-10-31T00:00:00\", \"2003-11-07T00:00:00\", \"2003-11-14T00:00:00\", \"2003-11-21T00:00:00\", \"2003-11-28T00:00:00\", \"2003-12-05T00:00:00\", \"2003-12-12T00:00:00\", \"2003-12-19T00:00:00\", \"2003-12-26T00:00:00\", \"2003-12-31T00:00:00\", \"2004-01-08T00:00:00\", \"2004-01-15T00:00:00\", \"2004-01-22T00:00:00\", \"2004-01-29T00:00:00\", \"2004-02-05T00:00:00\", \"2004-02-12T00:00:00\", \"2004-02-19T00:00:00\", \"2004-02-26T00:00:00\", \"2004-03-04T00:00:00\", \"2004-03-11T00:00:00\", \"2004-03-18T00:00:00\", \"2004-03-25T00:00:00\", \"2004-04-01T00:00:00\", \"2004-04-08T00:00:00\", \"2004-04-15T00:00:00\", \"2004-04-22T00:00:00\", \"2004-04-29T00:00:00\", \"2004-05-06T00:00:00\", \"2004-05-13T00:00:00\", \"2004-05-20T00:00:00\", \"2004-05-27T00:00:00\", \"2004-06-03T00:00:00\", \"2004-06-10T00:00:00\", \"2004-06-17T00:00:00\", \"2004-06-24T00:00:00\", \"2004-07-01T00:00:00\", \"2004-07-08T00:00:00\", \"2004-07-15T00:00:00\", \"2004-07-22T00:00:00\", \"2004-07-29T00:00:00\", \"2004-08-05T00:00:00\", \"2004-08-12T00:00:00\", \"2004-08-19T00:00:00\", \"2004-08-26T00:00:00\", \"2004-09-02T00:00:00\", \"2004-09-09T00:00:00\", \"2004-09-16T00:00:00\", \"2004-09-23T00:00:00\", \"2004-09-30T00:00:00\", \"2004-10-07T00:00:00\", \"2004-10-14T00:00:00\", \"2004-10-21T00:00:00\", \"2004-10-28T00:00:00\", \"2004-11-04T00:00:00\", \"2004-11-11T00:00:00\", \"2004-11-18T00:00:00\", \"2004-11-24T00:00:00\", \"2004-12-02T00:00:00\", \"2004-12-09T00:00:00\", \"2004-12-16T00:00:00\", \"2004-12-22T00:00:00\", \"2004-12-29T00:00:00\", \"2005-01-06T00:00:00\", \"2005-01-13T00:00:00\", \"2005-01-20T00:00:00\", \"2005-01-27T00:00:00\", \"2005-02-03T00:00:00\", \"2005-02-10T00:00:00\", \"2005-02-17T00:00:00\", \"2005-02-24T00:00:00\", \"2005-03-03T00:00:00\", \"2005-03-10T00:00:00\", \"2005-03-17T00:00:00\", \"2005-03-24T00:00:00\", \"2005-03-31T00:00:00\", \"2005-04-07T00:00:00\", \"2005-04-14T00:00:00\", \"2005-04-21T00:00:00\", \"2005-04-28T00:00:00\", \"2005-05-05T00:00:00\", \"2005-05-12T00:00:00\", \"2005-05-19T00:00:00\", \"2005-05-26T00:00:00\", \"2005-06-02T00:00:00\", \"2005-06-09T00:00:00\", \"2005-06-16T00:00:00\", \"2005-06-23T00:00:00\", \"2005-06-30T00:00:00\", \"2005-07-07T00:00:00\", \"2005-07-14T00:00:00\", \"2005-07-21T00:00:00\", \"2005-07-28T00:00:00\", \"2005-08-04T00:00:00\", \"2005-08-11T00:00:00\", \"2005-08-18T00:00:00\", \"2005-08-25T00:00:00\", \"2005-09-01T00:00:00\", \"2005-09-08T00:00:00\", \"2005-09-15T00:00:00\", \"2005-09-22T00:00:00\", \"2005-09-29T00:00:00\", \"2005-10-06T00:00:00\", \"2005-10-13T00:00:00\", \"2005-10-20T00:00:00\", \"2005-10-27T00:00:00\", \"2005-11-03T00:00:00\", \"2005-11-10T00:00:00\", \"2005-11-17T00:00:00\", \"2005-11-23T00:00:00\", \"2005-12-01T00:00:00\", \"2005-12-08T00:00:00\", \"2005-12-15T00:00:00\", \"2005-12-22T00:00:00\", \"2005-12-29T00:00:00\", \"2006-01-05T00:00:00\", \"2006-01-12T00:00:00\", \"2006-01-19T00:00:00\", \"2006-01-26T00:00:00\", \"2006-02-02T00:00:00\", \"2006-02-09T00:00:00\", \"2006-02-16T00:00:00\", \"2006-02-23T00:00:00\", \"2006-03-02T00:00:00\", \"2006-03-09T00:00:00\", \"2006-03-16T00:00:00\", \"2006-03-23T00:00:00\", \"2006-03-30T00:00:00\", \"2006-04-06T00:00:00\", \"2006-04-13T00:00:00\", \"2006-04-20T00:00:00\", \"2006-04-27T00:00:00\", \"2006-05-04T00:00:00\", \"2006-05-11T00:00:00\", \"2006-05-18T00:00:00\", \"2006-05-25T00:00:00\", \"2006-06-01T00:00:00\", \"2006-06-08T00:00:00\", \"2006-06-15T00:00:00\", \"2006-06-22T00:00:00\", \"2006-06-29T00:00:00\", \"2006-07-06T00:00:00\", \"2006-07-13T00:00:00\", \"2006-07-20T00:00:00\", \"2006-07-27T00:00:00\", \"2006-08-03T00:00:00\", \"2006-08-10T00:00:00\", \"2006-08-17T00:00:00\", \"2006-08-24T00:00:00\", \"2006-08-31T00:00:00\", \"2006-09-07T00:00:00\", \"2006-09-14T00:00:00\", \"2006-09-21T00:00:00\", \"2006-09-28T00:00:00\", \"2006-10-05T00:00:00\", \"2006-10-12T00:00:00\", \"2006-10-19T00:00:00\", \"2006-10-26T00:00:00\", \"2006-11-02T00:00:00\", \"2006-11-09T00:00:00\", \"2006-11-16T00:00:00\", \"2006-11-22T00:00:00\", \"2006-11-30T00:00:00\", \"2006-12-07T00:00:00\", \"2006-12-14T00:00:00\", \"2006-12-21T00:00:00\", \"2006-12-28T00:00:00\", \"2007-01-04T00:00:00\", \"2007-01-11T00:00:00\", \"2007-01-18T00:00:00\", \"2007-01-25T00:00:00\", \"2007-02-01T00:00:00\", \"2007-02-08T00:00:00\", \"2007-02-15T00:00:00\", \"2007-02-22T00:00:00\", \"2007-03-01T00:00:00\", \"2007-03-08T00:00:00\", \"2007-03-15T00:00:00\", \"2007-03-22T00:00:00\", \"2007-03-29T00:00:00\", \"2007-04-05T00:00:00\", \"2007-04-12T00:00:00\", \"2007-04-19T00:00:00\", \"2007-04-26T00:00:00\", \"2007-05-03T00:00:00\", \"2007-05-10T00:00:00\", \"2007-05-17T00:00:00\", \"2007-05-24T00:00:00\", \"2007-05-31T00:00:00\", \"2007-06-07T00:00:00\", \"2007-06-14T00:00:00\", \"2007-06-21T00:00:00\", \"2007-06-28T00:00:00\", \"2007-07-05T00:00:00\", \"2007-07-12T00:00:00\", \"2007-07-19T00:00:00\", \"2007-07-26T00:00:00\", \"2007-08-02T00:00:00\", \"2007-08-09T00:00:00\", \"2007-08-16T00:00:00\", \"2007-08-23T00:00:00\", \"2007-08-30T00:00:00\", \"2007-09-06T00:00:00\", \"2007-09-13T00:00:00\", \"2007-09-20T00:00:00\", \"2007-09-27T00:00:00\", \"2007-10-04T00:00:00\", \"2007-10-11T00:00:00\", \"2007-10-18T00:00:00\", \"2007-10-25T00:00:00\", \"2007-11-01T00:00:00\", \"2007-11-08T00:00:00\", \"2007-11-15T00:00:00\", \"2007-11-21T00:00:00\", \"2007-11-29T00:00:00\", \"2007-12-06T00:00:00\", \"2007-12-13T00:00:00\", \"2007-12-20T00:00:00\", \"2007-12-27T00:00:00\", \"2008-01-03T00:00:00\", \"2008-01-10T00:00:00\", \"2008-01-17T00:00:00\", \"2008-01-24T00:00:00\", \"2008-01-31T00:00:00\", \"2008-02-07T00:00:00\", \"2008-02-14T00:00:00\", \"2008-02-21T00:00:00\", \"2008-02-28T00:00:00\", \"2008-03-06T00:00:00\", \"2008-03-13T00:00:00\", \"2008-03-20T00:00:00\", \"2008-03-27T00:00:00\", \"2008-04-03T00:00:00\", \"2008-04-10T00:00:00\", \"2008-04-17T00:00:00\", \"2008-04-24T00:00:00\", \"2008-05-01T00:00:00\", \"2008-05-08T00:00:00\", \"2008-05-15T00:00:00\", \"2008-05-22T00:00:00\", \"2008-05-29T00:00:00\", \"2008-06-05T00:00:00\", \"2008-06-12T00:00:00\", \"2008-06-19T00:00:00\", \"2008-06-26T00:00:00\", \"2008-07-03T00:00:00\", \"2008-07-10T00:00:00\", \"2008-07-17T00:00:00\", \"2008-07-24T00:00:00\", \"2008-07-31T00:00:00\", \"2008-08-07T00:00:00\", \"2008-08-14T00:00:00\", \"2008-08-21T00:00:00\", \"2008-08-28T00:00:00\", \"2008-09-04T00:00:00\", \"2008-09-11T00:00:00\", \"2008-09-18T00:00:00\", \"2008-09-25T00:00:00\", \"2008-10-02T00:00:00\", \"2008-10-09T00:00:00\", \"2008-10-16T00:00:00\", \"2008-10-23T00:00:00\", \"2008-10-30T00:00:00\", \"2008-11-06T00:00:00\", \"2008-11-13T00:00:00\", \"2008-11-20T00:00:00\", \"2008-11-26T00:00:00\", \"2008-12-04T00:00:00\", \"2008-12-11T00:00:00\", \"2008-12-18T00:00:00\", \"2008-12-24T00:00:00\", \"2008-12-31T00:00:00\", \"2009-01-08T00:00:00\", \"2009-01-15T00:00:00\", \"2009-01-22T00:00:00\", \"2009-01-29T00:00:00\", \"2009-02-05T00:00:00\", \"2009-02-12T00:00:00\", \"2009-02-19T00:00:00\", \"2009-02-26T00:00:00\", \"2009-03-05T00:00:00\", \"2009-03-12T00:00:00\", \"2009-03-19T00:00:00\", \"2009-03-26T00:00:00\", \"2009-04-02T00:00:00\", \"2009-04-09T00:00:00\", \"2009-04-16T00:00:00\", \"2009-04-23T00:00:00\", \"2009-04-30T00:00:00\", \"2009-05-07T00:00:00\", \"2009-05-14T00:00:00\", \"2009-05-21T00:00:00\", \"2009-05-28T00:00:00\", \"2009-06-04T00:00:00\", \"2009-06-11T00:00:00\", \"2009-06-18T00:00:00\", \"2009-06-25T00:00:00\", \"2009-07-02T00:00:00\", \"2009-07-09T00:00:00\", \"2009-07-16T00:00:00\", \"2009-07-23T00:00:00\", \"2009-07-30T00:00:00\", \"2009-08-06T00:00:00\", \"2009-08-13T00:00:00\", \"2009-08-20T00:00:00\", \"2009-08-27T00:00:00\", \"2009-09-03T00:00:00\", \"2009-09-10T00:00:00\", \"2009-09-17T00:00:00\", \"2009-09-24T00:00:00\", \"2009-10-01T00:00:00\", \"2009-10-08T00:00:00\", \"2009-10-15T00:00:00\", \"2009-10-22T00:00:00\", \"2009-10-29T00:00:00\", \"2009-11-05T00:00:00\", \"2009-11-12T00:00:00\", \"2009-11-19T00:00:00\", \"2009-11-25T00:00:00\", \"2009-12-03T00:00:00\", \"2009-12-10T00:00:00\", \"2009-12-17T00:00:00\", \"2009-12-24T00:00:00\", \"2009-12-31T00:00:00\", \"2010-01-07T00:00:00\", \"2010-01-14T00:00:00\", \"2010-01-21T00:00:00\", \"2010-01-28T00:00:00\", \"2010-02-04T00:00:00\", \"2010-02-11T00:00:00\", \"2010-02-18T00:00:00\", \"2010-02-25T00:00:00\", \"2010-03-04T00:00:00\", \"2010-03-11T00:00:00\", \"2010-03-18T00:00:00\", \"2010-03-25T00:00:00\", \"2010-04-01T00:00:00\", \"2010-04-08T00:00:00\", \"2010-04-15T00:00:00\", \"2010-04-22T00:00:00\", \"2010-04-29T00:00:00\", \"2010-05-06T00:00:00\", \"2010-05-13T00:00:00\", \"2010-05-20T00:00:00\", \"2010-05-27T00:00:00\", \"2010-06-03T00:00:00\", \"2010-06-10T00:00:00\", \"2010-06-17T00:00:00\", \"2010-06-24T00:00:00\", \"2010-07-01T00:00:00\", \"2010-07-08T00:00:00\", \"2010-07-15T00:00:00\", \"2010-07-22T00:00:00\", \"2010-07-29T00:00:00\", \"2010-08-05T00:00:00\", \"2010-08-12T00:00:00\", \"2010-08-19T00:00:00\", \"2010-08-26T00:00:00\", \"2010-09-02T00:00:00\", \"2010-09-09T00:00:00\", \"2010-09-16T00:00:00\", \"2010-09-23T00:00:00\", \"2010-09-30T00:00:00\", \"2010-10-07T00:00:00\", \"2010-10-14T00:00:00\", \"2010-10-21T00:00:00\", \"2010-10-28T00:00:00\", \"2010-11-04T00:00:00\", \"2010-11-11T00:00:00\", \"2010-11-18T00:00:00\", \"2010-11-24T00:00:00\", \"2010-12-02T00:00:00\", \"2010-12-09T00:00:00\", \"2010-12-16T00:00:00\", \"2010-12-23T00:00:00\", \"2010-12-30T00:00:00\", \"2011-01-06T00:00:00\", \"2011-01-13T00:00:00\", \"2011-01-20T00:00:00\", \"2011-01-27T00:00:00\", \"2011-02-03T00:00:00\", \"2011-02-10T00:00:00\", \"2011-02-17T00:00:00\", \"2011-02-24T00:00:00\", \"2011-03-03T00:00:00\", \"2011-03-10T00:00:00\", \"2011-03-17T00:00:00\", \"2011-03-24T00:00:00\", \"2011-03-31T00:00:00\", \"2011-04-07T00:00:00\", \"2011-04-14T00:00:00\", \"2011-04-21T00:00:00\", \"2011-04-28T00:00:00\", \"2011-05-05T00:00:00\", \"2011-05-12T00:00:00\", \"2011-05-19T00:00:00\", \"2011-05-26T00:00:00\", \"2011-06-02T00:00:00\", \"2011-06-09T00:00:00\", \"2011-06-16T00:00:00\", \"2011-06-23T00:00:00\", \"2011-06-30T00:00:00\", \"2011-07-07T00:00:00\", \"2011-07-14T00:00:00\", \"2011-07-21T00:00:00\", \"2011-07-28T00:00:00\", \"2011-08-04T00:00:00\", \"2011-08-11T00:00:00\", \"2011-08-18T00:00:00\", \"2011-08-25T00:00:00\", \"2011-09-01T00:00:00\", \"2011-09-08T00:00:00\", \"2011-09-15T00:00:00\", \"2011-09-22T00:00:00\", \"2011-09-29T00:00:00\", \"2011-10-06T00:00:00\", \"2011-10-13T00:00:00\", \"2011-10-20T00:00:00\", \"2011-10-27T00:00:00\", \"2011-11-03T00:00:00\", \"2011-11-10T00:00:00\", \"2011-11-17T00:00:00\", \"2011-11-23T00:00:00\", \"2011-12-01T00:00:00\", \"2011-12-08T00:00:00\", \"2011-12-15T00:00:00\", \"2011-12-22T00:00:00\", \"2011-12-29T00:00:00\", \"2012-01-05T00:00:00\", \"2012-01-12T00:00:00\", \"2012-01-19T00:00:00\", \"2012-01-26T00:00:00\", \"2012-02-02T00:00:00\", \"2012-02-09T00:00:00\", \"2012-02-16T00:00:00\", \"2012-02-23T00:00:00\", \"2012-03-01T00:00:00\", \"2012-03-08T00:00:00\", \"2012-03-15T00:00:00\", \"2012-03-22T00:00:00\", \"2012-03-29T00:00:00\", \"2012-04-05T00:00:00\", \"2012-04-12T00:00:00\", \"2012-04-19T00:00:00\", \"2012-04-26T00:00:00\", \"2012-05-03T00:00:00\", \"2012-05-10T00:00:00\", \"2012-05-17T00:00:00\", \"2012-05-24T00:00:00\", \"2012-05-31T00:00:00\", \"2012-06-07T00:00:00\", \"2012-06-14T00:00:00\", \"2012-06-21T00:00:00\", \"2012-06-28T00:00:00\", \"2012-07-05T00:00:00\", \"2012-07-12T00:00:00\", \"2012-07-19T00:00:00\", \"2012-07-26T00:00:00\", \"2012-08-02T00:00:00\", \"2012-08-09T00:00:00\", \"2012-08-16T00:00:00\", \"2012-08-23T00:00:00\", \"2012-08-30T00:00:00\", \"2012-09-06T00:00:00\", \"2012-09-13T00:00:00\", \"2012-09-20T00:00:00\", \"2012-09-27T00:00:00\", \"2012-10-04T00:00:00\", \"2012-10-11T00:00:00\", \"2012-10-18T00:00:00\", \"2012-10-25T00:00:00\", \"2012-11-01T00:00:00\", \"2012-11-08T00:00:00\", \"2012-11-15T00:00:00\", \"2012-11-21T00:00:00\", \"2012-11-29T00:00:00\", \"2012-12-06T00:00:00\", \"2012-12-13T00:00:00\", \"2012-12-20T00:00:00\", \"2012-12-27T00:00:00\", \"2013-01-03T00:00:00\", \"2013-01-10T00:00:00\", \"2013-01-17T00:00:00\", \"2013-01-24T00:00:00\", \"2013-01-31T00:00:00\", \"2013-02-07T00:00:00\", \"2013-02-14T00:00:00\", \"2013-02-21T00:00:00\", \"2013-02-28T00:00:00\", \"2013-03-07T00:00:00\", \"2013-03-14T00:00:00\", \"2013-03-21T00:00:00\", \"2013-03-28T00:00:00\", \"2013-04-04T00:00:00\", \"2013-04-11T00:00:00\", \"2013-04-18T00:00:00\", \"2013-04-25T00:00:00\", \"2013-05-02T00:00:00\", \"2013-05-09T00:00:00\", \"2013-05-16T00:00:00\", \"2013-05-23T00:00:00\", \"2013-05-30T00:00:00\", \"2013-06-06T00:00:00\", \"2013-06-13T00:00:00\", \"2013-06-20T00:00:00\", \"2013-06-27T00:00:00\", \"2013-07-03T00:00:00\", \"2013-07-11T00:00:00\", \"2013-07-18T00:00:00\", \"2013-07-25T00:00:00\", \"2013-08-01T00:00:00\", \"2013-08-08T00:00:00\", \"2013-08-15T00:00:00\", \"2013-08-22T00:00:00\", \"2013-08-29T00:00:00\", \"2013-09-05T00:00:00\", \"2013-09-12T00:00:00\", \"2013-09-19T00:00:00\", \"2013-09-26T00:00:00\", \"2013-10-03T00:00:00\", \"2013-10-10T00:00:00\", \"2013-10-17T00:00:00\", \"2013-10-24T00:00:00\", \"2013-10-31T00:00:00\", \"2013-11-07T00:00:00\", \"2013-11-14T00:00:00\", \"2013-11-21T00:00:00\", \"2013-11-27T00:00:00\", \"2013-12-05T00:00:00\", \"2013-12-12T00:00:00\", \"2013-12-19T00:00:00\", \"2013-12-26T00:00:00\", \"2014-01-02T00:00:00\", \"2014-01-09T00:00:00\", \"2014-01-16T00:00:00\", \"2014-01-23T00:00:00\", \"2014-01-30T00:00:00\", \"2014-02-06T00:00:00\", \"2014-02-13T00:00:00\", \"2014-02-20T00:00:00\", \"2014-02-27T00:00:00\", \"2014-03-06T00:00:00\", \"2014-03-13T00:00:00\", \"2014-03-20T00:00:00\", \"2014-03-27T00:00:00\", \"2014-04-03T00:00:00\", \"2014-04-10T00:00:00\", \"2014-04-17T00:00:00\", \"2014-04-24T00:00:00\", \"2014-05-01T00:00:00\", \"2014-05-08T00:00:00\", \"2014-05-15T00:00:00\", \"2014-05-22T00:00:00\", \"2014-05-29T00:00:00\", \"2014-06-05T00:00:00\", \"2014-06-12T00:00:00\", \"2014-06-19T00:00:00\", \"2014-06-26T00:00:00\", \"2014-07-03T00:00:00\", \"2014-07-10T00:00:00\", \"2014-07-17T00:00:00\", \"2014-07-24T00:00:00\", \"2014-07-31T00:00:00\", \"2014-08-07T00:00:00\", \"2014-08-14T00:00:00\", \"2014-08-21T00:00:00\", \"2014-08-28T00:00:00\", \"2014-09-04T00:00:00\", \"2014-09-11T00:00:00\", \"2014-09-18T00:00:00\", \"2014-09-25T00:00:00\", \"2014-10-02T00:00:00\", \"2014-10-09T00:00:00\", \"2014-10-16T00:00:00\", \"2014-10-23T00:00:00\", \"2014-10-30T00:00:00\", \"2014-11-06T00:00:00\", \"2014-11-13T00:00:00\", \"2014-11-20T00:00:00\", \"2014-11-26T00:00:00\", \"2014-12-04T00:00:00\", \"2014-12-11T00:00:00\", \"2014-12-18T00:00:00\", \"2014-12-24T00:00:00\", \"2014-12-31T00:00:00\", \"2015-01-08T00:00:00\", \"2015-01-15T00:00:00\", \"2015-01-22T00:00:00\", \"2015-01-29T00:00:00\", \"2015-02-05T00:00:00\", \"2015-02-12T00:00:00\", \"2015-02-19T00:00:00\", \"2015-02-26T00:00:00\", \"2015-03-05T00:00:00\", \"2015-03-12T00:00:00\", \"2015-03-19T00:00:00\", \"2015-03-26T00:00:00\", \"2015-04-02T00:00:00\", \"2015-04-09T00:00:00\", \"2015-04-16T00:00:00\", \"2015-04-23T00:00:00\", \"2015-04-30T00:00:00\", \"2015-05-07T00:00:00\", \"2015-05-14T00:00:00\", \"2015-05-21T00:00:00\", \"2015-05-28T00:00:00\", \"2015-06-04T00:00:00\", \"2015-06-11T00:00:00\", \"2015-06-18T00:00:00\", \"2015-06-25T00:00:00\", \"2015-07-02T00:00:00\", \"2015-07-09T00:00:00\", \"2015-07-16T00:00:00\", \"2015-07-23T00:00:00\", \"2015-07-30T00:00:00\", \"2015-08-06T00:00:00\", \"2015-08-13T00:00:00\", \"2015-08-20T00:00:00\", \"2015-08-27T00:00:00\", \"2015-09-03T00:00:00\", \"2015-09-10T00:00:00\", \"2015-09-17T00:00:00\", \"2015-09-24T00:00:00\", \"2015-10-01T00:00:00\", \"2015-10-08T00:00:00\", \"2015-10-15T00:00:00\", \"2015-10-22T00:00:00\", \"2015-10-29T00:00:00\", \"2015-11-05T00:00:00\", \"2015-11-12T00:00:00\", \"2015-11-19T00:00:00\", \"2015-11-25T00:00:00\", \"2015-12-03T00:00:00\", \"2015-12-10T00:00:00\", \"2015-12-17T00:00:00\", \"2015-12-24T00:00:00\", \"2015-12-31T00:00:00\", \"2016-01-07T00:00:00\", \"2016-01-14T00:00:00\", \"2016-01-21T00:00:00\", \"2016-01-28T00:00:00\", \"2016-02-04T00:00:00\", \"2016-02-11T00:00:00\", \"2016-02-18T00:00:00\", \"2016-02-25T00:00:00\", \"2016-03-03T00:00:00\", \"2016-03-10T00:00:00\", \"2016-03-17T00:00:00\", \"2016-03-24T00:00:00\", \"2016-03-31T00:00:00\", \"2016-04-07T00:00:00\", \"2016-04-14T00:00:00\", \"2016-04-21T00:00:00\", \"2016-04-28T00:00:00\", \"2016-05-05T00:00:00\", \"2016-05-12T00:00:00\", \"2016-05-19T00:00:00\", \"2016-05-26T00:00:00\", \"2016-06-02T00:00:00\", \"2016-06-09T00:00:00\", \"2016-06-16T00:00:00\", \"2016-06-23T00:00:00\", \"2016-06-30T00:00:00\", \"2016-07-07T00:00:00\", \"2016-07-14T00:00:00\", \"2016-07-21T00:00:00\", \"2016-07-28T00:00:00\", \"2016-08-04T00:00:00\", \"2016-08-11T00:00:00\", \"2016-08-18T00:00:00\", \"2016-08-25T00:00:00\", \"2016-09-01T00:00:00\", \"2016-09-08T00:00:00\", \"2016-09-15T00:00:00\", \"2016-09-22T00:00:00\", \"2016-09-29T00:00:00\", \"2016-10-06T00:00:00\", \"2016-10-13T00:00:00\", \"2016-10-20T00:00:00\", \"2016-10-27T00:00:00\", \"2016-11-03T00:00:00\", \"2016-11-10T00:00:00\", \"2016-11-17T00:00:00\", \"2016-11-23T00:00:00\", \"2016-12-01T00:00:00\", \"2016-12-08T00:00:00\", \"2016-12-15T00:00:00\", \"2016-12-22T00:00:00\", \"2016-12-29T00:00:00\", \"2017-01-05T00:00:00\", \"2017-01-12T00:00:00\", \"2017-01-19T00:00:00\", \"2017-01-26T00:00:00\", \"2017-02-02T00:00:00\", \"2017-02-09T00:00:00\", \"2017-02-16T00:00:00\", \"2017-02-23T00:00:00\", \"2017-03-02T00:00:00\", \"2017-03-09T00:00:00\", \"2017-03-16T00:00:00\", \"2017-03-23T00:00:00\", \"2017-03-30T00:00:00\", \"2017-04-06T00:00:00\", \"2017-04-13T00:00:00\", \"2017-04-20T00:00:00\", \"2017-04-27T00:00:00\", \"2017-05-04T00:00:00\", \"2017-05-11T00:00:00\", \"2017-05-18T00:00:00\", \"2017-05-25T00:00:00\", \"2017-06-01T00:00:00\", \"2017-06-08T00:00:00\", \"2017-06-15T00:00:00\", \"2017-06-22T00:00:00\", \"2017-06-29T00:00:00\", \"2017-07-06T00:00:00\", \"2017-07-13T00:00:00\", \"2017-07-20T00:00:00\", \"2017-07-27T00:00:00\", \"2017-08-03T00:00:00\", \"2017-08-10T00:00:00\", \"2017-08-17T00:00:00\", \"2017-08-24T00:00:00\", \"2017-08-31T00:00:00\", \"2017-09-07T00:00:00\", \"2017-09-14T00:00:00\", \"2017-09-21T00:00:00\", \"2017-09-28T00:00:00\", \"2017-10-05T00:00:00\", \"2017-10-12T00:00:00\", \"2017-10-19T00:00:00\", \"2017-10-26T00:00:00\", \"2017-11-02T00:00:00\", \"2017-11-09T00:00:00\", \"2017-11-16T00:00:00\", \"2017-11-22T00:00:00\", \"2017-11-30T00:00:00\", \"2017-12-07T00:00:00\", \"2017-12-14T00:00:00\", \"2017-12-21T00:00:00\", \"2017-12-28T00:00:00\", \"2018-01-04T00:00:00\", \"2018-01-11T00:00:00\", \"2018-01-18T00:00:00\", \"2018-01-25T00:00:00\", \"2018-02-01T00:00:00\", \"2018-02-08T00:00:00\", \"2018-02-15T00:00:00\", \"2018-02-22T00:00:00\", \"2018-03-01T00:00:00\", \"2018-03-08T00:00:00\", \"2018-03-15T00:00:00\", \"2018-03-22T00:00:00\", \"2018-03-29T00:00:00\", \"2018-04-05T00:00:00\", \"2018-04-12T00:00:00\", \"2018-04-19T00:00:00\", \"2018-04-26T00:00:00\", \"2018-05-03T00:00:00\", \"2018-05-10T00:00:00\", \"2018-05-17T00:00:00\", \"2018-05-24T00:00:00\", \"2018-05-31T00:00:00\", \"2018-06-07T00:00:00\", \"2018-06-14T00:00:00\", \"2018-06-21T00:00:00\", \"2018-06-28T00:00:00\", \"2018-07-05T00:00:00\", \"2018-07-12T00:00:00\", \"2018-07-19T00:00:00\", \"2018-07-26T00:00:00\", \"2018-08-02T00:00:00\", \"2018-08-09T00:00:00\", \"2018-08-16T00:00:00\", \"2018-08-23T00:00:00\", \"2018-08-30T00:00:00\", \"2018-09-06T00:00:00\", \"2018-09-13T00:00:00\", \"2018-09-20T00:00:00\", \"2018-09-27T00:00:00\", \"2018-10-04T00:00:00\", \"2018-10-11T00:00:00\", \"2018-10-18T00:00:00\", \"2018-10-25T00:00:00\", \"2018-11-01T00:00:00\", \"2018-11-08T00:00:00\", \"2018-11-15T00:00:00\", \"2018-11-21T00:00:00\", \"2018-11-29T00:00:00\", \"2018-12-06T00:00:00\", \"2018-12-13T00:00:00\", \"2018-12-20T00:00:00\", \"2018-12-27T00:00:00\", \"2019-01-03T00:00:00\", \"2019-01-10T00:00:00\", \"2019-01-17T00:00:00\", \"2019-01-24T00:00:00\", \"2019-01-31T00:00:00\", \"2019-02-07T00:00:00\", \"2019-02-14T00:00:00\", \"2019-02-21T00:00:00\", \"2019-02-28T00:00:00\", \"2019-03-07T00:00:00\", \"2019-03-14T00:00:00\", \"2019-03-21T00:00:00\", \"2019-03-28T00:00:00\", \"2019-04-04T00:00:00\", \"2019-04-11T00:00:00\", \"2019-04-18T00:00:00\", \"2019-04-25T00:00:00\", \"2019-05-02T00:00:00\", \"2019-05-09T00:00:00\", \"2019-05-16T00:00:00\", \"2019-05-23T00:00:00\", \"2019-05-30T00:00:00\", \"2019-06-06T00:00:00\", \"2019-06-13T00:00:00\", \"2019-06-20T00:00:00\", \"2019-06-27T00:00:00\", \"2019-07-03T00:00:00\", \"2019-07-11T00:00:00\", \"2019-07-18T00:00:00\", \"2019-07-25T00:00:00\", \"2019-08-01T00:00:00\", \"2019-08-08T00:00:00\", \"2019-08-15T00:00:00\", \"2019-08-22T00:00:00\", \"2019-08-29T00:00:00\", \"2019-09-05T00:00:00\", \"2019-09-12T00:00:00\", \"2019-09-19T00:00:00\", \"2019-09-26T00:00:00\", \"2019-10-03T00:00:00\", \"2019-10-10T00:00:00\", \"2019-10-17T00:00:00\", \"2019-10-24T00:00:00\", \"2019-10-31T00:00:00\", \"2019-11-07T00:00:00\", \"2019-11-14T00:00:00\", \"2019-11-21T00:00:00\", \"2019-11-27T00:00:00\", \"2019-12-05T00:00:00\", \"2019-12-12T00:00:00\", \"2019-12-19T00:00:00\", \"2019-12-26T00:00:00\", \"2020-01-02T00:00:00\", \"2020-01-09T00:00:00\", \"2020-01-16T00:00:00\", \"2020-01-23T00:00:00\", \"2020-01-30T00:00:00\", \"2020-02-06T00:00:00\", \"2020-02-13T00:00:00\", \"2020-02-20T00:00:00\", \"2020-02-27T00:00:00\", \"2020-03-05T00:00:00\", \"2020-03-12T00:00:00\", \"2020-03-19T00:00:00\", \"2020-03-26T00:00:00\"], \"y\": [13.43, 13.4, 13.35, 13.29, 13.26, 13.23, 13.19, 13.25, 13.23, 13.3, 13.37, 13.48, 13.55, 13.63, 13.58, 13.67, 13.73, 13.78, 13.87, 14.04, 14.08, 14.29, 14.33, 14.47, 14.49, 14.5, 14.66, 14.68, 14.66, 14.67, 14.68, 14.54, 14.39, 14.36, 14.38, 14.42, 14.43, 14.29, 14.26, 14.18, 14.19, 14.1, 14.05, 13.85, 13.74, 13.63, 13.55, 13.42, 13.2, 13.2, 13.18, 13.14, 13.1, 13.12, 13.12, 12.96, 12.93, 12.91, 12.9, 12.94, 13.02, 13.1, 13.2, 13.24, 13.29, 13.27, 13.23, 13.16, 13.12, 13.07, 13.02, 12.94, 12.83, 12.71, 12.39, 12.27, 12.05, 12.15, 12.13, 12.03, 11.94, 12.03, 12.17, 12.23, 12.24, 12.18, 12.11, 12.15, 12.24, 12.21, 12.17, 12.17, 12.17, 12.13, 12.07, 12.01, 11.9, 11.79, 11.64, 11.58, 11.5, 11.31, 11.14, 11.09, 10.81, 10.77, 10.99, 10.97, 10.89, 10.85, 10.8, 10.68, 10.51, 10.2, 10.01, 10.01, 10.1, 9.99, 9.98, 9.92, 9.86, 9.9, 10.0, 10.08, 10.36, 10.38, 10.74, 10.76, 10.61, 10.62, 10.61, 10.59, 10.43, 10.4, 10.4, 10.4, 10.23, 10.04, 9.93, 9.9, 9.96, 10.07, 10.1, 10.08, 9.99, 9.96, 9.95, 9.89, 9.83, 9.81, 9.64, 9.5, 9.3, 9.35, 9.3, 9.29, 9.37, 9.32, 9.21, 9.04, 9.08, 9.06, 9.09, 9.11, 9.07, 9.03, 9.05, 9.03, 9.03, 9.26, 9.43, 10.27, 10.37, 10.47, 10.52, 10.48, 10.81, 10.7, 10.7, 10.66, 10.44, 10.35, 10.36, 10.3, 10.23, 10.23, 10.27, 10.35, 10.34, 10.3, 10.33, 10.63, 10.91, 10.99, 11.02, 11.18, 11.21, 11.58, 11.36, 10.97, 10.79, 10.66, 10.6, 10.55, 10.6, 10.66, 10.69, 10.64, 10.61, 10.5, 10.53, 10.34, 10.16, 9.94, 9.84, 9.92, 9.87, 9.85, 9.96, 9.92, 9.99, 10.05, 10.19, 10.19, 10.3, 10.28, 10.32, 10.4, 10.52, 10.58, 10.58, 10.51, 10.35, 10.4, 10.39, 10.38, 10.44, 10.46, 10.49, 10.44, 10.57, 10.71, 10.67, 10.65, 10.53, 10.4, 10.4, 10.42, 10.38, 10.33, 10.28, 10.22, 10.12, 10.24, 10.31, 10.39, 10.44, 10.46, 10.71, 10.68, 10.77, 10.8, 10.81, 10.71, 10.6, 10.55, 10.56, 10.69, 10.78, 10.91, 10.86, 10.98, 11.22, 11.19, 11.07, 11.11, 10.99, 11.03, 10.97, 10.93, 10.69, 10.5, 10.48, 10.2, 10.04, 10.19, 10.07, 10.03, 9.82, 9.87, 9.81, 9.68, 9.96, 10.09, 10.21, 10.22, 10.17, 10.05, 10.03, 10.16, 10.1, 9.95, 9.92, 9.82, 9.82, 9.79, 9.72, 9.74, 9.74, 9.76, 9.75, 9.69, 9.78, 9.83, 9.8, 9.9, 10.05, 10.17, 10.21, 10.1, 10.31, 10.23, 10.29, 10.34, 10.26, 10.22, 10.26, 10.25, 10.41, 10.56, 10.67, 10.54, 10.37, 10.33, 10.29, 10.1, 10.12, 10.16, 10.15, 10.06, 10.11, 9.99, 9.98, 9.84, 10.08, 10.05, 10.29, 10.24, 10.19, 10.13, 10.16, 10.22, 10.08, 10.22, 10.24, 10.17, 10.13, 10.09, 10.02, 9.93, 9.9, 9.81, 9.56, 9.64, 9.68, 9.56, 9.63, 9.75, 9.61, 9.56, 9.36, 9.25, 9.29, 9.4, 9.49, 9.5, 9.59, 9.52, 9.49, 9.48, 9.47, 9.53, 9.47, 9.47, 9.5, 9.47, 9.45, 9.48, 9.66, 9.65, 9.67, 9.62, 9.64, 9.54, 9.5, 9.44, 9.27, 9.19, 9.17, 9.15, 9.14, 9.02, 8.95, 8.92, 8.87, 8.82, 8.82, 8.91, 8.78, 8.76, 8.69, 8.63, 8.7, 8.62, 8.53, 8.49, 8.35, 8.24, 8.23, 8.45, 8.56, 8.68, 8.67, 8.73, 8.82, 8.83, 8.85, 8.88, 9.03, 8.98, 8.96, 8.84, 8.76, 8.85, 8.84, 8.75, 8.64, 8.53, 8.6, 8.59, 8.54, 8.48, 8.43, 8.29, 8.13, 8.09, 8.08, 8.05, 8.06, 7.96, 7.87, 8.01, 7.94, 7.84, 7.89, 8.02, 7.93, 8.01, 8.06, 8.23, 8.21, 8.29, 8.32, 8.32, 8.29, 8.34, 8.23, 8.19, 8.13, 8.14, 8.07, 8.04, 8.0, 7.86, 7.8, 7.75, 7.65, 7.53, 7.44, 7.47, 7.57, 7.5, 7.53, 7.57, 7.45, 7.38, 7.43, 7.42, 7.42, 7.52, 7.5, 7.47, 7.48, 7.38, 7.34, 7.23, 7.19, 7.16, 7.2, 7.25, 7.21, 7.17, 7.1, 6.97, 6.93, 6.82, 6.96, 6.95, 6.89, 6.87, 6.81, 6.74, 6.86, 7.11, 7.12, 7.08, 7.31, 7.25, 7.14, 7.17, 7.17, 7.13, 7.23, 6.99, 7.05, 6.97, 6.97, 7.21, 7.11, 7.32, 7.51, 7.63, 7.76, 7.8, 8.04, 8.47, 8.26, 8.49, 8.32, 8.53, 8.77, 8.56, 8.53, 8.55, 8.25, 8.33, 8.46, 8.57, 8.68, 8.72, 8.53, 8.57, 8.38, 8.57, 8.54, 8.56, 8.48, 8.51, 8.66, 8.73, 8.82, 8.89, 8.93, 8.85, 9.03, 9.05, 9.19, 9.19, 9.25, 9.23, 9.15, 9.25, 9.18, 9.18, 9.22, 9.19, 9.05, 9.13, 8.94, 8.8, 8.84, 8.73, 8.53, 8.62, 8.38, 8.4, 8.38, 8.41, 8.37, 8.24, 8.26, 8.27, 7.87, 7.83, 7.85, 7.71, 7.51, 7.55, 7.53, 7.53, 7.63, 7.41, 7.6, 7.79, 7.82, 7.8, 7.94, 7.88, 7.76, 7.63, 7.6, 7.57, 7.62, 7.57, 7.5, 7.38, 7.45, 7.44, 7.37, 7.35, 7.35, 7.33, 7.18, 7.15, 7.23, 7.11, 7.02, 7.08, 7.02, 7.0, 7.02, 7.02, 6.94, 7.32, 7.41, 7.38, 7.83, 7.81, 7.69, 7.78, 8.05, 7.95, 7.92, 7.99, 8.24, 8.08, 8.01, 8.03, 8.3, 8.39, 8.3, 8.29, 8.14, 8.42, 8.23, 8.19, 8.23, 7.88, 7.88, 7.93, 8.09, 8.34, 8.28, 8.14, 8.16, 8.06, 7.86, 7.88, 7.86, 7.78, 7.67, 7.59, 7.53, 7.52, 7.44, 7.57, 7.74, 7.64, 7.67, 7.85, 7.87, 7.85, 7.88, 7.74, 7.65, 7.56, 7.65, 7.84, 7.84, 7.94, 7.97, 8.18, 8.15, 8.16, 8.08, 8.01, 7.94, 7.91, 7.92, 7.94, 7.85, 7.72, 7.61, 7.58, 7.62, 7.47, 7.47, 7.43, 7.36, 7.46, 7.54, 7.46, 7.58, 7.53, 7.53, 7.38, 7.28, 7.31, 7.26, 7.34, 7.35, 7.21, 7.24, 7.23, 7.18, 7.17, 7.15, 7.17, 7.07, 6.99, 7.03, 6.94, 6.89, 6.99, 7.12, 7.03, 7.06, 6.99, 7.09, 7.19, 7.16, 7.08, 7.08, 7.15, 7.09, 7.17, 7.15, 7.22, 7.14, 7.19, 7.1, 7.07, 7.05, 7.04, 6.94, 6.96, 6.98, 6.91, 6.94, 6.96, 6.97, 6.94, 6.91, 6.92, 6.92, 6.82, 6.77, 6.66, 6.64, 6.6, 6.49, 6.9, 6.73, 6.83, 6.89, 6.93, 6.86, 6.78, 6.71, 6.69, 6.69, 6.77, 6.83, 6.79, 6.83, 6.78, 6.74, 6.75, 6.77, 6.82, 6.89, 7.06, 7.11, 7.01, 6.98, 6.98, 6.92, 6.87, 6.88, 6.93, 7.02, 7.1, 7.23, 7.23, 7.41, 7.51, 7.65, 7.63, 7.71, 7.65, 7.58, 7.52, 7.7, 7.89, 8.15, 7.93, 7.8, 7.83, 7.88, 7.82, 7.76, 7.7, 7.82, 7.85, 7.93, 7.96, 7.84, 7.67, 7.69, 7.75, 7.84, 7.84, 7.86, 7.96, 8.06, 8.15, 8.18, 8.26, 8.25, 8.25, 8.36, 8.38, 8.31, 8.27, 8.23, 8.24, 8.23, 8.23, 8.2, 8.12, 8.16, 8.13, 8.28, 8.52, 8.64, 8.62, 8.54, 8.32, 8.22, 8.14, 8.22, 8.16, 8.09, 8.21, 8.13, 8.12, 8.04, 7.96, 7.99, 7.96, 7.94, 7.88, 7.9, 7.88, 7.83, 7.84, 7.83, 7.68, 7.73, 7.79, 7.73, 7.73, 7.65, 7.54, 7.42, 7.17, 7.13, 7.07, 6.89, 7.02, 7.15, 7.09, 6.98, 7.01, 7.12, 7.03, 6.97, 6.96, 6.89, 6.91, 7.01, 7.04, 7.14, 7.12, 7.14, 7.1, 7.14, 7.2, 7.24, 7.2, 7.14, 7.11, 7.11, 7.19, 7.21, 7.08, 7.03, 7.0, 7.0, 6.92, 6.91, 6.92, 6.89, 6.86, 6.8, 6.72, 6.64, 6.58, 6.61, 6.64, 6.56, 6.45, 6.51, 6.75, 7.02, 6.84, 7.09, 7.17, 7.16, 7.14, 7.06, 6.83, 6.96, 7.02, 6.88, 6.86, 6.81, 6.8, 6.87, 7.08, 7.14, 7.18, 7.13, 6.99, 6.94, 6.88, 6.78, 6.79, 6.89, 6.81, 6.76, 6.71, 6.71, 6.63, 6.55, 6.57, 6.54, 6.49, 6.34, 6.43, 6.31, 6.22, 6.27, 6.22, 6.15, 6.18, 6.05, 5.99, 6.01, 5.98, 6.15, 6.31, 6.13, 6.11, 5.94, 6.03, 6.13, 6.19, 6.04, 6.03, 5.93, 5.85, 5.95, 5.97, 5.91, 5.9, 5.88, 5.86, 5.84, 5.79, 5.67, 5.61, 5.79, 5.91, 5.79, 5.85, 5.82, 5.79, 5.7, 5.62, 5.45, 5.34, 5.31, 5.26, 5.21, 5.21, 5.24, 5.4, 5.52, 5.67, 5.94, 6.14, 6.34, 6.24, 6.28, 6.32, 6.44, 6.16, 6.01, 5.98, 5.77, 5.95, 6.05, 6.05, 5.94, 5.98, 6.03, 5.83, 5.89, 6.02, 5.88, 5.82, 5.81, 5.85, 5.87, 5.66, 5.64, 5.68, 5.72, 5.66, 5.58, 5.58, 5.59, 5.41, 5.38, 5.4, 5.52, 5.79, 5.89, 5.94, 6.01, 6.12, 6.34, 6.3, 6.32, 6.28, 6.3, 6.32, 6.25, 6.21, 6.01, 6.0, 5.98, 6.08, 5.99, 5.85, 5.81, 5.82, 5.77, 5.83, 5.75, 5.7, 5.72, 5.82, 5.74, 5.69, 5.64, 5.7, 5.76, 5.74, 5.72, 5.81, 5.71, 5.68, 5.75, 5.81, 5.77, 5.74, 5.67, 5.66, 5.63, 5.57, 5.62, 5.69, 5.79, 5.85, 5.95, 6.01, 6.04, 5.93, 5.91, 5.8, 5.78, 5.75, 5.77, 5.71, 5.65, 5.62, 5.56, 5.63, 5.57, 5.53, 5.62, 5.66, 5.73, 5.77, 5.82, 5.89, 5.8, 5.77, 5.71, 5.71, 5.74, 5.8, 5.91, 5.98, 6.03, 6.1, 6.15, 6.31, 6.36, 6.37, 6.28, 6.26, 6.32, 6.3, 6.26, 6.22, 6.21, 6.15, 6.1, 6.12, 6.23, 6.24, 6.28, 6.26, 6.24, 6.37, 6.34, 6.32, 6.35, 6.43, 6.49, 6.53, 6.58, 6.59, 6.58, 6.6, 6.62, 6.67, 6.62, 6.63, 6.71, 6.78, 6.79, 6.74, 6.8, 6.72, 6.63, 6.55, 6.52, 6.48, 6.44, 6.47, 6.43, 6.4, 6.31, 6.3, 6.37, 6.36, 6.4, 6.31, 6.33, 6.24, 6.18, 6.14, 6.11, 6.12, 6.13, 6.18, 6.18, 6.21, 6.23, 6.25, 6.34, 6.28, 6.3, 6.22, 6.18, 6.14, 6.14, 6.16, 6.16, 6.17, 6.22, 6.17, 6.16, 6.16, 6.15, 6.21, 6.37, 6.42, 6.53, 6.74, 6.69, 6.67, 6.63, 6.73, 6.73, 6.69, 6.68, 6.59, 6.62, 6.52, 6.45, 6.46, 6.31, 6.34, 6.42, 6.37, 6.4, 6.4, 6.33, 6.26, 6.24, 6.24, 6.2, 6.1, 5.96, 6.11, 6.14, 6.17, 6.07, 5.87, 5.69, 5.48, 5.68, 5.67, 5.72, 6.04, 6.24, 6.03, 6.13, 5.87, 5.85, 5.88, 5.88, 5.88, 6.03, 6.06, 6.05, 6.01, 5.98, 6.08, 6.09, 6.32, 6.42, 6.45, 6.35, 6.37, 6.26, 6.63, 6.52, 6.52, 6.52, 6.47, 6.4, 6.35, 5.93, 5.78, 6.09, 6.1, 5.94, 6.46, 6.04, 6.46, 6.2, 6.14, 6.04, 5.97, 5.53, 5.47, 5.19, 5.14, 5.1, 5.01, 4.96, 5.12, 5.1, 5.25, 5.16, 5.04, 5.07, 5.15, 5.03, 4.98, 4.85, 4.78, 4.87, 4.82, 4.8, 4.78, 4.84, 4.86, 4.82, 4.91, 5.29, 5.59, 5.38, 5.42, 5.32, 5.2, 5.14, 5.2, 5.25, 5.22, 5.29, 5.12, 5.14, 5.08, 5.07, 5.04, 5.04, 4.94, 4.87, 4.92, 5.0, 5.03, 4.98, 4.91, 4.83, 4.78, 4.71, 4.81, 4.94, 5.05, 5.14, 5.09, 5.06, 4.99, 4.98, 5.01, 4.97, 4.93, 5.05, 4.97, 4.95, 4.96, 4.99, 5.08, 5.21, 5.07, 5.07, 5.06, 5.0, 4.93, 4.84, 4.78, 4.79, 4.72, 4.75, 4.69, 4.58, 4.57, 4.57, 4.56, 4.54, 4.49, 4.44, 4.42, 4.36, 4.32, 4.35, 4.37, 4.37, 4.32, 4.27, 4.19, 4.21, 4.23, 4.24, 4.17, 4.39, 4.4, 4.46, 4.61, 4.83, 4.81, 4.86, 4.77, 4.71, 4.74, 4.8, 4.81, 5.05, 5.0, 4.95, 4.87, 4.88, 4.76, 4.81, 4.86, 4.87, 4.91, 4.8, 4.78, 4.71, 4.63, 4.61, 4.6, 4.55, 4.49, 4.5, 4.5, 4.51, 4.6, 4.51, 4.52, 4.55, 4.39, 4.32, 4.15, 4.22, 4.22, 4.12, 4.09, 4.09, 4.01, 3.94, 4.12, 4.11, 4.1, 4.0, 3.99, 4.0, 3.98, 4.0, 3.99, 3.94, 3.91, 3.95, 3.91, 3.89, 3.88, 3.98, 3.87, 3.87, 3.87, 3.95, 3.9, 3.88, 3.92, 4.08, 3.99, 3.98, 3.88, 3.9, 3.88, 3.84, 3.83, 3.79, 3.78, 3.75, 3.67, 3.71, 3.66, 3.66, 3.62, 3.56, 3.53, 3.49, 3.55, 3.59, 3.62, 3.66, 3.59, 3.55, 3.55, 3.49, 3.4, 3.36, 3.39, 3.37, 3.41, 3.39, 3.4, 3.34, 3.31, 3.32, 3.34, 3.32, 3.37, 3.35, 3.34, 3.4, 3.38, 3.42, 3.53, 3.53, 3.53, 3.56, 3.51, 3.52, 3.63, 3.54, 3.57, 3.54, 3.43, 3.41, 3.4, 3.35, 3.42, 3.51, 3.59, 3.81, 3.91, 3.98, 3.93, 4.46, 4.29, 4.51, 4.37, 4.31, 4.39, 4.4, 4.4, 4.58, 4.51, 4.57, 4.57, 4.5, 4.32, 4.22, 4.23, 4.28, 4.13, 4.1, 4.16, 4.35, 4.22, 4.29, 4.46, 4.42, 4.47, 4.48, 4.53, 4.51, 4.41, 4.39, 4.32, 4.23, 4.28, 4.33, 4.37, 4.28, 4.37, 4.32, 4.4, 4.41, 4.34, 4.27, 4.33, 4.29, 4.21, 4.2, 4.14, 4.12, 4.14, 4.2, 4.17, 4.14, 4.12, 4.15, 4.13, 4.13, 4.12, 4.14, 4.12, 4.1, 4.1, 4.1, 4.12, 4.23, 4.2, 4.19, 4.12, 3.97, 3.92, 3.98, 4.02, 4.01, 3.99, 3.97, 3.89, 3.93, 3.8, 3.83, 3.87, 3.73, 3.66, 3.63, 3.66, 3.59, 3.69, 3.76, 3.8, 3.75, 3.86, 3.78, 3.69, 3.7, 3.66, 3.67, 3.65, 3.68, 3.8, 3.85, 3.84, 3.87, 3.87, 4.04, 4.0, 4.02, 4.08, 4.04, 4.09, 4.04, 3.98, 3.91, 3.94, 3.93, 3.84, 3.89, 3.9, 3.91, 3.86, 3.85, 3.76, 3.82, 3.79, 3.76, 3.87, 3.98, 3.97, 3.95, 3.93, 3.95, 3.97, 3.96, 4.01, 3.97, 3.92, 3.81, 3.79, 3.72, 3.65, 3.65, 3.62, 3.64, 3.68, 3.73, 3.71, 3.71, 3.59, 3.58, 3.59, 3.66, 3.61, 3.57, 3.58, 3.64, 3.66, 3.6, 3.54, 3.56, 3.48, 3.41, 3.42, 3.45, 3.48, 3.43, 3.45, 3.43, 3.43, 3.46, 3.44, 3.5, 3.48, 3.42, 3.42, 3.47, 3.52, 3.47, 3.54, 3.57, 3.94, 4.03, 4.08, 4.13, 4.16, 4.3, 4.32, 4.2, 4.12, 4.09, 4.19, 4.19, 4.17, 4.15, 4.16, 4.1, 4.21, 4.3, 4.23, 4.14, 4.1, 4.08, 3.97, 4.03, 4.02, 4.05, 4.02, 3.95, 3.94, 3.89, 3.91, 3.9, 3.88, 3.96, 4.03, 3.96, 3.92, 3.93, 3.9, 3.89, 3.86, 3.82, 3.78, 3.78, 3.83, 3.83, 3.85, 3.91, 3.88, 3.94, 3.94, 3.9, 3.95, 3.92, 3.9, 3.94, 3.93, 3.94, 3.99, 3.95, 3.99, 4.04, 4.15, 4.22, 4.32, 4.38, 4.4, 4.43, 4.46, 4.44, 4.45, 4.44, 4.4, 4.42, 4.47, 4.58, 4.55, 4.55, 4.61, 4.66, 4.56, 4.54, 4.62, 4.57, 4.55, 4.52, 4.53, 4.52, 4.54, 4.6, 4.59, 4.53, 4.51, 4.52, 4.54, 4.6, 4.65, 4.72, 4.71, 4.9, 4.85, 4.86, 4.83, 4.94, 4.94, 4.81, 4.81, 4.75, 4.63, 4.62, 4.55, 4.51, 4.45, 4.45, 4.45, 4.46, 4.41, 4.37, 4.35, 4.35, 4.41, 4.31, 4.28, 4.06, 4.08, 4.12, 4.17, 4.2, 4.14, 4.1, 4.07, 4.06, 3.99, 3.82, 3.82, 3.84, 3.73, 3.75, 3.75, 3.81, 3.75, 3.75, 3.6, 3.6, 3.55, 3.58, 3.49, 3.56, 3.73, 3.64, 3.65, 3.57, 3.69, 3.75, 3.78, 3.69, 3.75, 3.66, 3.68, 3.68, 3.73, 3.73, 3.74, 3.72, 3.64, 3.65, 3.6, 3.51, 3.45, 3.47, 3.49, 3.45, 3.29, 3.36, 3.65, 3.5]}, {\"marker\": {\"color\": \"rgb(41, 58, 143)\", \"size\": 1}, \"mode\": \"markers\", \"type\": \"scatter\", \"x\": [\"1984-01-06T00:00:00\", \"2020-03-26T00:00:00\"], \"y\": [13.43, 3.5]}],\n",
       "                        {\"annotations\": [{\"font\": {\"family\": \"Arial\", \"size\": 12}, \"showarrow\": false, \"text\": \"13\", \"x\": 0.05, \"xanchor\": \"right\", \"xref\": \"paper\", \"y\": 13.43, \"yanchor\": \"top\"}, {\"font\": {\"family\": \"Arial\", \"size\": 12}, \"showarrow\": false, \"text\": \"4\", \"x\": 0.95, \"xanchor\": \"left\", \"xref\": \"paper\", \"y\": 3.5, \"yanchor\": \"top\"}, {\"font\": {\"color\": \"rgb(37,37,37)\", \"family\": \"Arial\", \"size\": 22}, \"showarrow\": false, \"text\": \"Mortgage rates\", \"x\": 0.0, \"xanchor\": \"left\", \"xref\": \"paper\", \"y\": 1.05, \"yanchor\": \"bottom\", \"yref\": \"paper\"}, {\"font\": {\"color\": \"rgb(150,150,150)\", \"family\": \"Arial\", \"size\": 12}, \"showarrow\": false, \"text\": \"Source: U.S. Census Bureau\", \"x\": 0, \"xanchor\": \"left\", \"xref\": \"paper\", \"y\": -0.2, \"yanchor\": \"top\", \"yref\": \"paper\"}, {\"font\": {\"color\": \"black\", \"family\": \"Arial\", \"size\": 12}, \"showarrow\": false, \"text\": \"%\", \"x\": 0.0, \"xref\": \"paper\", \"y\": 1.06, \"yref\": \"paper\"}], \"autosize\": false, \"height\": 170, \"margin\": {\"autoexpand\": false, \"b\": 0, \"l\": 120, \"r\": 120, \"t\": 38}, \"plot_bgcolor\": \"white\", \"showlegend\": false, \"template\": {\"data\": {\"bar\": [{\"error_x\": {\"color\": \"#2a3f5f\"}, \"error_y\": {\"color\": \"#2a3f5f\"}, \"marker\": {\"line\": {\"color\": \"#E5ECF6\", \"width\": 0.5}}, \"type\": \"bar\"}], \"barpolar\": [{\"marker\": {\"line\": {\"color\": \"#E5ECF6\", \"width\": 0.5}}, \"type\": \"barpolar\"}], \"carpet\": [{\"aaxis\": {\"endlinecolor\": \"#2a3f5f\", \"gridcolor\": \"white\", \"linecolor\": \"white\", \"minorgridcolor\": \"white\", \"startlinecolor\": \"#2a3f5f\"}, \"baxis\": {\"endlinecolor\": \"#2a3f5f\", \"gridcolor\": \"white\", \"linecolor\": \"white\", \"minorgridcolor\": \"white\", \"startlinecolor\": \"#2a3f5f\"}, \"type\": \"carpet\"}], \"choropleth\": [{\"colorbar\": {\"outlinewidth\": 0, \"ticks\": \"\"}, \"type\": \"choropleth\"}], \"contour\": [{\"colorbar\": {\"outlinewidth\": 0, \"ticks\": \"\"}, \"colorscale\": [[0.0, \"#0d0887\"], [0.1111111111111111, \"#46039f\"], [0.2222222222222222, \"#7201a8\"], [0.3333333333333333, \"#9c179e\"], [0.4444444444444444, \"#bd3786\"], [0.5555555555555556, \"#d8576b\"], [0.6666666666666666, \"#ed7953\"], [0.7777777777777778, \"#fb9f3a\"], [0.8888888888888888, \"#fdca26\"], [1.0, \"#f0f921\"]], \"type\": \"contour\"}], \"contourcarpet\": [{\"colorbar\": {\"outlinewidth\": 0, \"ticks\": \"\"}, \"type\": \"contourcarpet\"}], \"heatmap\": [{\"colorbar\": {\"outlinewidth\": 0, \"ticks\": \"\"}, \"colorscale\": [[0.0, \"#0d0887\"], [0.1111111111111111, \"#46039f\"], [0.2222222222222222, \"#7201a8\"], [0.3333333333333333, \"#9c179e\"], [0.4444444444444444, \"#bd3786\"], [0.5555555555555556, \"#d8576b\"], [0.6666666666666666, \"#ed7953\"], [0.7777777777777778, \"#fb9f3a\"], [0.8888888888888888, \"#fdca26\"], [1.0, \"#f0f921\"]], \"type\": \"heatmap\"}], \"heatmapgl\": [{\"colorbar\": {\"outlinewidth\": 0, \"ticks\": \"\"}, \"colorscale\": [[0.0, \"#0d0887\"], [0.1111111111111111, \"#46039f\"], [0.2222222222222222, \"#7201a8\"], [0.3333333333333333, \"#9c179e\"], [0.4444444444444444, \"#bd3786\"], [0.5555555555555556, \"#d8576b\"], [0.6666666666666666, \"#ed7953\"], [0.7777777777777778, \"#fb9f3a\"], [0.8888888888888888, \"#fdca26\"], [1.0, \"#f0f921\"]], \"type\": \"heatmapgl\"}], \"histogram\": [{\"marker\": {\"colorbar\": {\"outlinewidth\": 0, \"ticks\": \"\"}}, \"type\": \"histogram\"}], \"histogram2d\": [{\"colorbar\": {\"outlinewidth\": 0, \"ticks\": \"\"}, \"colorscale\": [[0.0, \"#0d0887\"], [0.1111111111111111, \"#46039f\"], [0.2222222222222222, \"#7201a8\"], [0.3333333333333333, \"#9c179e\"], [0.4444444444444444, \"#bd3786\"], [0.5555555555555556, \"#d8576b\"], [0.6666666666666666, \"#ed7953\"], [0.7777777777777778, \"#fb9f3a\"], [0.8888888888888888, \"#fdca26\"], [1.0, \"#f0f921\"]], \"type\": \"histogram2d\"}], \"histogram2dcontour\": [{\"colorbar\": {\"outlinewidth\": 0, \"ticks\": \"\"}, \"colorscale\": [[0.0, \"#0d0887\"], [0.1111111111111111, \"#46039f\"], [0.2222222222222222, \"#7201a8\"], [0.3333333333333333, \"#9c179e\"], [0.4444444444444444, \"#bd3786\"], [0.5555555555555556, \"#d8576b\"], [0.6666666666666666, \"#ed7953\"], [0.7777777777777778, \"#fb9f3a\"], [0.8888888888888888, \"#fdca26\"], [1.0, \"#f0f921\"]], \"type\": \"histogram2dcontour\"}], \"mesh3d\": [{\"colorbar\": {\"outlinewidth\": 0, \"ticks\": \"\"}, \"type\": \"mesh3d\"}], \"parcoords\": [{\"line\": {\"colorbar\": {\"outlinewidth\": 0, \"ticks\": \"\"}}, \"type\": \"parcoords\"}], \"pie\": [{\"automargin\": true, \"type\": \"pie\"}], \"scatter\": [{\"marker\": {\"colorbar\": {\"outlinewidth\": 0, \"ticks\": \"\"}}, \"type\": \"scatter\"}], \"scatter3d\": [{\"line\": {\"colorbar\": {\"outlinewidth\": 0, \"ticks\": \"\"}}, \"marker\": {\"colorbar\": {\"outlinewidth\": 0, \"ticks\": \"\"}}, \"type\": \"scatter3d\"}], \"scattercarpet\": [{\"marker\": {\"colorbar\": {\"outlinewidth\": 0, \"ticks\": \"\"}}, \"type\": \"scattercarpet\"}], \"scattergeo\": [{\"marker\": {\"colorbar\": {\"outlinewidth\": 0, \"ticks\": \"\"}}, \"type\": \"scattergeo\"}], \"scattergl\": [{\"marker\": {\"colorbar\": {\"outlinewidth\": 0, \"ticks\": \"\"}}, \"type\": \"scattergl\"}], \"scattermapbox\": [{\"marker\": {\"colorbar\": {\"outlinewidth\": 0, \"ticks\": \"\"}}, \"type\": \"scattermapbox\"}], \"scatterpolar\": [{\"marker\": {\"colorbar\": {\"outlinewidth\": 0, \"ticks\": \"\"}}, \"type\": \"scatterpolar\"}], \"scatterpolargl\": [{\"marker\": {\"colorbar\": {\"outlinewidth\": 0, \"ticks\": \"\"}}, \"type\": \"scatterpolargl\"}], \"scatterternary\": [{\"marker\": {\"colorbar\": {\"outlinewidth\": 0, \"ticks\": \"\"}}, \"type\": \"scatterternary\"}], \"surface\": [{\"colorbar\": {\"outlinewidth\": 0, \"ticks\": \"\"}, \"colorscale\": [[0.0, \"#0d0887\"], [0.1111111111111111, \"#46039f\"], [0.2222222222222222, \"#7201a8\"], [0.3333333333333333, \"#9c179e\"], [0.4444444444444444, \"#bd3786\"], [0.5555555555555556, \"#d8576b\"], [0.6666666666666666, \"#ed7953\"], [0.7777777777777778, \"#fb9f3a\"], [0.8888888888888888, \"#fdca26\"], [1.0, \"#f0f921\"]], \"type\": \"surface\"}], \"table\": [{\"cells\": {\"fill\": {\"color\": \"#EBF0F8\"}, \"line\": {\"color\": \"white\"}}, \"header\": {\"fill\": {\"color\": \"#C8D4E3\"}, \"line\": {\"color\": \"white\"}}, \"type\": \"table\"}]}, \"layout\": {\"annotationdefaults\": {\"arrowcolor\": \"#2a3f5f\", \"arrowhead\": 0, \"arrowwidth\": 1}, \"coloraxis\": {\"colorbar\": {\"outlinewidth\": 0, \"ticks\": \"\"}}, \"colorscale\": {\"diverging\": [[0, \"#8e0152\"], [0.1, \"#c51b7d\"], [0.2, \"#de77ae\"], [0.3, \"#f1b6da\"], [0.4, \"#fde0ef\"], [0.5, \"#f7f7f7\"], [0.6, \"#e6f5d0\"], [0.7, \"#b8e186\"], [0.8, \"#7fbc41\"], [0.9, \"#4d9221\"], [1, \"#276419\"]], \"sequential\": [[0.0, \"#0d0887\"], [0.1111111111111111, \"#46039f\"], [0.2222222222222222, \"#7201a8\"], [0.3333333333333333, \"#9c179e\"], [0.4444444444444444, \"#bd3786\"], [0.5555555555555556, \"#d8576b\"], [0.6666666666666666, \"#ed7953\"], [0.7777777777777778, \"#fb9f3a\"], [0.8888888888888888, \"#fdca26\"], [1.0, \"#f0f921\"]], \"sequentialminus\": [[0.0, \"#0d0887\"], [0.1111111111111111, \"#46039f\"], [0.2222222222222222, \"#7201a8\"], [0.3333333333333333, \"#9c179e\"], [0.4444444444444444, \"#bd3786\"], [0.5555555555555556, \"#d8576b\"], [0.6666666666666666, \"#ed7953\"], [0.7777777777777778, \"#fb9f3a\"], [0.8888888888888888, \"#fdca26\"], [1.0, \"#f0f921\"]]}, \"colorway\": [\"#636efa\", \"#EF553B\", \"#00cc96\", \"#ab63fa\", \"#FFA15A\", \"#19d3f3\", \"#FF6692\", \"#B6E880\", \"#FF97FF\", \"#FECB52\"], \"font\": {\"color\": \"#2a3f5f\"}, \"geo\": {\"bgcolor\": \"white\", \"lakecolor\": \"white\", \"landcolor\": \"#E5ECF6\", \"showlakes\": true, \"showland\": true, \"subunitcolor\": \"white\"}, \"hoverlabel\": {\"align\": \"left\"}, \"hovermode\": \"closest\", \"mapbox\": {\"style\": \"light\"}, \"paper_bgcolor\": \"white\", \"plot_bgcolor\": \"#E5ECF6\", \"polar\": {\"angularaxis\": {\"gridcolor\": \"white\", \"linecolor\": \"white\", \"ticks\": \"\"}, \"bgcolor\": \"#E5ECF6\", \"radialaxis\": {\"gridcolor\": \"white\", \"linecolor\": \"white\", \"ticks\": \"\"}}, \"scene\": {\"xaxis\": {\"backgroundcolor\": \"#E5ECF6\", \"gridcolor\": \"white\", \"gridwidth\": 2, \"linecolor\": \"white\", \"showbackground\": true, \"ticks\": \"\", \"zerolinecolor\": \"white\"}, \"yaxis\": {\"backgroundcolor\": \"#E5ECF6\", \"gridcolor\": \"white\", \"gridwidth\": 2, \"linecolor\": \"white\", \"showbackground\": true, \"ticks\": \"\", \"zerolinecolor\": \"white\"}, \"zaxis\": {\"backgroundcolor\": \"#E5ECF6\", \"gridcolor\": \"white\", \"gridwidth\": 2, \"linecolor\": \"white\", \"showbackground\": true, \"ticks\": \"\", \"zerolinecolor\": \"white\"}}, \"shapedefaults\": {\"line\": {\"color\": \"#2a3f5f\"}}, \"ternary\": {\"aaxis\": {\"gridcolor\": \"white\", \"linecolor\": \"white\", \"ticks\": \"\"}, \"baxis\": {\"gridcolor\": \"white\", \"linecolor\": \"white\", \"ticks\": \"\"}, \"bgcolor\": \"#E5ECF6\", \"caxis\": {\"gridcolor\": \"white\", \"linecolor\": \"white\", \"ticks\": \"\"}}, \"title\": {\"x\": 0.05}, \"xaxis\": {\"automargin\": true, \"gridcolor\": \"white\", \"linecolor\": \"white\", \"ticks\": \"\", \"title\": {\"standoff\": 15}, \"zerolinecolor\": \"white\", \"zerolinewidth\": 2}, \"yaxis\": {\"automargin\": true, \"gridcolor\": \"white\", \"linecolor\": \"white\", \"ticks\": \"\", \"title\": {\"standoff\": 15}, \"zerolinecolor\": \"white\", \"zerolinewidth\": 2}}}, \"updatemenus\": [{\"active\": 0, \"buttons\": [{\"args\": [\"shapes\", []], \"label\": \"-\", \"method\": \"relayout\"}, {\"args\": [\"shapes\", [{\"fillcolor\": \"lightgray\", \"layer\": \"below\", \"line\": {\"color\": \"white\", \"width\": 0.1}, \"line_width\": 0, \"type\": \"rect\", \"x0\": \"1990-07-01T00:00:00\", \"x1\": \"1991-01-01T00:00:00\", \"xref\": \"x\", \"y0\": 0, \"y1\": 0.97, \"yref\": \"paper\"}, {\"fillcolor\": \"lightgray\", \"layer\": \"below\", \"line\": {\"color\": \"white\", \"width\": 0.1}, \"line_width\": 0, \"type\": \"rect\", \"x0\": \"2001-01-01T00:00:00\", \"x1\": \"2001-10-01T00:00:00\", \"xref\": \"x\", \"y0\": 0, \"y1\": 0.97, \"yref\": \"paper\"}, {\"fillcolor\": \"lightgray\", \"layer\": \"below\", \"line\": {\"color\": \"white\", \"width\": 0.1}, \"line_width\": 0, \"type\": \"rect\", \"x0\": \"2007-10-01T00:00:00\", \"x1\": \"2009-04-01T00:00:00\", \"xref\": \"x\", \"y0\": 0, \"y1\": 0.97, \"yref\": \"paper\"}]], \"label\": \"+\", \"method\": \"relayout\"}], \"direction\": \"right\", \"type\": \"buttons\", \"x\": 1.1, \"y\": 1.2}], \"width\": 1020, \"xaxis\": {\"linecolor\": \"rgb(204, 204, 204)\", \"linewidth\": 2, \"showgrid\": true, \"showline\": true, \"showticklabels\": true, \"tickfont\": {\"color\": \"rgb(82, 82, 82)\", \"family\": \"Arial\", \"size\": 12}, \"ticks\": \"outside\"}, \"yaxis\": {\"gridcolor\": \"rgb(204, 204, 204)\", \"showgrid\": true, \"showline\": true, \"showticklabels\": true, \"zeroline\": false}},\n",
       "                        {\"responsive\": true}\n",
       "                    ).then(function(){\n",
       "                            \n",
       "var gd = document.getElementById('085833f8-3294-45a4-888e-beddc4a10b64');\n",
       "var x = new MutationObserver(function (mutations, observer) {{\n",
       "        var display = window.getComputedStyle(gd).display;\n",
       "        if (!display || display === 'none') {{\n",
       "            console.log([gd, 'removed!']);\n",
       "            Plotly.purge(gd);\n",
       "            observer.disconnect();\n",
       "        }}\n",
       "}});\n",
       "\n",
       "// Listen for the removal of the full notebook cells\n",
       "var notebookContainer = gd.closest('#notebook-container');\n",
       "if (notebookContainer) {{\n",
       "    x.observe(notebookContainer, {childList: true});\n",
       "}}\n",
       "\n",
       "// Listen for the clearing of the current output cell\n",
       "var outputEl = gd.closest('.output');\n",
       "if (outputEl) {{\n",
       "    x.observe(outputEl, {childList: true});\n",
       "}}\n",
       "\n",
       "                        })\n",
       "                };\n",
       "                });\n",
       "            </script>\n",
       "        </div>"
      ]
     },
     "metadata": {},
     "output_type": "display_data"
    }
   ],
   "source": [
    "s = ['mortgage rates [MORTGAGE30US]']\n",
    "dic = dict_from_FRED_description(s)\n",
    "df = make_hrizontal_tbl(dic, start=start)\n",
    "df = df[((df.index>='1984-01-01') & (df.index<='2020-04-01'))]\n",
    "fig = plot_nice(title='Mortgage rates', dic=dic, df=df, \n",
    "          margin=dict(autoexpand=False,l=120,r=120,t=38,b=0), \n",
    "          show_series_label=False,height=170,\n",
    "          recessions=True,\n",
    "          y_units='%')"
   ]
  },
  {
   "cell_type": "code",
   "execution_count": 399,
   "metadata": {},
   "outputs": [],
   "source": [
    "fig.write_html(\"../images/jm_f2.html\")"
   ]
  },
  {
   "cell_type": "markdown",
   "metadata": {},
   "source": [
    "# homeownership"
   ]
  },
  {
   "cell_type": "code",
   "execution_count": 400,
   "metadata": {},
   "outputs": [],
   "source": [
    "# adjust \"source position\"on plot_nice, reload functions, so source appear correctly bellow\n",
    "%run functions/nice_plot_pandas_getdata.ipynb"
   ]
  },
  {
   "cell_type": "code",
   "execution_count": 401,
   "metadata": {},
   "outputs": [],
   "source": [
    "s = ['homeownership [RHORUSQ156N]']\n",
    "dic = dict_from_FRED_description(s)\n",
    "df = make_hrizontal_tbl(dic, start=start)\n",
    "df = df[((df.index>='1984-01-01') & (df.index<='2020-04-01'))]\n",
    "df.index  = df.index+ pd.offsets.MonthOffset(2) # bcs data is quartely and when imported come as first day of quarter"
   ]
  },
  {
   "cell_type": "code",
   "execution_count": 402,
   "metadata": {},
   "outputs": [
    {
     "data": {
      "application/vnd.plotly.v1+json": {
       "config": {
        "plotlyServerURL": "https://plot.ly"
       },
       "data": [
        {
         "connectgaps": true,
         "line": {
          "color": "red",
          "width": 1.5
         },
         "mode": "lines",
         "name": "homeownership",
         "type": "scatter",
         "x": [
          "1984-04-01T00:00:00",
          "1984-07-01T00:00:00",
          "1984-10-01T00:00:00",
          "1985-01-01T00:00:00",
          "1985-04-01T00:00:00",
          "1985-07-01T00:00:00",
          "1985-10-01T00:00:00",
          "1986-01-01T00:00:00",
          "1986-04-01T00:00:00",
          "1986-07-01T00:00:00",
          "1986-10-01T00:00:00",
          "1987-01-01T00:00:00",
          "1987-04-01T00:00:00",
          "1987-07-01T00:00:00",
          "1987-10-01T00:00:00",
          "1988-01-01T00:00:00",
          "1988-04-01T00:00:00",
          "1988-07-01T00:00:00",
          "1988-10-01T00:00:00",
          "1989-01-01T00:00:00",
          "1989-04-01T00:00:00",
          "1989-07-01T00:00:00",
          "1989-10-01T00:00:00",
          "1990-01-01T00:00:00",
          "1990-04-01T00:00:00",
          "1990-07-01T00:00:00",
          "1990-10-01T00:00:00",
          "1991-01-01T00:00:00",
          "1991-04-01T00:00:00",
          "1991-07-01T00:00:00",
          "1991-10-01T00:00:00",
          "1992-01-01T00:00:00",
          "1992-04-01T00:00:00",
          "1992-07-01T00:00:00",
          "1992-10-01T00:00:00",
          "1993-01-01T00:00:00",
          "1993-04-01T00:00:00",
          "1993-07-01T00:00:00",
          "1993-10-01T00:00:00",
          "1994-01-01T00:00:00",
          "1994-04-01T00:00:00",
          "1994-07-01T00:00:00",
          "1994-10-01T00:00:00",
          "1995-01-01T00:00:00",
          "1995-04-01T00:00:00",
          "1995-07-01T00:00:00",
          "1995-10-01T00:00:00",
          "1996-01-01T00:00:00",
          "1996-04-01T00:00:00",
          "1996-07-01T00:00:00",
          "1996-10-01T00:00:00",
          "1997-01-01T00:00:00",
          "1997-04-01T00:00:00",
          "1997-07-01T00:00:00",
          "1997-10-01T00:00:00",
          "1998-01-01T00:00:00",
          "1998-04-01T00:00:00",
          "1998-07-01T00:00:00",
          "1998-10-01T00:00:00",
          "1999-01-01T00:00:00",
          "1999-04-01T00:00:00",
          "1999-07-01T00:00:00",
          "1999-10-01T00:00:00",
          "2000-01-01T00:00:00",
          "2000-04-01T00:00:00",
          "2000-07-01T00:00:00",
          "2000-10-01T00:00:00",
          "2001-01-01T00:00:00",
          "2001-04-01T00:00:00",
          "2001-07-01T00:00:00",
          "2001-10-01T00:00:00",
          "2002-01-01T00:00:00",
          "2002-04-01T00:00:00",
          "2002-07-01T00:00:00",
          "2002-10-01T00:00:00",
          "2003-01-01T00:00:00",
          "2003-04-01T00:00:00",
          "2003-07-01T00:00:00",
          "2003-10-01T00:00:00",
          "2004-01-01T00:00:00",
          "2004-04-01T00:00:00",
          "2004-07-01T00:00:00",
          "2004-10-01T00:00:00",
          "2005-01-01T00:00:00",
          "2005-04-01T00:00:00",
          "2005-07-01T00:00:00",
          "2005-10-01T00:00:00",
          "2006-01-01T00:00:00",
          "2006-04-01T00:00:00",
          "2006-07-01T00:00:00",
          "2006-10-01T00:00:00",
          "2007-01-01T00:00:00",
          "2007-04-01T00:00:00",
          "2007-07-01T00:00:00",
          "2007-10-01T00:00:00",
          "2008-01-01T00:00:00",
          "2008-04-01T00:00:00",
          "2008-07-01T00:00:00",
          "2008-10-01T00:00:00",
          "2009-01-01T00:00:00",
          "2009-04-01T00:00:00",
          "2009-07-01T00:00:00",
          "2009-10-01T00:00:00",
          "2010-01-01T00:00:00",
          "2010-04-01T00:00:00",
          "2010-07-01T00:00:00",
          "2010-10-01T00:00:00",
          "2011-01-01T00:00:00",
          "2011-04-01T00:00:00",
          "2011-07-01T00:00:00",
          "2011-10-01T00:00:00",
          "2012-01-01T00:00:00",
          "2012-04-01T00:00:00",
          "2012-07-01T00:00:00",
          "2012-10-01T00:00:00",
          "2013-01-01T00:00:00",
          "2013-04-01T00:00:00",
          "2013-07-01T00:00:00",
          "2013-10-01T00:00:00",
          "2014-01-01T00:00:00",
          "2014-04-01T00:00:00",
          "2014-07-01T00:00:00",
          "2014-10-01T00:00:00",
          "2015-01-01T00:00:00",
          "2015-04-01T00:00:00",
          "2015-07-01T00:00:00",
          "2015-10-01T00:00:00",
          "2016-01-01T00:00:00",
          "2016-04-01T00:00:00",
          "2016-07-01T00:00:00",
          "2016-10-01T00:00:00",
          "2017-01-01T00:00:00",
          "2017-04-01T00:00:00",
          "2017-07-01T00:00:00",
          "2017-10-01T00:00:00",
          "2018-01-01T00:00:00",
          "2018-04-01T00:00:00",
          "2018-07-01T00:00:00",
          "2018-10-01T00:00:00",
          "2019-01-01T00:00:00",
          "2019-04-01T00:00:00",
          "2019-07-01T00:00:00",
          "2019-10-01T00:00:00",
          "2020-01-01T00:00:00",
          "2020-04-01T00:00:00"
         ],
         "y": [
          64.6,
          64.6,
          64.6,
          64.1,
          64.1,
          64.1,
          63.9,
          63.5,
          63.6,
          63.8,
          63.8,
          63.9,
          63.8,
          63.8,
          64.2,
          64.1,
          63.7,
          63.7,
          64,
          63.8,
          63.9,
          63.8,
          64.1,
          63.8,
          64,
          63.7,
          64,
          64.1,
          63.9,
          63.9,
          64.2,
          64.2,
          64,
          63.9,
          64.3,
          64.4,
          64.2,
          64.4,
          64.7,
          64.6,
          63.8,
          63.8,
          64.1,
          64.2,
          64.2,
          64.7,
          65,
          65.1,
          65.1,
          65.4,
          65.6,
          65.4,
          65.4,
          65.7,
          66,
          65.7,
          65.9,
          66,
          66.8,
          66.4,
          66.7,
          66.6,
          67,
          66.9,
          67.1,
          67.2,
          67.7,
          67.5,
          67.5,
          67.7,
          68.1,
          68,
          67.8,
          67.6,
          68,
          68.3,
          68,
          68,
          68.4,
          68.6,
          68.6,
          69.2,
          69,
          69.2,
          69.1,
          68.6,
          68.8,
          69,
          68.5,
          68.7,
          69,
          68.9,
          68.4,
          68.2,
          68.2,
          67.8,
          67.8,
          68.1,
          67.9,
          67.5,
          67.3,
          67.4,
          67.6,
          67.2,
          67.1,
          66.9,
          66.9,
          66.5,
          66.4,
          65.9,
          66.3,
          66,
          65.4,
          65.5,
          65.5,
          65.4,
          65,
          65,
          65.3,
          65.2,
          64.8,
          64.7,
          64.4,
          64,
          63.7,
          63.4,
          63.7,
          63.8,
          63.5,
          62.9,
          63.5,
          63.7,
          63.6,
          63.7,
          63.9,
          64.2,
          64.2,
          64.3,
          64.4,
          64.8,
          64.2,
          64.1,
          64.8,
          65.1,
          65.3
         ]
        },
        {
         "marker": {
          "color": "red",
          "size": 1
         },
         "mode": "markers",
         "type": "scatter",
         "x": [
          "1984-04-01T00:00:00",
          "2020-04-01T00:00:00"
         ],
         "y": [
          64.6,
          65.3
         ]
        }
       ],
       "layout": {
        "annotations": [
         {
          "font": {
           "family": "Arial",
           "size": 12
          },
          "showarrow": false,
          "text": "65",
          "x": 0.05,
          "xanchor": "right",
          "xref": "paper",
          "y": 64.6,
          "yanchor": "top"
         },
         {
          "font": {
           "family": "Arial",
           "size": 12
          },
          "showarrow": false,
          "text": "65",
          "x": 0.95,
          "xanchor": "left",
          "xref": "paper",
          "y": 65.3,
          "yanchor": "top"
         },
         {
          "font": {
           "color": "rgb(37,37,37)",
           "family": "Arial",
           "size": 22
          },
          "showarrow": false,
          "text": "Homeownership",
          "x": 0,
          "xanchor": "left",
          "xref": "paper",
          "y": 1.05,
          "yanchor": "bottom",
          "yref": "paper"
         },
         {
          "font": {
           "color": "rgb(150,150,150)",
           "family": "Arial",
           "size": 12
          },
          "showarrow": false,
          "text": "Source: US BLS, FreddieMac, US Census Bureau.",
          "x": 0,
          "xanchor": "left",
          "xref": "paper",
          "y": -0.2,
          "yanchor": "top",
          "yref": "paper"
         },
         {
          "font": {
           "color": "black",
           "family": "Arial",
           "size": 12
          },
          "showarrow": false,
          "text": "%",
          "x": 0,
          "xref": "paper",
          "y": 1.06,
          "yref": "paper"
         }
        ],
        "autosize": false,
        "height": 190,
        "margin": {
         "autoexpand": false,
         "b": 40,
         "l": 120,
         "r": 120,
         "t": 28
        },
        "plot_bgcolor": "white",
        "showlegend": false,
        "template": {
         "data": {
          "bar": [
           {
            "error_x": {
             "color": "#2a3f5f"
            },
            "error_y": {
             "color": "#2a3f5f"
            },
            "marker": {
             "line": {
              "color": "#E5ECF6",
              "width": 0.5
             }
            },
            "type": "bar"
           }
          ],
          "barpolar": [
           {
            "marker": {
             "line": {
              "color": "#E5ECF6",
              "width": 0.5
             }
            },
            "type": "barpolar"
           }
          ],
          "carpet": [
           {
            "aaxis": {
             "endlinecolor": "#2a3f5f",
             "gridcolor": "white",
             "linecolor": "white",
             "minorgridcolor": "white",
             "startlinecolor": "#2a3f5f"
            },
            "baxis": {
             "endlinecolor": "#2a3f5f",
             "gridcolor": "white",
             "linecolor": "white",
             "minorgridcolor": "white",
             "startlinecolor": "#2a3f5f"
            },
            "type": "carpet"
           }
          ],
          "choropleth": [
           {
            "colorbar": {
             "outlinewidth": 0,
             "ticks": ""
            },
            "type": "choropleth"
           }
          ],
          "contour": [
           {
            "colorbar": {
             "outlinewidth": 0,
             "ticks": ""
            },
            "colorscale": [
             [
              0,
              "#0d0887"
             ],
             [
              0.1111111111111111,
              "#46039f"
             ],
             [
              0.2222222222222222,
              "#7201a8"
             ],
             [
              0.3333333333333333,
              "#9c179e"
             ],
             [
              0.4444444444444444,
              "#bd3786"
             ],
             [
              0.5555555555555556,
              "#d8576b"
             ],
             [
              0.6666666666666666,
              "#ed7953"
             ],
             [
              0.7777777777777778,
              "#fb9f3a"
             ],
             [
              0.8888888888888888,
              "#fdca26"
             ],
             [
              1,
              "#f0f921"
             ]
            ],
            "type": "contour"
           }
          ],
          "contourcarpet": [
           {
            "colorbar": {
             "outlinewidth": 0,
             "ticks": ""
            },
            "type": "contourcarpet"
           }
          ],
          "heatmap": [
           {
            "colorbar": {
             "outlinewidth": 0,
             "ticks": ""
            },
            "colorscale": [
             [
              0,
              "#0d0887"
             ],
             [
              0.1111111111111111,
              "#46039f"
             ],
             [
              0.2222222222222222,
              "#7201a8"
             ],
             [
              0.3333333333333333,
              "#9c179e"
             ],
             [
              0.4444444444444444,
              "#bd3786"
             ],
             [
              0.5555555555555556,
              "#d8576b"
             ],
             [
              0.6666666666666666,
              "#ed7953"
             ],
             [
              0.7777777777777778,
              "#fb9f3a"
             ],
             [
              0.8888888888888888,
              "#fdca26"
             ],
             [
              1,
              "#f0f921"
             ]
            ],
            "type": "heatmap"
           }
          ],
          "heatmapgl": [
           {
            "colorbar": {
             "outlinewidth": 0,
             "ticks": ""
            },
            "colorscale": [
             [
              0,
              "#0d0887"
             ],
             [
              0.1111111111111111,
              "#46039f"
             ],
             [
              0.2222222222222222,
              "#7201a8"
             ],
             [
              0.3333333333333333,
              "#9c179e"
             ],
             [
              0.4444444444444444,
              "#bd3786"
             ],
             [
              0.5555555555555556,
              "#d8576b"
             ],
             [
              0.6666666666666666,
              "#ed7953"
             ],
             [
              0.7777777777777778,
              "#fb9f3a"
             ],
             [
              0.8888888888888888,
              "#fdca26"
             ],
             [
              1,
              "#f0f921"
             ]
            ],
            "type": "heatmapgl"
           }
          ],
          "histogram": [
           {
            "marker": {
             "colorbar": {
              "outlinewidth": 0,
              "ticks": ""
             }
            },
            "type": "histogram"
           }
          ],
          "histogram2d": [
           {
            "colorbar": {
             "outlinewidth": 0,
             "ticks": ""
            },
            "colorscale": [
             [
              0,
              "#0d0887"
             ],
             [
              0.1111111111111111,
              "#46039f"
             ],
             [
              0.2222222222222222,
              "#7201a8"
             ],
             [
              0.3333333333333333,
              "#9c179e"
             ],
             [
              0.4444444444444444,
              "#bd3786"
             ],
             [
              0.5555555555555556,
              "#d8576b"
             ],
             [
              0.6666666666666666,
              "#ed7953"
             ],
             [
              0.7777777777777778,
              "#fb9f3a"
             ],
             [
              0.8888888888888888,
              "#fdca26"
             ],
             [
              1,
              "#f0f921"
             ]
            ],
            "type": "histogram2d"
           }
          ],
          "histogram2dcontour": [
           {
            "colorbar": {
             "outlinewidth": 0,
             "ticks": ""
            },
            "colorscale": [
             [
              0,
              "#0d0887"
             ],
             [
              0.1111111111111111,
              "#46039f"
             ],
             [
              0.2222222222222222,
              "#7201a8"
             ],
             [
              0.3333333333333333,
              "#9c179e"
             ],
             [
              0.4444444444444444,
              "#bd3786"
             ],
             [
              0.5555555555555556,
              "#d8576b"
             ],
             [
              0.6666666666666666,
              "#ed7953"
             ],
             [
              0.7777777777777778,
              "#fb9f3a"
             ],
             [
              0.8888888888888888,
              "#fdca26"
             ],
             [
              1,
              "#f0f921"
             ]
            ],
            "type": "histogram2dcontour"
           }
          ],
          "mesh3d": [
           {
            "colorbar": {
             "outlinewidth": 0,
             "ticks": ""
            },
            "type": "mesh3d"
           }
          ],
          "parcoords": [
           {
            "line": {
             "colorbar": {
              "outlinewidth": 0,
              "ticks": ""
             }
            },
            "type": "parcoords"
           }
          ],
          "pie": [
           {
            "automargin": true,
            "type": "pie"
           }
          ],
          "scatter": [
           {
            "marker": {
             "colorbar": {
              "outlinewidth": 0,
              "ticks": ""
             }
            },
            "type": "scatter"
           }
          ],
          "scatter3d": [
           {
            "line": {
             "colorbar": {
              "outlinewidth": 0,
              "ticks": ""
             }
            },
            "marker": {
             "colorbar": {
              "outlinewidth": 0,
              "ticks": ""
             }
            },
            "type": "scatter3d"
           }
          ],
          "scattercarpet": [
           {
            "marker": {
             "colorbar": {
              "outlinewidth": 0,
              "ticks": ""
             }
            },
            "type": "scattercarpet"
           }
          ],
          "scattergeo": [
           {
            "marker": {
             "colorbar": {
              "outlinewidth": 0,
              "ticks": ""
             }
            },
            "type": "scattergeo"
           }
          ],
          "scattergl": [
           {
            "marker": {
             "colorbar": {
              "outlinewidth": 0,
              "ticks": ""
             }
            },
            "type": "scattergl"
           }
          ],
          "scattermapbox": [
           {
            "marker": {
             "colorbar": {
              "outlinewidth": 0,
              "ticks": ""
             }
            },
            "type": "scattermapbox"
           }
          ],
          "scatterpolar": [
           {
            "marker": {
             "colorbar": {
              "outlinewidth": 0,
              "ticks": ""
             }
            },
            "type": "scatterpolar"
           }
          ],
          "scatterpolargl": [
           {
            "marker": {
             "colorbar": {
              "outlinewidth": 0,
              "ticks": ""
             }
            },
            "type": "scatterpolargl"
           }
          ],
          "scatterternary": [
           {
            "marker": {
             "colorbar": {
              "outlinewidth": 0,
              "ticks": ""
             }
            },
            "type": "scatterternary"
           }
          ],
          "surface": [
           {
            "colorbar": {
             "outlinewidth": 0,
             "ticks": ""
            },
            "colorscale": [
             [
              0,
              "#0d0887"
             ],
             [
              0.1111111111111111,
              "#46039f"
             ],
             [
              0.2222222222222222,
              "#7201a8"
             ],
             [
              0.3333333333333333,
              "#9c179e"
             ],
             [
              0.4444444444444444,
              "#bd3786"
             ],
             [
              0.5555555555555556,
              "#d8576b"
             ],
             [
              0.6666666666666666,
              "#ed7953"
             ],
             [
              0.7777777777777778,
              "#fb9f3a"
             ],
             [
              0.8888888888888888,
              "#fdca26"
             ],
             [
              1,
              "#f0f921"
             ]
            ],
            "type": "surface"
           }
          ],
          "table": [
           {
            "cells": {
             "fill": {
              "color": "#EBF0F8"
             },
             "line": {
              "color": "white"
             }
            },
            "header": {
             "fill": {
              "color": "#C8D4E3"
             },
             "line": {
              "color": "white"
             }
            },
            "type": "table"
           }
          ]
         },
         "layout": {
          "annotationdefaults": {
           "arrowcolor": "#2a3f5f",
           "arrowhead": 0,
           "arrowwidth": 1
          },
          "coloraxis": {
           "colorbar": {
            "outlinewidth": 0,
            "ticks": ""
           }
          },
          "colorscale": {
           "diverging": [
            [
             0,
             "#8e0152"
            ],
            [
             0.1,
             "#c51b7d"
            ],
            [
             0.2,
             "#de77ae"
            ],
            [
             0.3,
             "#f1b6da"
            ],
            [
             0.4,
             "#fde0ef"
            ],
            [
             0.5,
             "#f7f7f7"
            ],
            [
             0.6,
             "#e6f5d0"
            ],
            [
             0.7,
             "#b8e186"
            ],
            [
             0.8,
             "#7fbc41"
            ],
            [
             0.9,
             "#4d9221"
            ],
            [
             1,
             "#276419"
            ]
           ],
           "sequential": [
            [
             0,
             "#0d0887"
            ],
            [
             0.1111111111111111,
             "#46039f"
            ],
            [
             0.2222222222222222,
             "#7201a8"
            ],
            [
             0.3333333333333333,
             "#9c179e"
            ],
            [
             0.4444444444444444,
             "#bd3786"
            ],
            [
             0.5555555555555556,
             "#d8576b"
            ],
            [
             0.6666666666666666,
             "#ed7953"
            ],
            [
             0.7777777777777778,
             "#fb9f3a"
            ],
            [
             0.8888888888888888,
             "#fdca26"
            ],
            [
             1,
             "#f0f921"
            ]
           ],
           "sequentialminus": [
            [
             0,
             "#0d0887"
            ],
            [
             0.1111111111111111,
             "#46039f"
            ],
            [
             0.2222222222222222,
             "#7201a8"
            ],
            [
             0.3333333333333333,
             "#9c179e"
            ],
            [
             0.4444444444444444,
             "#bd3786"
            ],
            [
             0.5555555555555556,
             "#d8576b"
            ],
            [
             0.6666666666666666,
             "#ed7953"
            ],
            [
             0.7777777777777778,
             "#fb9f3a"
            ],
            [
             0.8888888888888888,
             "#fdca26"
            ],
            [
             1,
             "#f0f921"
            ]
           ]
          },
          "colorway": [
           "#636efa",
           "#EF553B",
           "#00cc96",
           "#ab63fa",
           "#FFA15A",
           "#19d3f3",
           "#FF6692",
           "#B6E880",
           "#FF97FF",
           "#FECB52"
          ],
          "font": {
           "color": "#2a3f5f"
          },
          "geo": {
           "bgcolor": "white",
           "lakecolor": "white",
           "landcolor": "#E5ECF6",
           "showlakes": true,
           "showland": true,
           "subunitcolor": "white"
          },
          "hoverlabel": {
           "align": "left"
          },
          "hovermode": "closest",
          "mapbox": {
           "style": "light"
          },
          "paper_bgcolor": "white",
          "plot_bgcolor": "#E5ECF6",
          "polar": {
           "angularaxis": {
            "gridcolor": "white",
            "linecolor": "white",
            "ticks": ""
           },
           "bgcolor": "#E5ECF6",
           "radialaxis": {
            "gridcolor": "white",
            "linecolor": "white",
            "ticks": ""
           }
          },
          "scene": {
           "xaxis": {
            "backgroundcolor": "#E5ECF6",
            "gridcolor": "white",
            "gridwidth": 2,
            "linecolor": "white",
            "showbackground": true,
            "ticks": "",
            "zerolinecolor": "white"
           },
           "yaxis": {
            "backgroundcolor": "#E5ECF6",
            "gridcolor": "white",
            "gridwidth": 2,
            "linecolor": "white",
            "showbackground": true,
            "ticks": "",
            "zerolinecolor": "white"
           },
           "zaxis": {
            "backgroundcolor": "#E5ECF6",
            "gridcolor": "white",
            "gridwidth": 2,
            "linecolor": "white",
            "showbackground": true,
            "ticks": "",
            "zerolinecolor": "white"
           }
          },
          "shapedefaults": {
           "line": {
            "color": "#2a3f5f"
           }
          },
          "ternary": {
           "aaxis": {
            "gridcolor": "white",
            "linecolor": "white",
            "ticks": ""
           },
           "baxis": {
            "gridcolor": "white",
            "linecolor": "white",
            "ticks": ""
           },
           "bgcolor": "#E5ECF6",
           "caxis": {
            "gridcolor": "white",
            "linecolor": "white",
            "ticks": ""
           }
          },
          "title": {
           "x": 0.05
          },
          "xaxis": {
           "automargin": true,
           "gridcolor": "white",
           "linecolor": "white",
           "ticks": "",
           "title": {
            "standoff": 15
           },
           "zerolinecolor": "white",
           "zerolinewidth": 2
          },
          "yaxis": {
           "automargin": true,
           "gridcolor": "white",
           "linecolor": "white",
           "ticks": "",
           "title": {
            "standoff": 15
           },
           "zerolinecolor": "white",
           "zerolinewidth": 2
          }
         }
        },
        "updatemenus": [
         {
          "active": 0,
          "buttons": [
           {
            "args": [
             "shapes",
             []
            ],
            "label": "-",
            "method": "relayout"
           },
           {
            "args": [
             "shapes",
             [
              {
               "fillcolor": "lightgray",
               "layer": "below",
               "line": {
                "color": "white",
                "width": 0.1
               },
               "line_width": 0,
               "type": "rect",
               "x0": "1990-07-01T00:00:00",
               "x1": "1991-01-01T00:00:00",
               "xref": "x",
               "y0": 0,
               "y1": 0.97,
               "yref": "paper"
              },
              {
               "fillcolor": "lightgray",
               "layer": "below",
               "line": {
                "color": "white",
                "width": 0.1
               },
               "line_width": 0,
               "type": "rect",
               "x0": "2001-01-01T00:00:00",
               "x1": "2001-10-01T00:00:00",
               "xref": "x",
               "y0": 0,
               "y1": 0.97,
               "yref": "paper"
              },
              {
               "fillcolor": "lightgray",
               "layer": "below",
               "line": {
                "color": "white",
                "width": 0.1
               },
               "line_width": 0,
               "type": "rect",
               "x0": "2007-10-01T00:00:00",
               "x1": "2009-04-01T00:00:00",
               "xref": "x",
               "y0": 0,
               "y1": 0.97,
               "yref": "paper"
              }
             ]
            ],
            "label": "+",
            "method": "relayout"
           }
          ],
          "direction": "right",
          "type": "buttons",
          "x": 1.1,
          "y": 1.2
         }
        ],
        "width": 1020,
        "xaxis": {
         "linecolor": "rgb(204, 204, 204)",
         "linewidth": 2,
         "showgrid": true,
         "showline": true,
         "showticklabels": true,
         "tickfont": {
          "color": "rgb(82, 82, 82)",
          "family": "Arial",
          "size": 12
         },
         "ticks": "outside"
        },
        "yaxis": {
         "gridcolor": "rgb(204, 204, 204)",
         "showgrid": true,
         "showline": true,
         "showticklabels": true,
         "zeroline": false
        }
       }
      },
      "text/html": [
       "<div>\n",
       "        \n",
       "        \n",
       "            <div id=\"6854332f-f422-4020-91d0-bcf38c10b8a4\" class=\"plotly-graph-div\" style=\"height:190px; width:1020px;\"></div>\n",
       "            <script type=\"text/javascript\">\n",
       "                require([\"plotly\"], function(Plotly) {\n",
       "                    window.PLOTLYENV=window.PLOTLYENV || {};\n",
       "                    \n",
       "                if (document.getElementById(\"6854332f-f422-4020-91d0-bcf38c10b8a4\")) {\n",
       "                    Plotly.newPlot(\n",
       "                        '6854332f-f422-4020-91d0-bcf38c10b8a4',\n",
       "                        [{\"connectgaps\": true, \"line\": {\"color\": \"red\", \"width\": 1.5}, \"mode\": \"lines\", \"name\": \"homeownership\", \"type\": \"scatter\", \"x\": [\"1984-04-01T00:00:00\", \"1984-07-01T00:00:00\", \"1984-10-01T00:00:00\", \"1985-01-01T00:00:00\", \"1985-04-01T00:00:00\", \"1985-07-01T00:00:00\", \"1985-10-01T00:00:00\", \"1986-01-01T00:00:00\", \"1986-04-01T00:00:00\", \"1986-07-01T00:00:00\", \"1986-10-01T00:00:00\", \"1987-01-01T00:00:00\", \"1987-04-01T00:00:00\", \"1987-07-01T00:00:00\", \"1987-10-01T00:00:00\", \"1988-01-01T00:00:00\", \"1988-04-01T00:00:00\", \"1988-07-01T00:00:00\", \"1988-10-01T00:00:00\", \"1989-01-01T00:00:00\", \"1989-04-01T00:00:00\", \"1989-07-01T00:00:00\", \"1989-10-01T00:00:00\", \"1990-01-01T00:00:00\", \"1990-04-01T00:00:00\", \"1990-07-01T00:00:00\", \"1990-10-01T00:00:00\", \"1991-01-01T00:00:00\", \"1991-04-01T00:00:00\", \"1991-07-01T00:00:00\", \"1991-10-01T00:00:00\", \"1992-01-01T00:00:00\", \"1992-04-01T00:00:00\", \"1992-07-01T00:00:00\", \"1992-10-01T00:00:00\", \"1993-01-01T00:00:00\", \"1993-04-01T00:00:00\", \"1993-07-01T00:00:00\", \"1993-10-01T00:00:00\", \"1994-01-01T00:00:00\", \"1994-04-01T00:00:00\", \"1994-07-01T00:00:00\", \"1994-10-01T00:00:00\", \"1995-01-01T00:00:00\", \"1995-04-01T00:00:00\", \"1995-07-01T00:00:00\", \"1995-10-01T00:00:00\", \"1996-01-01T00:00:00\", \"1996-04-01T00:00:00\", \"1996-07-01T00:00:00\", \"1996-10-01T00:00:00\", \"1997-01-01T00:00:00\", \"1997-04-01T00:00:00\", \"1997-07-01T00:00:00\", \"1997-10-01T00:00:00\", \"1998-01-01T00:00:00\", \"1998-04-01T00:00:00\", \"1998-07-01T00:00:00\", \"1998-10-01T00:00:00\", \"1999-01-01T00:00:00\", \"1999-04-01T00:00:00\", \"1999-07-01T00:00:00\", \"1999-10-01T00:00:00\", \"2000-01-01T00:00:00\", \"2000-04-01T00:00:00\", \"2000-07-01T00:00:00\", \"2000-10-01T00:00:00\", \"2001-01-01T00:00:00\", \"2001-04-01T00:00:00\", \"2001-07-01T00:00:00\", \"2001-10-01T00:00:00\", \"2002-01-01T00:00:00\", \"2002-04-01T00:00:00\", \"2002-07-01T00:00:00\", \"2002-10-01T00:00:00\", \"2003-01-01T00:00:00\", \"2003-04-01T00:00:00\", \"2003-07-01T00:00:00\", \"2003-10-01T00:00:00\", \"2004-01-01T00:00:00\", \"2004-04-01T00:00:00\", \"2004-07-01T00:00:00\", \"2004-10-01T00:00:00\", \"2005-01-01T00:00:00\", \"2005-04-01T00:00:00\", \"2005-07-01T00:00:00\", \"2005-10-01T00:00:00\", \"2006-01-01T00:00:00\", \"2006-04-01T00:00:00\", \"2006-07-01T00:00:00\", \"2006-10-01T00:00:00\", \"2007-01-01T00:00:00\", \"2007-04-01T00:00:00\", \"2007-07-01T00:00:00\", \"2007-10-01T00:00:00\", \"2008-01-01T00:00:00\", \"2008-04-01T00:00:00\", \"2008-07-01T00:00:00\", \"2008-10-01T00:00:00\", \"2009-01-01T00:00:00\", \"2009-04-01T00:00:00\", \"2009-07-01T00:00:00\", \"2009-10-01T00:00:00\", \"2010-01-01T00:00:00\", \"2010-04-01T00:00:00\", \"2010-07-01T00:00:00\", \"2010-10-01T00:00:00\", \"2011-01-01T00:00:00\", \"2011-04-01T00:00:00\", \"2011-07-01T00:00:00\", \"2011-10-01T00:00:00\", \"2012-01-01T00:00:00\", \"2012-04-01T00:00:00\", \"2012-07-01T00:00:00\", \"2012-10-01T00:00:00\", \"2013-01-01T00:00:00\", \"2013-04-01T00:00:00\", \"2013-07-01T00:00:00\", \"2013-10-01T00:00:00\", \"2014-01-01T00:00:00\", \"2014-04-01T00:00:00\", \"2014-07-01T00:00:00\", \"2014-10-01T00:00:00\", \"2015-01-01T00:00:00\", \"2015-04-01T00:00:00\", \"2015-07-01T00:00:00\", \"2015-10-01T00:00:00\", \"2016-01-01T00:00:00\", \"2016-04-01T00:00:00\", \"2016-07-01T00:00:00\", \"2016-10-01T00:00:00\", \"2017-01-01T00:00:00\", \"2017-04-01T00:00:00\", \"2017-07-01T00:00:00\", \"2017-10-01T00:00:00\", \"2018-01-01T00:00:00\", \"2018-04-01T00:00:00\", \"2018-07-01T00:00:00\", \"2018-10-01T00:00:00\", \"2019-01-01T00:00:00\", \"2019-04-01T00:00:00\", \"2019-07-01T00:00:00\", \"2019-10-01T00:00:00\", \"2020-01-01T00:00:00\", \"2020-04-01T00:00:00\"], \"y\": [64.6, 64.6, 64.6, 64.1, 64.1, 64.1, 63.9, 63.5, 63.6, 63.8, 63.8, 63.9, 63.8, 63.8, 64.2, 64.1, 63.7, 63.7, 64.0, 63.8, 63.9, 63.8, 64.1, 63.8, 64.0, 63.7, 64.0, 64.1, 63.9, 63.9, 64.2, 64.2, 64.0, 63.9, 64.3, 64.4, 64.2, 64.4, 64.7, 64.6, 63.8, 63.8, 64.1, 64.2, 64.2, 64.7, 65.0, 65.1, 65.1, 65.4, 65.6, 65.4, 65.4, 65.7, 66.0, 65.7, 65.9, 66.0, 66.8, 66.4, 66.7, 66.6, 67.0, 66.9, 67.1, 67.2, 67.7, 67.5, 67.5, 67.7, 68.1, 68.0, 67.8, 67.6, 68.0, 68.3, 68.0, 68.0, 68.4, 68.6, 68.6, 69.2, 69.0, 69.2, 69.1, 68.6, 68.8, 69.0, 68.5, 68.7, 69.0, 68.9, 68.4, 68.2, 68.2, 67.8, 67.8, 68.1, 67.9, 67.5, 67.3, 67.4, 67.6, 67.2, 67.1, 66.9, 66.9, 66.5, 66.4, 65.9, 66.3, 66.0, 65.4, 65.5, 65.5, 65.4, 65.0, 65.0, 65.3, 65.2, 64.8, 64.7, 64.4, 64.0, 63.7, 63.4, 63.7, 63.8, 63.5, 62.9, 63.5, 63.7, 63.6, 63.7, 63.9, 64.2, 64.2, 64.3, 64.4, 64.8, 64.2, 64.1, 64.8, 65.1, 65.3]}, {\"marker\": {\"color\": \"red\", \"size\": 1}, \"mode\": \"markers\", \"type\": \"scatter\", \"x\": [\"1984-04-01T00:00:00\", \"2020-04-01T00:00:00\"], \"y\": [64.6, 65.3]}],\n",
       "                        {\"annotations\": [{\"font\": {\"family\": \"Arial\", \"size\": 12}, \"showarrow\": false, \"text\": \"65\", \"x\": 0.05, \"xanchor\": \"right\", \"xref\": \"paper\", \"y\": 64.6, \"yanchor\": \"top\"}, {\"font\": {\"family\": \"Arial\", \"size\": 12}, \"showarrow\": false, \"text\": \"65\", \"x\": 0.95, \"xanchor\": \"left\", \"xref\": \"paper\", \"y\": 65.3, \"yanchor\": \"top\"}, {\"font\": {\"color\": \"rgb(37,37,37)\", \"family\": \"Arial\", \"size\": 22}, \"showarrow\": false, \"text\": \"Homeownership\", \"x\": 0.0, \"xanchor\": \"left\", \"xref\": \"paper\", \"y\": 1.05, \"yanchor\": \"bottom\", \"yref\": \"paper\"}, {\"font\": {\"color\": \"rgb(150,150,150)\", \"family\": \"Arial\", \"size\": 12}, \"showarrow\": false, \"text\": \"Source: US BLS, FreddieMac, US Census Bureau.\", \"x\": 0, \"xanchor\": \"left\", \"xref\": \"paper\", \"y\": -0.2, \"yanchor\": \"top\", \"yref\": \"paper\"}, {\"font\": {\"color\": \"black\", \"family\": \"Arial\", \"size\": 12}, \"showarrow\": false, \"text\": \"%\", \"x\": 0.0, \"xref\": \"paper\", \"y\": 1.06, \"yref\": \"paper\"}], \"autosize\": false, \"height\": 190, \"margin\": {\"autoexpand\": false, \"b\": 40, \"l\": 120, \"r\": 120, \"t\": 28}, \"plot_bgcolor\": \"white\", \"showlegend\": false, \"template\": {\"data\": {\"bar\": [{\"error_x\": {\"color\": \"#2a3f5f\"}, \"error_y\": {\"color\": \"#2a3f5f\"}, \"marker\": {\"line\": {\"color\": \"#E5ECF6\", \"width\": 0.5}}, \"type\": \"bar\"}], \"barpolar\": [{\"marker\": {\"line\": {\"color\": \"#E5ECF6\", \"width\": 0.5}}, \"type\": \"barpolar\"}], \"carpet\": [{\"aaxis\": {\"endlinecolor\": \"#2a3f5f\", \"gridcolor\": \"white\", \"linecolor\": \"white\", \"minorgridcolor\": \"white\", \"startlinecolor\": \"#2a3f5f\"}, \"baxis\": {\"endlinecolor\": \"#2a3f5f\", \"gridcolor\": \"white\", \"linecolor\": \"white\", \"minorgridcolor\": \"white\", \"startlinecolor\": \"#2a3f5f\"}, \"type\": \"carpet\"}], \"choropleth\": [{\"colorbar\": {\"outlinewidth\": 0, \"ticks\": \"\"}, \"type\": \"choropleth\"}], \"contour\": [{\"colorbar\": {\"outlinewidth\": 0, \"ticks\": \"\"}, \"colorscale\": [[0.0, \"#0d0887\"], [0.1111111111111111, \"#46039f\"], [0.2222222222222222, \"#7201a8\"], [0.3333333333333333, \"#9c179e\"], [0.4444444444444444, \"#bd3786\"], [0.5555555555555556, \"#d8576b\"], [0.6666666666666666, \"#ed7953\"], [0.7777777777777778, \"#fb9f3a\"], [0.8888888888888888, \"#fdca26\"], [1.0, \"#f0f921\"]], \"type\": \"contour\"}], \"contourcarpet\": [{\"colorbar\": {\"outlinewidth\": 0, \"ticks\": \"\"}, \"type\": \"contourcarpet\"}], \"heatmap\": [{\"colorbar\": {\"outlinewidth\": 0, \"ticks\": \"\"}, \"colorscale\": [[0.0, \"#0d0887\"], [0.1111111111111111, \"#46039f\"], [0.2222222222222222, \"#7201a8\"], [0.3333333333333333, \"#9c179e\"], [0.4444444444444444, \"#bd3786\"], [0.5555555555555556, \"#d8576b\"], [0.6666666666666666, \"#ed7953\"], [0.7777777777777778, \"#fb9f3a\"], [0.8888888888888888, \"#fdca26\"], [1.0, \"#f0f921\"]], \"type\": \"heatmap\"}], \"heatmapgl\": [{\"colorbar\": {\"outlinewidth\": 0, \"ticks\": \"\"}, \"colorscale\": [[0.0, \"#0d0887\"], [0.1111111111111111, \"#46039f\"], [0.2222222222222222, \"#7201a8\"], [0.3333333333333333, \"#9c179e\"], [0.4444444444444444, \"#bd3786\"], [0.5555555555555556, \"#d8576b\"], [0.6666666666666666, \"#ed7953\"], [0.7777777777777778, \"#fb9f3a\"], [0.8888888888888888, \"#fdca26\"], [1.0, \"#f0f921\"]], \"type\": \"heatmapgl\"}], \"histogram\": [{\"marker\": {\"colorbar\": {\"outlinewidth\": 0, \"ticks\": \"\"}}, \"type\": \"histogram\"}], \"histogram2d\": [{\"colorbar\": {\"outlinewidth\": 0, \"ticks\": \"\"}, \"colorscale\": [[0.0, \"#0d0887\"], [0.1111111111111111, \"#46039f\"], [0.2222222222222222, \"#7201a8\"], [0.3333333333333333, \"#9c179e\"], [0.4444444444444444, \"#bd3786\"], [0.5555555555555556, \"#d8576b\"], [0.6666666666666666, \"#ed7953\"], [0.7777777777777778, \"#fb9f3a\"], [0.8888888888888888, \"#fdca26\"], [1.0, \"#f0f921\"]], \"type\": \"histogram2d\"}], \"histogram2dcontour\": [{\"colorbar\": {\"outlinewidth\": 0, \"ticks\": \"\"}, \"colorscale\": [[0.0, \"#0d0887\"], [0.1111111111111111, \"#46039f\"], [0.2222222222222222, \"#7201a8\"], [0.3333333333333333, \"#9c179e\"], [0.4444444444444444, \"#bd3786\"], [0.5555555555555556, \"#d8576b\"], [0.6666666666666666, \"#ed7953\"], [0.7777777777777778, \"#fb9f3a\"], [0.8888888888888888, \"#fdca26\"], [1.0, \"#f0f921\"]], \"type\": \"histogram2dcontour\"}], \"mesh3d\": [{\"colorbar\": {\"outlinewidth\": 0, \"ticks\": \"\"}, \"type\": \"mesh3d\"}], \"parcoords\": [{\"line\": {\"colorbar\": {\"outlinewidth\": 0, \"ticks\": \"\"}}, \"type\": \"parcoords\"}], \"pie\": [{\"automargin\": true, \"type\": \"pie\"}], \"scatter\": [{\"marker\": {\"colorbar\": {\"outlinewidth\": 0, \"ticks\": \"\"}}, \"type\": \"scatter\"}], \"scatter3d\": [{\"line\": {\"colorbar\": {\"outlinewidth\": 0, \"ticks\": \"\"}}, \"marker\": {\"colorbar\": {\"outlinewidth\": 0, \"ticks\": \"\"}}, \"type\": \"scatter3d\"}], \"scattercarpet\": [{\"marker\": {\"colorbar\": {\"outlinewidth\": 0, \"ticks\": \"\"}}, \"type\": \"scattercarpet\"}], \"scattergeo\": [{\"marker\": {\"colorbar\": {\"outlinewidth\": 0, \"ticks\": \"\"}}, \"type\": \"scattergeo\"}], \"scattergl\": [{\"marker\": {\"colorbar\": {\"outlinewidth\": 0, \"ticks\": \"\"}}, \"type\": \"scattergl\"}], \"scattermapbox\": [{\"marker\": {\"colorbar\": {\"outlinewidth\": 0, \"ticks\": \"\"}}, \"type\": \"scattermapbox\"}], \"scatterpolar\": [{\"marker\": {\"colorbar\": {\"outlinewidth\": 0, \"ticks\": \"\"}}, \"type\": \"scatterpolar\"}], \"scatterpolargl\": [{\"marker\": {\"colorbar\": {\"outlinewidth\": 0, \"ticks\": \"\"}}, \"type\": \"scatterpolargl\"}], \"scatterternary\": [{\"marker\": {\"colorbar\": {\"outlinewidth\": 0, \"ticks\": \"\"}}, \"type\": \"scatterternary\"}], \"surface\": [{\"colorbar\": {\"outlinewidth\": 0, \"ticks\": \"\"}, \"colorscale\": [[0.0, \"#0d0887\"], [0.1111111111111111, \"#46039f\"], [0.2222222222222222, \"#7201a8\"], [0.3333333333333333, \"#9c179e\"], [0.4444444444444444, \"#bd3786\"], [0.5555555555555556, \"#d8576b\"], [0.6666666666666666, \"#ed7953\"], [0.7777777777777778, \"#fb9f3a\"], [0.8888888888888888, \"#fdca26\"], [1.0, \"#f0f921\"]], \"type\": \"surface\"}], \"table\": [{\"cells\": {\"fill\": {\"color\": \"#EBF0F8\"}, \"line\": {\"color\": \"white\"}}, \"header\": {\"fill\": {\"color\": \"#C8D4E3\"}, \"line\": {\"color\": \"white\"}}, \"type\": \"table\"}]}, \"layout\": {\"annotationdefaults\": {\"arrowcolor\": \"#2a3f5f\", \"arrowhead\": 0, \"arrowwidth\": 1}, \"coloraxis\": {\"colorbar\": {\"outlinewidth\": 0, \"ticks\": \"\"}}, \"colorscale\": {\"diverging\": [[0, \"#8e0152\"], [0.1, \"#c51b7d\"], [0.2, \"#de77ae\"], [0.3, \"#f1b6da\"], [0.4, \"#fde0ef\"], [0.5, \"#f7f7f7\"], [0.6, \"#e6f5d0\"], [0.7, \"#b8e186\"], [0.8, \"#7fbc41\"], [0.9, \"#4d9221\"], [1, \"#276419\"]], \"sequential\": [[0.0, \"#0d0887\"], [0.1111111111111111, \"#46039f\"], [0.2222222222222222, \"#7201a8\"], [0.3333333333333333, \"#9c179e\"], [0.4444444444444444, \"#bd3786\"], [0.5555555555555556, \"#d8576b\"], [0.6666666666666666, \"#ed7953\"], [0.7777777777777778, \"#fb9f3a\"], [0.8888888888888888, \"#fdca26\"], [1.0, \"#f0f921\"]], \"sequentialminus\": [[0.0, \"#0d0887\"], [0.1111111111111111, \"#46039f\"], [0.2222222222222222, \"#7201a8\"], [0.3333333333333333, \"#9c179e\"], [0.4444444444444444, \"#bd3786\"], [0.5555555555555556, \"#d8576b\"], [0.6666666666666666, \"#ed7953\"], [0.7777777777777778, \"#fb9f3a\"], [0.8888888888888888, \"#fdca26\"], [1.0, \"#f0f921\"]]}, \"colorway\": [\"#636efa\", \"#EF553B\", \"#00cc96\", \"#ab63fa\", \"#FFA15A\", \"#19d3f3\", \"#FF6692\", \"#B6E880\", \"#FF97FF\", \"#FECB52\"], \"font\": {\"color\": \"#2a3f5f\"}, \"geo\": {\"bgcolor\": \"white\", \"lakecolor\": \"white\", \"landcolor\": \"#E5ECF6\", \"showlakes\": true, \"showland\": true, \"subunitcolor\": \"white\"}, \"hoverlabel\": {\"align\": \"left\"}, \"hovermode\": \"closest\", \"mapbox\": {\"style\": \"light\"}, \"paper_bgcolor\": \"white\", \"plot_bgcolor\": \"#E5ECF6\", \"polar\": {\"angularaxis\": {\"gridcolor\": \"white\", \"linecolor\": \"white\", \"ticks\": \"\"}, \"bgcolor\": \"#E5ECF6\", \"radialaxis\": {\"gridcolor\": \"white\", \"linecolor\": \"white\", \"ticks\": \"\"}}, \"scene\": {\"xaxis\": {\"backgroundcolor\": \"#E5ECF6\", \"gridcolor\": \"white\", \"gridwidth\": 2, \"linecolor\": \"white\", \"showbackground\": true, \"ticks\": \"\", \"zerolinecolor\": \"white\"}, \"yaxis\": {\"backgroundcolor\": \"#E5ECF6\", \"gridcolor\": \"white\", \"gridwidth\": 2, \"linecolor\": \"white\", \"showbackground\": true, \"ticks\": \"\", \"zerolinecolor\": \"white\"}, \"zaxis\": {\"backgroundcolor\": \"#E5ECF6\", \"gridcolor\": \"white\", \"gridwidth\": 2, \"linecolor\": \"white\", \"showbackground\": true, \"ticks\": \"\", \"zerolinecolor\": \"white\"}}, \"shapedefaults\": {\"line\": {\"color\": \"#2a3f5f\"}}, \"ternary\": {\"aaxis\": {\"gridcolor\": \"white\", \"linecolor\": \"white\", \"ticks\": \"\"}, \"baxis\": {\"gridcolor\": \"white\", \"linecolor\": \"white\", \"ticks\": \"\"}, \"bgcolor\": \"#E5ECF6\", \"caxis\": {\"gridcolor\": \"white\", \"linecolor\": \"white\", \"ticks\": \"\"}}, \"title\": {\"x\": 0.05}, \"xaxis\": {\"automargin\": true, \"gridcolor\": \"white\", \"linecolor\": \"white\", \"ticks\": \"\", \"title\": {\"standoff\": 15}, \"zerolinecolor\": \"white\", \"zerolinewidth\": 2}, \"yaxis\": {\"automargin\": true, \"gridcolor\": \"white\", \"linecolor\": \"white\", \"ticks\": \"\", \"title\": {\"standoff\": 15}, \"zerolinecolor\": \"white\", \"zerolinewidth\": 2}}}, \"updatemenus\": [{\"active\": 0, \"buttons\": [{\"args\": [\"shapes\", []], \"label\": \"-\", \"method\": \"relayout\"}, {\"args\": [\"shapes\", [{\"fillcolor\": \"lightgray\", \"layer\": \"below\", \"line\": {\"color\": \"white\", \"width\": 0.1}, \"line_width\": 0, \"type\": \"rect\", \"x0\": \"1990-07-01T00:00:00\", \"x1\": \"1991-01-01T00:00:00\", \"xref\": \"x\", \"y0\": 0, \"y1\": 0.97, \"yref\": \"paper\"}, {\"fillcolor\": \"lightgray\", \"layer\": \"below\", \"line\": {\"color\": \"white\", \"width\": 0.1}, \"line_width\": 0, \"type\": \"rect\", \"x0\": \"2001-01-01T00:00:00\", \"x1\": \"2001-10-01T00:00:00\", \"xref\": \"x\", \"y0\": 0, \"y1\": 0.97, \"yref\": \"paper\"}, {\"fillcolor\": \"lightgray\", \"layer\": \"below\", \"line\": {\"color\": \"white\", \"width\": 0.1}, \"line_width\": 0, \"type\": \"rect\", \"x0\": \"2007-10-01T00:00:00\", \"x1\": \"2009-04-01T00:00:00\", \"xref\": \"x\", \"y0\": 0, \"y1\": 0.97, \"yref\": \"paper\"}]], \"label\": \"+\", \"method\": \"relayout\"}], \"direction\": \"right\", \"type\": \"buttons\", \"x\": 1.1, \"y\": 1.2}], \"width\": 1020, \"xaxis\": {\"linecolor\": \"rgb(204, 204, 204)\", \"linewidth\": 2, \"showgrid\": true, \"showline\": true, \"showticklabels\": true, \"tickfont\": {\"color\": \"rgb(82, 82, 82)\", \"family\": \"Arial\", \"size\": 12}, \"ticks\": \"outside\"}, \"yaxis\": {\"gridcolor\": \"rgb(204, 204, 204)\", \"showgrid\": true, \"showline\": true, \"showticklabels\": true, \"zeroline\": false}},\n",
       "                        {\"responsive\": true}\n",
       "                    ).then(function(){\n",
       "                            \n",
       "var gd = document.getElementById('6854332f-f422-4020-91d0-bcf38c10b8a4');\n",
       "var x = new MutationObserver(function (mutations, observer) {{\n",
       "        var display = window.getComputedStyle(gd).display;\n",
       "        if (!display || display === 'none') {{\n",
       "            console.log([gd, 'removed!']);\n",
       "            Plotly.purge(gd);\n",
       "            observer.disconnect();\n",
       "        }}\n",
       "}});\n",
       "\n",
       "// Listen for the removal of the full notebook cells\n",
       "var notebookContainer = gd.closest('#notebook-container');\n",
       "if (notebookContainer) {{\n",
       "    x.observe(notebookContainer, {childList: true});\n",
       "}}\n",
       "\n",
       "// Listen for the clearing of the current output cell\n",
       "var outputEl = gd.closest('.output');\n",
       "if (outputEl) {{\n",
       "    x.observe(outputEl, {childList: true});\n",
       "}}\n",
       "\n",
       "                        })\n",
       "                };\n",
       "                });\n",
       "            </script>\n",
       "        </div>"
      ]
     },
     "metadata": {},
     "output_type": "display_data"
    }
   ],
   "source": [
    "fig = plot_nice(title='Homeownership', dic=dic, df=df, \n",
    "          margin=dict(autoexpand=False,l=120,r=120,t=28,b=40), \n",
    "          show_series_label=False,height=190,\n",
    "          recessions=True,\n",
    "          y_units='%', colors=['red'], source = 'US BLS, FreddieMac, US Census Bureau.')"
   ]
  },
  {
   "cell_type": "code",
   "execution_count": 403,
   "metadata": {},
   "outputs": [],
   "source": [
    "fig.write_html(\"../images/jm_f3.html\")"
   ]
  },
  {
   "cell_type": "markdown",
   "metadata": {},
   "source": [
    "# House Prices"
   ]
  },
  {
   "cell_type": "code",
   "execution_count": 423,
   "metadata": {
    "scrolled": true
   },
   "outputs": [],
   "source": [
    "s = ['nominal median sales price house sold [MSPUS]']\n",
    "dic = dict_from_FRED_description(s)\n",
    "df = make_hrizontal_tbl(dic, start=start)\n",
    "df = df.join(CPIq)\n",
    "df = (100*df.iloc[:,0]/df.iloc[:,1]).to_frame()\n",
    "df.index  = df.index+ pd.offsets.MonthOffset(2) # bcs data is quartely and when imported come as first day of quarter\n",
    "df.columns=['median house prices sold']\n",
    "dic = {'median house prices sold': 'median house prices sold'}\n",
    "df = df[((df.index>='1984-06-01') & (df.index<='2018-07-01'))]"
   ]
  },
  {
   "cell_type": "code",
   "execution_count": 424,
   "metadata": {
    "scrolled": false
   },
   "outputs": [
    {
     "data": {
      "application/vnd.plotly.v1+json": {
       "config": {
        "plotlyServerURL": "https://plot.ly"
       },
       "data": [
        {
         "connectgaps": true,
         "line": {
          "color": "rgb(41, 58, 143)",
          "width": 1.5
         },
         "mode": "lines",
         "name": "median house prices sold",
         "type": "scatter",
         "x": [
          "1984-06-01T00:00:00",
          "1984-09-01T00:00:00",
          "1984-12-01T00:00:00",
          "1985-03-01T00:00:00",
          "1985-06-01T00:00:00",
          "1985-09-01T00:00:00",
          "1985-12-01T00:00:00",
          "1986-03-01T00:00:00",
          "1986-06-01T00:00:00",
          "1986-09-01T00:00:00",
          "1986-12-01T00:00:00",
          "1987-03-01T00:00:00",
          "1987-06-01T00:00:00",
          "1987-09-01T00:00:00",
          "1987-12-01T00:00:00",
          "1988-03-01T00:00:00",
          "1988-06-01T00:00:00",
          "1988-09-01T00:00:00",
          "1988-12-01T00:00:00",
          "1989-03-01T00:00:00",
          "1989-06-01T00:00:00",
          "1989-09-01T00:00:00",
          "1989-12-01T00:00:00",
          "1990-03-01T00:00:00",
          "1990-06-01T00:00:00",
          "1990-09-01T00:00:00",
          "1990-12-01T00:00:00",
          "1991-03-01T00:00:00",
          "1991-06-01T00:00:00",
          "1991-09-01T00:00:00",
          "1991-12-01T00:00:00",
          "1992-03-01T00:00:00",
          "1992-06-01T00:00:00",
          "1992-09-01T00:00:00",
          "1992-12-01T00:00:00",
          "1993-03-01T00:00:00",
          "1993-06-01T00:00:00",
          "1993-09-01T00:00:00",
          "1993-12-01T00:00:00",
          "1994-03-01T00:00:00",
          "1994-06-01T00:00:00",
          "1994-09-01T00:00:00",
          "1994-12-01T00:00:00",
          "1995-03-01T00:00:00",
          "1995-06-01T00:00:00",
          "1995-09-01T00:00:00",
          "1995-12-01T00:00:00",
          "1996-03-01T00:00:00",
          "1996-06-01T00:00:00",
          "1996-09-01T00:00:00",
          "1996-12-01T00:00:00",
          "1997-03-01T00:00:00",
          "1997-06-01T00:00:00",
          "1997-09-01T00:00:00",
          "1997-12-01T00:00:00",
          "1998-03-01T00:00:00",
          "1998-06-01T00:00:00",
          "1998-09-01T00:00:00",
          "1998-12-01T00:00:00",
          "1999-03-01T00:00:00",
          "1999-06-01T00:00:00",
          "1999-09-01T00:00:00",
          "1999-12-01T00:00:00",
          "2000-03-01T00:00:00",
          "2000-06-01T00:00:00",
          "2000-09-01T00:00:00",
          "2000-12-01T00:00:00",
          "2001-03-01T00:00:00",
          "2001-06-01T00:00:00",
          "2001-09-01T00:00:00",
          "2001-12-01T00:00:00",
          "2002-03-01T00:00:00",
          "2002-06-01T00:00:00",
          "2002-09-01T00:00:00",
          "2002-12-01T00:00:00",
          "2003-03-01T00:00:00",
          "2003-06-01T00:00:00",
          "2003-09-01T00:00:00",
          "2003-12-01T00:00:00",
          "2004-03-01T00:00:00",
          "2004-06-01T00:00:00",
          "2004-09-01T00:00:00",
          "2004-12-01T00:00:00",
          "2005-03-01T00:00:00",
          "2005-06-01T00:00:00",
          "2005-09-01T00:00:00",
          "2005-12-01T00:00:00",
          "2006-03-01T00:00:00",
          "2006-06-01T00:00:00",
          "2006-09-01T00:00:00",
          "2006-12-01T00:00:00",
          "2007-03-01T00:00:00",
          "2007-06-01T00:00:00",
          "2007-09-01T00:00:00",
          "2007-12-01T00:00:00",
          "2008-03-01T00:00:00",
          "2008-06-01T00:00:00",
          "2008-09-01T00:00:00",
          "2008-12-01T00:00:00",
          "2009-03-01T00:00:00",
          "2009-06-01T00:00:00",
          "2009-09-01T00:00:00",
          "2009-12-01T00:00:00",
          "2010-03-01T00:00:00",
          "2010-06-01T00:00:00",
          "2010-09-01T00:00:00",
          "2010-12-01T00:00:00",
          "2011-03-01T00:00:00",
          "2011-06-01T00:00:00",
          "2011-09-01T00:00:00",
          "2011-12-01T00:00:00",
          "2012-03-01T00:00:00",
          "2012-06-01T00:00:00",
          "2012-09-01T00:00:00",
          "2012-12-01T00:00:00",
          "2013-03-01T00:00:00",
          "2013-06-01T00:00:00",
          "2013-09-01T00:00:00",
          "2013-12-01T00:00:00",
          "2014-03-01T00:00:00",
          "2014-06-01T00:00:00",
          "2014-09-01T00:00:00",
          "2014-12-01T00:00:00",
          "2015-03-01T00:00:00",
          "2015-06-01T00:00:00",
          "2015-09-01T00:00:00",
          "2015-12-01T00:00:00",
          "2016-03-01T00:00:00",
          "2016-06-01T00:00:00",
          "2016-09-01T00:00:00",
          "2016-12-01T00:00:00",
          "2017-03-01T00:00:00",
          "2017-06-01T00:00:00",
          "2017-09-01T00:00:00",
          "2017-12-01T00:00:00",
          "2018-03-01T00:00:00",
          "2018-06-01T00:00:00"
         ],
         "y": [
          184804.55942029005,
          183892.50000000012,
          179844.80816714154,
          184676.98494353823,
          186327.63226608624,
          182760.09638554207,
          188743.81284403682,
          190363.5168846975,
          200207.26719657608,
          200935.10483135842,
          203831.75920337977,
          207548.87567084067,
          216753.164504717,
          219869.91248541442,
          229139.26734104048,
          224306.30914826496,
          221762.43266231933,
          229050.04201680684,
          224407.61679135478,
          229874.02191780813,
          227942.74440550024,
          228266.77367576247,
          235008.38135593236,
          229365.3186670136,
          232434.30471771068,
          210828.60364926507,
          215282.07450784952,
          211046.54959188713,
          209626.29677895247,
          208214.0556368962,
          206500.7744433688,
          204256.23677884604,
          203545.13358778637,
          202003.125,
          210261.501994837,
          207086.14864864867,
          208890.7633587785,
          207928.79806585304,
          206219.40397351002,
          210035.51465576017,
          208849.14143696346,
          206454.70047011433,
          208899.915423993,
          204234.7105612019,
          208655.99145299155,
          204663.61098996957,
          212806.41509433967,
          209402.37962166822,
          212012.00959079308,
          210949.65034965053,
          215257.24600840328,
          215290.0292336606,
          215981.74124999996,
          213728.01616915423,
          211409.39010309274,
          222678.9345679014,
          218010.91981132096,
          221976.74556213006,
          220939.89236393198,
          226465.8587616349,
          226639.4731873871,
          225534.71710526303,
          232607.81773204036,
          230328.68959435623,
          225633.9163912114,
          231262.83005780348,
          235203.21006313356,
          228797.53610005698,
          239514.73278133225,
          230167.56896228186,
          228471.03492957752,
          251170.57974541385,
          247230.21396731076,
          233951.93626454845,
          248247.5575757576,
          240420.80712597695,
          248324.07465404228,
          246612.48310139176,
          254513.7536910336,
          270024.1880021426,
          274091.58122232073,
          267223.0038725576,
          283330.66666666674,
          286465.7035175879,
          286011.39191049925,
          284999.078331638,
          290965.9391903242,
          294330.435661765,
          290049.45561444195,
          274854.1683347005,
          287466.0879736408,
          298595.69100955885,
          277816.57834497263,
          275613.0913392869,
          268444.78256256465,
          260555.35626162266,
          258748.74198322656,
          245289.70670882447,
          246605.61752391892,
          232577.85799825154,
          245224.06900007962,
          235867.92805929118,
          239168.4237202232,
          243042.3569516134,
          239419.55799426915,
          243722.54195835747,
          241980.6785647636,
          242200.8162058214,
          240744.44022235266,
          234361.25530528033,
          230808.51878169307,
          247474.45669787948,
          247263.89767840295,
          256567.93000378518,
          257843.93307669705,
          263647.7338147045,
          273844.54610097193,
          269018.86669524235,
          276935.05597248644,
          276830.4964328308,
          288175.8922176081,
          280454.1200249857,
          299062.3485045696,
          291242.2357714941,
          289169.5421168131,
          294757.85079144815,
          301457.0588260039,
          298841.7576132266,
          302861.7088356507,
          299286.61021316866,
          304353.2364740767,
          304361.47148329543,
          309024.6682774186,
          309603.26908733865,
          323915.2448938317,
          315534.91996832925,
          298504.59593521
         ]
        },
        {
         "marker": {
          "color": "rgb(41, 58, 143)",
          "size": 1
         },
         "mode": "markers",
         "type": "scatter",
         "x": [
          "1984-06-01T00:00:00",
          "2018-06-01T00:00:00"
         ],
         "y": [
          184804.55942029005,
          298504.59593521
         ]
        }
       ],
       "layout": {
        "annotations": [
         {
          "font": {
           "family": "Arial",
           "size": 12
          },
          "showarrow": false,
          "text": "185k",
          "x": 0.05,
          "xanchor": "right",
          "xref": "paper",
          "y": 184804.55942029005,
          "yanchor": "top"
         },
         {
          "font": {
           "family": "Arial",
           "size": 12
          },
          "showarrow": false,
          "text": "299k",
          "x": 0.95,
          "xanchor": "left",
          "xref": "paper",
          "y": 298504.59593521,
          "yanchor": "top"
         },
         {
          "font": {
           "color": "rgb(37,37,37)",
           "family": "Arial",
           "size": 22
          },
          "showarrow": false,
          "text": "Median house price sold",
          "x": 0,
          "xanchor": "left",
          "xref": "paper",
          "y": 1.05,
          "yanchor": "bottom",
          "yref": "paper"
         },
         {
          "font": {
           "color": "rgb(150,150,150)",
           "family": "Arial",
           "size": 12
          },
          "showarrow": false,
          "text": "Source: U.S. Census Bureau",
          "x": 0,
          "xanchor": "left",
          "xref": "paper",
          "y": -0.2,
          "yanchor": "top",
          "yref": "paper"
         },
         {
          "font": {
           "color": "black",
           "family": "Arial",
           "size": 12
          },
          "showarrow": false,
          "text": "2005 US$",
          "x": 0,
          "xref": "paper",
          "y": 1.06,
          "yref": "paper"
         }
        ],
        "autosize": false,
        "height": 160,
        "margin": {
         "autoexpand": false,
         "b": 0,
         "l": 120,
         "r": 120,
         "t": 38
        },
        "plot_bgcolor": "white",
        "showlegend": false,
        "template": {
         "data": {
          "bar": [
           {
            "error_x": {
             "color": "#2a3f5f"
            },
            "error_y": {
             "color": "#2a3f5f"
            },
            "marker": {
             "line": {
              "color": "#E5ECF6",
              "width": 0.5
             }
            },
            "type": "bar"
           }
          ],
          "barpolar": [
           {
            "marker": {
             "line": {
              "color": "#E5ECF6",
              "width": 0.5
             }
            },
            "type": "barpolar"
           }
          ],
          "carpet": [
           {
            "aaxis": {
             "endlinecolor": "#2a3f5f",
             "gridcolor": "white",
             "linecolor": "white",
             "minorgridcolor": "white",
             "startlinecolor": "#2a3f5f"
            },
            "baxis": {
             "endlinecolor": "#2a3f5f",
             "gridcolor": "white",
             "linecolor": "white",
             "minorgridcolor": "white",
             "startlinecolor": "#2a3f5f"
            },
            "type": "carpet"
           }
          ],
          "choropleth": [
           {
            "colorbar": {
             "outlinewidth": 0,
             "ticks": ""
            },
            "type": "choropleth"
           }
          ],
          "contour": [
           {
            "colorbar": {
             "outlinewidth": 0,
             "ticks": ""
            },
            "colorscale": [
             [
              0,
              "#0d0887"
             ],
             [
              0.1111111111111111,
              "#46039f"
             ],
             [
              0.2222222222222222,
              "#7201a8"
             ],
             [
              0.3333333333333333,
              "#9c179e"
             ],
             [
              0.4444444444444444,
              "#bd3786"
             ],
             [
              0.5555555555555556,
              "#d8576b"
             ],
             [
              0.6666666666666666,
              "#ed7953"
             ],
             [
              0.7777777777777778,
              "#fb9f3a"
             ],
             [
              0.8888888888888888,
              "#fdca26"
             ],
             [
              1,
              "#f0f921"
             ]
            ],
            "type": "contour"
           }
          ],
          "contourcarpet": [
           {
            "colorbar": {
             "outlinewidth": 0,
             "ticks": ""
            },
            "type": "contourcarpet"
           }
          ],
          "heatmap": [
           {
            "colorbar": {
             "outlinewidth": 0,
             "ticks": ""
            },
            "colorscale": [
             [
              0,
              "#0d0887"
             ],
             [
              0.1111111111111111,
              "#46039f"
             ],
             [
              0.2222222222222222,
              "#7201a8"
             ],
             [
              0.3333333333333333,
              "#9c179e"
             ],
             [
              0.4444444444444444,
              "#bd3786"
             ],
             [
              0.5555555555555556,
              "#d8576b"
             ],
             [
              0.6666666666666666,
              "#ed7953"
             ],
             [
              0.7777777777777778,
              "#fb9f3a"
             ],
             [
              0.8888888888888888,
              "#fdca26"
             ],
             [
              1,
              "#f0f921"
             ]
            ],
            "type": "heatmap"
           }
          ],
          "heatmapgl": [
           {
            "colorbar": {
             "outlinewidth": 0,
             "ticks": ""
            },
            "colorscale": [
             [
              0,
              "#0d0887"
             ],
             [
              0.1111111111111111,
              "#46039f"
             ],
             [
              0.2222222222222222,
              "#7201a8"
             ],
             [
              0.3333333333333333,
              "#9c179e"
             ],
             [
              0.4444444444444444,
              "#bd3786"
             ],
             [
              0.5555555555555556,
              "#d8576b"
             ],
             [
              0.6666666666666666,
              "#ed7953"
             ],
             [
              0.7777777777777778,
              "#fb9f3a"
             ],
             [
              0.8888888888888888,
              "#fdca26"
             ],
             [
              1,
              "#f0f921"
             ]
            ],
            "type": "heatmapgl"
           }
          ],
          "histogram": [
           {
            "marker": {
             "colorbar": {
              "outlinewidth": 0,
              "ticks": ""
             }
            },
            "type": "histogram"
           }
          ],
          "histogram2d": [
           {
            "colorbar": {
             "outlinewidth": 0,
             "ticks": ""
            },
            "colorscale": [
             [
              0,
              "#0d0887"
             ],
             [
              0.1111111111111111,
              "#46039f"
             ],
             [
              0.2222222222222222,
              "#7201a8"
             ],
             [
              0.3333333333333333,
              "#9c179e"
             ],
             [
              0.4444444444444444,
              "#bd3786"
             ],
             [
              0.5555555555555556,
              "#d8576b"
             ],
             [
              0.6666666666666666,
              "#ed7953"
             ],
             [
              0.7777777777777778,
              "#fb9f3a"
             ],
             [
              0.8888888888888888,
              "#fdca26"
             ],
             [
              1,
              "#f0f921"
             ]
            ],
            "type": "histogram2d"
           }
          ],
          "histogram2dcontour": [
           {
            "colorbar": {
             "outlinewidth": 0,
             "ticks": ""
            },
            "colorscale": [
             [
              0,
              "#0d0887"
             ],
             [
              0.1111111111111111,
              "#46039f"
             ],
             [
              0.2222222222222222,
              "#7201a8"
             ],
             [
              0.3333333333333333,
              "#9c179e"
             ],
             [
              0.4444444444444444,
              "#bd3786"
             ],
             [
              0.5555555555555556,
              "#d8576b"
             ],
             [
              0.6666666666666666,
              "#ed7953"
             ],
             [
              0.7777777777777778,
              "#fb9f3a"
             ],
             [
              0.8888888888888888,
              "#fdca26"
             ],
             [
              1,
              "#f0f921"
             ]
            ],
            "type": "histogram2dcontour"
           }
          ],
          "mesh3d": [
           {
            "colorbar": {
             "outlinewidth": 0,
             "ticks": ""
            },
            "type": "mesh3d"
           }
          ],
          "parcoords": [
           {
            "line": {
             "colorbar": {
              "outlinewidth": 0,
              "ticks": ""
             }
            },
            "type": "parcoords"
           }
          ],
          "pie": [
           {
            "automargin": true,
            "type": "pie"
           }
          ],
          "scatter": [
           {
            "marker": {
             "colorbar": {
              "outlinewidth": 0,
              "ticks": ""
             }
            },
            "type": "scatter"
           }
          ],
          "scatter3d": [
           {
            "line": {
             "colorbar": {
              "outlinewidth": 0,
              "ticks": ""
             }
            },
            "marker": {
             "colorbar": {
              "outlinewidth": 0,
              "ticks": ""
             }
            },
            "type": "scatter3d"
           }
          ],
          "scattercarpet": [
           {
            "marker": {
             "colorbar": {
              "outlinewidth": 0,
              "ticks": ""
             }
            },
            "type": "scattercarpet"
           }
          ],
          "scattergeo": [
           {
            "marker": {
             "colorbar": {
              "outlinewidth": 0,
              "ticks": ""
             }
            },
            "type": "scattergeo"
           }
          ],
          "scattergl": [
           {
            "marker": {
             "colorbar": {
              "outlinewidth": 0,
              "ticks": ""
             }
            },
            "type": "scattergl"
           }
          ],
          "scattermapbox": [
           {
            "marker": {
             "colorbar": {
              "outlinewidth": 0,
              "ticks": ""
             }
            },
            "type": "scattermapbox"
           }
          ],
          "scatterpolar": [
           {
            "marker": {
             "colorbar": {
              "outlinewidth": 0,
              "ticks": ""
             }
            },
            "type": "scatterpolar"
           }
          ],
          "scatterpolargl": [
           {
            "marker": {
             "colorbar": {
              "outlinewidth": 0,
              "ticks": ""
             }
            },
            "type": "scatterpolargl"
           }
          ],
          "scatterternary": [
           {
            "marker": {
             "colorbar": {
              "outlinewidth": 0,
              "ticks": ""
             }
            },
            "type": "scatterternary"
           }
          ],
          "surface": [
           {
            "colorbar": {
             "outlinewidth": 0,
             "ticks": ""
            },
            "colorscale": [
             [
              0,
              "#0d0887"
             ],
             [
              0.1111111111111111,
              "#46039f"
             ],
             [
              0.2222222222222222,
              "#7201a8"
             ],
             [
              0.3333333333333333,
              "#9c179e"
             ],
             [
              0.4444444444444444,
              "#bd3786"
             ],
             [
              0.5555555555555556,
              "#d8576b"
             ],
             [
              0.6666666666666666,
              "#ed7953"
             ],
             [
              0.7777777777777778,
              "#fb9f3a"
             ],
             [
              0.8888888888888888,
              "#fdca26"
             ],
             [
              1,
              "#f0f921"
             ]
            ],
            "type": "surface"
           }
          ],
          "table": [
           {
            "cells": {
             "fill": {
              "color": "#EBF0F8"
             },
             "line": {
              "color": "white"
             }
            },
            "header": {
             "fill": {
              "color": "#C8D4E3"
             },
             "line": {
              "color": "white"
             }
            },
            "type": "table"
           }
          ]
         },
         "layout": {
          "annotationdefaults": {
           "arrowcolor": "#2a3f5f",
           "arrowhead": 0,
           "arrowwidth": 1
          },
          "coloraxis": {
           "colorbar": {
            "outlinewidth": 0,
            "ticks": ""
           }
          },
          "colorscale": {
           "diverging": [
            [
             0,
             "#8e0152"
            ],
            [
             0.1,
             "#c51b7d"
            ],
            [
             0.2,
             "#de77ae"
            ],
            [
             0.3,
             "#f1b6da"
            ],
            [
             0.4,
             "#fde0ef"
            ],
            [
             0.5,
             "#f7f7f7"
            ],
            [
             0.6,
             "#e6f5d0"
            ],
            [
             0.7,
             "#b8e186"
            ],
            [
             0.8,
             "#7fbc41"
            ],
            [
             0.9,
             "#4d9221"
            ],
            [
             1,
             "#276419"
            ]
           ],
           "sequential": [
            [
             0,
             "#0d0887"
            ],
            [
             0.1111111111111111,
             "#46039f"
            ],
            [
             0.2222222222222222,
             "#7201a8"
            ],
            [
             0.3333333333333333,
             "#9c179e"
            ],
            [
             0.4444444444444444,
             "#bd3786"
            ],
            [
             0.5555555555555556,
             "#d8576b"
            ],
            [
             0.6666666666666666,
             "#ed7953"
            ],
            [
             0.7777777777777778,
             "#fb9f3a"
            ],
            [
             0.8888888888888888,
             "#fdca26"
            ],
            [
             1,
             "#f0f921"
            ]
           ],
           "sequentialminus": [
            [
             0,
             "#0d0887"
            ],
            [
             0.1111111111111111,
             "#46039f"
            ],
            [
             0.2222222222222222,
             "#7201a8"
            ],
            [
             0.3333333333333333,
             "#9c179e"
            ],
            [
             0.4444444444444444,
             "#bd3786"
            ],
            [
             0.5555555555555556,
             "#d8576b"
            ],
            [
             0.6666666666666666,
             "#ed7953"
            ],
            [
             0.7777777777777778,
             "#fb9f3a"
            ],
            [
             0.8888888888888888,
             "#fdca26"
            ],
            [
             1,
             "#f0f921"
            ]
           ]
          },
          "colorway": [
           "#636efa",
           "#EF553B",
           "#00cc96",
           "#ab63fa",
           "#FFA15A",
           "#19d3f3",
           "#FF6692",
           "#B6E880",
           "#FF97FF",
           "#FECB52"
          ],
          "font": {
           "color": "#2a3f5f"
          },
          "geo": {
           "bgcolor": "white",
           "lakecolor": "white",
           "landcolor": "#E5ECF6",
           "showlakes": true,
           "showland": true,
           "subunitcolor": "white"
          },
          "hoverlabel": {
           "align": "left"
          },
          "hovermode": "closest",
          "mapbox": {
           "style": "light"
          },
          "paper_bgcolor": "white",
          "plot_bgcolor": "#E5ECF6",
          "polar": {
           "angularaxis": {
            "gridcolor": "white",
            "linecolor": "white",
            "ticks": ""
           },
           "bgcolor": "#E5ECF6",
           "radialaxis": {
            "gridcolor": "white",
            "linecolor": "white",
            "ticks": ""
           }
          },
          "scene": {
           "xaxis": {
            "backgroundcolor": "#E5ECF6",
            "gridcolor": "white",
            "gridwidth": 2,
            "linecolor": "white",
            "showbackground": true,
            "ticks": "",
            "zerolinecolor": "white"
           },
           "yaxis": {
            "backgroundcolor": "#E5ECF6",
            "gridcolor": "white",
            "gridwidth": 2,
            "linecolor": "white",
            "showbackground": true,
            "ticks": "",
            "zerolinecolor": "white"
           },
           "zaxis": {
            "backgroundcolor": "#E5ECF6",
            "gridcolor": "white",
            "gridwidth": 2,
            "linecolor": "white",
            "showbackground": true,
            "ticks": "",
            "zerolinecolor": "white"
           }
          },
          "shapedefaults": {
           "line": {
            "color": "#2a3f5f"
           }
          },
          "ternary": {
           "aaxis": {
            "gridcolor": "white",
            "linecolor": "white",
            "ticks": ""
           },
           "baxis": {
            "gridcolor": "white",
            "linecolor": "white",
            "ticks": ""
           },
           "bgcolor": "#E5ECF6",
           "caxis": {
            "gridcolor": "white",
            "linecolor": "white",
            "ticks": ""
           }
          },
          "title": {
           "x": 0.05
          },
          "xaxis": {
           "automargin": true,
           "gridcolor": "white",
           "linecolor": "white",
           "ticks": "",
           "title": {
            "standoff": 15
           },
           "zerolinecolor": "white",
           "zerolinewidth": 2
          },
          "yaxis": {
           "automargin": true,
           "gridcolor": "white",
           "linecolor": "white",
           "ticks": "",
           "title": {
            "standoff": 15
           },
           "zerolinecolor": "white",
           "zerolinewidth": 2
          }
         }
        },
        "updatemenus": [
         {
          "active": 0,
          "buttons": [
           {
            "args": [
             "shapes",
             []
            ],
            "label": "-",
            "method": "relayout"
           },
           {
            "args": [
             "shapes",
             [
              {
               "fillcolor": "lightgray",
               "layer": "below",
               "line": {
                "color": "white",
                "width": 0.1
               },
               "line_width": 0,
               "type": "rect",
               "x0": "1990-07-01T00:00:00",
               "x1": "1991-01-01T00:00:00",
               "xref": "x",
               "y0": 0,
               "y1": 0.97,
               "yref": "paper"
              },
              {
               "fillcolor": "lightgray",
               "layer": "below",
               "line": {
                "color": "white",
                "width": 0.1
               },
               "line_width": 0,
               "type": "rect",
               "x0": "2001-01-01T00:00:00",
               "x1": "2001-10-01T00:00:00",
               "xref": "x",
               "y0": 0,
               "y1": 0.97,
               "yref": "paper"
              },
              {
               "fillcolor": "lightgray",
               "layer": "below",
               "line": {
                "color": "white",
                "width": 0.1
               },
               "line_width": 0,
               "type": "rect",
               "x0": "2007-10-01T00:00:00",
               "x1": "2009-04-01T00:00:00",
               "xref": "x",
               "y0": 0,
               "y1": 0.97,
               "yref": "paper"
              }
             ]
            ],
            "label": "+",
            "method": "relayout"
           }
          ],
          "direction": "right",
          "type": "buttons",
          "x": 1.1,
          "y": 1.2
         }
        ],
        "width": 1020,
        "xaxis": {
         "linecolor": "rgb(204, 204, 204)",
         "linewidth": 2,
         "showgrid": true,
         "showline": true,
         "showticklabels": true,
         "tickfont": {
          "color": "rgb(82, 82, 82)",
          "family": "Arial",
          "size": 12
         },
         "ticks": "outside"
        },
        "yaxis": {
         "gridcolor": "rgb(204, 204, 204)",
         "showgrid": true,
         "showline": true,
         "showticklabels": true,
         "zeroline": false
        }
       }
      },
      "text/html": [
       "<div>\n",
       "        \n",
       "        \n",
       "            <div id=\"8aa6d64a-be7d-4dd7-8c3c-b0f3539c4afe\" class=\"plotly-graph-div\" style=\"height:160px; width:1020px;\"></div>\n",
       "            <script type=\"text/javascript\">\n",
       "                require([\"plotly\"], function(Plotly) {\n",
       "                    window.PLOTLYENV=window.PLOTLYENV || {};\n",
       "                    \n",
       "                if (document.getElementById(\"8aa6d64a-be7d-4dd7-8c3c-b0f3539c4afe\")) {\n",
       "                    Plotly.newPlot(\n",
       "                        '8aa6d64a-be7d-4dd7-8c3c-b0f3539c4afe',\n",
       "                        [{\"connectgaps\": true, \"line\": {\"color\": \"rgb(41, 58, 143)\", \"width\": 1.5}, \"mode\": \"lines\", \"name\": \"median house prices sold\", \"type\": \"scatter\", \"x\": [\"1984-06-01T00:00:00\", \"1984-09-01T00:00:00\", \"1984-12-01T00:00:00\", \"1985-03-01T00:00:00\", \"1985-06-01T00:00:00\", \"1985-09-01T00:00:00\", \"1985-12-01T00:00:00\", \"1986-03-01T00:00:00\", \"1986-06-01T00:00:00\", \"1986-09-01T00:00:00\", \"1986-12-01T00:00:00\", \"1987-03-01T00:00:00\", \"1987-06-01T00:00:00\", \"1987-09-01T00:00:00\", \"1987-12-01T00:00:00\", \"1988-03-01T00:00:00\", \"1988-06-01T00:00:00\", \"1988-09-01T00:00:00\", \"1988-12-01T00:00:00\", \"1989-03-01T00:00:00\", \"1989-06-01T00:00:00\", \"1989-09-01T00:00:00\", \"1989-12-01T00:00:00\", \"1990-03-01T00:00:00\", \"1990-06-01T00:00:00\", \"1990-09-01T00:00:00\", \"1990-12-01T00:00:00\", \"1991-03-01T00:00:00\", \"1991-06-01T00:00:00\", \"1991-09-01T00:00:00\", \"1991-12-01T00:00:00\", \"1992-03-01T00:00:00\", \"1992-06-01T00:00:00\", \"1992-09-01T00:00:00\", \"1992-12-01T00:00:00\", \"1993-03-01T00:00:00\", \"1993-06-01T00:00:00\", \"1993-09-01T00:00:00\", \"1993-12-01T00:00:00\", \"1994-03-01T00:00:00\", \"1994-06-01T00:00:00\", \"1994-09-01T00:00:00\", \"1994-12-01T00:00:00\", \"1995-03-01T00:00:00\", \"1995-06-01T00:00:00\", \"1995-09-01T00:00:00\", \"1995-12-01T00:00:00\", \"1996-03-01T00:00:00\", \"1996-06-01T00:00:00\", \"1996-09-01T00:00:00\", \"1996-12-01T00:00:00\", \"1997-03-01T00:00:00\", \"1997-06-01T00:00:00\", \"1997-09-01T00:00:00\", \"1997-12-01T00:00:00\", \"1998-03-01T00:00:00\", \"1998-06-01T00:00:00\", \"1998-09-01T00:00:00\", \"1998-12-01T00:00:00\", \"1999-03-01T00:00:00\", \"1999-06-01T00:00:00\", \"1999-09-01T00:00:00\", \"1999-12-01T00:00:00\", \"2000-03-01T00:00:00\", \"2000-06-01T00:00:00\", \"2000-09-01T00:00:00\", \"2000-12-01T00:00:00\", \"2001-03-01T00:00:00\", \"2001-06-01T00:00:00\", \"2001-09-01T00:00:00\", \"2001-12-01T00:00:00\", \"2002-03-01T00:00:00\", \"2002-06-01T00:00:00\", \"2002-09-01T00:00:00\", \"2002-12-01T00:00:00\", \"2003-03-01T00:00:00\", \"2003-06-01T00:00:00\", \"2003-09-01T00:00:00\", \"2003-12-01T00:00:00\", \"2004-03-01T00:00:00\", \"2004-06-01T00:00:00\", \"2004-09-01T00:00:00\", \"2004-12-01T00:00:00\", \"2005-03-01T00:00:00\", \"2005-06-01T00:00:00\", \"2005-09-01T00:00:00\", \"2005-12-01T00:00:00\", \"2006-03-01T00:00:00\", \"2006-06-01T00:00:00\", \"2006-09-01T00:00:00\", \"2006-12-01T00:00:00\", \"2007-03-01T00:00:00\", \"2007-06-01T00:00:00\", \"2007-09-01T00:00:00\", \"2007-12-01T00:00:00\", \"2008-03-01T00:00:00\", \"2008-06-01T00:00:00\", \"2008-09-01T00:00:00\", \"2008-12-01T00:00:00\", \"2009-03-01T00:00:00\", \"2009-06-01T00:00:00\", \"2009-09-01T00:00:00\", \"2009-12-01T00:00:00\", \"2010-03-01T00:00:00\", \"2010-06-01T00:00:00\", \"2010-09-01T00:00:00\", \"2010-12-01T00:00:00\", \"2011-03-01T00:00:00\", \"2011-06-01T00:00:00\", \"2011-09-01T00:00:00\", \"2011-12-01T00:00:00\", \"2012-03-01T00:00:00\", \"2012-06-01T00:00:00\", \"2012-09-01T00:00:00\", \"2012-12-01T00:00:00\", \"2013-03-01T00:00:00\", \"2013-06-01T00:00:00\", \"2013-09-01T00:00:00\", \"2013-12-01T00:00:00\", \"2014-03-01T00:00:00\", \"2014-06-01T00:00:00\", \"2014-09-01T00:00:00\", \"2014-12-01T00:00:00\", \"2015-03-01T00:00:00\", \"2015-06-01T00:00:00\", \"2015-09-01T00:00:00\", \"2015-12-01T00:00:00\", \"2016-03-01T00:00:00\", \"2016-06-01T00:00:00\", \"2016-09-01T00:00:00\", \"2016-12-01T00:00:00\", \"2017-03-01T00:00:00\", \"2017-06-01T00:00:00\", \"2017-09-01T00:00:00\", \"2017-12-01T00:00:00\", \"2018-03-01T00:00:00\", \"2018-06-01T00:00:00\"], \"y\": [184804.55942029005, 183892.50000000012, 179844.80816714154, 184676.98494353823, 186327.63226608624, 182760.09638554207, 188743.81284403682, 190363.5168846975, 200207.26719657608, 200935.10483135842, 203831.75920337977, 207548.87567084067, 216753.164504717, 219869.91248541442, 229139.26734104048, 224306.30914826496, 221762.43266231933, 229050.04201680684, 224407.61679135478, 229874.02191780813, 227942.74440550024, 228266.77367576247, 235008.38135593236, 229365.3186670136, 232434.30471771068, 210828.60364926507, 215282.07450784952, 211046.54959188713, 209626.29677895247, 208214.0556368962, 206500.7744433688, 204256.23677884604, 203545.13358778637, 202003.125, 210261.501994837, 207086.14864864867, 208890.7633587785, 207928.79806585304, 206219.40397351002, 210035.51465576017, 208849.14143696346, 206454.70047011433, 208899.915423993, 204234.7105612019, 208655.99145299155, 204663.61098996957, 212806.41509433967, 209402.37962166822, 212012.00959079308, 210949.65034965053, 215257.24600840328, 215290.0292336606, 215981.74124999996, 213728.01616915423, 211409.39010309274, 222678.9345679014, 218010.91981132096, 221976.74556213006, 220939.89236393198, 226465.8587616349, 226639.4731873871, 225534.71710526303, 232607.81773204036, 230328.68959435623, 225633.9163912114, 231262.83005780348, 235203.21006313356, 228797.53610005698, 239514.73278133225, 230167.56896228186, 228471.03492957752, 251170.57974541385, 247230.21396731076, 233951.93626454845, 248247.5575757576, 240420.80712597695, 248324.07465404228, 246612.48310139176, 254513.7536910336, 270024.1880021426, 274091.58122232073, 267223.0038725576, 283330.66666666674, 286465.7035175879, 286011.39191049925, 284999.078331638, 290965.9391903242, 294330.435661765, 290049.45561444195, 274854.1683347005, 287466.0879736408, 298595.69100955885, 277816.57834497263, 275613.0913392869, 268444.78256256465, 260555.35626162266, 258748.74198322656, 245289.70670882447, 246605.61752391892, 232577.85799825154, 245224.06900007962, 235867.92805929118, 239168.4237202232, 243042.3569516134, 239419.55799426915, 243722.54195835747, 241980.6785647636, 242200.8162058214, 240744.44022235266, 234361.25530528033, 230808.51878169307, 247474.45669787948, 247263.89767840295, 256567.93000378518, 257843.93307669705, 263647.7338147045, 273844.54610097193, 269018.86669524235, 276935.05597248644, 276830.4964328308, 288175.8922176081, 280454.1200249857, 299062.3485045696, 291242.2357714941, 289169.5421168131, 294757.85079144815, 301457.0588260039, 298841.7576132266, 302861.7088356507, 299286.61021316866, 304353.2364740767, 304361.47148329543, 309024.6682774186, 309603.26908733865, 323915.2448938317, 315534.91996832925, 298504.59593521]}, {\"marker\": {\"color\": \"rgb(41, 58, 143)\", \"size\": 1}, \"mode\": \"markers\", \"type\": \"scatter\", \"x\": [\"1984-06-01T00:00:00\", \"2018-06-01T00:00:00\"], \"y\": [184804.55942029005, 298504.59593521]}],\n",
       "                        {\"annotations\": [{\"font\": {\"family\": \"Arial\", \"size\": 12}, \"showarrow\": false, \"text\": \"185k\", \"x\": 0.05, \"xanchor\": \"right\", \"xref\": \"paper\", \"y\": 184804.55942029005, \"yanchor\": \"top\"}, {\"font\": {\"family\": \"Arial\", \"size\": 12}, \"showarrow\": false, \"text\": \"299k\", \"x\": 0.95, \"xanchor\": \"left\", \"xref\": \"paper\", \"y\": 298504.59593521, \"yanchor\": \"top\"}, {\"font\": {\"color\": \"rgb(37,37,37)\", \"family\": \"Arial\", \"size\": 22}, \"showarrow\": false, \"text\": \"Median house price sold\", \"x\": 0.0, \"xanchor\": \"left\", \"xref\": \"paper\", \"y\": 1.05, \"yanchor\": \"bottom\", \"yref\": \"paper\"}, {\"font\": {\"color\": \"rgb(150,150,150)\", \"family\": \"Arial\", \"size\": 12}, \"showarrow\": false, \"text\": \"Source: U.S. Census Bureau\", \"x\": 0, \"xanchor\": \"left\", \"xref\": \"paper\", \"y\": -0.2, \"yanchor\": \"top\", \"yref\": \"paper\"}, {\"font\": {\"color\": \"black\", \"family\": \"Arial\", \"size\": 12}, \"showarrow\": false, \"text\": \"2005 US$\", \"x\": 0.0, \"xref\": \"paper\", \"y\": 1.06, \"yref\": \"paper\"}], \"autosize\": false, \"height\": 160, \"margin\": {\"autoexpand\": false, \"b\": 0, \"l\": 120, \"r\": 120, \"t\": 38}, \"plot_bgcolor\": \"white\", \"showlegend\": false, \"template\": {\"data\": {\"bar\": [{\"error_x\": {\"color\": \"#2a3f5f\"}, \"error_y\": {\"color\": \"#2a3f5f\"}, \"marker\": {\"line\": {\"color\": \"#E5ECF6\", \"width\": 0.5}}, \"type\": \"bar\"}], \"barpolar\": [{\"marker\": {\"line\": {\"color\": \"#E5ECF6\", \"width\": 0.5}}, \"type\": \"barpolar\"}], \"carpet\": [{\"aaxis\": {\"endlinecolor\": \"#2a3f5f\", \"gridcolor\": \"white\", \"linecolor\": \"white\", \"minorgridcolor\": \"white\", \"startlinecolor\": \"#2a3f5f\"}, \"baxis\": {\"endlinecolor\": \"#2a3f5f\", \"gridcolor\": \"white\", \"linecolor\": \"white\", \"minorgridcolor\": \"white\", \"startlinecolor\": \"#2a3f5f\"}, \"type\": \"carpet\"}], \"choropleth\": [{\"colorbar\": {\"outlinewidth\": 0, \"ticks\": \"\"}, \"type\": \"choropleth\"}], \"contour\": [{\"colorbar\": {\"outlinewidth\": 0, \"ticks\": \"\"}, \"colorscale\": [[0.0, \"#0d0887\"], [0.1111111111111111, \"#46039f\"], [0.2222222222222222, \"#7201a8\"], [0.3333333333333333, \"#9c179e\"], [0.4444444444444444, \"#bd3786\"], [0.5555555555555556, \"#d8576b\"], [0.6666666666666666, \"#ed7953\"], [0.7777777777777778, \"#fb9f3a\"], [0.8888888888888888, \"#fdca26\"], [1.0, \"#f0f921\"]], \"type\": \"contour\"}], \"contourcarpet\": [{\"colorbar\": {\"outlinewidth\": 0, \"ticks\": \"\"}, \"type\": \"contourcarpet\"}], \"heatmap\": [{\"colorbar\": {\"outlinewidth\": 0, \"ticks\": \"\"}, \"colorscale\": [[0.0, \"#0d0887\"], [0.1111111111111111, \"#46039f\"], [0.2222222222222222, \"#7201a8\"], [0.3333333333333333, \"#9c179e\"], [0.4444444444444444, \"#bd3786\"], [0.5555555555555556, \"#d8576b\"], [0.6666666666666666, \"#ed7953\"], [0.7777777777777778, \"#fb9f3a\"], [0.8888888888888888, \"#fdca26\"], [1.0, \"#f0f921\"]], \"type\": \"heatmap\"}], \"heatmapgl\": [{\"colorbar\": {\"outlinewidth\": 0, \"ticks\": \"\"}, \"colorscale\": [[0.0, \"#0d0887\"], [0.1111111111111111, \"#46039f\"], [0.2222222222222222, \"#7201a8\"], [0.3333333333333333, \"#9c179e\"], [0.4444444444444444, \"#bd3786\"], [0.5555555555555556, \"#d8576b\"], [0.6666666666666666, \"#ed7953\"], [0.7777777777777778, \"#fb9f3a\"], [0.8888888888888888, \"#fdca26\"], [1.0, \"#f0f921\"]], \"type\": \"heatmapgl\"}], \"histogram\": [{\"marker\": {\"colorbar\": {\"outlinewidth\": 0, \"ticks\": \"\"}}, \"type\": \"histogram\"}], \"histogram2d\": [{\"colorbar\": {\"outlinewidth\": 0, \"ticks\": \"\"}, \"colorscale\": [[0.0, \"#0d0887\"], [0.1111111111111111, \"#46039f\"], [0.2222222222222222, \"#7201a8\"], [0.3333333333333333, \"#9c179e\"], [0.4444444444444444, \"#bd3786\"], [0.5555555555555556, \"#d8576b\"], [0.6666666666666666, \"#ed7953\"], [0.7777777777777778, \"#fb9f3a\"], [0.8888888888888888, \"#fdca26\"], [1.0, \"#f0f921\"]], \"type\": \"histogram2d\"}], \"histogram2dcontour\": [{\"colorbar\": {\"outlinewidth\": 0, \"ticks\": \"\"}, \"colorscale\": [[0.0, \"#0d0887\"], [0.1111111111111111, \"#46039f\"], [0.2222222222222222, \"#7201a8\"], [0.3333333333333333, \"#9c179e\"], [0.4444444444444444, \"#bd3786\"], [0.5555555555555556, \"#d8576b\"], [0.6666666666666666, \"#ed7953\"], [0.7777777777777778, \"#fb9f3a\"], [0.8888888888888888, \"#fdca26\"], [1.0, \"#f0f921\"]], \"type\": \"histogram2dcontour\"}], \"mesh3d\": [{\"colorbar\": {\"outlinewidth\": 0, \"ticks\": \"\"}, \"type\": \"mesh3d\"}], \"parcoords\": [{\"line\": {\"colorbar\": {\"outlinewidth\": 0, \"ticks\": \"\"}}, \"type\": \"parcoords\"}], \"pie\": [{\"automargin\": true, \"type\": \"pie\"}], \"scatter\": [{\"marker\": {\"colorbar\": {\"outlinewidth\": 0, \"ticks\": \"\"}}, \"type\": \"scatter\"}], \"scatter3d\": [{\"line\": {\"colorbar\": {\"outlinewidth\": 0, \"ticks\": \"\"}}, \"marker\": {\"colorbar\": {\"outlinewidth\": 0, \"ticks\": \"\"}}, \"type\": \"scatter3d\"}], \"scattercarpet\": [{\"marker\": {\"colorbar\": {\"outlinewidth\": 0, \"ticks\": \"\"}}, \"type\": \"scattercarpet\"}], \"scattergeo\": [{\"marker\": {\"colorbar\": {\"outlinewidth\": 0, \"ticks\": \"\"}}, \"type\": \"scattergeo\"}], \"scattergl\": [{\"marker\": {\"colorbar\": {\"outlinewidth\": 0, \"ticks\": \"\"}}, \"type\": \"scattergl\"}], \"scattermapbox\": [{\"marker\": {\"colorbar\": {\"outlinewidth\": 0, \"ticks\": \"\"}}, \"type\": \"scattermapbox\"}], \"scatterpolar\": [{\"marker\": {\"colorbar\": {\"outlinewidth\": 0, \"ticks\": \"\"}}, \"type\": \"scatterpolar\"}], \"scatterpolargl\": [{\"marker\": {\"colorbar\": {\"outlinewidth\": 0, \"ticks\": \"\"}}, \"type\": \"scatterpolargl\"}], \"scatterternary\": [{\"marker\": {\"colorbar\": {\"outlinewidth\": 0, \"ticks\": \"\"}}, \"type\": \"scatterternary\"}], \"surface\": [{\"colorbar\": {\"outlinewidth\": 0, \"ticks\": \"\"}, \"colorscale\": [[0.0, \"#0d0887\"], [0.1111111111111111, \"#46039f\"], [0.2222222222222222, \"#7201a8\"], [0.3333333333333333, \"#9c179e\"], [0.4444444444444444, \"#bd3786\"], [0.5555555555555556, \"#d8576b\"], [0.6666666666666666, \"#ed7953\"], [0.7777777777777778, \"#fb9f3a\"], [0.8888888888888888, \"#fdca26\"], [1.0, \"#f0f921\"]], \"type\": \"surface\"}], \"table\": [{\"cells\": {\"fill\": {\"color\": \"#EBF0F8\"}, \"line\": {\"color\": \"white\"}}, \"header\": {\"fill\": {\"color\": \"#C8D4E3\"}, \"line\": {\"color\": \"white\"}}, \"type\": \"table\"}]}, \"layout\": {\"annotationdefaults\": {\"arrowcolor\": \"#2a3f5f\", \"arrowhead\": 0, \"arrowwidth\": 1}, \"coloraxis\": {\"colorbar\": {\"outlinewidth\": 0, \"ticks\": \"\"}}, \"colorscale\": {\"diverging\": [[0, \"#8e0152\"], [0.1, \"#c51b7d\"], [0.2, \"#de77ae\"], [0.3, \"#f1b6da\"], [0.4, \"#fde0ef\"], [0.5, \"#f7f7f7\"], [0.6, \"#e6f5d0\"], [0.7, \"#b8e186\"], [0.8, \"#7fbc41\"], [0.9, \"#4d9221\"], [1, \"#276419\"]], \"sequential\": [[0.0, \"#0d0887\"], [0.1111111111111111, \"#46039f\"], [0.2222222222222222, \"#7201a8\"], [0.3333333333333333, \"#9c179e\"], [0.4444444444444444, \"#bd3786\"], [0.5555555555555556, \"#d8576b\"], [0.6666666666666666, \"#ed7953\"], [0.7777777777777778, \"#fb9f3a\"], [0.8888888888888888, \"#fdca26\"], [1.0, \"#f0f921\"]], \"sequentialminus\": [[0.0, \"#0d0887\"], [0.1111111111111111, \"#46039f\"], [0.2222222222222222, \"#7201a8\"], [0.3333333333333333, \"#9c179e\"], [0.4444444444444444, \"#bd3786\"], [0.5555555555555556, \"#d8576b\"], [0.6666666666666666, \"#ed7953\"], [0.7777777777777778, \"#fb9f3a\"], [0.8888888888888888, \"#fdca26\"], [1.0, \"#f0f921\"]]}, \"colorway\": [\"#636efa\", \"#EF553B\", \"#00cc96\", \"#ab63fa\", \"#FFA15A\", \"#19d3f3\", \"#FF6692\", \"#B6E880\", \"#FF97FF\", \"#FECB52\"], \"font\": {\"color\": \"#2a3f5f\"}, \"geo\": {\"bgcolor\": \"white\", \"lakecolor\": \"white\", \"landcolor\": \"#E5ECF6\", \"showlakes\": true, \"showland\": true, \"subunitcolor\": \"white\"}, \"hoverlabel\": {\"align\": \"left\"}, \"hovermode\": \"closest\", \"mapbox\": {\"style\": \"light\"}, \"paper_bgcolor\": \"white\", \"plot_bgcolor\": \"#E5ECF6\", \"polar\": {\"angularaxis\": {\"gridcolor\": \"white\", \"linecolor\": \"white\", \"ticks\": \"\"}, \"bgcolor\": \"#E5ECF6\", \"radialaxis\": {\"gridcolor\": \"white\", \"linecolor\": \"white\", \"ticks\": \"\"}}, \"scene\": {\"xaxis\": {\"backgroundcolor\": \"#E5ECF6\", \"gridcolor\": \"white\", \"gridwidth\": 2, \"linecolor\": \"white\", \"showbackground\": true, \"ticks\": \"\", \"zerolinecolor\": \"white\"}, \"yaxis\": {\"backgroundcolor\": \"#E5ECF6\", \"gridcolor\": \"white\", \"gridwidth\": 2, \"linecolor\": \"white\", \"showbackground\": true, \"ticks\": \"\", \"zerolinecolor\": \"white\"}, \"zaxis\": {\"backgroundcolor\": \"#E5ECF6\", \"gridcolor\": \"white\", \"gridwidth\": 2, \"linecolor\": \"white\", \"showbackground\": true, \"ticks\": \"\", \"zerolinecolor\": \"white\"}}, \"shapedefaults\": {\"line\": {\"color\": \"#2a3f5f\"}}, \"ternary\": {\"aaxis\": {\"gridcolor\": \"white\", \"linecolor\": \"white\", \"ticks\": \"\"}, \"baxis\": {\"gridcolor\": \"white\", \"linecolor\": \"white\", \"ticks\": \"\"}, \"bgcolor\": \"#E5ECF6\", \"caxis\": {\"gridcolor\": \"white\", \"linecolor\": \"white\", \"ticks\": \"\"}}, \"title\": {\"x\": 0.05}, \"xaxis\": {\"automargin\": true, \"gridcolor\": \"white\", \"linecolor\": \"white\", \"ticks\": \"\", \"title\": {\"standoff\": 15}, \"zerolinecolor\": \"white\", \"zerolinewidth\": 2}, \"yaxis\": {\"automargin\": true, \"gridcolor\": \"white\", \"linecolor\": \"white\", \"ticks\": \"\", \"title\": {\"standoff\": 15}, \"zerolinecolor\": \"white\", \"zerolinewidth\": 2}}}, \"updatemenus\": [{\"active\": 0, \"buttons\": [{\"args\": [\"shapes\", []], \"label\": \"-\", \"method\": \"relayout\"}, {\"args\": [\"shapes\", [{\"fillcolor\": \"lightgray\", \"layer\": \"below\", \"line\": {\"color\": \"white\", \"width\": 0.1}, \"line_width\": 0, \"type\": \"rect\", \"x0\": \"1990-07-01T00:00:00\", \"x1\": \"1991-01-01T00:00:00\", \"xref\": \"x\", \"y0\": 0, \"y1\": 0.97, \"yref\": \"paper\"}, {\"fillcolor\": \"lightgray\", \"layer\": \"below\", \"line\": {\"color\": \"white\", \"width\": 0.1}, \"line_width\": 0, \"type\": \"rect\", \"x0\": \"2001-01-01T00:00:00\", \"x1\": \"2001-10-01T00:00:00\", \"xref\": \"x\", \"y0\": 0, \"y1\": 0.97, \"yref\": \"paper\"}, {\"fillcolor\": \"lightgray\", \"layer\": \"below\", \"line\": {\"color\": \"white\", \"width\": 0.1}, \"line_width\": 0, \"type\": \"rect\", \"x0\": \"2007-10-01T00:00:00\", \"x1\": \"2009-04-01T00:00:00\", \"xref\": \"x\", \"y0\": 0, \"y1\": 0.97, \"yref\": \"paper\"}]], \"label\": \"+\", \"method\": \"relayout\"}], \"direction\": \"right\", \"type\": \"buttons\", \"x\": 1.1, \"y\": 1.2}], \"width\": 1020, \"xaxis\": {\"linecolor\": \"rgb(204, 204, 204)\", \"linewidth\": 2, \"showgrid\": true, \"showline\": true, \"showticklabels\": true, \"tickfont\": {\"color\": \"rgb(82, 82, 82)\", \"family\": \"Arial\", \"size\": 12}, \"ticks\": \"outside\"}, \"yaxis\": {\"gridcolor\": \"rgb(204, 204, 204)\", \"showgrid\": true, \"showline\": true, \"showticklabels\": true, \"zeroline\": false}},\n",
       "                        {\"responsive\": true}\n",
       "                    ).then(function(){\n",
       "                            \n",
       "var gd = document.getElementById('8aa6d64a-be7d-4dd7-8c3c-b0f3539c4afe');\n",
       "var x = new MutationObserver(function (mutations, observer) {{\n",
       "        var display = window.getComputedStyle(gd).display;\n",
       "        if (!display || display === 'none') {{\n",
       "            console.log([gd, 'removed!']);\n",
       "            Plotly.purge(gd);\n",
       "            observer.disconnect();\n",
       "        }}\n",
       "}});\n",
       "\n",
       "// Listen for the removal of the full notebook cells\n",
       "var notebookContainer = gd.closest('#notebook-container');\n",
       "if (notebookContainer) {{\n",
       "    x.observe(notebookContainer, {childList: true});\n",
       "}}\n",
       "\n",
       "// Listen for the clearing of the current output cell\n",
       "var outputEl = gd.closest('.output');\n",
       "if (outputEl) {{\n",
       "    x.observe(outputEl, {childList: true});\n",
       "}}\n",
       "\n",
       "                        })\n",
       "                };\n",
       "                });\n",
       "            </script>\n",
       "        </div>"
      ]
     },
     "metadata": {},
     "output_type": "display_data"
    }
   ],
   "source": [
    "fig = plot_nice(title='Median house price sold', dic=dic, df=df, \n",
    "          margin=dict(autoexpand=False,l=120,r=120,t=38,b=0), \n",
    "          show_series_label=False,height=160,\n",
    "          recessions=True,\n",
    "          y_units='2005 US$')"
   ]
  },
  {
   "cell_type": "code",
   "execution_count": 425,
   "metadata": {},
   "outputs": [],
   "source": [
    "fig.write_html(\"../images/jm_f5.html\")"
   ]
  },
  {
   "cell_type": "markdown",
   "metadata": {},
   "source": [
    "# Income\n",
    "Income starts from 01-01-1984. I will cutt all series at same date then, same for the end"
   ]
  },
  {
   "cell_type": "code",
   "execution_count": 426,
   "metadata": {},
   "outputs": [],
   "source": [
    "s = ['nominal income [MEHOINUSA646N]']\n",
    "dic = dict_from_FRED_description(s)\n",
    "df = make_hrizontal_tbl(dic, start=start)\n",
    "df = df.join(CPIa)\n",
    "df = (100*df.iloc[:,0]/df.iloc[:,1]).to_frame()\n",
    "df.index  = df.index+ pd.offsets.MonthOffset(6) # bcs data is annual and when imported come as first day of year\n",
    "df.columns=['real income']\n",
    "dic = {'real income': 'median nominal HH income'}\n",
    "df = df[((df.index>='1984-06-01') & (df.index<='2018-07-01'))]"
   ]
  },
  {
   "cell_type": "code",
   "execution_count": 427,
   "metadata": {},
   "outputs": [
    {
     "data": {
      "application/vnd.plotly.v1+json": {
       "config": {
        "plotlyServerURL": "https://plot.ly"
       },
       "data": [
        {
         "connectgaps": true,
         "line": {
          "color": "rgb(41, 58, 143)",
          "width": 1.5
         },
         "mode": "lines",
         "name": "median nominal HH income",
         "type": "scatter",
         "x": [
          "1984-07-01T00:00:00",
          "1985-07-01T00:00:00",
          "1986-07-01T00:00:00",
          "1987-07-01T00:00:00",
          "1988-07-01T00:00:00",
          "1989-07-01T00:00:00",
          "1990-07-01T00:00:00",
          "1991-07-01T00:00:00",
          "1992-07-01T00:00:00",
          "1993-07-01T00:00:00",
          "1994-07-01T00:00:00",
          "1995-07-01T00:00:00",
          "1996-07-01T00:00:00",
          "1997-07-01T00:00:00",
          "1998-07-01T00:00:00",
          "1999-07-01T00:00:00",
          "2000-07-01T00:00:00",
          "2001-07-01T00:00:00",
          "2002-07-01T00:00:00",
          "2003-07-01T00:00:00",
          "2004-07-01T00:00:00",
          "2005-07-01T00:00:00",
          "2006-07-01T00:00:00",
          "2007-07-01T00:00:00",
          "2008-07-01T00:00:00",
          "2009-07-01T00:00:00",
          "2010-07-01T00:00:00",
          "2011-07-01T00:00:00",
          "2012-07-01T00:00:00",
          "2013-07-01T00:00:00",
          "2014-07-01T00:00:00",
          "2015-07-01T00:00:00",
          "2016-07-01T00:00:00",
          "2017-07-01T00:00:00",
          "2018-07-01T00:00:00"
         ],
         "y": [
          51141.37065618482,
          52040.91266811281,
          53837.25917129177,
          54362.15654125415,
          54565.18490592632,
          55266.57759075018,
          54317.23985713376,
          52428.862328825795,
          51749.04011402775,
          51258.01970810501,
          51591.27332096477,
          53001.80220059061,
          53632.179560089266,
          54641.14267469632,
          56539.47780788304,
          57905.71113312326,
          57795.26033681767,
          56525.341920180705,
          55881.3284391939,
          55812.10820928652,
          55631.75687637874,
          56223.85086579903,
          56671.27320243065,
          57422.28316042427,
          55376.347933721154,
          54992.822725217586,
          53560.90395335136,
          52741.58828720356,
          52666.44893974034,
          54518.86572097509,
          53720.65176212339,
          56516,
          58303.453423266044,
          59115.11073472653,
          59633.96871451145
         ]
        },
        {
         "marker": {
          "color": "rgb(41, 58, 143)",
          "size": 1
         },
         "mode": "markers",
         "type": "scatter",
         "x": [
          "1984-07-01T00:00:00",
          "2018-07-01T00:00:00"
         ],
         "y": [
          51141.37065618482,
          59633.96871451145
         ]
        }
       ],
       "layout": {
        "annotations": [
         {
          "font": {
           "family": "Arial",
           "size": 12
          },
          "showarrow": false,
          "text": "51k",
          "x": 0.05,
          "xanchor": "right",
          "xref": "paper",
          "y": 51141.37065618482,
          "yanchor": "top"
         },
         {
          "font": {
           "family": "Arial",
           "size": 12
          },
          "showarrow": false,
          "text": "60k",
          "x": 0.95,
          "xanchor": "left",
          "xref": "paper",
          "y": 59633.96871451145,
          "yanchor": "top"
         },
         {
          "font": {
           "color": "rgb(37,37,37)",
           "family": "Arial",
           "size": 22
          },
          "showarrow": false,
          "text": "Median real HH income",
          "x": 0,
          "xanchor": "left",
          "xref": "paper",
          "y": 1.05,
          "yanchor": "bottom",
          "yref": "paper"
         },
         {
          "font": {
           "color": "rgb(150,150,150)",
           "family": "Arial",
           "size": 12
          },
          "showarrow": false,
          "text": "Source: U.S. Census Bureau",
          "x": 0,
          "xanchor": "left",
          "xref": "paper",
          "y": -0.2,
          "yanchor": "top",
          "yref": "paper"
         },
         {
          "font": {
           "color": "black",
           "family": "Arial",
           "size": 12
          },
          "showarrow": false,
          "text": "2005 US$",
          "x": 0,
          "xref": "paper",
          "y": 1.06,
          "yref": "paper"
         }
        ],
        "autosize": false,
        "height": 160,
        "margin": {
         "autoexpand": false,
         "b": 0,
         "l": 120,
         "r": 120,
         "t": 38
        },
        "plot_bgcolor": "white",
        "showlegend": false,
        "template": {
         "data": {
          "bar": [
           {
            "error_x": {
             "color": "#2a3f5f"
            },
            "error_y": {
             "color": "#2a3f5f"
            },
            "marker": {
             "line": {
              "color": "#E5ECF6",
              "width": 0.5
             }
            },
            "type": "bar"
           }
          ],
          "barpolar": [
           {
            "marker": {
             "line": {
              "color": "#E5ECF6",
              "width": 0.5
             }
            },
            "type": "barpolar"
           }
          ],
          "carpet": [
           {
            "aaxis": {
             "endlinecolor": "#2a3f5f",
             "gridcolor": "white",
             "linecolor": "white",
             "minorgridcolor": "white",
             "startlinecolor": "#2a3f5f"
            },
            "baxis": {
             "endlinecolor": "#2a3f5f",
             "gridcolor": "white",
             "linecolor": "white",
             "minorgridcolor": "white",
             "startlinecolor": "#2a3f5f"
            },
            "type": "carpet"
           }
          ],
          "choropleth": [
           {
            "colorbar": {
             "outlinewidth": 0,
             "ticks": ""
            },
            "type": "choropleth"
           }
          ],
          "contour": [
           {
            "colorbar": {
             "outlinewidth": 0,
             "ticks": ""
            },
            "colorscale": [
             [
              0,
              "#0d0887"
             ],
             [
              0.1111111111111111,
              "#46039f"
             ],
             [
              0.2222222222222222,
              "#7201a8"
             ],
             [
              0.3333333333333333,
              "#9c179e"
             ],
             [
              0.4444444444444444,
              "#bd3786"
             ],
             [
              0.5555555555555556,
              "#d8576b"
             ],
             [
              0.6666666666666666,
              "#ed7953"
             ],
             [
              0.7777777777777778,
              "#fb9f3a"
             ],
             [
              0.8888888888888888,
              "#fdca26"
             ],
             [
              1,
              "#f0f921"
             ]
            ],
            "type": "contour"
           }
          ],
          "contourcarpet": [
           {
            "colorbar": {
             "outlinewidth": 0,
             "ticks": ""
            },
            "type": "contourcarpet"
           }
          ],
          "heatmap": [
           {
            "colorbar": {
             "outlinewidth": 0,
             "ticks": ""
            },
            "colorscale": [
             [
              0,
              "#0d0887"
             ],
             [
              0.1111111111111111,
              "#46039f"
             ],
             [
              0.2222222222222222,
              "#7201a8"
             ],
             [
              0.3333333333333333,
              "#9c179e"
             ],
             [
              0.4444444444444444,
              "#bd3786"
             ],
             [
              0.5555555555555556,
              "#d8576b"
             ],
             [
              0.6666666666666666,
              "#ed7953"
             ],
             [
              0.7777777777777778,
              "#fb9f3a"
             ],
             [
              0.8888888888888888,
              "#fdca26"
             ],
             [
              1,
              "#f0f921"
             ]
            ],
            "type": "heatmap"
           }
          ],
          "heatmapgl": [
           {
            "colorbar": {
             "outlinewidth": 0,
             "ticks": ""
            },
            "colorscale": [
             [
              0,
              "#0d0887"
             ],
             [
              0.1111111111111111,
              "#46039f"
             ],
             [
              0.2222222222222222,
              "#7201a8"
             ],
             [
              0.3333333333333333,
              "#9c179e"
             ],
             [
              0.4444444444444444,
              "#bd3786"
             ],
             [
              0.5555555555555556,
              "#d8576b"
             ],
             [
              0.6666666666666666,
              "#ed7953"
             ],
             [
              0.7777777777777778,
              "#fb9f3a"
             ],
             [
              0.8888888888888888,
              "#fdca26"
             ],
             [
              1,
              "#f0f921"
             ]
            ],
            "type": "heatmapgl"
           }
          ],
          "histogram": [
           {
            "marker": {
             "colorbar": {
              "outlinewidth": 0,
              "ticks": ""
             }
            },
            "type": "histogram"
           }
          ],
          "histogram2d": [
           {
            "colorbar": {
             "outlinewidth": 0,
             "ticks": ""
            },
            "colorscale": [
             [
              0,
              "#0d0887"
             ],
             [
              0.1111111111111111,
              "#46039f"
             ],
             [
              0.2222222222222222,
              "#7201a8"
             ],
             [
              0.3333333333333333,
              "#9c179e"
             ],
             [
              0.4444444444444444,
              "#bd3786"
             ],
             [
              0.5555555555555556,
              "#d8576b"
             ],
             [
              0.6666666666666666,
              "#ed7953"
             ],
             [
              0.7777777777777778,
              "#fb9f3a"
             ],
             [
              0.8888888888888888,
              "#fdca26"
             ],
             [
              1,
              "#f0f921"
             ]
            ],
            "type": "histogram2d"
           }
          ],
          "histogram2dcontour": [
           {
            "colorbar": {
             "outlinewidth": 0,
             "ticks": ""
            },
            "colorscale": [
             [
              0,
              "#0d0887"
             ],
             [
              0.1111111111111111,
              "#46039f"
             ],
             [
              0.2222222222222222,
              "#7201a8"
             ],
             [
              0.3333333333333333,
              "#9c179e"
             ],
             [
              0.4444444444444444,
              "#bd3786"
             ],
             [
              0.5555555555555556,
              "#d8576b"
             ],
             [
              0.6666666666666666,
              "#ed7953"
             ],
             [
              0.7777777777777778,
              "#fb9f3a"
             ],
             [
              0.8888888888888888,
              "#fdca26"
             ],
             [
              1,
              "#f0f921"
             ]
            ],
            "type": "histogram2dcontour"
           }
          ],
          "mesh3d": [
           {
            "colorbar": {
             "outlinewidth": 0,
             "ticks": ""
            },
            "type": "mesh3d"
           }
          ],
          "parcoords": [
           {
            "line": {
             "colorbar": {
              "outlinewidth": 0,
              "ticks": ""
             }
            },
            "type": "parcoords"
           }
          ],
          "pie": [
           {
            "automargin": true,
            "type": "pie"
           }
          ],
          "scatter": [
           {
            "marker": {
             "colorbar": {
              "outlinewidth": 0,
              "ticks": ""
             }
            },
            "type": "scatter"
           }
          ],
          "scatter3d": [
           {
            "line": {
             "colorbar": {
              "outlinewidth": 0,
              "ticks": ""
             }
            },
            "marker": {
             "colorbar": {
              "outlinewidth": 0,
              "ticks": ""
             }
            },
            "type": "scatter3d"
           }
          ],
          "scattercarpet": [
           {
            "marker": {
             "colorbar": {
              "outlinewidth": 0,
              "ticks": ""
             }
            },
            "type": "scattercarpet"
           }
          ],
          "scattergeo": [
           {
            "marker": {
             "colorbar": {
              "outlinewidth": 0,
              "ticks": ""
             }
            },
            "type": "scattergeo"
           }
          ],
          "scattergl": [
           {
            "marker": {
             "colorbar": {
              "outlinewidth": 0,
              "ticks": ""
             }
            },
            "type": "scattergl"
           }
          ],
          "scattermapbox": [
           {
            "marker": {
             "colorbar": {
              "outlinewidth": 0,
              "ticks": ""
             }
            },
            "type": "scattermapbox"
           }
          ],
          "scatterpolar": [
           {
            "marker": {
             "colorbar": {
              "outlinewidth": 0,
              "ticks": ""
             }
            },
            "type": "scatterpolar"
           }
          ],
          "scatterpolargl": [
           {
            "marker": {
             "colorbar": {
              "outlinewidth": 0,
              "ticks": ""
             }
            },
            "type": "scatterpolargl"
           }
          ],
          "scatterternary": [
           {
            "marker": {
             "colorbar": {
              "outlinewidth": 0,
              "ticks": ""
             }
            },
            "type": "scatterternary"
           }
          ],
          "surface": [
           {
            "colorbar": {
             "outlinewidth": 0,
             "ticks": ""
            },
            "colorscale": [
             [
              0,
              "#0d0887"
             ],
             [
              0.1111111111111111,
              "#46039f"
             ],
             [
              0.2222222222222222,
              "#7201a8"
             ],
             [
              0.3333333333333333,
              "#9c179e"
             ],
             [
              0.4444444444444444,
              "#bd3786"
             ],
             [
              0.5555555555555556,
              "#d8576b"
             ],
             [
              0.6666666666666666,
              "#ed7953"
             ],
             [
              0.7777777777777778,
              "#fb9f3a"
             ],
             [
              0.8888888888888888,
              "#fdca26"
             ],
             [
              1,
              "#f0f921"
             ]
            ],
            "type": "surface"
           }
          ],
          "table": [
           {
            "cells": {
             "fill": {
              "color": "#EBF0F8"
             },
             "line": {
              "color": "white"
             }
            },
            "header": {
             "fill": {
              "color": "#C8D4E3"
             },
             "line": {
              "color": "white"
             }
            },
            "type": "table"
           }
          ]
         },
         "layout": {
          "annotationdefaults": {
           "arrowcolor": "#2a3f5f",
           "arrowhead": 0,
           "arrowwidth": 1
          },
          "coloraxis": {
           "colorbar": {
            "outlinewidth": 0,
            "ticks": ""
           }
          },
          "colorscale": {
           "diverging": [
            [
             0,
             "#8e0152"
            ],
            [
             0.1,
             "#c51b7d"
            ],
            [
             0.2,
             "#de77ae"
            ],
            [
             0.3,
             "#f1b6da"
            ],
            [
             0.4,
             "#fde0ef"
            ],
            [
             0.5,
             "#f7f7f7"
            ],
            [
             0.6,
             "#e6f5d0"
            ],
            [
             0.7,
             "#b8e186"
            ],
            [
             0.8,
             "#7fbc41"
            ],
            [
             0.9,
             "#4d9221"
            ],
            [
             1,
             "#276419"
            ]
           ],
           "sequential": [
            [
             0,
             "#0d0887"
            ],
            [
             0.1111111111111111,
             "#46039f"
            ],
            [
             0.2222222222222222,
             "#7201a8"
            ],
            [
             0.3333333333333333,
             "#9c179e"
            ],
            [
             0.4444444444444444,
             "#bd3786"
            ],
            [
             0.5555555555555556,
             "#d8576b"
            ],
            [
             0.6666666666666666,
             "#ed7953"
            ],
            [
             0.7777777777777778,
             "#fb9f3a"
            ],
            [
             0.8888888888888888,
             "#fdca26"
            ],
            [
             1,
             "#f0f921"
            ]
           ],
           "sequentialminus": [
            [
             0,
             "#0d0887"
            ],
            [
             0.1111111111111111,
             "#46039f"
            ],
            [
             0.2222222222222222,
             "#7201a8"
            ],
            [
             0.3333333333333333,
             "#9c179e"
            ],
            [
             0.4444444444444444,
             "#bd3786"
            ],
            [
             0.5555555555555556,
             "#d8576b"
            ],
            [
             0.6666666666666666,
             "#ed7953"
            ],
            [
             0.7777777777777778,
             "#fb9f3a"
            ],
            [
             0.8888888888888888,
             "#fdca26"
            ],
            [
             1,
             "#f0f921"
            ]
           ]
          },
          "colorway": [
           "#636efa",
           "#EF553B",
           "#00cc96",
           "#ab63fa",
           "#FFA15A",
           "#19d3f3",
           "#FF6692",
           "#B6E880",
           "#FF97FF",
           "#FECB52"
          ],
          "font": {
           "color": "#2a3f5f"
          },
          "geo": {
           "bgcolor": "white",
           "lakecolor": "white",
           "landcolor": "#E5ECF6",
           "showlakes": true,
           "showland": true,
           "subunitcolor": "white"
          },
          "hoverlabel": {
           "align": "left"
          },
          "hovermode": "closest",
          "mapbox": {
           "style": "light"
          },
          "paper_bgcolor": "white",
          "plot_bgcolor": "#E5ECF6",
          "polar": {
           "angularaxis": {
            "gridcolor": "white",
            "linecolor": "white",
            "ticks": ""
           },
           "bgcolor": "#E5ECF6",
           "radialaxis": {
            "gridcolor": "white",
            "linecolor": "white",
            "ticks": ""
           }
          },
          "scene": {
           "xaxis": {
            "backgroundcolor": "#E5ECF6",
            "gridcolor": "white",
            "gridwidth": 2,
            "linecolor": "white",
            "showbackground": true,
            "ticks": "",
            "zerolinecolor": "white"
           },
           "yaxis": {
            "backgroundcolor": "#E5ECF6",
            "gridcolor": "white",
            "gridwidth": 2,
            "linecolor": "white",
            "showbackground": true,
            "ticks": "",
            "zerolinecolor": "white"
           },
           "zaxis": {
            "backgroundcolor": "#E5ECF6",
            "gridcolor": "white",
            "gridwidth": 2,
            "linecolor": "white",
            "showbackground": true,
            "ticks": "",
            "zerolinecolor": "white"
           }
          },
          "shapedefaults": {
           "line": {
            "color": "#2a3f5f"
           }
          },
          "ternary": {
           "aaxis": {
            "gridcolor": "white",
            "linecolor": "white",
            "ticks": ""
           },
           "baxis": {
            "gridcolor": "white",
            "linecolor": "white",
            "ticks": ""
           },
           "bgcolor": "#E5ECF6",
           "caxis": {
            "gridcolor": "white",
            "linecolor": "white",
            "ticks": ""
           }
          },
          "title": {
           "x": 0.05
          },
          "xaxis": {
           "automargin": true,
           "gridcolor": "white",
           "linecolor": "white",
           "ticks": "",
           "title": {
            "standoff": 15
           },
           "zerolinecolor": "white",
           "zerolinewidth": 2
          },
          "yaxis": {
           "automargin": true,
           "gridcolor": "white",
           "linecolor": "white",
           "ticks": "",
           "title": {
            "standoff": 15
           },
           "zerolinecolor": "white",
           "zerolinewidth": 2
          }
         }
        },
        "updatemenus": [
         {
          "active": 0,
          "buttons": [
           {
            "args": [
             "shapes",
             []
            ],
            "label": "-",
            "method": "relayout"
           },
           {
            "args": [
             "shapes",
             [
              {
               "fillcolor": "lightgray",
               "layer": "below",
               "line": {
                "color": "white",
                "width": 0.1
               },
               "line_width": 0,
               "type": "rect",
               "x0": "1990-07-01T00:00:00",
               "x1": "1991-01-01T00:00:00",
               "xref": "x",
               "y0": 0,
               "y1": 0.97,
               "yref": "paper"
              },
              {
               "fillcolor": "lightgray",
               "layer": "below",
               "line": {
                "color": "white",
                "width": 0.1
               },
               "line_width": 0,
               "type": "rect",
               "x0": "2001-01-01T00:00:00",
               "x1": "2001-10-01T00:00:00",
               "xref": "x",
               "y0": 0,
               "y1": 0.97,
               "yref": "paper"
              },
              {
               "fillcolor": "lightgray",
               "layer": "below",
               "line": {
                "color": "white",
                "width": 0.1
               },
               "line_width": 0,
               "type": "rect",
               "x0": "2007-10-01T00:00:00",
               "x1": "2009-04-01T00:00:00",
               "xref": "x",
               "y0": 0,
               "y1": 0.97,
               "yref": "paper"
              }
             ]
            ],
            "label": "+",
            "method": "relayout"
           }
          ],
          "direction": "right",
          "type": "buttons",
          "x": 1.1,
          "y": 1.2
         }
        ],
        "width": 1020,
        "xaxis": {
         "linecolor": "rgb(204, 204, 204)",
         "linewidth": 2,
         "showgrid": true,
         "showline": true,
         "showticklabels": true,
         "tickfont": {
          "color": "rgb(82, 82, 82)",
          "family": "Arial",
          "size": 12
         },
         "ticks": "outside"
        },
        "yaxis": {
         "gridcolor": "rgb(204, 204, 204)",
         "showgrid": true,
         "showline": true,
         "showticklabels": true,
         "zeroline": false
        }
       }
      },
      "text/html": [
       "<div>\n",
       "        \n",
       "        \n",
       "            <div id=\"b2c8778a-c47d-4025-b5cc-076cedc2a4ac\" class=\"plotly-graph-div\" style=\"height:160px; width:1020px;\"></div>\n",
       "            <script type=\"text/javascript\">\n",
       "                require([\"plotly\"], function(Plotly) {\n",
       "                    window.PLOTLYENV=window.PLOTLYENV || {};\n",
       "                    \n",
       "                if (document.getElementById(\"b2c8778a-c47d-4025-b5cc-076cedc2a4ac\")) {\n",
       "                    Plotly.newPlot(\n",
       "                        'b2c8778a-c47d-4025-b5cc-076cedc2a4ac',\n",
       "                        [{\"connectgaps\": true, \"line\": {\"color\": \"rgb(41, 58, 143)\", \"width\": 1.5}, \"mode\": \"lines\", \"name\": \"median nominal HH income\", \"type\": \"scatter\", \"x\": [\"1984-07-01T00:00:00\", \"1985-07-01T00:00:00\", \"1986-07-01T00:00:00\", \"1987-07-01T00:00:00\", \"1988-07-01T00:00:00\", \"1989-07-01T00:00:00\", \"1990-07-01T00:00:00\", \"1991-07-01T00:00:00\", \"1992-07-01T00:00:00\", \"1993-07-01T00:00:00\", \"1994-07-01T00:00:00\", \"1995-07-01T00:00:00\", \"1996-07-01T00:00:00\", \"1997-07-01T00:00:00\", \"1998-07-01T00:00:00\", \"1999-07-01T00:00:00\", \"2000-07-01T00:00:00\", \"2001-07-01T00:00:00\", \"2002-07-01T00:00:00\", \"2003-07-01T00:00:00\", \"2004-07-01T00:00:00\", \"2005-07-01T00:00:00\", \"2006-07-01T00:00:00\", \"2007-07-01T00:00:00\", \"2008-07-01T00:00:00\", \"2009-07-01T00:00:00\", \"2010-07-01T00:00:00\", \"2011-07-01T00:00:00\", \"2012-07-01T00:00:00\", \"2013-07-01T00:00:00\", \"2014-07-01T00:00:00\", \"2015-07-01T00:00:00\", \"2016-07-01T00:00:00\", \"2017-07-01T00:00:00\", \"2018-07-01T00:00:00\"], \"y\": [51141.37065618482, 52040.91266811281, 53837.25917129177, 54362.15654125415, 54565.18490592632, 55266.57759075018, 54317.23985713376, 52428.862328825795, 51749.04011402775, 51258.01970810501, 51591.27332096477, 53001.80220059061, 53632.179560089266, 54641.14267469632, 56539.47780788304, 57905.71113312326, 57795.26033681767, 56525.341920180705, 55881.3284391939, 55812.10820928652, 55631.75687637874, 56223.85086579903, 56671.27320243065, 57422.28316042427, 55376.347933721154, 54992.822725217586, 53560.90395335136, 52741.58828720356, 52666.44893974034, 54518.86572097509, 53720.65176212339, 56516.0, 58303.453423266044, 59115.11073472653, 59633.96871451145]}, {\"marker\": {\"color\": \"rgb(41, 58, 143)\", \"size\": 1}, \"mode\": \"markers\", \"type\": \"scatter\", \"x\": [\"1984-07-01T00:00:00\", \"2018-07-01T00:00:00\"], \"y\": [51141.37065618482, 59633.96871451145]}],\n",
       "                        {\"annotations\": [{\"font\": {\"family\": \"Arial\", \"size\": 12}, \"showarrow\": false, \"text\": \"51k\", \"x\": 0.05, \"xanchor\": \"right\", \"xref\": \"paper\", \"y\": 51141.37065618482, \"yanchor\": \"top\"}, {\"font\": {\"family\": \"Arial\", \"size\": 12}, \"showarrow\": false, \"text\": \"60k\", \"x\": 0.95, \"xanchor\": \"left\", \"xref\": \"paper\", \"y\": 59633.96871451145, \"yanchor\": \"top\"}, {\"font\": {\"color\": \"rgb(37,37,37)\", \"family\": \"Arial\", \"size\": 22}, \"showarrow\": false, \"text\": \"Median real HH income\", \"x\": 0.0, \"xanchor\": \"left\", \"xref\": \"paper\", \"y\": 1.05, \"yanchor\": \"bottom\", \"yref\": \"paper\"}, {\"font\": {\"color\": \"rgb(150,150,150)\", \"family\": \"Arial\", \"size\": 12}, \"showarrow\": false, \"text\": \"Source: U.S. Census Bureau\", \"x\": 0, \"xanchor\": \"left\", \"xref\": \"paper\", \"y\": -0.2, \"yanchor\": \"top\", \"yref\": \"paper\"}, {\"font\": {\"color\": \"black\", \"family\": \"Arial\", \"size\": 12}, \"showarrow\": false, \"text\": \"2005 US$\", \"x\": 0.0, \"xref\": \"paper\", \"y\": 1.06, \"yref\": \"paper\"}], \"autosize\": false, \"height\": 160, \"margin\": {\"autoexpand\": false, \"b\": 0, \"l\": 120, \"r\": 120, \"t\": 38}, \"plot_bgcolor\": \"white\", \"showlegend\": false, \"template\": {\"data\": {\"bar\": [{\"error_x\": {\"color\": \"#2a3f5f\"}, \"error_y\": {\"color\": \"#2a3f5f\"}, \"marker\": {\"line\": {\"color\": \"#E5ECF6\", \"width\": 0.5}}, \"type\": \"bar\"}], \"barpolar\": [{\"marker\": {\"line\": {\"color\": \"#E5ECF6\", \"width\": 0.5}}, \"type\": \"barpolar\"}], \"carpet\": [{\"aaxis\": {\"endlinecolor\": \"#2a3f5f\", \"gridcolor\": \"white\", \"linecolor\": \"white\", \"minorgridcolor\": \"white\", \"startlinecolor\": \"#2a3f5f\"}, \"baxis\": {\"endlinecolor\": \"#2a3f5f\", \"gridcolor\": \"white\", \"linecolor\": \"white\", \"minorgridcolor\": \"white\", \"startlinecolor\": \"#2a3f5f\"}, \"type\": \"carpet\"}], \"choropleth\": [{\"colorbar\": {\"outlinewidth\": 0, \"ticks\": \"\"}, \"type\": \"choropleth\"}], \"contour\": [{\"colorbar\": {\"outlinewidth\": 0, \"ticks\": \"\"}, \"colorscale\": [[0.0, \"#0d0887\"], [0.1111111111111111, \"#46039f\"], [0.2222222222222222, \"#7201a8\"], [0.3333333333333333, \"#9c179e\"], [0.4444444444444444, \"#bd3786\"], [0.5555555555555556, \"#d8576b\"], [0.6666666666666666, \"#ed7953\"], [0.7777777777777778, \"#fb9f3a\"], [0.8888888888888888, \"#fdca26\"], [1.0, \"#f0f921\"]], \"type\": \"contour\"}], \"contourcarpet\": [{\"colorbar\": {\"outlinewidth\": 0, \"ticks\": \"\"}, \"type\": \"contourcarpet\"}], \"heatmap\": [{\"colorbar\": {\"outlinewidth\": 0, \"ticks\": \"\"}, \"colorscale\": [[0.0, \"#0d0887\"], [0.1111111111111111, \"#46039f\"], [0.2222222222222222, \"#7201a8\"], [0.3333333333333333, \"#9c179e\"], [0.4444444444444444, \"#bd3786\"], [0.5555555555555556, \"#d8576b\"], [0.6666666666666666, \"#ed7953\"], [0.7777777777777778, \"#fb9f3a\"], [0.8888888888888888, \"#fdca26\"], [1.0, \"#f0f921\"]], \"type\": \"heatmap\"}], \"heatmapgl\": [{\"colorbar\": {\"outlinewidth\": 0, \"ticks\": \"\"}, \"colorscale\": [[0.0, \"#0d0887\"], [0.1111111111111111, \"#46039f\"], [0.2222222222222222, \"#7201a8\"], [0.3333333333333333, \"#9c179e\"], [0.4444444444444444, \"#bd3786\"], [0.5555555555555556, \"#d8576b\"], [0.6666666666666666, \"#ed7953\"], [0.7777777777777778, \"#fb9f3a\"], [0.8888888888888888, \"#fdca26\"], [1.0, \"#f0f921\"]], \"type\": \"heatmapgl\"}], \"histogram\": [{\"marker\": {\"colorbar\": {\"outlinewidth\": 0, \"ticks\": \"\"}}, \"type\": \"histogram\"}], \"histogram2d\": [{\"colorbar\": {\"outlinewidth\": 0, \"ticks\": \"\"}, \"colorscale\": [[0.0, \"#0d0887\"], [0.1111111111111111, \"#46039f\"], [0.2222222222222222, \"#7201a8\"], [0.3333333333333333, \"#9c179e\"], [0.4444444444444444, \"#bd3786\"], [0.5555555555555556, \"#d8576b\"], [0.6666666666666666, \"#ed7953\"], [0.7777777777777778, \"#fb9f3a\"], [0.8888888888888888, \"#fdca26\"], [1.0, \"#f0f921\"]], \"type\": \"histogram2d\"}], \"histogram2dcontour\": [{\"colorbar\": {\"outlinewidth\": 0, \"ticks\": \"\"}, \"colorscale\": [[0.0, \"#0d0887\"], [0.1111111111111111, \"#46039f\"], [0.2222222222222222, \"#7201a8\"], [0.3333333333333333, \"#9c179e\"], [0.4444444444444444, \"#bd3786\"], [0.5555555555555556, \"#d8576b\"], [0.6666666666666666, \"#ed7953\"], [0.7777777777777778, \"#fb9f3a\"], [0.8888888888888888, \"#fdca26\"], [1.0, \"#f0f921\"]], \"type\": \"histogram2dcontour\"}], \"mesh3d\": [{\"colorbar\": {\"outlinewidth\": 0, \"ticks\": \"\"}, \"type\": \"mesh3d\"}], \"parcoords\": [{\"line\": {\"colorbar\": {\"outlinewidth\": 0, \"ticks\": \"\"}}, \"type\": \"parcoords\"}], \"pie\": [{\"automargin\": true, \"type\": \"pie\"}], \"scatter\": [{\"marker\": {\"colorbar\": {\"outlinewidth\": 0, \"ticks\": \"\"}}, \"type\": \"scatter\"}], \"scatter3d\": [{\"line\": {\"colorbar\": {\"outlinewidth\": 0, \"ticks\": \"\"}}, \"marker\": {\"colorbar\": {\"outlinewidth\": 0, \"ticks\": \"\"}}, \"type\": \"scatter3d\"}], \"scattercarpet\": [{\"marker\": {\"colorbar\": {\"outlinewidth\": 0, \"ticks\": \"\"}}, \"type\": \"scattercarpet\"}], \"scattergeo\": [{\"marker\": {\"colorbar\": {\"outlinewidth\": 0, \"ticks\": \"\"}}, \"type\": \"scattergeo\"}], \"scattergl\": [{\"marker\": {\"colorbar\": {\"outlinewidth\": 0, \"ticks\": \"\"}}, \"type\": \"scattergl\"}], \"scattermapbox\": [{\"marker\": {\"colorbar\": {\"outlinewidth\": 0, \"ticks\": \"\"}}, \"type\": \"scattermapbox\"}], \"scatterpolar\": [{\"marker\": {\"colorbar\": {\"outlinewidth\": 0, \"ticks\": \"\"}}, \"type\": \"scatterpolar\"}], \"scatterpolargl\": [{\"marker\": {\"colorbar\": {\"outlinewidth\": 0, \"ticks\": \"\"}}, \"type\": \"scatterpolargl\"}], \"scatterternary\": [{\"marker\": {\"colorbar\": {\"outlinewidth\": 0, \"ticks\": \"\"}}, \"type\": \"scatterternary\"}], \"surface\": [{\"colorbar\": {\"outlinewidth\": 0, \"ticks\": \"\"}, \"colorscale\": [[0.0, \"#0d0887\"], [0.1111111111111111, \"#46039f\"], [0.2222222222222222, \"#7201a8\"], [0.3333333333333333, \"#9c179e\"], [0.4444444444444444, \"#bd3786\"], [0.5555555555555556, \"#d8576b\"], [0.6666666666666666, \"#ed7953\"], [0.7777777777777778, \"#fb9f3a\"], [0.8888888888888888, \"#fdca26\"], [1.0, \"#f0f921\"]], \"type\": \"surface\"}], \"table\": [{\"cells\": {\"fill\": {\"color\": \"#EBF0F8\"}, \"line\": {\"color\": \"white\"}}, \"header\": {\"fill\": {\"color\": \"#C8D4E3\"}, \"line\": {\"color\": \"white\"}}, \"type\": \"table\"}]}, \"layout\": {\"annotationdefaults\": {\"arrowcolor\": \"#2a3f5f\", \"arrowhead\": 0, \"arrowwidth\": 1}, \"coloraxis\": {\"colorbar\": {\"outlinewidth\": 0, \"ticks\": \"\"}}, \"colorscale\": {\"diverging\": [[0, \"#8e0152\"], [0.1, \"#c51b7d\"], [0.2, \"#de77ae\"], [0.3, \"#f1b6da\"], [0.4, \"#fde0ef\"], [0.5, \"#f7f7f7\"], [0.6, \"#e6f5d0\"], [0.7, \"#b8e186\"], [0.8, \"#7fbc41\"], [0.9, \"#4d9221\"], [1, \"#276419\"]], \"sequential\": [[0.0, \"#0d0887\"], [0.1111111111111111, \"#46039f\"], [0.2222222222222222, \"#7201a8\"], [0.3333333333333333, \"#9c179e\"], [0.4444444444444444, \"#bd3786\"], [0.5555555555555556, \"#d8576b\"], [0.6666666666666666, \"#ed7953\"], [0.7777777777777778, \"#fb9f3a\"], [0.8888888888888888, \"#fdca26\"], [1.0, \"#f0f921\"]], \"sequentialminus\": [[0.0, \"#0d0887\"], [0.1111111111111111, \"#46039f\"], [0.2222222222222222, \"#7201a8\"], [0.3333333333333333, \"#9c179e\"], [0.4444444444444444, \"#bd3786\"], [0.5555555555555556, \"#d8576b\"], [0.6666666666666666, \"#ed7953\"], [0.7777777777777778, \"#fb9f3a\"], [0.8888888888888888, \"#fdca26\"], [1.0, \"#f0f921\"]]}, \"colorway\": [\"#636efa\", \"#EF553B\", \"#00cc96\", \"#ab63fa\", \"#FFA15A\", \"#19d3f3\", \"#FF6692\", \"#B6E880\", \"#FF97FF\", \"#FECB52\"], \"font\": {\"color\": \"#2a3f5f\"}, \"geo\": {\"bgcolor\": \"white\", \"lakecolor\": \"white\", \"landcolor\": \"#E5ECF6\", \"showlakes\": true, \"showland\": true, \"subunitcolor\": \"white\"}, \"hoverlabel\": {\"align\": \"left\"}, \"hovermode\": \"closest\", \"mapbox\": {\"style\": \"light\"}, \"paper_bgcolor\": \"white\", \"plot_bgcolor\": \"#E5ECF6\", \"polar\": {\"angularaxis\": {\"gridcolor\": \"white\", \"linecolor\": \"white\", \"ticks\": \"\"}, \"bgcolor\": \"#E5ECF6\", \"radialaxis\": {\"gridcolor\": \"white\", \"linecolor\": \"white\", \"ticks\": \"\"}}, \"scene\": {\"xaxis\": {\"backgroundcolor\": \"#E5ECF6\", \"gridcolor\": \"white\", \"gridwidth\": 2, \"linecolor\": \"white\", \"showbackground\": true, \"ticks\": \"\", \"zerolinecolor\": \"white\"}, \"yaxis\": {\"backgroundcolor\": \"#E5ECF6\", \"gridcolor\": \"white\", \"gridwidth\": 2, \"linecolor\": \"white\", \"showbackground\": true, \"ticks\": \"\", \"zerolinecolor\": \"white\"}, \"zaxis\": {\"backgroundcolor\": \"#E5ECF6\", \"gridcolor\": \"white\", \"gridwidth\": 2, \"linecolor\": \"white\", \"showbackground\": true, \"ticks\": \"\", \"zerolinecolor\": \"white\"}}, \"shapedefaults\": {\"line\": {\"color\": \"#2a3f5f\"}}, \"ternary\": {\"aaxis\": {\"gridcolor\": \"white\", \"linecolor\": \"white\", \"ticks\": \"\"}, \"baxis\": {\"gridcolor\": \"white\", \"linecolor\": \"white\", \"ticks\": \"\"}, \"bgcolor\": \"#E5ECF6\", \"caxis\": {\"gridcolor\": \"white\", \"linecolor\": \"white\", \"ticks\": \"\"}}, \"title\": {\"x\": 0.05}, \"xaxis\": {\"automargin\": true, \"gridcolor\": \"white\", \"linecolor\": \"white\", \"ticks\": \"\", \"title\": {\"standoff\": 15}, \"zerolinecolor\": \"white\", \"zerolinewidth\": 2}, \"yaxis\": {\"automargin\": true, \"gridcolor\": \"white\", \"linecolor\": \"white\", \"ticks\": \"\", \"title\": {\"standoff\": 15}, \"zerolinecolor\": \"white\", \"zerolinewidth\": 2}}}, \"updatemenus\": [{\"active\": 0, \"buttons\": [{\"args\": [\"shapes\", []], \"label\": \"-\", \"method\": \"relayout\"}, {\"args\": [\"shapes\", [{\"fillcolor\": \"lightgray\", \"layer\": \"below\", \"line\": {\"color\": \"white\", \"width\": 0.1}, \"line_width\": 0, \"type\": \"rect\", \"x0\": \"1990-07-01T00:00:00\", \"x1\": \"1991-01-01T00:00:00\", \"xref\": \"x\", \"y0\": 0, \"y1\": 0.97, \"yref\": \"paper\"}, {\"fillcolor\": \"lightgray\", \"layer\": \"below\", \"line\": {\"color\": \"white\", \"width\": 0.1}, \"line_width\": 0, \"type\": \"rect\", \"x0\": \"2001-01-01T00:00:00\", \"x1\": \"2001-10-01T00:00:00\", \"xref\": \"x\", \"y0\": 0, \"y1\": 0.97, \"yref\": \"paper\"}, {\"fillcolor\": \"lightgray\", \"layer\": \"below\", \"line\": {\"color\": \"white\", \"width\": 0.1}, \"line_width\": 0, \"type\": \"rect\", \"x0\": \"2007-10-01T00:00:00\", \"x1\": \"2009-04-01T00:00:00\", \"xref\": \"x\", \"y0\": 0, \"y1\": 0.97, \"yref\": \"paper\"}]], \"label\": \"+\", \"method\": \"relayout\"}], \"direction\": \"right\", \"type\": \"buttons\", \"x\": 1.1, \"y\": 1.2}], \"width\": 1020, \"xaxis\": {\"linecolor\": \"rgb(204, 204, 204)\", \"linewidth\": 2, \"showgrid\": true, \"showline\": true, \"showticklabels\": true, \"tickfont\": {\"color\": \"rgb(82, 82, 82)\", \"family\": \"Arial\", \"size\": 12}, \"ticks\": \"outside\"}, \"yaxis\": {\"gridcolor\": \"rgb(204, 204, 204)\", \"showgrid\": true, \"showline\": true, \"showticklabels\": true, \"zeroline\": false}},\n",
       "                        {\"responsive\": true}\n",
       "                    ).then(function(){\n",
       "                            \n",
       "var gd = document.getElementById('b2c8778a-c47d-4025-b5cc-076cedc2a4ac');\n",
       "var x = new MutationObserver(function (mutations, observer) {{\n",
       "        var display = window.getComputedStyle(gd).display;\n",
       "        if (!display || display === 'none') {{\n",
       "            console.log([gd, 'removed!']);\n",
       "            Plotly.purge(gd);\n",
       "            observer.disconnect();\n",
       "        }}\n",
       "}});\n",
       "\n",
       "// Listen for the removal of the full notebook cells\n",
       "var notebookContainer = gd.closest('#notebook-container');\n",
       "if (notebookContainer) {{\n",
       "    x.observe(notebookContainer, {childList: true});\n",
       "}}\n",
       "\n",
       "// Listen for the clearing of the current output cell\n",
       "var outputEl = gd.closest('.output');\n",
       "if (outputEl) {{\n",
       "    x.observe(outputEl, {childList: true});\n",
       "}}\n",
       "\n",
       "                        })\n",
       "                };\n",
       "                });\n",
       "            </script>\n",
       "        </div>"
      ]
     },
     "metadata": {},
     "output_type": "display_data"
    }
   ],
   "source": [
    "fig = plot_nice(title='Median real HH income', dic=dic, df=df, \n",
    "          margin=dict(autoexpand=False,l=120,r=120,t=38,b=0), \n",
    "          show_series_label=False,height=160,\n",
    "          recessions=True,\n",
    "          y_units='2005 US$')"
   ]
  },
  {
   "cell_type": "code",
   "execution_count": 428,
   "metadata": {},
   "outputs": [],
   "source": [
    "fig.write_html(\"../images/jm_f4.html\")"
   ]
  },
  {
   "cell_type": "code",
   "execution_count": 429,
   "metadata": {},
   "outputs": [
    {
     "data": {
      "application/vnd.plotly.v1+json": {
       "config": {
        "plotlyServerURL": "https://plot.ly"
       },
       "data": [
        {
         "connectgaps": true,
         "line": {
          "color": "red",
          "width": 1.5
         },
         "mode": "lines",
         "name": "homeownership",
         "type": "scatter",
         "x": [
          "1984-06-01T00:00:00",
          "1984-09-01T00:00:00",
          "1984-12-01T00:00:00",
          "1985-03-01T00:00:00",
          "1985-06-01T00:00:00",
          "1985-09-01T00:00:00",
          "1985-12-01T00:00:00",
          "1986-03-01T00:00:00",
          "1986-06-01T00:00:00",
          "1986-09-01T00:00:00",
          "1986-12-01T00:00:00",
          "1987-03-01T00:00:00",
          "1987-06-01T00:00:00",
          "1987-09-01T00:00:00",
          "1987-12-01T00:00:00",
          "1988-03-01T00:00:00",
          "1988-06-01T00:00:00",
          "1988-09-01T00:00:00",
          "1988-12-01T00:00:00",
          "1989-03-01T00:00:00",
          "1989-06-01T00:00:00",
          "1989-09-01T00:00:00",
          "1989-12-01T00:00:00",
          "1990-03-01T00:00:00",
          "1990-06-01T00:00:00",
          "1990-09-01T00:00:00",
          "1990-12-01T00:00:00",
          "1991-03-01T00:00:00",
          "1991-06-01T00:00:00",
          "1991-09-01T00:00:00",
          "1991-12-01T00:00:00",
          "1992-03-01T00:00:00",
          "1992-06-01T00:00:00",
          "1992-09-01T00:00:00",
          "1992-12-01T00:00:00",
          "1993-03-01T00:00:00",
          "1993-06-01T00:00:00",
          "1993-09-01T00:00:00",
          "1993-12-01T00:00:00",
          "1994-03-01T00:00:00",
          "1994-06-01T00:00:00",
          "1994-09-01T00:00:00",
          "1994-12-01T00:00:00",
          "1995-03-01T00:00:00",
          "1995-06-01T00:00:00",
          "1995-09-01T00:00:00",
          "1995-12-01T00:00:00",
          "1996-03-01T00:00:00",
          "1996-06-01T00:00:00",
          "1996-09-01T00:00:00",
          "1996-12-01T00:00:00",
          "1997-03-01T00:00:00",
          "1997-06-01T00:00:00",
          "1997-09-01T00:00:00",
          "1997-12-01T00:00:00",
          "1998-03-01T00:00:00",
          "1998-06-01T00:00:00",
          "1998-09-01T00:00:00",
          "1998-12-01T00:00:00",
          "1999-03-01T00:00:00",
          "1999-06-01T00:00:00",
          "1999-09-01T00:00:00",
          "1999-12-01T00:00:00",
          "2000-03-01T00:00:00",
          "2000-06-01T00:00:00",
          "2000-09-01T00:00:00",
          "2000-12-01T00:00:00",
          "2001-03-01T00:00:00",
          "2001-06-01T00:00:00",
          "2001-09-01T00:00:00",
          "2001-12-01T00:00:00",
          "2002-03-01T00:00:00",
          "2002-06-01T00:00:00",
          "2002-09-01T00:00:00",
          "2002-12-01T00:00:00",
          "2003-03-01T00:00:00",
          "2003-06-01T00:00:00",
          "2003-09-01T00:00:00",
          "2003-12-01T00:00:00",
          "2004-03-01T00:00:00",
          "2004-06-01T00:00:00",
          "2004-09-01T00:00:00",
          "2004-12-01T00:00:00",
          "2005-03-01T00:00:00",
          "2005-06-01T00:00:00",
          "2005-09-01T00:00:00",
          "2005-12-01T00:00:00",
          "2006-03-01T00:00:00",
          "2006-06-01T00:00:00",
          "2006-09-01T00:00:00",
          "2006-12-01T00:00:00",
          "2007-03-01T00:00:00",
          "2007-06-01T00:00:00",
          "2007-09-01T00:00:00",
          "2007-12-01T00:00:00",
          "2008-03-01T00:00:00",
          "2008-06-01T00:00:00",
          "2008-09-01T00:00:00",
          "2008-12-01T00:00:00",
          "2009-03-01T00:00:00",
          "2009-06-01T00:00:00",
          "2009-09-01T00:00:00",
          "2009-12-01T00:00:00",
          "2010-03-01T00:00:00",
          "2010-06-01T00:00:00",
          "2010-09-01T00:00:00",
          "2010-12-01T00:00:00",
          "2011-03-01T00:00:00",
          "2011-06-01T00:00:00",
          "2011-09-01T00:00:00",
          "2011-12-01T00:00:00",
          "2012-03-01T00:00:00",
          "2012-06-01T00:00:00",
          "2012-09-01T00:00:00",
          "2012-12-01T00:00:00",
          "2013-03-01T00:00:00",
          "2013-06-01T00:00:00",
          "2013-09-01T00:00:00",
          "2013-12-01T00:00:00",
          "2014-03-01T00:00:00",
          "2014-06-01T00:00:00",
          "2014-09-01T00:00:00",
          "2014-12-01T00:00:00",
          "2015-03-01T00:00:00",
          "2015-06-01T00:00:00",
          "2015-09-01T00:00:00",
          "2015-12-01T00:00:00",
          "2016-03-01T00:00:00",
          "2016-06-01T00:00:00",
          "2016-09-01T00:00:00",
          "2016-12-01T00:00:00",
          "2017-03-01T00:00:00",
          "2017-06-01T00:00:00",
          "2017-09-01T00:00:00",
          "2017-12-01T00:00:00",
          "2018-03-01T00:00:00",
          "2018-06-01T00:00:00"
         ],
         "y": [
          64.6,
          64.6,
          64.1,
          64.1,
          64.1,
          63.9,
          63.5,
          63.6,
          63.8,
          63.8,
          63.9,
          63.8,
          63.8,
          64.2,
          64.1,
          63.7,
          63.7,
          64,
          63.8,
          63.9,
          63.8,
          64.1,
          63.8,
          64,
          63.7,
          64,
          64.1,
          63.9,
          63.9,
          64.2,
          64.2,
          64,
          63.9,
          64.3,
          64.4,
          64.2,
          64.4,
          64.7,
          64.6,
          63.8,
          63.8,
          64.1,
          64.2,
          64.2,
          64.7,
          65,
          65.1,
          65.1,
          65.4,
          65.6,
          65.4,
          65.4,
          65.7,
          66,
          65.7,
          65.9,
          66,
          66.8,
          66.4,
          66.7,
          66.6,
          67,
          66.9,
          67.1,
          67.2,
          67.7,
          67.5,
          67.5,
          67.7,
          68.1,
          68,
          67.8,
          67.6,
          68,
          68.3,
          68,
          68,
          68.4,
          68.6,
          68.6,
          69.2,
          69,
          69.2,
          69.1,
          68.6,
          68.8,
          69,
          68.5,
          68.7,
          69,
          68.9,
          68.4,
          68.2,
          68.2,
          67.8,
          67.8,
          68.1,
          67.9,
          67.5,
          67.3,
          67.4,
          67.6,
          67.2,
          67.1,
          66.9,
          66.9,
          66.5,
          66.4,
          65.9,
          66.3,
          66,
          65.4,
          65.5,
          65.5,
          65.4,
          65,
          65,
          65.3,
          65.2,
          64.8,
          64.7,
          64.4,
          64,
          63.7,
          63.4,
          63.7,
          63.8,
          63.5,
          62.9,
          63.5,
          63.7,
          63.6,
          63.7,
          63.9,
          64.2,
          64.2,
          64.3
         ]
        },
        {
         "marker": {
          "color": "red",
          "size": 1
         },
         "mode": "markers",
         "type": "scatter",
         "x": [
          "1984-06-01T00:00:00",
          "2018-06-01T00:00:00"
         ],
         "y": [
          64.6,
          64.3
         ]
        }
       ],
       "layout": {
        "annotations": [
         {
          "font": {
           "family": "Arial",
           "size": 12
          },
          "showarrow": false,
          "text": "65",
          "x": 0.05,
          "xanchor": "right",
          "xref": "paper",
          "y": 64.6,
          "yanchor": "top"
         },
         {
          "font": {
           "family": "Arial",
           "size": 12
          },
          "showarrow": false,
          "text": "64",
          "x": 0.95,
          "xanchor": "left",
          "xref": "paper",
          "y": 64.3,
          "yanchor": "top"
         },
         {
          "font": {
           "color": "rgb(37,37,37)",
           "family": "Arial",
           "size": 22
          },
          "showarrow": false,
          "text": "Homeownership",
          "x": 0,
          "xanchor": "left",
          "xref": "paper",
          "y": 1.05,
          "yanchor": "bottom",
          "yref": "paper"
         },
         {
          "font": {
           "color": "rgb(150,150,150)",
           "family": "Arial",
           "size": 12
          },
          "showarrow": false,
          "text": "Source: US Census Bureau.",
          "x": 0,
          "xanchor": "left",
          "xref": "paper",
          "y": -0.2,
          "yanchor": "top",
          "yref": "paper"
         },
         {
          "font": {
           "color": "black",
           "family": "Arial",
           "size": 12
          },
          "showarrow": false,
          "text": "%",
          "x": 0,
          "xref": "paper",
          "y": 1.06,
          "yref": "paper"
         }
        ],
        "autosize": false,
        "height": 180,
        "margin": {
         "autoexpand": false,
         "b": 40,
         "l": 120,
         "r": 120,
         "t": 28
        },
        "plot_bgcolor": "white",
        "showlegend": false,
        "template": {
         "data": {
          "bar": [
           {
            "error_x": {
             "color": "#2a3f5f"
            },
            "error_y": {
             "color": "#2a3f5f"
            },
            "marker": {
             "line": {
              "color": "#E5ECF6",
              "width": 0.5
             }
            },
            "type": "bar"
           }
          ],
          "barpolar": [
           {
            "marker": {
             "line": {
              "color": "#E5ECF6",
              "width": 0.5
             }
            },
            "type": "barpolar"
           }
          ],
          "carpet": [
           {
            "aaxis": {
             "endlinecolor": "#2a3f5f",
             "gridcolor": "white",
             "linecolor": "white",
             "minorgridcolor": "white",
             "startlinecolor": "#2a3f5f"
            },
            "baxis": {
             "endlinecolor": "#2a3f5f",
             "gridcolor": "white",
             "linecolor": "white",
             "minorgridcolor": "white",
             "startlinecolor": "#2a3f5f"
            },
            "type": "carpet"
           }
          ],
          "choropleth": [
           {
            "colorbar": {
             "outlinewidth": 0,
             "ticks": ""
            },
            "type": "choropleth"
           }
          ],
          "contour": [
           {
            "colorbar": {
             "outlinewidth": 0,
             "ticks": ""
            },
            "colorscale": [
             [
              0,
              "#0d0887"
             ],
             [
              0.1111111111111111,
              "#46039f"
             ],
             [
              0.2222222222222222,
              "#7201a8"
             ],
             [
              0.3333333333333333,
              "#9c179e"
             ],
             [
              0.4444444444444444,
              "#bd3786"
             ],
             [
              0.5555555555555556,
              "#d8576b"
             ],
             [
              0.6666666666666666,
              "#ed7953"
             ],
             [
              0.7777777777777778,
              "#fb9f3a"
             ],
             [
              0.8888888888888888,
              "#fdca26"
             ],
             [
              1,
              "#f0f921"
             ]
            ],
            "type": "contour"
           }
          ],
          "contourcarpet": [
           {
            "colorbar": {
             "outlinewidth": 0,
             "ticks": ""
            },
            "type": "contourcarpet"
           }
          ],
          "heatmap": [
           {
            "colorbar": {
             "outlinewidth": 0,
             "ticks": ""
            },
            "colorscale": [
             [
              0,
              "#0d0887"
             ],
             [
              0.1111111111111111,
              "#46039f"
             ],
             [
              0.2222222222222222,
              "#7201a8"
             ],
             [
              0.3333333333333333,
              "#9c179e"
             ],
             [
              0.4444444444444444,
              "#bd3786"
             ],
             [
              0.5555555555555556,
              "#d8576b"
             ],
             [
              0.6666666666666666,
              "#ed7953"
             ],
             [
              0.7777777777777778,
              "#fb9f3a"
             ],
             [
              0.8888888888888888,
              "#fdca26"
             ],
             [
              1,
              "#f0f921"
             ]
            ],
            "type": "heatmap"
           }
          ],
          "heatmapgl": [
           {
            "colorbar": {
             "outlinewidth": 0,
             "ticks": ""
            },
            "colorscale": [
             [
              0,
              "#0d0887"
             ],
             [
              0.1111111111111111,
              "#46039f"
             ],
             [
              0.2222222222222222,
              "#7201a8"
             ],
             [
              0.3333333333333333,
              "#9c179e"
             ],
             [
              0.4444444444444444,
              "#bd3786"
             ],
             [
              0.5555555555555556,
              "#d8576b"
             ],
             [
              0.6666666666666666,
              "#ed7953"
             ],
             [
              0.7777777777777778,
              "#fb9f3a"
             ],
             [
              0.8888888888888888,
              "#fdca26"
             ],
             [
              1,
              "#f0f921"
             ]
            ],
            "type": "heatmapgl"
           }
          ],
          "histogram": [
           {
            "marker": {
             "colorbar": {
              "outlinewidth": 0,
              "ticks": ""
             }
            },
            "type": "histogram"
           }
          ],
          "histogram2d": [
           {
            "colorbar": {
             "outlinewidth": 0,
             "ticks": ""
            },
            "colorscale": [
             [
              0,
              "#0d0887"
             ],
             [
              0.1111111111111111,
              "#46039f"
             ],
             [
              0.2222222222222222,
              "#7201a8"
             ],
             [
              0.3333333333333333,
              "#9c179e"
             ],
             [
              0.4444444444444444,
              "#bd3786"
             ],
             [
              0.5555555555555556,
              "#d8576b"
             ],
             [
              0.6666666666666666,
              "#ed7953"
             ],
             [
              0.7777777777777778,
              "#fb9f3a"
             ],
             [
              0.8888888888888888,
              "#fdca26"
             ],
             [
              1,
              "#f0f921"
             ]
            ],
            "type": "histogram2d"
           }
          ],
          "histogram2dcontour": [
           {
            "colorbar": {
             "outlinewidth": 0,
             "ticks": ""
            },
            "colorscale": [
             [
              0,
              "#0d0887"
             ],
             [
              0.1111111111111111,
              "#46039f"
             ],
             [
              0.2222222222222222,
              "#7201a8"
             ],
             [
              0.3333333333333333,
              "#9c179e"
             ],
             [
              0.4444444444444444,
              "#bd3786"
             ],
             [
              0.5555555555555556,
              "#d8576b"
             ],
             [
              0.6666666666666666,
              "#ed7953"
             ],
             [
              0.7777777777777778,
              "#fb9f3a"
             ],
             [
              0.8888888888888888,
              "#fdca26"
             ],
             [
              1,
              "#f0f921"
             ]
            ],
            "type": "histogram2dcontour"
           }
          ],
          "mesh3d": [
           {
            "colorbar": {
             "outlinewidth": 0,
             "ticks": ""
            },
            "type": "mesh3d"
           }
          ],
          "parcoords": [
           {
            "line": {
             "colorbar": {
              "outlinewidth": 0,
              "ticks": ""
             }
            },
            "type": "parcoords"
           }
          ],
          "pie": [
           {
            "automargin": true,
            "type": "pie"
           }
          ],
          "scatter": [
           {
            "marker": {
             "colorbar": {
              "outlinewidth": 0,
              "ticks": ""
             }
            },
            "type": "scatter"
           }
          ],
          "scatter3d": [
           {
            "line": {
             "colorbar": {
              "outlinewidth": 0,
              "ticks": ""
             }
            },
            "marker": {
             "colorbar": {
              "outlinewidth": 0,
              "ticks": ""
             }
            },
            "type": "scatter3d"
           }
          ],
          "scattercarpet": [
           {
            "marker": {
             "colorbar": {
              "outlinewidth": 0,
              "ticks": ""
             }
            },
            "type": "scattercarpet"
           }
          ],
          "scattergeo": [
           {
            "marker": {
             "colorbar": {
              "outlinewidth": 0,
              "ticks": ""
             }
            },
            "type": "scattergeo"
           }
          ],
          "scattergl": [
           {
            "marker": {
             "colorbar": {
              "outlinewidth": 0,
              "ticks": ""
             }
            },
            "type": "scattergl"
           }
          ],
          "scattermapbox": [
           {
            "marker": {
             "colorbar": {
              "outlinewidth": 0,
              "ticks": ""
             }
            },
            "type": "scattermapbox"
           }
          ],
          "scatterpolar": [
           {
            "marker": {
             "colorbar": {
              "outlinewidth": 0,
              "ticks": ""
             }
            },
            "type": "scatterpolar"
           }
          ],
          "scatterpolargl": [
           {
            "marker": {
             "colorbar": {
              "outlinewidth": 0,
              "ticks": ""
             }
            },
            "type": "scatterpolargl"
           }
          ],
          "scatterternary": [
           {
            "marker": {
             "colorbar": {
              "outlinewidth": 0,
              "ticks": ""
             }
            },
            "type": "scatterternary"
           }
          ],
          "surface": [
           {
            "colorbar": {
             "outlinewidth": 0,
             "ticks": ""
            },
            "colorscale": [
             [
              0,
              "#0d0887"
             ],
             [
              0.1111111111111111,
              "#46039f"
             ],
             [
              0.2222222222222222,
              "#7201a8"
             ],
             [
              0.3333333333333333,
              "#9c179e"
             ],
             [
              0.4444444444444444,
              "#bd3786"
             ],
             [
              0.5555555555555556,
              "#d8576b"
             ],
             [
              0.6666666666666666,
              "#ed7953"
             ],
             [
              0.7777777777777778,
              "#fb9f3a"
             ],
             [
              0.8888888888888888,
              "#fdca26"
             ],
             [
              1,
              "#f0f921"
             ]
            ],
            "type": "surface"
           }
          ],
          "table": [
           {
            "cells": {
             "fill": {
              "color": "#EBF0F8"
             },
             "line": {
              "color": "white"
             }
            },
            "header": {
             "fill": {
              "color": "#C8D4E3"
             },
             "line": {
              "color": "white"
             }
            },
            "type": "table"
           }
          ]
         },
         "layout": {
          "annotationdefaults": {
           "arrowcolor": "#2a3f5f",
           "arrowhead": 0,
           "arrowwidth": 1
          },
          "coloraxis": {
           "colorbar": {
            "outlinewidth": 0,
            "ticks": ""
           }
          },
          "colorscale": {
           "diverging": [
            [
             0,
             "#8e0152"
            ],
            [
             0.1,
             "#c51b7d"
            ],
            [
             0.2,
             "#de77ae"
            ],
            [
             0.3,
             "#f1b6da"
            ],
            [
             0.4,
             "#fde0ef"
            ],
            [
             0.5,
             "#f7f7f7"
            ],
            [
             0.6,
             "#e6f5d0"
            ],
            [
             0.7,
             "#b8e186"
            ],
            [
             0.8,
             "#7fbc41"
            ],
            [
             0.9,
             "#4d9221"
            ],
            [
             1,
             "#276419"
            ]
           ],
           "sequential": [
            [
             0,
             "#0d0887"
            ],
            [
             0.1111111111111111,
             "#46039f"
            ],
            [
             0.2222222222222222,
             "#7201a8"
            ],
            [
             0.3333333333333333,
             "#9c179e"
            ],
            [
             0.4444444444444444,
             "#bd3786"
            ],
            [
             0.5555555555555556,
             "#d8576b"
            ],
            [
             0.6666666666666666,
             "#ed7953"
            ],
            [
             0.7777777777777778,
             "#fb9f3a"
            ],
            [
             0.8888888888888888,
             "#fdca26"
            ],
            [
             1,
             "#f0f921"
            ]
           ],
           "sequentialminus": [
            [
             0,
             "#0d0887"
            ],
            [
             0.1111111111111111,
             "#46039f"
            ],
            [
             0.2222222222222222,
             "#7201a8"
            ],
            [
             0.3333333333333333,
             "#9c179e"
            ],
            [
             0.4444444444444444,
             "#bd3786"
            ],
            [
             0.5555555555555556,
             "#d8576b"
            ],
            [
             0.6666666666666666,
             "#ed7953"
            ],
            [
             0.7777777777777778,
             "#fb9f3a"
            ],
            [
             0.8888888888888888,
             "#fdca26"
            ],
            [
             1,
             "#f0f921"
            ]
           ]
          },
          "colorway": [
           "#636efa",
           "#EF553B",
           "#00cc96",
           "#ab63fa",
           "#FFA15A",
           "#19d3f3",
           "#FF6692",
           "#B6E880",
           "#FF97FF",
           "#FECB52"
          ],
          "font": {
           "color": "#2a3f5f"
          },
          "geo": {
           "bgcolor": "white",
           "lakecolor": "white",
           "landcolor": "#E5ECF6",
           "showlakes": true,
           "showland": true,
           "subunitcolor": "white"
          },
          "hoverlabel": {
           "align": "left"
          },
          "hovermode": "closest",
          "mapbox": {
           "style": "light"
          },
          "paper_bgcolor": "white",
          "plot_bgcolor": "#E5ECF6",
          "polar": {
           "angularaxis": {
            "gridcolor": "white",
            "linecolor": "white",
            "ticks": ""
           },
           "bgcolor": "#E5ECF6",
           "radialaxis": {
            "gridcolor": "white",
            "linecolor": "white",
            "ticks": ""
           }
          },
          "scene": {
           "xaxis": {
            "backgroundcolor": "#E5ECF6",
            "gridcolor": "white",
            "gridwidth": 2,
            "linecolor": "white",
            "showbackground": true,
            "ticks": "",
            "zerolinecolor": "white"
           },
           "yaxis": {
            "backgroundcolor": "#E5ECF6",
            "gridcolor": "white",
            "gridwidth": 2,
            "linecolor": "white",
            "showbackground": true,
            "ticks": "",
            "zerolinecolor": "white"
           },
           "zaxis": {
            "backgroundcolor": "#E5ECF6",
            "gridcolor": "white",
            "gridwidth": 2,
            "linecolor": "white",
            "showbackground": true,
            "ticks": "",
            "zerolinecolor": "white"
           }
          },
          "shapedefaults": {
           "line": {
            "color": "#2a3f5f"
           }
          },
          "ternary": {
           "aaxis": {
            "gridcolor": "white",
            "linecolor": "white",
            "ticks": ""
           },
           "baxis": {
            "gridcolor": "white",
            "linecolor": "white",
            "ticks": ""
           },
           "bgcolor": "#E5ECF6",
           "caxis": {
            "gridcolor": "white",
            "linecolor": "white",
            "ticks": ""
           }
          },
          "title": {
           "x": 0.05
          },
          "xaxis": {
           "automargin": true,
           "gridcolor": "white",
           "linecolor": "white",
           "ticks": "",
           "title": {
            "standoff": 15
           },
           "zerolinecolor": "white",
           "zerolinewidth": 2
          },
          "yaxis": {
           "automargin": true,
           "gridcolor": "white",
           "linecolor": "white",
           "ticks": "",
           "title": {
            "standoff": 15
           },
           "zerolinecolor": "white",
           "zerolinewidth": 2
          }
         }
        },
        "updatemenus": [
         {
          "active": 0,
          "buttons": [
           {
            "args": [
             "shapes",
             []
            ],
            "label": "-",
            "method": "relayout"
           },
           {
            "args": [
             "shapes",
             [
              {
               "fillcolor": "lightgray",
               "layer": "below",
               "line": {
                "color": "white",
                "width": 0.1
               },
               "line_width": 0,
               "type": "rect",
               "x0": "1990-07-01T00:00:00",
               "x1": "1991-01-01T00:00:00",
               "xref": "x",
               "y0": 0,
               "y1": 0.97,
               "yref": "paper"
              },
              {
               "fillcolor": "lightgray",
               "layer": "below",
               "line": {
                "color": "white",
                "width": 0.1
               },
               "line_width": 0,
               "type": "rect",
               "x0": "2001-01-01T00:00:00",
               "x1": "2001-10-01T00:00:00",
               "xref": "x",
               "y0": 0,
               "y1": 0.97,
               "yref": "paper"
              },
              {
               "fillcolor": "lightgray",
               "layer": "below",
               "line": {
                "color": "white",
                "width": 0.1
               },
               "line_width": 0,
               "type": "rect",
               "x0": "2007-10-01T00:00:00",
               "x1": "2009-04-01T00:00:00",
               "xref": "x",
               "y0": 0,
               "y1": 0.97,
               "yref": "paper"
              }
             ]
            ],
            "label": "+",
            "method": "relayout"
           }
          ],
          "direction": "right",
          "type": "buttons",
          "x": 1.1,
          "y": 1.2
         }
        ],
        "width": 1020,
        "xaxis": {
         "linecolor": "rgb(204, 204, 204)",
         "linewidth": 2,
         "showgrid": true,
         "showline": true,
         "showticklabels": true,
         "tickfont": {
          "color": "rgb(82, 82, 82)",
          "family": "Arial",
          "size": 12
         },
         "ticks": "outside"
        },
        "yaxis": {
         "gridcolor": "rgb(204, 204, 204)",
         "showgrid": true,
         "showline": true,
         "showticklabels": true,
         "zeroline": false
        }
       }
      },
      "text/html": [
       "<div>\n",
       "        \n",
       "        \n",
       "            <div id=\"20d7d2ff-d775-4d8d-a196-6dbfc2ebafd5\" class=\"plotly-graph-div\" style=\"height:180px; width:1020px;\"></div>\n",
       "            <script type=\"text/javascript\">\n",
       "                require([\"plotly\"], function(Plotly) {\n",
       "                    window.PLOTLYENV=window.PLOTLYENV || {};\n",
       "                    \n",
       "                if (document.getElementById(\"20d7d2ff-d775-4d8d-a196-6dbfc2ebafd5\")) {\n",
       "                    Plotly.newPlot(\n",
       "                        '20d7d2ff-d775-4d8d-a196-6dbfc2ebafd5',\n",
       "                        [{\"connectgaps\": true, \"line\": {\"color\": \"red\", \"width\": 1.5}, \"mode\": \"lines\", \"name\": \"homeownership\", \"type\": \"scatter\", \"x\": [\"1984-06-01T00:00:00\", \"1984-09-01T00:00:00\", \"1984-12-01T00:00:00\", \"1985-03-01T00:00:00\", \"1985-06-01T00:00:00\", \"1985-09-01T00:00:00\", \"1985-12-01T00:00:00\", \"1986-03-01T00:00:00\", \"1986-06-01T00:00:00\", \"1986-09-01T00:00:00\", \"1986-12-01T00:00:00\", \"1987-03-01T00:00:00\", \"1987-06-01T00:00:00\", \"1987-09-01T00:00:00\", \"1987-12-01T00:00:00\", \"1988-03-01T00:00:00\", \"1988-06-01T00:00:00\", \"1988-09-01T00:00:00\", \"1988-12-01T00:00:00\", \"1989-03-01T00:00:00\", \"1989-06-01T00:00:00\", \"1989-09-01T00:00:00\", \"1989-12-01T00:00:00\", \"1990-03-01T00:00:00\", \"1990-06-01T00:00:00\", \"1990-09-01T00:00:00\", \"1990-12-01T00:00:00\", \"1991-03-01T00:00:00\", \"1991-06-01T00:00:00\", \"1991-09-01T00:00:00\", \"1991-12-01T00:00:00\", \"1992-03-01T00:00:00\", \"1992-06-01T00:00:00\", \"1992-09-01T00:00:00\", \"1992-12-01T00:00:00\", \"1993-03-01T00:00:00\", \"1993-06-01T00:00:00\", \"1993-09-01T00:00:00\", \"1993-12-01T00:00:00\", \"1994-03-01T00:00:00\", \"1994-06-01T00:00:00\", \"1994-09-01T00:00:00\", \"1994-12-01T00:00:00\", \"1995-03-01T00:00:00\", \"1995-06-01T00:00:00\", \"1995-09-01T00:00:00\", \"1995-12-01T00:00:00\", \"1996-03-01T00:00:00\", \"1996-06-01T00:00:00\", \"1996-09-01T00:00:00\", \"1996-12-01T00:00:00\", \"1997-03-01T00:00:00\", \"1997-06-01T00:00:00\", \"1997-09-01T00:00:00\", \"1997-12-01T00:00:00\", \"1998-03-01T00:00:00\", \"1998-06-01T00:00:00\", \"1998-09-01T00:00:00\", \"1998-12-01T00:00:00\", \"1999-03-01T00:00:00\", \"1999-06-01T00:00:00\", \"1999-09-01T00:00:00\", \"1999-12-01T00:00:00\", \"2000-03-01T00:00:00\", \"2000-06-01T00:00:00\", \"2000-09-01T00:00:00\", \"2000-12-01T00:00:00\", \"2001-03-01T00:00:00\", \"2001-06-01T00:00:00\", \"2001-09-01T00:00:00\", \"2001-12-01T00:00:00\", \"2002-03-01T00:00:00\", \"2002-06-01T00:00:00\", \"2002-09-01T00:00:00\", \"2002-12-01T00:00:00\", \"2003-03-01T00:00:00\", \"2003-06-01T00:00:00\", \"2003-09-01T00:00:00\", \"2003-12-01T00:00:00\", \"2004-03-01T00:00:00\", \"2004-06-01T00:00:00\", \"2004-09-01T00:00:00\", \"2004-12-01T00:00:00\", \"2005-03-01T00:00:00\", \"2005-06-01T00:00:00\", \"2005-09-01T00:00:00\", \"2005-12-01T00:00:00\", \"2006-03-01T00:00:00\", \"2006-06-01T00:00:00\", \"2006-09-01T00:00:00\", \"2006-12-01T00:00:00\", \"2007-03-01T00:00:00\", \"2007-06-01T00:00:00\", \"2007-09-01T00:00:00\", \"2007-12-01T00:00:00\", \"2008-03-01T00:00:00\", \"2008-06-01T00:00:00\", \"2008-09-01T00:00:00\", \"2008-12-01T00:00:00\", \"2009-03-01T00:00:00\", \"2009-06-01T00:00:00\", \"2009-09-01T00:00:00\", \"2009-12-01T00:00:00\", \"2010-03-01T00:00:00\", \"2010-06-01T00:00:00\", \"2010-09-01T00:00:00\", \"2010-12-01T00:00:00\", \"2011-03-01T00:00:00\", \"2011-06-01T00:00:00\", \"2011-09-01T00:00:00\", \"2011-12-01T00:00:00\", \"2012-03-01T00:00:00\", \"2012-06-01T00:00:00\", \"2012-09-01T00:00:00\", \"2012-12-01T00:00:00\", \"2013-03-01T00:00:00\", \"2013-06-01T00:00:00\", \"2013-09-01T00:00:00\", \"2013-12-01T00:00:00\", \"2014-03-01T00:00:00\", \"2014-06-01T00:00:00\", \"2014-09-01T00:00:00\", \"2014-12-01T00:00:00\", \"2015-03-01T00:00:00\", \"2015-06-01T00:00:00\", \"2015-09-01T00:00:00\", \"2015-12-01T00:00:00\", \"2016-03-01T00:00:00\", \"2016-06-01T00:00:00\", \"2016-09-01T00:00:00\", \"2016-12-01T00:00:00\", \"2017-03-01T00:00:00\", \"2017-06-01T00:00:00\", \"2017-09-01T00:00:00\", \"2017-12-01T00:00:00\", \"2018-03-01T00:00:00\", \"2018-06-01T00:00:00\"], \"y\": [64.6, 64.6, 64.1, 64.1, 64.1, 63.9, 63.5, 63.6, 63.8, 63.8, 63.9, 63.8, 63.8, 64.2, 64.1, 63.7, 63.7, 64.0, 63.8, 63.9, 63.8, 64.1, 63.8, 64.0, 63.7, 64.0, 64.1, 63.9, 63.9, 64.2, 64.2, 64.0, 63.9, 64.3, 64.4, 64.2, 64.4, 64.7, 64.6, 63.8, 63.8, 64.1, 64.2, 64.2, 64.7, 65.0, 65.1, 65.1, 65.4, 65.6, 65.4, 65.4, 65.7, 66.0, 65.7, 65.9, 66.0, 66.8, 66.4, 66.7, 66.6, 67.0, 66.9, 67.1, 67.2, 67.7, 67.5, 67.5, 67.7, 68.1, 68.0, 67.8, 67.6, 68.0, 68.3, 68.0, 68.0, 68.4, 68.6, 68.6, 69.2, 69.0, 69.2, 69.1, 68.6, 68.8, 69.0, 68.5, 68.7, 69.0, 68.9, 68.4, 68.2, 68.2, 67.8, 67.8, 68.1, 67.9, 67.5, 67.3, 67.4, 67.6, 67.2, 67.1, 66.9, 66.9, 66.5, 66.4, 65.9, 66.3, 66.0, 65.4, 65.5, 65.5, 65.4, 65.0, 65.0, 65.3, 65.2, 64.8, 64.7, 64.4, 64.0, 63.7, 63.4, 63.7, 63.8, 63.5, 62.9, 63.5, 63.7, 63.6, 63.7, 63.9, 64.2, 64.2, 64.3]}, {\"marker\": {\"color\": \"red\", \"size\": 1}, \"mode\": \"markers\", \"type\": \"scatter\", \"x\": [\"1984-06-01T00:00:00\", \"2018-06-01T00:00:00\"], \"y\": [64.6, 64.3]}],\n",
       "                        {\"annotations\": [{\"font\": {\"family\": \"Arial\", \"size\": 12}, \"showarrow\": false, \"text\": \"65\", \"x\": 0.05, \"xanchor\": \"right\", \"xref\": \"paper\", \"y\": 64.6, \"yanchor\": \"top\"}, {\"font\": {\"family\": \"Arial\", \"size\": 12}, \"showarrow\": false, \"text\": \"64\", \"x\": 0.95, \"xanchor\": \"left\", \"xref\": \"paper\", \"y\": 64.3, \"yanchor\": \"top\"}, {\"font\": {\"color\": \"rgb(37,37,37)\", \"family\": \"Arial\", \"size\": 22}, \"showarrow\": false, \"text\": \"Homeownership\", \"x\": 0.0, \"xanchor\": \"left\", \"xref\": \"paper\", \"y\": 1.05, \"yanchor\": \"bottom\", \"yref\": \"paper\"}, {\"font\": {\"color\": \"rgb(150,150,150)\", \"family\": \"Arial\", \"size\": 12}, \"showarrow\": false, \"text\": \"Source: US Census Bureau.\", \"x\": 0, \"xanchor\": \"left\", \"xref\": \"paper\", \"y\": -0.2, \"yanchor\": \"top\", \"yref\": \"paper\"}, {\"font\": {\"color\": \"black\", \"family\": \"Arial\", \"size\": 12}, \"showarrow\": false, \"text\": \"%\", \"x\": 0.0, \"xref\": \"paper\", \"y\": 1.06, \"yref\": \"paper\"}], \"autosize\": false, \"height\": 180, \"margin\": {\"autoexpand\": false, \"b\": 40, \"l\": 120, \"r\": 120, \"t\": 28}, \"plot_bgcolor\": \"white\", \"showlegend\": false, \"template\": {\"data\": {\"bar\": [{\"error_x\": {\"color\": \"#2a3f5f\"}, \"error_y\": {\"color\": \"#2a3f5f\"}, \"marker\": {\"line\": {\"color\": \"#E5ECF6\", \"width\": 0.5}}, \"type\": \"bar\"}], \"barpolar\": [{\"marker\": {\"line\": {\"color\": \"#E5ECF6\", \"width\": 0.5}}, \"type\": \"barpolar\"}], \"carpet\": [{\"aaxis\": {\"endlinecolor\": \"#2a3f5f\", \"gridcolor\": \"white\", \"linecolor\": \"white\", \"minorgridcolor\": \"white\", \"startlinecolor\": \"#2a3f5f\"}, \"baxis\": {\"endlinecolor\": \"#2a3f5f\", \"gridcolor\": \"white\", \"linecolor\": \"white\", \"minorgridcolor\": \"white\", \"startlinecolor\": \"#2a3f5f\"}, \"type\": \"carpet\"}], \"choropleth\": [{\"colorbar\": {\"outlinewidth\": 0, \"ticks\": \"\"}, \"type\": \"choropleth\"}], \"contour\": [{\"colorbar\": {\"outlinewidth\": 0, \"ticks\": \"\"}, \"colorscale\": [[0.0, \"#0d0887\"], [0.1111111111111111, \"#46039f\"], [0.2222222222222222, \"#7201a8\"], [0.3333333333333333, \"#9c179e\"], [0.4444444444444444, \"#bd3786\"], [0.5555555555555556, \"#d8576b\"], [0.6666666666666666, \"#ed7953\"], [0.7777777777777778, \"#fb9f3a\"], [0.8888888888888888, \"#fdca26\"], [1.0, \"#f0f921\"]], \"type\": \"contour\"}], \"contourcarpet\": [{\"colorbar\": {\"outlinewidth\": 0, \"ticks\": \"\"}, \"type\": \"contourcarpet\"}], \"heatmap\": [{\"colorbar\": {\"outlinewidth\": 0, \"ticks\": \"\"}, \"colorscale\": [[0.0, \"#0d0887\"], [0.1111111111111111, \"#46039f\"], [0.2222222222222222, \"#7201a8\"], [0.3333333333333333, \"#9c179e\"], [0.4444444444444444, \"#bd3786\"], [0.5555555555555556, \"#d8576b\"], [0.6666666666666666, \"#ed7953\"], [0.7777777777777778, \"#fb9f3a\"], [0.8888888888888888, \"#fdca26\"], [1.0, \"#f0f921\"]], \"type\": \"heatmap\"}], \"heatmapgl\": [{\"colorbar\": {\"outlinewidth\": 0, \"ticks\": \"\"}, \"colorscale\": [[0.0, \"#0d0887\"], [0.1111111111111111, \"#46039f\"], [0.2222222222222222, \"#7201a8\"], [0.3333333333333333, \"#9c179e\"], [0.4444444444444444, \"#bd3786\"], [0.5555555555555556, \"#d8576b\"], [0.6666666666666666, \"#ed7953\"], [0.7777777777777778, \"#fb9f3a\"], [0.8888888888888888, \"#fdca26\"], [1.0, \"#f0f921\"]], \"type\": \"heatmapgl\"}], \"histogram\": [{\"marker\": {\"colorbar\": {\"outlinewidth\": 0, \"ticks\": \"\"}}, \"type\": \"histogram\"}], \"histogram2d\": [{\"colorbar\": {\"outlinewidth\": 0, \"ticks\": \"\"}, \"colorscale\": [[0.0, \"#0d0887\"], [0.1111111111111111, \"#46039f\"], [0.2222222222222222, \"#7201a8\"], [0.3333333333333333, \"#9c179e\"], [0.4444444444444444, \"#bd3786\"], [0.5555555555555556, \"#d8576b\"], [0.6666666666666666, \"#ed7953\"], [0.7777777777777778, \"#fb9f3a\"], [0.8888888888888888, \"#fdca26\"], [1.0, \"#f0f921\"]], \"type\": \"histogram2d\"}], \"histogram2dcontour\": [{\"colorbar\": {\"outlinewidth\": 0, \"ticks\": \"\"}, \"colorscale\": [[0.0, \"#0d0887\"], [0.1111111111111111, \"#46039f\"], [0.2222222222222222, \"#7201a8\"], [0.3333333333333333, \"#9c179e\"], [0.4444444444444444, \"#bd3786\"], [0.5555555555555556, \"#d8576b\"], [0.6666666666666666, \"#ed7953\"], [0.7777777777777778, \"#fb9f3a\"], [0.8888888888888888, \"#fdca26\"], [1.0, \"#f0f921\"]], \"type\": \"histogram2dcontour\"}], \"mesh3d\": [{\"colorbar\": {\"outlinewidth\": 0, \"ticks\": \"\"}, \"type\": \"mesh3d\"}], \"parcoords\": [{\"line\": {\"colorbar\": {\"outlinewidth\": 0, \"ticks\": \"\"}}, \"type\": \"parcoords\"}], \"pie\": [{\"automargin\": true, \"type\": \"pie\"}], \"scatter\": [{\"marker\": {\"colorbar\": {\"outlinewidth\": 0, \"ticks\": \"\"}}, \"type\": \"scatter\"}], \"scatter3d\": [{\"line\": {\"colorbar\": {\"outlinewidth\": 0, \"ticks\": \"\"}}, \"marker\": {\"colorbar\": {\"outlinewidth\": 0, \"ticks\": \"\"}}, \"type\": \"scatter3d\"}], \"scattercarpet\": [{\"marker\": {\"colorbar\": {\"outlinewidth\": 0, \"ticks\": \"\"}}, \"type\": \"scattercarpet\"}], \"scattergeo\": [{\"marker\": {\"colorbar\": {\"outlinewidth\": 0, \"ticks\": \"\"}}, \"type\": \"scattergeo\"}], \"scattergl\": [{\"marker\": {\"colorbar\": {\"outlinewidth\": 0, \"ticks\": \"\"}}, \"type\": \"scattergl\"}], \"scattermapbox\": [{\"marker\": {\"colorbar\": {\"outlinewidth\": 0, \"ticks\": \"\"}}, \"type\": \"scattermapbox\"}], \"scatterpolar\": [{\"marker\": {\"colorbar\": {\"outlinewidth\": 0, \"ticks\": \"\"}}, \"type\": \"scatterpolar\"}], \"scatterpolargl\": [{\"marker\": {\"colorbar\": {\"outlinewidth\": 0, \"ticks\": \"\"}}, \"type\": \"scatterpolargl\"}], \"scatterternary\": [{\"marker\": {\"colorbar\": {\"outlinewidth\": 0, \"ticks\": \"\"}}, \"type\": \"scatterternary\"}], \"surface\": [{\"colorbar\": {\"outlinewidth\": 0, \"ticks\": \"\"}, \"colorscale\": [[0.0, \"#0d0887\"], [0.1111111111111111, \"#46039f\"], [0.2222222222222222, \"#7201a8\"], [0.3333333333333333, \"#9c179e\"], [0.4444444444444444, \"#bd3786\"], [0.5555555555555556, \"#d8576b\"], [0.6666666666666666, \"#ed7953\"], [0.7777777777777778, \"#fb9f3a\"], [0.8888888888888888, \"#fdca26\"], [1.0, \"#f0f921\"]], \"type\": \"surface\"}], \"table\": [{\"cells\": {\"fill\": {\"color\": \"#EBF0F8\"}, \"line\": {\"color\": \"white\"}}, \"header\": {\"fill\": {\"color\": \"#C8D4E3\"}, \"line\": {\"color\": \"white\"}}, \"type\": \"table\"}]}, \"layout\": {\"annotationdefaults\": {\"arrowcolor\": \"#2a3f5f\", \"arrowhead\": 0, \"arrowwidth\": 1}, \"coloraxis\": {\"colorbar\": {\"outlinewidth\": 0, \"ticks\": \"\"}}, \"colorscale\": {\"diverging\": [[0, \"#8e0152\"], [0.1, \"#c51b7d\"], [0.2, \"#de77ae\"], [0.3, \"#f1b6da\"], [0.4, \"#fde0ef\"], [0.5, \"#f7f7f7\"], [0.6, \"#e6f5d0\"], [0.7, \"#b8e186\"], [0.8, \"#7fbc41\"], [0.9, \"#4d9221\"], [1, \"#276419\"]], \"sequential\": [[0.0, \"#0d0887\"], [0.1111111111111111, \"#46039f\"], [0.2222222222222222, \"#7201a8\"], [0.3333333333333333, \"#9c179e\"], [0.4444444444444444, \"#bd3786\"], [0.5555555555555556, \"#d8576b\"], [0.6666666666666666, \"#ed7953\"], [0.7777777777777778, \"#fb9f3a\"], [0.8888888888888888, \"#fdca26\"], [1.0, \"#f0f921\"]], \"sequentialminus\": [[0.0, \"#0d0887\"], [0.1111111111111111, \"#46039f\"], [0.2222222222222222, \"#7201a8\"], [0.3333333333333333, \"#9c179e\"], [0.4444444444444444, \"#bd3786\"], [0.5555555555555556, \"#d8576b\"], [0.6666666666666666, \"#ed7953\"], [0.7777777777777778, \"#fb9f3a\"], [0.8888888888888888, \"#fdca26\"], [1.0, \"#f0f921\"]]}, \"colorway\": [\"#636efa\", \"#EF553B\", \"#00cc96\", \"#ab63fa\", \"#FFA15A\", \"#19d3f3\", \"#FF6692\", \"#B6E880\", \"#FF97FF\", \"#FECB52\"], \"font\": {\"color\": \"#2a3f5f\"}, \"geo\": {\"bgcolor\": \"white\", \"lakecolor\": \"white\", \"landcolor\": \"#E5ECF6\", \"showlakes\": true, \"showland\": true, \"subunitcolor\": \"white\"}, \"hoverlabel\": {\"align\": \"left\"}, \"hovermode\": \"closest\", \"mapbox\": {\"style\": \"light\"}, \"paper_bgcolor\": \"white\", \"plot_bgcolor\": \"#E5ECF6\", \"polar\": {\"angularaxis\": {\"gridcolor\": \"white\", \"linecolor\": \"white\", \"ticks\": \"\"}, \"bgcolor\": \"#E5ECF6\", \"radialaxis\": {\"gridcolor\": \"white\", \"linecolor\": \"white\", \"ticks\": \"\"}}, \"scene\": {\"xaxis\": {\"backgroundcolor\": \"#E5ECF6\", \"gridcolor\": \"white\", \"gridwidth\": 2, \"linecolor\": \"white\", \"showbackground\": true, \"ticks\": \"\", \"zerolinecolor\": \"white\"}, \"yaxis\": {\"backgroundcolor\": \"#E5ECF6\", \"gridcolor\": \"white\", \"gridwidth\": 2, \"linecolor\": \"white\", \"showbackground\": true, \"ticks\": \"\", \"zerolinecolor\": \"white\"}, \"zaxis\": {\"backgroundcolor\": \"#E5ECF6\", \"gridcolor\": \"white\", \"gridwidth\": 2, \"linecolor\": \"white\", \"showbackground\": true, \"ticks\": \"\", \"zerolinecolor\": \"white\"}}, \"shapedefaults\": {\"line\": {\"color\": \"#2a3f5f\"}}, \"ternary\": {\"aaxis\": {\"gridcolor\": \"white\", \"linecolor\": \"white\", \"ticks\": \"\"}, \"baxis\": {\"gridcolor\": \"white\", \"linecolor\": \"white\", \"ticks\": \"\"}, \"bgcolor\": \"#E5ECF6\", \"caxis\": {\"gridcolor\": \"white\", \"linecolor\": \"white\", \"ticks\": \"\"}}, \"title\": {\"x\": 0.05}, \"xaxis\": {\"automargin\": true, \"gridcolor\": \"white\", \"linecolor\": \"white\", \"ticks\": \"\", \"title\": {\"standoff\": 15}, \"zerolinecolor\": \"white\", \"zerolinewidth\": 2}, \"yaxis\": {\"automargin\": true, \"gridcolor\": \"white\", \"linecolor\": \"white\", \"ticks\": \"\", \"title\": {\"standoff\": 15}, \"zerolinecolor\": \"white\", \"zerolinewidth\": 2}}}, \"updatemenus\": [{\"active\": 0, \"buttons\": [{\"args\": [\"shapes\", []], \"label\": \"-\", \"method\": \"relayout\"}, {\"args\": [\"shapes\", [{\"fillcolor\": \"lightgray\", \"layer\": \"below\", \"line\": {\"color\": \"white\", \"width\": 0.1}, \"line_width\": 0, \"type\": \"rect\", \"x0\": \"1990-07-01T00:00:00\", \"x1\": \"1991-01-01T00:00:00\", \"xref\": \"x\", \"y0\": 0, \"y1\": 0.97, \"yref\": \"paper\"}, {\"fillcolor\": \"lightgray\", \"layer\": \"below\", \"line\": {\"color\": \"white\", \"width\": 0.1}, \"line_width\": 0, \"type\": \"rect\", \"x0\": \"2001-01-01T00:00:00\", \"x1\": \"2001-10-01T00:00:00\", \"xref\": \"x\", \"y0\": 0, \"y1\": 0.97, \"yref\": \"paper\"}, {\"fillcolor\": \"lightgray\", \"layer\": \"below\", \"line\": {\"color\": \"white\", \"width\": 0.1}, \"line_width\": 0, \"type\": \"rect\", \"x0\": \"2007-10-01T00:00:00\", \"x1\": \"2009-04-01T00:00:00\", \"xref\": \"x\", \"y0\": 0, \"y1\": 0.97, \"yref\": \"paper\"}]], \"label\": \"+\", \"method\": \"relayout\"}], \"direction\": \"right\", \"type\": \"buttons\", \"x\": 1.1, \"y\": 1.2}], \"width\": 1020, \"xaxis\": {\"linecolor\": \"rgb(204, 204, 204)\", \"linewidth\": 2, \"showgrid\": true, \"showline\": true, \"showticklabels\": true, \"tickfont\": {\"color\": \"rgb(82, 82, 82)\", \"family\": \"Arial\", \"size\": 12}, \"ticks\": \"outside\"}, \"yaxis\": {\"gridcolor\": \"rgb(204, 204, 204)\", \"showgrid\": true, \"showline\": true, \"showticklabels\": true, \"zeroline\": false}},\n",
       "                        {\"responsive\": true}\n",
       "                    ).then(function(){\n",
       "                            \n",
       "var gd = document.getElementById('20d7d2ff-d775-4d8d-a196-6dbfc2ebafd5');\n",
       "var x = new MutationObserver(function (mutations, observer) {{\n",
       "        var display = window.getComputedStyle(gd).display;\n",
       "        if (!display || display === 'none') {{\n",
       "            console.log([gd, 'removed!']);\n",
       "            Plotly.purge(gd);\n",
       "            observer.disconnect();\n",
       "        }}\n",
       "}});\n",
       "\n",
       "// Listen for the removal of the full notebook cells\n",
       "var notebookContainer = gd.closest('#notebook-container');\n",
       "if (notebookContainer) {{\n",
       "    x.observe(notebookContainer, {childList: true});\n",
       "}}\n",
       "\n",
       "// Listen for the clearing of the current output cell\n",
       "var outputEl = gd.closest('.output');\n",
       "if (outputEl) {{\n",
       "    x.observe(outputEl, {childList: true});\n",
       "}}\n",
       "\n",
       "                        })\n",
       "                };\n",
       "                });\n",
       "            </script>\n",
       "        </div>"
      ]
     },
     "metadata": {},
     "output_type": "display_data"
    }
   ],
   "source": [
    "s = ['homeownership [RHORUSQ156N]']\n",
    "dic = dict_from_FRED_description(s)\n",
    "df = make_hrizontal_tbl(dic, start=start)\n",
    "df.index  = df.index+ pd.offsets.MonthOffset(2) # bcs data is quartely and when imported come as first day of quarter\n",
    "df = df[((df.index>='1984-06-01') & (df.index<='2018-07-01'))]\n",
    "fig = plot_nice(title='Homeownership', dic=dic, df=df, \n",
    "          margin=dict(autoexpand=False,l=120,r=120,t=28,b=40), \n",
    "          show_series_label=False,height=180,\n",
    "          recessions=True,\n",
    "          y_units='%', colors=['red'], source = 'US Census Bureau.')\n",
    "\n",
    "fig.write_html(\"../images/jm_f6.html\")"
   ]
  },
  {
   "cell_type": "markdown",
   "metadata": {},
   "source": [
    "## Regress ownership with employment,  affordability, relative cost of rental\n"
   ]
  },
  {
   "cell_type": "code",
   "execution_count": 430,
   "metadata": {
    "scrolled": true
   },
   "outputs": [],
   "source": [
    "#### to do"
   ]
  },
  {
   "cell_type": "code",
   "execution_count": null,
   "metadata": {},
   "outputs": [],
   "source": [
    "Homeownership x affordability"
   ]
  },
  {
   "cell_type": "markdown",
   "metadata": {},
   "source": [
    "### The experiment\n",
    "Real Estate GTOs - Geographic Targeting Orders - were first anounced on January 2016 (effective on March/2016), by the FinCen - Treasury's department of Financial Crimes Enforcement Network. Under Real Estate GTOs, Title Insurance Companies of certain metropolitan areas must reveal the beneficial owners of shell companies that acquire residential real estate all-cash. When a company purchases real estate and no loan is involved, the final beneficiary is unknown. The objective of the FinCen was to identify illegal money going into top-end real estate market. \n",
    "\n",
    "GTOs are valid for 180 days only, but real estate GTOs were renewed since its inception, adding on each wave additional requirements. I summarized the most relevant ones bellow:\n",
    "\n",
    "- Jan/2016: announcement for Manhattan and Miami-Dade (thresholds: US\\$3mm/1mm respectively).\n",
    "- 01/Mar/2016: came into force.\n",
    "- 28/Aug/2016: + all other NYC boroughs and some counties in TX, CA, FL. Included personal and business checks.\n",
    "- 23/08/2017: **included wire transfers** + Honolulu, HI. (4th wave)\n",
    "- 17/02/2018: **threshold reduced to US$300,000** + counties on NV, WA, MA, IL. (6th wave)\n",
    "\n",
    "There were not many reports to FinCen on the first waves of the GTO due to a caveat: treasury departments were not allowed to monitor wire transfers. Only a small amount of transactions that met the thresholds were reported. An act of Congress changed this restriction and since end of August/2017 wire transfers were included.\n",
    "\n",
    "Available research on Real Estate GTOs (Hundtofte and Rantala, 2018) covered only the 2 initial periods (2016) and focused on the reduction of cash sales on treated areas. They concluded that the total value of all-cash residential real estate purchases reduced dramatically immediately after the inception of GTO in 2016 (covered only NYC and Miami-Dade) but, on the other hand, total transactions were still increasing. To evaluate price impact they build an pre-treatment hedonic model and compared forecasted prices after treatment against transaction prices. \n",
    "\n",
    "I take a completely different perspective from Hundtofte and Rantala (2018). First, I will use real Estate GTos as a natural experiment, in order to answer my research question. Second, I dont want to find the multiplier for decrease on sales versus decrease on prices. My aim is to validate that prices changed before and after treatment, so the experiment would correctly disentagle endogenous variables. Third, I focus on the GTO 4th wave (wire transfers were introduced) and 6th wave (thresholds lowered to US$300,000 and introduction of cryptocurrencies). The initial versions of Real Estate GTOs had large thresholds, as they targeted high-end real-estate and the potential impact on demand was limited, as purchases with wire transfers were exempt from the regulation. Finally I, use synthetic controls to validate changes in prices, not an hedonic approach, and get the individual county results, not the average treatment effects, to conduct the analysis of its effects on rental prices.\n",
    "\n",
    "Caveats: potential lags on the time it takes for the price to change, and then for the rental prices to change.\n",
    "\n",
    "I put asside the reasons one could give up investing on real estate due to loss of secrecy, turning Real Estate GTO a unique natural experiment of demand shock on residential real estate,  totally independent of economic activity. "
   ]
  },
  {
   "cell_type": "markdown",
   "metadata": {},
   "source": [
    "------\n",
    "### Motivation and research question\n",
    "Higher income and increase in net population, including migration, are variables that pressure both house prices and rentals upwards. Lower interest rates, also have potential to increase house prices, either by lowering the discount rate, as well leading some households to become priced-in (affording monthly mortgage repayments), thus boosting demand. On the other hand, lower interest rates can justify lower rental yields, if build to let or buy to let command yields much above other investment alternatives. But what would happen to price-to-rental ratio if we were only to shock  house prices, without any changes on the aforementioned variables? How long does it take to change? Does it revert to previous levels?\n",
    "\n",
    "I investigate the dynamics of rental yields response after a exogenous price shock, to understand if decreases in house prices can traslante into lower rental prices.\n",
    "\n",
    "### Methodology\n",
    "I use Zillow prices and rentals time series on county level, and explore changes in Real Estate GTO rules as a natural experiment to isolate changes on house prices from other confounders ()\n",
    "\n",
    "### Importance\n",
    "Housing is the main expediture of most of the families. Housing burden can be one important driver for increase in inequality, as more and more families have to use a large amount of their income to housing.\n",
    "\n",
    "### Contribution\n",
    "I focus on the connexion of house price changes on rentals, a specific aspect on this dynamics: \n",
    "Previous literature....Dynamics of rental prices - todd sinai\n",
    "\n",
    "Use of Real Estate GTO as a natural experiment.\n",
    "\n",
    "------"
   ]
  },
  {
   "cell_type": "markdown",
   "metadata": {},
   "source": [
    "### keep for reference (not for paper)\n",
    "\n",
    "### Criticism on Hundtofte and Rantala\n",
    "There is a working paper that studies GTO effects on high-end residential real estate market by Hundtofte and Rantala, last updated on May/2018.  On this paper, they document the reduction of cash purchases with, apparently, no difference on total transactions values (substitution of payment mode). I summarize bellow what they have done and some initial changes/additions that I propose:\n",
    "\n",
    "**time coverage**: only 2 first GTOs (2016) - during this period GTOs were geared towards  high-end market (high thresholds). I think the most important period of the real estate GTOs are 2017 and 2018, when wire transfers were introduced and thresholds were lowered to US$300,000, affecting a broader base of properties and hence more prone to configure a demand shock (to be tested on data). I would model all periods, but I believe these 2 waves will  present most interesting results.\n",
    "\n",
    "**price impact**: they construct an hedonic model based on prices before treatment and compare the forecasted price versus actual transaction prices after treatment. I personally dislike this approach and prefer diff-diff with an appropriate control of covariates (not done on their paper).\n",
    "\n",
    "**diff-diff**: they do not present the summary statistics for the treated and control groups, most probably because they are completely not comparable. I think the results can only be rebust if we also take into account the geographic distribution (please see maps bellow).\n",
    "\n",
    "My idea is not to focus on money laundering on real estate and effects of secrecy lifts as in Hundtofte and Rantala. I believe that, despite the reasons that could have taken agents to give up purchasing real estate once GTOs were in place, the potential effects of lower demand on mid range segments, if confirmed, would lead to a unique natural experiment, and hence it is worth of further investigation. In sum, I would explore many aspects of the enactment of the different waves of GTOs, either with discontinuity or diff-diff:\n",
    "\n",
    "- how long it takes for the market to recover, if so\n",
    "- how it affects new homes starts\n",
    "- are there kinks around US$300,000?\n",
    "\n",
    "If we configure that GTO on 2017/18 was effectively a shock, we could apply further these results on theoretical models, for instance, to check reduction on consumption due to lower value of collateral or to compare a pure demand shock with other kinds of shocks (ex: incoem shock)."
   ]
  },
  {
   "cell_type": "markdown",
   "metadata": {},
   "source": [
    "## Code organization\n",
    "I made a series of separate files, one for each task. I summarize bellow what each code does:\n",
    "\n",
    "- Zillow000: introduction, motivation, homeownership and affordability + GTO experiment (read me).\n",
    "- Zillow00: initialization file. Run on begining of other files to both load Zillow data and custom functions.\n",
    "- Zillow0: download data from web, atributes reasonable names and saves to local disk\n",
    "- Zillow0_GCP1: downloads CENSUS data from Google Cloud Platform.\n",
    "- Zillow0_GCP2: organizes and saves CENSUS data to use on other files.\n",
    "- Zillow1: loads Zillow data saved on disk in bulk, attributing sensible variable names to them\n",
    "- Zillow2: maps and time series of Zillow rentals - state level\n",
    "- Zillow3: maps and time series of Zillow prices - state level\n",
    "- Zillow4: maps and time series of Zillow prices-to-rentals - state level and by US region\n",
    "- Zillow5: maps and time series of Zillow prices - county level, top,mid,low tier distributions\n",
    "- Zillow6: organizes data long form and saves it on local disk, adding FIPS necessary\n",
    "- Zillow7: plot maps and time series - county level. Trade-off time span x counties with complete information.\n",
    "- Zillow8: build tables with dummies for regression\n",
    "- Zillow9: plot thresholds x median prices & TS per treated county with initial treatment.\n",
    "- GTO_waves: documents the processing of raw attributes of each GTO wave into clean data. When run on another code, it loads FIPS of treated counties.\n",
    "\n",
    "The codes above uses functions that perform repetitive tasks, also saved on separate files on a nested folder `.\\functions`. Data is stored on folder `.\\input` when raw and `.\\output` when cleaned or processed. Finally, images generated by my code are stored on folder `.\\images`.\n",
    "\n",
    "In Zillow 2, 3, 4 and 5 I have explored prices and rents relationship on state/census regions levels. I wont use them for GTO experiment."
   ]
  },
  {
   "cell_type": "code",
   "execution_count": null,
   "metadata": {},
   "outputs": [],
   "source": []
  }
 ],
 "metadata": {
  "kernelspec": {
   "display_name": "Python 3",
   "language": "python",
   "name": "python3"
  },
  "language_info": {
   "codemirror_mode": {
    "name": "ipython",
    "version": 3
   },
   "file_extension": ".py",
   "mimetype": "text/x-python",
   "name": "python",
   "nbconvert_exporter": "python",
   "pygments_lexer": "ipython3",
   "version": "3.8.2"
  }
 },
 "nbformat": 4,
 "nbformat_minor": 4
}
