{
 "cells": [
  {
   "cell_type": "code",
   "execution_count": 1,
   "metadata": {},
   "outputs": [],
   "source": [
    "# Zillow Inital file\n",
    "# This is a set up file (to be run on other codes) that loads Zillow data, \n",
    "# import packages and some customized functions,\n",
    "# so my code becomes less clutered."
   ]
  },
  {
   "cell_type": "code",
   "execution_count": 2,
   "metadata": {},
   "outputs": [],
   "source": [
    "import pandas as pd\n",
    "import os\n",
    "import string\n",
    "import plotly\n",
    "import plotly.express as px\n",
    "import json\n",
    "import numpy as np\n",
    "import datetime as dt\n",
    "import plotly.figure_factory as ff"
   ]
  },
  {
   "cell_type": "code",
   "execution_count": 3,
   "metadata": {},
   "outputs": [
    {
     "name": "stdout",
     "output_type": "stream",
     "text": [
      "Function save_plotly(figure, filename)\n",
      "\n"
     ]
    }
   ],
   "source": [
    "# add save image function\n",
    "%run functions/save_image_plotly.ipynb"
   ]
  },
  {
   "cell_type": "code",
   "execution_count": 4,
   "metadata": {
    "scrolled": true
   },
   "outputs": [
    {
     "name": "stdout",
     "output_type": "stream",
     "text": [
      "Function clean_TS(dataframe, value_name)\n",
      "Chose a value_name of your preference: 'index', 'price', 'Zri'...\n",
      "\n"
     ]
    }
   ],
   "source": [
    "# add time series clean function\n",
    "%run functions/clean_TS.ipynb"
   ]
  },
  {
   "cell_type": "code",
   "execution_count": 5,
   "metadata": {},
   "outputs": [
    {
     "name": "stdout",
     "output_type": "stream",
     "text": [
      "Function load_zillow(geography ,tenure=all)\n",
      "geography=('state'/'county'), tenure=('rentals'/'prices'/'all')\n",
      "\n"
     ]
    }
   ],
   "source": [
    "# load data\n",
    "%run Zillow1_loaddata.ipynb"
   ]
  },
  {
   "cell_type": "code",
   "execution_count": 6,
   "metadata": {},
   "outputs": [
    {
     "name": "stdout",
     "output_type": "stream",
     "text": [
      "Function add_FIPS(df)\n",
      "\n"
     ]
    }
   ],
   "source": [
    "# add 5 digit FIPS\n",
    "%run functions/add_FIPS.ipynb"
   ]
  },
  {
   "cell_type": "code",
   "execution_count": 7,
   "metadata": {},
   "outputs": [
    {
     "name": "stdout",
     "output_type": "stream",
     "text": [
      "Function add_logprices(df)\n",
      "Log prices are created from last column.\n",
      "\n"
     ]
    }
   ],
   "source": [
    "# insert log prices, computed from last column\n",
    "%run functions/add_logprices.ipynb"
   ]
  }
 ],
 "metadata": {
  "kernelspec": {
   "display_name": "Python 3",
   "language": "python",
   "name": "python3"
  },
  "language_info": {
   "codemirror_mode": {
    "name": "ipython",
    "version": 3
   },
   "file_extension": ".py",
   "mimetype": "text/x-python",
   "name": "python",
   "nbconvert_exporter": "python",
   "pygments_lexer": "ipython3",
   "version": "3.8.2"
  }
 },
 "nbformat": 4,
 "nbformat_minor": 4
}
