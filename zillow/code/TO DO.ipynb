{
 "cells": [
  {
   "cell_type": "markdown",
   "metadata": {},
   "source": [
    "\n",
    "# TO DO\n",
    "\n",
    "- housing papers (Piccard)\n",
    "- RE-READ AQUELA BOSTA DE PAPER\n",
    "     - ELENCAR O Q ELE FEZ E O Q ELE NAO FEZ E O Q DA PARA FAZER...\n",
    "     - ver a formula dele ...\n",
    "     - APLICAR A Q?\n",
    "- ler documents synth para escolher covariates\n",
    "- pegar covariates (CENSUS...SERA? POP / INCOME AND NUMBER OF MULTIFAMILY, POP / INCOME AND NUMBER OF MULTIFAMILY)\n",
    "\n",
    "- density, population, income, prices....\n",
    "\n",
    "\n",
    "- zillow - you can do it - YOU CAN DO IT, YOU CAN DO IT....\n",
    "____________________\n",
    "\n",
    "Qual a pergunta q eu quero responder com este experimento?\n",
    "\n",
    "Provavelmente \n",
    "\n",
    "Eu ja vi varios papers q sao resposta a erros metodologia...um monte, tudo bem, nao é working paper, mas sim algo publicado\n",
    "\n",
    "- decrease in collateral free...kyotaki"
   ]
  },
  {
   "cell_type": "markdown",
   "metadata": {},
   "source": [
    "______\n",
    "# Regression\n",
    "\n",
    "Explorar o pacote synth - a unica coisa q ele faz, é aplicar weights, eu acho....\n",
    "\n"
   ]
  },
  {
   "cell_type": "code",
   "execution_count": null,
   "metadata": {},
   "outputs": [],
   "source": []
  },
  {
   "cell_type": "code",
   "execution_count": null,
   "metadata": {},
   "outputs": [],
   "source": [
    "dependent = df.logprice\n",
    "exog = sm.add_constant(df[['d_1',\"d_2\",\"d_3\",\"d_4\",\"d_6\"]])\n",
    "mod = PanelOLS(dependent, exog, time_effects=True, entity_effects=True, drop_absorbed =True)\n",
    "res_time_entity = mod.fit(cov_type='unadjusted')"
   ]
  },
  {
   "cell_type": "code",
   "execution_count": null,
   "metadata": {},
   "outputs": [],
   "source": [
    "dependent = df.logprice\n",
    "exog = sm.add_constant(df[['d_1',\"d_2\",\"d_3\",\"d_4\",'d_6']])\n",
    "mod = PanelOLS(dependent, exog, time_effects=True)\n",
    "res_time = mod.fit(cov_type='unadjusted')"
   ]
  },
  {
   "cell_type": "code",
   "execution_count": null,
   "metadata": {},
   "outputs": [],
   "source": []
  },
  {
   "cell_type": "code",
   "execution_count": null,
   "metadata": {
    "scrolled": true
   },
   "outputs": [],
   "source": [
    "#Compare results\n",
    "\n",
    "print(compare({'Time FE':res_time,'Time/county FE':res_time_entity}))"
   ]
  },
  {
   "cell_type": "code",
   "execution_count": null,
   "metadata": {},
   "outputs": [],
   "source": []
  },
  {
   "cell_type": "markdown",
   "metadata": {},
   "source": [
    "## To discuss \n"
   ]
  },
  {
   "cell_type": "markdown",
   "metadata": {},
   "source": [
    "## next steps \n",
    "- run for all tiers\n",
    "- run for demand - very hard...."
   ]
  },
  {
   "cell_type": "markdown",
   "metadata": {},
   "source": [
    "* DISCONTINUITY REGRESSION with fixed effects\n",
    "* Threshold at the moment of GTO for each county (mid-up range) \n",
    "\n",
    "* Demand\n",
    "* what covariates to add? - population, density, income for beginning of period? \n",
    "\n"
   ]
  },
  {
   "cell_type": "code",
   "execution_count": null,
   "metadata": {},
   "outputs": [],
   "source": []
  }
 ],
 "metadata": {
  "kernelspec": {
   "display_name": "Python 3",
   "language": "python",
   "name": "python3"
  },
  "language_info": {
   "codemirror_mode": {
    "name": "ipython",
    "version": 3
   },
   "file_extension": ".py",
   "mimetype": "text/x-python",
   "name": "python",
   "nbconvert_exporter": "python",
   "pygments_lexer": "ipython3",
   "version": "3.8.2"
  }
 },
 "nbformat": 4,
 "nbformat_minor": 4
}
