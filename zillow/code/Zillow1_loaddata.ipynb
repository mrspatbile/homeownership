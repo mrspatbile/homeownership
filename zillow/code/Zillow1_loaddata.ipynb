{
 "cells": [
  {
   "cell_type": "markdown",
   "metadata": {},
   "source": [
    "# Zillow1 - Load Data\n",
    "\n",
    "This code loads raw data saved on disk* and sets simple names for each dataset. User inputs `geography` and `tenure`, to load only necessary datasets.\n",
    "\n",
    "*data was saved on disk for reproducibility, as Zillow updates data and changes methodology. Script for data download: `Zillow0_donwload.ipynb`."
   ]
  },
  {
   "cell_type": "code",
   "execution_count": 1,
   "metadata": {},
   "outputs": [],
   "source": [
    "import pandas as pd\n",
    "import os"
   ]
  },
  {
   "cell_type": "code",
   "execution_count": null,
   "metadata": {},
   "outputs": [],
   "source": [
    "# print message when loaded on other script\n",
    "print(\"Function load_zillow(geography ,tenure=all)\")\n",
    "print(\"geography=('state'/'county'), tenure=('rentals'/'prices'/'all')\")\n",
    "print()"
   ]
  },
  {
   "cell_type": "code",
   "execution_count": 2,
   "metadata": {},
   "outputs": [],
   "source": [
    "# raw data is in this folder on subdirectories\n",
    "input_folder = '../input'"
   ]
  },
  {
   "cell_type": "markdown",
   "metadata": {},
   "source": [
    "#### Create list of names to load data"
   ]
  },
  {
   "cell_type": "code",
   "execution_count": 3,
   "metadata": {
    "scrolled": true
   },
   "outputs": [
    {
     "data": {
      "text/plain": [
       "['../input/zri/State_Zri_AllHomesPlusMultifamily.csv',\n",
       " '../input/zri/State_Zri_MultiFamilyResidenceRental.csv',\n",
       " '../input/zri/County_Zri_AllHomesPlusMultifamily_Summary.csv',\n",
       " '../input/zri/County_Zri_MultiFamilyResidenceRental.csv',\n",
       " '../input/zri/State_Zri_AllHomesPlusMultifamily_Summary.csv',\n",
       " '../input/zri/County_Zri_AllHomesPlusMultifamily.csv',\n",
       " '../input/zhvi/County_Zhvi_SingleFamilyResidence.csv',\n",
       " '../input/zhvi/State_Zhvi_AllHomes.csv',\n",
       " '../input/zhvi/County_Zhvi_AllHomes.csv',\n",
       " '../input/zhvi/State_Zhvi_SingleFamilyResidence.csv',\n",
       " '../input/zhvi/State_Zhvi_BottomTier.csv',\n",
       " '../input/zhvi/State_Zhvi_TopTier.csv',\n",
       " '../input/zhvi/County_Zhvi_BottomTier.csv',\n",
       " '../input/zhvi/County_Zhvi_TopTier.csv']"
      ]
     },
     "execution_count": 3,
     "metadata": {},
     "output_type": "execute_result"
    }
   ],
   "source": [
    "# path of raw files on my folder\n",
    "root_dir = os.getcwd()\n",
    "file_list = []\n",
    "\n",
    "for dir_, _, files in os.walk(input_folder):\n",
    "    for file_name in files:\n",
    "        rel_dir = os.path.relpath(dir_, root_dir)\n",
    "        rel_file = os.path.join(rel_dir, file_name)\n",
    "        file_list.append(rel_file)\n",
    "\n",
    "file_list.pop(0) # remove first item\n",
    "file_list"
   ]
  },
  {
   "cell_type": "markdown",
   "metadata": {},
   "source": [
    "I will create simpler names from the files in the subfolder"
   ]
  },
  {
   "cell_type": "code",
   "execution_count": 4,
   "metadata": {},
   "outputs": [
    {
     "data": {
      "text/plain": [
       "0              State_Zri_AllHomesPlusMultifamily\n",
       "1           State_Zri_MultiFamilyResidenceRental\n",
       "2     County_Zri_AllHomesPlusMultifamily_Summary\n",
       "3          County_Zri_MultiFamilyResidenceRental\n",
       "4      State_Zri_AllHomesPlusMultifamily_Summary\n",
       "5             County_Zri_AllHomesPlusMultifamily\n",
       "6              County_Zhvi_SingleFamilyResidence\n",
       "7                            State_Zhvi_AllHomes\n",
       "8                           County_Zhvi_AllHomes\n",
       "9               State_Zhvi_SingleFamilyResidence\n",
       "10                         State_Zhvi_BottomTier\n",
       "11                            State_Zhvi_TopTier\n",
       "12                        County_Zhvi_BottomTier\n",
       "13                           County_Zhvi_TopTier\n",
       "dtype: object"
      ]
     },
     "execution_count": 4,
     "metadata": {},
     "output_type": "execute_result"
    }
   ],
   "source": [
    "# name generator\n",
    "file_names = pd.Series([s.split('/')[-1][:-4] for s in file_list]) # extract only file name\n",
    "file_names # check file names "
   ]
  },
  {
   "cell_type": "code",
   "execution_count": 5,
   "metadata": {},
   "outputs": [
    {
     "data": {
      "text/plain": [
       "0    S_Zri_All\n",
       "1    S_Zri_MFR\n",
       "2    C_Zri_Als\n",
       "3    C_Zri_MFR\n",
       "4    S_Zri_Als\n",
       "dtype: object"
      ]
     },
     "execution_count": 5,
     "metadata": {},
     "output_type": "execute_result"
    }
   ],
   "source": [
    "# substitution long expressions to simplify file names\n",
    "dic_sub = {'MultiFamilyResidenceRental': 'MFR',\n",
    "           'SingleFamilyResidence': 'SFR',\n",
    "           'AllHomesPlusMultifamily': 'All',\n",
    "           'Tier':'',\n",
    "           'Homes':'', \n",
    "           'County':'C',\n",
    "           'State':'S',\n",
    "           'l_Summary':'s',\n",
    "           'Bottom':'Bot'}\n",
    "\n",
    "var_names = file_names\n",
    "\n",
    "# make substitutions\n",
    "for key, value in dic_sub.items():\n",
    "    var_names = var_names.str.replace(key, value)\n",
    "    \n",
    "# check result\n",
    "var_names [:5]"
   ]
  },
  {
   "cell_type": "code",
   "execution_count": 6,
   "metadata": {
    "scrolled": true
   },
   "outputs": [
    {
     "data": {
      "text/html": [
       "<div>\n",
       "<style scoped>\n",
       "    .dataframe tbody tr th:only-of-type {\n",
       "        vertical-align: middle;\n",
       "    }\n",
       "\n",
       "    .dataframe tbody tr th {\n",
       "        vertical-align: top;\n",
       "    }\n",
       "\n",
       "    .dataframe thead th {\n",
       "        text-align: right;\n",
       "    }\n",
       "</style>\n",
       "<table border=\"1\" class=\"dataframe\">\n",
       "  <thead>\n",
       "    <tr style=\"text-align: right;\">\n",
       "      <th></th>\n",
       "      <th>file</th>\n",
       "      <th>path</th>\n",
       "    </tr>\n",
       "  </thead>\n",
       "  <tbody>\n",
       "    <tr>\n",
       "      <th>0</th>\n",
       "      <td>S_Zri_All</td>\n",
       "      <td>../input/zri/State_Zri_AllHomesPlusMultifamily...</td>\n",
       "    </tr>\n",
       "    <tr>\n",
       "      <th>1</th>\n",
       "      <td>S_Zri_MFR</td>\n",
       "      <td>../input/zri/State_Zri_MultiFamilyResidenceRen...</td>\n",
       "    </tr>\n",
       "    <tr>\n",
       "      <th>2</th>\n",
       "      <td>C_Zri_Als</td>\n",
       "      <td>../input/zri/County_Zri_AllHomesPlusMultifamil...</td>\n",
       "    </tr>\n",
       "    <tr>\n",
       "      <th>3</th>\n",
       "      <td>C_Zri_MFR</td>\n",
       "      <td>../input/zri/County_Zri_MultiFamilyResidenceRe...</td>\n",
       "    </tr>\n",
       "    <tr>\n",
       "      <th>4</th>\n",
       "      <td>S_Zri_Als</td>\n",
       "      <td>../input/zri/State_Zri_AllHomesPlusMultifamily...</td>\n",
       "    </tr>\n",
       "    <tr>\n",
       "      <th>5</th>\n",
       "      <td>C_Zri_All</td>\n",
       "      <td>../input/zri/County_Zri_AllHomesPlusMultifamil...</td>\n",
       "    </tr>\n",
       "    <tr>\n",
       "      <th>6</th>\n",
       "      <td>C_Zhvi_SFR</td>\n",
       "      <td>../input/zhvi/County_Zhvi_SingleFamilyResidenc...</td>\n",
       "    </tr>\n",
       "    <tr>\n",
       "      <th>7</th>\n",
       "      <td>S_Zhvi_All</td>\n",
       "      <td>../input/zhvi/State_Zhvi_AllHomes.csv</td>\n",
       "    </tr>\n",
       "    <tr>\n",
       "      <th>8</th>\n",
       "      <td>C_Zhvi_All</td>\n",
       "      <td>../input/zhvi/County_Zhvi_AllHomes.csv</td>\n",
       "    </tr>\n",
       "    <tr>\n",
       "      <th>9</th>\n",
       "      <td>S_Zhvi_SFR</td>\n",
       "      <td>../input/zhvi/State_Zhvi_SingleFamilyResidence...</td>\n",
       "    </tr>\n",
       "    <tr>\n",
       "      <th>10</th>\n",
       "      <td>S_Zhvi_Bot</td>\n",
       "      <td>../input/zhvi/State_Zhvi_BottomTier.csv</td>\n",
       "    </tr>\n",
       "    <tr>\n",
       "      <th>11</th>\n",
       "      <td>S_Zhvi_Top</td>\n",
       "      <td>../input/zhvi/State_Zhvi_TopTier.csv</td>\n",
       "    </tr>\n",
       "    <tr>\n",
       "      <th>12</th>\n",
       "      <td>C_Zhvi_Bot</td>\n",
       "      <td>../input/zhvi/County_Zhvi_BottomTier.csv</td>\n",
       "    </tr>\n",
       "    <tr>\n",
       "      <th>13</th>\n",
       "      <td>C_Zhvi_Top</td>\n",
       "      <td>../input/zhvi/County_Zhvi_TopTier.csv</td>\n",
       "    </tr>\n",
       "  </tbody>\n",
       "</table>\n",
       "</div>"
      ],
      "text/plain": [
       "          file                                               path\n",
       "0    S_Zri_All  ../input/zri/State_Zri_AllHomesPlusMultifamily...\n",
       "1    S_Zri_MFR  ../input/zri/State_Zri_MultiFamilyResidenceRen...\n",
       "2    C_Zri_Als  ../input/zri/County_Zri_AllHomesPlusMultifamil...\n",
       "3    C_Zri_MFR  ../input/zri/County_Zri_MultiFamilyResidenceRe...\n",
       "4    S_Zri_Als  ../input/zri/State_Zri_AllHomesPlusMultifamily...\n",
       "5    C_Zri_All  ../input/zri/County_Zri_AllHomesPlusMultifamil...\n",
       "6   C_Zhvi_SFR  ../input/zhvi/County_Zhvi_SingleFamilyResidenc...\n",
       "7   S_Zhvi_All              ../input/zhvi/State_Zhvi_AllHomes.csv\n",
       "8   C_Zhvi_All             ../input/zhvi/County_Zhvi_AllHomes.csv\n",
       "9   S_Zhvi_SFR  ../input/zhvi/State_Zhvi_SingleFamilyResidence...\n",
       "10  S_Zhvi_Bot            ../input/zhvi/State_Zhvi_BottomTier.csv\n",
       "11  S_Zhvi_Top               ../input/zhvi/State_Zhvi_TopTier.csv\n",
       "12  C_Zhvi_Bot           ../input/zhvi/County_Zhvi_BottomTier.csv\n",
       "13  C_Zhvi_Top              ../input/zhvi/County_Zhvi_TopTier.csv"
      ]
     },
     "execution_count": 6,
     "metadata": {},
     "output_type": "execute_result"
    }
   ],
   "source": [
    "# verify correspondence name-path visually\n",
    "(pd.DataFrame([var_names, pd.Series(file_list)]).T).set_axis(['file', 'path'],1)"
   ]
  },
  {
   "cell_type": "markdown",
   "metadata": {},
   "source": [
    "#### Load only selected data\n",
    "By runing the function `load_zillow`, user can choose especific groups of datasets."
   ]
  },
  {
   "cell_type": "code",
   "execution_count": 1,
   "metadata": {},
   "outputs": [],
   "source": [
    "# converts function arguments to substrings contained on file_names and variables\n",
    "dic = {'county':'C_',\n",
    "      'state':'S_',\n",
    "      'prices':'Zhvi',\n",
    "      'rentals':'Zri',\n",
    "      'all':'Zhvi|Zri'}"
   ]
  },
  {
   "cell_type": "code",
   "execution_count": 2,
   "metadata": {},
   "outputs": [],
   "source": [
    "def load_zillow(geography ,tenure=all):\n",
    "    \n",
    "    # position that contains geography and tenure chosen\n",
    "    pos = var_names.str.contains(dic[tenure] ) & var_names.str.contains(dic[geography])\n",
    "    \n",
    "    # iterate over list of var names and paths to load data\n",
    "    for var, path in zip(var_names[pos].tolist(), pd.Series(file_list)[pos]):\n",
    "        # note in globals()[var] I get string as praceholder of var (var name)\n",
    "        globals()[var] = pd.read_csv(path, encoding='ISO-8859-1') # use globals so you can keep variable \"name\" \n",
    "        print(var, path)\n",
    "    "
   ]
  }
 ],
 "metadata": {
  "kernelspec": {
   "display_name": "Python 3",
   "language": "python",
   "name": "python3"
  },
  "language_info": {
   "codemirror_mode": {
    "name": "ipython",
    "version": 3
   },
   "file_extension": ".py",
   "mimetype": "text/x-python",
   "name": "python",
   "nbconvert_exporter": "python",
   "pygments_lexer": "ipython3",
   "version": "3.8.2"
  }
 },
 "nbformat": 4,
 "nbformat_minor": 4
}
