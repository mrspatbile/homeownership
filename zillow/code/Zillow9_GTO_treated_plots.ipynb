{
 "cells": [
  {
   "cell_type": "markdown",
   "metadata": {},
   "source": [
    "# Zillow9 - GTO \n",
    "\n",
    "## Plots for treated regions \n",
    "________"
   ]
  },
  {
   "cell_type": "markdown",
   "metadata": {},
   "source": [
    "## Threshold x median prices\n",
    "\n",
    "Counties thresholds were not uniform before Aug, 2018 and their values relative to median prices varied considerably. We investigate house prices around treatment on the following change in policy:\n",
    "- inclusion of wire transfers \n",
    "- change of threshold to US$ 300,000.\n",
    "\n",
    "The plot bellow illustrates how close/far the threshold was from median prices or median top tier prices for 4th wave (introduced wire transfers) and 6th wave (300.000 threshold)."
   ]
  },
  {
   "cell_type": "code",
   "execution_count": 32,
   "metadata": {
    "scrolled": true
   },
   "outputs": [
    {
     "name": "stdout",
     "output_type": "stream",
     "text": [
      "Function save_plotly(figure, filename)\n",
      "\n"
     ]
    }
   ],
   "source": [
    "import pandas as pd\n",
    "import numpy as np\n",
    "import plotly.express as px\n",
    "import plotly.graph_objects as go\n",
    "import json\n",
    "#from linearmodels.panel import PanelOLS\n",
    "#import statsmodels.api as sm\n",
    "#from linearmodels.panel import compare\n",
    "import warnings\n",
    "warnings.filterwarnings('ignore')\n",
    "\n",
    "# get color settings\n",
    "%run functions/nice_plot_pandas_getdata.ipynb\n",
    "\n",
    "# add save image function\n",
    "%run functions/save_image_plotly.ipynb\n",
    "\n",
    "pd.options.display.float_format = '{:.2f}'.format"
   ]
  },
  {
   "cell_type": "markdown",
   "metadata": {},
   "source": [
    "### Load GTO data for time series\n",
    "Only 4th ans 6th waves -  all coounties"
   ]
  },
  {
   "cell_type": "code",
   "execution_count": 33,
   "metadata": {
    "scrolled": true
   },
   "outputs": [
    {
     "data": {
      "text/html": [
       "<div>\n",
       "<style scoped>\n",
       "    .dataframe tbody tr th:only-of-type {\n",
       "        vertical-align: middle;\n",
       "    }\n",
       "\n",
       "    .dataframe tbody tr th {\n",
       "        vertical-align: top;\n",
       "    }\n",
       "\n",
       "    .dataframe thead th {\n",
       "        text-align: right;\n",
       "    }\n",
       "</style>\n",
       "<table border=\"1\" class=\"dataframe\">\n",
       "  <thead>\n",
       "    <tr style=\"text-align: right;\">\n",
       "      <th></th>\n",
       "      <th>FIPS</th>\n",
       "      <th>wave</th>\n",
       "      <th>threshold</th>\n",
       "      <th>Date</th>\n",
       "    </tr>\n",
       "  </thead>\n",
       "  <tbody>\n",
       "    <tr>\n",
       "      <th>66</th>\n",
       "      <td>36061</td>\n",
       "      <td>wave_4</td>\n",
       "      <td>3000000</td>\n",
       "      <td>2017-08</td>\n",
       "    </tr>\n",
       "    <tr>\n",
       "      <th>67</th>\n",
       "      <td>12086</td>\n",
       "      <td>wave_4</td>\n",
       "      <td>1000000</td>\n",
       "      <td>2017-08</td>\n",
       "    </tr>\n",
       "    <tr>\n",
       "      <th>68</th>\n",
       "      <td>48029</td>\n",
       "      <td>wave_4</td>\n",
       "      <td>500000</td>\n",
       "      <td>2017-08</td>\n",
       "    </tr>\n",
       "  </tbody>\n",
       "</table>\n",
       "</div>"
      ],
      "text/plain": [
       "     FIPS    wave  threshold     Date\n",
       "66  36061  wave_4    3000000  2017-08\n",
       "67  12086  wave_4    1000000  2017-08\n",
       "68  48029  wave_4     500000  2017-08"
      ]
     },
     "execution_count": 33,
     "metadata": {},
     "output_type": "execute_result"
    }
   ],
   "source": [
    "# load GTO info and set column \"date\" YYYY-MM (will use as merge key)\n",
    "GTO = pd.read_csv('.\\output\\GTO_table_long.csv',\n",
    "                  dtype = {'FIPS': object,  'threshold':'Int64'},\n",
    "                  usecols = ['FIPS', 'date enforcement', 'wave', 'threshold'])\n",
    "\n",
    "GTO = GTO[GTO.wave.isin(['wave_4','wave_6']) & GTO.threshold.notna()]\n",
    "GTO['Date'] = GTO.loc[:,'date enforcement'].str.slice(stop=7)# YYYY-MM date \n",
    "GTO.drop('date enforcement',1).head(3)"
   ]
  },
  {
   "cell_type": "markdown",
   "metadata": {},
   "source": [
    "### Load GTO Data for map\n",
    "Only first time treated - will be added to map at each wave"
   ]
  },
  {
   "cell_type": "code",
   "execution_count": 34,
   "metadata": {},
   "outputs": [],
   "source": [
    "GTO_all = pd.read_csv('.\\output\\GTO_table_long.csv',\n",
    "                  dtype = {'FIPS': object,  'threshold':'Int64'},\n",
    "                  usecols = ['FIPS', 'wave','threshold'])\n",
    "\n",
    "# take only dates were counties were treated\n",
    "GTO_all = GTO_all[GTO_all.threshold.notna()].reset_index().drop('threshold',1)"
   ]
  },
  {
   "cell_type": "code",
   "execution_count": 35,
   "metadata": {},
   "outputs": [],
   "source": [
    "# take only first occurrence\n",
    "GTO_all = GTO_all.groupby('FIPS').first().reset_index().sort_values('index')"
   ]
  },
  {
   "cell_type": "markdown",
   "metadata": {},
   "source": [
    "### Load lat/lon positions"
   ]
  },
  {
   "cell_type": "code",
   "execution_count": 36,
   "metadata": {
    "scrolled": true
   },
   "outputs": [],
   "source": [
    "# load lat/lon positions\n",
    "latlon = pd.read_csv('../input2/UScounty_boundaries.csv', dtype = {'geo_id': object},\n",
    "                    usecols = ['geo_id', 'int_point_lat', 'int_point_lon'])\n",
    "latlon.columns = ['FIPS', 'lat', 'lon']"
   ]
  },
  {
   "cell_type": "markdown",
   "metadata": {},
   "source": [
    "### Load prices data (Zillow)"
   ]
  },
  {
   "cell_type": "code",
   "execution_count": 146,
   "metadata": {},
   "outputs": [],
   "source": [
    "# load price data and format Date as YYYY-MM\n",
    "def load_Zillow_YYYYMM_noCounty():\n",
    "\n",
    "    df = (pd.read_csv('../output/tbl_reg.csv',\n",
    "                      dtype={'FIPS': object,'price_mid':'Int64',  'price_TOP':'Int64'},\n",
    "                      usecols=['FIPS', 'Date', 'RegionName', 'State',\n",
    "                               'price_mid', 'price_TOP',\n",
    "                               'logprice_mid', 'logprice_TOP',\n",
    "                               'price_pct_mid', 'price_pct_TOP',\n",
    "                               ]))\n",
    "\n",
    "    df.Date = df.Date.str.slice(stop=7) # YYYY-MM date \n",
    "    df.RegionName = df.RegionName.str.slice(stop=-7) # drop word \"County\"\n",
    "    return df\n",
    "c"
   ]
  },
  {
   "cell_type": "markdown",
   "metadata": {},
   "source": [
    "### merge GTO + lat/lon positions  + names"
   ]
  },
  {
   "cell_type": "code",
   "execution_count": 38,
   "metadata": {
    "scrolled": true
   },
   "outputs": [
    {
     "data": {
      "text/html": [
       "<div>\n",
       "<style scoped>\n",
       "    .dataframe tbody tr th:only-of-type {\n",
       "        vertical-align: middle;\n",
       "    }\n",
       "\n",
       "    .dataframe tbody tr th {\n",
       "        vertical-align: top;\n",
       "    }\n",
       "\n",
       "    .dataframe thead th {\n",
       "        text-align: right;\n",
       "    }\n",
       "</style>\n",
       "<table border=\"1\" class=\"dataframe\">\n",
       "  <thead>\n",
       "    <tr style=\"text-align: right;\">\n",
       "      <th></th>\n",
       "      <th>FIPS</th>\n",
       "      <th>index</th>\n",
       "      <th>wave</th>\n",
       "      <th>lat</th>\n",
       "      <th>lon</th>\n",
       "    </tr>\n",
       "  </thead>\n",
       "  <tbody>\n",
       "    <tr>\n",
       "      <th>0</th>\n",
       "      <td>36061</td>\n",
       "      <td>0</td>\n",
       "      <td>wave_1</td>\n",
       "      <td>40.78</td>\n",
       "      <td>-73.97</td>\n",
       "    </tr>\n",
       "    <tr>\n",
       "      <th>1</th>\n",
       "      <td>12086</td>\n",
       "      <td>1</td>\n",
       "      <td>wave_1</td>\n",
       "      <td>25.61</td>\n",
       "      <td>-80.50</td>\n",
       "    </tr>\n",
       "    <tr>\n",
       "      <th>2</th>\n",
       "      <td>48029</td>\n",
       "      <td>24</td>\n",
       "      <td>wave_2</td>\n",
       "      <td>29.45</td>\n",
       "      <td>-98.52</td>\n",
       "    </tr>\n",
       "    <tr>\n",
       "      <th>3</th>\n",
       "      <td>12011</td>\n",
       "      <td>25</td>\n",
       "      <td>wave_2</td>\n",
       "      <td>26.19</td>\n",
       "      <td>-80.48</td>\n",
       "    </tr>\n",
       "    <tr>\n",
       "      <th>4</th>\n",
       "      <td>12099</td>\n",
       "      <td>26</td>\n",
       "      <td>wave_2</td>\n",
       "      <td>26.65</td>\n",
       "      <td>-80.45</td>\n",
       "    </tr>\n",
       "    <tr>\n",
       "      <th>5</th>\n",
       "      <td>36005</td>\n",
       "      <td>27</td>\n",
       "      <td>wave_2</td>\n",
       "      <td>40.85</td>\n",
       "      <td>-73.85</td>\n",
       "    </tr>\n",
       "    <tr>\n",
       "      <th>6</th>\n",
       "      <td>36047</td>\n",
       "      <td>28</td>\n",
       "      <td>wave_2</td>\n",
       "      <td>40.64</td>\n",
       "      <td>-73.95</td>\n",
       "    </tr>\n",
       "    <tr>\n",
       "      <th>7</th>\n",
       "      <td>36081</td>\n",
       "      <td>29</td>\n",
       "      <td>wave_2</td>\n",
       "      <td>40.66</td>\n",
       "      <td>-73.84</td>\n",
       "    </tr>\n",
       "    <tr>\n",
       "      <th>8</th>\n",
       "      <td>36085</td>\n",
       "      <td>30</td>\n",
       "      <td>wave_2</td>\n",
       "      <td>40.56</td>\n",
       "      <td>-74.14</td>\n",
       "    </tr>\n",
       "    <tr>\n",
       "      <th>9</th>\n",
       "      <td>06073</td>\n",
       "      <td>31</td>\n",
       "      <td>wave_2</td>\n",
       "      <td>33.02</td>\n",
       "      <td>-116.78</td>\n",
       "    </tr>\n",
       "    <tr>\n",
       "      <th>10</th>\n",
       "      <td>06037</td>\n",
       "      <td>32</td>\n",
       "      <td>wave_2</td>\n",
       "      <td>34.20</td>\n",
       "      <td>-118.26</td>\n",
       "    </tr>\n",
       "    <tr>\n",
       "      <th>11</th>\n",
       "      <td>06075</td>\n",
       "      <td>33</td>\n",
       "      <td>wave_2</td>\n",
       "      <td>37.73</td>\n",
       "      <td>-123.03</td>\n",
       "    </tr>\n",
       "    <tr>\n",
       "      <th>12</th>\n",
       "      <td>06081</td>\n",
       "      <td>34</td>\n",
       "      <td>wave_2</td>\n",
       "      <td>37.41</td>\n",
       "      <td>-122.37</td>\n",
       "    </tr>\n",
       "    <tr>\n",
       "      <th>13</th>\n",
       "      <td>06085</td>\n",
       "      <td>35</td>\n",
       "      <td>wave_2</td>\n",
       "      <td>37.22</td>\n",
       "      <td>-121.69</td>\n",
       "    </tr>\n",
       "    <tr>\n",
       "      <th>14</th>\n",
       "      <td>15003</td>\n",
       "      <td>80</td>\n",
       "      <td>wave_4</td>\n",
       "      <td>21.58</td>\n",
       "      <td>-158.12</td>\n",
       "    </tr>\n",
       "  </tbody>\n",
       "</table>\n",
       "</div>"
      ],
      "text/plain": [
       "     FIPS  index    wave   lat     lon\n",
       "0   36061      0  wave_1 40.78  -73.97\n",
       "1   12086      1  wave_1 25.61  -80.50\n",
       "2   48029     24  wave_2 29.45  -98.52\n",
       "3   12011     25  wave_2 26.19  -80.48\n",
       "4   12099     26  wave_2 26.65  -80.45\n",
       "5   36005     27  wave_2 40.85  -73.85\n",
       "6   36047     28  wave_2 40.64  -73.95\n",
       "7   36081     29  wave_2 40.66  -73.84\n",
       "8   36085     30  wave_2 40.56  -74.14\n",
       "9   06073     31  wave_2 33.02 -116.78\n",
       "10  06037     32  wave_2 34.20 -118.26\n",
       "11  06075     33  wave_2 37.73 -123.03\n",
       "12  06081     34  wave_2 37.41 -122.37\n",
       "13  06085     35  wave_2 37.22 -121.69\n",
       "14  15003     80  wave_4 21.58 -158.12"
      ]
     },
     "execution_count": 38,
     "metadata": {},
     "output_type": "execute_result"
    }
   ],
   "source": [
    "# merge positions with GTO data\n",
    "GTO_waves = GTO_all.merge(latlon, how= 'left')\n",
    "GTO_waves.head(15)"
   ]
  },
  {
   "cell_type": "code",
   "execution_count": 39,
   "metadata": {
    "scrolled": true
   },
   "outputs": [
    {
     "data": {
      "text/html": [
       "<div>\n",
       "<style scoped>\n",
       "    .dataframe tbody tr th:only-of-type {\n",
       "        vertical-align: middle;\n",
       "    }\n",
       "\n",
       "    .dataframe tbody tr th {\n",
       "        vertical-align: top;\n",
       "    }\n",
       "\n",
       "    .dataframe thead th {\n",
       "        text-align: right;\n",
       "    }\n",
       "</style>\n",
       "<table border=\"1\" class=\"dataframe\">\n",
       "  <thead>\n",
       "    <tr style=\"text-align: right;\">\n",
       "      <th></th>\n",
       "      <th>FIPS</th>\n",
       "      <th>index</th>\n",
       "      <th>wave</th>\n",
       "      <th>lat</th>\n",
       "      <th>lon</th>\n",
       "      <th>RegionName</th>\n",
       "      <th>State</th>\n",
       "    </tr>\n",
       "  </thead>\n",
       "  <tbody>\n",
       "    <tr>\n",
       "      <th>0</th>\n",
       "      <td>36061</td>\n",
       "      <td>0</td>\n",
       "      <td>wave_1</td>\n",
       "      <td>40.78</td>\n",
       "      <td>-73.97</td>\n",
       "      <td>New York</td>\n",
       "      <td>NY</td>\n",
       "    </tr>\n",
       "    <tr>\n",
       "      <th>1</th>\n",
       "      <td>12086</td>\n",
       "      <td>1</td>\n",
       "      <td>wave_1</td>\n",
       "      <td>25.61</td>\n",
       "      <td>-80.50</td>\n",
       "      <td>Miami-Dade</td>\n",
       "      <td>FL</td>\n",
       "    </tr>\n",
       "    <tr>\n",
       "      <th>2</th>\n",
       "      <td>48029</td>\n",
       "      <td>24</td>\n",
       "      <td>wave_2</td>\n",
       "      <td>29.45</td>\n",
       "      <td>-98.52</td>\n",
       "      <td>Bexar</td>\n",
       "      <td>TX</td>\n",
       "    </tr>\n",
       "  </tbody>\n",
       "</table>\n",
       "</div>"
      ],
      "text/plain": [
       "    FIPS  index    wave   lat    lon  RegionName State\n",
       "0  36061      0  wave_1 40.78 -73.97    New York    NY\n",
       "1  12086      1  wave_1 25.61 -80.50  Miami-Dade    FL\n",
       "2  48029     24  wave_2 29.45 -98.52       Bexar    TX"
      ]
     },
     "execution_count": 39,
     "metadata": {},
     "output_type": "execute_result"
    }
   ],
   "source": [
    "# merge names for hover/annotations\n",
    "GTO_waves = GTO_waves.merge(df[df.Date== max(df.Date)][['FIPS', 'RegionName', 'State']], how= 'left')\n",
    "GTO_waves.head(3)"
   ]
  },
  {
   "cell_type": "code",
   "execution_count": 40,
   "metadata": {},
   "outputs": [],
   "source": [
    "GTO_waves['county'] = GTO_waves.RegionName + ', ' + GTO_waves.State"
   ]
  },
  {
   "cell_type": "code",
   "execution_count": 41,
   "metadata": {},
   "outputs": [],
   "source": [
    "df = GTO_waves.copy()"
   ]
  },
  {
   "cell_type": "code",
   "execution_count": 42,
   "metadata": {},
   "outputs": [
    {
     "data": {
      "text/html": [
       "<div>\n",
       "<style scoped>\n",
       "    .dataframe tbody tr th:only-of-type {\n",
       "        vertical-align: middle;\n",
       "    }\n",
       "\n",
       "    .dataframe tbody tr th {\n",
       "        vertical-align: top;\n",
       "    }\n",
       "\n",
       "    .dataframe thead th {\n",
       "        text-align: right;\n",
       "    }\n",
       "</style>\n",
       "<table border=\"1\" class=\"dataframe\">\n",
       "  <thead>\n",
       "    <tr style=\"text-align: right;\">\n",
       "      <th></th>\n",
       "      <th>FIPS</th>\n",
       "      <th>index</th>\n",
       "      <th>wave</th>\n",
       "      <th>lat</th>\n",
       "      <th>lon</th>\n",
       "      <th>RegionName</th>\n",
       "      <th>State</th>\n",
       "      <th>county</th>\n",
       "    </tr>\n",
       "  </thead>\n",
       "  <tbody>\n",
       "    <tr>\n",
       "      <th>0</th>\n",
       "      <td>36061</td>\n",
       "      <td>0</td>\n",
       "      <td>wave_1</td>\n",
       "      <td>40.78</td>\n",
       "      <td>-73.97</td>\n",
       "      <td>New York</td>\n",
       "      <td>NY</td>\n",
       "      <td>New York, NY</td>\n",
       "    </tr>\n",
       "    <tr>\n",
       "      <th>1</th>\n",
       "      <td>12086</td>\n",
       "      <td>1</td>\n",
       "      <td>wave_1</td>\n",
       "      <td>25.61</td>\n",
       "      <td>-80.50</td>\n",
       "      <td>Miami-Dade</td>\n",
       "      <td>FL</td>\n",
       "      <td>Miami-Dade, FL</td>\n",
       "    </tr>\n",
       "    <tr>\n",
       "      <th>2</th>\n",
       "      <td>48029</td>\n",
       "      <td>24</td>\n",
       "      <td>wave_2</td>\n",
       "      <td>29.45</td>\n",
       "      <td>-98.52</td>\n",
       "      <td>Bexar</td>\n",
       "      <td>TX</td>\n",
       "      <td>Bexar, TX</td>\n",
       "    </tr>\n",
       "    <tr>\n",
       "      <th>3</th>\n",
       "      <td>12011</td>\n",
       "      <td>25</td>\n",
       "      <td>wave_2</td>\n",
       "      <td>26.19</td>\n",
       "      <td>-80.48</td>\n",
       "      <td>Broward</td>\n",
       "      <td>FL</td>\n",
       "      <td>Broward, FL</td>\n",
       "    </tr>\n",
       "  </tbody>\n",
       "</table>\n",
       "</div>"
      ],
      "text/plain": [
       "    FIPS  index    wave   lat    lon  RegionName State          county\n",
       "0  36061      0  wave_1 40.78 -73.97    New York    NY    New York, NY\n",
       "1  12086      1  wave_1 25.61 -80.50  Miami-Dade    FL  Miami-Dade, FL\n",
       "2  48029     24  wave_2 29.45 -98.52       Bexar    TX       Bexar, TX\n",
       "3  12011     25  wave_2 26.19 -80.48     Broward    FL     Broward, FL"
      ]
     },
     "execution_count": 42,
     "metadata": {},
     "output_type": "execute_result"
    }
   ],
   "source": [
    "df.head(4)"
   ]
  },
  {
   "cell_type": "code",
   "execution_count": 43,
   "metadata": {},
   "outputs": [],
   "source": [
    "# manually adjusting position on the map\n",
    "df['position'] = 'top right'\n",
    "df.position[df.RegionName.isin(['San Francesico'])]= 'middle center'\n",
    "#df.position[df.RegionName.isin(['San Diego', 'Los Angeles'])]= 'middle left'\n",
    "df.position[df.RegionName.isin(['San Diego', 'Los Angeles', 'Bronx'])]= 'top left'\n",
    "df.position[df.RegionName.isin(['Santa Clara'])]= 'bottom left'\n",
    "df.position[df.RegionName.isin(['Middlesex', 'Tarrant'])]= 'bottom right'\n",
    "df.position[df.RegionName.isin(['Broward', 'San Mateo',  ])]='middle left'\n",
    "df.position[df.RegionName.isin(['Kings'])]='bottom left'"
   ]
  },
  {
   "cell_type": "code",
   "execution_count": 44,
   "metadata": {},
   "outputs": [
    {
     "data": {
      "application/vnd.plotly.v1+json": {
       "config": {
        "plotlyServerURL": "https://plot.ly"
       },
       "data": [
        {
         "lat": [
          40.7766419,
          25.6105799
         ],
         "locationmode": "USA-states",
         "lon": [
          -73.97018709999999,
          -80.49709890000001
         ],
         "marker": {
          "line": {
           "color": "rgb(40,40,40)",
           "width": 0.5
          },
          "size": 0
         },
         "name": "wave 1",
         "text": [
          "New York, NY",
          "Miami-Dade, FL"
         ],
         "type": "scattergeo"
        },
        {
         "lat": [
          40.7766419,
          25.6105799
         ],
         "locationmode": "USA-states",
         "lon": [
          -73.3701871,
          -79.89709890000002
         ],
         "mode": "text",
         "text": [
          "New York",
          "Miami-Dade"
         ],
         "textposition": "bottom right",
         "type": "scattergeo"
        },
        {
         "lat": [
          29.4486708,
          26.1935353,
          26.6491257,
          40.8487111,
          40.6350451,
          40.6585662,
          40.561262799999994,
          33.0236041,
          34.1963983,
          37.7272391,
          37.414672499999995,
          37.2206954
         ],
         "locationmode": "USA-states",
         "lon": [
          -98.5201465,
          -80.4766834,
          -80.4483542,
          -73.852939,
          -73.95063979999999,
          -73.83801679999999,
          -74.1398995,
          -116.77611740000002,
          -118.26186159999999,
          -123.0322294,
          -122.3715457,
          -121.6905097
         ],
         "marker": {
          "line": {
           "color": "rgb(40,40,40)",
           "width": 0.5
          },
          "size": 0
         },
         "name": "wave 2",
         "text": [
          "Bexar, TX",
          "Broward, FL",
          "Palm Beach, FL",
          "Bronx, NY",
          "Kings, NY",
          "Queens, NY",
          "Richmond, NY",
          "San Diego, CA",
          "Los Angeles, CA",
          "San Francisco, CA",
          "San Mateo, CA",
          "Santa Clara, CA"
         ],
         "type": "scattergeo",
         "visible": false
        },
        {
         "lat": [
          29.4486708,
          26.1935353,
          26.6491257,
          40.8487111,
          40.6350451,
          40.858566200000006,
          39.061262799999994,
          33.0236041,
          34.1963983,
          37.7272391,
          37.414672499999995,
          37.2206954
         ],
         "locationmode": "USA-states",
         "lon": [
          -99.12014649999999,
          -82.0766834,
          -81.04835419999999,
          -75.452939,
          -75.55063979999998,
          -74.43801679999999,
          -74.73989949999999,
          -117.37611740000001,
          -118.86186159999998,
          -123.6322294,
          -122.9715457,
          -122.2905097
         ],
         "mode": "text",
         "text": [
          "Bexar",
          "Broward",
          "Palm Beach",
          "Bronx",
          "Kings",
          "Queens",
          "Richmond",
          "San Diego",
          "Los Angeles",
          "San Francisco",
          "San Mateo",
          "Santa Clara"
         ],
         "textposition": [
          "top right",
          "middle left",
          "top right",
          "top left",
          "bottom left",
          "top right",
          "top right",
          "top left",
          "top left",
          "top right",
          "middle left",
          "bottom left"
         ],
         "type": "scattergeo",
         "visible": false
        },
        {
         "lat": [
          21.580022500000002
         ],
         "locationmode": "USA-states",
         "lon": [
          -158.1234063
         ],
         "marker": {
          "line": {
           "color": "rgb(40,40,40)",
           "width": 0.5
          },
          "size": 0
         },
         "name": "wave 4",
         "text": [
          "Honolulu, HI"
         ],
         "type": "scattergeo",
         "visible": false
        },
        {
         "lat": [
          21.580022500000002
         ],
         "locationmode": "USA-states",
         "lon": [
          -157.5234063
         ],
         "mode": "text",
         "text": [
          "Honolulu"
         ],
         "textposition": [
          "top right"
         ],
         "type": "scattergeo",
         "visible": false
        },
        {
         "lat": [
          32.7721191,
          32.7669866,
          36.2142575,
          47.49059929999999,
          42.3385513,
          42.4817182,
          41.894293700000006
         ],
         "locationmode": "USA-states",
         "lon": [
          -97.2912241,
          -96.7784238,
          -115.01381200000002,
          -121.833996,
          -71.018253,
          -71.3949161,
          -87.6454546
         ],
         "marker": {
          "line": {
           "color": "rgb(40,40,40)",
           "width": 0.5
          },
          "size": 0
         },
         "name": "wave 6",
         "text": [
          "Tarrant, TX",
          "Dallas, TX",
          "Clark, NV",
          "King, WA",
          "Suffolk, MA",
          "Middlesex, MA",
          "Cook, IL"
         ],
         "type": "scattergeo",
         "visible": false
        },
        {
         "lat": [
          32.7721191,
          32.7669866,
          36.2142575,
          47.49059929999999,
          42.3385513,
          42.4817182,
          41.894293700000006
         ],
         "locationmode": "USA-states",
         "lon": [
          -96.6912241,
          -96.1784238,
          -114.41381200000002,
          -121.233996,
          -70.418253,
          -70.79491610000001,
          -87.0454546
         ],
         "mode": "text",
         "text": [
          "Tarrant",
          "Dallas",
          "Clark",
          "King",
          "Suffolk",
          "Middlesex",
          "Cook"
         ],
         "textposition": [
          "bottom right",
          "top right",
          "top right",
          "top right",
          "top right",
          "bottom right",
          "top right"
         ],
         "type": "scattergeo",
         "visible": false
        }
       ],
       "layout": {
        "geo": {
         "scope": "usa"
        },
        "showlegend": false,
        "template": {
         "data": {
          "bar": [
           {
            "error_x": {
             "color": "#2a3f5f"
            },
            "error_y": {
             "color": "#2a3f5f"
            },
            "marker": {
             "line": {
              "color": "#E5ECF6",
              "width": 0.5
             }
            },
            "type": "bar"
           }
          ],
          "barpolar": [
           {
            "marker": {
             "line": {
              "color": "#E5ECF6",
              "width": 0.5
             }
            },
            "type": "barpolar"
           }
          ],
          "carpet": [
           {
            "aaxis": {
             "endlinecolor": "#2a3f5f",
             "gridcolor": "white",
             "linecolor": "white",
             "minorgridcolor": "white",
             "startlinecolor": "#2a3f5f"
            },
            "baxis": {
             "endlinecolor": "#2a3f5f",
             "gridcolor": "white",
             "linecolor": "white",
             "minorgridcolor": "white",
             "startlinecolor": "#2a3f5f"
            },
            "type": "carpet"
           }
          ],
          "choropleth": [
           {
            "colorbar": {
             "outlinewidth": 0,
             "ticks": ""
            },
            "type": "choropleth"
           }
          ],
          "contour": [
           {
            "colorbar": {
             "outlinewidth": 0,
             "ticks": ""
            },
            "colorscale": [
             [
              0,
              "#0d0887"
             ],
             [
              0.1111111111111111,
              "#46039f"
             ],
             [
              0.2222222222222222,
              "#7201a8"
             ],
             [
              0.3333333333333333,
              "#9c179e"
             ],
             [
              0.4444444444444444,
              "#bd3786"
             ],
             [
              0.5555555555555556,
              "#d8576b"
             ],
             [
              0.6666666666666666,
              "#ed7953"
             ],
             [
              0.7777777777777778,
              "#fb9f3a"
             ],
             [
              0.8888888888888888,
              "#fdca26"
             ],
             [
              1,
              "#f0f921"
             ]
            ],
            "type": "contour"
           }
          ],
          "contourcarpet": [
           {
            "colorbar": {
             "outlinewidth": 0,
             "ticks": ""
            },
            "type": "contourcarpet"
           }
          ],
          "heatmap": [
           {
            "colorbar": {
             "outlinewidth": 0,
             "ticks": ""
            },
            "colorscale": [
             [
              0,
              "#0d0887"
             ],
             [
              0.1111111111111111,
              "#46039f"
             ],
             [
              0.2222222222222222,
              "#7201a8"
             ],
             [
              0.3333333333333333,
              "#9c179e"
             ],
             [
              0.4444444444444444,
              "#bd3786"
             ],
             [
              0.5555555555555556,
              "#d8576b"
             ],
             [
              0.6666666666666666,
              "#ed7953"
             ],
             [
              0.7777777777777778,
              "#fb9f3a"
             ],
             [
              0.8888888888888888,
              "#fdca26"
             ],
             [
              1,
              "#f0f921"
             ]
            ],
            "type": "heatmap"
           }
          ],
          "heatmapgl": [
           {
            "colorbar": {
             "outlinewidth": 0,
             "ticks": ""
            },
            "colorscale": [
             [
              0,
              "#0d0887"
             ],
             [
              0.1111111111111111,
              "#46039f"
             ],
             [
              0.2222222222222222,
              "#7201a8"
             ],
             [
              0.3333333333333333,
              "#9c179e"
             ],
             [
              0.4444444444444444,
              "#bd3786"
             ],
             [
              0.5555555555555556,
              "#d8576b"
             ],
             [
              0.6666666666666666,
              "#ed7953"
             ],
             [
              0.7777777777777778,
              "#fb9f3a"
             ],
             [
              0.8888888888888888,
              "#fdca26"
             ],
             [
              1,
              "#f0f921"
             ]
            ],
            "type": "heatmapgl"
           }
          ],
          "histogram": [
           {
            "marker": {
             "colorbar": {
              "outlinewidth": 0,
              "ticks": ""
             }
            },
            "type": "histogram"
           }
          ],
          "histogram2d": [
           {
            "colorbar": {
             "outlinewidth": 0,
             "ticks": ""
            },
            "colorscale": [
             [
              0,
              "#0d0887"
             ],
             [
              0.1111111111111111,
              "#46039f"
             ],
             [
              0.2222222222222222,
              "#7201a8"
             ],
             [
              0.3333333333333333,
              "#9c179e"
             ],
             [
              0.4444444444444444,
              "#bd3786"
             ],
             [
              0.5555555555555556,
              "#d8576b"
             ],
             [
              0.6666666666666666,
              "#ed7953"
             ],
             [
              0.7777777777777778,
              "#fb9f3a"
             ],
             [
              0.8888888888888888,
              "#fdca26"
             ],
             [
              1,
              "#f0f921"
             ]
            ],
            "type": "histogram2d"
           }
          ],
          "histogram2dcontour": [
           {
            "colorbar": {
             "outlinewidth": 0,
             "ticks": ""
            },
            "colorscale": [
             [
              0,
              "#0d0887"
             ],
             [
              0.1111111111111111,
              "#46039f"
             ],
             [
              0.2222222222222222,
              "#7201a8"
             ],
             [
              0.3333333333333333,
              "#9c179e"
             ],
             [
              0.4444444444444444,
              "#bd3786"
             ],
             [
              0.5555555555555556,
              "#d8576b"
             ],
             [
              0.6666666666666666,
              "#ed7953"
             ],
             [
              0.7777777777777778,
              "#fb9f3a"
             ],
             [
              0.8888888888888888,
              "#fdca26"
             ],
             [
              1,
              "#f0f921"
             ]
            ],
            "type": "histogram2dcontour"
           }
          ],
          "mesh3d": [
           {
            "colorbar": {
             "outlinewidth": 0,
             "ticks": ""
            },
            "type": "mesh3d"
           }
          ],
          "parcoords": [
           {
            "line": {
             "colorbar": {
              "outlinewidth": 0,
              "ticks": ""
             }
            },
            "type": "parcoords"
           }
          ],
          "pie": [
           {
            "automargin": true,
            "type": "pie"
           }
          ],
          "scatter": [
           {
            "marker": {
             "colorbar": {
              "outlinewidth": 0,
              "ticks": ""
             }
            },
            "type": "scatter"
           }
          ],
          "scatter3d": [
           {
            "line": {
             "colorbar": {
              "outlinewidth": 0,
              "ticks": ""
             }
            },
            "marker": {
             "colorbar": {
              "outlinewidth": 0,
              "ticks": ""
             }
            },
            "type": "scatter3d"
           }
          ],
          "scattercarpet": [
           {
            "marker": {
             "colorbar": {
              "outlinewidth": 0,
              "ticks": ""
             }
            },
            "type": "scattercarpet"
           }
          ],
          "scattergeo": [
           {
            "marker": {
             "colorbar": {
              "outlinewidth": 0,
              "ticks": ""
             }
            },
            "type": "scattergeo"
           }
          ],
          "scattergl": [
           {
            "marker": {
             "colorbar": {
              "outlinewidth": 0,
              "ticks": ""
             }
            },
            "type": "scattergl"
           }
          ],
          "scattermapbox": [
           {
            "marker": {
             "colorbar": {
              "outlinewidth": 0,
              "ticks": ""
             }
            },
            "type": "scattermapbox"
           }
          ],
          "scatterpolar": [
           {
            "marker": {
             "colorbar": {
              "outlinewidth": 0,
              "ticks": ""
             }
            },
            "type": "scatterpolar"
           }
          ],
          "scatterpolargl": [
           {
            "marker": {
             "colorbar": {
              "outlinewidth": 0,
              "ticks": ""
             }
            },
            "type": "scatterpolargl"
           }
          ],
          "scatterternary": [
           {
            "marker": {
             "colorbar": {
              "outlinewidth": 0,
              "ticks": ""
             }
            },
            "type": "scatterternary"
           }
          ],
          "surface": [
           {
            "colorbar": {
             "outlinewidth": 0,
             "ticks": ""
            },
            "colorscale": [
             [
              0,
              "#0d0887"
             ],
             [
              0.1111111111111111,
              "#46039f"
             ],
             [
              0.2222222222222222,
              "#7201a8"
             ],
             [
              0.3333333333333333,
              "#9c179e"
             ],
             [
              0.4444444444444444,
              "#bd3786"
             ],
             [
              0.5555555555555556,
              "#d8576b"
             ],
             [
              0.6666666666666666,
              "#ed7953"
             ],
             [
              0.7777777777777778,
              "#fb9f3a"
             ],
             [
              0.8888888888888888,
              "#fdca26"
             ],
             [
              1,
              "#f0f921"
             ]
            ],
            "type": "surface"
           }
          ],
          "table": [
           {
            "cells": {
             "fill": {
              "color": "#EBF0F8"
             },
             "line": {
              "color": "white"
             }
            },
            "header": {
             "fill": {
              "color": "#C8D4E3"
             },
             "line": {
              "color": "white"
             }
            },
            "type": "table"
           }
          ]
         },
         "layout": {
          "annotationdefaults": {
           "arrowcolor": "#2a3f5f",
           "arrowhead": 0,
           "arrowwidth": 1
          },
          "coloraxis": {
           "colorbar": {
            "outlinewidth": 0,
            "ticks": ""
           }
          },
          "colorscale": {
           "diverging": [
            [
             0,
             "#8e0152"
            ],
            [
             0.1,
             "#c51b7d"
            ],
            [
             0.2,
             "#de77ae"
            ],
            [
             0.3,
             "#f1b6da"
            ],
            [
             0.4,
             "#fde0ef"
            ],
            [
             0.5,
             "#f7f7f7"
            ],
            [
             0.6,
             "#e6f5d0"
            ],
            [
             0.7,
             "#b8e186"
            ],
            [
             0.8,
             "#7fbc41"
            ],
            [
             0.9,
             "#4d9221"
            ],
            [
             1,
             "#276419"
            ]
           ],
           "sequential": [
            [
             0,
             "#0d0887"
            ],
            [
             0.1111111111111111,
             "#46039f"
            ],
            [
             0.2222222222222222,
             "#7201a8"
            ],
            [
             0.3333333333333333,
             "#9c179e"
            ],
            [
             0.4444444444444444,
             "#bd3786"
            ],
            [
             0.5555555555555556,
             "#d8576b"
            ],
            [
             0.6666666666666666,
             "#ed7953"
            ],
            [
             0.7777777777777778,
             "#fb9f3a"
            ],
            [
             0.8888888888888888,
             "#fdca26"
            ],
            [
             1,
             "#f0f921"
            ]
           ],
           "sequentialminus": [
            [
             0,
             "#0d0887"
            ],
            [
             0.1111111111111111,
             "#46039f"
            ],
            [
             0.2222222222222222,
             "#7201a8"
            ],
            [
             0.3333333333333333,
             "#9c179e"
            ],
            [
             0.4444444444444444,
             "#bd3786"
            ],
            [
             0.5555555555555556,
             "#d8576b"
            ],
            [
             0.6666666666666666,
             "#ed7953"
            ],
            [
             0.7777777777777778,
             "#fb9f3a"
            ],
            [
             0.8888888888888888,
             "#fdca26"
            ],
            [
             1,
             "#f0f921"
            ]
           ]
          },
          "colorway": [
           "#636efa",
           "#EF553B",
           "#00cc96",
           "#ab63fa",
           "#FFA15A",
           "#19d3f3",
           "#FF6692",
           "#B6E880",
           "#FF97FF",
           "#FECB52"
          ],
          "font": {
           "color": "#2a3f5f"
          },
          "geo": {
           "bgcolor": "white",
           "lakecolor": "white",
           "landcolor": "#E5ECF6",
           "showlakes": true,
           "showland": true,
           "subunitcolor": "white"
          },
          "hoverlabel": {
           "align": "left"
          },
          "hovermode": "closest",
          "mapbox": {
           "style": "light"
          },
          "paper_bgcolor": "white",
          "plot_bgcolor": "#E5ECF6",
          "polar": {
           "angularaxis": {
            "gridcolor": "white",
            "linecolor": "white",
            "ticks": ""
           },
           "bgcolor": "#E5ECF6",
           "radialaxis": {
            "gridcolor": "white",
            "linecolor": "white",
            "ticks": ""
           }
          },
          "scene": {
           "xaxis": {
            "backgroundcolor": "#E5ECF6",
            "gridcolor": "white",
            "gridwidth": 2,
            "linecolor": "white",
            "showbackground": true,
            "ticks": "",
            "zerolinecolor": "white"
           },
           "yaxis": {
            "backgroundcolor": "#E5ECF6",
            "gridcolor": "white",
            "gridwidth": 2,
            "linecolor": "white",
            "showbackground": true,
            "ticks": "",
            "zerolinecolor": "white"
           },
           "zaxis": {
            "backgroundcolor": "#E5ECF6",
            "gridcolor": "white",
            "gridwidth": 2,
            "linecolor": "white",
            "showbackground": true,
            "ticks": "",
            "zerolinecolor": "white"
           }
          },
          "shapedefaults": {
           "line": {
            "color": "#2a3f5f"
           }
          },
          "ternary": {
           "aaxis": {
            "gridcolor": "white",
            "linecolor": "white",
            "ticks": ""
           },
           "baxis": {
            "gridcolor": "white",
            "linecolor": "white",
            "ticks": ""
           },
           "bgcolor": "#E5ECF6",
           "caxis": {
            "gridcolor": "white",
            "linecolor": "white",
            "ticks": ""
           }
          },
          "title": {
           "x": 0.05
          },
          "xaxis": {
           "automargin": true,
           "gridcolor": "white",
           "linecolor": "white",
           "ticks": "",
           "title": {
            "standoff": 15
           },
           "zerolinecolor": "white",
           "zerolinewidth": 2
          },
          "yaxis": {
           "automargin": true,
           "gridcolor": "white",
           "linecolor": "white",
           "ticks": "",
           "title": {
            "standoff": 15
           },
           "zerolinecolor": "white",
           "zerolinewidth": 2
          }
         }
        },
        "title": {
         "text": "GTO Waves"
        },
        "updatemenus": [
         {
          "active": 0,
          "buttons": [
           {
            "args": [
             {
              "visible": [
               true,
               true,
               false,
               false,
               false,
               false,
               false,
               false
              ]
             },
             {
              "title": "Wave 1 - Mar/2016"
             }
            ],
            "label": "Wave 1",
            "method": "update"
           },
           {
            "args": [
             {
              "visible": [
               true,
               true,
               true,
               true,
               false,
               false,
               false,
               false
              ]
             },
             {
              "title": "Wave 2 - Aug/2016"
             }
            ],
            "label": "Wave 2",
            "method": "update"
           },
           {
            "args": [
             {
              "visible": [
               true,
               true,
               true,
               true,
               true,
               true,
               false,
               false
              ]
             },
             {
              "title": "Wave 4 - Aug/2017<br>Wire transfers"
             }
            ],
            "label": "Wave 4",
            "method": "update"
           },
           {
            "args": [
             {
              "visible": [
               true,
               true,
               true,
               true,
               true,
               true,
               true,
               true
              ]
             },
             {
              "title": "Wave 6 - Fev/2018<br>US$300,000 and Cryptocurrencies"
             }
            ],
            "label": "Wave 6",
            "method": "update"
           }
          ],
          "direction": "right",
          "type": "buttons",
          "x": 0.8,
          "y": 1.2
         }
        ],
        "xaxis": {
         "domain": [
          0.05,
          1
         ]
        }
       }
      },
      "text/html": [
       "<div>\n",
       "        \n",
       "        \n",
       "            <div id=\"06168c93-5812-4134-8597-990765b7b0d5\" class=\"plotly-graph-div\" style=\"height:525px; width:100%;\"></div>\n",
       "            <script type=\"text/javascript\">\n",
       "                require([\"plotly\"], function(Plotly) {\n",
       "                    window.PLOTLYENV=window.PLOTLYENV || {};\n",
       "                    \n",
       "                if (document.getElementById(\"06168c93-5812-4134-8597-990765b7b0d5\")) {\n",
       "                    Plotly.newPlot(\n",
       "                        '06168c93-5812-4134-8597-990765b7b0d5',\n",
       "                        [{\"lat\": [40.7766419, 25.6105799], \"locationmode\": \"USA-states\", \"lon\": [-73.97018709999999, -80.49709890000001], \"marker\": {\"line\": {\"color\": \"rgb(40,40,40)\", \"width\": 0.5}, \"size\": 0}, \"name\": \"wave 1\", \"text\": [\"New York, NY\", \"Miami-Dade, FL\"], \"type\": \"scattergeo\"}, {\"lat\": [40.7766419, 25.6105799], \"locationmode\": \"USA-states\", \"lon\": [-73.3701871, -79.89709890000002], \"mode\": \"text\", \"text\": [\"New York\", \"Miami-Dade\"], \"textposition\": \"bottom right\", \"type\": \"scattergeo\"}, {\"lat\": [29.4486708, 26.1935353, 26.6491257, 40.8487111, 40.6350451, 40.6585662, 40.561262799999994, 33.0236041, 34.1963983, 37.7272391, 37.414672499999995, 37.2206954], \"locationmode\": \"USA-states\", \"lon\": [-98.5201465, -80.4766834, -80.4483542, -73.852939, -73.95063979999999, -73.83801679999999, -74.1398995, -116.77611740000002, -118.26186159999999, -123.0322294, -122.3715457, -121.6905097], \"marker\": {\"line\": {\"color\": \"rgb(40,40,40)\", \"width\": 0.5}, \"size\": 0}, \"name\": \"wave 2\", \"text\": [\"Bexar, TX\", \"Broward, FL\", \"Palm Beach, FL\", \"Bronx, NY\", \"Kings, NY\", \"Queens, NY\", \"Richmond, NY\", \"San Diego, CA\", \"Los Angeles, CA\", \"San Francisco, CA\", \"San Mateo, CA\", \"Santa Clara, CA\"], \"type\": \"scattergeo\", \"visible\": false}, {\"lat\": [29.4486708, 26.1935353, 26.6491257, 40.8487111, 40.6350451, 40.858566200000006, 39.061262799999994, 33.0236041, 34.1963983, 37.7272391, 37.414672499999995, 37.2206954], \"locationmode\": \"USA-states\", \"lon\": [-99.12014649999999, -82.0766834, -81.04835419999999, -75.452939, -75.55063979999998, -74.43801679999999, -74.73989949999999, -117.37611740000001, -118.86186159999998, -123.6322294, -122.9715457, -122.2905097], \"mode\": \"text\", \"text\": [\"Bexar\", \"Broward\", \"Palm Beach\", \"Bronx\", \"Kings\", \"Queens\", \"Richmond\", \"San Diego\", \"Los Angeles\", \"San Francisco\", \"San Mateo\", \"Santa Clara\"], \"textposition\": [\"top right\", \"middle left\", \"top right\", \"top left\", \"bottom left\", \"top right\", \"top right\", \"top left\", \"top left\", \"top right\", \"middle left\", \"bottom left\"], \"type\": \"scattergeo\", \"visible\": false}, {\"lat\": [21.580022500000002], \"locationmode\": \"USA-states\", \"lon\": [-158.1234063], \"marker\": {\"line\": {\"color\": \"rgb(40,40,40)\", \"width\": 0.5}, \"size\": 0}, \"name\": \"wave 4\", \"text\": [\"Honolulu, HI\"], \"type\": \"scattergeo\", \"visible\": false}, {\"lat\": [21.580022500000002], \"locationmode\": \"USA-states\", \"lon\": [-157.5234063], \"mode\": \"text\", \"text\": [\"Honolulu\"], \"textposition\": [\"top right\"], \"type\": \"scattergeo\", \"visible\": false}, {\"lat\": [32.7721191, 32.7669866, 36.2142575, 47.49059929999999, 42.3385513, 42.4817182, 41.894293700000006], \"locationmode\": \"USA-states\", \"lon\": [-97.2912241, -96.7784238, -115.01381200000002, -121.833996, -71.018253, -71.3949161, -87.6454546], \"marker\": {\"line\": {\"color\": \"rgb(40,40,40)\", \"width\": 0.5}, \"size\": 0}, \"name\": \"wave 6\", \"text\": [\"Tarrant, TX\", \"Dallas, TX\", \"Clark, NV\", \"King, WA\", \"Suffolk, MA\", \"Middlesex, MA\", \"Cook, IL\"], \"type\": \"scattergeo\", \"visible\": false}, {\"lat\": [32.7721191, 32.7669866, 36.2142575, 47.49059929999999, 42.3385513, 42.4817182, 41.894293700000006], \"locationmode\": \"USA-states\", \"lon\": [-96.6912241, -96.1784238, -114.41381200000002, -121.233996, -70.418253, -70.79491610000001, -87.0454546], \"mode\": \"text\", \"text\": [\"Tarrant\", \"Dallas\", \"Clark\", \"King\", \"Suffolk\", \"Middlesex\", \"Cook\"], \"textposition\": [\"bottom right\", \"top right\", \"top right\", \"top right\", \"top right\", \"bottom right\", \"top right\"], \"type\": \"scattergeo\", \"visible\": false}],\n",
       "                        {\"geo\": {\"scope\": \"usa\"}, \"showlegend\": false, \"template\": {\"data\": {\"bar\": [{\"error_x\": {\"color\": \"#2a3f5f\"}, \"error_y\": {\"color\": \"#2a3f5f\"}, \"marker\": {\"line\": {\"color\": \"#E5ECF6\", \"width\": 0.5}}, \"type\": \"bar\"}], \"barpolar\": [{\"marker\": {\"line\": {\"color\": \"#E5ECF6\", \"width\": 0.5}}, \"type\": \"barpolar\"}], \"carpet\": [{\"aaxis\": {\"endlinecolor\": \"#2a3f5f\", \"gridcolor\": \"white\", \"linecolor\": \"white\", \"minorgridcolor\": \"white\", \"startlinecolor\": \"#2a3f5f\"}, \"baxis\": {\"endlinecolor\": \"#2a3f5f\", \"gridcolor\": \"white\", \"linecolor\": \"white\", \"minorgridcolor\": \"white\", \"startlinecolor\": \"#2a3f5f\"}, \"type\": \"carpet\"}], \"choropleth\": [{\"colorbar\": {\"outlinewidth\": 0, \"ticks\": \"\"}, \"type\": \"choropleth\"}], \"contour\": [{\"colorbar\": {\"outlinewidth\": 0, \"ticks\": \"\"}, \"colorscale\": [[0.0, \"#0d0887\"], [0.1111111111111111, \"#46039f\"], [0.2222222222222222, \"#7201a8\"], [0.3333333333333333, \"#9c179e\"], [0.4444444444444444, \"#bd3786\"], [0.5555555555555556, \"#d8576b\"], [0.6666666666666666, \"#ed7953\"], [0.7777777777777778, \"#fb9f3a\"], [0.8888888888888888, \"#fdca26\"], [1.0, \"#f0f921\"]], \"type\": \"contour\"}], \"contourcarpet\": [{\"colorbar\": {\"outlinewidth\": 0, \"ticks\": \"\"}, \"type\": \"contourcarpet\"}], \"heatmap\": [{\"colorbar\": {\"outlinewidth\": 0, \"ticks\": \"\"}, \"colorscale\": [[0.0, \"#0d0887\"], [0.1111111111111111, \"#46039f\"], [0.2222222222222222, \"#7201a8\"], [0.3333333333333333, \"#9c179e\"], [0.4444444444444444, \"#bd3786\"], [0.5555555555555556, \"#d8576b\"], [0.6666666666666666, \"#ed7953\"], [0.7777777777777778, \"#fb9f3a\"], [0.8888888888888888, \"#fdca26\"], [1.0, \"#f0f921\"]], \"type\": \"heatmap\"}], \"heatmapgl\": [{\"colorbar\": {\"outlinewidth\": 0, \"ticks\": \"\"}, \"colorscale\": [[0.0, \"#0d0887\"], [0.1111111111111111, \"#46039f\"], [0.2222222222222222, \"#7201a8\"], [0.3333333333333333, \"#9c179e\"], [0.4444444444444444, \"#bd3786\"], [0.5555555555555556, \"#d8576b\"], [0.6666666666666666, \"#ed7953\"], [0.7777777777777778, \"#fb9f3a\"], [0.8888888888888888, \"#fdca26\"], [1.0, \"#f0f921\"]], \"type\": \"heatmapgl\"}], \"histogram\": [{\"marker\": {\"colorbar\": {\"outlinewidth\": 0, \"ticks\": \"\"}}, \"type\": \"histogram\"}], \"histogram2d\": [{\"colorbar\": {\"outlinewidth\": 0, \"ticks\": \"\"}, \"colorscale\": [[0.0, \"#0d0887\"], [0.1111111111111111, \"#46039f\"], [0.2222222222222222, \"#7201a8\"], [0.3333333333333333, \"#9c179e\"], [0.4444444444444444, \"#bd3786\"], [0.5555555555555556, \"#d8576b\"], [0.6666666666666666, \"#ed7953\"], [0.7777777777777778, \"#fb9f3a\"], [0.8888888888888888, \"#fdca26\"], [1.0, \"#f0f921\"]], \"type\": \"histogram2d\"}], \"histogram2dcontour\": [{\"colorbar\": {\"outlinewidth\": 0, \"ticks\": \"\"}, \"colorscale\": [[0.0, \"#0d0887\"], [0.1111111111111111, \"#46039f\"], [0.2222222222222222, \"#7201a8\"], [0.3333333333333333, \"#9c179e\"], [0.4444444444444444, \"#bd3786\"], [0.5555555555555556, \"#d8576b\"], [0.6666666666666666, \"#ed7953\"], [0.7777777777777778, \"#fb9f3a\"], [0.8888888888888888, \"#fdca26\"], [1.0, \"#f0f921\"]], \"type\": \"histogram2dcontour\"}], \"mesh3d\": [{\"colorbar\": {\"outlinewidth\": 0, \"ticks\": \"\"}, \"type\": \"mesh3d\"}], \"parcoords\": [{\"line\": {\"colorbar\": {\"outlinewidth\": 0, \"ticks\": \"\"}}, \"type\": \"parcoords\"}], \"pie\": [{\"automargin\": true, \"type\": \"pie\"}], \"scatter\": [{\"marker\": {\"colorbar\": {\"outlinewidth\": 0, \"ticks\": \"\"}}, \"type\": \"scatter\"}], \"scatter3d\": [{\"line\": {\"colorbar\": {\"outlinewidth\": 0, \"ticks\": \"\"}}, \"marker\": {\"colorbar\": {\"outlinewidth\": 0, \"ticks\": \"\"}}, \"type\": \"scatter3d\"}], \"scattercarpet\": [{\"marker\": {\"colorbar\": {\"outlinewidth\": 0, \"ticks\": \"\"}}, \"type\": \"scattercarpet\"}], \"scattergeo\": [{\"marker\": {\"colorbar\": {\"outlinewidth\": 0, \"ticks\": \"\"}}, \"type\": \"scattergeo\"}], \"scattergl\": [{\"marker\": {\"colorbar\": {\"outlinewidth\": 0, \"ticks\": \"\"}}, \"type\": \"scattergl\"}], \"scattermapbox\": [{\"marker\": {\"colorbar\": {\"outlinewidth\": 0, \"ticks\": \"\"}}, \"type\": \"scattermapbox\"}], \"scatterpolar\": [{\"marker\": {\"colorbar\": {\"outlinewidth\": 0, \"ticks\": \"\"}}, \"type\": \"scatterpolar\"}], \"scatterpolargl\": [{\"marker\": {\"colorbar\": {\"outlinewidth\": 0, \"ticks\": \"\"}}, \"type\": \"scatterpolargl\"}], \"scatterternary\": [{\"marker\": {\"colorbar\": {\"outlinewidth\": 0, \"ticks\": \"\"}}, \"type\": \"scatterternary\"}], \"surface\": [{\"colorbar\": {\"outlinewidth\": 0, \"ticks\": \"\"}, \"colorscale\": [[0.0, \"#0d0887\"], [0.1111111111111111, \"#46039f\"], [0.2222222222222222, \"#7201a8\"], [0.3333333333333333, \"#9c179e\"], [0.4444444444444444, \"#bd3786\"], [0.5555555555555556, \"#d8576b\"], [0.6666666666666666, \"#ed7953\"], [0.7777777777777778, \"#fb9f3a\"], [0.8888888888888888, \"#fdca26\"], [1.0, \"#f0f921\"]], \"type\": \"surface\"}], \"table\": [{\"cells\": {\"fill\": {\"color\": \"#EBF0F8\"}, \"line\": {\"color\": \"white\"}}, \"header\": {\"fill\": {\"color\": \"#C8D4E3\"}, \"line\": {\"color\": \"white\"}}, \"type\": \"table\"}]}, \"layout\": {\"annotationdefaults\": {\"arrowcolor\": \"#2a3f5f\", \"arrowhead\": 0, \"arrowwidth\": 1}, \"coloraxis\": {\"colorbar\": {\"outlinewidth\": 0, \"ticks\": \"\"}}, \"colorscale\": {\"diverging\": [[0, \"#8e0152\"], [0.1, \"#c51b7d\"], [0.2, \"#de77ae\"], [0.3, \"#f1b6da\"], [0.4, \"#fde0ef\"], [0.5, \"#f7f7f7\"], [0.6, \"#e6f5d0\"], [0.7, \"#b8e186\"], [0.8, \"#7fbc41\"], [0.9, \"#4d9221\"], [1, \"#276419\"]], \"sequential\": [[0.0, \"#0d0887\"], [0.1111111111111111, \"#46039f\"], [0.2222222222222222, \"#7201a8\"], [0.3333333333333333, \"#9c179e\"], [0.4444444444444444, \"#bd3786\"], [0.5555555555555556, \"#d8576b\"], [0.6666666666666666, \"#ed7953\"], [0.7777777777777778, \"#fb9f3a\"], [0.8888888888888888, \"#fdca26\"], [1.0, \"#f0f921\"]], \"sequentialminus\": [[0.0, \"#0d0887\"], [0.1111111111111111, \"#46039f\"], [0.2222222222222222, \"#7201a8\"], [0.3333333333333333, \"#9c179e\"], [0.4444444444444444, \"#bd3786\"], [0.5555555555555556, \"#d8576b\"], [0.6666666666666666, \"#ed7953\"], [0.7777777777777778, \"#fb9f3a\"], [0.8888888888888888, \"#fdca26\"], [1.0, \"#f0f921\"]]}, \"colorway\": [\"#636efa\", \"#EF553B\", \"#00cc96\", \"#ab63fa\", \"#FFA15A\", \"#19d3f3\", \"#FF6692\", \"#B6E880\", \"#FF97FF\", \"#FECB52\"], \"font\": {\"color\": \"#2a3f5f\"}, \"geo\": {\"bgcolor\": \"white\", \"lakecolor\": \"white\", \"landcolor\": \"#E5ECF6\", \"showlakes\": true, \"showland\": true, \"subunitcolor\": \"white\"}, \"hoverlabel\": {\"align\": \"left\"}, \"hovermode\": \"closest\", \"mapbox\": {\"style\": \"light\"}, \"paper_bgcolor\": \"white\", \"plot_bgcolor\": \"#E5ECF6\", \"polar\": {\"angularaxis\": {\"gridcolor\": \"white\", \"linecolor\": \"white\", \"ticks\": \"\"}, \"bgcolor\": \"#E5ECF6\", \"radialaxis\": {\"gridcolor\": \"white\", \"linecolor\": \"white\", \"ticks\": \"\"}}, \"scene\": {\"xaxis\": {\"backgroundcolor\": \"#E5ECF6\", \"gridcolor\": \"white\", \"gridwidth\": 2, \"linecolor\": \"white\", \"showbackground\": true, \"ticks\": \"\", \"zerolinecolor\": \"white\"}, \"yaxis\": {\"backgroundcolor\": \"#E5ECF6\", \"gridcolor\": \"white\", \"gridwidth\": 2, \"linecolor\": \"white\", \"showbackground\": true, \"ticks\": \"\", \"zerolinecolor\": \"white\"}, \"zaxis\": {\"backgroundcolor\": \"#E5ECF6\", \"gridcolor\": \"white\", \"gridwidth\": 2, \"linecolor\": \"white\", \"showbackground\": true, \"ticks\": \"\", \"zerolinecolor\": \"white\"}}, \"shapedefaults\": {\"line\": {\"color\": \"#2a3f5f\"}}, \"ternary\": {\"aaxis\": {\"gridcolor\": \"white\", \"linecolor\": \"white\", \"ticks\": \"\"}, \"baxis\": {\"gridcolor\": \"white\", \"linecolor\": \"white\", \"ticks\": \"\"}, \"bgcolor\": \"#E5ECF6\", \"caxis\": {\"gridcolor\": \"white\", \"linecolor\": \"white\", \"ticks\": \"\"}}, \"title\": {\"x\": 0.05}, \"xaxis\": {\"automargin\": true, \"gridcolor\": \"white\", \"linecolor\": \"white\", \"ticks\": \"\", \"title\": {\"standoff\": 15}, \"zerolinecolor\": \"white\", \"zerolinewidth\": 2}, \"yaxis\": {\"automargin\": true, \"gridcolor\": \"white\", \"linecolor\": \"white\", \"ticks\": \"\", \"title\": {\"standoff\": 15}, \"zerolinecolor\": \"white\", \"zerolinewidth\": 2}}}, \"title\": {\"text\": \"GTO Waves\"}, \"updatemenus\": [{\"active\": 0, \"buttons\": [{\"args\": [{\"visible\": [true, true, false, false, false, false, false, false]}, {\"title\": \"Wave 1 - Mar/2016\"}], \"label\": \"Wave 1\", \"method\": \"update\"}, {\"args\": [{\"visible\": [true, true, true, true, false, false, false, false]}, {\"title\": \"Wave 2 - Aug/2016\"}], \"label\": \"Wave 2\", \"method\": \"update\"}, {\"args\": [{\"visible\": [true, true, true, true, true, true, false, false]}, {\"title\": \"Wave 4 - Aug/2017<br>Wire transfers\"}], \"label\": \"Wave 4\", \"method\": \"update\"}, {\"args\": [{\"visible\": [true, true, true, true, true, true, true, true]}, {\"title\": \"Wave 6 - Fev/2018<br>US$300,000 and Cryptocurrencies\"}], \"label\": \"Wave 6\", \"method\": \"update\"}], \"direction\": \"right\", \"type\": \"buttons\", \"x\": 0.8, \"y\": 1.2}], \"xaxis\": {\"domain\": [0.05, 1.0]}},\n",
       "                        {\"responsive\": true}\n",
       "                    ).then(function(){\n",
       "                            \n",
       "var gd = document.getElementById('06168c93-5812-4134-8597-990765b7b0d5');\n",
       "var x = new MutationObserver(function (mutations, observer) {{\n",
       "        var display = window.getComputedStyle(gd).display;\n",
       "        if (!display || display === 'none') {{\n",
       "            console.log([gd, 'removed!']);\n",
       "            Plotly.purge(gd);\n",
       "            observer.disconnect();\n",
       "        }}\n",
       "}});\n",
       "\n",
       "// Listen for the removal of the full notebook cells\n",
       "var notebookContainer = gd.closest('#notebook-container');\n",
       "if (notebookContainer) {{\n",
       "    x.observe(notebookContainer, {childList: true});\n",
       "}}\n",
       "\n",
       "// Listen for the clearing of the current output cell\n",
       "var outputEl = gd.closest('.output');\n",
       "if (outputEl) {{\n",
       "    x.observe(outputEl, {childList: true});\n",
       "}}\n",
       "\n",
       "                        })\n",
       "                };\n",
       "                });\n",
       "            </script>\n",
       "        </div>"
      ]
     },
     "metadata": {},
     "output_type": "display_data"
    }
   ],
   "source": [
    "# Initialize figure\n",
    "fig = go.Figure()\n",
    "\n",
    "\n",
    "\n",
    "# Add Traces\n",
    "\n",
    "# --------------------------------------- wave 1 --------------------------------------- \n",
    "fig.add_trace(go.Scattergeo(\n",
    "    locationmode = 'USA-states',\n",
    "    lon = df[df.wave == 'wave_1'].lon,\n",
    "    lat = df[df.wave == 'wave_1'].lat,\n",
    "    text = df[df.wave == 'wave_1'].county,\n",
    "    marker = dict(size = 0, line_color='rgb(40,40,40)',line_width=0.5),\n",
    "    name= 'wave 1'))\n",
    "\n",
    "fig.add_trace(go.Scattergeo(\n",
    "    locationmode = 'USA-states',\n",
    "    lon = df[df.wave == 'wave_1'].lon +.6,\n",
    "    lat = df[df.wave == 'wave_1'].lat,\n",
    "    #textposition = df[df.wave == 'wave_1'].position,\n",
    "    textposition = 'bottom right',\n",
    "    text = df[df.wave == 'wave_1'].RegionName,\n",
    "    mode = 'text',\n",
    "    ))\n",
    "\n",
    "# --------------------------------------- wave 2 --------------------------------------- \n",
    "\n",
    "\n",
    "fig.add_trace(go.Scattergeo(\n",
    "    locationmode = 'USA-states',\n",
    "    lon = df[df.wave == 'wave_2'].lon,\n",
    "    lat = df[df.wave == 'wave_2'].lat,\n",
    "    text = df[df.wave == 'wave_2'].county,\n",
    "    visible=False,\n",
    "    marker = dict(size = 0, line_color='rgb(40,40,40)',line_width=0.5),\n",
    "    name= 'wave 2'))\n",
    "\n",
    "# adjusting manually postion for NYC counties\n",
    "df.lon[df.RegionName.isin(['Broward', 'Bronx', 'Kings'])] = df.lon[df.RegionName.isin(['Broward', 'Bronx', 'Kings'])]  -1\n",
    "df.lat[df.RegionName== 'Richmond'] = df.lat[df.RegionName== 'Richmond'] -1.5\n",
    "df.lat[df.RegionName== 'Queens'] = df.lat[df.RegionName== 'Queens'] +0.2\n",
    "\n",
    "fig.add_trace(go.Scattergeo(\n",
    "    locationmode = 'USA-states',\n",
    "    lon = df[df.wave == 'wave_2'].lon -.6,\n",
    "    lat = df[df.wave == 'wave_2'].lat,\n",
    "    textposition = df[df.wave == 'wave_2'].position,\n",
    "    #textposition = 'middle left',\n",
    "    text = df[df.wave == 'wave_2'].RegionName,\n",
    "    visible=False,\n",
    "    mode = 'text',\n",
    "    ))\n",
    "\n",
    "# --------------------------------------- wave 4 --------------------------------------- \n",
    "\n",
    "\n",
    "fig.add_trace(go.Scattergeo(\n",
    "    \n",
    "    locationmode = 'USA-states',\n",
    "    lon = df[df.wave == 'wave_4'].lon,\n",
    "    lat = df[df.wave == 'wave_4'].lat,\n",
    "    text = df[df.wave == 'wave_4'].county,\n",
    "    visible=False,\n",
    "    marker = dict(size = 0, line_color='rgb(40,40,40)',line_width=0.5),\n",
    "    name= 'wave 4'))\n",
    "\n",
    "fig.add_trace(go.Scattergeo(\n",
    "    locationmode = 'USA-states',\n",
    "    lon = df[df.wave == 'wave_4'].lon +.6,\n",
    "    lat = df[df.wave == 'wave_4'].lat,\n",
    "    textposition = df[df.wave == 'wave_4'].position,\n",
    "    text = df[df.wave == 'wave_4'].RegionName,\n",
    "    visible=False,\n",
    "    mode = 'text',\n",
    "    ))\n",
    "\n",
    "# --------------------------------------- wave 6 --------------------------------------- \n",
    "\n",
    "\n",
    "fig.add_trace(go.Scattergeo(\n",
    "   \n",
    "    locationmode = 'USA-states',\n",
    "    lon = df[df.wave == 'wave_6'].lon,\n",
    "    lat = df[df.wave == 'wave_6'].lat,\n",
    "    text = df[df.wave == 'wave_6'].county,\n",
    "    visible=False,\n",
    "    marker = dict(size = 0, line_color='rgb(40,40,40)',line_width=0.5),\n",
    "    name= 'wave 6'))\n",
    "\n",
    "fig.add_trace(go.Scattergeo(\n",
    "    locationmode = 'USA-states',\n",
    "    lon = df[df.wave == 'wave_6'].lon +.6,\n",
    "    lat = df[df.wave == 'wave_6'].lat,\n",
    "    textposition = df[df.wave == 'wave_6'].position,\n",
    "    text = df[df.wave == 'wave_6'].RegionName,\n",
    "    visible=False,\n",
    "    mode = 'text',\n",
    "    ))\n",
    "\n",
    "\n",
    "fig.update_geos(scope=\"usa\")\n",
    "\n",
    "# Add Buttons\n",
    "\n",
    "fig.update_layout(showlegend=False,\n",
    "    updatemenus=[\n",
    "        dict(\n",
    "            type=\"buttons\",\n",
    "            direction=\"right\",\n",
    "            active=0,\n",
    "            x=0.8,\n",
    "            y=1.2,\n",
    "            buttons=list([\n",
    "                dict(label=\"Wave 1\",\n",
    "                     method=\"update\",\n",
    "                     args=[{\"visible\": [True, True, False, False, False, False, False, False]},\n",
    "                           {\"title\": \"Wave 1 - Mar/2016\"}]),\n",
    "                dict(label=\"Wave 2\",\n",
    "                     method=\"update\",\n",
    "                     args=[{\"visible\": [True, True, True, True,False, False, False, False]},\n",
    "                           {\"title\": \"Wave 2 - Aug/2016\"}]),\n",
    "                dict(label=\"Wave 4\",\n",
    "                     method=\"update\",\n",
    "                     args=[{\"visible\": [True, True, True,True, True, True, False, False]},\n",
    "                           {\"title\": \"Wave 4 - Aug/2017<br>Wire transfers\"}]),\n",
    "                dict(label=\"Wave 6\",\n",
    "                     method=\"update\",\n",
    "                     args=[{\"visible\": [True, True, True, True, True, True, True, True]},\n",
    "                           {\"title\": \"Wave 6 - Fev/2018<br>US$300,000 and Cryptocurrencies\"}]),\n",
    "            ]),\n",
    "        )\n",
    "    ])\n",
    "\n",
    "# Set title\n",
    "fig.update_layout(\n",
    "    title_text=\"GTO Waves\",\n",
    "    xaxis_domain=[0.05, 1.0],\n",
    ")\n",
    "\n",
    "fig.show()"
   ]
  },
  {
   "cell_type": "code",
   "execution_count": 14,
   "metadata": {},
   "outputs": [],
   "source": [
    "fig.write_html(\"../images/jm_GTO_map_waves.html\")"
   ]
  },
  {
   "cell_type": "code",
   "execution_count": 16,
   "metadata": {},
   "outputs": [
    {
     "data": {
      "text/plain": [
       "(700, 500)"
      ]
     },
     "execution_count": 16,
     "metadata": {},
     "output_type": "execute_result"
    }
   ],
   "source": [
    "# workaround to find image size\n",
    "fig.write_image(\"../images/fig1.png\")\n",
    "\n",
    "from PIL import Image\n",
    "im=Image.open(\"../images/fig1.png\")\n",
    "im.size # (width,height) tuple"
   ]
  },
  {
   "cell_type": "markdown",
   "metadata": {},
   "source": [
    "### Organize zillow data to plot"
   ]
  },
  {
   "cell_type": "code",
   "execution_count": 79,
   "metadata": {},
   "outputs": [
    {
     "data": {
      "text/html": [
       "<div>\n",
       "<style scoped>\n",
       "    .dataframe tbody tr th:only-of-type {\n",
       "        vertical-align: middle;\n",
       "    }\n",
       "\n",
       "    .dataframe tbody tr th {\n",
       "        vertical-align: top;\n",
       "    }\n",
       "\n",
       "    .dataframe thead th {\n",
       "        text-align: right;\n",
       "    }\n",
       "</style>\n",
       "<table border=\"1\" class=\"dataframe\">\n",
       "  <thead>\n",
       "    <tr style=\"text-align: right;\">\n",
       "      <th></th>\n",
       "      <th>FIPS</th>\n",
       "      <th>Date</th>\n",
       "      <th>RegionName</th>\n",
       "      <th>State</th>\n",
       "      <th>price_mid</th>\n",
       "      <th>logprice_mid</th>\n",
       "      <th>price_pct_mid</th>\n",
       "      <th>price_TOP</th>\n",
       "      <th>logprice_TOP</th>\n",
       "      <th>price_pct_TOP</th>\n",
       "    </tr>\n",
       "  </thead>\n",
       "  <tbody>\n",
       "    <tr>\n",
       "      <th>0</th>\n",
       "      <td>01001</td>\n",
       "      <td>2014-01</td>\n",
       "      <td>Autauga</td>\n",
       "      <td>AL</td>\n",
       "      <td>140007</td>\n",
       "      <td>11.85</td>\n",
       "      <td>0.00</td>\n",
       "      <td>217585</td>\n",
       "      <td>12.29</td>\n",
       "      <td>0.00</td>\n",
       "    </tr>\n",
       "    <tr>\n",
       "      <th>1</th>\n",
       "      <td>01001</td>\n",
       "      <td>2014-02</td>\n",
       "      <td>Autauga</td>\n",
       "      <td>AL</td>\n",
       "      <td>140229</td>\n",
       "      <td>11.85</td>\n",
       "      <td>0.00</td>\n",
       "      <td>217863</td>\n",
       "      <td>12.29</td>\n",
       "      <td>0.00</td>\n",
       "    </tr>\n",
       "    <tr>\n",
       "      <th>2</th>\n",
       "      <td>01001</td>\n",
       "      <td>2014-03</td>\n",
       "      <td>Autauga</td>\n",
       "      <td>AL</td>\n",
       "      <td>140479</td>\n",
       "      <td>11.85</td>\n",
       "      <td>0.00</td>\n",
       "      <td>218157</td>\n",
       "      <td>12.29</td>\n",
       "      <td>0.00</td>\n",
       "    </tr>\n",
       "    <tr>\n",
       "      <th>3</th>\n",
       "      <td>01001</td>\n",
       "      <td>2014-04</td>\n",
       "      <td>Autauga</td>\n",
       "      <td>AL</td>\n",
       "      <td>140779</td>\n",
       "      <td>11.85</td>\n",
       "      <td>0.00</td>\n",
       "      <td>218551</td>\n",
       "      <td>12.29</td>\n",
       "      <td>0.00</td>\n",
       "    </tr>\n",
       "    <tr>\n",
       "      <th>4</th>\n",
       "      <td>01001</td>\n",
       "      <td>2014-05</td>\n",
       "      <td>Autauga</td>\n",
       "      <td>AL</td>\n",
       "      <td>141139</td>\n",
       "      <td>11.86</td>\n",
       "      <td>0.00</td>\n",
       "      <td>219047</td>\n",
       "      <td>12.30</td>\n",
       "      <td>0.00</td>\n",
       "    </tr>\n",
       "    <tr>\n",
       "      <th>...</th>\n",
       "      <td>...</td>\n",
       "      <td>...</td>\n",
       "      <td>...</td>\n",
       "      <td>...</td>\n",
       "      <td>...</td>\n",
       "      <td>...</td>\n",
       "      <td>...</td>\n",
       "      <td>...</td>\n",
       "      <td>...</td>\n",
       "      <td>...</td>\n",
       "    </tr>\n",
       "    <tr>\n",
       "      <th>199570</th>\n",
       "      <td>56045</td>\n",
       "      <td>2019-11</td>\n",
       "      <td>Weston</td>\n",
       "      <td>WY</td>\n",
       "      <td>183719</td>\n",
       "      <td>12.12</td>\n",
       "      <td>0.00</td>\n",
       "      <td>273364</td>\n",
       "      <td>12.52</td>\n",
       "      <td>0.00</td>\n",
       "    </tr>\n",
       "    <tr>\n",
       "      <th>199571</th>\n",
       "      <td>56045</td>\n",
       "      <td>2019-12</td>\n",
       "      <td>Weston</td>\n",
       "      <td>WY</td>\n",
       "      <td>183927</td>\n",
       "      <td>12.12</td>\n",
       "      <td>0.00</td>\n",
       "      <td>273331</td>\n",
       "      <td>12.52</td>\n",
       "      <td>-0.00</td>\n",
       "    </tr>\n",
       "    <tr>\n",
       "      <th>199572</th>\n",
       "      <td>56045</td>\n",
       "      <td>2020-01</td>\n",
       "      <td>Weston</td>\n",
       "      <td>WY</td>\n",
       "      <td>184089</td>\n",
       "      <td>12.12</td>\n",
       "      <td>0.00</td>\n",
       "      <td>273177</td>\n",
       "      <td>12.52</td>\n",
       "      <td>-0.00</td>\n",
       "    </tr>\n",
       "    <tr>\n",
       "      <th>199573</th>\n",
       "      <td>56045</td>\n",
       "      <td>2020-02</td>\n",
       "      <td>Weston</td>\n",
       "      <td>WY</td>\n",
       "      <td>184259</td>\n",
       "      <td>12.12</td>\n",
       "      <td>0.00</td>\n",
       "      <td>273281</td>\n",
       "      <td>12.52</td>\n",
       "      <td>0.00</td>\n",
       "    </tr>\n",
       "    <tr>\n",
       "      <th>199574</th>\n",
       "      <td>56045</td>\n",
       "      <td>2020-03</td>\n",
       "      <td>Weston</td>\n",
       "      <td>WY</td>\n",
       "      <td>184409</td>\n",
       "      <td>12.12</td>\n",
       "      <td>0.00</td>\n",
       "      <td>273355</td>\n",
       "      <td>12.52</td>\n",
       "      <td>0.00</td>\n",
       "    </tr>\n",
       "  </tbody>\n",
       "</table>\n",
       "<p>199575 rows × 10 columns</p>\n",
       "</div>"
      ],
      "text/plain": [
       "         FIPS     Date RegionName State  price_mid  logprice_mid  \\\n",
       "0       01001  2014-01    Autauga    AL     140007         11.85   \n",
       "1       01001  2014-02    Autauga    AL     140229         11.85   \n",
       "2       01001  2014-03    Autauga    AL     140479         11.85   \n",
       "3       01001  2014-04    Autauga    AL     140779         11.85   \n",
       "4       01001  2014-05    Autauga    AL     141139         11.86   \n",
       "...       ...      ...        ...   ...        ...           ...   \n",
       "199570  56045  2019-11     Weston    WY     183719         12.12   \n",
       "199571  56045  2019-12     Weston    WY     183927         12.12   \n",
       "199572  56045  2020-01     Weston    WY     184089         12.12   \n",
       "199573  56045  2020-02     Weston    WY     184259         12.12   \n",
       "199574  56045  2020-03     Weston    WY     184409         12.12   \n",
       "\n",
       "        price_pct_mid  price_TOP  logprice_TOP  price_pct_TOP  \n",
       "0                0.00     217585         12.29           0.00  \n",
       "1                0.00     217863         12.29           0.00  \n",
       "2                0.00     218157         12.29           0.00  \n",
       "3                0.00     218551         12.29           0.00  \n",
       "4                0.00     219047         12.30           0.00  \n",
       "...               ...        ...           ...            ...  \n",
       "199570           0.00     273364         12.52           0.00  \n",
       "199571           0.00     273331         12.52          -0.00  \n",
       "199572           0.00     273177         12.52          -0.00  \n",
       "199573           0.00     273281         12.52           0.00  \n",
       "199574           0.00     273355         12.52           0.00  \n",
       "\n",
       "[199575 rows x 10 columns]"
      ]
     },
     "execution_count": 79,
     "metadata": {},
     "output_type": "execute_result"
    }
   ],
   "source": [
    "# load price data and format Date as YYYY-MM\n",
    "df = (pd.read_csv('../output/tbl_reg.csv',\n",
    "                  dtype={'FIPS': object,'price_mid':'Int64',  'price_TOP':'Int64'},\n",
    "                  usecols=['FIPS', 'Date', 'RegionName', 'State',\n",
    "                           'price_mid', 'price_TOP',\n",
    "                           'logprice_mid', 'logprice_TOP',\n",
    "                           'price_pct_mid', 'price_pct_TOP',\n",
    "                           ]))\n",
    "\n",
    "df.Date = df.Date.str.slice(stop=7) # YYYY-MM date \n",
    "df.RegionName = df.RegionName.str.slice(stop=-7) # drop word \"County\"\n",
    "df"
   ]
  },
  {
   "cell_type": "code",
   "execution_count": 71,
   "metadata": {},
   "outputs": [
    {
     "data": {
      "text/html": [
       "<div>\n",
       "<style scoped>\n",
       "    .dataframe tbody tr th:only-of-type {\n",
       "        vertical-align: middle;\n",
       "    }\n",
       "\n",
       "    .dataframe tbody tr th {\n",
       "        vertical-align: top;\n",
       "    }\n",
       "\n",
       "    .dataframe thead th {\n",
       "        text-align: right;\n",
       "    }\n",
       "</style>\n",
       "<table border=\"1\" class=\"dataframe\">\n",
       "  <thead>\n",
       "    <tr style=\"text-align: right;\">\n",
       "      <th></th>\n",
       "      <th>FIPS</th>\n",
       "      <th>Date</th>\n",
       "      <th>RegionName</th>\n",
       "      <th>State</th>\n",
       "      <th>price_mid</th>\n",
       "      <th>price_TOP</th>\n",
       "      <th>wave</th>\n",
       "      <th>threshold</th>\n",
       "    </tr>\n",
       "  </thead>\n",
       "  <tbody>\n",
       "    <tr>\n",
       "      <th>0</th>\n",
       "      <td>06037</td>\n",
       "      <td>2017-08</td>\n",
       "      <td>Los Angeles</td>\n",
       "      <td>CA</td>\n",
       "      <td>590637</td>\n",
       "      <td>1069290</td>\n",
       "      <td>wave_4</td>\n",
       "      <td>2000000</td>\n",
       "    </tr>\n",
       "    <tr>\n",
       "      <th>1</th>\n",
       "      <td>06037</td>\n",
       "      <td>2018-11</td>\n",
       "      <td>Los Angeles</td>\n",
       "      <td>CA</td>\n",
       "      <td>635840</td>\n",
       "      <td>1148162</td>\n",
       "      <td>wave_6</td>\n",
       "      <td>300000</td>\n",
       "    </tr>\n",
       "    <tr>\n",
       "      <th>2</th>\n",
       "      <td>06073</td>\n",
       "      <td>2017-08</td>\n",
       "      <td>San Diego</td>\n",
       "      <td>CA</td>\n",
       "      <td>564548</td>\n",
       "      <td>889612</td>\n",
       "      <td>wave_4</td>\n",
       "      <td>2000000</td>\n",
       "    </tr>\n",
       "    <tr>\n",
       "      <th>3</th>\n",
       "      <td>06073</td>\n",
       "      <td>2018-11</td>\n",
       "      <td>San Diego</td>\n",
       "      <td>CA</td>\n",
       "      <td>600862</td>\n",
       "      <td>942417</td>\n",
       "      <td>wave_6</td>\n",
       "      <td>300000</td>\n",
       "    </tr>\n",
       "    <tr>\n",
       "      <th>4</th>\n",
       "      <td>06075</td>\n",
       "      <td>2017-08</td>\n",
       "      <td>San Francisco</td>\n",
       "      <td>CA</td>\n",
       "      <td>1271961</td>\n",
       "      <td>1969357</td>\n",
       "      <td>wave_4</td>\n",
       "      <td>2000000</td>\n",
       "    </tr>\n",
       "    <tr>\n",
       "      <th>5</th>\n",
       "      <td>06075</td>\n",
       "      <td>2018-11</td>\n",
       "      <td>San Francisco</td>\n",
       "      <td>CA</td>\n",
       "      <td>1413393</td>\n",
       "      <td>2129459</td>\n",
       "      <td>wave_6</td>\n",
       "      <td>300000</td>\n",
       "    </tr>\n",
       "    <tr>\n",
       "      <th>6</th>\n",
       "      <td>06081</td>\n",
       "      <td>2017-08</td>\n",
       "      <td>San Mateo</td>\n",
       "      <td>CA</td>\n",
       "      <td>1219278</td>\n",
       "      <td>2015865</td>\n",
       "      <td>wave_4</td>\n",
       "      <td>2000000</td>\n",
       "    </tr>\n",
       "    <tr>\n",
       "      <th>7</th>\n",
       "      <td>06081</td>\n",
       "      <td>2018-11</td>\n",
       "      <td>San Mateo</td>\n",
       "      <td>CA</td>\n",
       "      <td>1418645</td>\n",
       "      <td>2325701</td>\n",
       "      <td>wave_6</td>\n",
       "      <td>300000</td>\n",
       "    </tr>\n",
       "    <tr>\n",
       "      <th>8</th>\n",
       "      <td>06085</td>\n",
       "      <td>2017-08</td>\n",
       "      <td>Santa Clara</td>\n",
       "      <td>CA</td>\n",
       "      <td>1093447</td>\n",
       "      <td>1893576</td>\n",
       "      <td>wave_4</td>\n",
       "      <td>2000000</td>\n",
       "    </tr>\n",
       "    <tr>\n",
       "      <th>9</th>\n",
       "      <td>06085</td>\n",
       "      <td>2018-11</td>\n",
       "      <td>Santa Clara</td>\n",
       "      <td>CA</td>\n",
       "      <td>1298463</td>\n",
       "      <td>2211754</td>\n",
       "      <td>wave_6</td>\n",
       "      <td>300000</td>\n",
       "    </tr>\n",
       "    <tr>\n",
       "      <th>10</th>\n",
       "      <td>12011</td>\n",
       "      <td>2017-08</td>\n",
       "      <td>Broward</td>\n",
       "      <td>FL</td>\n",
       "      <td>254131</td>\n",
       "      <td>431528</td>\n",
       "      <td>wave_4</td>\n",
       "      <td>1000000</td>\n",
       "    </tr>\n",
       "    <tr>\n",
       "      <th>11</th>\n",
       "      <td>12011</td>\n",
       "      <td>2018-11</td>\n",
       "      <td>Broward</td>\n",
       "      <td>FL</td>\n",
       "      <td>275854</td>\n",
       "      <td>456677</td>\n",
       "      <td>wave_6</td>\n",
       "      <td>300000</td>\n",
       "    </tr>\n",
       "    <tr>\n",
       "      <th>12</th>\n",
       "      <td>12086</td>\n",
       "      <td>2017-08</td>\n",
       "      <td>Miami-Dade</td>\n",
       "      <td>FL</td>\n",
       "      <td>290909</td>\n",
       "      <td>515414</td>\n",
       "      <td>wave_4</td>\n",
       "      <td>1000000</td>\n",
       "    </tr>\n",
       "    <tr>\n",
       "      <th>13</th>\n",
       "      <td>12086</td>\n",
       "      <td>2018-11</td>\n",
       "      <td>Miami-Dade</td>\n",
       "      <td>FL</td>\n",
       "      <td>311997</td>\n",
       "      <td>539452</td>\n",
       "      <td>wave_6</td>\n",
       "      <td>300000</td>\n",
       "    </tr>\n",
       "    <tr>\n",
       "      <th>14</th>\n",
       "      <td>12099</td>\n",
       "      <td>2017-08</td>\n",
       "      <td>Palm Beach</td>\n",
       "      <td>FL</td>\n",
       "      <td>272313</td>\n",
       "      <td>505695</td>\n",
       "      <td>wave_4</td>\n",
       "      <td>1000000</td>\n",
       "    </tr>\n",
       "    <tr>\n",
       "      <th>15</th>\n",
       "      <td>12099</td>\n",
       "      <td>2018-11</td>\n",
       "      <td>Palm Beach</td>\n",
       "      <td>FL</td>\n",
       "      <td>289962</td>\n",
       "      <td>529428</td>\n",
       "      <td>wave_6</td>\n",
       "      <td>300000</td>\n",
       "    </tr>\n",
       "    <tr>\n",
       "      <th>16</th>\n",
       "      <td>15003</td>\n",
       "      <td>2017-08</td>\n",
       "      <td>Honolulu</td>\n",
       "      <td>HI</td>\n",
       "      <td>681030</td>\n",
       "      <td>1035088</td>\n",
       "      <td>wave_4</td>\n",
       "      <td>3000000</td>\n",
       "    </tr>\n",
       "    <tr>\n",
       "      <th>17</th>\n",
       "      <td>15003</td>\n",
       "      <td>2018-11</td>\n",
       "      <td>Honolulu</td>\n",
       "      <td>HI</td>\n",
       "      <td>709429</td>\n",
       "      <td>1074781</td>\n",
       "      <td>wave_6</td>\n",
       "      <td>300000</td>\n",
       "    </tr>\n",
       "    <tr>\n",
       "      <th>18</th>\n",
       "      <td>17031</td>\n",
       "      <td>2018-11</td>\n",
       "      <td>Cook</td>\n",
       "      <td>IL</td>\n",
       "      <td>247090</td>\n",
       "      <td>434514</td>\n",
       "      <td>wave_6</td>\n",
       "      <td>300000</td>\n",
       "    </tr>\n",
       "    <tr>\n",
       "      <th>19</th>\n",
       "      <td>25017</td>\n",
       "      <td>2018-11</td>\n",
       "      <td>Middlesex</td>\n",
       "      <td>MA</td>\n",
       "      <td>560437</td>\n",
       "      <td>902023</td>\n",
       "      <td>wave_6</td>\n",
       "      <td>300000</td>\n",
       "    </tr>\n",
       "    <tr>\n",
       "      <th>20</th>\n",
       "      <td>25025</td>\n",
       "      <td>2018-11</td>\n",
       "      <td>Suffolk</td>\n",
       "      <td>MA</td>\n",
       "      <td>591986</td>\n",
       "      <td>991610</td>\n",
       "      <td>wave_6</td>\n",
       "      <td>300000</td>\n",
       "    </tr>\n",
       "    <tr>\n",
       "      <th>21</th>\n",
       "      <td>32003</td>\n",
       "      <td>2018-11</td>\n",
       "      <td>Clark</td>\n",
       "      <td>NV</td>\n",
       "      <td>285483</td>\n",
       "      <td>407196</td>\n",
       "      <td>wave_6</td>\n",
       "      <td>300000</td>\n",
       "    </tr>\n",
       "    <tr>\n",
       "      <th>22</th>\n",
       "      <td>36005</td>\n",
       "      <td>2017-08</td>\n",
       "      <td>Bronx</td>\n",
       "      <td>NY</td>\n",
       "      <td>263383</td>\n",
       "      <td>459662</td>\n",
       "      <td>wave_4</td>\n",
       "      <td>1500000</td>\n",
       "    </tr>\n",
       "    <tr>\n",
       "      <th>23</th>\n",
       "      <td>36005</td>\n",
       "      <td>2018-11</td>\n",
       "      <td>Bronx</td>\n",
       "      <td>NY</td>\n",
       "      <td>289186</td>\n",
       "      <td>508407</td>\n",
       "      <td>wave_6</td>\n",
       "      <td>300000</td>\n",
       "    </tr>\n",
       "    <tr>\n",
       "      <th>24</th>\n",
       "      <td>36047</td>\n",
       "      <td>2017-08</td>\n",
       "      <td>Kings</td>\n",
       "      <td>NY</td>\n",
       "      <td>620049</td>\n",
       "      <td>1124131</td>\n",
       "      <td>wave_4</td>\n",
       "      <td>1500000</td>\n",
       "    </tr>\n",
       "    <tr>\n",
       "      <th>25</th>\n",
       "      <td>36047</td>\n",
       "      <td>2018-11</td>\n",
       "      <td>Kings</td>\n",
       "      <td>NY</td>\n",
       "      <td>668589</td>\n",
       "      <td>1191665</td>\n",
       "      <td>wave_6</td>\n",
       "      <td>300000</td>\n",
       "    </tr>\n",
       "    <tr>\n",
       "      <th>26</th>\n",
       "      <td>36061</td>\n",
       "      <td>2017-08</td>\n",
       "      <td>New York</td>\n",
       "      <td>NY</td>\n",
       "      <td>1031181</td>\n",
       "      <td>2035607</td>\n",
       "      <td>wave_4</td>\n",
       "      <td>3000000</td>\n",
       "    </tr>\n",
       "    <tr>\n",
       "      <th>27</th>\n",
       "      <td>36061</td>\n",
       "      <td>2018-11</td>\n",
       "      <td>New York</td>\n",
       "      <td>NY</td>\n",
       "      <td>1075043</td>\n",
       "      <td>2035136</td>\n",
       "      <td>wave_6</td>\n",
       "      <td>300000</td>\n",
       "    </tr>\n",
       "    <tr>\n",
       "      <th>28</th>\n",
       "      <td>36081</td>\n",
       "      <td>2017-08</td>\n",
       "      <td>Queens</td>\n",
       "      <td>NY</td>\n",
       "      <td>481794</td>\n",
       "      <td>785883</td>\n",
       "      <td>wave_4</td>\n",
       "      <td>1500000</td>\n",
       "    </tr>\n",
       "    <tr>\n",
       "      <th>29</th>\n",
       "      <td>36081</td>\n",
       "      <td>2018-11</td>\n",
       "      <td>Queens</td>\n",
       "      <td>NY</td>\n",
       "      <td>529387</td>\n",
       "      <td>851169</td>\n",
       "      <td>wave_6</td>\n",
       "      <td>300000</td>\n",
       "    </tr>\n",
       "    <tr>\n",
       "      <th>30</th>\n",
       "      <td>36085</td>\n",
       "      <td>2017-08</td>\n",
       "      <td>Richmond</td>\n",
       "      <td>NY</td>\n",
       "      <td>503770</td>\n",
       "      <td>665689</td>\n",
       "      <td>wave_4</td>\n",
       "      <td>1500000</td>\n",
       "    </tr>\n",
       "    <tr>\n",
       "      <th>31</th>\n",
       "      <td>36085</td>\n",
       "      <td>2018-11</td>\n",
       "      <td>Richmond</td>\n",
       "      <td>NY</td>\n",
       "      <td>556041</td>\n",
       "      <td>725667</td>\n",
       "      <td>wave_6</td>\n",
       "      <td>300000</td>\n",
       "    </tr>\n",
       "    <tr>\n",
       "      <th>32</th>\n",
       "      <td>48029</td>\n",
       "      <td>2017-08</td>\n",
       "      <td>Bexar</td>\n",
       "      <td>TX</td>\n",
       "      <td>171553</td>\n",
       "      <td>280871</td>\n",
       "      <td>wave_4</td>\n",
       "      <td>500000</td>\n",
       "    </tr>\n",
       "    <tr>\n",
       "      <th>33</th>\n",
       "      <td>48029</td>\n",
       "      <td>2018-11</td>\n",
       "      <td>Bexar</td>\n",
       "      <td>TX</td>\n",
       "      <td>182057</td>\n",
       "      <td>293087</td>\n",
       "      <td>wave_6</td>\n",
       "      <td>300000</td>\n",
       "    </tr>\n",
       "    <tr>\n",
       "      <th>34</th>\n",
       "      <td>48113</td>\n",
       "      <td>2018-11</td>\n",
       "      <td>Dallas</td>\n",
       "      <td>TX</td>\n",
       "      <td>211782</td>\n",
       "      <td>393306</td>\n",
       "      <td>wave_6</td>\n",
       "      <td>300000</td>\n",
       "    </tr>\n",
       "    <tr>\n",
       "      <th>35</th>\n",
       "      <td>48439</td>\n",
       "      <td>2018-11</td>\n",
       "      <td>Tarrant</td>\n",
       "      <td>TX</td>\n",
       "      <td>216765</td>\n",
       "      <td>339667</td>\n",
       "      <td>wave_6</td>\n",
       "      <td>300000</td>\n",
       "    </tr>\n",
       "    <tr>\n",
       "      <th>36</th>\n",
       "      <td>53033</td>\n",
       "      <td>2018-11</td>\n",
       "      <td>King</td>\n",
       "      <td>WA</td>\n",
       "      <td>657240</td>\n",
       "      <td>1065355</td>\n",
       "      <td>wave_6</td>\n",
       "      <td>300000</td>\n",
       "    </tr>\n",
       "  </tbody>\n",
       "</table>\n",
       "</div>"
      ],
      "text/plain": [
       "     FIPS     Date     RegionName State  price_mid  price_TOP    wave  \\\n",
       "0   06037  2017-08    Los Angeles    CA     590637    1069290  wave_4   \n",
       "1   06037  2018-11    Los Angeles    CA     635840    1148162  wave_6   \n",
       "2   06073  2017-08      San Diego    CA     564548     889612  wave_4   \n",
       "3   06073  2018-11      San Diego    CA     600862     942417  wave_6   \n",
       "4   06075  2017-08  San Francisco    CA    1271961    1969357  wave_4   \n",
       "5   06075  2018-11  San Francisco    CA    1413393    2129459  wave_6   \n",
       "6   06081  2017-08      San Mateo    CA    1219278    2015865  wave_4   \n",
       "7   06081  2018-11      San Mateo    CA    1418645    2325701  wave_6   \n",
       "8   06085  2017-08    Santa Clara    CA    1093447    1893576  wave_4   \n",
       "9   06085  2018-11    Santa Clara    CA    1298463    2211754  wave_6   \n",
       "10  12011  2017-08        Broward    FL     254131     431528  wave_4   \n",
       "11  12011  2018-11        Broward    FL     275854     456677  wave_6   \n",
       "12  12086  2017-08     Miami-Dade    FL     290909     515414  wave_4   \n",
       "13  12086  2018-11     Miami-Dade    FL     311997     539452  wave_6   \n",
       "14  12099  2017-08     Palm Beach    FL     272313     505695  wave_4   \n",
       "15  12099  2018-11     Palm Beach    FL     289962     529428  wave_6   \n",
       "16  15003  2017-08       Honolulu    HI     681030    1035088  wave_4   \n",
       "17  15003  2018-11       Honolulu    HI     709429    1074781  wave_6   \n",
       "18  17031  2018-11           Cook    IL     247090     434514  wave_6   \n",
       "19  25017  2018-11      Middlesex    MA     560437     902023  wave_6   \n",
       "20  25025  2018-11        Suffolk    MA     591986     991610  wave_6   \n",
       "21  32003  2018-11          Clark    NV     285483     407196  wave_6   \n",
       "22  36005  2017-08          Bronx    NY     263383     459662  wave_4   \n",
       "23  36005  2018-11          Bronx    NY     289186     508407  wave_6   \n",
       "24  36047  2017-08          Kings    NY     620049    1124131  wave_4   \n",
       "25  36047  2018-11          Kings    NY     668589    1191665  wave_6   \n",
       "26  36061  2017-08       New York    NY    1031181    2035607  wave_4   \n",
       "27  36061  2018-11       New York    NY    1075043    2035136  wave_6   \n",
       "28  36081  2017-08         Queens    NY     481794     785883  wave_4   \n",
       "29  36081  2018-11         Queens    NY     529387     851169  wave_6   \n",
       "30  36085  2017-08       Richmond    NY     503770     665689  wave_4   \n",
       "31  36085  2018-11       Richmond    NY     556041     725667  wave_6   \n",
       "32  48029  2017-08          Bexar    TX     171553     280871  wave_4   \n",
       "33  48029  2018-11          Bexar    TX     182057     293087  wave_6   \n",
       "34  48113  2018-11         Dallas    TX     211782     393306  wave_6   \n",
       "35  48439  2018-11        Tarrant    TX     216765     339667  wave_6   \n",
       "36  53033  2018-11           King    WA     657240    1065355  wave_6   \n",
       "\n",
       "    threshold  \n",
       "0     2000000  \n",
       "1      300000  \n",
       "2     2000000  \n",
       "3      300000  \n",
       "4     2000000  \n",
       "5      300000  \n",
       "6     2000000  \n",
       "7      300000  \n",
       "8     2000000  \n",
       "9      300000  \n",
       "10    1000000  \n",
       "11     300000  \n",
       "12    1000000  \n",
       "13     300000  \n",
       "14    1000000  \n",
       "15     300000  \n",
       "16    3000000  \n",
       "17     300000  \n",
       "18     300000  \n",
       "19     300000  \n",
       "20     300000  \n",
       "21     300000  \n",
       "22    1500000  \n",
       "23     300000  \n",
       "24    1500000  \n",
       "25     300000  \n",
       "26    3000000  \n",
       "27     300000  \n",
       "28    1500000  \n",
       "29     300000  \n",
       "30    1500000  \n",
       "31     300000  \n",
       "32     500000  \n",
       "33     300000  \n",
       "34     300000  \n",
       "35     300000  \n",
       "36     300000  "
      ]
     },
     "execution_count": 71,
     "metadata": {},
     "output_type": "execute_result"
    }
   ],
   "source": [
    "# Table in long form to plot\n",
    "df_thres = df.drop(['logprice_mid', 'logprice_TOP','price_pct_mid', 'price_pct_TOP'],1).copy()\n",
    "df_thres = pd.merge(df_thres , GTO.drop('date enforcement',1) , on = ['FIPS', 'Date'])\n",
    "df_thres"
   ]
  },
  {
   "cell_type": "code",
   "execution_count": 72,
   "metadata": {
    "scrolled": false
   },
   "outputs": [
    {
     "data": {
      "text/plain": [
       "32            Bexar\n",
       "10          Broward\n",
       "14       Palm Beach\n",
       "12       Miami-Dade\n",
       "22            Bronx\n",
       "28           Queens\n",
       "30         Richmond\n",
       "24            Kings\n",
       "2         San Diego\n",
       "0       Los Angeles\n",
       "8       Santa Clara\n",
       "6         San Mateo\n",
       "4     San Francisco\n",
       "16         Honolulu\n",
       "26         New York\n",
       "Name: RegionName, dtype: object"
      ]
     },
     "execution_count": 72,
     "metadata": {},
     "output_type": "execute_result"
    }
   ],
   "source": [
    "# keep track of order by threshold (to have a nice plot for 4th wave)\n",
    "ordering_region = (df_thres[df_thres.wave=='wave_4'].\n",
    "                    sort_values(['threshold','price_mid', 'price_TOP']).\n",
    "                    loc[:,'RegionName'])\n",
    "ordering_region"
   ]
  },
  {
   "cell_type": "code",
   "execution_count": 73,
   "metadata": {},
   "outputs": [],
   "source": [
    "df_thres  = (df_thres.melt(id_vars=['FIPS', 'RegionName', 'State','Date', 'wave'], \n",
    "                           value_vars= ['price_mid', 'price_TOP', 'threshold'],\n",
    "                           var_name='tier', value_name = 'value'))"
   ]
  },
  {
   "cell_type": "code",
   "execution_count": 74,
   "metadata": {},
   "outputs": [],
   "source": [
    "# ordering categories: both plots will use this ordered\n",
    "ordering = [\"price_mid\",\"price_TOP\",\"threshold\"]  \n",
    "df_thres['tier'] = pd.Categorical(df_thres['tier'], categories=ordering) \n",
    "df_thres = df_thres.sort_values(['tier','value'])"
   ]
  },
  {
   "cell_type": "code",
   "execution_count": 75,
   "metadata": {},
   "outputs": [],
   "source": [
    "# on a df copy, apply the order by thresholds (saved before) for the 4th wave, for a nice plot\n",
    "df_4 = df_thres .copy()\n",
    "df_4['RegionName'] = pd.Categorical(df_thres['RegionName'], categories=ordering_region) \n",
    "df_4 = df_4.sort_values(['RegionName'])"
   ]
  },
  {
   "cell_type": "code",
   "execution_count": 76,
   "metadata": {},
   "outputs": [
    {
     "data": {
      "text/plain": [
       "'rgb(0.424750656167979, 0.8519160104986876, 0.8120472440944881)'"
      ]
     },
     "execution_count": 76,
     "metadata": {},
     "output_type": "execute_result"
    }
   ],
   "source": [
    "col_new[1]"
   ]
  },
  {
   "cell_type": "code",
   "execution_count": 162,
   "metadata": {},
   "outputs": [
    {
     "data": {
      "application/vnd.plotly.v1+json": {
       "config": {
        "plotlyServerURL": "https://plot.ly"
       },
       "data": [
        {
         "alignmentgroup": "True",
         "hovertemplate": " =%{x}<br>US$=%{y}<extra></extra>",
         "legendgroup": "price_mid",
         "marker": {
          "color": "lightgray"
         },
         "name": "price_mid",
         "offsetgroup": "price_mid",
         "orientation": "v",
         "showlegend": true,
         "textposition": "auto",
         "type": "bar",
         "x": [
          "Bexar",
          "Broward",
          "Palm Beach",
          "Miami-Dade",
          "Bronx",
          "Queens",
          "Richmond",
          "Kings",
          "San Diego",
          "Los Angeles",
          "Santa Clara",
          "San Mateo",
          "San Francisco",
          "Honolulu",
          "New York"
         ],
         "xaxis": "x",
         "y": [
          171553,
          254131,
          272313,
          290909,
          263383,
          481794,
          503770,
          620049,
          564548,
          590637,
          1093447,
          1219278,
          1271961,
          681030,
          1031181
         ],
         "yaxis": "y"
        },
        {
         "alignmentgroup": "True",
         "hovertemplate": " =%{x}<br>US$=%{y}<extra></extra>",
         "legendgroup": "price_TOP",
         "marker": {
          "color": "#0EDBE9"
         },
         "name": "price_TOP",
         "offsetgroup": "price_TOP",
         "orientation": "v",
         "showlegend": true,
         "textposition": "auto",
         "type": "bar",
         "x": [
          "Bexar",
          "Broward",
          "Palm Beach",
          "Miami-Dade",
          "Bronx",
          "Queens",
          "Richmond",
          "Kings",
          "San Diego",
          "Los Angeles",
          "Santa Clara",
          "San Mateo",
          "San Francisco",
          "Honolulu",
          "New York"
         ],
         "xaxis": "x",
         "y": [
          280871,
          431528,
          505695,
          515414,
          459662,
          785883,
          665689,
          1124131,
          889612,
          1069290,
          1893576,
          2015865,
          1969357,
          1035088,
          2035607
         ],
         "yaxis": "y"
        },
        {
         "mode": "text",
         "name": "threshold",
         "showlegend": false,
         "text": [
          "500k",
          "1MM",
          "2MM",
          "3MM"
         ],
         "textfont": {
          "color": "red",
          "size": 10
         },
         "textposition": "top center",
         "type": "scatter",
         "x": [
          "Bexar",
          "Broward",
          "San Diego",
          "Honolulu"
         ],
         "y": [
          550000,
          1050000,
          2050000,
          3050000
         ]
        }
       ],
       "layout": {
        "annotations": [
         {
          "font": {
           "color": "rgb(150,150,150)",
           "family": "Arial",
           "size": 12
          },
          "showarrow": false,
          "text": "Source: FinCEN / US Treasury",
          "x": 0,
          "xanchor": "left",
          "xref": "paper",
          "y": -0.16,
          "yanchor": "top",
          "yref": "paper"
         }
        ],
        "barmode": "group",
        "legend": {
         "title": {
          "text": " "
         },
         "tracegroupgap": 0
        },
        "shapes": [
         {
          "line": {
           "color": "#e3120b",
           "width": 2
          },
          "type": "line",
          "x0": -0.5,
          "x1": 0.5,
          "y0": 500000,
          "y1": 500000
         },
         {
          "line": {
           "color": "#e3120b",
           "width": 2
          },
          "type": "line",
          "x0": 0.5,
          "x1": 3.5,
          "y0": 1000000,
          "y1": 1000000
         },
         {
          "line": {
           "color": "#e3120b",
           "width": 2
          },
          "type": "line",
          "x0": 3.5,
          "x1": 8.5,
          "y0": 2000000,
          "y1": 2000000
         },
         {
          "line": {
           "color": "#e3120b",
           "width": 2
          },
          "type": "line",
          "x0": 8.5,
          "x1": 14.5,
          "y0": 3000000,
          "y1": 3000000
         },
         {
          "line": {
           "color": "gray",
           "dash": "dash",
           "width": 2
          },
          "type": "line",
          "x0": 0.5,
          "x1": 0.5,
          "y0": 0,
          "y1": 1200000
         },
         {
          "line": {
           "color": "gray",
           "dash": "dash",
           "width": 2
          },
          "type": "line",
          "x0": 3.5,
          "x1": 3.5,
          "y0": 0,
          "y1": 2200000
         },
         {
          "line": {
           "color": "gray",
           "dash": "dash",
           "width": 2
          },
          "type": "line",
          "x0": 8.5,
          "x1": 8.5,
          "y0": 0,
          "y1": 3200000
         }
        ],
        "template": {
         "data": {
          "bar": [
           {
            "error_x": {
             "color": "#2a3f5f"
            },
            "error_y": {
             "color": "#2a3f5f"
            },
            "marker": {
             "line": {
              "color": "white",
              "width": 0.5
             }
            },
            "type": "bar"
           }
          ],
          "barpolar": [
           {
            "marker": {
             "line": {
              "color": "white",
              "width": 0.5
             }
            },
            "type": "barpolar"
           }
          ],
          "carpet": [
           {
            "aaxis": {
             "endlinecolor": "#2a3f5f",
             "gridcolor": "#C8D4E3",
             "linecolor": "#C8D4E3",
             "minorgridcolor": "#C8D4E3",
             "startlinecolor": "#2a3f5f"
            },
            "baxis": {
             "endlinecolor": "#2a3f5f",
             "gridcolor": "#C8D4E3",
             "linecolor": "#C8D4E3",
             "minorgridcolor": "#C8D4E3",
             "startlinecolor": "#2a3f5f"
            },
            "type": "carpet"
           }
          ],
          "choropleth": [
           {
            "colorbar": {
             "outlinewidth": 0,
             "ticks": ""
            },
            "type": "choropleth"
           }
          ],
          "contour": [
           {
            "colorbar": {
             "outlinewidth": 0,
             "ticks": ""
            },
            "colorscale": [
             [
              0,
              "#0d0887"
             ],
             [
              0.1111111111111111,
              "#46039f"
             ],
             [
              0.2222222222222222,
              "#7201a8"
             ],
             [
              0.3333333333333333,
              "#9c179e"
             ],
             [
              0.4444444444444444,
              "#bd3786"
             ],
             [
              0.5555555555555556,
              "#d8576b"
             ],
             [
              0.6666666666666666,
              "#ed7953"
             ],
             [
              0.7777777777777778,
              "#fb9f3a"
             ],
             [
              0.8888888888888888,
              "#fdca26"
             ],
             [
              1,
              "#f0f921"
             ]
            ],
            "type": "contour"
           }
          ],
          "contourcarpet": [
           {
            "colorbar": {
             "outlinewidth": 0,
             "ticks": ""
            },
            "type": "contourcarpet"
           }
          ],
          "heatmap": [
           {
            "colorbar": {
             "outlinewidth": 0,
             "ticks": ""
            },
            "colorscale": [
             [
              0,
              "#0d0887"
             ],
             [
              0.1111111111111111,
              "#46039f"
             ],
             [
              0.2222222222222222,
              "#7201a8"
             ],
             [
              0.3333333333333333,
              "#9c179e"
             ],
             [
              0.4444444444444444,
              "#bd3786"
             ],
             [
              0.5555555555555556,
              "#d8576b"
             ],
             [
              0.6666666666666666,
              "#ed7953"
             ],
             [
              0.7777777777777778,
              "#fb9f3a"
             ],
             [
              0.8888888888888888,
              "#fdca26"
             ],
             [
              1,
              "#f0f921"
             ]
            ],
            "type": "heatmap"
           }
          ],
          "heatmapgl": [
           {
            "colorbar": {
             "outlinewidth": 0,
             "ticks": ""
            },
            "colorscale": [
             [
              0,
              "#0d0887"
             ],
             [
              0.1111111111111111,
              "#46039f"
             ],
             [
              0.2222222222222222,
              "#7201a8"
             ],
             [
              0.3333333333333333,
              "#9c179e"
             ],
             [
              0.4444444444444444,
              "#bd3786"
             ],
             [
              0.5555555555555556,
              "#d8576b"
             ],
             [
              0.6666666666666666,
              "#ed7953"
             ],
             [
              0.7777777777777778,
              "#fb9f3a"
             ],
             [
              0.8888888888888888,
              "#fdca26"
             ],
             [
              1,
              "#f0f921"
             ]
            ],
            "type": "heatmapgl"
           }
          ],
          "histogram": [
           {
            "marker": {
             "colorbar": {
              "outlinewidth": 0,
              "ticks": ""
             }
            },
            "type": "histogram"
           }
          ],
          "histogram2d": [
           {
            "colorbar": {
             "outlinewidth": 0,
             "ticks": ""
            },
            "colorscale": [
             [
              0,
              "#0d0887"
             ],
             [
              0.1111111111111111,
              "#46039f"
             ],
             [
              0.2222222222222222,
              "#7201a8"
             ],
             [
              0.3333333333333333,
              "#9c179e"
             ],
             [
              0.4444444444444444,
              "#bd3786"
             ],
             [
              0.5555555555555556,
              "#d8576b"
             ],
             [
              0.6666666666666666,
              "#ed7953"
             ],
             [
              0.7777777777777778,
              "#fb9f3a"
             ],
             [
              0.8888888888888888,
              "#fdca26"
             ],
             [
              1,
              "#f0f921"
             ]
            ],
            "type": "histogram2d"
           }
          ],
          "histogram2dcontour": [
           {
            "colorbar": {
             "outlinewidth": 0,
             "ticks": ""
            },
            "colorscale": [
             [
              0,
              "#0d0887"
             ],
             [
              0.1111111111111111,
              "#46039f"
             ],
             [
              0.2222222222222222,
              "#7201a8"
             ],
             [
              0.3333333333333333,
              "#9c179e"
             ],
             [
              0.4444444444444444,
              "#bd3786"
             ],
             [
              0.5555555555555556,
              "#d8576b"
             ],
             [
              0.6666666666666666,
              "#ed7953"
             ],
             [
              0.7777777777777778,
              "#fb9f3a"
             ],
             [
              0.8888888888888888,
              "#fdca26"
             ],
             [
              1,
              "#f0f921"
             ]
            ],
            "type": "histogram2dcontour"
           }
          ],
          "mesh3d": [
           {
            "colorbar": {
             "outlinewidth": 0,
             "ticks": ""
            },
            "type": "mesh3d"
           }
          ],
          "parcoords": [
           {
            "line": {
             "colorbar": {
              "outlinewidth": 0,
              "ticks": ""
             }
            },
            "type": "parcoords"
           }
          ],
          "pie": [
           {
            "automargin": true,
            "type": "pie"
           }
          ],
          "scatter": [
           {
            "marker": {
             "colorbar": {
              "outlinewidth": 0,
              "ticks": ""
             }
            },
            "type": "scatter"
           }
          ],
          "scatter3d": [
           {
            "line": {
             "colorbar": {
              "outlinewidth": 0,
              "ticks": ""
             }
            },
            "marker": {
             "colorbar": {
              "outlinewidth": 0,
              "ticks": ""
             }
            },
            "type": "scatter3d"
           }
          ],
          "scattercarpet": [
           {
            "marker": {
             "colorbar": {
              "outlinewidth": 0,
              "ticks": ""
             }
            },
            "type": "scattercarpet"
           }
          ],
          "scattergeo": [
           {
            "marker": {
             "colorbar": {
              "outlinewidth": 0,
              "ticks": ""
             }
            },
            "type": "scattergeo"
           }
          ],
          "scattergl": [
           {
            "marker": {
             "colorbar": {
              "outlinewidth": 0,
              "ticks": ""
             }
            },
            "type": "scattergl"
           }
          ],
          "scattermapbox": [
           {
            "marker": {
             "colorbar": {
              "outlinewidth": 0,
              "ticks": ""
             }
            },
            "type": "scattermapbox"
           }
          ],
          "scatterpolar": [
           {
            "marker": {
             "colorbar": {
              "outlinewidth": 0,
              "ticks": ""
             }
            },
            "type": "scatterpolar"
           }
          ],
          "scatterpolargl": [
           {
            "marker": {
             "colorbar": {
              "outlinewidth": 0,
              "ticks": ""
             }
            },
            "type": "scatterpolargl"
           }
          ],
          "scatterternary": [
           {
            "marker": {
             "colorbar": {
              "outlinewidth": 0,
              "ticks": ""
             }
            },
            "type": "scatterternary"
           }
          ],
          "surface": [
           {
            "colorbar": {
             "outlinewidth": 0,
             "ticks": ""
            },
            "colorscale": [
             [
              0,
              "#0d0887"
             ],
             [
              0.1111111111111111,
              "#46039f"
             ],
             [
              0.2222222222222222,
              "#7201a8"
             ],
             [
              0.3333333333333333,
              "#9c179e"
             ],
             [
              0.4444444444444444,
              "#bd3786"
             ],
             [
              0.5555555555555556,
              "#d8576b"
             ],
             [
              0.6666666666666666,
              "#ed7953"
             ],
             [
              0.7777777777777778,
              "#fb9f3a"
             ],
             [
              0.8888888888888888,
              "#fdca26"
             ],
             [
              1,
              "#f0f921"
             ]
            ],
            "type": "surface"
           }
          ],
          "table": [
           {
            "cells": {
             "fill": {
              "color": "#EBF0F8"
             },
             "line": {
              "color": "white"
             }
            },
            "header": {
             "fill": {
              "color": "#C8D4E3"
             },
             "line": {
              "color": "white"
             }
            },
            "type": "table"
           }
          ]
         },
         "layout": {
          "annotationdefaults": {
           "arrowcolor": "#2a3f5f",
           "arrowhead": 0,
           "arrowwidth": 1
          },
          "coloraxis": {
           "colorbar": {
            "outlinewidth": 0,
            "ticks": ""
           }
          },
          "colorscale": {
           "diverging": [
            [
             0,
             "#8e0152"
            ],
            [
             0.1,
             "#c51b7d"
            ],
            [
             0.2,
             "#de77ae"
            ],
            [
             0.3,
             "#f1b6da"
            ],
            [
             0.4,
             "#fde0ef"
            ],
            [
             0.5,
             "#f7f7f7"
            ],
            [
             0.6,
             "#e6f5d0"
            ],
            [
             0.7,
             "#b8e186"
            ],
            [
             0.8,
             "#7fbc41"
            ],
            [
             0.9,
             "#4d9221"
            ],
            [
             1,
             "#276419"
            ]
           ],
           "sequential": [
            [
             0,
             "#0d0887"
            ],
            [
             0.1111111111111111,
             "#46039f"
            ],
            [
             0.2222222222222222,
             "#7201a8"
            ],
            [
             0.3333333333333333,
             "#9c179e"
            ],
            [
             0.4444444444444444,
             "#bd3786"
            ],
            [
             0.5555555555555556,
             "#d8576b"
            ],
            [
             0.6666666666666666,
             "#ed7953"
            ],
            [
             0.7777777777777778,
             "#fb9f3a"
            ],
            [
             0.8888888888888888,
             "#fdca26"
            ],
            [
             1,
             "#f0f921"
            ]
           ],
           "sequentialminus": [
            [
             0,
             "#0d0887"
            ],
            [
             0.1111111111111111,
             "#46039f"
            ],
            [
             0.2222222222222222,
             "#7201a8"
            ],
            [
             0.3333333333333333,
             "#9c179e"
            ],
            [
             0.4444444444444444,
             "#bd3786"
            ],
            [
             0.5555555555555556,
             "#d8576b"
            ],
            [
             0.6666666666666666,
             "#ed7953"
            ],
            [
             0.7777777777777778,
             "#fb9f3a"
            ],
            [
             0.8888888888888888,
             "#fdca26"
            ],
            [
             1,
             "#f0f921"
            ]
           ]
          },
          "colorway": [
           "#636efa",
           "#EF553B",
           "#00cc96",
           "#ab63fa",
           "#FFA15A",
           "#19d3f3",
           "#FF6692",
           "#B6E880",
           "#FF97FF",
           "#FECB52"
          ],
          "font": {
           "color": "#2a3f5f"
          },
          "geo": {
           "bgcolor": "white",
           "lakecolor": "white",
           "landcolor": "white",
           "showlakes": true,
           "showland": true,
           "subunitcolor": "#C8D4E3"
          },
          "hoverlabel": {
           "align": "left"
          },
          "hovermode": "closest",
          "mapbox": {
           "style": "light"
          },
          "paper_bgcolor": "white",
          "plot_bgcolor": "white",
          "polar": {
           "angularaxis": {
            "gridcolor": "#EBF0F8",
            "linecolor": "#EBF0F8",
            "ticks": ""
           },
           "bgcolor": "white",
           "radialaxis": {
            "gridcolor": "#EBF0F8",
            "linecolor": "#EBF0F8",
            "ticks": ""
           }
          },
          "scene": {
           "xaxis": {
            "backgroundcolor": "white",
            "gridcolor": "#DFE8F3",
            "gridwidth": 2,
            "linecolor": "#EBF0F8",
            "showbackground": true,
            "ticks": "",
            "zerolinecolor": "#EBF0F8"
           },
           "yaxis": {
            "backgroundcolor": "white",
            "gridcolor": "#DFE8F3",
            "gridwidth": 2,
            "linecolor": "#EBF0F8",
            "showbackground": true,
            "ticks": "",
            "zerolinecolor": "#EBF0F8"
           },
           "zaxis": {
            "backgroundcolor": "white",
            "gridcolor": "#DFE8F3",
            "gridwidth": 2,
            "linecolor": "#EBF0F8",
            "showbackground": true,
            "ticks": "",
            "zerolinecolor": "#EBF0F8"
           }
          },
          "shapedefaults": {
           "line": {
            "color": "#2a3f5f"
           }
          },
          "ternary": {
           "aaxis": {
            "gridcolor": "#DFE8F3",
            "linecolor": "#A2B1C6",
            "ticks": ""
           },
           "baxis": {
            "gridcolor": "#DFE8F3",
            "linecolor": "#A2B1C6",
            "ticks": ""
           },
           "bgcolor": "white",
           "caxis": {
            "gridcolor": "#DFE8F3",
            "linecolor": "#A2B1C6",
            "ticks": ""
           }
          },
          "title": {
           "x": 0.05
          },
          "xaxis": {
           "automargin": true,
           "gridcolor": "#EBF0F8",
           "linecolor": "#EBF0F8",
           "ticks": "",
           "title": {
            "standoff": 15
           },
           "zerolinecolor": "#EBF0F8",
           "zerolinewidth": 2
          },
          "yaxis": {
           "automargin": true,
           "gridcolor": "#EBF0F8",
           "linecolor": "#EBF0F8",
           "ticks": "",
           "title": {
            "standoff": 15
           },
           "zerolinecolor": "#EBF0F8",
           "zerolinewidth": 2
          }
         }
        },
        "title": {
         "text": "Median prices x thresholds<br>4th wave -  Aug/2017"
        },
        "xaxis": {
         "anchor": "y",
         "domain": [
          0,
          1
         ],
         "title": {
          "text": " "
         }
        },
        "yaxis": {
         "anchor": "x",
         "autorange": false,
         "domain": [
          0,
          1
         ],
         "range": [
          0,
          3500000
         ],
         "title": {
          "text": "US$"
         }
        }
       }
      },
      "text/html": [
       "<div>\n",
       "        \n",
       "        \n",
       "            <div id=\"778cdcab-77d3-4362-b067-196845da01f5\" class=\"plotly-graph-div\" style=\"height:525px; width:100%;\"></div>\n",
       "            <script type=\"text/javascript\">\n",
       "                require([\"plotly\"], function(Plotly) {\n",
       "                    window.PLOTLYENV=window.PLOTLYENV || {};\n",
       "                    \n",
       "                if (document.getElementById(\"778cdcab-77d3-4362-b067-196845da01f5\")) {\n",
       "                    Plotly.newPlot(\n",
       "                        '778cdcab-77d3-4362-b067-196845da01f5',\n",
       "                        [{\"alignmentgroup\": \"True\", \"hovertemplate\": \" =%{x}<br>US$=%{y}<extra></extra>\", \"legendgroup\": \"price_mid\", \"marker\": {\"color\": \"lightgray\"}, \"name\": \"price_mid\", \"offsetgroup\": \"price_mid\", \"orientation\": \"v\", \"showlegend\": true, \"textposition\": \"auto\", \"type\": \"bar\", \"x\": [\"Bexar\", \"Broward\", \"Palm Beach\", \"Miami-Dade\", \"Bronx\", \"Queens\", \"Richmond\", \"Kings\", \"San Diego\", \"Los Angeles\", \"Santa Clara\", \"San Mateo\", \"San Francisco\", \"Honolulu\", \"New York\"], \"xaxis\": \"x\", \"y\": [171553, 254131, 272313, 290909, 263383, 481794, 503770, 620049, 564548, 590637, 1093447, 1219278, 1271961, 681030, 1031181], \"yaxis\": \"y\"}, {\"alignmentgroup\": \"True\", \"hovertemplate\": \" =%{x}<br>US$=%{y}<extra></extra>\", \"legendgroup\": \"price_TOP\", \"marker\": {\"color\": \"#0EDBE9\"}, \"name\": \"price_TOP\", \"offsetgroup\": \"price_TOP\", \"orientation\": \"v\", \"showlegend\": true, \"textposition\": \"auto\", \"type\": \"bar\", \"x\": [\"Bexar\", \"Broward\", \"Palm Beach\", \"Miami-Dade\", \"Bronx\", \"Queens\", \"Richmond\", \"Kings\", \"San Diego\", \"Los Angeles\", \"Santa Clara\", \"San Mateo\", \"San Francisco\", \"Honolulu\", \"New York\"], \"xaxis\": \"x\", \"y\": [280871, 431528, 505695, 515414, 459662, 785883, 665689, 1124131, 889612, 1069290, 1893576, 2015865, 1969357, 1035088, 2035607], \"yaxis\": \"y\"}, {\"mode\": \"text\", \"name\": \"threshold\", \"showlegend\": false, \"text\": [\"500k\", \"1MM\", \"2MM\", \"3MM\"], \"textfont\": {\"color\": \"red\", \"size\": 10}, \"textposition\": \"top center\", \"type\": \"scatter\", \"x\": [\"Bexar\", \"Broward\", \"San Diego\", \"Honolulu\"], \"y\": [550000, 1050000, 2050000, 3050000]}],\n",
       "                        {\"annotations\": [{\"font\": {\"color\": \"rgb(150,150,150)\", \"family\": \"Arial\", \"size\": 12}, \"showarrow\": false, \"text\": \"Source: FinCEN / US Treasury\", \"x\": 0, \"xanchor\": \"left\", \"xref\": \"paper\", \"y\": -0.16, \"yanchor\": \"top\", \"yref\": \"paper\"}], \"barmode\": \"group\", \"legend\": {\"title\": {\"text\": \" \"}, \"tracegroupgap\": 0}, \"shapes\": [{\"line\": {\"color\": \"#e3120b\", \"width\": 2}, \"type\": \"line\", \"x0\": -0.5, \"x1\": 0.5, \"y0\": 500000, \"y1\": 500000}, {\"line\": {\"color\": \"#e3120b\", \"width\": 2}, \"type\": \"line\", \"x0\": 0.5, \"x1\": 3.5, \"y0\": 1000000, \"y1\": 1000000}, {\"line\": {\"color\": \"#e3120b\", \"width\": 2}, \"type\": \"line\", \"x0\": 3.5, \"x1\": 8.5, \"y0\": 2000000, \"y1\": 2000000}, {\"line\": {\"color\": \"#e3120b\", \"width\": 2}, \"type\": \"line\", \"x0\": 8.5, \"x1\": 14.5, \"y0\": 3000000, \"y1\": 3000000}, {\"line\": {\"color\": \"gray\", \"dash\": \"dash\", \"width\": 2}, \"type\": \"line\", \"x0\": 0.5, \"x1\": 0.5, \"y0\": 0, \"y1\": 1200000}, {\"line\": {\"color\": \"gray\", \"dash\": \"dash\", \"width\": 2}, \"type\": \"line\", \"x0\": 3.5, \"x1\": 3.5, \"y0\": 0, \"y1\": 2200000}, {\"line\": {\"color\": \"gray\", \"dash\": \"dash\", \"width\": 2}, \"type\": \"line\", \"x0\": 8.5, \"x1\": 8.5, \"y0\": 0, \"y1\": 3200000}], \"template\": {\"data\": {\"bar\": [{\"error_x\": {\"color\": \"#2a3f5f\"}, \"error_y\": {\"color\": \"#2a3f5f\"}, \"marker\": {\"line\": {\"color\": \"white\", \"width\": 0.5}}, \"type\": \"bar\"}], \"barpolar\": [{\"marker\": {\"line\": {\"color\": \"white\", \"width\": 0.5}}, \"type\": \"barpolar\"}], \"carpet\": [{\"aaxis\": {\"endlinecolor\": \"#2a3f5f\", \"gridcolor\": \"#C8D4E3\", \"linecolor\": \"#C8D4E3\", \"minorgridcolor\": \"#C8D4E3\", \"startlinecolor\": \"#2a3f5f\"}, \"baxis\": {\"endlinecolor\": \"#2a3f5f\", \"gridcolor\": \"#C8D4E3\", \"linecolor\": \"#C8D4E3\", \"minorgridcolor\": \"#C8D4E3\", \"startlinecolor\": \"#2a3f5f\"}, \"type\": \"carpet\"}], \"choropleth\": [{\"colorbar\": {\"outlinewidth\": 0, \"ticks\": \"\"}, \"type\": \"choropleth\"}], \"contour\": [{\"colorbar\": {\"outlinewidth\": 0, \"ticks\": \"\"}, \"colorscale\": [[0.0, \"#0d0887\"], [0.1111111111111111, \"#46039f\"], [0.2222222222222222, \"#7201a8\"], [0.3333333333333333, \"#9c179e\"], [0.4444444444444444, \"#bd3786\"], [0.5555555555555556, \"#d8576b\"], [0.6666666666666666, \"#ed7953\"], [0.7777777777777778, \"#fb9f3a\"], [0.8888888888888888, \"#fdca26\"], [1.0, \"#f0f921\"]], \"type\": \"contour\"}], \"contourcarpet\": [{\"colorbar\": {\"outlinewidth\": 0, \"ticks\": \"\"}, \"type\": \"contourcarpet\"}], \"heatmap\": [{\"colorbar\": {\"outlinewidth\": 0, \"ticks\": \"\"}, \"colorscale\": [[0.0, \"#0d0887\"], [0.1111111111111111, \"#46039f\"], [0.2222222222222222, \"#7201a8\"], [0.3333333333333333, \"#9c179e\"], [0.4444444444444444, \"#bd3786\"], [0.5555555555555556, \"#d8576b\"], [0.6666666666666666, \"#ed7953\"], [0.7777777777777778, \"#fb9f3a\"], [0.8888888888888888, \"#fdca26\"], [1.0, \"#f0f921\"]], \"type\": \"heatmap\"}], \"heatmapgl\": [{\"colorbar\": {\"outlinewidth\": 0, \"ticks\": \"\"}, \"colorscale\": [[0.0, \"#0d0887\"], [0.1111111111111111, \"#46039f\"], [0.2222222222222222, \"#7201a8\"], [0.3333333333333333, \"#9c179e\"], [0.4444444444444444, \"#bd3786\"], [0.5555555555555556, \"#d8576b\"], [0.6666666666666666, \"#ed7953\"], [0.7777777777777778, \"#fb9f3a\"], [0.8888888888888888, \"#fdca26\"], [1.0, \"#f0f921\"]], \"type\": \"heatmapgl\"}], \"histogram\": [{\"marker\": {\"colorbar\": {\"outlinewidth\": 0, \"ticks\": \"\"}}, \"type\": \"histogram\"}], \"histogram2d\": [{\"colorbar\": {\"outlinewidth\": 0, \"ticks\": \"\"}, \"colorscale\": [[0.0, \"#0d0887\"], [0.1111111111111111, \"#46039f\"], [0.2222222222222222, \"#7201a8\"], [0.3333333333333333, \"#9c179e\"], [0.4444444444444444, \"#bd3786\"], [0.5555555555555556, \"#d8576b\"], [0.6666666666666666, \"#ed7953\"], [0.7777777777777778, \"#fb9f3a\"], [0.8888888888888888, \"#fdca26\"], [1.0, \"#f0f921\"]], \"type\": \"histogram2d\"}], \"histogram2dcontour\": [{\"colorbar\": {\"outlinewidth\": 0, \"ticks\": \"\"}, \"colorscale\": [[0.0, \"#0d0887\"], [0.1111111111111111, \"#46039f\"], [0.2222222222222222, \"#7201a8\"], [0.3333333333333333, \"#9c179e\"], [0.4444444444444444, \"#bd3786\"], [0.5555555555555556, \"#d8576b\"], [0.6666666666666666, \"#ed7953\"], [0.7777777777777778, \"#fb9f3a\"], [0.8888888888888888, \"#fdca26\"], [1.0, \"#f0f921\"]], \"type\": \"histogram2dcontour\"}], \"mesh3d\": [{\"colorbar\": {\"outlinewidth\": 0, \"ticks\": \"\"}, \"type\": \"mesh3d\"}], \"parcoords\": [{\"line\": {\"colorbar\": {\"outlinewidth\": 0, \"ticks\": \"\"}}, \"type\": \"parcoords\"}], \"pie\": [{\"automargin\": true, \"type\": \"pie\"}], \"scatter\": [{\"marker\": {\"colorbar\": {\"outlinewidth\": 0, \"ticks\": \"\"}}, \"type\": \"scatter\"}], \"scatter3d\": [{\"line\": {\"colorbar\": {\"outlinewidth\": 0, \"ticks\": \"\"}}, \"marker\": {\"colorbar\": {\"outlinewidth\": 0, \"ticks\": \"\"}}, \"type\": \"scatter3d\"}], \"scattercarpet\": [{\"marker\": {\"colorbar\": {\"outlinewidth\": 0, \"ticks\": \"\"}}, \"type\": \"scattercarpet\"}], \"scattergeo\": [{\"marker\": {\"colorbar\": {\"outlinewidth\": 0, \"ticks\": \"\"}}, \"type\": \"scattergeo\"}], \"scattergl\": [{\"marker\": {\"colorbar\": {\"outlinewidth\": 0, \"ticks\": \"\"}}, \"type\": \"scattergl\"}], \"scattermapbox\": [{\"marker\": {\"colorbar\": {\"outlinewidth\": 0, \"ticks\": \"\"}}, \"type\": \"scattermapbox\"}], \"scatterpolar\": [{\"marker\": {\"colorbar\": {\"outlinewidth\": 0, \"ticks\": \"\"}}, \"type\": \"scatterpolar\"}], \"scatterpolargl\": [{\"marker\": {\"colorbar\": {\"outlinewidth\": 0, \"ticks\": \"\"}}, \"type\": \"scatterpolargl\"}], \"scatterternary\": [{\"marker\": {\"colorbar\": {\"outlinewidth\": 0, \"ticks\": \"\"}}, \"type\": \"scatterternary\"}], \"surface\": [{\"colorbar\": {\"outlinewidth\": 0, \"ticks\": \"\"}, \"colorscale\": [[0.0, \"#0d0887\"], [0.1111111111111111, \"#46039f\"], [0.2222222222222222, \"#7201a8\"], [0.3333333333333333, \"#9c179e\"], [0.4444444444444444, \"#bd3786\"], [0.5555555555555556, \"#d8576b\"], [0.6666666666666666, \"#ed7953\"], [0.7777777777777778, \"#fb9f3a\"], [0.8888888888888888, \"#fdca26\"], [1.0, \"#f0f921\"]], \"type\": \"surface\"}], \"table\": [{\"cells\": {\"fill\": {\"color\": \"#EBF0F8\"}, \"line\": {\"color\": \"white\"}}, \"header\": {\"fill\": {\"color\": \"#C8D4E3\"}, \"line\": {\"color\": \"white\"}}, \"type\": \"table\"}]}, \"layout\": {\"annotationdefaults\": {\"arrowcolor\": \"#2a3f5f\", \"arrowhead\": 0, \"arrowwidth\": 1}, \"coloraxis\": {\"colorbar\": {\"outlinewidth\": 0, \"ticks\": \"\"}}, \"colorscale\": {\"diverging\": [[0, \"#8e0152\"], [0.1, \"#c51b7d\"], [0.2, \"#de77ae\"], [0.3, \"#f1b6da\"], [0.4, \"#fde0ef\"], [0.5, \"#f7f7f7\"], [0.6, \"#e6f5d0\"], [0.7, \"#b8e186\"], [0.8, \"#7fbc41\"], [0.9, \"#4d9221\"], [1, \"#276419\"]], \"sequential\": [[0.0, \"#0d0887\"], [0.1111111111111111, \"#46039f\"], [0.2222222222222222, \"#7201a8\"], [0.3333333333333333, \"#9c179e\"], [0.4444444444444444, \"#bd3786\"], [0.5555555555555556, \"#d8576b\"], [0.6666666666666666, \"#ed7953\"], [0.7777777777777778, \"#fb9f3a\"], [0.8888888888888888, \"#fdca26\"], [1.0, \"#f0f921\"]], \"sequentialminus\": [[0.0, \"#0d0887\"], [0.1111111111111111, \"#46039f\"], [0.2222222222222222, \"#7201a8\"], [0.3333333333333333, \"#9c179e\"], [0.4444444444444444, \"#bd3786\"], [0.5555555555555556, \"#d8576b\"], [0.6666666666666666, \"#ed7953\"], [0.7777777777777778, \"#fb9f3a\"], [0.8888888888888888, \"#fdca26\"], [1.0, \"#f0f921\"]]}, \"colorway\": [\"#636efa\", \"#EF553B\", \"#00cc96\", \"#ab63fa\", \"#FFA15A\", \"#19d3f3\", \"#FF6692\", \"#B6E880\", \"#FF97FF\", \"#FECB52\"], \"font\": {\"color\": \"#2a3f5f\"}, \"geo\": {\"bgcolor\": \"white\", \"lakecolor\": \"white\", \"landcolor\": \"white\", \"showlakes\": true, \"showland\": true, \"subunitcolor\": \"#C8D4E3\"}, \"hoverlabel\": {\"align\": \"left\"}, \"hovermode\": \"closest\", \"mapbox\": {\"style\": \"light\"}, \"paper_bgcolor\": \"white\", \"plot_bgcolor\": \"white\", \"polar\": {\"angularaxis\": {\"gridcolor\": \"#EBF0F8\", \"linecolor\": \"#EBF0F8\", \"ticks\": \"\"}, \"bgcolor\": \"white\", \"radialaxis\": {\"gridcolor\": \"#EBF0F8\", \"linecolor\": \"#EBF0F8\", \"ticks\": \"\"}}, \"scene\": {\"xaxis\": {\"backgroundcolor\": \"white\", \"gridcolor\": \"#DFE8F3\", \"gridwidth\": 2, \"linecolor\": \"#EBF0F8\", \"showbackground\": true, \"ticks\": \"\", \"zerolinecolor\": \"#EBF0F8\"}, \"yaxis\": {\"backgroundcolor\": \"white\", \"gridcolor\": \"#DFE8F3\", \"gridwidth\": 2, \"linecolor\": \"#EBF0F8\", \"showbackground\": true, \"ticks\": \"\", \"zerolinecolor\": \"#EBF0F8\"}, \"zaxis\": {\"backgroundcolor\": \"white\", \"gridcolor\": \"#DFE8F3\", \"gridwidth\": 2, \"linecolor\": \"#EBF0F8\", \"showbackground\": true, \"ticks\": \"\", \"zerolinecolor\": \"#EBF0F8\"}}, \"shapedefaults\": {\"line\": {\"color\": \"#2a3f5f\"}}, \"ternary\": {\"aaxis\": {\"gridcolor\": \"#DFE8F3\", \"linecolor\": \"#A2B1C6\", \"ticks\": \"\"}, \"baxis\": {\"gridcolor\": \"#DFE8F3\", \"linecolor\": \"#A2B1C6\", \"ticks\": \"\"}, \"bgcolor\": \"white\", \"caxis\": {\"gridcolor\": \"#DFE8F3\", \"linecolor\": \"#A2B1C6\", \"ticks\": \"\"}}, \"title\": {\"x\": 0.05}, \"xaxis\": {\"automargin\": true, \"gridcolor\": \"#EBF0F8\", \"linecolor\": \"#EBF0F8\", \"ticks\": \"\", \"title\": {\"standoff\": 15}, \"zerolinecolor\": \"#EBF0F8\", \"zerolinewidth\": 2}, \"yaxis\": {\"automargin\": true, \"gridcolor\": \"#EBF0F8\", \"linecolor\": \"#EBF0F8\", \"ticks\": \"\", \"title\": {\"standoff\": 15}, \"zerolinecolor\": \"#EBF0F8\", \"zerolinewidth\": 2}}}, \"title\": {\"text\": \"Median prices x thresholds<br>4th wave -  Aug/2017\"}, \"xaxis\": {\"anchor\": \"y\", \"domain\": [0.0, 1.0], \"title\": {\"text\": \" \"}}, \"yaxis\": {\"anchor\": \"x\", \"autorange\": false, \"domain\": [0.0, 1.0], \"range\": [0, 3500000], \"title\": {\"text\": \"US$\"}}},\n",
       "                        {\"responsive\": true}\n",
       "                    ).then(function(){\n",
       "                            \n",
       "var gd = document.getElementById('778cdcab-77d3-4362-b067-196845da01f5');\n",
       "var x = new MutationObserver(function (mutations, observer) {{\n",
       "        var display = window.getComputedStyle(gd).display;\n",
       "        if (!display || display === 'none') {{\n",
       "            console.log([gd, 'removed!']);\n",
       "            Plotly.purge(gd);\n",
       "            observer.disconnect();\n",
       "        }}\n",
       "}});\n",
       "\n",
       "// Listen for the removal of the full notebook cells\n",
       "var notebookContainer = gd.closest('#notebook-container');\n",
       "if (notebookContainer) {{\n",
       "    x.observe(notebookContainer, {childList: true});\n",
       "}}\n",
       "\n",
       "// Listen for the clearing of the current output cell\n",
       "var outputEl = gd.closest('.output');\n",
       "if (outputEl) {{\n",
       "    x.observe(outputEl, {childList: true});\n",
       "}}\n",
       "\n",
       "                        })\n",
       "                };\n",
       "                });\n",
       "            </script>\n",
       "        </div>"
      ]
     },
     "metadata": {},
     "output_type": "display_data"
    }
   ],
   "source": [
    "%run functions/nice_plot_pandas_getdata.ipynb\n",
    "\n",
    "red = economist[-2]\n",
    "\n",
    "fig = px.bar(df_4[(df_4.tier!='threshold') & (df_4.wave=='wave_4')], \n",
    "             y='value', \n",
    "             x='RegionName', #text='value', \n",
    "             color='tier', barmode='group',\n",
    "             template=\"plotly_white\",\n",
    "             color_discrete_sequence=[ \"lightgray\", \"#0EDBE9\", red],   \n",
    "             title=\"Median prices x thresholds<br>4th wave -  Aug/2017\",\n",
    "             #facet_row=\"wave\", facet_col=\"State\",\n",
    "             labels= {'value':'US$', 'RegionName':' ', 'tier':' '}\n",
    "            )\n",
    "\n",
    "# horizontal lines\n",
    "fig.add_shape(type=\"line\",y0= 500000, y1= 500000, \n",
    "                          x0= -0.5, x1= 0.5,\n",
    "                          line=dict(color=economist[-2], width=2))\n",
    "\n",
    "fig.add_shape(type=\"line\",y0= 1000000, y1= 1000000, \n",
    "                          x0= 0.5, x1= 3.5,\n",
    "                          line=dict(color=red, width=2))\n",
    "\n",
    "fig.add_shape(type=\"line\",y0= 2000000, y1= 2000000, \n",
    "                          x0= 3.5, x1= 8.5,\n",
    "                          line=dict(color=red, width=2))\n",
    "\n",
    "fig.add_shape(type=\"line\",y0= 3000000, y1= 3000000, \n",
    "                          x0= 8.5, x1= 14.5,\n",
    "                          line=dict(color=red, width=2))\n",
    "\n",
    "# vertical lines\n",
    "fig.add_shape(type=\"line\",y0= 0, y1= 1200000, \n",
    "                          x0= 0.5, x1= 0.5,\n",
    "                          line=dict(color=\"gray\", width=2, dash='dash'))\n",
    "\n",
    "fig.add_shape(type=\"line\",y0= 0, y1= 2200000, \n",
    "                          x0= 3.5, x1= 3.5,\n",
    "                          line=dict(color=\"gray\", width=2, dash='dash'))\n",
    "\n",
    "fig.add_shape(type=\"line\",y0= 0, y1= 3200000, \n",
    "                          x0= 8.5, x1= 8.5,\n",
    "                          line=dict(color=\"gray\", width=2, dash='dash'))\n",
    "\n",
    "# add annotations\n",
    "fig.add_trace(go.Scatter(\n",
    "    x=['Bexar', 'Broward', 'San Diego', 'Honolulu'],\n",
    "    y=[550000, 1050000, 2050000, 3050000],\n",
    "    #x0=0, x1=1, y0=500000, y1=500000,\n",
    "    \n",
    "    mode=\"text\",\n",
    "    name=\"threshold\",\n",
    "    text=[\"500k\", \"1MM\", \"2MM\", \"3MM\"],\n",
    "    \n",
    "    textposition=\"top center\",\n",
    "    textfont=dict(\n",
    "        #family=\"sans serif\",\n",
    "        size=10,\n",
    "        color=\"red\"), \n",
    "    showlegend=False\n",
    "))\n",
    "\n",
    "# Source\n",
    "annotations=[(dict(xref='paper', yref='paper', x=0, y=-0.16,\n",
    "                                  xanchor='left', yanchor='top',\n",
    "                                  text='Source: FinCEN / US Treasury',\n",
    "                                  font=dict(family='Arial',size=12, color='rgb(150,150,150)'),\n",
    "                                  showarrow=False))]\n",
    "\n",
    "\n",
    "# longer y-axis\n",
    "fig['layout']['yaxis1'].update(title='', range=[0, 3500000],autorange=False)\n",
    "fig.update_layout(yaxis_title = 'US$', annotations=annotations)\n",
    "\n",
    "fig.show()"
   ]
  },
  {
   "cell_type": "code",
   "execution_count": 163,
   "metadata": {},
   "outputs": [],
   "source": [
    "#save plot \n",
    "fig.write_html(\"../images/jm_GTO_4th_wave.html\")\n"
   ]
  },
  {
   "cell_type": "code",
   "execution_count": 49,
   "metadata": {},
   "outputs": [
    {
     "data": {
      "text/plain": [
       "(700, 500)"
      ]
     },
     "execution_count": 49,
     "metadata": {},
     "output_type": "execute_result"
    }
   ],
   "source": [
    "# workaround to find image size\n",
    "fig.write_image(\"../images/fig1.png\")\n",
    "\n",
    "from PIL import Image\n",
    "im=Image.open(\"../images/fig1.png\")\n",
    "im.size # (width,height) tuple"
   ]
  },
  {
   "cell_type": "code",
   "execution_count": 164,
   "metadata": {},
   "outputs": [
    {
     "data": {
      "application/vnd.plotly.v1+json": {
       "config": {
        "plotlyServerURL": "https://plot.ly"
       },
       "data": [
        {
         "alignmentgroup": "True",
         "hovertemplate": " =%{x}<br>US$=%{y}<extra></extra>",
         "legendgroup": "price_mid",
         "marker": {
          "color": "lightgray"
         },
         "name": "price_mid",
         "offsetgroup": "price_mid",
         "orientation": "v",
         "showlegend": true,
         "textposition": "auto",
         "type": "bar",
         "x": [
          "Bexar",
          "Dallas",
          "Tarrant",
          "Cook",
          "Broward",
          "Clark",
          "Bronx",
          "Palm Beach",
          "Miami-Dade",
          "Queens",
          "Richmond",
          "Middlesex",
          "Suffolk",
          "San Diego",
          "Los Angeles",
          "King",
          "Kings",
          "Honolulu",
          "New York",
          "Santa Clara",
          "San Francisco",
          "San Mateo"
         ],
         "xaxis": "x",
         "y": [
          182057,
          211782,
          216765,
          247090,
          275854,
          285483,
          289186,
          289962,
          311997,
          529387,
          556041,
          560437,
          591986,
          600862,
          635840,
          657240,
          668589,
          709429,
          1075043,
          1298463,
          1413393,
          1418645
         ],
         "yaxis": "y"
        },
        {
         "alignmentgroup": "True",
         "hovertemplate": " =%{x}<br>US$=%{y}<extra></extra>",
         "legendgroup": "price_TOP",
         "marker": {
          "color": "#0EDBE9"
         },
         "name": "price_TOP",
         "offsetgroup": "price_TOP",
         "orientation": "v",
         "showlegend": true,
         "textposition": "auto",
         "type": "bar",
         "x": [
          "Bexar",
          "Tarrant",
          "Dallas",
          "Clark",
          "Cook",
          "Broward",
          "Bronx",
          "Palm Beach",
          "Miami-Dade",
          "Richmond",
          "Queens",
          "Middlesex",
          "San Diego",
          "Suffolk",
          "King",
          "Honolulu",
          "Los Angeles",
          "Kings",
          "New York",
          "San Francisco",
          "Santa Clara",
          "San Mateo"
         ],
         "xaxis": "x",
         "y": [
          293087,
          339667,
          393306,
          407196,
          434514,
          456677,
          508407,
          529428,
          539452,
          725667,
          851169,
          902023,
          942417,
          991610,
          1065355,
          1074781,
          1148162,
          1191665,
          2035136,
          2129459,
          2211754,
          2325701
         ],
         "yaxis": "y"
        },
        {
         "mode": "text",
         "showlegend": false,
         "text": [
          "300k"
         ],
         "textfont": {
          "color": "#e3120b",
          "size": 12
         },
         "textposition": "top center",
         "type": "scatter",
         "x": [
          "Bexar"
         ],
         "y": [
          350000
         ]
        }
       ],
       "layout": {
        "annotations": [
         {
          "font": {
           "color": "rgb(150,150,150)",
           "family": "Arial",
           "size": 12
          },
          "showarrow": false,
          "text": "Source: FinCEN / US Treasury",
          "x": 0,
          "xanchor": "left",
          "xref": "paper",
          "y": -0.2,
          "yanchor": "top",
          "yref": "paper"
         }
        ],
        "barmode": "group",
        "legend": {
         "title": {
          "text": " "
         },
         "tracegroupgap": 0
        },
        "shapes": [
         {
          "line": {
           "color": "#e3120b",
           "width": 2
          },
          "type": "line",
          "x0": -0.5,
          "x1": 21.5,
          "xref": "x",
          "y0": 300000,
          "y1": 300000,
          "yref": "y"
         }
        ],
        "template": {
         "data": {
          "bar": [
           {
            "error_x": {
             "color": "#2a3f5f"
            },
            "error_y": {
             "color": "#2a3f5f"
            },
            "marker": {
             "line": {
              "color": "white",
              "width": 0.5
             }
            },
            "type": "bar"
           }
          ],
          "barpolar": [
           {
            "marker": {
             "line": {
              "color": "white",
              "width": 0.5
             }
            },
            "type": "barpolar"
           }
          ],
          "carpet": [
           {
            "aaxis": {
             "endlinecolor": "#2a3f5f",
             "gridcolor": "#C8D4E3",
             "linecolor": "#C8D4E3",
             "minorgridcolor": "#C8D4E3",
             "startlinecolor": "#2a3f5f"
            },
            "baxis": {
             "endlinecolor": "#2a3f5f",
             "gridcolor": "#C8D4E3",
             "linecolor": "#C8D4E3",
             "minorgridcolor": "#C8D4E3",
             "startlinecolor": "#2a3f5f"
            },
            "type": "carpet"
           }
          ],
          "choropleth": [
           {
            "colorbar": {
             "outlinewidth": 0,
             "ticks": ""
            },
            "type": "choropleth"
           }
          ],
          "contour": [
           {
            "colorbar": {
             "outlinewidth": 0,
             "ticks": ""
            },
            "colorscale": [
             [
              0,
              "#0d0887"
             ],
             [
              0.1111111111111111,
              "#46039f"
             ],
             [
              0.2222222222222222,
              "#7201a8"
             ],
             [
              0.3333333333333333,
              "#9c179e"
             ],
             [
              0.4444444444444444,
              "#bd3786"
             ],
             [
              0.5555555555555556,
              "#d8576b"
             ],
             [
              0.6666666666666666,
              "#ed7953"
             ],
             [
              0.7777777777777778,
              "#fb9f3a"
             ],
             [
              0.8888888888888888,
              "#fdca26"
             ],
             [
              1,
              "#f0f921"
             ]
            ],
            "type": "contour"
           }
          ],
          "contourcarpet": [
           {
            "colorbar": {
             "outlinewidth": 0,
             "ticks": ""
            },
            "type": "contourcarpet"
           }
          ],
          "heatmap": [
           {
            "colorbar": {
             "outlinewidth": 0,
             "ticks": ""
            },
            "colorscale": [
             [
              0,
              "#0d0887"
             ],
             [
              0.1111111111111111,
              "#46039f"
             ],
             [
              0.2222222222222222,
              "#7201a8"
             ],
             [
              0.3333333333333333,
              "#9c179e"
             ],
             [
              0.4444444444444444,
              "#bd3786"
             ],
             [
              0.5555555555555556,
              "#d8576b"
             ],
             [
              0.6666666666666666,
              "#ed7953"
             ],
             [
              0.7777777777777778,
              "#fb9f3a"
             ],
             [
              0.8888888888888888,
              "#fdca26"
             ],
             [
              1,
              "#f0f921"
             ]
            ],
            "type": "heatmap"
           }
          ],
          "heatmapgl": [
           {
            "colorbar": {
             "outlinewidth": 0,
             "ticks": ""
            },
            "colorscale": [
             [
              0,
              "#0d0887"
             ],
             [
              0.1111111111111111,
              "#46039f"
             ],
             [
              0.2222222222222222,
              "#7201a8"
             ],
             [
              0.3333333333333333,
              "#9c179e"
             ],
             [
              0.4444444444444444,
              "#bd3786"
             ],
             [
              0.5555555555555556,
              "#d8576b"
             ],
             [
              0.6666666666666666,
              "#ed7953"
             ],
             [
              0.7777777777777778,
              "#fb9f3a"
             ],
             [
              0.8888888888888888,
              "#fdca26"
             ],
             [
              1,
              "#f0f921"
             ]
            ],
            "type": "heatmapgl"
           }
          ],
          "histogram": [
           {
            "marker": {
             "colorbar": {
              "outlinewidth": 0,
              "ticks": ""
             }
            },
            "type": "histogram"
           }
          ],
          "histogram2d": [
           {
            "colorbar": {
             "outlinewidth": 0,
             "ticks": ""
            },
            "colorscale": [
             [
              0,
              "#0d0887"
             ],
             [
              0.1111111111111111,
              "#46039f"
             ],
             [
              0.2222222222222222,
              "#7201a8"
             ],
             [
              0.3333333333333333,
              "#9c179e"
             ],
             [
              0.4444444444444444,
              "#bd3786"
             ],
             [
              0.5555555555555556,
              "#d8576b"
             ],
             [
              0.6666666666666666,
              "#ed7953"
             ],
             [
              0.7777777777777778,
              "#fb9f3a"
             ],
             [
              0.8888888888888888,
              "#fdca26"
             ],
             [
              1,
              "#f0f921"
             ]
            ],
            "type": "histogram2d"
           }
          ],
          "histogram2dcontour": [
           {
            "colorbar": {
             "outlinewidth": 0,
             "ticks": ""
            },
            "colorscale": [
             [
              0,
              "#0d0887"
             ],
             [
              0.1111111111111111,
              "#46039f"
             ],
             [
              0.2222222222222222,
              "#7201a8"
             ],
             [
              0.3333333333333333,
              "#9c179e"
             ],
             [
              0.4444444444444444,
              "#bd3786"
             ],
             [
              0.5555555555555556,
              "#d8576b"
             ],
             [
              0.6666666666666666,
              "#ed7953"
             ],
             [
              0.7777777777777778,
              "#fb9f3a"
             ],
             [
              0.8888888888888888,
              "#fdca26"
             ],
             [
              1,
              "#f0f921"
             ]
            ],
            "type": "histogram2dcontour"
           }
          ],
          "mesh3d": [
           {
            "colorbar": {
             "outlinewidth": 0,
             "ticks": ""
            },
            "type": "mesh3d"
           }
          ],
          "parcoords": [
           {
            "line": {
             "colorbar": {
              "outlinewidth": 0,
              "ticks": ""
             }
            },
            "type": "parcoords"
           }
          ],
          "pie": [
           {
            "automargin": true,
            "type": "pie"
           }
          ],
          "scatter": [
           {
            "marker": {
             "colorbar": {
              "outlinewidth": 0,
              "ticks": ""
             }
            },
            "type": "scatter"
           }
          ],
          "scatter3d": [
           {
            "line": {
             "colorbar": {
              "outlinewidth": 0,
              "ticks": ""
             }
            },
            "marker": {
             "colorbar": {
              "outlinewidth": 0,
              "ticks": ""
             }
            },
            "type": "scatter3d"
           }
          ],
          "scattercarpet": [
           {
            "marker": {
             "colorbar": {
              "outlinewidth": 0,
              "ticks": ""
             }
            },
            "type": "scattercarpet"
           }
          ],
          "scattergeo": [
           {
            "marker": {
             "colorbar": {
              "outlinewidth": 0,
              "ticks": ""
             }
            },
            "type": "scattergeo"
           }
          ],
          "scattergl": [
           {
            "marker": {
             "colorbar": {
              "outlinewidth": 0,
              "ticks": ""
             }
            },
            "type": "scattergl"
           }
          ],
          "scattermapbox": [
           {
            "marker": {
             "colorbar": {
              "outlinewidth": 0,
              "ticks": ""
             }
            },
            "type": "scattermapbox"
           }
          ],
          "scatterpolar": [
           {
            "marker": {
             "colorbar": {
              "outlinewidth": 0,
              "ticks": ""
             }
            },
            "type": "scatterpolar"
           }
          ],
          "scatterpolargl": [
           {
            "marker": {
             "colorbar": {
              "outlinewidth": 0,
              "ticks": ""
             }
            },
            "type": "scatterpolargl"
           }
          ],
          "scatterternary": [
           {
            "marker": {
             "colorbar": {
              "outlinewidth": 0,
              "ticks": ""
             }
            },
            "type": "scatterternary"
           }
          ],
          "surface": [
           {
            "colorbar": {
             "outlinewidth": 0,
             "ticks": ""
            },
            "colorscale": [
             [
              0,
              "#0d0887"
             ],
             [
              0.1111111111111111,
              "#46039f"
             ],
             [
              0.2222222222222222,
              "#7201a8"
             ],
             [
              0.3333333333333333,
              "#9c179e"
             ],
             [
              0.4444444444444444,
              "#bd3786"
             ],
             [
              0.5555555555555556,
              "#d8576b"
             ],
             [
              0.6666666666666666,
              "#ed7953"
             ],
             [
              0.7777777777777778,
              "#fb9f3a"
             ],
             [
              0.8888888888888888,
              "#fdca26"
             ],
             [
              1,
              "#f0f921"
             ]
            ],
            "type": "surface"
           }
          ],
          "table": [
           {
            "cells": {
             "fill": {
              "color": "#EBF0F8"
             },
             "line": {
              "color": "white"
             }
            },
            "header": {
             "fill": {
              "color": "#C8D4E3"
             },
             "line": {
              "color": "white"
             }
            },
            "type": "table"
           }
          ]
         },
         "layout": {
          "annotationdefaults": {
           "arrowcolor": "#2a3f5f",
           "arrowhead": 0,
           "arrowwidth": 1
          },
          "coloraxis": {
           "colorbar": {
            "outlinewidth": 0,
            "ticks": ""
           }
          },
          "colorscale": {
           "diverging": [
            [
             0,
             "#8e0152"
            ],
            [
             0.1,
             "#c51b7d"
            ],
            [
             0.2,
             "#de77ae"
            ],
            [
             0.3,
             "#f1b6da"
            ],
            [
             0.4,
             "#fde0ef"
            ],
            [
             0.5,
             "#f7f7f7"
            ],
            [
             0.6,
             "#e6f5d0"
            ],
            [
             0.7,
             "#b8e186"
            ],
            [
             0.8,
             "#7fbc41"
            ],
            [
             0.9,
             "#4d9221"
            ],
            [
             1,
             "#276419"
            ]
           ],
           "sequential": [
            [
             0,
             "#0d0887"
            ],
            [
             0.1111111111111111,
             "#46039f"
            ],
            [
             0.2222222222222222,
             "#7201a8"
            ],
            [
             0.3333333333333333,
             "#9c179e"
            ],
            [
             0.4444444444444444,
             "#bd3786"
            ],
            [
             0.5555555555555556,
             "#d8576b"
            ],
            [
             0.6666666666666666,
             "#ed7953"
            ],
            [
             0.7777777777777778,
             "#fb9f3a"
            ],
            [
             0.8888888888888888,
             "#fdca26"
            ],
            [
             1,
             "#f0f921"
            ]
           ],
           "sequentialminus": [
            [
             0,
             "#0d0887"
            ],
            [
             0.1111111111111111,
             "#46039f"
            ],
            [
             0.2222222222222222,
             "#7201a8"
            ],
            [
             0.3333333333333333,
             "#9c179e"
            ],
            [
             0.4444444444444444,
             "#bd3786"
            ],
            [
             0.5555555555555556,
             "#d8576b"
            ],
            [
             0.6666666666666666,
             "#ed7953"
            ],
            [
             0.7777777777777778,
             "#fb9f3a"
            ],
            [
             0.8888888888888888,
             "#fdca26"
            ],
            [
             1,
             "#f0f921"
            ]
           ]
          },
          "colorway": [
           "#636efa",
           "#EF553B",
           "#00cc96",
           "#ab63fa",
           "#FFA15A",
           "#19d3f3",
           "#FF6692",
           "#B6E880",
           "#FF97FF",
           "#FECB52"
          ],
          "font": {
           "color": "#2a3f5f"
          },
          "geo": {
           "bgcolor": "white",
           "lakecolor": "white",
           "landcolor": "white",
           "showlakes": true,
           "showland": true,
           "subunitcolor": "#C8D4E3"
          },
          "hoverlabel": {
           "align": "left"
          },
          "hovermode": "closest",
          "mapbox": {
           "style": "light"
          },
          "paper_bgcolor": "white",
          "plot_bgcolor": "white",
          "polar": {
           "angularaxis": {
            "gridcolor": "#EBF0F8",
            "linecolor": "#EBF0F8",
            "ticks": ""
           },
           "bgcolor": "white",
           "radialaxis": {
            "gridcolor": "#EBF0F8",
            "linecolor": "#EBF0F8",
            "ticks": ""
           }
          },
          "scene": {
           "xaxis": {
            "backgroundcolor": "white",
            "gridcolor": "#DFE8F3",
            "gridwidth": 2,
            "linecolor": "#EBF0F8",
            "showbackground": true,
            "ticks": "",
            "zerolinecolor": "#EBF0F8"
           },
           "yaxis": {
            "backgroundcolor": "white",
            "gridcolor": "#DFE8F3",
            "gridwidth": 2,
            "linecolor": "#EBF0F8",
            "showbackground": true,
            "ticks": "",
            "zerolinecolor": "#EBF0F8"
           },
           "zaxis": {
            "backgroundcolor": "white",
            "gridcolor": "#DFE8F3",
            "gridwidth": 2,
            "linecolor": "#EBF0F8",
            "showbackground": true,
            "ticks": "",
            "zerolinecolor": "#EBF0F8"
           }
          },
          "shapedefaults": {
           "line": {
            "color": "#2a3f5f"
           }
          },
          "ternary": {
           "aaxis": {
            "gridcolor": "#DFE8F3",
            "linecolor": "#A2B1C6",
            "ticks": ""
           },
           "baxis": {
            "gridcolor": "#DFE8F3",
            "linecolor": "#A2B1C6",
            "ticks": ""
           },
           "bgcolor": "white",
           "caxis": {
            "gridcolor": "#DFE8F3",
            "linecolor": "#A2B1C6",
            "ticks": ""
           }
          },
          "title": {
           "x": 0.05
          },
          "xaxis": {
           "automargin": true,
           "gridcolor": "#EBF0F8",
           "linecolor": "#EBF0F8",
           "ticks": "",
           "title": {
            "standoff": 15
           },
           "zerolinecolor": "#EBF0F8",
           "zerolinewidth": 2
          },
          "yaxis": {
           "automargin": true,
           "gridcolor": "#EBF0F8",
           "linecolor": "#EBF0F8",
           "ticks": "",
           "title": {
            "standoff": 15
           },
           "zerolinecolor": "#EBF0F8",
           "zerolinewidth": 2
          }
         }
        },
        "title": {
         "text": "Median prices x thresholds<br>6th wave -  Aug/2018"
        },
        "xaxis": {
         "anchor": "y",
         "domain": [
          0,
          1
         ],
         "title": {
          "text": " "
         }
        },
        "yaxis": {
         "anchor": "x",
         "domain": [
          0,
          1
         ],
         "title": {
          "text": "US$"
         }
        }
       }
      },
      "text/html": [
       "<div>\n",
       "        \n",
       "        \n",
       "            <div id=\"41f4ff77-942a-4e6d-aa15-eab0f022005e\" class=\"plotly-graph-div\" style=\"height:525px; width:100%;\"></div>\n",
       "            <script type=\"text/javascript\">\n",
       "                require([\"plotly\"], function(Plotly) {\n",
       "                    window.PLOTLYENV=window.PLOTLYENV || {};\n",
       "                    \n",
       "                if (document.getElementById(\"41f4ff77-942a-4e6d-aa15-eab0f022005e\")) {\n",
       "                    Plotly.newPlot(\n",
       "                        '41f4ff77-942a-4e6d-aa15-eab0f022005e',\n",
       "                        [{\"alignmentgroup\": \"True\", \"hovertemplate\": \" =%{x}<br>US$=%{y}<extra></extra>\", \"legendgroup\": \"price_mid\", \"marker\": {\"color\": \"lightgray\"}, \"name\": \"price_mid\", \"offsetgroup\": \"price_mid\", \"orientation\": \"v\", \"showlegend\": true, \"textposition\": \"auto\", \"type\": \"bar\", \"x\": [\"Bexar\", \"Dallas\", \"Tarrant\", \"Cook\", \"Broward\", \"Clark\", \"Bronx\", \"Palm Beach\", \"Miami-Dade\", \"Queens\", \"Richmond\", \"Middlesex\", \"Suffolk\", \"San Diego\", \"Los Angeles\", \"King\", \"Kings\", \"Honolulu\", \"New York\", \"Santa Clara\", \"San Francisco\", \"San Mateo\"], \"xaxis\": \"x\", \"y\": [182057, 211782, 216765, 247090, 275854, 285483, 289186, 289962, 311997, 529387, 556041, 560437, 591986, 600862, 635840, 657240, 668589, 709429, 1075043, 1298463, 1413393, 1418645], \"yaxis\": \"y\"}, {\"alignmentgroup\": \"True\", \"hovertemplate\": \" =%{x}<br>US$=%{y}<extra></extra>\", \"legendgroup\": \"price_TOP\", \"marker\": {\"color\": \"#0EDBE9\"}, \"name\": \"price_TOP\", \"offsetgroup\": \"price_TOP\", \"orientation\": \"v\", \"showlegend\": true, \"textposition\": \"auto\", \"type\": \"bar\", \"x\": [\"Bexar\", \"Tarrant\", \"Dallas\", \"Clark\", \"Cook\", \"Broward\", \"Bronx\", \"Palm Beach\", \"Miami-Dade\", \"Richmond\", \"Queens\", \"Middlesex\", \"San Diego\", \"Suffolk\", \"King\", \"Honolulu\", \"Los Angeles\", \"Kings\", \"New York\", \"San Francisco\", \"Santa Clara\", \"San Mateo\"], \"xaxis\": \"x\", \"y\": [293087, 339667, 393306, 407196, 434514, 456677, 508407, 529428, 539452, 725667, 851169, 902023, 942417, 991610, 1065355, 1074781, 1148162, 1191665, 2035136, 2129459, 2211754, 2325701], \"yaxis\": \"y\"}, {\"mode\": \"text\", \"showlegend\": false, \"text\": [\"300k\"], \"textfont\": {\"color\": \"#e3120b\", \"size\": 12}, \"textposition\": \"top center\", \"type\": \"scatter\", \"x\": [\"Bexar\"], \"y\": [350000]}],\n",
       "                        {\"annotations\": [{\"font\": {\"color\": \"rgb(150,150,150)\", \"family\": \"Arial\", \"size\": 12}, \"showarrow\": false, \"text\": \"Source: FinCEN / US Treasury\", \"x\": 0, \"xanchor\": \"left\", \"xref\": \"paper\", \"y\": -0.2, \"yanchor\": \"top\", \"yref\": \"paper\"}], \"barmode\": \"group\", \"legend\": {\"title\": {\"text\": \" \"}, \"tracegroupgap\": 0}, \"shapes\": [{\"line\": {\"color\": \"#e3120b\", \"width\": 2}, \"type\": \"line\", \"x0\": -0.5, \"x1\": 21.5, \"xref\": \"x\", \"y0\": 300000, \"y1\": 300000, \"yref\": \"y\"}], \"template\": {\"data\": {\"bar\": [{\"error_x\": {\"color\": \"#2a3f5f\"}, \"error_y\": {\"color\": \"#2a3f5f\"}, \"marker\": {\"line\": {\"color\": \"white\", \"width\": 0.5}}, \"type\": \"bar\"}], \"barpolar\": [{\"marker\": {\"line\": {\"color\": \"white\", \"width\": 0.5}}, \"type\": \"barpolar\"}], \"carpet\": [{\"aaxis\": {\"endlinecolor\": \"#2a3f5f\", \"gridcolor\": \"#C8D4E3\", \"linecolor\": \"#C8D4E3\", \"minorgridcolor\": \"#C8D4E3\", \"startlinecolor\": \"#2a3f5f\"}, \"baxis\": {\"endlinecolor\": \"#2a3f5f\", \"gridcolor\": \"#C8D4E3\", \"linecolor\": \"#C8D4E3\", \"minorgridcolor\": \"#C8D4E3\", \"startlinecolor\": \"#2a3f5f\"}, \"type\": \"carpet\"}], \"choropleth\": [{\"colorbar\": {\"outlinewidth\": 0, \"ticks\": \"\"}, \"type\": \"choropleth\"}], \"contour\": [{\"colorbar\": {\"outlinewidth\": 0, \"ticks\": \"\"}, \"colorscale\": [[0.0, \"#0d0887\"], [0.1111111111111111, \"#46039f\"], [0.2222222222222222, \"#7201a8\"], [0.3333333333333333, \"#9c179e\"], [0.4444444444444444, \"#bd3786\"], [0.5555555555555556, \"#d8576b\"], [0.6666666666666666, \"#ed7953\"], [0.7777777777777778, \"#fb9f3a\"], [0.8888888888888888, \"#fdca26\"], [1.0, \"#f0f921\"]], \"type\": \"contour\"}], \"contourcarpet\": [{\"colorbar\": {\"outlinewidth\": 0, \"ticks\": \"\"}, \"type\": \"contourcarpet\"}], \"heatmap\": [{\"colorbar\": {\"outlinewidth\": 0, \"ticks\": \"\"}, \"colorscale\": [[0.0, \"#0d0887\"], [0.1111111111111111, \"#46039f\"], [0.2222222222222222, \"#7201a8\"], [0.3333333333333333, \"#9c179e\"], [0.4444444444444444, \"#bd3786\"], [0.5555555555555556, \"#d8576b\"], [0.6666666666666666, \"#ed7953\"], [0.7777777777777778, \"#fb9f3a\"], [0.8888888888888888, \"#fdca26\"], [1.0, \"#f0f921\"]], \"type\": \"heatmap\"}], \"heatmapgl\": [{\"colorbar\": {\"outlinewidth\": 0, \"ticks\": \"\"}, \"colorscale\": [[0.0, \"#0d0887\"], [0.1111111111111111, \"#46039f\"], [0.2222222222222222, \"#7201a8\"], [0.3333333333333333, \"#9c179e\"], [0.4444444444444444, \"#bd3786\"], [0.5555555555555556, \"#d8576b\"], [0.6666666666666666, \"#ed7953\"], [0.7777777777777778, \"#fb9f3a\"], [0.8888888888888888, \"#fdca26\"], [1.0, \"#f0f921\"]], \"type\": \"heatmapgl\"}], \"histogram\": [{\"marker\": {\"colorbar\": {\"outlinewidth\": 0, \"ticks\": \"\"}}, \"type\": \"histogram\"}], \"histogram2d\": [{\"colorbar\": {\"outlinewidth\": 0, \"ticks\": \"\"}, \"colorscale\": [[0.0, \"#0d0887\"], [0.1111111111111111, \"#46039f\"], [0.2222222222222222, \"#7201a8\"], [0.3333333333333333, \"#9c179e\"], [0.4444444444444444, \"#bd3786\"], [0.5555555555555556, \"#d8576b\"], [0.6666666666666666, \"#ed7953\"], [0.7777777777777778, \"#fb9f3a\"], [0.8888888888888888, \"#fdca26\"], [1.0, \"#f0f921\"]], \"type\": \"histogram2d\"}], \"histogram2dcontour\": [{\"colorbar\": {\"outlinewidth\": 0, \"ticks\": \"\"}, \"colorscale\": [[0.0, \"#0d0887\"], [0.1111111111111111, \"#46039f\"], [0.2222222222222222, \"#7201a8\"], [0.3333333333333333, \"#9c179e\"], [0.4444444444444444, \"#bd3786\"], [0.5555555555555556, \"#d8576b\"], [0.6666666666666666, \"#ed7953\"], [0.7777777777777778, \"#fb9f3a\"], [0.8888888888888888, \"#fdca26\"], [1.0, \"#f0f921\"]], \"type\": \"histogram2dcontour\"}], \"mesh3d\": [{\"colorbar\": {\"outlinewidth\": 0, \"ticks\": \"\"}, \"type\": \"mesh3d\"}], \"parcoords\": [{\"line\": {\"colorbar\": {\"outlinewidth\": 0, \"ticks\": \"\"}}, \"type\": \"parcoords\"}], \"pie\": [{\"automargin\": true, \"type\": \"pie\"}], \"scatter\": [{\"marker\": {\"colorbar\": {\"outlinewidth\": 0, \"ticks\": \"\"}}, \"type\": \"scatter\"}], \"scatter3d\": [{\"line\": {\"colorbar\": {\"outlinewidth\": 0, \"ticks\": \"\"}}, \"marker\": {\"colorbar\": {\"outlinewidth\": 0, \"ticks\": \"\"}}, \"type\": \"scatter3d\"}], \"scattercarpet\": [{\"marker\": {\"colorbar\": {\"outlinewidth\": 0, \"ticks\": \"\"}}, \"type\": \"scattercarpet\"}], \"scattergeo\": [{\"marker\": {\"colorbar\": {\"outlinewidth\": 0, \"ticks\": \"\"}}, \"type\": \"scattergeo\"}], \"scattergl\": [{\"marker\": {\"colorbar\": {\"outlinewidth\": 0, \"ticks\": \"\"}}, \"type\": \"scattergl\"}], \"scattermapbox\": [{\"marker\": {\"colorbar\": {\"outlinewidth\": 0, \"ticks\": \"\"}}, \"type\": \"scattermapbox\"}], \"scatterpolar\": [{\"marker\": {\"colorbar\": {\"outlinewidth\": 0, \"ticks\": \"\"}}, \"type\": \"scatterpolar\"}], \"scatterpolargl\": [{\"marker\": {\"colorbar\": {\"outlinewidth\": 0, \"ticks\": \"\"}}, \"type\": \"scatterpolargl\"}], \"scatterternary\": [{\"marker\": {\"colorbar\": {\"outlinewidth\": 0, \"ticks\": \"\"}}, \"type\": \"scatterternary\"}], \"surface\": [{\"colorbar\": {\"outlinewidth\": 0, \"ticks\": \"\"}, \"colorscale\": [[0.0, \"#0d0887\"], [0.1111111111111111, \"#46039f\"], [0.2222222222222222, \"#7201a8\"], [0.3333333333333333, \"#9c179e\"], [0.4444444444444444, \"#bd3786\"], [0.5555555555555556, \"#d8576b\"], [0.6666666666666666, \"#ed7953\"], [0.7777777777777778, \"#fb9f3a\"], [0.8888888888888888, \"#fdca26\"], [1.0, \"#f0f921\"]], \"type\": \"surface\"}], \"table\": [{\"cells\": {\"fill\": {\"color\": \"#EBF0F8\"}, \"line\": {\"color\": \"white\"}}, \"header\": {\"fill\": {\"color\": \"#C8D4E3\"}, \"line\": {\"color\": \"white\"}}, \"type\": \"table\"}]}, \"layout\": {\"annotationdefaults\": {\"arrowcolor\": \"#2a3f5f\", \"arrowhead\": 0, \"arrowwidth\": 1}, \"coloraxis\": {\"colorbar\": {\"outlinewidth\": 0, \"ticks\": \"\"}}, \"colorscale\": {\"diverging\": [[0, \"#8e0152\"], [0.1, \"#c51b7d\"], [0.2, \"#de77ae\"], [0.3, \"#f1b6da\"], [0.4, \"#fde0ef\"], [0.5, \"#f7f7f7\"], [0.6, \"#e6f5d0\"], [0.7, \"#b8e186\"], [0.8, \"#7fbc41\"], [0.9, \"#4d9221\"], [1, \"#276419\"]], \"sequential\": [[0.0, \"#0d0887\"], [0.1111111111111111, \"#46039f\"], [0.2222222222222222, \"#7201a8\"], [0.3333333333333333, \"#9c179e\"], [0.4444444444444444, \"#bd3786\"], [0.5555555555555556, \"#d8576b\"], [0.6666666666666666, \"#ed7953\"], [0.7777777777777778, \"#fb9f3a\"], [0.8888888888888888, \"#fdca26\"], [1.0, \"#f0f921\"]], \"sequentialminus\": [[0.0, \"#0d0887\"], [0.1111111111111111, \"#46039f\"], [0.2222222222222222, \"#7201a8\"], [0.3333333333333333, \"#9c179e\"], [0.4444444444444444, \"#bd3786\"], [0.5555555555555556, \"#d8576b\"], [0.6666666666666666, \"#ed7953\"], [0.7777777777777778, \"#fb9f3a\"], [0.8888888888888888, \"#fdca26\"], [1.0, \"#f0f921\"]]}, \"colorway\": [\"#636efa\", \"#EF553B\", \"#00cc96\", \"#ab63fa\", \"#FFA15A\", \"#19d3f3\", \"#FF6692\", \"#B6E880\", \"#FF97FF\", \"#FECB52\"], \"font\": {\"color\": \"#2a3f5f\"}, \"geo\": {\"bgcolor\": \"white\", \"lakecolor\": \"white\", \"landcolor\": \"white\", \"showlakes\": true, \"showland\": true, \"subunitcolor\": \"#C8D4E3\"}, \"hoverlabel\": {\"align\": \"left\"}, \"hovermode\": \"closest\", \"mapbox\": {\"style\": \"light\"}, \"paper_bgcolor\": \"white\", \"plot_bgcolor\": \"white\", \"polar\": {\"angularaxis\": {\"gridcolor\": \"#EBF0F8\", \"linecolor\": \"#EBF0F8\", \"ticks\": \"\"}, \"bgcolor\": \"white\", \"radialaxis\": {\"gridcolor\": \"#EBF0F8\", \"linecolor\": \"#EBF0F8\", \"ticks\": \"\"}}, \"scene\": {\"xaxis\": {\"backgroundcolor\": \"white\", \"gridcolor\": \"#DFE8F3\", \"gridwidth\": 2, \"linecolor\": \"#EBF0F8\", \"showbackground\": true, \"ticks\": \"\", \"zerolinecolor\": \"#EBF0F8\"}, \"yaxis\": {\"backgroundcolor\": \"white\", \"gridcolor\": \"#DFE8F3\", \"gridwidth\": 2, \"linecolor\": \"#EBF0F8\", \"showbackground\": true, \"ticks\": \"\", \"zerolinecolor\": \"#EBF0F8\"}, \"zaxis\": {\"backgroundcolor\": \"white\", \"gridcolor\": \"#DFE8F3\", \"gridwidth\": 2, \"linecolor\": \"#EBF0F8\", \"showbackground\": true, \"ticks\": \"\", \"zerolinecolor\": \"#EBF0F8\"}}, \"shapedefaults\": {\"line\": {\"color\": \"#2a3f5f\"}}, \"ternary\": {\"aaxis\": {\"gridcolor\": \"#DFE8F3\", \"linecolor\": \"#A2B1C6\", \"ticks\": \"\"}, \"baxis\": {\"gridcolor\": \"#DFE8F3\", \"linecolor\": \"#A2B1C6\", \"ticks\": \"\"}, \"bgcolor\": \"white\", \"caxis\": {\"gridcolor\": \"#DFE8F3\", \"linecolor\": \"#A2B1C6\", \"ticks\": \"\"}}, \"title\": {\"x\": 0.05}, \"xaxis\": {\"automargin\": true, \"gridcolor\": \"#EBF0F8\", \"linecolor\": \"#EBF0F8\", \"ticks\": \"\", \"title\": {\"standoff\": 15}, \"zerolinecolor\": \"#EBF0F8\", \"zerolinewidth\": 2}, \"yaxis\": {\"automargin\": true, \"gridcolor\": \"#EBF0F8\", \"linecolor\": \"#EBF0F8\", \"ticks\": \"\", \"title\": {\"standoff\": 15}, \"zerolinecolor\": \"#EBF0F8\", \"zerolinewidth\": 2}}}, \"title\": {\"text\": \"Median prices x thresholds<br>6th wave -  Aug/2018\"}, \"xaxis\": {\"anchor\": \"y\", \"domain\": [0.0, 1.0], \"title\": {\"text\": \" \"}}, \"yaxis\": {\"anchor\": \"x\", \"domain\": [0.0, 1.0], \"title\": {\"text\": \"US$\"}}},\n",
       "                        {\"responsive\": true}\n",
       "                    ).then(function(){\n",
       "                            \n",
       "var gd = document.getElementById('41f4ff77-942a-4e6d-aa15-eab0f022005e');\n",
       "var x = new MutationObserver(function (mutations, observer) {{\n",
       "        var display = window.getComputedStyle(gd).display;\n",
       "        if (!display || display === 'none') {{\n",
       "            console.log([gd, 'removed!']);\n",
       "            Plotly.purge(gd);\n",
       "            observer.disconnect();\n",
       "        }}\n",
       "}});\n",
       "\n",
       "// Listen for the removal of the full notebook cells\n",
       "var notebookContainer = gd.closest('#notebook-container');\n",
       "if (notebookContainer) {{\n",
       "    x.observe(notebookContainer, {childList: true});\n",
       "}}\n",
       "\n",
       "// Listen for the clearing of the current output cell\n",
       "var outputEl = gd.closest('.output');\n",
       "if (outputEl) {{\n",
       "    x.observe(outputEl, {childList: true});\n",
       "}}\n",
       "\n",
       "                        })\n",
       "                };\n",
       "                });\n",
       "            </script>\n",
       "        </div>"
      ]
     },
     "metadata": {},
     "output_type": "display_data"
    }
   ],
   "source": [
    "fig = px.bar(df_thres[(df_thres.tier!='threshold') & (df_thres.wave=='wave_6')], \n",
    "             y='value', \n",
    "             x='RegionName', #text='value', \n",
    "             color='tier', barmode='group',\n",
    "             template=\"plotly_white\",\n",
    "             color_discrete_sequence=[ \"lightgray\",\"#0EDBE9\", red],\n",
    "             title=\"Median prices x thresholds<br>6th wave -  Aug/2018\",\n",
    "             labels= {'value':'US$', 'RegionName':' ', 'tier':' '}\n",
    "            )\n",
    "\n",
    "fig.add_shape(type=\"line\",y0= 300000, y1= 300000, \n",
    "                          x0= -0.5, x1= 21.5,\n",
    "                          line=dict(color=red, width=2))\n",
    "\n",
    "# add annotations\n",
    "fig.add_trace(go.Scatter(\n",
    "    x=['Bexar'],\n",
    "    y=[350000],\n",
    "    mode=\"text\",\n",
    "    #name=\"threshold\",\n",
    "    text=[\"300k\"],\n",
    "    textposition=\"top center\",\n",
    "    textfont=dict(\n",
    "        #family=\"sans serif\",\n",
    "        size=12,\n",
    "        color=red), \n",
    "    showlegend=False\n",
    "))\n",
    "\n",
    "# Source\n",
    "annotations=[(dict(xref='paper', yref='paper', x=0, y=-0.20,\n",
    "                                  xanchor='left', yanchor='top',\n",
    "                                  text='Source: FinCEN / US Treasury',\n",
    "                                  font=dict(family='Arial',size=12, color='rgb(150,150,150)'),\n",
    "                                  showarrow=False))]\n",
    "\n",
    "\n",
    "fig.update_shapes(dict(xref='x', yref='y'))\n",
    "fig.update_layout(annotations=annotations)\n",
    "\n",
    "#fig.update_layout(uniformtext_minsize=8, uniformtext_mode='hide')\n",
    "fig.show()"
   ]
  },
  {
   "cell_type": "code",
   "execution_count": 165,
   "metadata": {},
   "outputs": [],
   "source": [
    "#save plot \n",
    "fig.write_html(\"../images/jm_GTO_6th_wave.html\")"
   ]
  },
  {
   "cell_type": "code",
   "execution_count": 26,
   "metadata": {},
   "outputs": [
    {
     "data": {
      "text/plain": [
       "(700, 500)"
      ]
     },
     "execution_count": 26,
     "metadata": {},
     "output_type": "execute_result"
    }
   ],
   "source": [
    "# workaround to find image size\n",
    "fig.write_image(\"../images/fig1.png\")\n",
    "\n",
    "from PIL import Image\n",
    "im=Image.open(\"../images/fig1.png\")\n",
    "im.size # (width,height) tuple"
   ]
  },
  {
   "cell_type": "markdown",
   "metadata": {},
   "source": [
    "## Time series for each treated county \n",
    "For each treated couty, I plot the TS (mid and top) and sales, when available, and the treatment dates.\n",
    "\n",
    "I will start without control variables."
   ]
  },
  {
   "cell_type": "code",
   "execution_count": 148,
   "metadata": {},
   "outputs": [
    {
     "data": {
      "text/html": [
       "<div>\n",
       "<style scoped>\n",
       "    .dataframe tbody tr th:only-of-type {\n",
       "        vertical-align: middle;\n",
       "    }\n",
       "\n",
       "    .dataframe tbody tr th {\n",
       "        vertical-align: top;\n",
       "    }\n",
       "\n",
       "    .dataframe thead th {\n",
       "        text-align: right;\n",
       "    }\n",
       "</style>\n",
       "<table border=\"1\" class=\"dataframe\">\n",
       "  <thead>\n",
       "    <tr style=\"text-align: right;\">\n",
       "      <th></th>\n",
       "      <th>FIPS</th>\n",
       "      <th>Date</th>\n",
       "      <th>RegionName</th>\n",
       "      <th>State</th>\n",
       "      <th>price_mid</th>\n",
       "      <th>logprice_mid</th>\n",
       "      <th>price_pct_mid</th>\n",
       "      <th>price_TOP</th>\n",
       "      <th>logprice_TOP</th>\n",
       "      <th>price_pct_TOP</th>\n",
       "    </tr>\n",
       "  </thead>\n",
       "  <tbody>\n",
       "    <tr>\n",
       "      <th>0</th>\n",
       "      <td>01001</td>\n",
       "      <td>2014-01</td>\n",
       "      <td>Autauga</td>\n",
       "      <td>AL</td>\n",
       "      <td>140007</td>\n",
       "      <td>11.85</td>\n",
       "      <td>0.00</td>\n",
       "      <td>217585</td>\n",
       "      <td>12.29</td>\n",
       "      <td>0.00</td>\n",
       "    </tr>\n",
       "    <tr>\n",
       "      <th>1</th>\n",
       "      <td>01001</td>\n",
       "      <td>2014-02</td>\n",
       "      <td>Autauga</td>\n",
       "      <td>AL</td>\n",
       "      <td>140229</td>\n",
       "      <td>11.85</td>\n",
       "      <td>0.00</td>\n",
       "      <td>217863</td>\n",
       "      <td>12.29</td>\n",
       "      <td>0.00</td>\n",
       "    </tr>\n",
       "    <tr>\n",
       "      <th>2</th>\n",
       "      <td>01001</td>\n",
       "      <td>2014-03</td>\n",
       "      <td>Autauga</td>\n",
       "      <td>AL</td>\n",
       "      <td>140479</td>\n",
       "      <td>11.85</td>\n",
       "      <td>0.00</td>\n",
       "      <td>218157</td>\n",
       "      <td>12.29</td>\n",
       "      <td>0.00</td>\n",
       "    </tr>\n",
       "    <tr>\n",
       "      <th>3</th>\n",
       "      <td>01001</td>\n",
       "      <td>2014-04</td>\n",
       "      <td>Autauga</td>\n",
       "      <td>AL</td>\n",
       "      <td>140779</td>\n",
       "      <td>11.85</td>\n",
       "      <td>0.00</td>\n",
       "      <td>218551</td>\n",
       "      <td>12.29</td>\n",
       "      <td>0.00</td>\n",
       "    </tr>\n",
       "    <tr>\n",
       "      <th>4</th>\n",
       "      <td>01001</td>\n",
       "      <td>2014-05</td>\n",
       "      <td>Autauga</td>\n",
       "      <td>AL</td>\n",
       "      <td>141139</td>\n",
       "      <td>11.86</td>\n",
       "      <td>0.00</td>\n",
       "      <td>219047</td>\n",
       "      <td>12.30</td>\n",
       "      <td>0.00</td>\n",
       "    </tr>\n",
       "    <tr>\n",
       "      <th>...</th>\n",
       "      <td>...</td>\n",
       "      <td>...</td>\n",
       "      <td>...</td>\n",
       "      <td>...</td>\n",
       "      <td>...</td>\n",
       "      <td>...</td>\n",
       "      <td>...</td>\n",
       "      <td>...</td>\n",
       "      <td>...</td>\n",
       "      <td>...</td>\n",
       "    </tr>\n",
       "    <tr>\n",
       "      <th>199570</th>\n",
       "      <td>56045</td>\n",
       "      <td>2019-11</td>\n",
       "      <td>Weston</td>\n",
       "      <td>WY</td>\n",
       "      <td>183719</td>\n",
       "      <td>12.12</td>\n",
       "      <td>0.00</td>\n",
       "      <td>273364</td>\n",
       "      <td>12.52</td>\n",
       "      <td>0.00</td>\n",
       "    </tr>\n",
       "    <tr>\n",
       "      <th>199571</th>\n",
       "      <td>56045</td>\n",
       "      <td>2019-12</td>\n",
       "      <td>Weston</td>\n",
       "      <td>WY</td>\n",
       "      <td>183927</td>\n",
       "      <td>12.12</td>\n",
       "      <td>0.00</td>\n",
       "      <td>273331</td>\n",
       "      <td>12.52</td>\n",
       "      <td>-0.00</td>\n",
       "    </tr>\n",
       "    <tr>\n",
       "      <th>199572</th>\n",
       "      <td>56045</td>\n",
       "      <td>2020-01</td>\n",
       "      <td>Weston</td>\n",
       "      <td>WY</td>\n",
       "      <td>184089</td>\n",
       "      <td>12.12</td>\n",
       "      <td>0.00</td>\n",
       "      <td>273177</td>\n",
       "      <td>12.52</td>\n",
       "      <td>-0.00</td>\n",
       "    </tr>\n",
       "    <tr>\n",
       "      <th>199573</th>\n",
       "      <td>56045</td>\n",
       "      <td>2020-02</td>\n",
       "      <td>Weston</td>\n",
       "      <td>WY</td>\n",
       "      <td>184259</td>\n",
       "      <td>12.12</td>\n",
       "      <td>0.00</td>\n",
       "      <td>273281</td>\n",
       "      <td>12.52</td>\n",
       "      <td>0.00</td>\n",
       "    </tr>\n",
       "    <tr>\n",
       "      <th>199574</th>\n",
       "      <td>56045</td>\n",
       "      <td>2020-03</td>\n",
       "      <td>Weston</td>\n",
       "      <td>WY</td>\n",
       "      <td>184409</td>\n",
       "      <td>12.12</td>\n",
       "      <td>0.00</td>\n",
       "      <td>273355</td>\n",
       "      <td>12.52</td>\n",
       "      <td>0.00</td>\n",
       "    </tr>\n",
       "  </tbody>\n",
       "</table>\n",
       "<p>199575 rows × 10 columns</p>\n",
       "</div>"
      ],
      "text/plain": [
       "         FIPS     Date RegionName State  price_mid  logprice_mid  \\\n",
       "0       01001  2014-01    Autauga    AL     140007         11.85   \n",
       "1       01001  2014-02    Autauga    AL     140229         11.85   \n",
       "2       01001  2014-03    Autauga    AL     140479         11.85   \n",
       "3       01001  2014-04    Autauga    AL     140779         11.85   \n",
       "4       01001  2014-05    Autauga    AL     141139         11.86   \n",
       "...       ...      ...        ...   ...        ...           ...   \n",
       "199570  56045  2019-11     Weston    WY     183719         12.12   \n",
       "199571  56045  2019-12     Weston    WY     183927         12.12   \n",
       "199572  56045  2020-01     Weston    WY     184089         12.12   \n",
       "199573  56045  2020-02     Weston    WY     184259         12.12   \n",
       "199574  56045  2020-03     Weston    WY     184409         12.12   \n",
       "\n",
       "        price_pct_mid  price_TOP  logprice_TOP  price_pct_TOP  \n",
       "0                0.00     217585         12.29           0.00  \n",
       "1                0.00     217863         12.29           0.00  \n",
       "2                0.00     218157         12.29           0.00  \n",
       "3                0.00     218551         12.29           0.00  \n",
       "4                0.00     219047         12.30           0.00  \n",
       "...               ...        ...           ...            ...  \n",
       "199570           0.00     273364         12.52           0.00  \n",
       "199571           0.00     273331         12.52          -0.00  \n",
       "199572           0.00     273177         12.52          -0.00  \n",
       "199573           0.00     273281         12.52           0.00  \n",
       "199574           0.00     273355         12.52           0.00  \n",
       "\n",
       "[199575 rows x 10 columns]"
      ]
     },
     "execution_count": 148,
     "metadata": {},
     "output_type": "execute_result"
    }
   ],
   "source": [
    "dfM =load_Zillow_YYYYMM_noCounty()\n",
    "dfM"
   ]
  },
  {
   "cell_type": "code",
   "execution_count": 150,
   "metadata": {},
   "outputs": [],
   "source": [
    "# prepare data to plot\n",
    "\n",
    "def prep_df_plot(target_vars=['price_mid', 'price_TOP'], df1 = df, level = 'price'):\n",
    "    \n",
    "    # drop vars, make long table and append tables for prices and % changes\n",
    "    \n",
    "    var_list = ['FIPS', 'Date', 'RegionName', 'State'] + target_vars\n",
    "    dfM = df.copy()\n",
    "    #print(dfM.columns)\n",
    "    dfM = dfM[var_list]\n",
    "    dfM.rename(columns={target_vars[0]:'mid',target_vars[1]:'top'}, inplace= True)\n",
    "    #print(dfM.columns)\n",
    "    dfM = dfM.melt(id_vars=['FIPS', 'Date', 'RegionName', 'State'], \n",
    "                               value_vars=['mid','top'],\n",
    "                               var_name = 'tier',\n",
    "                               value_name = 'value')\n",
    "    dfM['level']=level\n",
    "\n",
    "    return(dfM)\n",
    "    \n",
    "df_price = prep_df_plot(target_vars=['price_mid', 'price_TOP'])\n",
    "df_growth =  prep_df_plot(target_vars=['price_pct_mid', 'price_pct_TOP'], level='%change')"
   ]
  },
  {
   "cell_type": "code",
   "execution_count": 151,
   "metadata": {},
   "outputs": [
    {
     "data": {
      "text/html": [
       "<div>\n",
       "<style scoped>\n",
       "    .dataframe tbody tr th:only-of-type {\n",
       "        vertical-align: middle;\n",
       "    }\n",
       "\n",
       "    .dataframe tbody tr th {\n",
       "        vertical-align: top;\n",
       "    }\n",
       "\n",
       "    .dataframe thead th {\n",
       "        text-align: right;\n",
       "    }\n",
       "</style>\n",
       "<table border=\"1\" class=\"dataframe\">\n",
       "  <thead>\n",
       "    <tr style=\"text-align: right;\">\n",
       "      <th></th>\n",
       "      <th>FIPS</th>\n",
       "      <th>Date</th>\n",
       "      <th>RegionName</th>\n",
       "      <th>State</th>\n",
       "      <th>tier</th>\n",
       "      <th>value</th>\n",
       "      <th>level</th>\n",
       "    </tr>\n",
       "  </thead>\n",
       "  <tbody>\n",
       "    <tr>\n",
       "      <th>0</th>\n",
       "      <td>01001</td>\n",
       "      <td>2014-01</td>\n",
       "      <td>Autauga</td>\n",
       "      <td>AL</td>\n",
       "      <td>mid</td>\n",
       "      <td>140007</td>\n",
       "      <td>price</td>\n",
       "    </tr>\n",
       "    <tr>\n",
       "      <th>1</th>\n",
       "      <td>01001</td>\n",
       "      <td>2014-02</td>\n",
       "      <td>Autauga</td>\n",
       "      <td>AL</td>\n",
       "      <td>mid</td>\n",
       "      <td>140229</td>\n",
       "      <td>price</td>\n",
       "    </tr>\n",
       "    <tr>\n",
       "      <th>2</th>\n",
       "      <td>01001</td>\n",
       "      <td>2014-03</td>\n",
       "      <td>Autauga</td>\n",
       "      <td>AL</td>\n",
       "      <td>mid</td>\n",
       "      <td>140479</td>\n",
       "      <td>price</td>\n",
       "    </tr>\n",
       "    <tr>\n",
       "      <th>3</th>\n",
       "      <td>01001</td>\n",
       "      <td>2014-04</td>\n",
       "      <td>Autauga</td>\n",
       "      <td>AL</td>\n",
       "      <td>mid</td>\n",
       "      <td>140779</td>\n",
       "      <td>price</td>\n",
       "    </tr>\n",
       "    <tr>\n",
       "      <th>4</th>\n",
       "      <td>01001</td>\n",
       "      <td>2014-05</td>\n",
       "      <td>Autauga</td>\n",
       "      <td>AL</td>\n",
       "      <td>mid</td>\n",
       "      <td>141139</td>\n",
       "      <td>price</td>\n",
       "    </tr>\n",
       "    <tr>\n",
       "      <th>...</th>\n",
       "      <td>...</td>\n",
       "      <td>...</td>\n",
       "      <td>...</td>\n",
       "      <td>...</td>\n",
       "      <td>...</td>\n",
       "      <td>...</td>\n",
       "      <td>...</td>\n",
       "    </tr>\n",
       "    <tr>\n",
       "      <th>399145</th>\n",
       "      <td>56045</td>\n",
       "      <td>2019-11</td>\n",
       "      <td>Weston</td>\n",
       "      <td>WY</td>\n",
       "      <td>top</td>\n",
       "      <td>0.00</td>\n",
       "      <td>%change</td>\n",
       "    </tr>\n",
       "    <tr>\n",
       "      <th>399146</th>\n",
       "      <td>56045</td>\n",
       "      <td>2019-12</td>\n",
       "      <td>Weston</td>\n",
       "      <td>WY</td>\n",
       "      <td>top</td>\n",
       "      <td>-0.00</td>\n",
       "      <td>%change</td>\n",
       "    </tr>\n",
       "    <tr>\n",
       "      <th>399147</th>\n",
       "      <td>56045</td>\n",
       "      <td>2020-01</td>\n",
       "      <td>Weston</td>\n",
       "      <td>WY</td>\n",
       "      <td>top</td>\n",
       "      <td>-0.00</td>\n",
       "      <td>%change</td>\n",
       "    </tr>\n",
       "    <tr>\n",
       "      <th>399148</th>\n",
       "      <td>56045</td>\n",
       "      <td>2020-02</td>\n",
       "      <td>Weston</td>\n",
       "      <td>WY</td>\n",
       "      <td>top</td>\n",
       "      <td>0.00</td>\n",
       "      <td>%change</td>\n",
       "    </tr>\n",
       "    <tr>\n",
       "      <th>399149</th>\n",
       "      <td>56045</td>\n",
       "      <td>2020-03</td>\n",
       "      <td>Weston</td>\n",
       "      <td>WY</td>\n",
       "      <td>top</td>\n",
       "      <td>0.00</td>\n",
       "      <td>%change</td>\n",
       "    </tr>\n",
       "  </tbody>\n",
       "</table>\n",
       "<p>798300 rows × 7 columns</p>\n",
       "</div>"
      ],
      "text/plain": [
       "         FIPS     Date RegionName State tier   value    level\n",
       "0       01001  2014-01    Autauga    AL  mid  140007    price\n",
       "1       01001  2014-02    Autauga    AL  mid  140229    price\n",
       "2       01001  2014-03    Autauga    AL  mid  140479    price\n",
       "3       01001  2014-04    Autauga    AL  mid  140779    price\n",
       "4       01001  2014-05    Autauga    AL  mid  141139    price\n",
       "...       ...      ...        ...   ...  ...     ...      ...\n",
       "399145  56045  2019-11     Weston    WY  top    0.00  %change\n",
       "399146  56045  2019-12     Weston    WY  top   -0.00  %change\n",
       "399147  56045  2020-01     Weston    WY  top   -0.00  %change\n",
       "399148  56045  2020-02     Weston    WY  top    0.00  %change\n",
       "399149  56045  2020-03     Weston    WY  top    0.00  %change\n",
       "\n",
       "[798300 rows x 7 columns]"
      ]
     },
     "execution_count": 151,
     "metadata": {},
     "output_type": "execute_result"
    }
   ],
   "source": [
    "dfM =  df_price.append(df_growth)\n",
    "dfM"
   ]
  },
  {
   "cell_type": "code",
   "execution_count": 233,
   "metadata": {},
   "outputs": [],
   "source": [
    "def plot_series (title= \"House prices\", df1=dfM, level='price', state=['NY']):\n",
    "\n",
    "    # if working only with treated counties - can work with many other selections\n",
    "    dfM = df1.loc[(df1.FIPS.isin(GTO.FIPS.unique())& (df1.State.isin(state)))]\n",
    "    dfM = dfM[dfM.level==level]\n",
    "    \n",
    "    # number of lines and row on faceted plot - \n",
    "    # now I am setting wrap to number of states \n",
    "    #so I dont need to loop over rows, but I kept the code.\n",
    "    n_county = len(dfM.RegionName.unique())\n",
    "    # col_wrap = n_county # uncomment if you dont to wrap by same number of counties\n",
    "    col_wrap = n_county\n",
    "    n_row = n_county // col_wrap # integer part\n",
    "    \n",
    "    # title only plot prices\n",
    "    title = ((title + ': '+ ', '.join(state)) if level=='price' else '')\n",
    "    \n",
    "    fig = px.line(dfM,          \n",
    "              x=\"Date\", \n",
    "              y='value',\n",
    "              color='tier',\n",
    "              title=title,\n",
    "              #facet_row=\"State\",\n",
    "              facet_col='RegionName', \n",
    "              facet_col_wrap=col_wrap,\n",
    "              template=\"plotly_white\",\n",
    "              #color_discrete_sequence=['C3CBF9''#053061'],\n",
    "              color_discrete_sequence=['#00CBF9','#0E4D92'],\n",
    "              \n",
    "              labels= {'State':'','Date':'', 'RegionName':'', 'value':'',\n",
    "                      },)\n",
    "    \n",
    "    # min and max of y - to make vertical lines\n",
    "    min_y = min(dfM.value)*.9\n",
    "    max_y = max(dfM.value)*1.1\n",
    "    min_x = min(dfM.Date)\n",
    "    max_x = max(dfM.Date)\n",
    "    \n",
    "    # vertical lines on every subplot:\n",
    "    \n",
    "    def make_line(date, row, col, color='gray', dash='dash'):  \n",
    "        fig.add_shape(type='line',y0= min_y, y1= max_y, \n",
    "                      x0= date, x1= date,\n",
    "                      row=row, col=col,\n",
    "                      line=dict(color=color, width=1, dash=dash))\n",
    "    \n",
    "    \n",
    "    for n in list(range(n_row+1)):\n",
    "        for m in list(range(col_wrap)):\n",
    "            if ((n_county%col_wrap != 0) & (n==n_row & m==col_wrap)):\n",
    "                pass\n",
    "            else:\n",
    "                make_line('2018-8', row=n, col=m, color='red') # 6th wave    \n",
    "\n",
    "                        \n",
    "                # add horizontal line at y = 0 on percentage change prices\n",
    "                if level=='%change':\n",
    "                    fig.add_shape(type='line',y0= 0, y1= 0, \n",
    "                      x0= min_x, x1= max_x,\n",
    "                      row=n, col=m,\n",
    "                      line=dict(color=\"darkgray\", width=.5))\n",
    "                \n",
    "    # vertical line on 2 first treatments on NY and Florida + first treatment on the rest\n",
    "    if 'NY' in state:\n",
    "        loc = list(dfM.RegionName.unique()).index('New York') + 1\n",
    "        make_line('2016-3', row=0, col=loc)    # first wave\n",
    "        for county in ['Bronx', 'Kings', 'New York', 'Queens','Richmond']:\n",
    "            loc = list(dfM.RegionName.unique()).index(county) + 1\n",
    "            make_line('2016-8', row=0, col=loc) # 2nd \n",
    "            make_line('2017-8', row=0, col=loc, dash='dot', color='red') # 4th\n",
    "        \n",
    "    elif 'FL'in state:\n",
    "        loc = list(dfM.RegionName.unique()).index('Miami-Dade') + 1\n",
    "        make_line('2016-3', row=0, col=loc)     # first wave\n",
    "        for county in ['Broward', 'Miami-Dade', 'Palm Beach']:\n",
    "            loc = list(dfM.RegionName.unique()).index(county) + 1\n",
    "            make_line('2016-8', row=0, col=loc) # 2nd \n",
    "            make_line('2017-8', row=0, col=loc, dash='dot', color='red') # 4th\n",
    "\n",
    "            \n",
    "    elif 'CA'in state:\n",
    "        for county in ['Los Angeles', 'San Diego', 'San Francisco', 'San Mateo',\n",
    "                       'Santa Clara']:\n",
    "            loc = list(dfM.RegionName.unique()).index(county) + 1\n",
    "            make_line('2016-8', row=0, col=loc) # 2nd \n",
    "            make_line('2017-8', row=0, col=loc, dash='dot', color='red') # 4th\n",
    "      \n",
    "    elif 'TX'in state:\n",
    "        for county in ['Bexar']:\n",
    "            loc = list(dfM.RegionName.unique()).index(county) + 1\n",
    "            make_line('2016-8', row=0, col=loc) # 2nd \n",
    "            make_line('2017-8', row=0, col=loc, dash='dot', color='red') # 4th\n",
    "\n",
    "    elif 'HI'in state:\n",
    "        for county in ['Honolulu']:\n",
    "            loc = list(dfM.RegionName.unique()).index(county) + 1\n",
    "            make_line('2017-8', row=0, col=loc, dash='dot', color='red') # 4tH\n",
    "\n",
    "    width = 172*col_wrap +150\n",
    "    height=(295 if level=='price' else 265) # ternary operator \n",
    "   \n",
    "    #adjust margins to fit reveal.js\n",
    "    margin=dict(autoexpand=False,b=40, t=50) # margin larger to fit \"source\"\n",
    "    \n",
    "    # Add source\n",
    "    if level=='%change':\n",
    "        annotations=[(dict(xref='paper', yref='paper', x=0, y=-.3,\n",
    "                                  xanchor='left', yanchor='top',\n",
    "                                  text='Source: FinCEN / US Treasury',\n",
    "                                  font=dict(family='Arial',size=12, color='rgb(150,150,150)'),\n",
    "                                showarrow=False))]\n",
    "        \n",
    "        margin=dict(autoexpand=False,t=10, b=70) # margin larger to fit \"source\"\n",
    "        fig.update_layout(annotations=annotations)\n",
    "    \n",
    "        \n",
    "    fig.update_layout(autosize=False, width=width, height=height,margin= margin)\n",
    "    fig.update_xaxes(tickangle=-90, nticks=2,)\n",
    "    \n",
    "    # Show only values on facet labels\n",
    "    fig.for_each_annotation(lambda a: a.update(text=a.text.replace(\"=\", \"\")))\n",
    "    \n",
    "    return fig"
   ]
  },
  {
   "cell_type": "code",
   "execution_count": 234,
   "metadata": {},
   "outputs": [],
   "source": [
    "fig1 = plot_series(level='price', state=['NY'])\n",
    "fig2 = plot_series(title='% price change', level='%change', state=['NY'])"
   ]
  },
  {
   "cell_type": "code",
   "execution_count": 235,
   "metadata": {},
   "outputs": [],
   "source": [
    "def plot_TS():\n",
    "    for states in [['NY'],['FL','MA'], ['CA'],['NV', 'HI','TX'],['WA', 'IL']]:\n",
    "        fig1 = plot_series(level='price', state=states)\n",
    "        fig2 = plot_series(title='% price change', level='%change', state=states)\n",
    "        fig1.write_html(\"../images/jm_GTO_TS1_\" + states[0] + \".html\")\n",
    "        fig2.write_html(\"../images/jm_GTO_TS2_\" + states[0] + \".html\")\n",
    "        \n",
    "        # workaround to find image size\n",
    "        fig1.write_image(\"../images/fig1.png\")\n",
    "        im=Image.open(\"../images/fig1.png\")\n",
    "        print(\"level\", states[0],  im.size) # (width,height) tuple\n",
    "        \n",
    "        fig2.write_image(\"../images/fig1.png\")\n",
    "        im=Image.open(\"../images/fig1.png\")\n",
    "        print(\"% change\", states[0],  im.size) # (width,height) tuple"
   ]
  },
  {
   "cell_type": "markdown",
   "metadata": {},
   "source": [
    "The plot show the time series of house prices and price changes for each treated county. I mark specific dates with vertical lines:\n",
    "* dashed gray: first time treated (also marked 2nd time for Miami and NYC)\n",
    "* dotted red: inclusion of wire transfers (4th wave - Aug/2017)\n",
    "* dashed red: threshold = US$300,000 and incl. criptocurrencies(6th wave - Aug/2017)\n",
    "    "
   ]
  },
  {
   "cell_type": "code",
   "execution_count": 236,
   "metadata": {},
   "outputs": [
    {
     "name": "stdout",
     "output_type": "stream",
     "text": [
      "level NY (1010, 295)\n",
      "% change NY (1010, 265)\n",
      "level FL (1010, 295)\n",
      "% change FL (1010, 265)\n",
      "level CA (1010, 295)\n",
      "% change CA (1010, 265)\n",
      "level NV (1010, 295)\n",
      "% change NV (1010, 265)\n",
      "level WA (494, 295)\n",
      "% change WA (494, 265)\n"
     ]
    }
   ],
   "source": [
    "plot_TS()"
   ]
  },
  {
   "cell_type": "code",
   "execution_count": null,
   "metadata": {},
   "outputs": [],
   "source": []
  },
  {
   "cell_type": "code",
   "execution_count": null,
   "metadata": {},
   "outputs": [],
   "source": []
  }
 ],
 "metadata": {
  "kernelspec": {
   "display_name": "Python 3",
   "language": "python",
   "name": "python3"
  },
  "language_info": {
   "codemirror_mode": {
    "name": "ipython",
    "version": 3
   },
   "file_extension": ".py",
   "mimetype": "text/x-python",
   "name": "python",
   "nbconvert_exporter": "python",
   "pygments_lexer": "ipython3",
   "version": "3.8.2"
  }
 },
 "nbformat": 4,
 "nbformat_minor": 4
}
