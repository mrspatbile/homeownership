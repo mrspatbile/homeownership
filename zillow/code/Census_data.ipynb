{
 "cells": [
  {
   "cell_type": "markdown",
   "metadata": {},
   "source": [
    "Census Data\n",
    "\n",
    "- population\n",
    "- density\n",
    "- income\n",
    "-\n",
    "\n",
    "\n",
    "Census Data documentation\n",
    "https://jtleider.github.io/censusdata/variables.html\n",
    "\n",
    "#### Detailed tables\n",
    "These provide the most detailed set of variables. Table names begin with B followed by a numeric code.\n",
    "\n",
    "#### Data profile tables\n",
    "These tables are designed to provide information on a broad array of characteristics for a given geography. There are data profile tables on:\n",
    "\n",
    "* Social Characteristics (DP02)\n",
    "* Economic Characteristics (DP03)\n",
    "* Housing Characteristics (DP04)\n",
    "* Demographic Characteristics (DP05)\n",
    "\n",
    "Subject tables. These tables are designed to provide information on narrower topics for a broader range of geographies. Table names begin with S.\n",
    "\n",
    "Comparison profile tables. These tables provide information on changes in characteristics in particular geographies over time, including statistical significance testing. Table names begin with CP.\n",
    "\n",
    "(Note that this package does not support the new Selected population profile tables for the 1-year estimates.)"
   ]
  },
  {
   "cell_type": "code",
   "execution_count": 1,
   "metadata": {},
   "outputs": [
    {
     "ename": "ModuleNotFoundError",
     "evalue": "No module named 'census'",
     "output_type": "error",
     "traceback": [
      "\u001b[0;31m---------------------------------------------------------------------------\u001b[0m",
      "\u001b[0;31mModuleNotFoundError\u001b[0m                       Traceback (most recent call last)",
      "\u001b[0;32m<ipython-input-1-e875e5b90bee>\u001b[0m in \u001b[0;36m<module>\u001b[0;34m\u001b[0m\n\u001b[0;32m----> 1\u001b[0;31m \u001b[0;32mimport\u001b[0m \u001b[0mcensus\u001b[0m\u001b[0;34m\u001b[0m\u001b[0;34m\u001b[0m\u001b[0m\n\u001b[0m",
      "\u001b[0;31mModuleNotFoundError\u001b[0m: No module named 'census'"
     ]
    }
   ],
   "source": [
    "# taking data from Google Cloud Platform\n",
    "bigquery-public-data:census_bureau_acs.county_2014_1yr\n",
    "bigquery-public-data:census_bureau_acs.county_2015_1yr\n",
    "bigquery-public-data:census_bureau_acs.county_2016_1yr  \n",
    "bigquery-public-data:census_bureau_acs.county_2017_1yr\n",
    "bigquery-public-data:census_bureau_acs.county_2018_1yr"
   ]
  },
  {
   "cell_type": "code",
   "execution_count": null,
   "metadata": {},
   "outputs": [],
   "source": [
    "WITH acs_2017 AS (\n",
    "  SELECT geo_id, median_income AS median_income_2017\n",
    "  FROM `bigquery-public-data.census_bureau_acs.censustract_2017_5yr`  \n",
    "  WHERE geo_id LIKE '36047%' --Selecting Brooklyn\n",
    "),\n",
    "\n",
    "acs_2010 AS (\n",
    "  SELECT geo_id, median_income AS median_income_2010\n",
    "  FROM `bigquery-public-data.census_bureau_acs.censustract_2010_5yr` \n",
    "  WHERE geo_id LIKE '36047%' --Selecting Brooklyn\n",
    "),\n",
    "\n",
    "acs_diff AS (\n",
    "  SELECT\n",
    "    a17.geo_id, \n",
    "    a17.median_income_2017, \n",
    "    a10.median_income_2010,\n",
    "    (a17.median_income_2017 - a10.median_income_2010) AS median_income_diff, \n",
    "    geo.tract_geom AS tract_geom\n",
    "  FROM acs_2017 a17\n",
    "  JOIN acs_2010 a10\n",
    "    ON a17.geo_id = a10.geo_id\n",
    "  JOIN `bigquery-public-data.geo_census_tracts.census_tracts_new_york`geo\n",
    "    ON a17.geo_id = geo.geo_id\n",
    ")\n",
    "\n",
    "SELECT * FROM acs_diff WHERE median_income_diff IS NOT NULL\n",
    "\n"
   ]
  }
 ],
 "metadata": {
  "kernelspec": {
   "display_name": "Python 3",
   "language": "python",
   "name": "python3"
  },
  "language_info": {
   "codemirror_mode": {
    "name": "ipython",
    "version": 3
   },
   "file_extension": ".py",
   "mimetype": "text/x-python",
   "name": "python",
   "nbconvert_exporter": "python",
   "pygments_lexer": "ipython3",
   "version": "3.8.2"
  }
 },
 "nbformat": 4,
 "nbformat_minor": 4
}
