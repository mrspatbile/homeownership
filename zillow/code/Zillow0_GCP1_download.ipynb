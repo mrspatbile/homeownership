{
 "cells": [
  {
   "cell_type": "markdown",
   "metadata": {},
   "source": [
    "# Download covariates\n",
    "\n",
    "On this code I download datasets from Census available on Google Cloud Platform free public data:\n",
    "- 1 year ACS for years 2010-2018 \n",
    "- US counties areas, lat?long\n",
    "- US bordering counties \n",
    "\n",
    "______\n",
    "\n",
    "#### Setup GCP\n",
    "\n",
    "“Follow the instructions in the Getting started with authentication page to set up Application Default Credentials.\"\n",
    "\n",
    "Basically:\n",
    "* create python environment\n",
    "* create new project on GCP\n",
    "* on the project, create a service account, where u are `project manager`\n",
    "    \n",
    "    A .js file will be downloaded to your machine\n",
    "    \n",
    "    \n",
    "* create a environment variable: on console write:\n",
    "    \n",
    "    `export GOOGLE_APPLICATION_CREDENTIALS=\"/Users/pelly/Desktop/GCP\"`\n"
   ]
  },
  {
   "cell_type": "code",
   "execution_count": 1,
   "metadata": {},
   "outputs": [],
   "source": [
    "%load_ext google.cloud.bigquery"
   ]
  },
  {
   "cell_type": "markdown",
   "metadata": {},
   "source": [
    "### 1 year ACS"
   ]
  },
  {
   "cell_type": "markdown",
   "metadata": {},
   "source": [
    "Run the following code, replacing 2013 (4 times) for the year you want (done 2010-2018)"
   ]
  },
  {
   "cell_type": "code",
   "execution_count": 16,
   "metadata": {},
   "outputs": [],
   "source": [
    "%%bigquery ACS_2013\n",
    "SELECT *\n",
    "FROM `bigquery-public-data.census_bureau_acs.county_2013_1yr`"
   ]
  },
  {
   "cell_type": "code",
   "execution_count": 6,
   "metadata": {},
   "outputs": [
    {
     "data": {
      "text/plain": [
       "'/Users/pelly/python/zillow/code'"
      ]
     },
     "execution_count": 6,
     "metadata": {},
     "output_type": "execute_result"
    }
   ],
   "source": [
    "%pwd"
   ]
  },
  {
   "cell_type": "code",
   "execution_count": 17,
   "metadata": {
    "scrolled": true
   },
   "outputs": [],
   "source": [
    "ACS_2013.to_csv('../input2/ACS_2013.csv')"
   ]
  },
  {
   "cell_type": "markdown",
   "metadata": {},
   "source": [
    "### US County Boundaries"
   ]
  },
  {
   "cell_type": "code",
   "execution_count": 52,
   "metadata": {},
   "outputs": [],
   "source": [
    "%%bigquery UScounty_boundaries\n",
    "SELECT \n",
    "    geo_id,\n",
    "    area_land_meters,\n",
    "    area_water_meters,\n",
    "    int_point_lat,\n",
    "    int_point_lon\n",
    "\n",
    "FROM `bigquery-public-data.geo_us_boundaries.counties`"
   ]
  },
  {
   "cell_type": "code",
   "execution_count": 53,
   "metadata": {},
   "outputs": [],
   "source": [
    "\n",
    "UScounty_boundaries.to_csv('../input2/UScounty_boundaries.csv')"
   ]
  },
  {
   "cell_type": "markdown",
   "metadata": {},
   "source": [
    "### US Adjacent Counties"
   ]
  },
  {
   "cell_type": "code",
   "execution_count": 54,
   "metadata": {},
   "outputs": [],
   "source": [
    "%%bigquery USadjacent_counties\n",
    "SELECT *\n",
    "\n",
    "FROM `bigquery-public-data.geo_us_boundaries.adjacent_counties`"
   ]
  },
  {
   "cell_type": "code",
   "execution_count": 55,
   "metadata": {},
   "outputs": [],
   "source": [
    "USadjacent_counties.to_csv('../input2/USadjacent_counties.csv')"
   ]
  },
  {
   "cell_type": "markdown",
   "metadata": {},
   "source": [
    "### Air Quality"
   ]
  },
  {
   "cell_type": "code",
   "execution_count": 37,
   "metadata": {},
   "outputs": [],
   "source": [
    "%%bigquery airquality_2004\n",
    "\n",
    "SELECT \n",
    "    state_code,\n",
    "    county_code,\n",
    "    site_num,\n",
    "    parameter_code,\n",
    "    latitude, \n",
    "    longitude ,\n",
    "    datum, \n",
    "    parameter_name,\n",
    "    metric_used,\n",
    "    method_name,\n",
    "    year, \n",
    "    units_of_measure,\n",
    "    arithmetic_mean,\n",
    "    arithmetic_standard_dev\n",
    "\n",
    "FROM `bigquery-public-data.epa_historical_air_quality.air_quality_annual_summary`\n",
    "WHERE year = 2004\n"
   ]
  },
  {
   "cell_type": "code",
   "execution_count": 38,
   "metadata": {},
   "outputs": [],
   "source": [
    "airquality_2004.to_csv('../input2/airquality_2004.csv')"
   ]
  },
  {
   "cell_type": "code",
   "execution_count": null,
   "metadata": {},
   "outputs": [],
   "source": []
  }
 ],
 "metadata": {
  "kernelspec": {
   "display_name": "Python 3",
   "language": "python",
   "name": "python3"
  },
  "language_info": {
   "codemirror_mode": {
    "name": "ipython",
    "version": 3
   },
   "file_extension": ".py",
   "mimetype": "text/x-python",
   "name": "python",
   "nbconvert_exporter": "python",
   "pygments_lexer": "ipython3",
   "version": "3.8.2"
  }
 },
 "nbformat": 4,
 "nbformat_minor": 4
}
