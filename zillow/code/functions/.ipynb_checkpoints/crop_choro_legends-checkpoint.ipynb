{
 "cells": [
  {
   "cell_type": "markdown",
   "metadata": {},
   "source": [
    "# Crops choropleths\n",
    "Workaround to use choropleths faceting, generated with plotly express\n",
    "- get rid of repeted legends\n",
    "- crops white border"
   ]
  },
  {
   "cell_type": "code",
   "execution_count": 2,
   "metadata": {
    "scrolled": true
   },
   "outputs": [],
   "source": [
    "from PIL import Image\n",
    "import os"
   ]
  },
  {
   "cell_type": "code",
   "execution_count": 3,
   "metadata": {},
   "outputs": [
    {
     "data": {
      "text/plain": [
       "['f_1996.png',\n",
       " 'f_2000.png',\n",
       " 'f_2004.png',\n",
       " 'f_2008.png',\n",
       " 'f_2012.png',\n",
       " 'f_2016.png']"
      ]
     },
     "execution_count": 3,
     "metadata": {},
     "output_type": "execute_result"
    }
   ],
   "source": [
    "# files to crop - last one I will keep legend\n",
    "f = os.listdir('../../images')\n",
    "f.sort()\n",
    "f[1:7]"
   ]
  },
  {
   "cell_type": "code",
   "execution_count": 4,
   "metadata": {},
   "outputs": [
    {
     "data": {
      "text/plain": [
       "(800, 500)"
      ]
     },
     "execution_count": 4,
     "metadata": {},
     "output_type": "execute_result"
    }
   ],
   "source": [
    "im = Image.open('../../images/' + f[1])\n",
    "im.size"
   ]
  },
  {
   "cell_type": "code",
   "execution_count": null,
   "metadata": {},
   "outputs": [],
   "source": [
    "for file in f[1:8]:\n",
    "    im = Image.open('../../images/' + file)\n",
    "    im.crop((100, 10, 640, 420)).save('../../images/g_'+ file, quality=95) # left, upper, right, and lower pixel"
   ]
  },
  {
   "cell_type": "code",
   "execution_count": 19,
   "metadata": {},
   "outputs": [],
   "source": [
    "# legend\n",
    "im = Image.open('../../images/' + f[7])\n",
    "im.crop((680, 10, 790, 420)).save('../../images/legend.png', quality=95) # left, upper, right, and lower pixel"
   ]
  }
 ],
 "metadata": {
  "kernelspec": {
   "display_name": "Python 3",
   "language": "python",
   "name": "python3"
  },
  "language_info": {
   "codemirror_mode": {
    "name": "ipython",
    "version": 3
   },
   "file_extension": ".py",
   "mimetype": "text/x-python",
   "name": "python",
   "nbconvert_exporter": "python",
   "pygments_lexer": "ipython3",
   "version": "3.8.2"
  }
 },
 "nbformat": 4,
 "nbformat_minor": 4
}
