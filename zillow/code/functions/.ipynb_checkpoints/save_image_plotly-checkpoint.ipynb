{
 "cells": [
  {
   "cell_type": "code",
   "execution_count": null,
   "metadata": {},
   "outputs": [],
   "source": [
    "# %run ../../aid/save_image_plotly.ipynb"
   ]
  },
  {
   "cell_type": "code",
   "execution_count": 9,
   "metadata": {},
   "outputs": [],
   "source": [
    "import os\n",
    "\n",
    "def save_plotly(figure, filename):\n",
    "    \n",
    "    # create folder\n",
    "    if not os.path.exists(\"../images\"):\n",
    "        os.mkdir(\"../images\")\n",
    "        \n",
    "    # male path and save\n",
    "    path = os.path.join(\"../images\",filename)\n",
    "    \n",
    "    ext = filename[len(filename)-4:]\n",
    "    \n",
    "    if ext == '.png':\n",
    "        figure.write_image(path)\n",
    "    elif ext == 'html':\n",
    "        figure.write_html(path, include_plotlyjs = False)\n",
    "        #figure.write_html(path)\n",
    "        print('reminder: large files - self contained iteractive)')\n",
    "    \n",
    "    else: \n",
    "        print('Error: please provide either .html or .png filenames')\n",
    "    "
   ]
  },
  {
   "cell_type": "code",
   "execution_count": null,
   "metadata": {},
   "outputs": [],
   "source": [
    "print('Function save_plotly(figure, filename)')\n",
    "print()"
   ]
  }
 ],
 "metadata": {
  "kernelspec": {
   "display_name": "Python 3",
   "language": "python",
   "name": "python3"
  },
  "language_info": {
   "codemirror_mode": {
    "name": "ipython",
    "version": 3
   },
   "file_extension": ".py",
   "mimetype": "text/x-python",
   "name": "python",
   "nbconvert_exporter": "python",
   "pygments_lexer": "ipython3",
   "version": "3.8.2"
  }
 },
 "nbformat": 4,
 "nbformat_minor": 4
}
