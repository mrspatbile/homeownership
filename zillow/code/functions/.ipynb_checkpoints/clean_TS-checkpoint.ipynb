{
 "cells": [
  {
   "cell_type": "code",
   "execution_count": 2,
   "metadata": {},
   "outputs": [],
   "source": [
    "def clean_TS(dfx, ind):\n",
    "    '''\n",
    "    Function that melts time series in horizontal form to long form\n",
    "    dfx: dataframe to be converted\n",
    "    ind: name to attribute to the new columns (='value name'). \n",
    "    For zillow data is ok to set 'index', 'price', 'Zri'...\n",
    "    '''\n",
    "    # order by most recent date, so legend will appear on the same order as lines on left\n",
    "    dfx_ord = dfx.sort_values(by=[dfx.columns[-1]],ascending=False)\n",
    "    \n",
    "    # last date \n",
    "    initial_date = dfx_ord.columns.str.match('\\d+-\\d+').argmax()\n",
    "    \n",
    "    # data in long format\n",
    "    return (pd.melt(dfx_ord,\n",
    "            id_vars = dfx_ord.columns[:initial_date],   # all columns before dates\n",
    "            value_vars= dfx_ord.columns[initial_date:], # columns with dates\n",
    "            var_name='Date',\n",
    "            value_name=ind))"
   ]
  },
  {
   "cell_type": "code",
   "execution_count": 3,
   "metadata": {},
   "outputs": [
    {
     "name": "stdout",
     "output_type": "stream",
     "text": [
      "Function clean_TS(dataframe, value_name)\n",
      "Chose a value_name of your preference: 'index', 'price', 'Zri'...\n",
      "\n"
     ]
    }
   ],
   "source": [
    "print(\"Function clean_TS(dataframe, value_name)\")\n",
    "print(\"Chose a value_name of your preference: 'index', 'price', 'Zri'...\")\n",
    "print()"
   ]
  }
 ],
 "metadata": {
  "kernelspec": {
   "display_name": "Python 3",
   "language": "python",
   "name": "python3"
  },
  "language_info": {
   "codemirror_mode": {
    "name": "ipython",
    "version": 3
   },
   "file_extension": ".py",
   "mimetype": "text/x-python",
   "name": "python",
   "nbconvert_exporter": "python",
   "pygments_lexer": "ipython3",
   "version": "3.8.2"
  }
 },
 "nbformat": 4,
 "nbformat_minor": 4
}
