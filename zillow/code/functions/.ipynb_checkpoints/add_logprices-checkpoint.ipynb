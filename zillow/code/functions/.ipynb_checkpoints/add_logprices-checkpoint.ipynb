{
 "cells": [
  {
   "cell_type": "code",
   "execution_count": null,
   "metadata": {},
   "outputs": [],
   "source": [
    "# insert log prices, computed from last column\n",
    "def add_logprices(df):\n",
    "    \n",
    "    '''add column of log prices from last column'''\n",
    "    \n",
    "    df.insert(loc=len(df.columns), #position as last column\n",
    "              column='log price', \n",
    "              value=np.log(df.iloc[:,-1])) # from former last column\n",
    "    \n",
    "    #df['log price'] = np.round(df['log price'], decimals=1)"
   ]
  },
  {
   "cell_type": "code",
   "execution_count": null,
   "metadata": {},
   "outputs": [],
   "source": [
    "print(\"Function add_logprices(df)\")\n",
    "print(\"Log prices are created from last column.\")\n",
    "print()"
   ]
  }
 ],
 "metadata": {
  "kernelspec": {
   "display_name": "Python 3",
   "language": "python",
   "name": "python3"
  },
  "language_info": {
   "codemirror_mode": {
    "name": "ipython",
    "version": 3
   },
   "file_extension": ".py",
   "mimetype": "text/x-python",
   "name": "python",
   "nbconvert_exporter": "python",
   "pygments_lexer": "ipython3",
   "version": "3.8.2"
  }
 },
 "nbformat": 4,
 "nbformat_minor": 4
}
