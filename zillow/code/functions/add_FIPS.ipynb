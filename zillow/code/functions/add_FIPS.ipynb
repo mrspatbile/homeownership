{
 "cells": [
  {
   "cell_type": "code",
   "execution_count": null,
   "metadata": {},
   "outputs": [],
   "source": [
    "def add_FIPS(df):\n",
    "    \n",
    "    '''adds FIPS columns  to dataframe'''\n",
    "    \n",
    "    # new column with fips codes\n",
    "    fips_S = [str(code).zfill(2) for code in df['StateCodeFIPS']]\n",
    "    fips_C = [str(code1).zfill(3) for code1 in df['MunicipalCodeFIPS']] \n",
    "    loc = df.columns.get_loc('StateCodeFIPS')\n",
    "    df.insert(loc=loc, column='FIPS', value=[S+C for S,C in zip(fips_S, fips_C)]) \n",
    "    "
   ]
  },
  {
   "cell_type": "code",
   "execution_count": null,
   "metadata": {},
   "outputs": [],
   "source": [
    "print(\"Function add_FIPS(df)\")\n",
    "print()"
   ]
  }
 ],
 "metadata": {
  "kernelspec": {
   "display_name": "Python 3",
   "language": "python",
   "name": "python3"
  },
  "language_info": {
   "codemirror_mode": {
    "name": "ipython",
    "version": 3
   },
   "file_extension": ".py",
   "mimetype": "text/x-python",
   "name": "python",
   "nbconvert_exporter": "python",
   "pygments_lexer": "ipython3",
   "version": "3.8.2"
  }
 },
 "nbformat": 4,
 "nbformat_minor": 4
}
