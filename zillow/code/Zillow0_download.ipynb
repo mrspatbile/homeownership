{
 "cells": [
  {
   "cell_type": "markdown",
   "metadata": {},
   "source": [
    "# Download  Zillow data\n",
    "This code downloads files from Zillow Research to keep raw files locally so we have access to same original data, for reproducibility. "
   ]
  },
  {
   "cell_type": "code",
   "execution_count": 23,
   "metadata": {},
   "outputs": [
    {
     "data": {
      "text/plain": [
       "'/Users/pelly/opt/miniconda3/envs/geo_plotnine/bin/python'"
      ]
     },
     "execution_count": 23,
     "metadata": {},
     "output_type": "execute_result"
    }
   ],
   "source": [
    "from urllib.request import urlretrieve\n",
    "import os\n",
    "import sys\n",
    "sys.executable # check environment"
   ]
  },
  {
   "cell_type": "code",
   "execution_count": 2,
   "metadata": {
    "scrolled": true
   },
   "outputs": [],
   "source": [
    "# base url same for rentals or prices\n",
    "url_base = 'http://files.zillowstatic.com/research/public/'\n",
    "\n",
    "# add to url specific path for price indices and files available\n",
    "url_county = 'County/County_Zhvi_'\n",
    "url_state  = 'State/State_Zhvi_'\n",
    "\n",
    "# concatenate paths\n",
    "url_county_base = os.path.join(url_base, url_county) \n",
    "url_state_base = os.path.join(url_base, url_state) "
   ]
  },
  {
   "cell_type": "markdown",
   "metadata": {},
   "source": [
    "## House Prices\n",
    "\n",
    "Files downloaded on April 25, 2020, from zillow reasearch."
   ]
  },
  {
   "cell_type": "code",
   "execution_count": 3,
   "metadata": {},
   "outputs": [
    {
     "data": {
      "text/plain": [
       "'http://files.zillowstatic.com/research/public/County/County_Zhvi_'"
      ]
     },
     "execution_count": 3,
     "metadata": {},
     "output_type": "execute_result"
    }
   ],
   "source": [
    "# check url\n",
    "url_county_base "
   ]
  },
  {
   "cell_type": "code",
   "execution_count": 4,
   "metadata": {
    "scrolled": true
   },
   "outputs": [
    {
     "data": {
      "text/plain": [
       "['../input/zhvi/County_Zhvi_BottomTier.csv',\n",
       " '../input/zhvi/County_Zhvi_SingleFamilyResidence.csv',\n",
       " '../input/zhvi/County_Zhvi_TopTier.csv',\n",
       " '../input/zhvi/County_Zhvi_AllHomes.csv',\n",
       " '../input/zhvi/State_Zhvi_BottomTier.csv',\n",
       " '../input/zhvi/State_Zhvi_SingleFamilyResidence.csv',\n",
       " '../input/zhvi/State_Zhvi_TopTier.csv',\n",
       " '../input/zhvi/State_Zhvi_AllHomes.csv']"
      ]
     },
     "execution_count": 4,
     "metadata": {},
     "output_type": "execute_result"
    }
   ],
   "source": [
    "# make list of complete urls\n",
    "files = ['BottomTier.csv','SingleFamilyResidence.csv','TopTier.csv','AllHomes.csv']\n",
    "zhvi_county = [(url_county_base + file) for file in files]\n",
    "zhvi_state = [(url_state_base + file) for file in files]\n",
    "zhvi_all = zhvi_county + zhvi_state  # list with paths\n",
    "file_names = [s.split('/')[-1] for s in zhvi_all ]\n",
    "\n",
    "target_dir = '../input/zhvi/'\n",
    "file_path = [target_dir + file for file in file_names ] # path to target directory\n",
    "\n",
    "file_path"
   ]
  },
  {
   "cell_type": "code",
   "execution_count": 5,
   "metadata": {},
   "outputs": [],
   "source": [
    "# make target dir if necessary\n",
    "if not os.path.exists(target_dir):\n",
    "    os.makedirs(target_dir)"
   ]
  },
  {
   "cell_type": "code",
   "execution_count": 7,
   "metadata": {},
   "outputs": [
    {
     "data": {
      "text/plain": [
       "[('http://files.zillowstatic.com/research/public/County/County_Zhvi_BottomTier.csv',\n",
       "  '../input/zhvi/County_Zhvi_BottomTier.csv'),\n",
       " ('http://files.zillowstatic.com/research/public/County/County_Zhvi_SingleFamilyResidence.csv',\n",
       "  '../input/zhvi/County_Zhvi_SingleFamilyResidence.csv'),\n",
       " ('http://files.zillowstatic.com/research/public/County/County_Zhvi_TopTier.csv',\n",
       "  '../input/zhvi/County_Zhvi_TopTier.csv'),\n",
       " ('http://files.zillowstatic.com/research/public/County/County_Zhvi_AllHomes.csv',\n",
       "  '../input/zhvi/County_Zhvi_AllHomes.csv'),\n",
       " ('http://files.zillowstatic.com/research/public/State/State_Zhvi_BottomTier.csv',\n",
       "  '../input/zhvi/State_Zhvi_BottomTier.csv'),\n",
       " ('http://files.zillowstatic.com/research/public/State/State_Zhvi_SingleFamilyResidence.csv',\n",
       "  '../input/zhvi/State_Zhvi_SingleFamilyResidence.csv'),\n",
       " ('http://files.zillowstatic.com/research/public/State/State_Zhvi_TopTier.csv',\n",
       "  '../input/zhvi/State_Zhvi_TopTier.csv'),\n",
       " ('http://files.zillowstatic.com/research/public/State/State_Zhvi_AllHomes.csv',\n",
       "  '../input/zhvi/State_Zhvi_AllHomes.csv')]"
      ]
     },
     "execution_count": 7,
     "metadata": {},
     "output_type": "execute_result"
    }
   ],
   "source": [
    "list(zip(zhvi_all, file_path))"
   ]
  },
  {
   "cell_type": "code",
   "execution_count": 8,
   "metadata": {},
   "outputs": [],
   "source": [
    "# download files\n",
    "for path, file in zip(zhvi_all, file_path):\n",
    "    urlretrieve(path, file)"
   ]
  },
  {
   "cell_type": "markdown",
   "metadata": {},
   "source": [
    "## Rentals"
   ]
  },
  {
   "cell_type": "code",
   "execution_count": 9,
   "metadata": {
    "scrolled": true
   },
   "outputs": [],
   "source": [
    "# add to url specific path for price indices and files available\n",
    "url_county = 'County/County_Zri_'\n",
    "url_state  = 'State/State_Zri_'\n",
    "\n",
    "# concatenate paths\n",
    "url_county_base = os.path.join(url_base, url_county) \n",
    "url_state_base = os.path.join(url_base, url_state) "
   ]
  },
  {
   "cell_type": "code",
   "execution_count": 10,
   "metadata": {
    "scrolled": false
   },
   "outputs": [],
   "source": [
    "# make list of complete urls\n",
    "files = ['AllHomesPlusMultifamily_Summary.csv',\n",
    "         'AllHomesPlusMultifamily.csv',\n",
    "         'MultiFamilyResidenceRental.csv']\n",
    "zri_county = [(url_county_base + file) for file in files]\n",
    "zri_state = [(url_state_base + file) for file in files]\n",
    "\n",
    "zri_all = zri_county + zri_state  # list with paths\n",
    "file_names = [s.split('/')[-1] for s in zri_all ]\n",
    "target_dir = '../input/zri/'\n",
    "file_path = [target_dir + file for file in file_names ] # path to target directory"
   ]
  },
  {
   "cell_type": "code",
   "execution_count": 11,
   "metadata": {},
   "outputs": [],
   "source": [
    "# make dir target dir if necessary\n",
    "if not os.path.exists(target_dir):\n",
    "    os.makedirs(target_dir)"
   ]
  },
  {
   "cell_type": "code",
   "execution_count": 12,
   "metadata": {
    "scrolled": false
   },
   "outputs": [
    {
     "name": "stdout",
     "output_type": "stream",
     "text": [
      "../input/zri/County_Zri_AllHomesPlusMultifamily_Summary.csv\n",
      "../input/zri/County_Zri_AllHomesPlusMultifamily.csv\n",
      "../input/zri/County_Zri_MultiFamilyResidenceRental.csv\n",
      "../input/zri/State_Zri_AllHomesPlusMultifamily_Summary.csv\n",
      "../input/zri/State_Zri_AllHomesPlusMultifamily.csv\n",
      "../input/zri/State_Zri_MultiFamilyResidenceRental.csv\n"
     ]
    }
   ],
   "source": [
    "# download files\n",
    "for path, file in zip(zri_all, file_path):\n",
    "    urlretrieve(path, file)\n",
    "    print(file)"
   ]
  },
  {
   "cell_type": "markdown",
   "metadata": {},
   "source": [
    "# Sale counts (transactions)"
   ]
  },
  {
   "cell_type": "code",
   "execution_count": 26,
   "metadata": {},
   "outputs": [],
   "source": [
    "# base url same for rentals or prices\n",
    "url_base = 'http://files.zillowstatic.com/research/public/'\n",
    "target_dir = '../input2/'\n",
    "\n",
    "# make dir target dir if necessary\n",
    "if not os.path.exists(target_dir):\n",
    "    os.makedirs(target_dir)\n",
    "\n",
    "def download(geography='County', item = 'Sale_Counts'):   # county or state\n",
    "    \n",
    "    file = item + '_' + geography + '.csv'\n",
    "    url = url_base + geography + '/' + file\n",
    "    file_path = target_dir + file # path to target directory\n",
    "    urlretrieve(url, file_path)\n",
    "    print(url)\n",
    "    print(file_path)\n",
    "\n",
    "for geo in ['County', 'State']:\n",
    "    make_url(geo, 'Sale_Counts')\n",
    "    "
   ]
  },
  {
   "cell_type": "code",
   "execution_count": null,
   "metadata": {},
   "outputs": [],
   "source": [
    "url_county = 'County/County_Zri_'\n",
    "url_state  = 'State/Sale_Counts_State.csv\n",
    "\n",
    "http://files.zillowstatic.com/research/public/County/Sale_Counts_County.csv\n",
    "http://files.zillowstatic.com/research/public/State/Sale_Counts_State.csv"
   ]
  }
 ],
 "metadata": {
  "kernelspec": {
   "display_name": "Python 3",
   "language": "python",
   "name": "python3"
  },
  "language_info": {
   "codemirror_mode": {
    "name": "ipython",
    "version": 3
   },
   "file_extension": ".py",
   "mimetype": "text/x-python",
   "name": "python",
   "nbconvert_exporter": "python",
   "pygments_lexer": "ipython3",
   "version": "3.8.2"
  }
 },
 "nbformat": 4,
 "nbformat_minor": 4
}
