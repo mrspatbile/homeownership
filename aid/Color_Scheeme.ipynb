{
 "cells": [
  {
   "cell_type": "markdown",
   "metadata": {},
   "source": [
    "# Color_Scheeme"
   ]
  },
  {
   "cell_type": "code",
   "execution_count": 19,
   "metadata": {},
   "outputs": [],
   "source": [
    "# my color scheme\n",
    "my=['rgb(41, 58, 143)',\n",
    "    'rgb(11, 102, 189)',\n",
    "    'rgb(69, 144, 185)',\n",
    "    'rgb(255,102,204)',\n",
    "    'rgb(118,42,131)',\n",
    "    'rgb(165,0,38)',\n",
    "    'rgb(215,48,39)',\n",
    "    'rgb(244,109,67)',\n",
    "    'rgb(102,189,99)',\n",
    "    'rgb(26,152,80)',\n",
    "    'rgb(0,104,55)',\n",
    "    'red',\n",
    "    'orange',\n",
    "    'magenta',\n",
    "    'chartreuse',\n",
    "    'darksalmon', ]"
   ]
  },
  {
   "cell_type": "code",
   "execution_count": 20,
   "metadata": {},
   "outputs": [],
   "source": [
    "# http://pattern-library.economist.com/color.html\n",
    "economist = ['#91b8bd', # mid green\n",
    "             '#9ae5de', # bright turquoise\n",
    "             '#acc8d4', # turquoise         \n",
    "             '#C3CBF9', # my blue ###\n",
    "             '#d4dddd', # light gray\n",
    "             '#244747', # dark green\n",
    "             '#336666', # green\n",
    "             '#8abbd0', # mid blue\n",
    "             '#efe8d1', # beige\n",
    "             '#e3120b', # red\n",
    "             '#4a4a4a'] # dark gray"
   ]
  },
  {
   "cell_type": "code",
   "execution_count": 21,
   "metadata": {},
   "outputs": [],
   "source": [
    "def adjust_lightness(color, amount=0.85):\n",
    "    import matplotlib.colors as mc\n",
    "    import colorsys\n",
    "    try:\n",
    "        c = mc.cnames[color]\n",
    "    except:\n",
    "        c = color\n",
    "    c = colorsys.rgb_to_hls(*mc.to_rgb(c))\n",
    "    return 'rgb' + str(colorsys.hls_to_rgb(c[0], max(0, min(1, amount * c[1])), c[2]))"
   ]
  },
  {
   "cell_type": "code",
   "execution_count": 22,
   "metadata": {},
   "outputs": [
    {
     "data": {
      "text/plain": [
       "['rgb(0.4458333333333333, 0.6423106060606059, 0.6675)',\n",
       " 'rgb(0.424750656167979, 0.8519160104986876, 0.8120472440944881)',\n",
       " 'rgb(0.5257142857142858, 0.6857142857142855, 0.7542857142857142)',\n",
       " 'rgb(0.5272727272727272, 0.59030303030303, 0.9527272727272728)',\n",
       " 'rgb(0.6891341991341993, 0.7541991341991341, 0.7541991341991341)',\n",
       " 'rgb(0.12000000000000002, 0.23666666666666664, 0.23666666666666666)',\n",
       " 'rgb(0.17000000000000004, 0.3399999999999999, 0.33999999999999997)',\n",
       " 'rgb(0.3959756097560976, 0.6489430894308944, 0.7573577235772357)',\n",
       " 'rgb(0.8692473118279569, 0.812043010752688, 0.6240860215053763)',\n",
       " 'rgb(0.7566666666666666, 0.059999999999999984, 0.036666666666666625)',\n",
       " 'rgb(0.24666666666666667, 0.24666666666666667, 0.24666666666666667)']"
      ]
     },
     "execution_count": 22,
     "metadata": {},
     "output_type": "execute_result"
    }
   ],
   "source": [
    "col_new = [adjust_lightness(color, amount=0.85) for color in economist]\n",
    "col_new"
   ]
  },
  {
   "cell_type": "code",
   "execution_count": 23,
   "metadata": {},
   "outputs": [],
   "source": [
    "col_scheeme = my[:5] + col_new[:5] +economist[5:7] + col_new[7:9] + economist[9:9] + my[5:]"
   ]
  }
 ],
 "metadata": {
  "kernelspec": {
   "display_name": "Python 3",
   "language": "python",
   "name": "python3"
  },
  "language_info": {
   "codemirror_mode": {
    "name": "ipython",
    "version": 3
   },
   "file_extension": ".py",
   "mimetype": "text/x-python",
   "name": "python",
   "nbconvert_exporter": "python",
   "pygments_lexer": "ipython3",
   "version": "3.8.2"
  }
 },
 "nbformat": 4,
 "nbformat_minor": 4
}
