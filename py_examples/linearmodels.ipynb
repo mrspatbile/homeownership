{
 "cells": [
  {
   "cell_type": "markdown",
   "metadata": {},
   "source": [
    "# Linear models\n",
    "These codes are taken from linear models page\n",
    "https://bashtage.github.io/linearmodels/doc/panel/examples/examples.html"
   ]
  },
  {
   "cell_type": "code",
   "execution_count": 1,
   "metadata": {},
   "outputs": [
    {
     "name": "stdout",
     "output_type": "stream",
     "text": [
      "\n",
      "F. Vella and M. Verbeek (1998), \"Whose Wages Do Unions Raise? A Dynamic Model\n",
      "of Unionism and Wage Rate Determination for Young Men,\" Journal of Applied\n",
      "Econometrics 13, 163-183.\n",
      "\n",
      "nr                       person identifier\n",
      "year                     1980 to 1987\n",
      "black                    =1 if black\n",
      "exper                    labor market experience\n",
      "hisp                     =1 if Hispanic\n",
      "hours                    annual hours worked\n",
      "married                  =1 if married\n",
      "educ                     years of schooling\n",
      "union                    =1 if in union\n",
      "lwage                    log(wage)\n",
      "expersq                  exper^2\n",
      "occupation               Occupation code\n",
      "\n",
      "         black  exper  hisp  hours  married  educ  union     lwage  expersq  \\\n",
      "nr year                                                                       \n",
      "13 1980      0      1     0   2672        0    14      0  1.197540        1   \n",
      "   1981      0      2     0   2320        0    14      1  1.853060        4   \n",
      "   1982      0      3     0   2940        0    14      0  1.344462        9   \n",
      "   1983      0      4     0   2960        0    14      0  1.433213       16   \n",
      "   1984      0      5     0   3071        0    14      0  1.568125       25   \n",
      "\n",
      "         occupation  year  \n",
      "nr year                    \n",
      "13 1980           9  1980  \n",
      "   1981           9  1981  \n",
      "   1982           9  1982  \n",
      "   1983           9  1983  \n",
      "   1984           5  1984  \n"
     ]
    }
   ],
   "source": [
    "from linearmodels.datasets import wage_panel\n",
    "import pandas as pd\n",
    "data = wage_panel.load()\n",
    "year = pd.Categorical(data.year)\n",
    "data = data.set_index(['nr', 'year'])  # multiindex\n",
    "data['year'] = year                    # add year column (will create automatic year dummies)\n",
    "print(wage_panel.DESCR)\n",
    "print(data.head())"
   ]
  },
  {
   "cell_type": "code",
   "execution_count": null,
   "metadata": {},
   "outputs": [],
   "source": [
    "Note that that has to be multiindex: entity/date"
   ]
  },
  {
   "cell_type": "code",
   "execution_count": 2,
   "metadata": {},
   "outputs": [
    {
     "data": {
      "text/html": [
       "<div>\n",
       "<style scoped>\n",
       "    .dataframe tbody tr th:only-of-type {\n",
       "        vertical-align: middle;\n",
       "    }\n",
       "\n",
       "    .dataframe tbody tr th {\n",
       "        vertical-align: top;\n",
       "    }\n",
       "\n",
       "    .dataframe thead th {\n",
       "        text-align: right;\n",
       "    }\n",
       "</style>\n",
       "<table border=\"1\" class=\"dataframe\">\n",
       "  <thead>\n",
       "    <tr style=\"text-align: right;\">\n",
       "      <th></th>\n",
       "      <th></th>\n",
       "      <th>black</th>\n",
       "      <th>exper</th>\n",
       "      <th>hisp</th>\n",
       "      <th>hours</th>\n",
       "      <th>married</th>\n",
       "      <th>educ</th>\n",
       "      <th>union</th>\n",
       "      <th>lwage</th>\n",
       "      <th>expersq</th>\n",
       "      <th>occupation</th>\n",
       "      <th>year</th>\n",
       "    </tr>\n",
       "    <tr>\n",
       "      <th>nr</th>\n",
       "      <th>year</th>\n",
       "      <th></th>\n",
       "      <th></th>\n",
       "      <th></th>\n",
       "      <th></th>\n",
       "      <th></th>\n",
       "      <th></th>\n",
       "      <th></th>\n",
       "      <th></th>\n",
       "      <th></th>\n",
       "      <th></th>\n",
       "      <th></th>\n",
       "    </tr>\n",
       "  </thead>\n",
       "  <tbody>\n",
       "    <tr>\n",
       "      <th rowspan=\"5\" valign=\"top\">13</th>\n",
       "      <th>1980</th>\n",
       "      <td>0</td>\n",
       "      <td>1</td>\n",
       "      <td>0</td>\n",
       "      <td>2672</td>\n",
       "      <td>0</td>\n",
       "      <td>14</td>\n",
       "      <td>0</td>\n",
       "      <td>1.197540</td>\n",
       "      <td>1</td>\n",
       "      <td>9</td>\n",
       "      <td>1980</td>\n",
       "    </tr>\n",
       "    <tr>\n",
       "      <th>1981</th>\n",
       "      <td>0</td>\n",
       "      <td>2</td>\n",
       "      <td>0</td>\n",
       "      <td>2320</td>\n",
       "      <td>0</td>\n",
       "      <td>14</td>\n",
       "      <td>1</td>\n",
       "      <td>1.853060</td>\n",
       "      <td>4</td>\n",
       "      <td>9</td>\n",
       "      <td>1981</td>\n",
       "    </tr>\n",
       "    <tr>\n",
       "      <th>1982</th>\n",
       "      <td>0</td>\n",
       "      <td>3</td>\n",
       "      <td>0</td>\n",
       "      <td>2940</td>\n",
       "      <td>0</td>\n",
       "      <td>14</td>\n",
       "      <td>0</td>\n",
       "      <td>1.344462</td>\n",
       "      <td>9</td>\n",
       "      <td>9</td>\n",
       "      <td>1982</td>\n",
       "    </tr>\n",
       "    <tr>\n",
       "      <th>1983</th>\n",
       "      <td>0</td>\n",
       "      <td>4</td>\n",
       "      <td>0</td>\n",
       "      <td>2960</td>\n",
       "      <td>0</td>\n",
       "      <td>14</td>\n",
       "      <td>0</td>\n",
       "      <td>1.433213</td>\n",
       "      <td>16</td>\n",
       "      <td>9</td>\n",
       "      <td>1983</td>\n",
       "    </tr>\n",
       "    <tr>\n",
       "      <th>1984</th>\n",
       "      <td>0</td>\n",
       "      <td>5</td>\n",
       "      <td>0</td>\n",
       "      <td>3071</td>\n",
       "      <td>0</td>\n",
       "      <td>14</td>\n",
       "      <td>0</td>\n",
       "      <td>1.568125</td>\n",
       "      <td>25</td>\n",
       "      <td>5</td>\n",
       "      <td>1984</td>\n",
       "    </tr>\n",
       "    <tr>\n",
       "      <th>...</th>\n",
       "      <th>...</th>\n",
       "      <td>...</td>\n",
       "      <td>...</td>\n",
       "      <td>...</td>\n",
       "      <td>...</td>\n",
       "      <td>...</td>\n",
       "      <td>...</td>\n",
       "      <td>...</td>\n",
       "      <td>...</td>\n",
       "      <td>...</td>\n",
       "      <td>...</td>\n",
       "      <td>...</td>\n",
       "    </tr>\n",
       "    <tr>\n",
       "      <th rowspan=\"5\" valign=\"top\">12548</th>\n",
       "      <th>1983</th>\n",
       "      <td>0</td>\n",
       "      <td>8</td>\n",
       "      <td>0</td>\n",
       "      <td>2080</td>\n",
       "      <td>1</td>\n",
       "      <td>9</td>\n",
       "      <td>0</td>\n",
       "      <td>1.591879</td>\n",
       "      <td>64</td>\n",
       "      <td>5</td>\n",
       "      <td>1983</td>\n",
       "    </tr>\n",
       "    <tr>\n",
       "      <th>1984</th>\n",
       "      <td>0</td>\n",
       "      <td>9</td>\n",
       "      <td>0</td>\n",
       "      <td>2080</td>\n",
       "      <td>1</td>\n",
       "      <td>9</td>\n",
       "      <td>1</td>\n",
       "      <td>1.212543</td>\n",
       "      <td>81</td>\n",
       "      <td>5</td>\n",
       "      <td>1984</td>\n",
       "    </tr>\n",
       "    <tr>\n",
       "      <th>1985</th>\n",
       "      <td>0</td>\n",
       "      <td>10</td>\n",
       "      <td>0</td>\n",
       "      <td>2080</td>\n",
       "      <td>1</td>\n",
       "      <td>9</td>\n",
       "      <td>0</td>\n",
       "      <td>1.765962</td>\n",
       "      <td>100</td>\n",
       "      <td>5</td>\n",
       "      <td>1985</td>\n",
       "    </tr>\n",
       "    <tr>\n",
       "      <th>1986</th>\n",
       "      <td>0</td>\n",
       "      <td>11</td>\n",
       "      <td>0</td>\n",
       "      <td>2080</td>\n",
       "      <td>1</td>\n",
       "      <td>9</td>\n",
       "      <td>1</td>\n",
       "      <td>1.745894</td>\n",
       "      <td>121</td>\n",
       "      <td>5</td>\n",
       "      <td>1986</td>\n",
       "    </tr>\n",
       "    <tr>\n",
       "      <th>1987</th>\n",
       "      <td>0</td>\n",
       "      <td>12</td>\n",
       "      <td>0</td>\n",
       "      <td>3380</td>\n",
       "      <td>1</td>\n",
       "      <td>9</td>\n",
       "      <td>1</td>\n",
       "      <td>1.466543</td>\n",
       "      <td>144</td>\n",
       "      <td>5</td>\n",
       "      <td>1987</td>\n",
       "    </tr>\n",
       "  </tbody>\n",
       "</table>\n",
       "<p>4360 rows × 11 columns</p>\n",
       "</div>"
      ],
      "text/plain": [
       "            black  exper  hisp  hours  married  educ  union     lwage  \\\n",
       "nr    year                                                              \n",
       "13    1980      0      1     0   2672        0    14      0  1.197540   \n",
       "      1981      0      2     0   2320        0    14      1  1.853060   \n",
       "      1982      0      3     0   2940        0    14      0  1.344462   \n",
       "      1983      0      4     0   2960        0    14      0  1.433213   \n",
       "      1984      0      5     0   3071        0    14      0  1.568125   \n",
       "...           ...    ...   ...    ...      ...   ...    ...       ...   \n",
       "12548 1983      0      8     0   2080        1     9      0  1.591879   \n",
       "      1984      0      9     0   2080        1     9      1  1.212543   \n",
       "      1985      0     10     0   2080        1     9      0  1.765962   \n",
       "      1986      0     11     0   2080        1     9      1  1.745894   \n",
       "      1987      0     12     0   3380        1     9      1  1.466543   \n",
       "\n",
       "            expersq  occupation  year  \n",
       "nr    year                             \n",
       "13    1980        1           9  1980  \n",
       "      1981        4           9  1981  \n",
       "      1982        9           9  1982  \n",
       "      1983       16           9  1983  \n",
       "      1984       25           5  1984  \n",
       "...             ...         ...   ...  \n",
       "12548 1983       64           5  1983  \n",
       "      1984       81           5  1984  \n",
       "      1985      100           5  1985  \n",
       "      1986      121           5  1986  \n",
       "      1987      144           5  1987  \n",
       "\n",
       "[4360 rows x 11 columns]"
      ]
     },
     "execution_count": 2,
     "metadata": {},
     "output_type": "execute_result"
    }
   ],
   "source": [
    "data"
   ]
  },
  {
   "cell_type": "markdown",
   "metadata": {},
   "source": [
    "## Basic regression\n",
    "Note add constant to exogenous variables\n"
   ]
  },
  {
   "cell_type": "code",
   "execution_count": 3,
   "metadata": {},
   "outputs": [
    {
     "name": "stdout",
     "output_type": "stream",
     "text": [
      "                          PooledOLS Estimation Summary                          \n",
      "================================================================================\n",
      "Dep. Variable:                  lwage   R-squared:                        0.1893\n",
      "Estimator:                  PooledOLS   R-squared (Between):              0.2066\n",
      "No. Observations:                4360   R-squared (Within):               0.1692\n",
      "Date:                Sun, May 03 2020   R-squared (Overall):              0.1893\n",
      "Time:                        11:18:29   Log-likelihood                   -2982.0\n",
      "Cov. Estimator:            Unadjusted                                           \n",
      "                                        F-statistic:                      72.459\n",
      "Entities:                         545   P-value                           0.0000\n",
      "Avg Obs:                       8.0000   Distribution:                 F(14,4345)\n",
      "Min Obs:                       8.0000                                           \n",
      "Max Obs:                       8.0000   F-statistic (robust):             72.459\n",
      "                                        P-value                           0.0000\n",
      "Time periods:                       8   Distribution:                 F(14,4345)\n",
      "Avg Obs:                       545.00                                           \n",
      "Min Obs:                       545.00                                           \n",
      "Max Obs:                       545.00                                           \n",
      "                                                                                \n",
      "                             Parameter Estimates                              \n",
      "==============================================================================\n",
      "            Parameter  Std. Err.     T-stat    P-value    Lower CI    Upper CI\n",
      "------------------------------------------------------------------------------\n",
      "const          0.0921     0.0783     1.1761     0.2396     -0.0614      0.2455\n",
      "black         -0.1392     0.0236    -5.9049     0.0000     -0.1855     -0.0930\n",
      "hisp           0.0160     0.0208     0.7703     0.4412     -0.0248      0.0568\n",
      "exper          0.0672     0.0137     4.9095     0.0000      0.0404      0.0941\n",
      "expersq       -0.0024     0.0008    -2.9413     0.0033     -0.0040     -0.0008\n",
      "married        0.1083     0.0157     6.8997     0.0000      0.0775      0.1390\n",
      "educ           0.0913     0.0052     17.442     0.0000      0.0811      0.1016\n",
      "union          0.1825     0.0172     10.635     0.0000      0.1488      0.2161\n",
      "year.1981      0.0583     0.0304     1.9214     0.0548     -0.0012      0.1178\n",
      "year.1982      0.0628     0.0332     1.8900     0.0588     -0.0023      0.1279\n",
      "year.1983      0.0620     0.0367     1.6915     0.0908     -0.0099      0.1339\n",
      "year.1984      0.0905     0.0401     2.2566     0.0241      0.0119      0.1691\n",
      "year.1985      0.1092     0.0434     2.5200     0.0118      0.0243      0.1942\n",
      "year.1986      0.1420     0.0464     3.0580     0.0022      0.0509      0.2330\n",
      "year.1987      0.1738     0.0494     3.5165     0.0004      0.0769      0.2707\n",
      "==============================================================================\n"
     ]
    }
   ],
   "source": [
    "from linearmodels.panel import PooledOLS\n",
    "import statsmodels.api as sm\n",
    "exog_vars = ['black','hisp','exper','expersq','married', 'educ', 'union', 'year']\n",
    "exog = sm.add_constant(data[exog_vars])\n",
    "mod = PooledOLS(data.lwage, exog)\n",
    "pooled_res = mod.fit()\n",
    "print(pooled_res)"
   ]
  },
  {
   "cell_type": "markdown",
   "metadata": {},
   "source": [
    "## Models with additional terms"
   ]
  },
  {
   "cell_type": "markdown",
   "metadata": {},
   "source": [
    "### Additional term uncorrelated with regressors\n",
    "\n",
    "#### Random effects\n"
   ]
  },
  {
   "cell_type": "code",
   "execution_count": 4,
   "metadata": {},
   "outputs": [
    {
     "name": "stdout",
     "output_type": "stream",
     "text": [
      "                        RandomEffects Estimation Summary                        \n",
      "================================================================================\n",
      "Dep. Variable:                  lwage   R-squared:                        0.1806\n",
      "Estimator:              RandomEffects   R-squared (Between):              0.1853\n",
      "No. Observations:                4360   R-squared (Within):               0.1799\n",
      "Date:                Sun, May 03 2020   R-squared (Overall):              0.1828\n",
      "Time:                        11:21:12   Log-likelihood                   -1622.5\n",
      "Cov. Estimator:            Unadjusted                                           \n",
      "                                        F-statistic:                      68.409\n",
      "Entities:                         545   P-value                           0.0000\n",
      "Avg Obs:                       8.0000   Distribution:                 F(14,4345)\n",
      "Min Obs:                       8.0000                                           \n",
      "Max Obs:                       8.0000   F-statistic (robust):             68.409\n",
      "                                        P-value                           0.0000\n",
      "Time periods:                       8   Distribution:                 F(14,4345)\n",
      "Avg Obs:                       545.00                                           \n",
      "Min Obs:                       545.00                                           \n",
      "Max Obs:                       545.00                                           \n",
      "                                                                                \n",
      "                             Parameter Estimates                              \n",
      "==============================================================================\n",
      "            Parameter  Std. Err.     T-stat    P-value    Lower CI    Upper CI\n",
      "------------------------------------------------------------------------------\n",
      "const          0.0234     0.1514     0.1546     0.8771     -0.2735      0.3203\n",
      "black         -0.1394     0.0480    -2.9054     0.0037     -0.2334     -0.0453\n",
      "hisp           0.0217     0.0428     0.5078     0.6116     -0.0622      0.1057\n",
      "exper          0.1058     0.0154     6.8706     0.0000      0.0756      0.1361\n",
      "expersq       -0.0047     0.0007    -6.8623     0.0000     -0.0061     -0.0034\n",
      "married        0.0638     0.0168     3.8035     0.0001      0.0309      0.0967\n",
      "educ           0.0919     0.0107     8.5744     0.0000      0.0709      0.1129\n",
      "union          0.1059     0.0179     5.9289     0.0000      0.0709      0.1409\n",
      "year.1981      0.0404     0.0247     1.6362     0.1019     -0.0080      0.0889\n",
      "year.1982      0.0309     0.0324     0.9519     0.3412     -0.0327      0.0944\n",
      "year.1983      0.0202     0.0417     0.4840     0.6284     -0.0616      0.1020\n",
      "year.1984      0.0430     0.0515     0.8350     0.4037     -0.0580      0.1440\n",
      "year.1985      0.0577     0.0615     0.9383     0.3482     -0.0629      0.1782\n",
      "year.1986      0.0918     0.0716     1.2834     0.1994     -0.0485      0.2321\n",
      "year.1987      0.1348     0.0817     1.6504     0.0989     -0.0253      0.2950\n",
      "==============================================================================\n"
     ]
    }
   ],
   "source": [
    "from linearmodels.panel import RandomEffects\n",
    "mod = RandomEffects(data.lwage, exog)\n",
    "re_res = mod.fit()\n",
    "print(re_res)"
   ]
  },
  {
   "cell_type": "markdown",
   "metadata": {},
   "source": [
    "The model fit is fairly similar, although the return to experience has changed substantially, as has its significance. This is partially explainable by the inclusion of the year dummies which will fit the trend in experience and so only the cross-sectional differences matter. The quasi-differencing in the random effects estimator depends on a quantity that depends on the relative variance of the idiosyncratic shock and the common shock. This can be accessed using variance_decomposition."
   ]
  },
  {
   "cell_type": "code",
   "execution_count": 5,
   "metadata": {},
   "outputs": [
    {
     "data": {
      "text/plain": [
       "Effects                   0.106946\n",
       "Residual                  0.123324\n",
       "Percent due to Effects    0.464438\n",
       "Name: Variance Decomposition, dtype: float64"
      ]
     },
     "execution_count": 5,
     "metadata": {},
     "output_type": "execute_result"
    }
   ],
   "source": [
    "re_res.variance_decomposition"
   ]
  },
  {
   "cell_type": "markdown",
   "metadata": {},
   "source": [
    "The coefficient θi\n",
    " determines how much demeaning takes place. When this value is 1, the RE model reduces to the pooled model since this occurs when there is no variance in the effects. When panels are unbalanced it will vary across entities, but in this balanced panel all values are the same."
   ]
  },
  {
   "cell_type": "code",
   "execution_count": 6,
   "metadata": {},
   "outputs": [
    {
     "data": {
      "text/html": [
       "<div>\n",
       "<style scoped>\n",
       "    .dataframe tbody tr th:only-of-type {\n",
       "        vertical-align: middle;\n",
       "    }\n",
       "\n",
       "    .dataframe tbody tr th {\n",
       "        vertical-align: top;\n",
       "    }\n",
       "\n",
       "    .dataframe thead th {\n",
       "        text-align: right;\n",
       "    }\n",
       "</style>\n",
       "<table border=\"1\" class=\"dataframe\">\n",
       "  <thead>\n",
       "    <tr style=\"text-align: right;\">\n",
       "      <th></th>\n",
       "      <th>theta</th>\n",
       "    </tr>\n",
       "    <tr>\n",
       "      <th>nr</th>\n",
       "      <th></th>\n",
       "    </tr>\n",
       "  </thead>\n",
       "  <tbody>\n",
       "    <tr>\n",
       "      <th>13</th>\n",
       "      <td>0.645059</td>\n",
       "    </tr>\n",
       "    <tr>\n",
       "      <th>17</th>\n",
       "      <td>0.645059</td>\n",
       "    </tr>\n",
       "    <tr>\n",
       "      <th>18</th>\n",
       "      <td>0.645059</td>\n",
       "    </tr>\n",
       "    <tr>\n",
       "      <th>45</th>\n",
       "      <td>0.645059</td>\n",
       "    </tr>\n",
       "    <tr>\n",
       "      <th>110</th>\n",
       "      <td>0.645059</td>\n",
       "    </tr>\n",
       "  </tbody>\n",
       "</table>\n",
       "</div>"
      ],
      "text/plain": [
       "        theta\n",
       "nr           \n",
       "13   0.645059\n",
       "17   0.645059\n",
       "18   0.645059\n",
       "45   0.645059\n",
       "110  0.645059"
      ]
     },
     "execution_count": 6,
     "metadata": {},
     "output_type": "execute_result"
    }
   ],
   "source": [
    "re_res.theta.head()"
   ]
  },
  {
   "cell_type": "markdown",
   "metadata": {},
   "source": [
    "### Additional term uncorrelated with regressors\n",
    "When effects are correlated with the regressors the RE and BE estimators are not consistent. The usual solution is to use Fixed Effects which are available in PanelOLS. Fixed effects are called entity_effects when applied to entities and time_effects when applied to the time dimension:"
   ]
  },
  {
   "cell_type": "markdown",
   "metadata": {},
   "source": [
    "### Fixed effects: time invariant\n",
    "Entity effects are included by setting entity_effects=True. This is equivalent to including dummies for each entity. In this panel, this would add 545 dummy variables and estimation of the model would be considerably slower. PanelOLS does not actually use dummy variables and instead uses group-wise demeaning to achieve the same effect."
   ]
  },
  {
   "cell_type": "code",
   "execution_count": 8,
   "metadata": {},
   "outputs": [
    {
     "name": "stdout",
     "output_type": "stream",
     "text": [
      "                          PanelOLS Estimation Summary                           \n",
      "================================================================================\n",
      "Dep. Variable:                  lwage   R-squared:                        0.1806\n",
      "Estimator:                   PanelOLS   R-squared (Between):             -0.0052\n",
      "No. Observations:                4360   R-squared (Within):               0.1806\n",
      "Date:                Sun, May 03 2020   R-squared (Overall):              0.0807\n",
      "Time:                        11:31:15   Log-likelihood                   -1324.8\n",
      "Cov. Estimator:            Unadjusted                                           \n",
      "                                        F-statistic:                      83.851\n",
      "Entities:                         545   P-value                           0.0000\n",
      "Avg Obs:                       8.0000   Distribution:                 F(10,3805)\n",
      "Min Obs:                       8.0000                                           \n",
      "Max Obs:                       8.0000   F-statistic (robust):             83.851\n",
      "                                        P-value                           0.0000\n",
      "Time periods:                       8   Distribution:                 F(10,3805)\n",
      "Avg Obs:                       545.00                                           \n",
      "Min Obs:                       545.00                                           \n",
      "Max Obs:                       545.00                                           \n",
      "                                                                                \n",
      "                             Parameter Estimates                              \n",
      "==============================================================================\n",
      "            Parameter  Std. Err.     T-stat    P-value    Lower CI    Upper CI\n",
      "------------------------------------------------------------------------------\n",
      "const          1.4260     0.0183     77.748     0.0000      1.3901      1.4620\n",
      "expersq       -0.0052     0.0007    -7.3612     0.0000     -0.0066     -0.0038\n",
      "union          0.0800     0.0193     4.1430     0.0000      0.0421      0.1179\n",
      "married        0.0467     0.0183     2.5494     0.0108      0.0108      0.0826\n",
      "year.1981      0.1512     0.0219     6.8883     0.0000      0.1082      0.1942\n",
      "year.1982      0.2530     0.0244     10.360     0.0000      0.2051      0.3008\n",
      "year.1983      0.3544     0.0292     12.121     0.0000      0.2971      0.4118\n",
      "year.1984      0.4901     0.0362     13.529     0.0000      0.4191      0.5611\n",
      "year.1985      0.6175     0.0452     13.648     0.0000      0.5288      0.7062\n",
      "year.1986      0.7655     0.0561     13.638     0.0000      0.6555      0.8755\n",
      "year.1987      0.9250     0.0688     13.450     0.0000      0.7902      1.0599\n",
      "==============================================================================\n",
      "\n",
      "F-test for Poolability: 9.1568\n",
      "P-value: 0.0000\n",
      "Distribution: F(544,3805)\n",
      "\n",
      "Included effects: Entity\n"
     ]
    }
   ],
   "source": [
    "from linearmodels.panel import PanelOLS\n",
    "exog_vars = ['expersq', 'union', 'married', 'year']\n",
    "exog = sm.add_constant(data[exog_vars])\n",
    "mod = PanelOLS(data.lwage, exog, entity_effects=True)\n",
    "fe_res = mod.fit()\n",
    "print(fe_res)"
   ]
  },
  {
   "cell_type": "code",
   "execution_count": 10,
   "metadata": {},
   "outputs": [
    {
     "ename": "AbsorbingEffectError",
     "evalue": "\nThe model cannot be estimated. The included effects have fully absorbed\none or more of the variables. This occurs when one or more of the dependent\nvariable is perfectly explained using the effects included in the model.\n\nThe following variables or variable combinations have been fully absorbed\nor have become perfectly collinear after effects are removed:\n\n          const, exper, expersq, union, married, year.1981, year.1982, year.1983, year.1984, year.1985, year.1986, year.1987\n\nSet drop_absorbed=True to automatically drop absorbed variables.\n",
     "output_type": "error",
     "traceback": [
      "\u001b[0;31m---------------------------------------------------------------------------\u001b[0m",
      "\u001b[0;31mAbsorbingEffectError\u001b[0m                      Traceback (most recent call last)",
      "\u001b[0;32m<ipython-input-10-82c0ef5df0dc>\u001b[0m in \u001b[0;36m<module>\u001b[0;34m\u001b[0m\n\u001b[1;32m      4\u001b[0m \u001b[0mexog\u001b[0m \u001b[0;34m=\u001b[0m \u001b[0msm\u001b[0m\u001b[0;34m.\u001b[0m\u001b[0madd_constant\u001b[0m\u001b[0;34m(\u001b[0m\u001b[0mdata\u001b[0m\u001b[0;34m[\u001b[0m\u001b[0mexog_vars\u001b[0m\u001b[0;34m]\u001b[0m\u001b[0;34m)\u001b[0m\u001b[0;34m\u001b[0m\u001b[0;34m\u001b[0m\u001b[0m\n\u001b[1;32m      5\u001b[0m \u001b[0mmod\u001b[0m \u001b[0;34m=\u001b[0m \u001b[0mPanelOLS\u001b[0m\u001b[0;34m(\u001b[0m\u001b[0mdata\u001b[0m\u001b[0;34m.\u001b[0m\u001b[0mlwage\u001b[0m\u001b[0;34m,\u001b[0m \u001b[0mexog\u001b[0m\u001b[0;34m,\u001b[0m \u001b[0mentity_effects\u001b[0m\u001b[0;34m=\u001b[0m\u001b[0;32mTrue\u001b[0m\u001b[0;34m)\u001b[0m\u001b[0;34m\u001b[0m\u001b[0;34m\u001b[0m\u001b[0m\n\u001b[0;32m----> 6\u001b[0;31m \u001b[0mfe_res\u001b[0m \u001b[0;34m=\u001b[0m \u001b[0mmod\u001b[0m\u001b[0;34m.\u001b[0m\u001b[0mfit\u001b[0m\u001b[0;34m(\u001b[0m\u001b[0;34m)\u001b[0m\u001b[0;34m\u001b[0m\u001b[0;34m\u001b[0m\u001b[0m\n\u001b[0m\u001b[1;32m      7\u001b[0m \u001b[0mprint\u001b[0m\u001b[0;34m(\u001b[0m\u001b[0mfe_res\u001b[0m\u001b[0;34m)\u001b[0m\u001b[0;34m\u001b[0m\u001b[0;34m\u001b[0m\u001b[0m\n",
      "\u001b[0;32m~/opt/miniconda3/envs/geo_plotnine/lib/python3.8/site-packages/linearmodels/panel/model.py\u001b[0m in \u001b[0;36mfit\u001b[0;34m(self, use_lsdv, use_lsmr, low_memory, cov_type, debiased, auto_df, count_effects, **cov_config)\u001b[0m\n\u001b[1;32m   1657\u001b[0m         \u001b[0;32mif\u001b[0m \u001b[0mself\u001b[0m\u001b[0;34m.\u001b[0m\u001b[0mentity_effects\u001b[0m \u001b[0;32mor\u001b[0m \u001b[0mself\u001b[0m\u001b[0;34m.\u001b[0m\u001b[0mtime_effects\u001b[0m \u001b[0;32mor\u001b[0m \u001b[0mself\u001b[0m\u001b[0;34m.\u001b[0m\u001b[0mother_effects\u001b[0m\u001b[0;34m:\u001b[0m\u001b[0;34m\u001b[0m\u001b[0;34m\u001b[0m\u001b[0m\n\u001b[1;32m   1658\u001b[0m             \u001b[0;32mif\u001b[0m \u001b[0;32mnot\u001b[0m \u001b[0mself\u001b[0m\u001b[0;34m.\u001b[0m\u001b[0m_drop_absorbed\u001b[0m\u001b[0;34m:\u001b[0m\u001b[0;34m\u001b[0m\u001b[0;34m\u001b[0m\u001b[0m\n\u001b[0;32m-> 1659\u001b[0;31m                 \u001b[0mcheck_absorbed\u001b[0m\u001b[0;34m(\u001b[0m\u001b[0mx\u001b[0m\u001b[0;34m,\u001b[0m \u001b[0mlist\u001b[0m\u001b[0;34m(\u001b[0m\u001b[0mmap\u001b[0m\u001b[0;34m(\u001b[0m\u001b[0mstr\u001b[0m\u001b[0;34m,\u001b[0m \u001b[0mself\u001b[0m\u001b[0;34m.\u001b[0m\u001b[0mexog\u001b[0m\u001b[0;34m.\u001b[0m\u001b[0mvars\u001b[0m\u001b[0;34m)\u001b[0m\u001b[0;34m)\u001b[0m\u001b[0;34m)\u001b[0m\u001b[0;34m\u001b[0m\u001b[0;34m\u001b[0m\u001b[0m\n\u001b[0m\u001b[1;32m   1660\u001b[0m             \u001b[0;32melse\u001b[0m\u001b[0;34m:\u001b[0m\u001b[0;34m\u001b[0m\u001b[0;34m\u001b[0m\u001b[0m\n\u001b[1;32m   1661\u001b[0m                 \u001b[0mretain\u001b[0m \u001b[0;34m=\u001b[0m \u001b[0mnot_absorbed\u001b[0m\u001b[0;34m(\u001b[0m\u001b[0mx\u001b[0m\u001b[0;34m)\u001b[0m\u001b[0;34m\u001b[0m\u001b[0;34m\u001b[0m\u001b[0m\n",
      "\u001b[0;32m~/opt/miniconda3/envs/geo_plotnine/lib/python3.8/site-packages/linearmodels/panel/utility.py\u001b[0m in \u001b[0;36mcheck_absorbed\u001b[0;34m(x, variables)\u001b[0m\n\u001b[1;32m    424\u001b[0m         \u001b[0mabsorbed_variables\u001b[0m \u001b[0;34m=\u001b[0m \u001b[0;34m\"\\n\"\u001b[0m\u001b[0;34m.\u001b[0m\u001b[0mjoin\u001b[0m\u001b[0;34m(\u001b[0m\u001b[0mrows\u001b[0m\u001b[0;34m)\u001b[0m\u001b[0;34m\u001b[0m\u001b[0;34m\u001b[0m\u001b[0m\n\u001b[1;32m    425\u001b[0m         \u001b[0mmsg\u001b[0m \u001b[0;34m=\u001b[0m \u001b[0mabsorbing_error_msg\u001b[0m\u001b[0;34m.\u001b[0m\u001b[0mformat\u001b[0m\u001b[0;34m(\u001b[0m\u001b[0mabsorbed_variables\u001b[0m\u001b[0;34m=\u001b[0m\u001b[0mabsorbed_variables\u001b[0m\u001b[0;34m)\u001b[0m\u001b[0;34m\u001b[0m\u001b[0;34m\u001b[0m\u001b[0m\n\u001b[0;32m--> 426\u001b[0;31m         \u001b[0;32mraise\u001b[0m \u001b[0mAbsorbingEffectError\u001b[0m\u001b[0;34m(\u001b[0m\u001b[0mmsg\u001b[0m\u001b[0;34m)\u001b[0m\u001b[0;34m\u001b[0m\u001b[0;34m\u001b[0m\u001b[0m\n\u001b[0m\u001b[1;32m    427\u001b[0m \u001b[0;34m\u001b[0m\u001b[0m\n\u001b[1;32m    428\u001b[0m \u001b[0;34m\u001b[0m\u001b[0m\n",
      "\u001b[0;31mAbsorbingEffectError\u001b[0m: \nThe model cannot be estimated. The included effects have fully absorbed\none or more of the variables. This occurs when one or more of the dependent\nvariable is perfectly explained using the effects included in the model.\n\nThe following variables or variable combinations have been fully absorbed\nor have become perfectly collinear after effects are removed:\n\n          const, exper, expersq, union, married, year.1981, year.1982, year.1983, year.1984, year.1985, year.1986, year.1987\n\nSet drop_absorbed=True to automatically drop absorbed variables.\n"
     ]
    }
   ],
   "source": [
    "# Check what happens when you dont drop collinear exp\n",
    "from linearmodels.panel import PanelOLS\n",
    "exog_vars = ['exper','expersq', 'union', 'married', 'year']\n",
    "exog = sm.add_constant(data[exog_vars])\n",
    "mod = PanelOLS(data.lwage, exog, entity_effects=True)\n",
    "fe_res = mod.fit()\n",
    "print(fe_res)"
   ]
  },
  {
   "cell_type": "code",
   "execution_count": 11,
   "metadata": {},
   "outputs": [
    {
     "name": "stdout",
     "output_type": "stream",
     "text": [
      "                          PanelOLS Estimation Summary                           \n",
      "================================================================================\n",
      "Dep. Variable:                  lwage   R-squared:                        0.1806\n",
      "Estimator:                   PanelOLS   R-squared (Between):             -0.0528\n",
      "No. Observations:                4360   R-squared (Within):               0.1806\n",
      "Date:                Sun, May 03 2020   R-squared (Overall):              0.0552\n",
      "Time:                        11:33:26   Log-likelihood                   -1324.8\n",
      "Cov. Estimator:            Unadjusted                                           \n",
      "                                        F-statistic:                      83.851\n",
      "Entities:                         545   P-value                           0.0000\n",
      "Avg Obs:                       8.0000   Distribution:                 F(10,3805)\n",
      "Min Obs:                       8.0000                                           \n",
      "Max Obs:                       8.0000   F-statistic (robust):             83.851\n",
      "                                        P-value                           0.0000\n",
      "Time periods:                       8   Distribution:                 F(10,3805)\n",
      "Avg Obs:                       545.00                                           \n",
      "Min Obs:                       545.00                                           \n",
      "Max Obs:                       545.00                                           \n",
      "                                                                                \n",
      "                             Parameter Estimates                              \n",
      "==============================================================================\n",
      "            Parameter  Std. Err.     T-stat    P-value    Lower CI    Upper CI\n",
      "------------------------------------------------------------------------------\n",
      "const          1.0276     0.0299     34.312     0.0000      0.9689      1.0864\n",
      "exper          0.1321     0.0098     13.450     0.0000      0.1129      0.1514\n",
      "expersq       -0.0052     0.0007    -7.3612     0.0000     -0.0066     -0.0038\n",
      "union          0.0800     0.0193     4.1430     0.0000      0.0421      0.1179\n",
      "married        0.0467     0.0183     2.5494     0.0108      0.0108      0.0826\n",
      "year.1981      0.0190     0.0204     0.9353     0.3497     -0.0209      0.0590\n",
      "year.1982     -0.0113     0.0202    -0.5597     0.5757     -0.0510      0.0283\n",
      "year.1983     -0.0420     0.0203    -2.0667     0.0388     -0.0818     -0.0022\n",
      "year.1984     -0.0385     0.0203    -1.8938     0.0583     -0.0783      0.0014\n",
      "year.1985     -0.0432     0.0202    -2.1362     0.0327     -0.0829     -0.0036\n",
      "year.1986     -0.0274     0.0204    -1.3432     0.1793     -0.0674      0.0126\n",
      "==============================================================================\n",
      "\n",
      "F-test for Poolability: 9.6423\n",
      "P-value: 0.0000\n",
      "Distribution: F(544,3805)\n",
      "\n",
      "Included effects: Entity\n"
     ]
    },
    {
     "name": "stderr",
     "output_type": "stream",
     "text": [
      "/Users/pelly/opt/miniconda3/envs/geo_plotnine/lib/python3.8/site-packages/linearmodels/panel/model.py:1667: AbsorbingEffectWarning: \n",
      "Variables have been fully absorbed and have removed from the regression:\n",
      "\n",
      "year.1987\n",
      "\n",
      "  warnings.warn(\n"
     ]
    }
   ],
   "source": [
    "# Check what happens when you dont drop collinear exp\n",
    "\n",
    "########Answer: messy!!! ############ drops 1987....\n",
    "from linearmodels.panel import PanelOLS\n",
    "exog_vars = ['exper','expersq', 'union', 'married', 'year']\n",
    "exog = sm.add_constant(data[exog_vars])\n",
    "mod = PanelOLS(data.lwage, exog, entity_effects=True, drop_absorbed=True)\n",
    "fe_res = mod.fit()\n",
    "print(fe_res)\n",
    "\n",
    "\n"
   ]
  },
  {
   "cell_type": "code",
   "execution_count": 12,
   "metadata": {},
   "outputs": [
    {
     "name": "stdout",
     "output_type": "stream",
     "text": [
      "                          PanelOLS Estimation Summary                           \n",
      "================================================================================\n",
      "Dep. Variable:                  lwage   R-squared:                        0.1806\n",
      "Estimator:                   PanelOLS   R-squared (Between):             -0.0052\n",
      "No. Observations:                4360   R-squared (Within):               0.1806\n",
      "Date:                Sun, May 03 2020   R-squared (Overall):              0.0807\n",
      "Time:                        11:34:38   Log-likelihood                   -1324.8\n",
      "Cov. Estimator:            Unadjusted                                           \n",
      "                                        F-statistic:                      83.851\n",
      "Entities:                         545   P-value                           0.0000\n",
      "Avg Obs:                       8.0000   Distribution:                 F(10,3805)\n",
      "Min Obs:                       8.0000                                           \n",
      "Max Obs:                       8.0000   F-statistic (robust):             83.851\n",
      "                                        P-value                           0.0000\n",
      "Time periods:                       8   Distribution:                 F(10,3805)\n",
      "Avg Obs:                       545.00                                           \n",
      "Min Obs:                       545.00                                           \n",
      "Max Obs:                       545.00                                           \n",
      "                                                                                \n",
      "                             Parameter Estimates                              \n",
      "==============================================================================\n",
      "            Parameter  Std. Err.     T-stat    P-value    Lower CI    Upper CI\n",
      "------------------------------------------------------------------------------\n",
      "const          1.4260     0.0183     77.748     0.0000      1.3901      1.4620\n",
      "expersq       -0.0052     0.0007    -7.3612     0.0000     -0.0066     -0.0038\n",
      "union          0.0800     0.0193     4.1430     0.0000      0.0421      0.1179\n",
      "married        0.0467     0.0183     2.5494     0.0108      0.0108      0.0826\n",
      "year.1981      0.1512     0.0219     6.8883     0.0000      0.1082      0.1942\n",
      "year.1982      0.2530     0.0244     10.360     0.0000      0.2051      0.3008\n",
      "year.1983      0.3544     0.0292     12.121     0.0000      0.2971      0.4118\n",
      "year.1984      0.4901     0.0362     13.529     0.0000      0.4191      0.5611\n",
      "year.1985      0.6175     0.0452     13.648     0.0000      0.5288      0.7062\n",
      "year.1986      0.7655     0.0561     13.638     0.0000      0.6555      0.8755\n",
      "year.1987      0.9250     0.0688     13.450     0.0000      0.7902      1.0599\n",
      "==============================================================================\n",
      "\n",
      "F-test for Poolability: 9.1568\n",
      "P-value: 0.0000\n",
      "Distribution: F(544,3805)\n",
      "\n",
      "Included effects: Entity\n"
     ]
    },
    {
     "name": "stderr",
     "output_type": "stream",
     "text": [
      "/Users/pelly/opt/miniconda3/envs/geo_plotnine/lib/python3.8/site-packages/linearmodels/panel/model.py:1667: AbsorbingEffectWarning: \n",
      "Variables have been fully absorbed and have removed from the regression:\n",
      "\n",
      "exper\n",
      "\n",
      "  warnings.warn(\n"
     ]
    }
   ],
   "source": [
    "# Check what happens when you dont drop collinear exp\n",
    "\n",
    "########Answer: changing order, exper is the one droped......\n",
    "\n",
    "from linearmodels.panel import PanelOLS\n",
    "exog_vars = ['expersq', 'union', 'married', 'year', 'exper']\n",
    "exog = sm.add_constant(data[exog_vars])\n",
    "mod = PanelOLS(data.lwage, exog, entity_effects=True, drop_absorbed=True)\n",
    "fe_res = mod.fit()\n",
    "print(fe_res)\n",
    "\n",
    "\n"
   ]
  },
  {
   "cell_type": "markdown",
   "metadata": {},
   "source": [
    "### Time and entity fixed effects"
   ]
  },
  {
   "cell_type": "code",
   "execution_count": 14,
   "metadata": {},
   "outputs": [
    {
     "name": "stdout",
     "output_type": "stream",
     "text": [
      "                          PanelOLS Estimation Summary                           \n",
      "================================================================================\n",
      "Dep. Variable:                  lwage   R-squared:                        0.0216\n",
      "Estimator:                   PanelOLS   R-squared (Between):             -0.0052\n",
      "No. Observations:                4360   R-squared (Within):              -0.4809\n",
      "Date:                Sun, May 03 2020   R-squared (Overall):             -0.2253\n",
      "Time:                        11:40:34   Log-likelihood                   -1324.8\n",
      "Cov. Estimator:            Unadjusted                                           \n",
      "                                        F-statistic:                      27.959\n",
      "Entities:                         545   P-value                           0.0000\n",
      "Avg Obs:                       8.0000   Distribution:                  F(3,3805)\n",
      "Min Obs:                       8.0000                                           \n",
      "Max Obs:                       8.0000   F-statistic (robust):             27.959\n",
      "                                        P-value                           0.0000\n",
      "Time periods:                       8   Distribution:                  F(3,3805)\n",
      "Avg Obs:                       545.00                                           \n",
      "Min Obs:                       545.00                                           \n",
      "Max Obs:                       545.00                                           \n",
      "                                                                                \n",
      "                             Parameter Estimates                              \n",
      "==============================================================================\n",
      "            Parameter  Std. Err.     T-stat    P-value    Lower CI    Upper CI\n",
      "------------------------------------------------------------------------------\n",
      "const          1.8706     0.0378     49.430     0.0000      1.7964      1.9448\n",
      "expersq       -0.0052     0.0007    -7.3612     0.0000     -0.0066     -0.0038\n",
      "union          0.0800     0.0193     4.1430     0.0000      0.0421      0.1179\n",
      "married        0.0467     0.0183     2.5494     0.0108      0.0108      0.0826\n",
      "==============================================================================\n",
      "\n",
      "F-test for Poolability: 10.067\n",
      "P-value: 0.0000\n",
      "Distribution: F(551,3805)\n",
      "\n",
      "Included effects: Entity, Time\n"
     ]
    }
   ],
   "source": [
    "from linearmodels.panel import PanelOLS\n",
    "exog_vars = ['expersq','union','married']\n",
    "exog = sm.add_constant(data[exog_vars])\n",
    "mod = PanelOLS(data.lwage, exog, entity_effects=True, time_effects=True)\n",
    "fe_te_res = mod.fit()\n",
    "print(fe_te_res)"
   ]
  },
  {
   "cell_type": "markdown",
   "metadata": {},
   "source": [
    "# First differences\n",
    "First differencing is an alternative to using fixed effects when there might be correlation. When using first differences, time-invariant variables must be excluded. Additionally, only one linear time-trending variable can be included since this will look like a constant. This variable will soak up all time-trends in the data, and so interpretations of these variable can be challenging."
   ]
  },
  {
   "cell_type": "code",
   "execution_count": 15,
   "metadata": {},
   "outputs": [
    {
     "name": "stdout",
     "output_type": "stream",
     "text": [
      "                     FirstDifferenceOLS Estimation Summary                      \n",
      "================================================================================\n",
      "Dep. Variable:                  lwage   R-squared:                        0.0268\n",
      "Estimator:         FirstDifferenceOLS   R-squared (Between):              0.5491\n",
      "No. Observations:                3815   R-squared (Within):               0.1763\n",
      "Date:                Sun, May 03 2020   R-squared (Overall):              0.5328\n",
      "Time:                        11:40:56   Log-likelihood                   -2305.5\n",
      "Cov. Estimator:            Unadjusted                                           \n",
      "                                        F-statistic:                      26.208\n",
      "Entities:                         545   P-value                           0.0000\n",
      "Avg Obs:                       8.0000   Distribution:                  F(4,3811)\n",
      "Min Obs:                       8.0000                                           \n",
      "Max Obs:                       8.0000   F-statistic (robust):             26.208\n",
      "                                        P-value                           0.0000\n",
      "Time periods:                       8   Distribution:                  F(4,3811)\n",
      "Avg Obs:                       545.00                                           \n",
      "Min Obs:                       545.00                                           \n",
      "Max Obs:                       545.00                                           \n",
      "                                                                                \n",
      "                             Parameter Estimates                              \n",
      "==============================================================================\n",
      "            Parameter  Std. Err.     T-stat    P-value    Lower CI    Upper CI\n",
      "------------------------------------------------------------------------------\n",
      "exper          0.1158     0.0196     5.9096     0.0000      0.0773      0.1542\n",
      "expersq       -0.0039     0.0014    -2.8005     0.0051     -0.0066     -0.0012\n",
      "union          0.0428     0.0197     2.1767     0.0296      0.0042      0.0813\n",
      "married        0.0381     0.0229     1.6633     0.0963     -0.0068      0.0831\n",
      "==============================================================================\n"
     ]
    }
   ],
   "source": [
    "from linearmodels.panel import FirstDifferenceOLS\n",
    "exog_vars = ['exper','expersq', 'union', 'married']\n",
    "exog = data[exog_vars]\n",
    "mod = FirstDifferenceOLS(data.lwage, exog)\n",
    "fd_res = mod.fit()\n",
    "print(fd_res)"
   ]
  },
  {
   "cell_type": "markdown",
   "metadata": {},
   "source": [
    "## Compare models\n",
    "Model results can be compared using compare. compare accepts lists of results, a dictionary of results where the key is interpreted as the model name."
   ]
  },
  {
   "cell_type": "code",
   "execution_count": 17,
   "metadata": {},
   "outputs": [
    {
     "name": "stdout",
     "output_type": "stream",
     "text": [
      "                 Model Comparison                 \n",
      "==================================================\n",
      "                                   RE       Pooled\n",
      "--------------------------------------------------\n",
      "Dep. Variable                   lwage        lwage\n",
      "Estimator               RandomEffects    PooledOLS\n",
      "No. Observations                 4360         4360\n",
      "Cov. Est.                  Unadjusted   Unadjusted\n",
      "R-squared                      0.1806       0.1893\n",
      "R-Squared (Within)             0.1799       0.1692\n",
      "R-Squared (Between)            0.1853       0.2066\n",
      "R-Squared (Overall)            0.1828       0.1893\n",
      "F-statistic                    68.409       72.459\n",
      "P-value (F-stat)               0.0000       0.0000\n",
      "===================== =============== ============\n",
      "const                          0.0234       0.0921\n",
      "                             (0.1546)     (1.1761)\n",
      "black                         -0.1394      -0.1392\n",
      "                            (-2.9054)    (-5.9049)\n",
      "hisp                           0.0217       0.0160\n",
      "                             (0.5078)     (0.7703)\n",
      "exper                          0.1058       0.0672\n",
      "                             (6.8706)     (4.9095)\n",
      "expersq                       -0.0047      -0.0024\n",
      "                            (-6.8623)    (-2.9413)\n",
      "married                        0.0638       0.1083\n",
      "                             (3.8035)     (6.8997)\n",
      "educ                           0.0919       0.0913\n",
      "                             (8.5744)     (17.442)\n",
      "union                          0.1059       0.1825\n",
      "                             (5.9289)     (10.635)\n",
      "year.1981                      0.0404       0.0583\n",
      "                             (1.6362)     (1.9214)\n",
      "year.1982                      0.0309       0.0628\n",
      "                             (0.9519)     (1.8900)\n",
      "year.1983                      0.0202       0.0620\n",
      "                             (0.4840)     (1.6915)\n",
      "year.1984                      0.0430       0.0905\n",
      "                             (0.8350)     (2.2566)\n",
      "year.1985                      0.0577       0.1092\n",
      "                             (0.9383)     (2.5200)\n",
      "year.1986                      0.0918       0.1420\n",
      "                             (1.2834)     (3.0580)\n",
      "year.1987                      0.1348       0.1738\n",
      "                             (1.6504)     (3.5165)\n",
      "--------------------------------------------------\n",
      "\n",
      "T-stats reported in parentheses\n"
     ]
    }
   ],
   "source": [
    "from linearmodels.panel import compare\n",
    "print(compare({'RE':re_res,'Pooled':pooled_res}))"
   ]
  },
  {
   "cell_type": "markdown",
   "metadata": {},
   "source": [
    "## Heteroskedasticity Robust Covariance\n",
    "\n",
    "White’s robust covariance can be used by setting cov_type='robust. This estimator adds some robustness against certain types of specification issues but should not be used when using fixed effects (entity effects) since it is no longer robust. Instead a clustered covariance is required."
   ]
  },
  {
   "cell_type": "code",
   "execution_count": 18,
   "metadata": {},
   "outputs": [],
   "source": [
    "exog_vars = ['black','hisp','exper','expersq','married', 'educ', 'union']\n",
    "exog = sm.add_constant(data[exog_vars])\n",
    "mod = PooledOLS(data.lwage, exog)\n",
    "robust = mod.fit(cov_type='robust')"
   ]
  },
  {
   "cell_type": "markdown",
   "metadata": {},
   "source": [
    "## Clustered errors\n",
    "The usual variable to cluster are are entity or entity and time. The can be implemented using cov_type='clustered' and the additional keyword arguments cluster_entity=True and/or cluster_time=True.\n",
    "\n"
   ]
  },
  {
   "cell_type": "code",
   "execution_count": 19,
   "metadata": {},
   "outputs": [
    {
     "name": "stdout",
     "output_type": "stream",
     "text": [
      "                     Model Comparison                    \n",
      "=========================================================\n",
      "                           Robust      Entity Entity-Time\n",
      "---------------------------------------------------------\n",
      "Dep. Variable               lwage       lwage       lwage\n",
      "Estimator               PooledOLS   PooledOLS   PooledOLS\n",
      "No. Observations             4360        4360        4360\n",
      "Cov. Est.                  Robust   Clustered   Clustered\n",
      "R-squared                  0.1866      0.1866      0.1866\n",
      "R-Squared (Within)         0.1679      0.1679      0.1679\n",
      "R-Squared (Between)        0.2027      0.2027      0.2027\n",
      "R-Squared (Overall)        0.1866      0.1866      0.1866\n",
      "F-statistic                142.61      142.61      142.61\n",
      "P-value (F-stat)           0.0000      0.0000      0.0000\n",
      "===================== =========== =========== ===========\n",
      "const                     -0.0347     -0.0347     -0.0347\n",
      "                        (-0.5360)   (-0.2892)   (-0.3145)\n",
      "black                     -0.1438     -0.1438     -0.1438\n",
      "                        (-5.9045)   (-2.8727)   (-3.0067)\n",
      "hisp                       0.0157      0.0157      0.0157\n",
      "                         (0.7952)    (0.4008)    (0.4428)\n",
      "exper                      0.0892      0.0892      0.0892\n",
      "                         (8.7881)    (7.1728)    (6.3223)\n",
      "expersq                   -0.0028     -0.0028     -0.0028\n",
      "                        (-4.1934)   (-3.2747)   (-3.1571)\n",
      "married                    0.1077      0.1077      0.1077\n",
      "                         (7.0525)    (4.1314)    (4.8989)\n",
      "educ                       0.0994      0.0994      0.0994\n",
      "                         (21.626)    (10.802)    (12.296)\n",
      "union                      0.1801      0.1801      0.1801\n",
      "                         (11.087)    (6.5343)    (6.6732)\n",
      "---------------------------------------------------------\n",
      "\n",
      "T-stats reported in parentheses\n"
     ]
    }
   ],
   "source": [
    "clust_entity = mod.fit(cov_type='clustered', cluster_entity=True)\n",
    "clust_entity_time = mod.fit(cov_type='clustered', cluster_entity=True, cluster_time=True)\n",
    "from collections import OrderedDict\n",
    "res = OrderedDict()\n",
    "res['Robust'] = robust\n",
    "res['Entity'] = clust_entity\n",
    "res['Entity-Time'] = clust_entity_time\n",
    "print(compare(res))"
   ]
  },
  {
   "cell_type": "code",
   "execution_count": 21,
   "metadata": {},
   "outputs": [
    {
     "name": "stdout",
     "output_type": "stream",
     "text": [
      "5    934\n",
      "6    881\n",
      "9    509\n",
      "4    486\n",
      "1    453\n",
      "7    401\n",
      "2    399\n",
      "3    233\n",
      "8     64\n",
      "Name: occupation, dtype: int64\n",
      "                          PooledOLS Estimation Summary                          \n",
      "================================================================================\n",
      "Dep. Variable:                  lwage   R-squared:                        0.1866\n",
      "Estimator:                  PooledOLS   R-squared (Between):              0.2027\n",
      "No. Observations:                4360   R-squared (Within):               0.1679\n",
      "Date:                Sun, May 03 2020   R-squared (Overall):              0.1866\n",
      "Time:                        11:46:57   Log-likelihood                   -2989.2\n",
      "Cov. Estimator:             Clustered                                           \n",
      "                                        F-statistic:                      142.61\n",
      "Entities:                         545   P-value                           0.0000\n",
      "Avg Obs:                       8.0000   Distribution:                  F(7,4352)\n",
      "Min Obs:                       8.0000                                           \n",
      "Max Obs:                       8.0000   F-statistic (robust):             116.58\n",
      "                                        P-value                           0.0000\n",
      "Time periods:                       8   Distribution:                  F(7,4352)\n",
      "Avg Obs:                       545.00                                           \n",
      "Min Obs:                       545.00                                           \n",
      "Max Obs:                       545.00                                           \n",
      "                                                                                \n",
      "                             Parameter Estimates                              \n",
      "==============================================================================\n",
      "            Parameter  Std. Err.     T-stat    P-value    Lower CI    Upper CI\n",
      "------------------------------------------------------------------------------\n",
      "const         -0.0347     0.1479    -0.2346     0.8145     -0.3247      0.2553\n",
      "black         -0.1438     0.0297    -4.8469     0.0000     -0.2020     -0.0857\n",
      "hisp           0.0157     0.0266     0.5892     0.5557     -0.0365      0.0679\n",
      "exper          0.0892     0.0134     6.6513     0.0000      0.0629      0.1155\n",
      "expersq       -0.0028     0.0009    -3.2442     0.0012     -0.0046     -0.0011\n",
      "married        0.1077     0.0139     7.7322     0.0000      0.0804      0.1350\n",
      "educ           0.0994     0.0112     8.8846     0.0000      0.0775      0.1213\n",
      "union          0.1801     0.0320     5.6323     0.0000      0.1174      0.2428\n",
      "==============================================================================\n"
     ]
    }
   ],
   "source": [
    "### Other clusters not entity or time \n",
    "#Be aware, small number of clusters are not advisable\n",
    "clust_entity = mod.fit(cov_type='clustered', clusters=data.occupation)\n",
    "print(data.occupation.value_counts())\n",
    "print(clust_entity)"
   ]
  },
  {
   "cell_type": "markdown",
   "metadata": {},
   "source": [
    "## Using 'patsy' formulas"
   ]
  },
  {
   "cell_type": "code",
   "execution_count": 22,
   "metadata": {},
   "outputs": [
    {
     "name": "stdout",
     "output_type": "stream",
     "text": [
      "                       invest   value  capital\n",
      "firm           year                           \n",
      "General Motors 1935.0   317.6  3078.5      2.8\n",
      "               1936.0   391.8  4661.7     52.6\n",
      "               1937.0   410.6  5387.1    156.9\n",
      "               1938.0   257.7  2792.2    209.2\n",
      "               1939.0   330.8  4313.2    203.4\n"
     ]
    }
   ],
   "source": [
    "from statsmodels.datasets import grunfeld\n",
    "data = grunfeld.load_pandas().data\n",
    "data = data.set_index(['firm','year'])\n",
    "print(data.head())"
   ]
  },
  {
   "cell_type": "code",
   "execution_count": 23,
   "metadata": {},
   "outputs": [
    {
     "name": "stdout",
     "output_type": "stream",
     "text": [
      "                          PanelOLS Estimation Summary                           \n",
      "================================================================================\n",
      "Dep. Variable:                 invest   R-squared:                        0.7667\n",
      "Estimator:                   PanelOLS   R-squared (Between):              0.8223\n",
      "No. Observations:                 220   R-squared (Within):               0.7667\n",
      "Date:                Sun, May 03 2020   R-squared (Overall):              0.8132\n",
      "Time:                        11:54:32   Log-likelihood                   -1167.4\n",
      "Cov. Estimator:            Unadjusted                                           \n",
      "                                        F-statistic:                      340.08\n",
      "Entities:                          11   P-value                           0.0000\n",
      "Avg Obs:                       20.000   Distribution:                   F(2,207)\n",
      "Min Obs:                       20.000                                           \n",
      "Max Obs:                       20.000   F-statistic (robust):             340.08\n",
      "                                        P-value                           0.0000\n",
      "Time periods:                      20   Distribution:                   F(2,207)\n",
      "Avg Obs:                       11.000                                           \n",
      "Min Obs:                       11.000                                           \n",
      "Max Obs:                       11.000                                           \n",
      "                                                                                \n",
      "                             Parameter Estimates                              \n",
      "==============================================================================\n",
      "            Parameter  Std. Err.     T-stat    P-value    Lower CI    Upper CI\n",
      "------------------------------------------------------------------------------\n",
      "value          0.1101     0.0113     9.7461     0.0000      0.0879      0.1324\n",
      "capital        0.3100     0.0165     18.744     0.0000      0.2774      0.3426\n",
      "==============================================================================\n",
      "\n",
      "F-test for Poolability: 49.207\n",
      "P-value: 0.0000\n",
      "Distribution: F(10,207)\n",
      "\n",
      "Included effects: Entity\n"
     ]
    }
   ],
   "source": [
    "from linearmodels import PanelOLS\n",
    "mod = PanelOLS.from_formula('invest ~ value + capital + EntityEffects', data=data)\n",
    "print(mod.fit())"
   ]
  },
  {
   "cell_type": "code",
   "execution_count": 24,
   "metadata": {},
   "outputs": [
    {
     "name": "stdout",
     "output_type": "stream",
     "text": [
      "                          PanelOLS Estimation Summary                           \n",
      "================================================================================\n",
      "Dep. Variable:                 invest   R-squared:                        0.7667\n",
      "Estimator:                   PanelOLS   R-squared (Between):              0.8193\n",
      "No. Observations:                 220   R-squared (Within):               0.7667\n",
      "Date:                Sun, May 03 2020   R-squared (Overall):              0.8071\n",
      "Time:                        11:54:44   Log-likelihood                   -1167.4\n",
      "Cov. Estimator:            Unadjusted                                           \n",
      "                                        F-statistic:                      340.08\n",
      "Entities:                          11   P-value                           0.0000\n",
      "Avg Obs:                       20.000   Distribution:                   F(2,207)\n",
      "Min Obs:                       20.000                                           \n",
      "Max Obs:                       20.000   F-statistic (robust):             340.08\n",
      "                                        P-value                           0.0000\n",
      "Time periods:                      20   Distribution:                   F(2,207)\n",
      "Avg Obs:                       11.000                                           \n",
      "Min Obs:                       11.000                                           \n",
      "Max Obs:                       11.000                                           \n",
      "                                                                                \n",
      "                             Parameter Estimates                              \n",
      "==============================================================================\n",
      "            Parameter  Std. Err.     T-stat    P-value    Lower CI    Upper CI\n",
      "------------------------------------------------------------------------------\n",
      "Intercept     -55.272     10.891    -5.0750     0.0000     -76.743     -33.800\n",
      "value          0.1101     0.0113     9.7461     0.0000      0.0879      0.1324\n",
      "capital        0.3100     0.0165     18.744     0.0000      0.2774      0.3426\n",
      "==============================================================================\n",
      "\n",
      "F-test for Poolability: 49.207\n",
      "P-value: 0.0000\n",
      "Distribution: F(10,207)\n",
      "\n",
      "Included effects: Entity\n"
     ]
    }
   ],
   "source": [
    "mod = PanelOLS.from_formula('invest ~ 1 + value + capital + EntityEffects', data=data)\n",
    "print(mod.fit())"
   ]
  },
  {
   "cell_type": "code",
   "execution_count": 25,
   "metadata": {},
   "outputs": [
    {
     "name": "stdout",
     "output_type": "stream",
     "text": [
      "                          PanelOLS Estimation Summary                           \n",
      "================================================================================\n",
      "Dep. Variable:                 invest   R-squared:                        0.7253\n",
      "Estimator:                   PanelOLS   R-squared (Between):              0.7944\n",
      "No. Observations:                 220   R-squared (Within):               0.7566\n",
      "Date:                Sun, May 03 2020   R-squared (Overall):              0.7856\n",
      "Time:                        11:55:01   Log-likelihood                   -1153.0\n",
      "Cov. Estimator:            Unadjusted                                           \n",
      "                                        F-statistic:                      248.15\n",
      "Entities:                          11   P-value                           0.0000\n",
      "Avg Obs:                       20.000   Distribution:                   F(2,188)\n",
      "Min Obs:                       20.000                                           \n",
      "Max Obs:                       20.000   F-statistic (robust):             248.15\n",
      "                                        P-value                           0.0000\n",
      "Time periods:                      20   Distribution:                   F(2,188)\n",
      "Avg Obs:                       11.000                                           \n",
      "Min Obs:                       11.000                                           \n",
      "Max Obs:                       11.000                                           \n",
      "                                                                                \n",
      "                             Parameter Estimates                              \n",
      "==============================================================================\n",
      "            Parameter  Std. Err.     T-stat    P-value    Lower CI    Upper CI\n",
      "------------------------------------------------------------------------------\n",
      "Intercept     -72.394     12.732    -5.6861     0.0000     -97.509     -47.278\n",
      "value          0.1167     0.0129     9.0219     0.0000      0.0912      0.1422\n",
      "capital        0.3514     0.0210     16.696     0.0000      0.3099      0.3930\n",
      "==============================================================================\n",
      "\n",
      "F-test for Poolability: 18.476\n",
      "P-value: 0.0000\n",
      "Distribution: F(29,188)\n",
      "\n",
      "Included effects: Entity, Time\n"
     ]
    }
   ],
   "source": [
    "mod = PanelOLS.from_formula('invest ~ 1 + value + capital + EntityEffects + TimeEffects', data=data)\n",
    "print(mod.fit())"
   ]
  },
  {
   "cell_type": "code",
   "execution_count": 26,
   "metadata": {},
   "outputs": [
    {
     "name": "stdout",
     "output_type": "stream",
     "text": [
      "                         BetweenOLS Estimation Summary                          \n",
      "================================================================================\n",
      "Dep. Variable:                 invest   R-squared:                        0.8644\n",
      "Estimator:                 BetweenOLS   R-squared (Between):              0.8644\n",
      "No. Observations:                  11   R-squared (Within):               0.4195\n",
      "Date:                Sun, May 03 2020   R-squared (Overall):              0.7616\n",
      "Time:                        11:55:20   Log-likelihood                   -61.997\n",
      "Cov. Estimator:            Unadjusted                                           \n",
      "                                        F-statistic:                      25.500\n",
      "Entities:                          11   P-value                           0.0003\n",
      "Avg Obs:                       20.000   Distribution:                     F(2,8)\n",
      "Min Obs:                       20.000                                           \n",
      "Max Obs:                       20.000   F-statistic (robust):             25.500\n",
      "                                        P-value                           0.0003\n",
      "Time periods:                      20   Distribution:                     F(2,8)\n",
      "Avg Obs:                       11.000                                           \n",
      "Min Obs:                       11.000                                           \n",
      "Max Obs:                       11.000                                           \n",
      "                                                                                \n",
      "                             Parameter Estimates                              \n",
      "==============================================================================\n",
      "            Parameter  Std. Err.     T-stat    P-value    Lower CI    Upper CI\n",
      "------------------------------------------------------------------------------\n",
      "Intercept     -7.3825     40.444    -0.1825     0.8597     -100.65      85.881\n",
      "value          0.1346     0.0269     5.0065     0.0010      0.0726      0.1966\n",
      "capital        0.0297     0.1746     0.1700     0.8692     -0.3730      0.4323\n",
      "==============================================================================\n"
     ]
    }
   ],
   "source": [
    "from linearmodels import BetweenOLS, FirstDifferenceOLS, PooledOLS\n",
    "mod = BetweenOLS.from_formula('invest ~ 1 + value + capital', data=data)\n",
    "print(mod.fit())"
   ]
  },
  {
   "cell_type": "code",
   "execution_count": 27,
   "metadata": {},
   "outputs": [
    {
     "name": "stdout",
     "output_type": "stream",
     "text": [
      "                          PooledOLS Estimation Summary                          \n",
      "================================================================================\n",
      "Dep. Variable:                 invest   R-squared:                        0.8179\n",
      "Estimator:                  PooledOLS   R-squared (Between):              0.8426\n",
      "No. Observations:                 220   R-squared (Within):               0.7357\n",
      "Date:                Sun, May 03 2020   R-squared (Overall):              0.8179\n",
      "Time:                        11:55:29   Log-likelihood                   -1301.3\n",
      "Cov. Estimator:            Unadjusted                                           \n",
      "                                        F-statistic:                      487.28\n",
      "Entities:                          11   P-value                           0.0000\n",
      "Avg Obs:                       20.000   Distribution:                   F(2,217)\n",
      "Min Obs:                       20.000                                           \n",
      "Max Obs:                       20.000   F-statistic (robust):             487.28\n",
      "                                        P-value                           0.0000\n",
      "Time periods:                      20   Distribution:                   F(2,217)\n",
      "Avg Obs:                       11.000                                           \n",
      "Min Obs:                       11.000                                           \n",
      "Max Obs:                       11.000                                           \n",
      "                                                                                \n",
      "                             Parameter Estimates                              \n",
      "==============================================================================\n",
      "            Parameter  Std. Err.     T-stat    P-value    Lower CI    Upper CI\n",
      "------------------------------------------------------------------------------\n",
      "Intercept     -38.410     8.4134    -4.5654     0.0000     -54.992     -21.828\n",
      "value          0.1145     0.0055     20.753     0.0000      0.1037      0.1254\n",
      "capital        0.2275     0.0242     9.3904     0.0000      0.1798      0.2753\n",
      "==============================================================================\n"
     ]
    }
   ],
   "source": [
    "mod = PooledOLS.from_formula('invest ~ 1 + value + capital', data=data)\n",
    "print(mod.fit())"
   ]
  },
  {
   "cell_type": "code",
   "execution_count": null,
   "metadata": {},
   "outputs": [],
   "source": []
  }
 ],
 "metadata": {
  "kernelspec": {
   "display_name": "Python 3",
   "language": "python",
   "name": "python3"
  },
  "language_info": {
   "codemirror_mode": {
    "name": "ipython",
    "version": 3
   },
   "file_extension": ".py",
   "mimetype": "text/x-python",
   "name": "python",
   "nbconvert_exporter": "python",
   "pygments_lexer": "ipython3",
   "version": "3.8.2"
  }
 },
 "nbformat": 4,
 "nbformat_minor": 4
}
